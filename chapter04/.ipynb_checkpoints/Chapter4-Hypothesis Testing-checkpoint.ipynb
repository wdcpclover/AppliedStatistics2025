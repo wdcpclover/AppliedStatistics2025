{
 "cells": [
  {
   "cell_type": "markdown",
   "metadata": {
    "slideshow": {
     "slide_type": "slide"
    }
   },
   "source": [
    "# Chapter04 Hypothesis Testing"
   ]
  },
  {
   "cell_type": "markdown",
   "metadata": {
    "slideshow": {
     "slide_type": "slide"
    }
   },
   "source": [
    "* In this tutorial, you will discover a cheatsheet for the most popular statistical hypothesis tests for a machine learning project with examples using the Python.\n",
    "\n",
    "* Each statistical test is presented in a consistent way, including:\n",
    "\n",
    ">The name of the test.<br>\n",
    "What the test is checking.<br>\n",
    "The key assumptions of the test.<br>\n",
    "How the test result is interpreted.<br>\n",
    "Python API for using the test."
   ]
  },
  {
   "cell_type": "code",
   "execution_count": 1,
   "metadata": {
    "slideshow": {
     "slide_type": "slide"
    }
   },
   "outputs": [],
   "source": [
    "import pandas as pd\n",
    "import numpy as np  \n",
    "import seaborn as sns\n",
    "\n",
    "import statsmodels as sm\n",
    "from scipy import stats"
   ]
  },
  {
   "cell_type": "markdown",
   "metadata": {
    "slideshow": {
     "slide_type": "slide"
    }
   },
   "source": [
    "## 4.1 Parametric Statistical Hypothesis Tests\n",
    "* Parametric statistical methods assume that the data has a known and specific distribution, often a Gaussian distribution. \n",
    "* If a data sample is not Gaussian, then the assumptions of parametric statistical tests are violated and nonparametric statistical methods must be used."
   ]
  },
  {
   "cell_type": "markdown",
   "metadata": {
    "slideshow": {
     "slide_type": "slide"
    }
   },
   "source": [
    "### 4.1.1 Z-test\n",
    "* Z-test for the mean of ONE sample（$\\sigma$ known）\n",
    "* Z-test for the Proportion"
   ]
  },
  {
   "cell_type": "markdown",
   "metadata": {
    "slideshow": {
     "slide_type": "slide"
    }
   },
   "source": [
    "#### （1）Z-test for the mean of ONE sample （$\\sigma$ known）\n",
    "* Tests whether the mean of one sample is equal to some value.\n",
    "* Assumptions\n",
    "> * Observations in the sample is normally distributed.\n",
    "> * The standard deviation $\\sigma$ is known"
   ]
  },
  {
   "cell_type": "markdown",
   "metadata": {
    "slideshow": {
     "slide_type": "slide"
    }
   },
   "source": [
    "* Interpretation\n",
    "\n",
    "> * H0: the mean of the population is equal to some value.\n",
    "> * H1: the mean of the population is not equal to the value."
   ]
  },
  {
   "cell_type": "markdown",
   "metadata": {
    "slideshow": {
     "slide_type": "slide"
    }
   },
   "source": [
    "* Python Code\n",
    "\n",
    ">* statsmodels.stats.weightstats.ztest(x1, value=0, alternative='two-sided')\n",
    "\n",
    "**alternative**: 'two-sided', 'smaller' means that the alternative hypothesis is prop<value, 'larger' means prop>value.\n",
    "\n",
    "https://www.statsmodels.org/stable/generated/statsmodels.stats.weightstats.ztest.html?highlight=ztest#statsmodels.stats.weightstats.ztest"
   ]
  },
  {
   "cell_type": "markdown",
   "metadata": {
    "slideshow": {
     "slide_type": "slide"
    }
   },
   "source": [
    "**<font color = red>Example1</font>**\n",
    "\n",
    "The average cost of a hotel room in New York is said to be 295 dollars per night.  To determine if this is true, a random sample of 50 hotels is taken. Test the appropriate hypotheses at 0.05.($\\sigma = 12$)"
   ]
  },
  {
   "cell_type": "markdown",
   "metadata": {
    "slideshow": {
     "slide_type": "fragment"
    }
   },
   "source": [
    "$H_0 : \\mu =295$ <br>     $ H_1: \\mu \\neq295 $"
   ]
  },
  {
   "cell_type": "code",
   "execution_count": 2,
   "metadata": {
    "slideshow": {
     "slide_type": "slide"
    }
   },
   "outputs": [
    {
     "data": {
      "text/plain": [
       "(array([1.62733682]), array([0.10366558]))"
      ]
     },
     "execution_count": 2,
     "metadata": {},
     "output_type": "execute_result"
    }
   ],
   "source": [
    "# Two-tail test\n",
    "hotel = pd.read_excel('examples/hotel.xlsx',header=None)\n",
    "from statsmodels.stats import weightstats\n",
    "weightstats.ztest(hotel, value=295, alternative='two-sided')\n",
    "# p-value=0.1>0.05, can not reject the null hypothesis."
   ]
  },
  {
   "cell_type": "code",
   "execution_count": 3,
   "metadata": {
    "slideshow": {
     "slide_type": "fragment"
    }
   },
   "outputs": [
    {
     "data": {
      "text/plain": [
       "(array([1.62733682]), array([0.05183279]))"
      ]
     },
     "execution_count": 3,
     "metadata": {},
     "output_type": "execute_result"
    }
   ],
   "source": [
    "# One-tail test \n",
    "# 'smaller' means that the alternative hypothesis is prop<value and 'larger' means prop>value.\n",
    "sm.stats.weightstats.ztest(hotel, value=295, alternative='larger')\n",
    "# p-value=0.052>0.05, can not reject the null hypothesis."
   ]
  },
  {
   "cell_type": "markdown",
   "metadata": {
    "slideshow": {
     "slide_type": "fragment"
    }
   },
   "source": [
    "There is not sufficient evidence to support that the average cost of a hotel room in New York is euqal to or larger than 295 dollars per night."
   ]
  },
  {
   "cell_type": "markdown",
   "metadata": {
    "slideshow": {
     "slide_type": "slide"
    }
   },
   "source": [
    "#### （2） Z-test for the Proportion\n",
    "* One Sample: tests the sample proportion in the category of interest is equal to some value. \n",
    "* Two Samples: tests whether the proportions of two independent samples are significantly different."
   ]
  },
  {
   "cell_type": "markdown",
   "metadata": {
    "slideshow": {
     "slide_type": "slide"
    }
   },
   "source": [
    "* Assumptions\n",
    "> * Observations in each sample are independent and identically distributed (iid).<br>\n",
    "> * Observations in the sample is normally distributed.\n",
    "> * Sufficient observations in both: $n\\pi \\geq 5$ and $n(1-\\pi) \\geq 5$"
   ]
  },
  {
   "cell_type": "markdown",
   "metadata": {
    "slideshow": {
     "slide_type": "slide"
    }
   },
   "source": [
    "* Interpretation\n",
    "\n",
    "One sample:\n",
    "> * H0: the proportion in the category of interest is equal to some value.\n",
    "> * H1: the proportion in the category of interest is not equal to the value.\n",
    "\n",
    "Two Samples:\n",
    "> * H0: the proportions of the samples are equal.\n",
    "> * H1: the proportions of the samples are unequal."
   ]
  },
  {
   "cell_type": "markdown",
   "metadata": {
    "slideshow": {
     "slide_type": "slide"
    }
   },
   "source": [
    "* Python Code\n",
    "\n",
    "One sample:\n",
    ">* statsmodels.stats.proportion.proportions_ztest(count, nobs, value=None, alternative='two-sided')\n",
    "\n",
    "https://www.statsmodels.org/stable/generated/statsmodels.stats.proportion.proportions_ztest.html#statsmodels.stats.proportion.proportions_ztest\n",
    "\n",
    "Two Samples:\n",
    ">* statsmodels.stats.weightstats.ztest(x1, x2, value=0, usevar='pooled',alternative='two-sided')\n",
    "\n",
    "**usevar**: If 'pooled', then the standard deviation of the samples is assumed to be the same. If 'unequal', then the standard deviation of the sample is assumed to be different.\n",
    "\n",
    "https://www.statsmodels.org/stable/generated/statsmodels.stats.weightstats.ztest.html?highlight=ztest#statsmodels.stats.weightstats.ztest\n",
    "\n",
    "\n"
   ]
  },
  {
   "cell_type": "markdown",
   "metadata": {
    "slideshow": {
     "slide_type": "slide"
    }
   },
   "source": [
    "**<font color = red>Example2</font>**\n",
    "\n",
    "A marketing company claims that it receives 8% responses from its mailing.  To test this claim, a random sample of 500 were surveyed  with 25 responses.  Test at the 0.05 significance level."
   ]
  },
  {
   "cell_type": "markdown",
   "metadata": {
    "slideshow": {
     "slide_type": "fragment"
    }
   },
   "source": [
    "$H_0 : \\pi =0.08$  \n",
    "\n",
    "$ H_1: \\pi \\neq 0.08 $"
   ]
  },
  {
   "cell_type": "code",
   "execution_count": 4,
   "metadata": {
    "slideshow": {
     "slide_type": "slide"
    }
   },
   "outputs": [
    {
     "data": {
      "text/plain": [
       "(-3.077935056255462, 0.0020844033533819087)"
      ]
     },
     "execution_count": 4,
     "metadata": {},
     "output_type": "execute_result"
    }
   ],
   "source": [
    "n = 500\n",
    "responses = 25\n",
    "h0 = 0.08\n",
    "from statsmodels.stats import proportion\n",
    "proportion.proportions_ztest(responses, n, value=h0, alternative='two-sided')\n",
    "# p-value=0.002<0.05, reject null hypothesis"
   ]
  },
  {
   "cell_type": "markdown",
   "metadata": {
    "slideshow": {
     "slide_type": "fragment"
    }
   },
   "source": [
    "There is sufficient evidence to reject the company’s claim of 8% response rate."
   ]
  },
  {
   "cell_type": "markdown",
   "metadata": {
    "slideshow": {
     "slide_type": "slide"
    }
   },
   "source": [
    "**<font color = red>Example3</font>**\n",
    "\n",
    "Is there a significant difference between the proportion of men and the proportion of women who will vote Yes on Proposition A?\n",
    "* In a random sample, 36 of 72 men and 31 of 50 women indicated they would vote Yes\n",
    "* Test at the 0.05 level of significance\n"
   ]
  },
  {
   "cell_type": "code",
   "execution_count": 5,
   "metadata": {
    "slideshow": {
     "slide_type": "fragment"
    }
   },
   "outputs": [
    {
     "data": {
      "text/html": [
       "<div>\n",
       "<style scoped>\n",
       "    .dataframe tbody tr th:only-of-type {\n",
       "        vertical-align: middle;\n",
       "    }\n",
       "\n",
       "    .dataframe tbody tr th {\n",
       "        vertical-align: top;\n",
       "    }\n",
       "\n",
       "    .dataframe thead th {\n",
       "        text-align: right;\n",
       "    }\n",
       "</style>\n",
       "<table border=\"1\" class=\"dataframe\">\n",
       "  <thead>\n",
       "    <tr style=\"text-align: right;\">\n",
       "      <th></th>\n",
       "      <th>men</th>\n",
       "      <th>women</th>\n",
       "    </tr>\n",
       "  </thead>\n",
       "  <tbody>\n",
       "    <tr>\n",
       "      <th>66</th>\n",
       "      <td>0</td>\n",
       "      <td>NaN</td>\n",
       "    </tr>\n",
       "    <tr>\n",
       "      <th>6</th>\n",
       "      <td>1</td>\n",
       "      <td>1.0</td>\n",
       "    </tr>\n",
       "    <tr>\n",
       "      <th>57</th>\n",
       "      <td>0</td>\n",
       "      <td>NaN</td>\n",
       "    </tr>\n",
       "    <tr>\n",
       "      <th>50</th>\n",
       "      <td>0</td>\n",
       "      <td>NaN</td>\n",
       "    </tr>\n",
       "    <tr>\n",
       "      <th>69</th>\n",
       "      <td>0</td>\n",
       "      <td>NaN</td>\n",
       "    </tr>\n",
       "  </tbody>\n",
       "</table>\n",
       "</div>"
      ],
      "text/plain": [
       "    men  women\n",
       "66    0    NaN\n",
       "6     1    1.0\n",
       "57    0    NaN\n",
       "50    0    NaN\n",
       "69    0    NaN"
      ]
     },
     "execution_count": 5,
     "metadata": {},
     "output_type": "execute_result"
    }
   ],
   "source": [
    "vote = pd.read_excel('examples/vote.xlsx')\n",
    "men=vote['men'].dropna()\n",
    "women=vote['women'].dropna()\n",
    "vote.sample(5)"
   ]
  },
  {
   "cell_type": "markdown",
   "metadata": {
    "slideshow": {
     "slide_type": "slide"
    }
   },
   "source": [
    "$H_0: \\pi_1 - \\pi_2 = 0$   \n",
    "$H_1: \\pi_1 - \\pi_2 \\neq 0$"
   ]
  },
  {
   "cell_type": "code",
   "execution_count": 6,
   "metadata": {
    "slideshow": {
     "slide_type": "fragment"
    }
   },
   "outputs": [
    {
     "data": {
      "text/plain": [
       "(-1.3085214836925543, 0.190696492590683)"
      ]
     },
     "execution_count": 6,
     "metadata": {},
     "output_type": "execute_result"
    }
   ],
   "source": [
    "sm.stats.weightstats.ztest(men, women, value=0, alternative='two-sided', usevar='pooled', ddof=1.0)\n",
    "# p-value=0.19>0.05, can not reject the null hypothesis."
   ]
  },
  {
   "cell_type": "markdown",
   "metadata": {
    "slideshow": {
     "slide_type": "fragment"
    }
   },
   "source": [
    "Do not reject $H_0$. There is not  significant evidence of a difference in proportions who will vote yes between men and women."
   ]
  },
  {
   "cell_type": "markdown",
   "metadata": {
    "slideshow": {
     "slide_type": "slide"
    }
   },
   "source": [
    "### 4.1.2 Student’s t-Test\n",
    "* Tests for the mean of ONE group.\n",
    "* Tests whether the means of TWO independent samples are significantly different.\n",
    "* Tests whether the means of TWO paired samples are significantly different."
   ]
  },
  {
   "cell_type": "markdown",
   "metadata": {
    "slideshow": {
     "slide_type": "slide"
    }
   },
   "source": [
    "#### （1）T-test for the mean of ONE sample （$\\sigma$ unknown）\n",
    "* Tests whether the mean of one sample is equal to some value.\n",
    "* Assumptions\n",
    "> * Observations in the sample is normally distributed.\n",
    "> * The standard deviation $\\sigma$ is unknown\n"
   ]
  },
  {
   "cell_type": "markdown",
   "metadata": {
    "slideshow": {
     "slide_type": "slide"
    }
   },
   "source": [
    "* Interpretation\n",
    "\n",
    "> * H0: the mean of the population is equal to some value.\n",
    "> * H1: the mean of the population is not equal to the value."
   ]
  },
  {
   "cell_type": "markdown",
   "metadata": {
    "slideshow": {
     "slide_type": "slide"
    }
   },
   "source": [
    "* Python Code\n",
    "\n",
    ">* scipy.stats.ttest_1samp(a, popmean, alternative='two-sided')\n",
    "\n",
    "**alternative**: Defines the alternative hypothesis. ‘two-sided’, ‘less’, ‘greater’\n",
    "\n",
    "https://scipy.github.io/devdocs/reference/generated/scipy.stats.ttest_1samp.html#scipy.stats.ttest_1samp"
   ]
  },
  {
   "cell_type": "markdown",
   "metadata": {
    "slideshow": {
     "slide_type": "slide"
    }
   },
   "source": [
    "**<font color = red>Example4</font>**\n",
    "\n",
    "The average cost of a hotel room in New York is said to be 295 dollars per night.  To determine if this is true, a random sample of 50 hotels is taken. Test the appropriate hypotheses at 0.05."
   ]
  },
  {
   "cell_type": "markdown",
   "metadata": {
    "slideshow": {
     "slide_type": "slide"
    }
   },
   "source": [
    "$H_0 : \\mu =295$ <br>     $ H_1: \\mu \\neq295 $"
   ]
  },
  {
   "cell_type": "code",
   "execution_count": 7,
   "metadata": {
    "slideshow": {
     "slide_type": "slide"
    }
   },
   "outputs": [
    {
     "data": {
      "text/plain": [
       "TtestResult(statistic=array([1.62733682]), pvalue=array([0.11007986]), df=array([49]))"
      ]
     },
     "execution_count": 7,
     "metadata": {},
     "output_type": "execute_result"
    }
   ],
   "source": [
    "# Two-tail test\n",
    "from scipy import stats\n",
    "stats.ttest_1samp(hotel, 295, alternative='two-sided')\n",
    "# p-value=0.11>0.05, can not reject the null hypothesis."
   ]
  },
  {
   "cell_type": "code",
   "execution_count": 8,
   "metadata": {
    "slideshow": {
     "slide_type": "fragment"
    }
   },
   "outputs": [
    {
     "data": {
      "text/plain": [
       "TtestResult(statistic=array([1.62733682]), pvalue=array([0.05503993]), df=array([49]))"
      ]
     },
     "execution_count": 8,
     "metadata": {},
     "output_type": "execute_result"
    }
   ],
   "source": [
    "# One-tail test \n",
    "# 'less' means that the alternative hypothesis is prop<value and 'greater' means prop>value.\n",
    "stats.ttest_1samp(hotel, 295, alternative='greater')\n",
    "# p-value=0.055>0.05, can not reject the null hypothesis."
   ]
  },
  {
   "cell_type": "markdown",
   "metadata": {
    "slideshow": {
     "slide_type": "fragment"
    }
   },
   "source": [
    "There is not sufficient evidence to support that the average cost of a hotel room in New York is euqal to or larger than 295 dollars per night."
   ]
  },
  {
   "cell_type": "markdown",
   "metadata": {
    "slideshow": {
     "slide_type": "slide"
    }
   },
   "source": [
    "#### （2）T-test for the mean of TWO samples \n",
    "* Tests whether the means of two independent samples are significantly different.\n",
    "* Assumptions\n",
    "> * Observations in each sample are independent and identically distributed (iid).\n",
    "> * Observations in each sample are normally distributed.\n",
    "> * Observations in each sample have the same variance.\n"
   ]
  },
  {
   "cell_type": "markdown",
   "metadata": {
    "slideshow": {
     "slide_type": "slide"
    }
   },
   "source": [
    "* Interpretation\n",
    "\n",
    "> * H0: the means of the samples are equal.\n",
    "> * H1: the means of the samples are unequal."
   ]
  },
  {
   "cell_type": "markdown",
   "metadata": {
    "slideshow": {
     "slide_type": "slide"
    }
   },
   "source": [
    "* Python Code\n",
    "\n",
    ">* scipy.stats.ttest_ind(a, b, equal_var=True, alternative='two-sided')\n",
    "\n",
    "\n",
    "**equal_var**: If 'True' (default), perform a standard independent 2 sample test that assumes equal population variances. If 'False', perform Welch’s t-test, which does not assume equal population variance.\n",
    "\n",
    "https://scipy.github.io/devdocs/reference/generated/scipy.stats.ttest_ind.html#scipy.stats.ttest_ind"
   ]
  },
  {
   "cell_type": "markdown",
   "metadata": {
    "slideshow": {
     "slide_type": "slide"
    }
   },
   "source": [
    "**<font color = red>Example5</font>**\n",
    "\n",
    "You are a financial analyst for a brokerage firm.  Is there a difference in dividend yield between stocks listed on the NYSE & NASDAQ?  You collect the following data"
   ]
  },
  {
   "cell_type": "code",
   "execution_count": 9,
   "metadata": {
    "slideshow": {
     "slide_type": "fragment"
    }
   },
   "outputs": [
    {
     "data": {
      "text/html": [
       "<div>\n",
       "<style scoped>\n",
       "    .dataframe tbody tr th:only-of-type {\n",
       "        vertical-align: middle;\n",
       "    }\n",
       "\n",
       "    .dataframe tbody tr th {\n",
       "        vertical-align: top;\n",
       "    }\n",
       "\n",
       "    .dataframe thead th {\n",
       "        text-align: right;\n",
       "    }\n",
       "</style>\n",
       "<table border=\"1\" class=\"dataframe\">\n",
       "  <thead>\n",
       "    <tr style=\"text-align: right;\">\n",
       "      <th></th>\n",
       "      <th>NYSE</th>\n",
       "      <th>NASDAQ</th>\n",
       "    </tr>\n",
       "  </thead>\n",
       "  <tbody>\n",
       "    <tr>\n",
       "      <th>17</th>\n",
       "      <td>2.670257</td>\n",
       "      <td>2.239548</td>\n",
       "    </tr>\n",
       "    <tr>\n",
       "      <th>18</th>\n",
       "      <td>5.759152</td>\n",
       "      <td>1.499984</td>\n",
       "    </tr>\n",
       "    <tr>\n",
       "      <th>19</th>\n",
       "      <td>3.090982</td>\n",
       "      <td>1.127019</td>\n",
       "    </tr>\n",
       "    <tr>\n",
       "      <th>20</th>\n",
       "      <td>5.246816</td>\n",
       "      <td>2.956261</td>\n",
       "    </tr>\n",
       "    <tr>\n",
       "      <th>22</th>\n",
       "      <td>NaN</td>\n",
       "      <td>2.177764</td>\n",
       "    </tr>\n",
       "  </tbody>\n",
       "</table>\n",
       "</div>"
      ],
      "text/plain": [
       "        NYSE    NASDAQ\n",
       "17  2.670257  2.239548\n",
       "18  5.759152  1.499984\n",
       "19  3.090982  1.127019\n",
       "20  5.246816  2.956261\n",
       "22       NaN  2.177764"
      ]
     },
     "execution_count": 9,
     "metadata": {},
     "output_type": "execute_result"
    }
   ],
   "source": [
    "stocks = pd.read_excel('examples/stocks.xlsx')\n",
    "NYSE = stocks['NYSE'].dropna()\n",
    "NASDAQ = stocks['NASDAQ'].dropna()\n",
    "stocks.sample(5)"
   ]
  },
  {
   "cell_type": "markdown",
   "metadata": {
    "slideshow": {
     "slide_type": "slide"
    }
   },
   "source": [
    "#### σ1 and σ2 unknown, assumed equal \n",
    "$H_0: \\mu_1 = \\mu_2$   \n",
    "$H_1: \\mu_1 \\neq \\mu_2$"
   ]
  },
  {
   "cell_type": "code",
   "execution_count": 10,
   "metadata": {
    "slideshow": {
     "slide_type": "fragment"
    }
   },
   "outputs": [
    {
     "data": {
      "text/plain": [
       "Ttest_indResult(statistic=2.549963472878511, pvalue=0.014332085776111196)"
      ]
     },
     "execution_count": 10,
     "metadata": {},
     "output_type": "execute_result"
    }
   ],
   "source": [
    "stats.ttest_ind(NYSE, NASDAQ, equal_var=True, alternative='two-sided')\n",
    "# p-value=0.01<0.05, reject null hypothesis"
   ]
  },
  {
   "cell_type": "markdown",
   "metadata": {
    "slideshow": {
     "slide_type": "fragment"
    }
   },
   "source": [
    "There is evidence of a difference in means."
   ]
  },
  {
   "cell_type": "markdown",
   "metadata": {
    "slideshow": {
     "slide_type": "slide"
    }
   },
   "source": [
    "#### σ1 and σ2 unknown, assumed unequal "
   ]
  },
  {
   "cell_type": "code",
   "execution_count": 11,
   "metadata": {
    "slideshow": {
     "slide_type": "fragment"
    }
   },
   "outputs": [
    {
     "data": {
      "text/plain": [
       "Ttest_indResult(statistic=2.61062377210791, pvalue=0.012338833317842635)"
      ]
     },
     "execution_count": 11,
     "metadata": {},
     "output_type": "execute_result"
    }
   ],
   "source": [
    "stats.ttest_ind(NYSE, NASDAQ, equal_var=False, alternative='two-sided')\n",
    "# p-value=0.01<0.05, reject null hypothesis"
   ]
  },
  {
   "cell_type": "markdown",
   "metadata": {
    "slideshow": {
     "slide_type": "fragment"
    }
   },
   "source": [
    "There is evidence of a difference in means."
   ]
  },
  {
   "cell_type": "markdown",
   "metadata": {
    "slideshow": {
     "slide_type": "slide"
    }
   },
   "source": [
    "#### （3）Paired Student’s t-test \n",
    "* Tests whether the means of two paired samples are significantly different.\n",
    "* Assumptions\n",
    "> * Observations in each sample are independent and identically distributed (iid).\n",
    "> * Observations in each sample are normally distributed.\n",
    "> * Observations in each sample have the same variance.\n",
    "> * Observations across each sample are paired.\n"
   ]
  },
  {
   "cell_type": "markdown",
   "metadata": {
    "slideshow": {
     "slide_type": "slide"
    }
   },
   "source": [
    "* Interpretation\n",
    "\n",
    "> * H0: the means of the samples are equal.\n",
    "> * H1: the means of the samples are unequal."
   ]
  },
  {
   "cell_type": "markdown",
   "metadata": {
    "slideshow": {
     "slide_type": "slide"
    }
   },
   "source": [
    "* Python Code\n",
    "\n",
    ">* scipy.stats.ttest_rel(a, b, alternative='two-sided')\n",
    "\n",
    "\n",
    "https://scipy.github.io/devdocs/reference/generated/scipy.stats.ttest_rel.html#scipy.stats.ttest_rel"
   ]
  },
  {
   "cell_type": "markdown",
   "metadata": {
    "slideshow": {
     "slide_type": "slide"
    }
   },
   "source": [
    "**<font color = red>Example6</font>**\n",
    "\n",
    "Assume you send your salespeople to a “customer service” training workshop.  Has the training made a difference in the number of complaints?  You collect the following data"
   ]
  },
  {
   "cell_type": "code",
   "execution_count": 12,
   "metadata": {
    "slideshow": {
     "slide_type": "fragment"
    }
   },
   "outputs": [
    {
     "data": {
      "text/html": [
       "<div>\n",
       "<style scoped>\n",
       "    .dataframe tbody tr th:only-of-type {\n",
       "        vertical-align: middle;\n",
       "    }\n",
       "\n",
       "    .dataframe tbody tr th {\n",
       "        vertical-align: top;\n",
       "    }\n",
       "\n",
       "    .dataframe thead th {\n",
       "        text-align: right;\n",
       "    }\n",
       "</style>\n",
       "<table border=\"1\" class=\"dataframe\">\n",
       "  <thead>\n",
       "    <tr style=\"text-align: right;\">\n",
       "      <th></th>\n",
       "      <th>name</th>\n",
       "      <th>before</th>\n",
       "      <th>after</th>\n",
       "    </tr>\n",
       "  </thead>\n",
       "  <tbody>\n",
       "    <tr>\n",
       "      <th>0</th>\n",
       "      <td>C.B.</td>\n",
       "      <td>6</td>\n",
       "      <td>4</td>\n",
       "    </tr>\n",
       "    <tr>\n",
       "      <th>1</th>\n",
       "      <td>T.F.</td>\n",
       "      <td>20</td>\n",
       "      <td>6</td>\n",
       "    </tr>\n",
       "    <tr>\n",
       "      <th>2</th>\n",
       "      <td>M.H.</td>\n",
       "      <td>3</td>\n",
       "      <td>2</td>\n",
       "    </tr>\n",
       "    <tr>\n",
       "      <th>3</th>\n",
       "      <td>R.K.</td>\n",
       "      <td>0</td>\n",
       "      <td>0</td>\n",
       "    </tr>\n",
       "    <tr>\n",
       "      <th>4</th>\n",
       "      <td>M.O.</td>\n",
       "      <td>4</td>\n",
       "      <td>0</td>\n",
       "    </tr>\n",
       "  </tbody>\n",
       "</table>\n",
       "</div>"
      ],
      "text/plain": [
       "   name  before  after\n",
       "0  C.B.       6      4\n",
       "1  T.F.      20      6\n",
       "2  M.H.       3      2\n",
       "3  R.K.       0      0\n",
       "4  M.O.       4      0"
      ]
     },
     "execution_count": 12,
     "metadata": {},
     "output_type": "execute_result"
    }
   ],
   "source": [
    "salesman = pd.read_excel('examples/salesman.xlsx')\n",
    "salesman"
   ]
  },
  {
   "cell_type": "markdown",
   "metadata": {
    "slideshow": {
     "slide_type": "slide"
    }
   },
   "source": [
    "$H_0: \\mu_D = 0$   \n",
    "$H_1: \\mu_D \\neq 0$"
   ]
  },
  {
   "cell_type": "code",
   "execution_count": 13,
   "metadata": {
    "slideshow": {
     "slide_type": "fragment"
    }
   },
   "outputs": [
    {
     "data": {
      "text/plain": [
       "TtestResult(statistic=1.6550318531021113, pvalue=0.17326031529853356, df=4)"
      ]
     },
     "execution_count": 13,
     "metadata": {},
     "output_type": "execute_result"
    }
   ],
   "source": [
    "stats.ttest_rel(salesman['before'], salesman['after'],  alternative='two-sided')\n",
    "# p-value=0.17>0.05, can not reject the null hypothesis."
   ]
  },
  {
   "cell_type": "markdown",
   "metadata": {
    "slideshow": {
     "slide_type": "fragment"
    }
   },
   "source": [
    "Do not reject $H_0$. There is not a  significant change in the number of complaints."
   ]
  },
  {
   "attachments": {
    "1683515920896.png": {
     "image/png": "[encoded data removed]"
    }
   },
   "cell_type": "markdown",
   "metadata": {
    "slideshow": {
     "slide_type": "slide"
    }
   },
   "source": [
    "### 4.1.3 One-way ANOVA\n",
    "* The one-way ANOVA tests the null hypothesis that two or more groups have the same population mean. \n",
    "![1683515920896.png](attachment:1683515920896.png)\n"
   ]
  },
  {
   "cell_type": "markdown",
   "metadata": {
    "slideshow": {
     "slide_type": "slide"
    }
   },
   "source": [
    "* Assumptions\n",
    "> * Observations in each sample are independent and identically distributed (iid).\n",
    "> * Observations in each sample are normally distributed.\n",
    "> * Observations in each sample have the **same variance**."
   ]
  },
  {
   "cell_type": "markdown",
   "metadata": {
    "slideshow": {
     "slide_type": "slide"
    }
   },
   "source": [
    "* Interpretation\n",
    "\n",
    "> * H0: the means of the samples are equal.\n",
    "> * H1: the means of the samples are unequal."
   ]
  },
  {
   "cell_type": "markdown",
   "metadata": {
    "slideshow": {
     "slide_type": "slide"
    }
   },
   "source": [
    "* Python Code\n",
    "\n",
    ">* scipy.stats.f_oneway(*samples)\n",
    "\n",
    "https://scipy.github.io/devdocs/reference/generated/scipy.stats.f_oneway.html?highlight=f_oneway#scipy.stats.f_oneway"
   ]
  },
  {
   "cell_type": "markdown",
   "metadata": {
    "slideshow": {
     "slide_type": "slide"
    }
   },
   "source": [
    "**<font color = red>Example7</font>**\n",
    "\n",
    "You want to see if three different golf clubs yield different distances. You randomly select five measurements from trials on an automated driving machine for each club. At the 0.05 significance level, is there a difference in mean distance?\n"
   ]
  },
  {
   "cell_type": "code",
   "execution_count": 14,
   "metadata": {
    "slideshow": {
     "slide_type": "fragment"
    }
   },
   "outputs": [
    {
     "data": {
      "text/html": [
       "<div>\n",
       "<style scoped>\n",
       "    .dataframe tbody tr th:only-of-type {\n",
       "        vertical-align: middle;\n",
       "    }\n",
       "\n",
       "    .dataframe tbody tr th {\n",
       "        vertical-align: top;\n",
       "    }\n",
       "\n",
       "    .dataframe thead th {\n",
       "        text-align: right;\n",
       "    }\n",
       "</style>\n",
       "<table border=\"1\" class=\"dataframe\">\n",
       "  <thead>\n",
       "    <tr style=\"text-align: right;\">\n",
       "      <th></th>\n",
       "      <th>club1</th>\n",
       "      <th>club2</th>\n",
       "      <th>club3</th>\n",
       "    </tr>\n",
       "  </thead>\n",
       "  <tbody>\n",
       "    <tr>\n",
       "      <th>0</th>\n",
       "      <td>254</td>\n",
       "      <td>234</td>\n",
       "      <td>200</td>\n",
       "    </tr>\n",
       "    <tr>\n",
       "      <th>1</th>\n",
       "      <td>263</td>\n",
       "      <td>218</td>\n",
       "      <td>222</td>\n",
       "    </tr>\n",
       "    <tr>\n",
       "      <th>2</th>\n",
       "      <td>241</td>\n",
       "      <td>235</td>\n",
       "      <td>197</td>\n",
       "    </tr>\n",
       "    <tr>\n",
       "      <th>3</th>\n",
       "      <td>237</td>\n",
       "      <td>227</td>\n",
       "      <td>206</td>\n",
       "    </tr>\n",
       "    <tr>\n",
       "      <th>4</th>\n",
       "      <td>251</td>\n",
       "      <td>216</td>\n",
       "      <td>204</td>\n",
       "    </tr>\n",
       "  </tbody>\n",
       "</table>\n",
       "</div>"
      ],
      "text/plain": [
       "   club1  club2  club3\n",
       "0    254    234    200\n",
       "1    263    218    222\n",
       "2    241    235    197\n",
       "3    237    227    206\n",
       "4    251    216    204"
      ]
     },
     "execution_count": 14,
     "metadata": {},
     "output_type": "execute_result"
    }
   ],
   "source": [
    "golf = pd.read_excel('examples/golf.xlsx')\n",
    "golf"
   ]
  },
  {
   "cell_type": "markdown",
   "metadata": {
    "slideshow": {
     "slide_type": "slide"
    }
   },
   "source": [
    "$H_0: \\mu_1 = \\mu_2 = \\mu_3$   \n",
    "$H_1: \\mu_j$ not all equal"
   ]
  },
  {
   "cell_type": "code",
   "execution_count": 15,
   "metadata": {
    "slideshow": {
     "slide_type": "fragment"
    }
   },
   "outputs": [
    {
     "data": {
      "text/plain": [
       "F_onewayResult(statistic=25.2754555198285, pvalue=4.9852350460386985e-05)"
      ]
     },
     "execution_count": 15,
     "metadata": {},
     "output_type": "execute_result"
    }
   ],
   "source": [
    "stats.f_oneway(golf['club1'],golf['club2'],golf['club3'])\n",
    "# p-value<0.05, reject the null hypothesis."
   ]
  },
  {
   "cell_type": "markdown",
   "metadata": {
    "slideshow": {
     "slide_type": "fragment"
    }
   },
   "source": [
    "There is evidence that at least one $\\mu_j$ differs from the rest\n"
   ]
  },
  {
   "cell_type": "markdown",
   "metadata": {
    "slideshow": {
     "slide_type": "slide"
    }
   },
   "source": [
    "### 4.1.4 Levene Test\n",
    "* Tests the null hypothesis that all input samples are from populations with equal variances. \n",
    "* Assumptions\n",
    "> * Observations in each sample are independent and identically distributed (iid)."
   ]
  },
  {
   "cell_type": "markdown",
   "metadata": {
    "slideshow": {
     "slide_type": "slide"
    }
   },
   "source": [
    "* Interpretation\n",
    "\n",
    "> * H0: the variances of the samples are equal.\n",
    "> * H1: the variances of the samples are unequal."
   ]
  },
  {
   "cell_type": "markdown",
   "metadata": {
    "slideshow": {
     "slide_type": "slide"
    }
   },
   "source": [
    "* Python Code\n",
    "\n",
    ">* scipy.stats.levene(*samples, center='median')\n",
    "\n",
    "https://scipy.github.io/devdocs/reference/generated/scipy.stats.levene.html#scipy.stats.levene"
   ]
  },
  {
   "cell_type": "markdown",
   "metadata": {
    "slideshow": {
     "slide_type": "fragment"
    }
   },
   "source": [
    "Three variations of Levene’s test are possible. The possibilities and their recommended usages are:\n",
    "\n",
    "* ‘median’ : Recommended for skewed (non-normal) distributions, default.\n",
    "* ‘mean’ : Recommended for symmetric, moderate-tailed distributions.\n",
    "* ‘trimmed’ : Recommended for heavy-tailed distributions."
   ]
  },
  {
   "cell_type": "markdown",
   "metadata": {
    "slideshow": {
     "slide_type": "slide"
    }
   },
   "source": [
    "**<font color = red>Example8</font>**\n",
    "\n",
    "Homogeneity of Variance can be tested with Levene’s Test.\n",
    "\n",
    "$H_0: \\sigma_1^2 = \\sigma_2^2 = \\sigma_3^2$   \n",
    "$H_1: \\sigma_j^2$ not all equal"
   ]
  },
  {
   "cell_type": "code",
   "execution_count": 16,
   "metadata": {
    "slideshow": {
     "slide_type": "fragment"
    }
   },
   "outputs": [
    {
     "data": {
      "text/plain": [
       "LeveneResult(statistic=0.09239653512993257, pvalue=0.9123858211461706)"
      ]
     },
     "execution_count": 16,
     "metadata": {},
     "output_type": "execute_result"
    }
   ],
   "source": [
    "stats.levene(golf['club1'],golf['club2'],golf['club3'])"
   ]
  },
  {
   "cell_type": "markdown",
   "metadata": {
    "slideshow": {
     "slide_type": "fragment"
    }
   },
   "source": [
    "Since the p-value is greater than 0.05 we fail to reject $H_0$ and conclude the variances are equal."
   ]
  },
  {
   "cell_type": "markdown",
   "metadata": {
    "slideshow": {
     "slide_type": "slide"
    }
   },
   "source": [
    "### 4.1.5  Chi-squared-Test ($\\chi^2$-Test)\n",
    "* Tests the proportions of variables in a contingency table."
   ]
  },
  {
   "attachments": {
    "image-2.png": {
     "image/png": "[encoded data removed]"
    }
   },
   "cell_type": "markdown",
   "metadata": {
    "slideshow": {
     "slide_type": "slide"
    }
   },
   "source": [
    "**Contingency Tables**\n",
    "* Useful in situations involving multiple population proportions\n",
    "* Used to classify sample observations according to two or more characteristics\n",
    "* Also called a cross-classification table\n",
    "![image-2.png](attachment:image-2.png)"
   ]
  },
  {
   "cell_type": "markdown",
   "metadata": {
    "slideshow": {
     "slide_type": "slide"
    }
   },
   "source": [
    "* Assumptions\n",
    "\n",
    ">* Observations used in the calculation of the contingency table are independent.\n",
    ">* 25 or more examples in each cell of the contingency table.\n"
   ]
  },
  {
   "cell_type": "markdown",
   "metadata": {
    "slideshow": {
     "slide_type": "slide"
    }
   },
   "source": [
    "* Interpretation\n",
    "\n",
    "> * H0: the proportions of the variables are equal.\n",
    "> * H1: the proportions of the variables are unequal."
   ]
  },
  {
   "cell_type": "markdown",
   "metadata": {
    "slideshow": {
     "slide_type": "slide"
    }
   },
   "source": [
    "* Python Code\n",
    "\n",
    ">* scipy.stats.chi2_contingency(observed)\n",
    "\n",
    "https://scipy.github.io/devdocs/reference/generated/scipy.stats.chi2_contingency.html?highlight=chi2_contingency#scipy.stats.chi2_contingency"
   ]
  },
  {
   "cell_type": "markdown",
   "metadata": {
    "slideshow": {
     "slide_type": "slide"
    }
   },
   "source": [
    "#### (1) Chi-Square Tests for the Difference Between Two Proportions"
   ]
  },
  {
   "cell_type": "markdown",
   "metadata": {
    "slideshow": {
     "slide_type": "slide"
    }
   },
   "source": [
    "**<font color = red>Example9</font>**\n",
    "\n",
    "Suppose we examine a sample of 300 children. Sample results organized in a contingency table:\n",
    "* 120 Females, 12 were left handed\n",
    "* 180 Males, 24 were left handed\n",
    "\n"
   ]
  },
  {
   "cell_type": "code",
   "execution_count": 17,
   "metadata": {
    "slideshow": {
     "slide_type": "fragment"
    }
   },
   "outputs": [
    {
     "data": {
      "text/html": [
       "<div>\n",
       "<style scoped>\n",
       "    .dataframe tbody tr th:only-of-type {\n",
       "        vertical-align: middle;\n",
       "    }\n",
       "\n",
       "    .dataframe tbody tr th {\n",
       "        vertical-align: top;\n",
       "    }\n",
       "\n",
       "    .dataframe thead th {\n",
       "        text-align: right;\n",
       "    }\n",
       "</style>\n",
       "<table border=\"1\" class=\"dataframe\">\n",
       "  <thead>\n",
       "    <tr style=\"text-align: right;\">\n",
       "      <th></th>\n",
       "      <th>Left</th>\n",
       "      <th>Right</th>\n",
       "    </tr>\n",
       "    <tr>\n",
       "      <th>Gender</th>\n",
       "      <th></th>\n",
       "      <th></th>\n",
       "    </tr>\n",
       "  </thead>\n",
       "  <tbody>\n",
       "    <tr>\n",
       "      <th>Female</th>\n",
       "      <td>12</td>\n",
       "      <td>108</td>\n",
       "    </tr>\n",
       "    <tr>\n",
       "      <th>Male</th>\n",
       "      <td>24</td>\n",
       "      <td>156</td>\n",
       "    </tr>\n",
       "  </tbody>\n",
       "</table>\n",
       "</div>"
      ],
      "text/plain": [
       "        Left  Right\n",
       "Gender             \n",
       "Female    12    108\n",
       "Male      24    156"
      ]
     },
     "execution_count": 17,
     "metadata": {},
     "output_type": "execute_result"
    }
   ],
   "source": [
    "children = pd.read_excel('examples/children.xlsx',index_col=0)\n",
    "children"
   ]
  },
  {
   "cell_type": "markdown",
   "metadata": {
    "slideshow": {
     "slide_type": "slide"
    }
   },
   "source": [
    "$H_0: \\pi_1 = \\pi_2$  (Proportion of females who are left handed is equal to the proportion of males who are left handed) \n",
    "\n",
    "$H_0: \\pi_1 \\neq \\pi_2$  (The two proportions are not the same hand preference is not independent of gender)\n"
   ]
  },
  {
   "cell_type": "code",
   "execution_count": 18,
   "metadata": {
    "slideshow": {
     "slide_type": "slide"
    }
   },
   "outputs": [
    {
     "data": {
      "text/plain": [
       "Chi2ContingencyResult(statistic=0.4748000841750843, pvalue=0.4907871540801906, dof=1, expected_freq=array([[ 14.4, 105.6],\n",
       "       [ 21.6, 158.4]]))"
      ]
     },
     "execution_count": 18,
     "metadata": {},
     "output_type": "execute_result"
    }
   ],
   "source": [
    "stats.chi2_contingency(children)\n",
    "# output: \n",
    "# 1.The test statistic. 2.The p-value of the test 3.Degrees of freedom\n",
    "# 4.The expected frequencies, based on the marginal sums of the table."
   ]
  },
  {
   "cell_type": "markdown",
   "metadata": {
    "slideshow": {
     "slide_type": "fragment"
    }
   },
   "source": [
    "We do not reject $H_0$ and conclude that there is not sufficient evidence that the two proportions are different at $ \\alpha= 0.05 $"
   ]
  },
  {
   "cell_type": "markdown",
   "metadata": {
    "slideshow": {
     "slide_type": "slide"
    }
   },
   "source": [
    "#### (2) Chi-Square Tests for the Difference Among More Than Two Proportions"
   ]
  },
  {
   "cell_type": "markdown",
   "metadata": {
    "slideshow": {
     "slide_type": "slide"
    }
   },
   "source": [
    "**<font color = red>Example10</font>**\n",
    "\n",
    "Is the age of death related to place of residence and sex?"
   ]
  },
  {
   "cell_type": "code",
   "execution_count": 19,
   "metadata": {
    "slideshow": {
     "slide_type": "fragment"
    }
   },
   "outputs": [
    {
     "data": {
      "text/html": [
       "<div>\n",
       "<style scoped>\n",
       "    .dataframe tbody tr th:only-of-type {\n",
       "        vertical-align: middle;\n",
       "    }\n",
       "\n",
       "    .dataframe tbody tr th {\n",
       "        vertical-align: top;\n",
       "    }\n",
       "\n",
       "    .dataframe thead th {\n",
       "        text-align: right;\n",
       "    }\n",
       "</style>\n",
       "<table border=\"1\" class=\"dataframe\">\n",
       "  <thead>\n",
       "    <tr style=\"text-align: right;\">\n",
       "      <th></th>\n",
       "      <th>ruralMale</th>\n",
       "      <th>ruralFemale</th>\n",
       "      <th>urbanMale</th>\n",
       "      <th>urbanFemale</th>\n",
       "    </tr>\n",
       "    <tr>\n",
       "      <th>old</th>\n",
       "      <th></th>\n",
       "      <th></th>\n",
       "      <th></th>\n",
       "      <th></th>\n",
       "    </tr>\n",
       "  </thead>\n",
       "  <tbody>\n",
       "    <tr>\n",
       "      <th>50-54</th>\n",
       "      <td>11.7</td>\n",
       "      <td>8.7</td>\n",
       "      <td>15.4</td>\n",
       "      <td>8.4</td>\n",
       "    </tr>\n",
       "    <tr>\n",
       "      <th>55-59</th>\n",
       "      <td>18.1</td>\n",
       "      <td>11.7</td>\n",
       "      <td>24.3</td>\n",
       "      <td>13.6</td>\n",
       "    </tr>\n",
       "    <tr>\n",
       "      <th>60-64</th>\n",
       "      <td>26.9</td>\n",
       "      <td>20.3</td>\n",
       "      <td>37.0</td>\n",
       "      <td>19.3</td>\n",
       "    </tr>\n",
       "    <tr>\n",
       "      <th>65-69</th>\n",
       "      <td>41.0</td>\n",
       "      <td>30.9</td>\n",
       "      <td>54.6</td>\n",
       "      <td>35.1</td>\n",
       "    </tr>\n",
       "    <tr>\n",
       "      <th>70-74</th>\n",
       "      <td>66.0</td>\n",
       "      <td>54.3</td>\n",
       "      <td>71.1</td>\n",
       "      <td>50.0</td>\n",
       "    </tr>\n",
       "  </tbody>\n",
       "</table>\n",
       "</div>"
      ],
      "text/plain": [
       "       ruralMale  ruralFemale  urbanMale  urbanFemale\n",
       "old                                                  \n",
       "50-54       11.7          8.7       15.4          8.4\n",
       "55-59       18.1         11.7       24.3         13.6\n",
       "60-64       26.9         20.3       37.0         19.3\n",
       "65-69       41.0         30.9       54.6         35.1\n",
       "70-74       66.0         54.3       71.1         50.0"
      ]
     },
     "execution_count": 19,
     "metadata": {},
     "output_type": "execute_result"
    }
   ],
   "source": [
    "old = pd.read_excel('examples/old.xlsx',index_col=0)\n",
    "old"
   ]
  },
  {
   "cell_type": "markdown",
   "metadata": {
    "slideshow": {
     "slide_type": "slide"
    }
   },
   "source": [
    "$H_0: \\pi_1 = \\pi_2= \\pi_3= \\pi_4$ \n",
    "\n",
    "$H_1$: Not all of the $\\pi_j$ are equal"
   ]
  },
  {
   "cell_type": "code",
   "execution_count": 20,
   "metadata": {
    "slideshow": {
     "slide_type": "fragment"
    }
   },
   "outputs": [
    {
     "data": {
      "text/plain": [
       "Chi2ContingencyResult(statistic=2.9208326267446774, pvalue=0.9960775977332345, dof=12, expected_freq=array([[11.70042044,  8.998674  , 14.46649418,  9.03441138],\n",
       "       [17.92123221, 13.78303687, 22.15795602, 13.8377749 ],\n",
       "       [27.39804334, 21.07155563, 33.87516171, 21.15523933],\n",
       "       [42.77800776, 32.90012937, 52.89107374, 33.03078913],\n",
       "       [63.90229625, 49.14660414, 79.00931436, 49.34178525]]))"
      ]
     },
     "execution_count": 20,
     "metadata": {},
     "output_type": "execute_result"
    }
   ],
   "source": [
    "stats.chi2_contingency(old)"
   ]
  },
  {
   "cell_type": "markdown",
   "metadata": {
    "slideshow": {
     "slide_type": "fragment"
    }
   },
   "source": [
    "There is no significant difference in age of death, place of residence and sex.  "
   ]
  },
  {
   "cell_type": "markdown",
   "metadata": {
    "slideshow": {
     "slide_type": "slide"
    }
   },
   "source": [
    "## 4.2 Normality Tests\n",
    "* If methods are used that assume a Gaussian distribution, and your data was drawn from a different distribution, the findings may be misleading or plain wrong.\n",
    "\n",
    "* There are a range of techniques that you can use to check if your data sample deviates from a Gaussian distribution, called normality tests.\n"
   ]
  },
  {
   "cell_type": "markdown",
   "metadata": {
    "slideshow": {
     "slide_type": "slide"
    }
   },
   "source": [
    "If Data Is Gaussian:\n",
    "> Use Parametric Statistical Methods\n",
    "\n",
    "Else:\n",
    "> Use Nonparametric Statistical Methods"
   ]
  },
  {
   "cell_type": "markdown",
   "metadata": {
    "slideshow": {
     "slide_type": "slide"
    }
   },
   "source": [
    "### 4.2.1 Graphical Methods\n",
    "These are methods for plotting the data and qualitatively evaluating whether the data looks Gaussian."
   ]
  },
  {
   "cell_type": "markdown",
   "metadata": {
    "slideshow": {
     "slide_type": "slide"
    }
   },
   "source": [
    "#### (1) Histogram Plot\n",
    "* In the histogram, the data is divided into a pre-specified number of groups called bins. The data is then sorted into each bin and the count of the number of observations in each bin is retained.\n",
    "* A sample of data has a Gaussian distribution of the histogram plot, showing the familiar bell shape.\n"
   ]
  },
  {
   "cell_type": "code",
   "execution_count": 21,
   "metadata": {
    "slideshow": {
     "slide_type": "slide"
    }
   },
   "outputs": [
    {
     "data": {
      "text/plain": [
       "<Axes: ylabel='Count'>"
      ]
     },
     "execution_count": 21,
     "metadata": {},
     "output_type": "execute_result"
    },
    {
     "data": {
      "image/png": "[encoded data removed]",
      "text/plain": [
       "<Figure size 640x480 with 1 Axes>"
      ]
     },
     "metadata": {},
     "output_type": "display_data"
    }
   ],
   "source": [
    "# generate univariate observations\n",
    "data = 5 * np.random.randn(100) + 50\n",
    "# histogram plot\n",
    "sns.histplot(data)"
   ]
  },
  {
   "cell_type": "markdown",
   "metadata": {
    "slideshow": {
     "slide_type": "slide"
    }
   },
   "source": [
    "#### (2)Quantile-Quantile Plot\n",
    "* The quantiles of a given data set are plotted against the quantiles of a reference distribution, typically the Gaussian distribution.\n",
    "* If the two distributions being compared are similar, the points will approximately lie on the line y=x. If the distributions are linearly related, the points will approximately lie on a line, but not necessarily on the line y =x"
   ]
  },
  {
   "cell_type": "code",
   "execution_count": 22,
   "metadata": {
    "scrolled": false,
    "slideshow": {
     "slide_type": "slide"
    }
   },
   "outputs": [
    {
     "data": {
      "image/png": "[encoded data removed]",
      "text/plain": [
       "<Figure size 640x480 with 1 Axes>"
      ]
     },
     "execution_count": 22,
     "metadata": {},
     "output_type": "execute_result"
    },
    {
     "data": {
      "image/png": "[encoded data removed]",
      "text/plain": [
       "<Figure size 640x480 with 1 Axes>"
      ]
     },
     "metadata": {},
     "output_type": "display_data"
    }
   ],
   "source": [
    "from statsmodels.graphics.gofplots import qqplot\n",
    "qqplot(data,line='s')"
   ]
  },
  {
   "cell_type": "markdown",
   "metadata": {
    "slideshow": {
     "slide_type": "slide"
    }
   },
   "source": [
    "### 4.2.1 Statistical Normality Tests\n",
    "* There are many statistical tests that we can use to quantify whether a sample of data looks as though it was drawn from a Gaussian distribution.\n",
    "\n",
    "* Each test makes different assumptions and considers different aspects of the data."
   ]
  },
  {
   "cell_type": "markdown",
   "metadata": {
    "slideshow": {
     "slide_type": "slide"
    }
   },
   "source": [
    "#### (1) D'Agostino's $K^2$ test\n",
    "* Tests whether a data sample has a Gaussian distribution.\n",
    "* The D’Agostino’s K^2 test calculates summary statistics from the data, namely kurtosis and skewness, to determine if the data distribution departs from the normal distribution"
   ]
  },
  {
   "cell_type": "markdown",
   "metadata": {
    "slideshow": {
     "slide_type": "slide"
    }
   },
   "source": [
    "* Assumptions\n",
    "\n",
    "> * Observations in each sample are independent and identically distributed (iid)."
   ]
  },
  {
   "cell_type": "markdown",
   "metadata": {
    "slideshow": {
     "slide_type": "slide"
    }
   },
   "source": [
    "* Interpretation\n",
    "\n",
    "> * H0: the sample has a Gaussian distribution.\n",
    "> * H1: the sample does not have a Gaussian distribution."
   ]
  },
  {
   "cell_type": "markdown",
   "metadata": {
    "slideshow": {
     "slide_type": "slide"
    }
   },
   "source": [
    "* Python Code\n",
    "> scipy.stats.normaltest(a)\n",
    "\n",
    "https://docs.scipy.org/doc/scipy/reference/generated/scipy.stats.normaltest.html"
   ]
  },
  {
   "cell_type": "code",
   "execution_count": 23,
   "metadata": {
    "scrolled": true,
    "slideshow": {
     "slide_type": "slide"
    }
   },
   "outputs": [
    {
     "data": {
      "text/plain": [
       "NormaltestResult(statistic=0.2576881662516053, pvalue=0.8791110231033072)"
      ]
     },
     "execution_count": 23,
     "metadata": {},
     "output_type": "execute_result"
    }
   ],
   "source": [
    "stats.normaltest(data)"
   ]
  },
  {
   "cell_type": "markdown",
   "metadata": {
    "slideshow": {
     "slide_type": "slide"
    }
   },
   "source": [
    "#### (2) Shapiro-Wilk Test\n",
    "* Tests whether a data sample has a Gaussian distribution.\n",
    "* The Shapiro-Wilk test evaluates a data sample and quantifies how likely it is that the data was drawn from a Gaussian distribution"
   ]
  },
  {
   "cell_type": "markdown",
   "metadata": {
    "slideshow": {
     "slide_type": "slide"
    }
   },
   "source": [
    "* Assumptions\n",
    "\n",
    "> * Observations in each sample are independent and identically distributed (iid)."
   ]
  },
  {
   "cell_type": "markdown",
   "metadata": {
    "slideshow": {
     "slide_type": "slide"
    }
   },
   "source": [
    "* Interpretation\n",
    "\n",
    "> * H0: the sample has a Gaussian distribution.\n",
    "> * H1: the sample does not have a Gaussian distribution."
   ]
  },
  {
   "cell_type": "markdown",
   "metadata": {
    "slideshow": {
     "slide_type": "slide"
    }
   },
   "source": [
    "* Python Code\n",
    "> scipy.stats.shapiro(x)\n",
    "\n",
    "https://docs.scipy.org/doc/scipy/reference/generated/scipy.stats.shapiro.html"
   ]
  },
  {
   "cell_type": "code",
   "execution_count": 24,
   "metadata": {
    "slideshow": {
     "slide_type": "slide"
    }
   },
   "outputs": [
    {
     "data": {
      "text/plain": [
       "ShapiroResult(statistic=0.9873237013816833, pvalue=0.4597521126270294)"
      ]
     },
     "execution_count": 24,
     "metadata": {},
     "output_type": "execute_result"
    }
   ],
   "source": [
    "stats.shapiro(data)"
   ]
  },
  {
   "cell_type": "markdown",
   "metadata": {
    "slideshow": {
     "slide_type": "slide"
    }
   },
   "source": [
    "## 4.3 Nonparametric Statistical Hypothesis Tests\n",
    "* In applied machine learning, we often need to determine whether two data samples have the same or different distributions.\n",
    "\n",
    "* If the data does not have the familiar Gaussian distribution, we must resort to nonparametric version of the significance tests. These tests operate in a similar manner, but are distribution free, requiring that real valued data be first transformed into rank data before the test can be performed\n"
   ]
  },
  {
   "cell_type": "markdown",
   "metadata": {
    "slideshow": {
     "slide_type": "slide"
    }
   },
   "source": [
    "* **The Mann-Whitney U test** for comparing independent data samples: the nonparametric version of the Student t-test.\n",
    "* **The Wilcoxon signed-rank test** for comparing paired data samples: the nonparametric version of the paired Student t-test.\n",
    "* **The Kruskal-Wallis H tests** for comparing more than two data samples: the nonparametric version of the ANOVA."
   ]
  },
  {
   "cell_type": "markdown",
   "metadata": {
    "slideshow": {
     "slide_type": "slide"
    }
   },
   "source": [
    "#### (1) Mann-Whitney U Test\n",
    "* Tests whether the distributions of two independent samples are equal or not.\n",
    "* Assumptions\n",
    "\n",
    "> * Observations in each sample are independent and identically distributed (iid).\n",
    "> * Observations in each sample can be ranked."
   ]
  },
  {
   "cell_type": "markdown",
   "metadata": {
    "slideshow": {
     "slide_type": "slide"
    }
   },
   "source": [
    "* Interpretation\n",
    "\n",
    "> * H0: the distributions of both samples are equal.\n",
    "> * H1: the distributions of both samples are not equal"
   ]
  },
  {
   "cell_type": "markdown",
   "metadata": {
    "slideshow": {
     "slide_type": "slide"
    }
   },
   "source": [
    "* Python Code\n",
    "> scipy.stats.mannwhitneyu(x, y)\n",
    "\n",
    "\n",
    "https://docs.scipy.org/doc/scipy/reference/generated/scipy.stats.mannwhitneyu.html"
   ]
  },
  {
   "cell_type": "markdown",
   "metadata": {
    "slideshow": {
     "slide_type": "slide"
    }
   },
   "source": [
    "**<font color = red>Example11</font>**\n",
    "\n",
    "You are a financial analyst for a brokerage firm.  Is there a difference in dividend yield between stocks listed on the NYSE & NASDAQ?  "
   ]
  },
  {
   "cell_type": "markdown",
   "metadata": {
    "slideshow": {
     "slide_type": "fragment"
    }
   },
   "source": [
    "$H_0: \\mu_1 = \\mu_2$   \n",
    "$H_1: \\mu_1 \\neq \\mu_2$"
   ]
  },
  {
   "cell_type": "code",
   "execution_count": 25,
   "metadata": {
    "slideshow": {
     "slide_type": "fragment"
    }
   },
   "outputs": [
    {
     "data": {
      "text/plain": [
       "MannwhitneyuResult(statistic=379.0, pvalue=0.010524134083018917)"
      ]
     },
     "execution_count": 25,
     "metadata": {},
     "output_type": "execute_result"
    }
   ],
   "source": [
    "stats.mannwhitneyu(NYSE, NASDAQ)\n",
    "# p-value=0.01<0.05, reject null hypothesis"
   ]
  },
  {
   "cell_type": "markdown",
   "metadata": {
    "slideshow": {
     "slide_type": "fragment"
    }
   },
   "source": [
    "There is evidence of a difference in distributions."
   ]
  },
  {
   "cell_type": "markdown",
   "metadata": {
    "slideshow": {
     "slide_type": "slide"
    }
   },
   "source": [
    "#### (2) Wilcoxon Signed-Rank Test\n",
    "* Tests whether the distributions of two paired samples are equal or not.\n",
    "* Assumptions\n",
    "\n",
    "> * Observations in each sample are independent and identically distributed (iid).\n",
    "> * Observations in each sample can be ranked.\n",
    "> * Observations across each sample are paired."
   ]
  },
  {
   "cell_type": "markdown",
   "metadata": {
    "slideshow": {
     "slide_type": "slide"
    }
   },
   "source": [
    "* Interpretation\n",
    "\n",
    "> * H0: the distributions of both samples are equal.\n",
    "> * H1: the distributions of both samples are not equal"
   ]
  },
  {
   "cell_type": "markdown",
   "metadata": {
    "slideshow": {
     "slide_type": "slide"
    }
   },
   "source": [
    "* Python Code\n",
    "> scipy.stats.wilcoxon(x, y)\n",
    "\n",
    "\n",
    "https://docs.scipy.org/doc/scipy/reference/generated/scipy.stats.wilcoxon.html"
   ]
  },
  {
   "cell_type": "markdown",
   "metadata": {
    "slideshow": {
     "slide_type": "slide"
    }
   },
   "source": [
    "**<font color = red>Example12</font>**\n",
    "\n",
    "Assume you send your salespeople to a “customer service” training workshop.  Has the training made a difference in the number of complaints?  You collect the following data"
   ]
  },
  {
   "cell_type": "markdown",
   "metadata": {
    "slideshow": {
     "slide_type": "fragment"
    }
   },
   "source": [
    "$H_0: \\mu_D = 0$   \n",
    "$H_1: \\mu_D \\neq 0$"
   ]
  },
  {
   "cell_type": "code",
   "execution_count": 26,
   "metadata": {
    "slideshow": {
     "slide_type": "fragment"
    }
   },
   "outputs": [
    {
     "name": "stderr",
     "output_type": "stream",
     "text": [
      "d:\\Users\\fan\\anaconda3\\lib\\site-packages\\scipy\\stats\\_morestats.py:3414: UserWarning: Exact p-value calculation does not work if there are zeros. Switching to normal approximation.\n",
      "  warnings.warn(\"Exact p-value calculation does not work if there are \"\n",
      "d:\\Users\\fan\\anaconda3\\lib\\site-packages\\scipy\\stats\\_morestats.py:3428: UserWarning: Sample size too small for normal approximation.\n",
      "  warnings.warn(\"Sample size too small for normal approximation.\")\n"
     ]
    },
    {
     "data": {
      "text/plain": [
       "WilcoxonResult(statistic=0.0, pvalue=0.06788915486182899)"
      ]
     },
     "execution_count": 26,
     "metadata": {},
     "output_type": "execute_result"
    }
   ],
   "source": [
    "stats.wilcoxon(salesman['before'], salesman['after'])\n",
    "# p-value=0.07>0.05, can not reject the null hypothesis."
   ]
  },
  {
   "cell_type": "markdown",
   "metadata": {
    "slideshow": {
     "slide_type": "fragment"
    }
   },
   "source": [
    "Do not reject $H_0$. There is not a  significant change in the number of complaints."
   ]
  },
  {
   "cell_type": "markdown",
   "metadata": {
    "slideshow": {
     "slide_type": "slide"
    }
   },
   "source": [
    "#### (3) Kruskal-Wallis H Test\n",
    "* Tests whether the distributions of two or more independent samples are equal or not\n",
    "* Assumptions\n",
    "\n",
    "> * Observations in each sample are independent and identically distributed (iid).\n",
    "> * Observations in each sample can be ranked."
   ]
  },
  {
   "cell_type": "markdown",
   "metadata": {
    "slideshow": {
     "slide_type": "slide"
    }
   },
   "source": [
    "* Interpretation\n",
    "\n",
    "> * H0: the distributions of both samples are equal.\n",
    "> * H1: the distributions of both samples are not equal"
   ]
  },
  {
   "cell_type": "markdown",
   "metadata": {
    "slideshow": {
     "slide_type": "slide"
    }
   },
   "source": [
    "* Python Code\n",
    "> scipy.stats.kruskal(*samples)\n",
    "\n",
    "\n",
    "https://docs.scipy.org/doc/scipy/reference/generated/scipy.stats.kruskal.html"
   ]
  },
  {
   "cell_type": "markdown",
   "metadata": {
    "slideshow": {
     "slide_type": "slide"
    }
   },
   "source": [
    "**<font color = red>Example13</font>**\n",
    "\n",
    "You want to see if three different golf clubs yield different distances. You randomly select five measurements from trials on an automated driving machine for each club. At the 0.05 significance level, is there a difference in mean distance?\n"
   ]
  },
  {
   "cell_type": "markdown",
   "metadata": {
    "slideshow": {
     "slide_type": "slide"
    }
   },
   "source": [
    "$H_0: \\mu_1 = \\mu_2 = \\mu_3$   \n",
    "$H_1: \\mu_j$ not all equal"
   ]
  },
  {
   "cell_type": "code",
   "execution_count": 27,
   "metadata": {
    "slideshow": {
     "slide_type": "fragment"
    }
   },
   "outputs": [
    {
     "data": {
      "text/plain": [
       "KruskalResult(statistic=11.579999999999998, pvalue=0.0030579821764233103)"
      ]
     },
     "execution_count": 27,
     "metadata": {},
     "output_type": "execute_result"
    }
   ],
   "source": [
    "stats.kruskal(golf['club1'],golf['club2'],golf['club3'])\n",
    "# p-value<0.05, reject the null hypothesis."
   ]
  },
  {
   "cell_type": "markdown",
   "metadata": {
    "slideshow": {
     "slide_type": "fragment"
    }
   },
   "source": [
    "There is evidence that at least one $\\mu_j$ differs from the rest\n"
   ]
  },
  {
   "cell_type": "markdown",
   "metadata": {
    "slideshow": {
     "slide_type": "slide"
    }
   },
   "source": [
    "## 4.4 Correlation Tests\n",
    "* There may be complex and unknown relationships between the variables in your dataset.\n",
    "\n",
    "* It is important to discover and quantify the degree to which variables in your dataset are dependent upon each other. This knowledge can help you better prepare your data to meet the expectations of machine learning algorithms, such as linear regression, whose performance will degrade with the presence of these interdependencies."
   ]
  },
  {
   "cell_type": "markdown",
   "metadata": {
    "slideshow": {
     "slide_type": "slide"
    }
   },
   "source": [
    "**Correlation**\n",
    "* Positive Correlation: both variables change in the same direction.\n",
    "* Neutral Correlation: No relationship in the change of the variables.\n",
    "* Negative Correlation: variables change in opposite directions."
   ]
  },
  {
   "cell_type": "markdown",
   "metadata": {
    "slideshow": {
     "slide_type": "slide"
    }
   },
   "source": [
    "### 4.4.1 Pearson’s Correlation Coefficient\n",
    "* Tests whether two samples have a linear relationship.\n",
    "* Assumptions\n",
    "\n",
    "> * Observations in each sample are independent and identically distributed (iid).\n",
    "> * Observations in each sample are normally distributed.\n",
    "> * Observations in each sample have the same variance."
   ]
  },
  {
   "cell_type": "markdown",
   "metadata": {
    "slideshow": {
     "slide_type": "slide"
    }
   },
   "source": [
    "* Interpretation\n",
    "\n",
    "> * H0: the two samples are independent.\n",
    "> * H1: there is a dependency between the samples."
   ]
  },
  {
   "cell_type": "markdown",
   "metadata": {
    "slideshow": {
     "slide_type": "slide"
    }
   },
   "source": [
    "* Python Code\n",
    "> scipy.stats.pearsonr(x, y, alternative='two-sided')\n",
    "\n",
    "\n",
    "https://docs.scipy.org/doc/scipy/reference/generated/scipy.stats.pearsonr.html"
   ]
  },
  {
   "cell_type": "markdown",
   "metadata": {
    "slideshow": {
     "slide_type": "slide"
    }
   },
   "source": [
    "**<font color = red>Example14</font>**\n",
    "\n",
    "Is there a linear relationship between sepal_length and sepal_width of the iris data?"
   ]
  },
  {
   "cell_type": "markdown",
   "metadata": {
    "slideshow": {
     "slide_type": "fragment"
    }
   },
   "source": [
    "$H_0$: the iris's sepal_length and sepal_width are independent.<br>\n",
    "$H_1$: there is a dependency between the iris's sepal_length and sepal_width."
   ]
  },
  {
   "cell_type": "code",
   "execution_count": 28,
   "metadata": {
    "slideshow": {
     "slide_type": "slide"
    }
   },
   "outputs": [],
   "source": [
    "iris = pd.read_csv('examples/iris.csv',index_col=0)\n",
    "sepal_length=iris['SepalLengthCm']\n",
    "sepal_width=iris['SepalWidthCm']"
   ]
  },
  {
   "cell_type": "code",
   "execution_count": 29,
   "metadata": {
    "scrolled": true,
    "slideshow": {
     "slide_type": "fragment"
    }
   },
   "outputs": [
    {
     "data": {
      "text/plain": [
       "NormaltestResult(statistic=5.735584236235733, pvalue=0.05682424941067306)"
      ]
     },
     "execution_count": 29,
     "metadata": {},
     "output_type": "execute_result"
    }
   ],
   "source": [
    "# normality test\n",
    "stats.normaltest(sepal_length)"
   ]
  },
  {
   "cell_type": "code",
   "execution_count": 30,
   "metadata": {
    "slideshow": {
     "slide_type": "fragment"
    }
   },
   "outputs": [
    {
     "data": {
      "text/plain": [
       "NormaltestResult(statistic=3.576642160069695, pvalue=0.1672407178723714)"
      ]
     },
     "execution_count": 30,
     "metadata": {},
     "output_type": "execute_result"
    }
   ],
   "source": [
    "# normality test\n",
    "stats.normaltest(sepal_width)"
   ]
  },
  {
   "cell_type": "code",
   "execution_count": 31,
   "metadata": {
    "slideshow": {
     "slide_type": "slide"
    }
   },
   "outputs": [
    {
     "data": {
      "text/plain": [
       "PearsonRResult(statistic=-0.10936924995064935, pvalue=0.1827652152713699)"
      ]
     },
     "execution_count": 31,
     "metadata": {},
     "output_type": "execute_result"
    }
   ],
   "source": [
    "# Pearson’s Correlation Coefficient\n",
    "stats.pearsonr(sepal_length, sepal_width, alternative='two-sided')"
   ]
  },
  {
   "cell_type": "markdown",
   "metadata": {
    "slideshow": {
     "slide_type": "fragment"
    }
   },
   "source": [
    "* If the level of significant $\\alpha$ is 0.05, there is not sufficient evidence that iris's sepal length and sepal width are correlated."
   ]
  },
  {
   "cell_type": "markdown",
   "metadata": {
    "slideshow": {
     "slide_type": "slide"
    }
   },
   "source": [
    "### 4.4.2 Spearman’s Rank Correlation\n",
    "* Tests whether two samples have a monotonic relationship.\n",
    "* Assumptions\n",
    "\n",
    "> * Observations in each sample are independent and identically distributed (iid).\n",
    "> * Observations in each sample can be ranked."
   ]
  },
  {
   "cell_type": "markdown",
   "metadata": {
    "slideshow": {
     "slide_type": "slide"
    }
   },
   "source": [
    "* Interpretation\n",
    "\n",
    "> * H0: the two samples are independent.\n",
    "> * H1: there is a dependency between the samples."
   ]
  },
  {
   "cell_type": "markdown",
   "metadata": {
    "slideshow": {
     "slide_type": "slide"
    }
   },
   "source": [
    "* Python Code\n",
    "> scipy.stats.spearmanr(x, y, alternative='two-sided')\n",
    "\n",
    "\n",
    "https://docs.scipy.org/doc/scipy/reference/generated/scipy.stats.spearmanr.html"
   ]
  },
  {
   "cell_type": "markdown",
   "metadata": {
    "slideshow": {
     "slide_type": "slide"
    }
   },
   "source": [
    "**<font color = red>Example15</font>**\n",
    "\n",
    "Is there a linear relationship between petal_length and petal_width of the iris data?"
   ]
  },
  {
   "cell_type": "markdown",
   "metadata": {
    "slideshow": {
     "slide_type": "fragment"
    }
   },
   "source": [
    "$H_0$: the iris's petal_length and petal_width independent.<br>\n",
    "$H_1$: there is a dependency between the iris's petal_length and petal_width."
   ]
  },
  {
   "cell_type": "code",
   "execution_count": 32,
   "metadata": {
    "slideshow": {
     "slide_type": "slide"
    }
   },
   "outputs": [],
   "source": [
    "petal_length=iris['PetalLengthCm']\n",
    "petal_width=iris['PetalWidthCm']"
   ]
  },
  {
   "cell_type": "code",
   "execution_count": 33,
   "metadata": {
    "scrolled": true,
    "slideshow": {
     "slide_type": "fragment"
    }
   },
   "outputs": [
    {
     "data": {
      "text/plain": [
       "NormaltestResult(statistic=221.33178660723647, pvalue=8.677871269019617e-49)"
      ]
     },
     "execution_count": 33,
     "metadata": {},
     "output_type": "execute_result"
    }
   ],
   "source": [
    "# normality test\n",
    "stats.normaltest(petal_length)"
   ]
  },
  {
   "cell_type": "code",
   "execution_count": 34,
   "metadata": {
    "slideshow": {
     "slide_type": "fragment"
    }
   },
   "outputs": [
    {
     "data": {
      "text/plain": [
       "NormaltestResult(statistic=136.77701788227716, pvalue=1.991810150572055e-30)"
      ]
     },
     "execution_count": 34,
     "metadata": {},
     "output_type": "execute_result"
    }
   ],
   "source": [
    "# normality test\n",
    "stats.normaltest(petal_width)"
   ]
  },
  {
   "cell_type": "code",
   "execution_count": 35,
   "metadata": {
    "slideshow": {
     "slide_type": "slide"
    }
   },
   "outputs": [
    {
     "data": {
      "text/plain": [
       "SignificanceResult(statistic=0.9360033509355781, pvalue=5.383649646073561e-69)"
      ]
     },
     "execution_count": 35,
     "metadata": {},
     "output_type": "execute_result"
    }
   ],
   "source": [
    "# Spearman’s Rank Correlation\n",
    "stats.spearmanr(petal_length, petal_width, alternative='two-sided')"
   ]
  },
  {
   "cell_type": "markdown",
   "metadata": {
    "slideshow": {
     "slide_type": "fragment"
    }
   },
   "source": [
    "Iris's petal length and petal width are positively correlated and that the correlation is 0.94."
   ]
  },
  {
   "cell_type": "markdown",
   "metadata": {
    "slideshow": {
     "slide_type": "slide"
    }
   },
   "source": [
    "### 4.4.3  Chi-squared-Test ($\\chi^2$-Test)\n",
    "* Chi-square test of independence of variables in a contingency table.\n",
    "\n",
    "* Assumptions\n",
    "\n",
    ">* Observations used in the calculation of the contingency table are independent.\n",
    ">* 25 or more examples in each cell of the contingency table.\n",
    "\n"
   ]
  },
  {
   "cell_type": "markdown",
   "metadata": {
    "slideshow": {
     "slide_type": "slide"
    }
   },
   "source": [
    "* Interpretation\n",
    "\n",
    "> * $H_0$: The two categorical variables are independent\n",
    "\t\t(i.e., there is no relationship between them)\n",
    "        \n",
    "> * $H_1$: The two categorical variables are dependent\n",
    "\t\t(i.e., there is a relationship between them)\n"
   ]
  },
  {
   "cell_type": "markdown",
   "metadata": {
    "slideshow": {
     "slide_type": "slide"
    }
   },
   "source": [
    "* Python Code\n",
    "\n",
    ">* scipy.stats.chi2_contingency(observed)\n",
    "\n",
    "https://scipy.github.io/devdocs/reference/generated/scipy.stats.chi2_contingency.html?highlight=chi2_contingency#scipy.stats.chi2_contingency"
   ]
  },
  {
   "cell_type": "markdown",
   "metadata": {
    "slideshow": {
     "slide_type": "slide"
    }
   },
   "source": [
    "**<font color = red>Example16</font>**\n",
    "\n",
    "The meal plan selected by 200 students is shown below. Is there a relationship between meal plan and class standing?"
   ]
  },
  {
   "cell_type": "code",
   "execution_count": 36,
   "metadata": {
    "scrolled": true,
    "slideshow": {
     "slide_type": "fragment"
    }
   },
   "outputs": [
    {
     "data": {
      "text/html": [
       "<div>\n",
       "<style scoped>\n",
       "    .dataframe tbody tr th:only-of-type {\n",
       "        vertical-align: middle;\n",
       "    }\n",
       "\n",
       "    .dataframe tbody tr th {\n",
       "        vertical-align: top;\n",
       "    }\n",
       "\n",
       "    .dataframe thead th {\n",
       "        text-align: right;\n",
       "    }\n",
       "</style>\n",
       "<table border=\"1\" class=\"dataframe\">\n",
       "  <thead>\n",
       "    <tr style=\"text-align: right;\">\n",
       "      <th></th>\n",
       "      <th>20/week</th>\n",
       "      <th>10/week</th>\n",
       "      <th>none</th>\n",
       "    </tr>\n",
       "    <tr>\n",
       "      <th>Class Standing</th>\n",
       "      <th></th>\n",
       "      <th></th>\n",
       "      <th></th>\n",
       "    </tr>\n",
       "  </thead>\n",
       "  <tbody>\n",
       "    <tr>\n",
       "      <th>Fresh.</th>\n",
       "      <td>24</td>\n",
       "      <td>32</td>\n",
       "      <td>14</td>\n",
       "    </tr>\n",
       "    <tr>\n",
       "      <th>Soph.</th>\n",
       "      <td>22</td>\n",
       "      <td>26</td>\n",
       "      <td>12</td>\n",
       "    </tr>\n",
       "    <tr>\n",
       "      <th>Junior</th>\n",
       "      <td>10</td>\n",
       "      <td>14</td>\n",
       "      <td>6</td>\n",
       "    </tr>\n",
       "    <tr>\n",
       "      <th>Senior</th>\n",
       "      <td>14</td>\n",
       "      <td>16</td>\n",
       "      <td>10</td>\n",
       "    </tr>\n",
       "    <tr>\n",
       "      <th>Total</th>\n",
       "      <td>70</td>\n",
       "      <td>88</td>\n",
       "      <td>42</td>\n",
       "    </tr>\n",
       "  </tbody>\n",
       "</table>\n",
       "</div>"
      ],
      "text/plain": [
       "                20/week  10/week  none\n",
       "Class Standing                        \n",
       "Fresh.               24       32    14\n",
       "Soph.                22       26    12\n",
       "Junior               10       14     6\n",
       "Senior               14       16    10\n",
       "Total                70       88    42"
      ]
     },
     "execution_count": 36,
     "metadata": {},
     "output_type": "execute_result"
    }
   ],
   "source": [
    "student = pd.read_excel('examples/student.xlsx',index_col=0)\n",
    "student "
   ]
  },
  {
   "cell_type": "markdown",
   "metadata": {
    "slideshow": {
     "slide_type": "slide"
    }
   },
   "source": [
    "$H_0$: Meal plan and class standing are independent (i.e., there is no relationship between them)\n",
    "\n",
    "$H_1$: Meal plan and class standing are dependent (i.e., there is a relationship between them)\n"
   ]
  },
  {
   "cell_type": "code",
   "execution_count": 37,
   "metadata": {
    "slideshow": {
     "slide_type": "fragment"
    }
   },
   "outputs": [
    {
     "data": {
      "text/plain": [
       "Chi2ContingencyResult(statistic=0.7093382807668522, pvalue=0.9942873142017763, dof=6, expected_freq=array([[24.5, 30.8, 14.7],\n",
       "       [21. , 26.4, 12.6],\n",
       "       [10.5, 13.2,  6.3],\n",
       "       [14. , 17.6,  8.4]]))"
      ]
     },
     "execution_count": 37,
     "metadata": {},
     "output_type": "execute_result"
    }
   ],
   "source": [
    "stats.chi2_contingency(student.iloc[0:4])"
   ]
  },
  {
   "cell_type": "markdown",
   "metadata": {
    "slideshow": {
     "slide_type": "fragment"
    }
   },
   "source": [
    "Conclusion: there is not sufficient evidence that meal plan and class standing are related at $\\alpha$= 0.05\n"
   ]
  },
  {
   "cell_type": "markdown",
   "metadata": {
    "slideshow": {
     "slide_type": "slide"
    }
   },
   "source": [
    "## 4.5 Example-Attend\n",
    "* Attend is a dataset that explores the relationship between attendance rate and academic performance across different classes."
   ]
  },
  {
   "cell_type": "markdown",
   "metadata": {
    "slideshow": {
     "slide_type": "slide"
    }
   },
   "source": [
    "ATTEND Descrition\n",
    "* attend: classes attended out of 32\n",
    "* termGPA:GPA for term\n",
    "* priGPA: cumulative GPA prior to term \n",
    "* ACT: ACT score\n",
    "* final: final exam score\n",
    "* atndrte: percent classes attended \n",
    "* hwrte: percent homework turned in\n",
    "* frosh: =1 if freshman \n",
    "* soph: =1 if sophomore \n",
    "* skipped: number of classes skipped\n",
    "* stndfnl: (final - mean)/sd"
   ]
  },
  {
   "cell_type": "markdown",
   "metadata": {
    "slideshow": {
     "slide_type": "slide"
    }
   },
   "source": [
    "### Load the dataset"
   ]
  },
  {
   "cell_type": "code",
   "execution_count": 38,
   "metadata": {
    "slideshow": {
     "slide_type": "slide"
    }
   },
   "outputs": [],
   "source": [
    "# Import modules\n",
    "import numpy as np\n",
    "import pandas as pd\n",
    "from scipy import stats\n",
    "import seaborn as sns"
   ]
  },
  {
   "cell_type": "code",
   "execution_count": 39,
   "metadata": {
    "slideshow": {
     "slide_type": "slide"
    }
   },
   "outputs": [
    {
     "data": {
      "text/html": [
       "<div>\n",
       "<style scoped>\n",
       "    .dataframe tbody tr th:only-of-type {\n",
       "        vertical-align: middle;\n",
       "    }\n",
       "\n",
       "    .dataframe tbody tr th {\n",
       "        vertical-align: top;\n",
       "    }\n",
       "\n",
       "    .dataframe thead th {\n",
       "        text-align: right;\n",
       "    }\n",
       "</style>\n",
       "<table border=\"1\" class=\"dataframe\">\n",
       "  <thead>\n",
       "    <tr style=\"text-align: right;\">\n",
       "      <th></th>\n",
       "      <th>attend</th>\n",
       "      <th>termGPA</th>\n",
       "      <th>priGPA</th>\n",
       "      <th>ACT</th>\n",
       "      <th>final</th>\n",
       "      <th>atndrte</th>\n",
       "      <th>hwrte</th>\n",
       "      <th>frosh</th>\n",
       "      <th>soph</th>\n",
       "      <th>skipped</th>\n",
       "      <th>stndfnl</th>\n",
       "    </tr>\n",
       "  </thead>\n",
       "  <tbody>\n",
       "    <tr>\n",
       "      <th>0</th>\n",
       "      <td>27</td>\n",
       "      <td>3.19</td>\n",
       "      <td>2.64</td>\n",
       "      <td>23</td>\n",
       "      <td>28</td>\n",
       "      <td>84.375</td>\n",
       "      <td>100</td>\n",
       "      <td>0</td>\n",
       "      <td>1</td>\n",
       "      <td>5</td>\n",
       "      <td>0.472689</td>\n",
       "    </tr>\n",
       "    <tr>\n",
       "      <th>1</th>\n",
       "      <td>22</td>\n",
       "      <td>2.73</td>\n",
       "      <td>3.52</td>\n",
       "      <td>25</td>\n",
       "      <td>26</td>\n",
       "      <td>68.750</td>\n",
       "      <td>87.5</td>\n",
       "      <td>0</td>\n",
       "      <td>0</td>\n",
       "      <td>10</td>\n",
       "      <td>0.052521</td>\n",
       "    </tr>\n",
       "    <tr>\n",
       "      <th>2</th>\n",
       "      <td>30</td>\n",
       "      <td>3.00</td>\n",
       "      <td>2.46</td>\n",
       "      <td>24</td>\n",
       "      <td>30</td>\n",
       "      <td>93.750</td>\n",
       "      <td>87.5</td>\n",
       "      <td>0</td>\n",
       "      <td>0</td>\n",
       "      <td>2</td>\n",
       "      <td>0.892857</td>\n",
       "    </tr>\n",
       "    <tr>\n",
       "      <th>3</th>\n",
       "      <td>31</td>\n",
       "      <td>2.04</td>\n",
       "      <td>2.61</td>\n",
       "      <td>20</td>\n",
       "      <td>27</td>\n",
       "      <td>96.875</td>\n",
       "      <td>100</td>\n",
       "      <td>0</td>\n",
       "      <td>1</td>\n",
       "      <td>1</td>\n",
       "      <td>0.262605</td>\n",
       "    </tr>\n",
       "    <tr>\n",
       "      <th>4</th>\n",
       "      <td>32</td>\n",
       "      <td>3.68</td>\n",
       "      <td>3.32</td>\n",
       "      <td>23</td>\n",
       "      <td>34</td>\n",
       "      <td>100.000</td>\n",
       "      <td>100</td>\n",
       "      <td>0</td>\n",
       "      <td>1</td>\n",
       "      <td>0</td>\n",
       "      <td>1.733193</td>\n",
       "    </tr>\n",
       "    <tr>\n",
       "      <th>...</th>\n",
       "      <td>...</td>\n",
       "      <td>...</td>\n",
       "      <td>...</td>\n",
       "      <td>...</td>\n",
       "      <td>...</td>\n",
       "      <td>...</td>\n",
       "      <td>...</td>\n",
       "      <td>...</td>\n",
       "      <td>...</td>\n",
       "      <td>...</td>\n",
       "      <td>...</td>\n",
       "    </tr>\n",
       "    <tr>\n",
       "      <th>675</th>\n",
       "      <td>25</td>\n",
       "      <td>1.00</td>\n",
       "      <td>2.31</td>\n",
       "      <td>18</td>\n",
       "      <td>22</td>\n",
       "      <td>78.125</td>\n",
       "      <td>100</td>\n",
       "      <td>0</td>\n",
       "      <td>1</td>\n",
       "      <td>7</td>\n",
       "      <td>-0.787815</td>\n",
       "    </tr>\n",
       "    <tr>\n",
       "      <th>676</th>\n",
       "      <td>32</td>\n",
       "      <td>2.69</td>\n",
       "      <td>2.38</td>\n",
       "      <td>19</td>\n",
       "      <td>19</td>\n",
       "      <td>100.000</td>\n",
       "      <td>100</td>\n",
       "      <td>0</td>\n",
       "      <td>1</td>\n",
       "      <td>0</td>\n",
       "      <td>-1.418067</td>\n",
       "    </tr>\n",
       "    <tr>\n",
       "      <th>677</th>\n",
       "      <td>32</td>\n",
       "      <td>3.66</td>\n",
       "      <td>3.61</td>\n",
       "      <td>22</td>\n",
       "      <td>30</td>\n",
       "      <td>100.000</td>\n",
       "      <td>100</td>\n",
       "      <td>0</td>\n",
       "      <td>1</td>\n",
       "      <td>0</td>\n",
       "      <td>0.892857</td>\n",
       "    </tr>\n",
       "    <tr>\n",
       "      <th>678</th>\n",
       "      <td>28</td>\n",
       "      <td>3.17</td>\n",
       "      <td>3.02</td>\n",
       "      <td>24</td>\n",
       "      <td>27</td>\n",
       "      <td>87.500</td>\n",
       "      <td>100</td>\n",
       "      <td>0</td>\n",
       "      <td>1</td>\n",
       "      <td>4</td>\n",
       "      <td>0.262605</td>\n",
       "    </tr>\n",
       "    <tr>\n",
       "      <th>679</th>\n",
       "      <td>14</td>\n",
       "      <td>1.80</td>\n",
       "      <td>1.19</td>\n",
       "      <td>24</td>\n",
       "      <td>29</td>\n",
       "      <td>43.750</td>\n",
       "      <td>62.5</td>\n",
       "      <td>1</td>\n",
       "      <td>0</td>\n",
       "      <td>18</td>\n",
       "      <td>0.682773</td>\n",
       "    </tr>\n",
       "  </tbody>\n",
       "</table>\n",
       "<p>680 rows × 11 columns</p>\n",
       "</div>"
      ],
      "text/plain": [
       "     attend  termGPA  priGPA  ACT  final  atndrte hwrte  frosh  soph  skipped  \\\n",
       "0        27     3.19    2.64   23     28   84.375   100      0     1        5   \n",
       "1        22     2.73    3.52   25     26   68.750  87.5      0     0       10   \n",
       "2        30     3.00    2.46   24     30   93.750  87.5      0     0        2   \n",
       "3        31     2.04    2.61   20     27   96.875   100      0     1        1   \n",
       "4        32     3.68    3.32   23     34  100.000   100      0     1        0   \n",
       "..      ...      ...     ...  ...    ...      ...   ...    ...   ...      ...   \n",
       "675      25     1.00    2.31   18     22   78.125   100      0     1        7   \n",
       "676      32     2.69    2.38   19     19  100.000   100      0     1        0   \n",
       "677      32     3.66    3.61   22     30  100.000   100      0     1        0   \n",
       "678      28     3.17    3.02   24     27   87.500   100      0     1        4   \n",
       "679      14     1.80    1.19   24     29   43.750  62.5      1     0       18   \n",
       "\n",
       "      stndfnl  \n",
       "0    0.472689  \n",
       "1    0.052521  \n",
       "2    0.892857  \n",
       "3    0.262605  \n",
       "4    1.733193  \n",
       "..        ...  \n",
       "675 -0.787815  \n",
       "676 -1.418067  \n",
       "677  0.892857  \n",
       "678  0.262605  \n",
       "679  0.682773  \n",
       "\n",
       "[680 rows x 11 columns]"
      ]
     },
     "execution_count": 39,
     "metadata": {},
     "output_type": "execute_result"
    }
   ],
   "source": [
    "# Load the data\n",
    "data = pd.read_excel('examples/attend.xls')\n",
    "data"
   ]
  },
  {
   "cell_type": "markdown",
   "metadata": {
    "slideshow": {
     "slide_type": "slide"
    }
   },
   "source": [
    "### Q1：If the final scores follow a normal distribution?"
   ]
  },
  {
   "cell_type": "markdown",
   "metadata": {
    "slideshow": {
     "slide_type": "fragment"
    }
   },
   "source": [
    "H0: the final scores has a Gaussian distribution.<br>\n",
    "H1: the final scores does not have a Gaussian distribution."
   ]
  },
  {
   "cell_type": "code",
   "execution_count": 40,
   "metadata": {
    "slideshow": {
     "slide_type": "slide"
    }
   },
   "outputs": [
    {
     "data": {
      "text/plain": [
       "<Axes: xlabel='final', ylabel='Count'>"
      ]
     },
     "execution_count": 40,
     "metadata": {},
     "output_type": "execute_result"
    },
    {
     "data": {
      "image/png": "[encoded data removed]",
      "text/plain": [
       "<Figure size 640x480 with 1 Axes>"
      ]
     },
     "metadata": {},
     "output_type": "display_data"
    }
   ],
   "source": [
    "# Normality Tests - Graphical Methods\n",
    "sns.histplot(data['final'])"
   ]
  },
  {
   "cell_type": "markdown",
   "metadata": {
    "slideshow": {
     "slide_type": "fragment"
    }
   },
   "source": [
    "* We can see a Gaussian-like shape to the data, that although is not strongly the familiar bell-shape, is a rough approximation."
   ]
  },
  {
   "cell_type": "code",
   "execution_count": 41,
   "metadata": {
    "slideshow": {
     "slide_type": "slide"
    }
   },
   "outputs": [
    {
     "data": {
      "text/plain": [
       "NormaltestResult(statistic=0.5552388187034853, pvalue=0.7575850964564527)"
      ]
     },
     "execution_count": 41,
     "metadata": {},
     "output_type": "execute_result"
    }
   ],
   "source": [
    "# Statistical Normality Tests\n",
    "stats.normaltest(data['final'])"
   ]
  },
  {
   "cell_type": "markdown",
   "metadata": {
    "slideshow": {
     "slide_type": "fragment"
    }
   },
   "source": [
    "* P-value>0.05, can not reject null hypothesis.\n",
    "* Final scores follow a normal distribution"
   ]
  },
  {
   "cell_type": "markdown",
   "metadata": {
    "slideshow": {
     "slide_type": "slide"
    }
   },
   "source": [
    "### Q2：Is the mean of final scores equal to 25?"
   ]
  },
  {
   "cell_type": "markdown",
   "metadata": {
    "slideshow": {
     "slide_type": "fragment"
    }
   },
   "source": [
    "$H_0 : \\mu =25$ <br>     $ H_1: \\mu \\neq25 $"
   ]
  },
  {
   "cell_type": "code",
   "execution_count": 42,
   "metadata": {
    "slideshow": {
     "slide_type": "slide"
    }
   },
   "outputs": [
    {
     "data": {
      "text/plain": [
       "TtestResult(statistic=4.934151687162019, pvalue=1.0136682637964014e-06, df=679)"
      ]
     },
     "execution_count": 42,
     "metadata": {},
     "output_type": "execute_result"
    }
   ],
   "source": [
    "stats.ttest_1samp(data['final'],25)"
   ]
  },
  {
   "cell_type": "markdown",
   "metadata": {
    "slideshow": {
     "slide_type": "fragment"
    }
   },
   "source": [
    "* P-value is 1e-6 < 0.05, reject null hypothesis.\n",
    "* There is no significant evidence that the average final score is 25."
   ]
  },
  {
   "cell_type": "markdown",
   "metadata": {
    "slideshow": {
     "slide_type": "slide"
    }
   },
   "source": [
    "$H_0 : \\mu =26$ <br>     $ H_1: \\mu \\neq26 $"
   ]
  },
  {
   "cell_type": "code",
   "execution_count": 43,
   "metadata": {
    "slideshow": {
     "slide_type": "fragment"
    }
   },
   "outputs": [
    {
     "data": {
      "text/plain": [
       "TtestResult(statistic=-0.6025201730197876, pvalue=0.5470291016100857, df=679)"
      ]
     },
     "execution_count": 43,
     "metadata": {},
     "output_type": "execute_result"
    }
   ],
   "source": [
    "stats.ttest_1samp(data['final'],26)"
   ]
  },
  {
   "cell_type": "markdown",
   "metadata": {
    "slideshow": {
     "slide_type": "fragment"
    }
   },
   "source": [
    "* P-value is 0.547 > 0.05, can not reject null hypothesis.\n",
    "* There is a 95% confidence interval that the average final score is 26."
   ]
  },
  {
   "cell_type": "markdown",
   "metadata": {
    "slideshow": {
     "slide_type": "slide"
    }
   },
   "source": [
    "### Q3：Does attendance has a significant effect on final scores?"
   ]
  },
  {
   "cell_type": "markdown",
   "metadata": {
    "slideshow": {
     "slide_type": "fragment"
    }
   },
   "source": [
    " $H_0$ : the means of the samples are equal.<br>\n",
    " $H_1$: the means of the samples are unequal. "
   ]
  },
  {
   "cell_type": "code",
   "execution_count": 44,
   "metadata": {
    "slideshow": {
     "slide_type": "slide"
    }
   },
   "outputs": [],
   "source": [
    "# Split the dataset into two parts based on attendance\n",
    "attend_min = data[data['attend'] <= 28]\n",
    "attend_max = data[data['attend'] > 28]"
   ]
  },
  {
   "cell_type": "code",
   "execution_count": 45,
   "metadata": {
    "slideshow": {
     "slide_type": "fragment"
    }
   },
   "outputs": [
    {
     "data": {
      "text/plain": [
       "LeveneResult(statistic=7.646442080655674, pvalue=0.005843161220277236)"
      ]
     },
     "execution_count": 45,
     "metadata": {},
     "output_type": "execute_result"
    }
   ],
   "source": [
    "# Homogeneity of Variance can be tested with Levene’s Test.\n",
    "stats.levene(attend_min['final'], attend_max['final'])"
   ]
  },
  {
   "cell_type": "markdown",
   "metadata": {
    "slideshow": {
     "slide_type": "fragment"
    }
   },
   "source": [
    "* P-value is less than 0.05, indicating this two group have different variances."
   ]
  },
  {
   "cell_type": "code",
   "execution_count": 46,
   "metadata": {
    "slideshow": {
     "slide_type": "slide"
    }
   },
   "outputs": [
    {
     "data": {
      "text/plain": [
       "Ttest_indResult(statistic=-3.544249132121724, pvalue=0.00042951705181900495)"
      ]
     },
     "execution_count": 46,
     "metadata": {},
     "output_type": "execute_result"
    }
   ],
   "source": [
    "# Two-sample t-test ( equal_var=False)\n",
    "stats.ttest_ind(attend_min['final'], attend_max['final'], equal_var=False)"
   ]
  },
  {
   "cell_type": "markdown",
   "metadata": {
    "slideshow": {
     "slide_type": "fragment"
    }
   },
   "source": [
    "* P-value is less than 0.05, reject null hypothesis.\n",
    "* This indicats that the means of the two populations are different.\n",
    "* Attendance has a significant effect on final scores."
   ]
  },
  {
   "cell_type": "markdown",
   "metadata": {
    "slideshow": {
     "slide_type": "slide"
    }
   },
   "source": [
    "### Q4：Does the attendance variance remain unchanged for freshmen and sophomore students?"
   ]
  },
  {
   "cell_type": "markdown",
   "metadata": {
    "slideshow": {
     "slide_type": "fragment"
    }
   },
   "source": [
    " $H_0$ : the attendance variance of freshman and sophomore are same.<br>\n",
    " $H_1$: the attendance variance of freshman and sophomore are not same."
   ]
  },
  {
   "cell_type": "code",
   "execution_count": 47,
   "metadata": {
    "slideshow": {
     "slide_type": "slide"
    }
   },
   "outputs": [],
   "source": [
    "# Split the dataset into two parts\n",
    "rosh = data[data['frosh'] == 1] # Freshmen\n",
    "soph = data[data['soph'] == 1] # Sophomores"
   ]
  },
  {
   "cell_type": "code",
   "execution_count": 48,
   "metadata": {
    "slideshow": {
     "slide_type": "fragment"
    }
   },
   "outputs": [
    {
     "data": {
      "text/plain": [
       "LeveneResult(statistic=0.591165462911989, pvalue=0.4423000311848697)"
      ]
     },
     "execution_count": 48,
     "metadata": {},
     "output_type": "execute_result"
    }
   ],
   "source": [
    "# Levene’s Test.\n",
    "stats.levene(rosh['attend'], soph['attend'])"
   ]
  },
  {
   "cell_type": "markdown",
   "metadata": {
    "slideshow": {
     "slide_type": "fragment"
    }
   },
   "source": [
    "* P-value is 0.44 > 0.05, can not reject null hypothesis.\n",
    "* The attendance variance of freshman and sophomore students remains unchanged."
   ]
  },
  {
   "cell_type": "markdown",
   "metadata": {
    "slideshow": {
     "slide_type": "slide"
    }
   },
   "source": [
    "### Q5：Does different levels of skipped have effect on final grades?"
   ]
  },
  {
   "cell_type": "markdown",
   "metadata": {
    "slideshow": {
     "slide_type": "fragment"
    }
   },
   "source": [
    " $H_0$: the distribution of final grades for different levels of skipped are same.<br>\n",
    " $H_1$: the distribution of final grades for different levels of skipped are different"
   ]
  },
  {
   "cell_type": "code",
   "execution_count": 49,
   "metadata": {
    "slideshow": {
     "slide_type": "slide"
    }
   },
   "outputs": [],
   "source": [
    "# # Split the dataset into 3 parts\n",
    "skipped_A = data[data['skipped'] < 10]\n",
    "skipped_B = data[(10<=data['skipped'] )& (data['skipped']< 20)]\n",
    "skipped_C = data[(20<=data['skipped'] )& (data['skipped']<= 30)]"
   ]
  },
  {
   "cell_type": "code",
   "execution_count": 50,
   "metadata": {
    "slideshow": {
     "slide_type": "fragment"
    }
   },
   "outputs": [
    {
     "data": {
      "text/plain": [
       "LeveneResult(statistic=2.2131198825288525, pvalue=0.1101495213583844)"
      ]
     },
     "execution_count": 50,
     "metadata": {},
     "output_type": "execute_result"
    }
   ],
   "source": [
    "# Homogeneity of Variance can be tested with Levene’s Test.\n",
    "stats.levene(skipped_A['final'], skipped_B['final'],skipped_C['final'])"
   ]
  },
  {
   "cell_type": "markdown",
   "metadata": {
    "slideshow": {
     "slide_type": "fragment"
    }
   },
   "source": [
    "* P-value is 0.11 > 0.05, can not reject null hypothesis.\n",
    "* The variance are equal."
   ]
  },
  {
   "cell_type": "code",
   "execution_count": 51,
   "metadata": {
    "slideshow": {
     "slide_type": "slide"
    }
   },
   "outputs": [
    {
     "data": {
      "text/plain": [
       "F_onewayResult(statistic=4.573945915883215, pvalue=0.01063804003548288)"
      ]
     },
     "execution_count": 51,
     "metadata": {},
     "output_type": "execute_result"
    }
   ],
   "source": [
    "# one-way ANOVA\n",
    "stats.f_oneway(skipped_A['final'], skipped_B['final'],skipped_C['final'])"
   ]
  },
  {
   "cell_type": "markdown",
   "metadata": {
    "slideshow": {
     "slide_type": "fragment"
    }
   },
   "source": [
    "* P-value is 0.01 < 0.05, reject null hypothesis.\n",
    "* The different levels of skipped have an effect on final scores."
   ]
  },
  {
   "cell_type": "markdown",
   "metadata": {
    "slideshow": {
     "slide_type": "slide"
    }
   },
   "source": [
    "### Q6：Is there a relationship between ACT scores and termGPA?"
   ]
  },
  {
   "cell_type": "markdown",
   "metadata": {
    "slideshow": {
     "slide_type": "fragment"
    }
   },
   "source": [
    " $H_0$ :There is no relationship between ACT and termGPA<br>\n",
    " $ H_1$: There is a relationship between ACT and termGPA "
   ]
  },
  {
   "cell_type": "code",
   "execution_count": 52,
   "metadata": {
    "slideshow": {
     "slide_type": "slide"
    }
   },
   "outputs": [
    {
     "data": {
      "text/plain": [
       "PearsonRResult(statistic=0.24564126029122602, pvalue=8.386277254429251e-11)"
      ]
     },
     "execution_count": 52,
     "metadata": {},
     "output_type": "execute_result"
    }
   ],
   "source": [
    "# Correlation test\n",
    "stats.pearsonr(data['ACT'], data['termGPA'])"
   ]
  },
  {
   "cell_type": "markdown",
   "metadata": {
    "slideshow": {
     "slide_type": "fragment"
    }
   },
   "source": [
    "* p-value is less than 0.05, reject the null hypothesis.\n",
    "* ACT have an impact on termGPA"
   ]
  },
  {
   "cell_type": "markdown",
   "metadata": {
    "slideshow": {
     "slide_type": "slide"
    }
   },
   "source": [
    "### Q7：Does the status of freshmen and sophomores have effect on ACT?\n"
   ]
  },
  {
   "cell_type": "markdown",
   "metadata": {
    "slideshow": {
     "slide_type": "fragment"
    }
   },
   "source": [
    " $H_0$ :ACT and frosh are independent<br>\n",
    " $H_1$: ACT and frosh are dependent "
   ]
  },
  {
   "cell_type": "code",
   "execution_count": 53,
   "metadata": {
    "slideshow": {
     "slide_type": "slide"
    }
   },
   "outputs": [],
   "source": [
    "# Discretize ACT\n",
    "data['new_ACT'] = pd.cut(data.ACT,bins = 4)"
   ]
  },
  {
   "cell_type": "code",
   "execution_count": 54,
   "metadata": {
    "slideshow": {
     "slide_type": "fragment"
    }
   },
   "outputs": [
    {
     "data": {
      "text/html": [
       "<div>\n",
       "<style scoped>\n",
       "    .dataframe tbody tr th:only-of-type {\n",
       "        vertical-align: middle;\n",
       "    }\n",
       "\n",
       "    .dataframe tbody tr th {\n",
       "        vertical-align: top;\n",
       "    }\n",
       "\n",
       "    .dataframe thead th {\n",
       "        text-align: right;\n",
       "    }\n",
       "</style>\n",
       "<table border=\"1\" class=\"dataframe\">\n",
       "  <thead>\n",
       "    <tr style=\"text-align: right;\">\n",
       "      <th>frosh</th>\n",
       "      <th>0</th>\n",
       "      <th>1</th>\n",
       "    </tr>\n",
       "    <tr>\n",
       "      <th>new_ACT</th>\n",
       "      <th></th>\n",
       "      <th></th>\n",
       "    </tr>\n",
       "  </thead>\n",
       "  <tbody>\n",
       "    <tr>\n",
       "      <th>(12.981, 17.75]</th>\n",
       "      <td>32</td>\n",
       "      <td>20</td>\n",
       "    </tr>\n",
       "    <tr>\n",
       "      <th>(17.75, 22.5]</th>\n",
       "      <td>214</td>\n",
       "      <td>75</td>\n",
       "    </tr>\n",
       "    <tr>\n",
       "      <th>(22.5, 27.25]</th>\n",
       "      <td>228</td>\n",
       "      <td>55</td>\n",
       "    </tr>\n",
       "    <tr>\n",
       "      <th>(27.25, 32.0]</th>\n",
       "      <td>48</td>\n",
       "      <td>8</td>\n",
       "    </tr>\n",
       "  </tbody>\n",
       "</table>\n",
       "</div>"
      ],
      "text/plain": [
       "frosh              0   1\n",
       "new_ACT                 \n",
       "(12.981, 17.75]   32  20\n",
       "(17.75, 22.5]    214  75\n",
       "(22.5, 27.25]    228  55\n",
       "(27.25, 32.0]     48   8"
      ]
     },
     "execution_count": 54,
     "metadata": {},
     "output_type": "execute_result"
    }
   ],
   "source": [
    "# Create a contingency table for chi-squared test\n",
    "t = pd.crosstab(data['new_ACT'],data['frosh'])\n",
    "t"
   ]
  },
  {
   "cell_type": "code",
   "execution_count": 55,
   "metadata": {
    "slideshow": {
     "slide_type": "slide"
    }
   },
   "outputs": [
    {
     "data": {
      "text/plain": [
       "Chi2ContingencyResult(statistic=12.760985750637989, pvalue=0.0051830590984952825, dof=3, expected_freq=array([[ 39.91764706,  12.08235294],\n",
       "       [221.85      ,  67.15      ],\n",
       "       [217.24411765,  65.75588235],\n",
       "       [ 42.98823529,  13.01176471]]))"
      ]
     },
     "execution_count": 55,
     "metadata": {},
     "output_type": "execute_result"
    }
   ],
   "source": [
    "stats.contingency.chi2_contingency(t, False)"
   ]
  },
  {
   "cell_type": "markdown",
   "metadata": {
    "slideshow": {
     "slide_type": "fragment"
    }
   },
   "source": [
    "* p-value is less than 0.05, reject the null hypothesis.\n",
    "* the ACT scores of students in different grades are not equal."
   ]
  }
 ],
 "metadata": {
  "celltoolbar": "幻灯片",
  "kernelspec": {
   "display_name": "Python 3",
   "language": "python",
   "name": "python3"
  },
  "language_info": {
   "codemirror_mode": {
    "name": "ipython",
    "version": 3
   },
   "file_extension": ".py",
   "mimetype": "text/x-python",
   "name": "python",
   "nbconvert_exporter": "python",
   "pygments_lexer": "ipython3",
   "version": "3.10.9"
  }
 },
 "nbformat": 4,
 "nbformat_minor": 4
}
