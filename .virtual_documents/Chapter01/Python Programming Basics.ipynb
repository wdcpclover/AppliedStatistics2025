


import math

def calculate_area(radius):
    # Simple function to calculate the area of a circle
    area = math.pi * radius ** 2
    return area

circle_area = calculate_area(5)
print(circle_area)  # Outputs the area of the circle






def my_function():
    for i in range(10):
        print(i)






items = ['apples', 'oranges', 'pears',
         'bananas', 'grapes', 'berries']






# More indentation included to distinguish this from the rest.
if (some_condition and
    another_condition):
    do_something()






# Aligned with the opening delimiter.
foo = long_function_name(var_one, var_two,
                         var_three, var_four)






import keyword
print(keyword.kwlist)  # Outputs all the reserved keywords in Python






number = 42                # Integer
pi_value = 3.14159         # Float
name = "Alice"             # String
is_valid = True            # Boolean

print(type(number), type(pi_value), type(name), type(is_valid))









x = 10          # Initially an integer
x = "Ten"       # Now a string
print(x)






fruits = ["apple", "banana", "cherry"]
fruits.append("orange")  # Adding an item to the list
print(fruits)






coordinates = (10, 20)
print(coordinates)






person = {"name": "John", "age": 30}
person["location"] = "New York"  # Adding a new key-value pair
print(person)






numbers = {1, 2, 3}
numbers.add(4)  # Adding an item
print(numbers)






# help()


help(for)  # Displays information about the print function



print?


if?


add?


numbers?


help()



