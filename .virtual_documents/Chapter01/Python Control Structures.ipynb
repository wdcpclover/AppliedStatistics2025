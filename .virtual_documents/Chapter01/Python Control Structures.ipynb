


age = 20
if age >= 18:
    print("You are an adult.")






age = 16
if age >= 18:
    print("You are an adult.")
else:
    print("You are not an adult.")






age = 65
if age < 18:
    print("You are a minor.")
elif age < 65:
    print("You are an adult.")
else:
    print("You are a senior citizen.")






fruits = ["apple", "banana", "cherry"]
for fruit in fruits:
    print(fruit)






count = 0
while count < 5:
    print("Number:", count)
    count += 1






for number in range(10):
    if number % 2 == 0:
        continue  # Skip print for even numbers.
    print(f"Odd number: {number}")






for number in range(10):
    if number > 5:
        break  # Exit the loop if number is greater than 5.
    print(f"Number: {number}")






def switch_case(argument):
    switcher = {
        1: "Case 1",
        2: "Case 2",
        3: "Case 3",
    }
    return switcher.get(argument, "Default case")

# Test the function
print(switch_case(2))
print(switch_case(4))







