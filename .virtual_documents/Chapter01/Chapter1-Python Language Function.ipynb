





def my_function():
    print("Hello from a function")






def my_function():
    # This is the function body.
    print("Hello from a function")






my_function()  # This calls the function and executes its body






def greet(name):
    print("Hello, " + name + "!")






def add(x, y):
    return x + y






def greet(name, greeting="Hello"):
    print(greeting + ", " + name + "!")

greet("Alice")           # Uses default greeting
greet("Bob", "Goodbye")  # Overrides default greeting






def some_function():
    local_variable = "I am local"
    print(local_variable)  # Works fine here

# print(local_variable)  # This would cause an error because it's outside the function






global_variable = "I am global"

def use_global():
    global global_variable
    global_variable = "Modified global variable"
    print(global_variable)

use_global()  # Outputs "Modified global variable"
print(global_variable)  # Also outputs "Modified global variable"









square = lambda x: x * x
print(square(5))  # Outputs 25






def apply_function(f, value):
    return f(value)

result = apply_function(lambda x: x*x, 5)  # Outputs 25
print(result)






def factorial(n):
    if n == 1:
        return 1
    else:
        return n * factorial(n-1)

print(factorial(5))  # Outputs 120






def divide(x, y):
    try:
        result = x / y
    except ZeroDivisionError:
        print("Error: Cannot divide by zero.")
    else:
        print("Result is", result)







