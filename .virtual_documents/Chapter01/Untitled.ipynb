


x = 10       # Assigning an integer to the variable x
name = "Alice" # Assigning a string to the variable name
price = 19.99  # Assigning a float to the variable price
is_active = True  # Assigning a boolean value to the variable is_active





age = 25
name = "John"
_name = "Sarah"
x1 = 50


1age = 25  # Error: Cannot start with a number
if = 10    # Error: 'if' is a reserved keyword





fruits = ["apple", "banana", "cherry"]
print(fruits[0])  # Output: apple
fruits.append("orange")  # Adding an item to the list
print(fruits)  # Output: ['apple', 'banana', 'cherry', 'orange']





coordinates = (10, 20, 30)
print(coordinates[1])  # Output: 20






person = {"name": "Alice", "age": 25, "city": "New York"}
print(person["name"])  # Output: Alice
person["age"] = 26     # Modifying an existing key's value
print(person)  # Output: {'name': 'Alice', 'age': 26, 'city': 'New York'}





numbers = {1, 2, 3, 4, 5}
print(numbers)  # Output: {1, 2, 3, 4, 5}
numbers.add(6)  # Adding an element to the set
print(numbers)  # Output: {1, 2, 3, 4, 5, 6}





# Adding elements
fruits.append("grape")  # Adds 'grape' to the end
fruits.insert(1, "kiwi")  # Adds 'kiwi' at index 1
print(fruits)  # Output: ['apple', 'kiwi', 'banana', 'cherry', 'orange', 'grape']

# Removing elements
fruits.remove("kiwi")  # Removes 'kiwi'
print(fruits)  # Output: ['apple', 'banana', 'cherry', 'orange', 'grape']





# Adding a new key-value pair
person["email"] = "alice@example.com"
print(person)  # Output: {'name': 'Alice', 'age': 26, 'city': 'New York', 'email': 'alice@example.com'}

# Removing a key-value pair
del person["city"]
print(person)  # Output: {'name': 'Alice', 'age': 26, 'email': 'alice@example.com'}





# Adding an element
numbers.add(7)
print(numbers)  # Output: {1, 2, 3, 4, 5, 6, 7}

# Removing an element
numbers.remove(4)  # Removes 4 from the set
print(numbers)  # Output: {1, 2, 3, 5, 6, 7}






