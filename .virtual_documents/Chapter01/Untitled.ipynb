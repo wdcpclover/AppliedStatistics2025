


try:
    x = int(input("Enter a number: "))
    result = 10 / x
except ZeroDivisionError:
    print("Cannot divide by zero.")
except ValueError:
    print("Invalid input. Please enter a valid number.")
except Exception as e:
    print(f"An unexpected error occurred: {e}")
else:
    print("Calculation successful!")
finally:
    print("Execution completed.")


    x = int(input("Enter a number: "))
    result = 10 / x





class CustomError(Exception):
    """Custom exception class"""
    pass

def test_custom_error():
    raise CustomError("This is a custom error message.")

try:
    test_custom_error()
except CustomError as e:
    print(f"Caught an error: {e}")





def function_a():
    raise ValueError("Error in function A")

def function_b():
    function_a()

try:
    function_b()
except ValueError as e:
    print(f"Caught an error: {e}")





try:
    x = int(input("Enter a number: "))
    result = 10 / x
except ZeroDivisionError:
    print("Cannot divide by zero.")
except ValueError:
    print("Invalid input. Please enter a valid number.")
else:
    print("No error occurred. Result:", result)
finally:
    print("Cleaning up... This block is always executed.")






