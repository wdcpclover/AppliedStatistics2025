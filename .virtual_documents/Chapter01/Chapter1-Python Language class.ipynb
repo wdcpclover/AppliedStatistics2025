


class Dog:
    def __init__(self, name, age):
        self.name = name
        self.age = age

    def bark(self):
        return "Woof!"



heihei =  Dog('heihei',3)


heihei.bark()





class Dog:
    def __init__(self, name, age):
        self.name = name
        self.age = age

    def bark(self):
        return "Woof!"

    def birthday(self):
        self.age += 1
        return f"Happy {self.age}th Birthday, {self.name}!"






class Math:
    @staticmethod
    def add(x, y):
        return x + y






class Counter:
    count = 0

    @classmethod
    def increment(cls):
        cls.count += 1
        return cls.count






class Account:
    def __init__(self, owner, amount):
        self.owner = owner
        self.__balance = amount  # Private attribute

    def __update_balance(self, amount):  # Private method
        self.__balance += amount






class Dog:
    def speak(self):
        return "Woof!"

class Cat(Dog):
    def speak(self):
        return "Meow!"



Cat?






class A:
    def explore(self):
        print("Exploring from A")

class B:
    def search(self):
        print("Searching from B")

class C(A, B):
    pass



c1=C()
c1.explore()
c1.search()






