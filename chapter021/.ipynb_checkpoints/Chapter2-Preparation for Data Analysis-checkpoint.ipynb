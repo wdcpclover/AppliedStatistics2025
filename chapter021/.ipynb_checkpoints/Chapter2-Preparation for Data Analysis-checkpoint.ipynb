{
 "cells": [
  {
   "cell_type": "markdown",
   "metadata": {
    "slideshow": {
     "slide_type": "slide"
    }
   },
   "source": [
    "# Chapter 2 Preparation for Data Analysis\n",
    "* The Python core distribution contains only the essential features of a general programming language\n",
    "* The structure of the most important Python packages for statistical applications\n",
    "\n",
    "![](pictures/py.jpg)"
   ]
  },
  {
   "cell_type": "markdown",
   "metadata": {
    "slideshow": {
     "slide_type": "slide"
    }
   },
   "source": [
    "* ipython & jupyter notebook : For interactive work.\n",
    "* numpy : For working with vectors and arrays.\n",
    "* scipy : All the essential scientific algorithms, including those for basic statistics.\n",
    "* matplotlib : The de-facto standard module for plotting and visualization.\n",
    "* pandas : Adds DataFrames (imagine powerful spreadsheets) to Python.\n",
    "* statsmodels : For statistical modeling and advanced analysis.\n",
    "* seaborn: For visualization of statistical data."
   ]
  },
  {
   "cell_type": "markdown",
   "metadata": {
    "slideshow": {
     "slide_type": "slide"
    }
   },
   "source": [
    "In addition to these fairly general packages, some specialized packages have also been used in the examples accompanying this course:\n",
    "* patsy : For working with statistical formulas.\n",
    "* xlrd : For reading and writing MS Excel files.\n",
    "* scikit-learn : For machine learning.\n",
    "* scikits.bootstrap : Provides bootstrap confidence interval algorithms for scipy."
   ]
  },
  {
   "cell_type": "markdown",
   "metadata": {
    "slideshow": {
     "slide_type": "slide"
    }
   },
   "source": [
    "* Instalation Pyphon Package\n",
    ">* conda install \\<package_name\\>\n",
    "* Updatating Pyphon Package\n",
    ">* conda update \\<package_name\\>\n",
    "\n",
    "You can also use *pip* conmand."
   ]
  },
  {
   "cell_type": "markdown",
   "metadata": {
    "slideshow": {
     "slide_type": "slide"
    }
   },
   "source": [
    "### Import Conventions\n",
    "* The Python community has adopted a number of naming conventions for commonly used modules:\n",
    ">* import numpy as np\n",
    ">* import pandas as pd\n",
    ">* import statsmodels as sm\n",
    ">* import matplotlib.pyplot as plt\n",
    ">* import seaborn as sns\n",
    "* This means that when you see np.arange, this is a reference to the arange function in NumPy. \n",
    "* It’s considered bad practice in Python software development to import everything (from numpy import *) from a large package like NumPy"
   ]
  },
  {
   "cell_type": "markdown",
   "metadata": {
    "slideshow": {
     "slide_type": "slide"
    }
   },
   "source": [
    "* Python Resources\n",
    ">* https://numpy.org/\n",
    ">* https://pandas.pydata.org/\n",
    ">* https://scikit-learn.org/stable/\n",
    ">* https://www.scipy.org/\n",
    ">* https://www.statsmodels.org/stable/index.html\n",
    ">* https://matplotlib.org/\n",
    ">* https://seaborn.pydata.org/"
   ]
  },
  {
   "cell_type": "markdown",
   "metadata": {
    "slideshow": {
     "slide_type": "slide"
    }
   },
   "source": [
    "## 2.1NumPy Basics: Arrays and Vectorized Computation\n",
    "\n",
    "* numpy is the Python module that makes working with numbers efficient. It is commonly imported with\n",
    "\n",
    ">* import numpy as np"
   ]
  },
  {
   "cell_type": "markdown",
   "metadata": {
    "slideshow": {
     "slide_type": "slide"
    }
   },
   "source": [
    "### 2.1.1 Creating ndarrays"
   ]
  },
  {
   "cell_type": "markdown",
   "metadata": {
    "slideshow": {
     "slide_type": "fragment"
    }
   },
   "source": [
    "* The easiest way to create an array is to use the **array** function. This accepts any sequence-like object (including other arrays) and produces a new NumPy array containing the passed data."
   ]
  },
  {
   "cell_type": "code",
   "execution_count": 1,
   "metadata": {
    "slideshow": {
     "slide_type": "fragment"
    }
   },
   "outputs": [],
   "source": [
    "import numpy as np"
   ]
  },
  {
   "cell_type": "code",
   "execution_count": 2,
   "metadata": {
    "slideshow": {
     "slide_type": "fragment"
    }
   },
   "outputs": [
    {
     "data": {
      "text/plain": [
       "array([6. , 7.5, 8. , 0. , 1. ])"
      ]
     },
     "execution_count": 2,
     "metadata": {},
     "output_type": "execute_result"
    }
   ],
   "source": [
    "data1 = [6, 7.5, 8, 0, 1]\n",
    "arr1 = np.array(data1)\n",
    "arr1"
   ]
  },
  {
   "cell_type": "code",
   "execution_count": 3,
   "metadata": {
    "slideshow": {
     "slide_type": "slide"
    }
   },
   "outputs": [
    {
     "data": {
      "text/plain": [
       "array([[1, 2, 3, 4],\n",
       "       [5, 6, 7, 8]])"
      ]
     },
     "execution_count": 3,
     "metadata": {},
     "output_type": "execute_result"
    }
   ],
   "source": [
    "data2 = [[1, 2, 3, 4], [5, 6, 7, 8]]\n",
    "arr2 = np.array(data2)\n",
    "arr2"
   ]
  },
  {
   "cell_type": "code",
   "execution_count": 4,
   "metadata": {
    "slideshow": {
     "slide_type": "fragment"
    }
   },
   "outputs": [
    {
     "data": {
      "text/plain": [
       "(2, 4)"
      ]
     },
     "execution_count": 4,
     "metadata": {},
     "output_type": "execute_result"
    }
   ],
   "source": [
    "arr2.shape"
   ]
  },
  {
   "cell_type": "markdown",
   "metadata": {
    "slideshow": {
     "slide_type": "slide"
    }
   },
   "source": [
    "* **np.zeros**  generates zeros.   \n",
    "* **np.ones** generates ones.\n",
    "* **np.empty** creates an array without initializing its values to any particular value.\n",
    "* Note that it takes only one(!) input.\n",
    "* If you want to generate a matrix, this input has to be a tuple, containing the number of rows/columns"
   ]
  },
  {
   "cell_type": "code",
   "execution_count": 5,
   "metadata": {
    "slideshow": {
     "slide_type": "fragment"
    }
   },
   "outputs": [
    {
     "data": {
      "text/plain": [
       "array([0., 0., 0.])"
      ]
     },
     "execution_count": 5,
     "metadata": {},
     "output_type": "execute_result"
    }
   ],
   "source": [
    " np.zeros(3)"
   ]
  },
  {
   "cell_type": "code",
   "execution_count": 6,
   "metadata": {
    "slideshow": {
     "slide_type": "fragment"
    }
   },
   "outputs": [
    {
     "data": {
      "text/plain": [
       "array([[1., 1., 1.],\n",
       "       [1., 1., 1.]])"
      ]
     },
     "execution_count": 6,
     "metadata": {},
     "output_type": "execute_result"
    }
   ],
   "source": [
    " np.ones( (2,3) )"
   ]
  },
  {
   "cell_type": "code",
   "execution_count": 7,
   "metadata": {
    "slideshow": {
     "slide_type": "slide"
    }
   },
   "outputs": [
    {
     "data": {
      "text/plain": [
       "array([[[6.23042070e-307, 4.67296746e-307, 1.69121096e-306,\n",
       "         1.33511018e-306],\n",
       "        [7.56599807e-307, 8.90104239e-307, 1.24610383e-306,\n",
       "         1.69118108e-306],\n",
       "        [8.06632139e-308, 1.20160711e-306, 1.69119330e-306,\n",
       "         1.29062229e-306]],\n",
       "\n",
       "       [[1.29060531e-306, 6.89805151e-307, 7.56592338e-307,\n",
       "         6.89807188e-307],\n",
       "        [6.89805151e-307, 1.78020169e-306, 8.45559303e-307,\n",
       "         1.06811422e-306],\n",
       "        [1.05694828e-307, 2.22522596e-306, 1.37961370e-306,\n",
       "         2.12201943e-312]]])"
      ]
     },
     "execution_count": 7,
     "metadata": {},
     "output_type": "execute_result"
    }
   ],
   "source": [
    "arr=np.empty( (2,3,4) )\n",
    "arr"
   ]
  },
  {
   "cell_type": "markdown",
   "metadata": {
    "slideshow": {
     "slide_type": "slide"
    }
   },
   "source": [
    "* **np.random.randn** generates normally distributed numbers, with a mean of 0 and a standard deviation of 1."
   ]
  },
  {
   "cell_type": "code",
   "execution_count": 8,
   "metadata": {
    "slideshow": {
     "slide_type": "fragment"
    }
   },
   "outputs": [
    {
     "data": {
      "text/plain": [
       "array([[-1.49678695, -0.08354603,  0.91726602],\n",
       "       [-1.28321858,  0.33563987,  0.63476335]])"
      ]
     },
     "execution_count": 8,
     "metadata": {},
     "output_type": "execute_result"
    }
   ],
   "source": [
    "# Generate some random data\n",
    "data = np.random.randn(2, 3)\n",
    "data"
   ]
  },
  {
   "cell_type": "markdown",
   "metadata": {
    "slideshow": {
     "slide_type": "slide"
    }
   },
   "source": [
    "* **np.arange** generates a range of numbers.\n",
    "* Parameters can be *start, stop, step*."
   ]
  },
  {
   "cell_type": "code",
   "execution_count": 9,
   "metadata": {
    "slideshow": {
     "slide_type": "fragment"
    }
   },
   "outputs": [
    {
     "data": {
      "text/plain": [
       "array([ 0,  1,  2,  3,  4,  5,  6,  7,  8,  9, 10, 11, 12, 13, 14])"
      ]
     },
     "execution_count": 9,
     "metadata": {},
     "output_type": "execute_result"
    }
   ],
   "source": [
    "np.arange(15)"
   ]
  },
  {
   "cell_type": "code",
   "execution_count": 10,
   "metadata": {
    "slideshow": {
     "slide_type": "fragment"
    }
   },
   "outputs": [
    {
     "data": {
      "text/plain": [
       "array([1. , 1.5, 2. , 2.5])"
      ]
     },
     "execution_count": 10,
     "metadata": {},
     "output_type": "execute_result"
    }
   ],
   "source": [
    "np.arange(1,3,0.5)"
   ]
  },
  {
   "cell_type": "markdown",
   "metadata": {
    "slideshow": {
     "slide_type": "slide"
    }
   },
   "source": [
    "* In many cases, you can convert an array from one shape to another without copying any data. \n",
    "* To do this, pass a tuple indicating the new shape to the **reshape** array instance method"
   ]
  },
  {
   "cell_type": "code",
   "execution_count": 11,
   "metadata": {
    "slideshow": {
     "slide_type": "fragment"
    }
   },
   "outputs": [
    {
     "data": {
      "text/plain": [
       "array([ 0,  1,  2,  3,  4,  5,  6,  7,  8,  9, 10, 11, 12, 13, 14, 15])"
      ]
     },
     "execution_count": 11,
     "metadata": {},
     "output_type": "execute_result"
    }
   ],
   "source": [
    "np.arange(16)"
   ]
  },
  {
   "cell_type": "code",
   "execution_count": 12,
   "metadata": {
    "slideshow": {
     "slide_type": "fragment"
    }
   },
   "outputs": [
    {
     "data": {
      "text/plain": [
       "(16,)"
      ]
     },
     "execution_count": 12,
     "metadata": {},
     "output_type": "execute_result"
    }
   ],
   "source": [
    "np.arange(16).shape"
   ]
  },
  {
   "cell_type": "code",
   "execution_count": 13,
   "metadata": {
    "slideshow": {
     "slide_type": "fragment"
    }
   },
   "outputs": [
    {
     "data": {
      "text/plain": [
       "array([[[ 0,  1,  2,  3],\n",
       "        [ 4,  5,  6,  7]],\n",
       "\n",
       "       [[ 8,  9, 10, 11],\n",
       "        [12, 13, 14, 15]]])"
      ]
     },
     "execution_count": 13,
     "metadata": {},
     "output_type": "execute_result"
    }
   ],
   "source": [
    "np.arange(16).reshape((2,2,4))"
   ]
  },
  {
   "cell_type": "markdown",
   "metadata": {
    "slideshow": {
     "slide_type": "slide"
    }
   },
   "source": [
    "### 2.1.2 Basic Indexing and Slicing"
   ]
  },
  {
   "cell_type": "code",
   "execution_count": 14,
   "metadata": {
    "slideshow": {
     "slide_type": "fragment"
    }
   },
   "outputs": [
    {
     "data": {
      "text/plain": [
       "array([0, 1, 2, 3, 4, 5, 6, 7, 8, 9])"
      ]
     },
     "execution_count": 14,
     "metadata": {},
     "output_type": "execute_result"
    }
   ],
   "source": [
    "arr = np.arange(10)\n",
    "arr"
   ]
  },
  {
   "cell_type": "code",
   "execution_count": 15,
   "metadata": {
    "slideshow": {
     "slide_type": "fragment"
    }
   },
   "outputs": [
    {
     "data": {
      "text/plain": [
       "5"
      ]
     },
     "execution_count": 15,
     "metadata": {},
     "output_type": "execute_result"
    }
   ],
   "source": [
    "arr[5]"
   ]
  },
  {
   "cell_type": "code",
   "execution_count": 16,
   "metadata": {
    "slideshow": {
     "slide_type": "slide"
    }
   },
   "outputs": [
    {
     "data": {
      "text/plain": [
       "array([[1, 2, 3],\n",
       "       [4, 5, 6],\n",
       "       [7, 8, 9]])"
      ]
     },
     "execution_count": 16,
     "metadata": {},
     "output_type": "execute_result"
    }
   ],
   "source": [
    "arr2d = np.array([[1, 2, 3], [4, 5, 6], [7, 8, 9]])\n",
    "arr2d"
   ]
  },
  {
   "cell_type": "code",
   "execution_count": 17,
   "metadata": {
    "slideshow": {
     "slide_type": "fragment"
    }
   },
   "outputs": [
    {
     "data": {
      "text/plain": [
       "array([7, 8, 9])"
      ]
     },
     "execution_count": 17,
     "metadata": {},
     "output_type": "execute_result"
    }
   ],
   "source": [
    "arr2d[2]"
   ]
  },
  {
   "cell_type": "code",
   "execution_count": 18,
   "metadata": {
    "slideshow": {
     "slide_type": "fragment"
    }
   },
   "outputs": [
    {
     "data": {
      "text/plain": [
       "8"
      ]
     },
     "execution_count": 18,
     "metadata": {},
     "output_type": "execute_result"
    }
   ],
   "source": [
    "arr2d[2][1]"
   ]
  },
  {
   "cell_type": "code",
   "execution_count": 19,
   "metadata": {
    "slideshow": {
     "slide_type": "slide"
    }
   },
   "outputs": [
    {
     "data": {
      "text/plain": [
       "array([[[ 1,  2,  3],\n",
       "        [ 4,  5,  6]],\n",
       "\n",
       "       [[ 7,  8,  9],\n",
       "        [10, 11, 12]]])"
      ]
     },
     "execution_count": 19,
     "metadata": {},
     "output_type": "execute_result"
    }
   ],
   "source": [
    "arr3d = np.array([[[1, 2, 3], [4, 5, 6]], [[7, 8, 9], [10, 11, 12]]])\n",
    "arr3d"
   ]
  },
  {
   "cell_type": "code",
   "execution_count": 20,
   "metadata": {
    "slideshow": {
     "slide_type": "fragment"
    }
   },
   "outputs": [
    {
     "data": {
      "text/plain": [
       "array([7, 8, 9])"
      ]
     },
     "execution_count": 20,
     "metadata": {},
     "output_type": "execute_result"
    }
   ],
   "source": [
    "arr3d[1, 0]"
   ]
  },
  {
   "cell_type": "markdown",
   "metadata": {
    "slideshow": {
     "slide_type": "slide"
    }
   },
   "source": [
    "#### 4.1.2.1 Indexing with slices"
   ]
  },
  {
   "cell_type": "markdown",
   "metadata": {
    "slideshow": {
     "slide_type": "fragment"
    }
   },
   "source": [
    "The rules for addresing individual elements in python lists or tuples or in numpy arrays are pretty simple as follows:\n",
    "* a[start:end]              #items start throght end-1\n",
    "* a[start:]                #items start throght the rest of array\n",
    "* a[:end]                 #items from the beginning throght end-1\n",
    "* a[:]                   #a copy of the whole array"
   ]
  },
  {
   "cell_type": "code",
   "execution_count": 21,
   "metadata": {
    "slideshow": {
     "slide_type": "slide"
    }
   },
   "outputs": [
    {
     "data": {
      "text/plain": [
       "array([0, 1, 2, 3, 4, 5, 6, 7, 8, 9])"
      ]
     },
     "execution_count": 21,
     "metadata": {},
     "output_type": "execute_result"
    }
   ],
   "source": [
    "arr = np.arange(10)\n",
    "arr"
   ]
  },
  {
   "cell_type": "code",
   "execution_count": 22,
   "metadata": {
    "slideshow": {
     "slide_type": "fragment"
    }
   },
   "outputs": [
    {
     "data": {
      "text/plain": [
       "array([5, 6, 7])"
      ]
     },
     "execution_count": 22,
     "metadata": {},
     "output_type": "execute_result"
    }
   ],
   "source": [
    "arr[5:8]"
   ]
  },
  {
   "cell_type": "markdown",
   "metadata": {
    "slideshow": {
     "slide_type": "fragment"
    }
   },
   "source": [
    "* An important first distinction from Python’s built-in lists is that array slices are views on the original array.\n",
    "* This means that the data is not copied, and any modifications to the view will be reflected in the source array"
   ]
  },
  {
   "cell_type": "code",
   "execution_count": 24,
   "metadata": {
    "slideshow": {
     "slide_type": "fragment"
    }
   },
   "outputs": [
    {
     "data": {
      "text/plain": [
       "array([12, 12, 12])"
      ]
     },
     "execution_count": 24,
     "metadata": {},
     "output_type": "execute_result"
    }
   ],
   "source": [
    "arr[5:8] = 12\n",
    "arr[5:8]"
   ]
  },
  {
   "cell_type": "code",
   "execution_count": 25,
   "metadata": {
    "slideshow": {
     "slide_type": "fragment"
    }
   },
   "outputs": [
    {
     "data": {
      "text/plain": [
       "array([ 0,  1,  2,  3,  4, 12, 12, 12,  8,  9])"
      ]
     },
     "execution_count": 25,
     "metadata": {},
     "output_type": "execute_result"
    }
   ],
   "source": [
    "arr"
   ]
  },
  {
   "cell_type": "code",
   "execution_count": 27,
   "metadata": {
    "slideshow": {
     "slide_type": "slide"
    }
   },
   "outputs": [
    {
     "data": {
      "text/plain": [
       "array([[1, 2, 3],\n",
       "       [4, 5, 6],\n",
       "       [7, 8, 9]])"
      ]
     },
     "execution_count": 27,
     "metadata": {},
     "output_type": "execute_result"
    }
   ],
   "source": [
    "arr2d"
   ]
  },
  {
   "cell_type": "code",
   "execution_count": 28,
   "metadata": {
    "slideshow": {
     "slide_type": "fragment"
    }
   },
   "outputs": [
    {
     "data": {
      "text/plain": [
       "array([[1, 2],\n",
       "       [4, 5],\n",
       "       [7, 8]])"
      ]
     },
     "execution_count": 28,
     "metadata": {},
     "output_type": "execute_result"
    }
   ],
   "source": [
    "arr2d[:, :2]"
   ]
  },
  {
   "cell_type": "markdown",
   "metadata": {
    "slideshow": {
     "slide_type": "slide"
    }
   },
   "source": [
    "![](pictures/figure4-2.png)"
   ]
  },
  {
   "cell_type": "markdown",
   "metadata": {
    "slideshow": {
     "slide_type": "slide"
    }
   },
   "source": [
    "#### 2.1.2.2 Boolean Indexing"
   ]
  },
  {
   "cell_type": "code",
   "execution_count": 29,
   "metadata": {
    "slideshow": {
     "slide_type": "slide"
    }
   },
   "outputs": [
    {
     "data": {
      "text/plain": [
       "array(['Bob', 'Joe', 'Will', 'Bob', 'Will', 'Joe', 'Joe'], dtype='<U4')"
      ]
     },
     "execution_count": 29,
     "metadata": {},
     "output_type": "execute_result"
    }
   ],
   "source": [
    "names = np.array(['Bob', 'Joe', 'Will', 'Bob', 'Will', 'Joe', 'Joe'])\n",
    "names"
   ]
  },
  {
   "cell_type": "code",
   "execution_count": 30,
   "metadata": {
    "slideshow": {
     "slide_type": "fragment"
    }
   },
   "outputs": [
    {
     "data": {
      "text/plain": [
       "array([[-1.01520929, -0.30274194, -0.62087614,  0.18764567],\n",
       "       [-0.56262484, -0.26145808, -0.04384462,  0.83808497],\n",
       "       [-1.1323184 , -0.55899844, -0.02199201, -0.66636608],\n",
       "       [-0.67567735,  1.17683788,  1.40431073,  0.37647431],\n",
       "       [ 1.10549401, -0.90751083,  2.28690086,  1.03630281],\n",
       "       [ 0.92756198, -0.36652306, -0.45049792,  0.41568349],\n",
       "       [ 1.55669838,  0.76179475, -1.09516337, -0.06138262]])"
      ]
     },
     "execution_count": 30,
     "metadata": {},
     "output_type": "execute_result"
    }
   ],
   "source": [
    "data = np.random.randn(7, 4)\n",
    "data"
   ]
  },
  {
   "cell_type": "code",
   "execution_count": 31,
   "metadata": {
    "slideshow": {
     "slide_type": "fragment"
    }
   },
   "outputs": [
    {
     "data": {
      "text/plain": [
       "array([ True, False, False,  True, False, False, False])"
      ]
     },
     "execution_count": 31,
     "metadata": {},
     "output_type": "execute_result"
    }
   ],
   "source": [
    "names == 'Bob'"
   ]
  },
  {
   "cell_type": "code",
   "execution_count": 32,
   "metadata": {
    "slideshow": {
     "slide_type": "fragment"
    }
   },
   "outputs": [
    {
     "data": {
      "text/plain": [
       "array([[-1.01520929, -0.30274194, -0.62087614,  0.18764567],\n",
       "       [-0.67567735,  1.17683788,  1.40431073,  0.37647431]])"
      ]
     },
     "execution_count": 32,
     "metadata": {},
     "output_type": "execute_result"
    }
   ],
   "source": [
    "data[names == 'Bob']"
   ]
  },
  {
   "cell_type": "markdown",
   "metadata": {
    "slideshow": {
     "slide_type": "skip"
    }
   },
   "source": [
    "#### 2.4.1.4Fancy Indexing\n",
    "* Fancy indexing is a term adopted by NumPy to describe indexing using integer arrays.\n",
    "* To select out a subset of the rows in a particular order, you can simply pass a list or ndarray of integers specifying the desired order:"
   ]
  },
  {
   "cell_type": "code",
   "execution_count": null,
   "metadata": {
    "slideshow": {
     "slide_type": "skip"
    }
   },
   "outputs": [],
   "source": [
    "arr = np.empty((8, 4))\n",
    "for i in range(8):\n",
    "    arr[i] = i\n",
    "arr"
   ]
  },
  {
   "cell_type": "code",
   "execution_count": null,
   "metadata": {
    "slideshow": {
     "slide_type": "skip"
    }
   },
   "outputs": [],
   "source": [
    "arr[[3,1]]"
   ]
  },
  {
   "cell_type": "code",
   "execution_count": null,
   "metadata": {
    "slideshow": {
     "slide_type": "skip"
    }
   },
   "outputs": [],
   "source": [
    "arr[[3,6,1,4]]"
   ]
  },
  {
   "cell_type": "markdown",
   "metadata": {
    "slideshow": {
     "slide_type": "slide"
    }
   },
   "source": [
    "### 2.1.3Arithmetic with NumPy Arrays\n",
    "* Arrays are important because they enable you to express batch operations on data without writing any for loops. NumPy users call this vectorization. Any arithmetic operations between equal-size arrays applies the operation element-wise"
   ]
  },
  {
   "cell_type": "code",
   "execution_count": 33,
   "metadata": {
    "slideshow": {
     "slide_type": "fragment"
    }
   },
   "outputs": [
    {
     "data": {
      "text/plain": [
       "array([[ 1.,  4.,  9.],\n",
       "       [16., 25., 36.]])"
      ]
     },
     "execution_count": 33,
     "metadata": {},
     "output_type": "execute_result"
    }
   ],
   "source": [
    "arr = np.array([[1., 2., 3.], [4., 5., 6.]])\n",
    "arr * arr"
   ]
  },
  {
   "cell_type": "code",
   "execution_count": 34,
   "metadata": {
    "slideshow": {
     "slide_type": "slide"
    }
   },
   "outputs": [
    {
     "data": {
      "text/plain": [
       "array([[0., 0., 0.],\n",
       "       [0., 0., 0.]])"
      ]
     },
     "execution_count": 34,
     "metadata": {},
     "output_type": "execute_result"
    }
   ],
   "source": [
    "arr - arr"
   ]
  },
  {
   "cell_type": "code",
   "execution_count": 35,
   "metadata": {
    "slideshow": {
     "slide_type": "fragment"
    }
   },
   "outputs": [
    {
     "data": {
      "text/plain": [
       "array([[1.        , 0.5       , 0.33333333],\n",
       "       [0.25      , 0.2       , 0.16666667]])"
      ]
     },
     "execution_count": 35,
     "metadata": {},
     "output_type": "execute_result"
    }
   ],
   "source": [
    "1 / arr"
   ]
  },
  {
   "cell_type": "code",
   "execution_count": 36,
   "metadata": {
    "slideshow": {
     "slide_type": "fragment"
    }
   },
   "outputs": [
    {
     "data": {
      "text/plain": [
       "array([[1.        , 1.41421356, 1.73205081],\n",
       "       [2.        , 2.23606798, 2.44948974]])"
      ]
     },
     "execution_count": 36,
     "metadata": {},
     "output_type": "execute_result"
    }
   ],
   "source": [
    "arr ** 0.5"
   ]
  },
  {
   "cell_type": "code",
   "execution_count": 38,
   "metadata": {
    "slideshow": {
     "slide_type": "fragment"
    }
   },
   "outputs": [
    {
     "data": {
      "text/plain": [
       "array([[ 0.,  4.,  1.],\n",
       "       [ 7.,  2., 12.]])"
      ]
     },
     "execution_count": 38,
     "metadata": {},
     "output_type": "execute_result"
    }
   ],
   "source": [
    "arr2 = np.array([[0., 4., 1.], [7., 2., 12.]])\n",
    "arr2"
   ]
  },
  {
   "cell_type": "code",
   "execution_count": 39,
   "metadata": {
    "slideshow": {
     "slide_type": "fragment"
    }
   },
   "outputs": [
    {
     "data": {
      "text/plain": [
       "array([[False,  True, False],\n",
       "       [ True, False,  True]])"
      ]
     },
     "execution_count": 39,
     "metadata": {},
     "output_type": "execute_result"
    }
   ],
   "source": [
    "arr2 > arr"
   ]
  },
  {
   "cell_type": "markdown",
   "metadata": {
    "slideshow": {
     "slide_type": "slide"
    }
   },
   "source": [
    "## 2.2 Pandas: Data Structures for Statistics\n",
    "\n",
    "* Pandas contains data structures and data manipulation tools designed to make data cleaning and analysis fast and easy in Python\n",
    "* Two workhorse data structures: Series and DataFrame\n",
    "* A Series is a one-dimensional array-like object containing a sequence of values and an associated array of data labels, called its index.\n",
    "* A DataFrame is a two-dimensional labeled data structure with columns of potentially different types.\n",
    "\n",
    ">* import pandas as pd"
   ]
  },
  {
   "cell_type": "code",
   "execution_count": 40,
   "metadata": {
    "slideshow": {
     "slide_type": "subslide"
    }
   },
   "outputs": [],
   "source": [
    "import pandas as pd"
   ]
  },
  {
   "cell_type": "markdown",
   "metadata": {
    "slideshow": {
     "slide_type": "slide"
    }
   },
   "source": [
    "### 2.2.1 Series\n",
    "* A Series is a one-dimensional array-like object containing a sequence of values and an associated array of data labels, called its index"
   ]
  },
  {
   "cell_type": "code",
   "execution_count": 41,
   "metadata": {
    "slideshow": {
     "slide_type": "fragment"
    }
   },
   "outputs": [
    {
     "data": {
      "text/plain": [
       "0    4\n",
       "1    7\n",
       "2   -5\n",
       "3    3\n",
       "dtype: int64"
      ]
     },
     "execution_count": 41,
     "metadata": {},
     "output_type": "execute_result"
    }
   ],
   "source": [
    "obj = pd.Series([4, 7, -5, 3])\n",
    "obj"
   ]
  },
  {
   "cell_type": "code",
   "execution_count": 42,
   "metadata": {
    "slideshow": {
     "slide_type": "fragment"
    }
   },
   "outputs": [
    {
     "data": {
      "text/plain": [
       "array([ 4,  7, -5,  3], dtype=int64)"
      ]
     },
     "execution_count": 42,
     "metadata": {},
     "output_type": "execute_result"
    }
   ],
   "source": [
    "obj.values"
   ]
  },
  {
   "cell_type": "code",
   "execution_count": 43,
   "metadata": {
    "slideshow": {
     "slide_type": "fragment"
    }
   },
   "outputs": [
    {
     "data": {
      "text/plain": [
       "RangeIndex(start=0, stop=4, step=1)"
      ]
     },
     "execution_count": 43,
     "metadata": {},
     "output_type": "execute_result"
    }
   ],
   "source": [
    "obj.index"
   ]
  },
  {
   "cell_type": "markdown",
   "metadata": {
    "slideshow": {
     "slide_type": "slide"
    }
   },
   "source": [
    "* It will be desirable to create a Series with an **index** identifying each data point with a label"
   ]
  },
  {
   "cell_type": "code",
   "execution_count": 44,
   "metadata": {
    "slideshow": {
     "slide_type": "fragment"
    }
   },
   "outputs": [
    {
     "data": {
      "text/plain": [
       "d    4\n",
       "b    7\n",
       "a   -5\n",
       "c    3\n",
       "dtype: int64"
      ]
     },
     "execution_count": 44,
     "metadata": {},
     "output_type": "execute_result"
    }
   ],
   "source": [
    "obj2 = pd.Series([4, 7, -5, 3], index=['d', 'b', 'a', 'c'])\n",
    "obj2"
   ]
  },
  {
   "cell_type": "code",
   "execution_count": 45,
   "metadata": {
    "slideshow": {
     "slide_type": "fragment"
    }
   },
   "outputs": [
    {
     "data": {
      "text/plain": [
       "Index(['d', 'b', 'a', 'c'], dtype='object')"
      ]
     },
     "execution_count": 45,
     "metadata": {},
     "output_type": "execute_result"
    }
   ],
   "source": [
    "obj2.index"
   ]
  },
  {
   "cell_type": "markdown",
   "metadata": {
    "slideshow": {
     "slide_type": "slide"
    }
   },
   "source": [
    "* You can create a Series by a Python dict\n",
    "* When you are only passing a dict, the index in the resulting Series will have the dict's keys in sorted order. "
   ]
  },
  {
   "cell_type": "code",
   "execution_count": 46,
   "metadata": {
    "slideshow": {
     "slide_type": "fragment"
    }
   },
   "outputs": [
    {
     "data": {
      "text/plain": [
       "Ohio      35000\n",
       "Texas     71000\n",
       "Oregon    16000\n",
       "Utah       5000\n",
       "dtype: int64"
      ]
     },
     "execution_count": 46,
     "metadata": {},
     "output_type": "execute_result"
    }
   ],
   "source": [
    "sdata = {'Ohio': 35000, 'Texas': 71000, 'Oregon': 16000, 'Utah': 5000}\n",
    "obj3 = pd.Series(sdata)\n",
    "obj3"
   ]
  },
  {
   "cell_type": "markdown",
   "metadata": {
    "slideshow": {
     "slide_type": "slide"
    }
   },
   "source": [
    "*  You can override this by passing the dict keys in the order you want them to appear in the resulting Series"
   ]
  },
  {
   "cell_type": "code",
   "execution_count": 47,
   "metadata": {
    "slideshow": {
     "slide_type": "fragment"
    }
   },
   "outputs": [
    {
     "data": {
      "text/plain": [
       "California        NaN\n",
       "Ohio          35000.0\n",
       "Oregon        16000.0\n",
       "Texas         71000.0\n",
       "dtype: float64"
      ]
     },
     "execution_count": 47,
     "metadata": {},
     "output_type": "execute_result"
    }
   ],
   "source": [
    "states = ['California', 'Ohio', 'Oregon', 'Texas']\n",
    "obj4 = pd.Series(sdata, index=states)\n",
    "obj4"
   ]
  },
  {
   "cell_type": "markdown",
   "metadata": {
    "slideshow": {
     "slide_type": "slide"
    }
   },
   "source": [
    "* The **isnull** and **notnull** functions in pandas should be used to detect missing data"
   ]
  },
  {
   "cell_type": "code",
   "execution_count": 48,
   "metadata": {
    "slideshow": {
     "slide_type": "fragment"
    }
   },
   "outputs": [
    {
     "data": {
      "text/plain": [
       "California     True\n",
       "Ohio          False\n",
       "Oregon        False\n",
       "Texas         False\n",
       "dtype: bool"
      ]
     },
     "execution_count": 48,
     "metadata": {},
     "output_type": "execute_result"
    }
   ],
   "source": [
    "pd.isnull(obj4)"
   ]
  },
  {
   "cell_type": "code",
   "execution_count": 49,
   "metadata": {
    "slideshow": {
     "slide_type": "fragment"
    }
   },
   "outputs": [
    {
     "data": {
      "text/plain": [
       "California    False\n",
       "Ohio           True\n",
       "Oregon         True\n",
       "Texas          True\n",
       "dtype: bool"
      ]
     },
     "execution_count": 49,
     "metadata": {},
     "output_type": "execute_result"
    }
   ],
   "source": [
    "pd.notnull(obj4)"
   ]
  },
  {
   "cell_type": "markdown",
   "metadata": {
    "slideshow": {
     "slide_type": "slide"
    }
   },
   "source": [
    "* Compared with NumPy arrays, you can use labels in the index when selecting single values or a set of values\n",
    "* You can filter a series with a boolean array"
   ]
  },
  {
   "cell_type": "code",
   "execution_count": 52,
   "metadata": {
    "slideshow": {
     "slide_type": "fragment"
    }
   },
   "outputs": [
    {
     "data": {
      "text/plain": [
       "-5"
      ]
     },
     "execution_count": 52,
     "metadata": {},
     "output_type": "execute_result"
    }
   ],
   "source": [
    "obj2['a']"
   ]
  },
  {
   "cell_type": "code",
   "execution_count": 53,
   "metadata": {
    "slideshow": {
     "slide_type": "fragment"
    }
   },
   "outputs": [
    {
     "data": {
      "text/plain": [
       "c    3\n",
       "a   -5\n",
       "d    4\n",
       "dtype: int64"
      ]
     },
     "execution_count": 53,
     "metadata": {},
     "output_type": "execute_result"
    }
   ],
   "source": [
    "obj2[['c', 'a', 'd']] #  ['c', 'a', 'd'] is interpreted as a list of indices"
   ]
  },
  {
   "cell_type": "code",
   "execution_count": 54,
   "metadata": {
    "slideshow": {
     "slide_type": "fragment"
    }
   },
   "outputs": [
    {
     "data": {
      "text/plain": [
       "d    4\n",
       "b    7\n",
       "c    3\n",
       "dtype: int64"
      ]
     },
     "execution_count": 54,
     "metadata": {},
     "output_type": "execute_result"
    }
   ],
   "source": [
    "obj2[obj2 > 0]"
   ]
  },
  {
   "cell_type": "markdown",
   "metadata": {
    "slideshow": {
     "slide_type": "slide"
    }
   },
   "source": [
    "### 2.2.2 DataFrame\n",
    "* A DataFrame represents a rectangular table of data and contains an ordered collection of columns, each of which can be a different value type (numeric, string, boolean, etc.)\n",
    "* The DataFrame has both a row and column index; it can be thought of as a dict of Series all sharing the same index\n",
    "* Under the hood, the data is stored as one or more two-dimensional blocks rather than a list, dict, or some other collection of one-dimensional arrays."
   ]
  },
  {
   "cell_type": "code",
   "execution_count": 55,
   "metadata": {
    "slideshow": {
     "slide_type": "slide"
    }
   },
   "outputs": [
    {
     "data": {
      "text/html": [
       "<div>\n",
       "<style scoped>\n",
       "    .dataframe tbody tr th:only-of-type {\n",
       "        vertical-align: middle;\n",
       "    }\n",
       "\n",
       "    .dataframe tbody tr th {\n",
       "        vertical-align: top;\n",
       "    }\n",
       "\n",
       "    .dataframe thead th {\n",
       "        text-align: right;\n",
       "    }\n",
       "</style>\n",
       "<table border=\"1\" class=\"dataframe\">\n",
       "  <thead>\n",
       "    <tr style=\"text-align: right;\">\n",
       "      <th></th>\n",
       "      <th>state</th>\n",
       "      <th>year</th>\n",
       "      <th>pop</th>\n",
       "    </tr>\n",
       "  </thead>\n",
       "  <tbody>\n",
       "    <tr>\n",
       "      <th>0</th>\n",
       "      <td>Ohio</td>\n",
       "      <td>2000</td>\n",
       "      <td>1.5</td>\n",
       "    </tr>\n",
       "    <tr>\n",
       "      <th>1</th>\n",
       "      <td>Ohio</td>\n",
       "      <td>2001</td>\n",
       "      <td>1.7</td>\n",
       "    </tr>\n",
       "    <tr>\n",
       "      <th>2</th>\n",
       "      <td>Ohio</td>\n",
       "      <td>2002</td>\n",
       "      <td>3.6</td>\n",
       "    </tr>\n",
       "    <tr>\n",
       "      <th>3</th>\n",
       "      <td>Nevada</td>\n",
       "      <td>2001</td>\n",
       "      <td>2.4</td>\n",
       "    </tr>\n",
       "    <tr>\n",
       "      <th>4</th>\n",
       "      <td>Nevada</td>\n",
       "      <td>2002</td>\n",
       "      <td>2.9</td>\n",
       "    </tr>\n",
       "    <tr>\n",
       "      <th>5</th>\n",
       "      <td>Nevada</td>\n",
       "      <td>2003</td>\n",
       "      <td>3.2</td>\n",
       "    </tr>\n",
       "  </tbody>\n",
       "</table>\n",
       "</div>"
      ],
      "text/plain": [
       "    state  year  pop\n",
       "0    Ohio  2000  1.5\n",
       "1    Ohio  2001  1.7\n",
       "2    Ohio  2002  3.6\n",
       "3  Nevada  2001  2.4\n",
       "4  Nevada  2002  2.9\n",
       "5  Nevada  2003  3.2"
      ]
     },
     "execution_count": 55,
     "metadata": {},
     "output_type": "execute_result"
    }
   ],
   "source": [
    "data = {'state': ['Ohio', 'Ohio', 'Ohio', 'Nevada', 'Nevada', 'Nevada'],\n",
    " 'year': [2000, 2001, 2002, 2001, 2002, 2003],\n",
    " 'pop': [1.5, 1.7, 3.6, 2.4, 2.9, 3.2]}\n",
    "frame = pd.DataFrame(data)\n",
    "frame # If you are using the Jupyter notebook, pandas DataFrame objects will be displayed as a more browser-friendly HTML table"
   ]
  },
  {
   "cell_type": "markdown",
   "metadata": {
    "slideshow": {
     "slide_type": "slide"
    }
   },
   "source": [
    "* If you specify a sequence of columns, the DataFrame’s columns will be arranged in that order:"
   ]
  },
  {
   "cell_type": "code",
   "execution_count": 56,
   "metadata": {
    "slideshow": {
     "slide_type": "fragment"
    }
   },
   "outputs": [
    {
     "data": {
      "text/html": [
       "<div>\n",
       "<style scoped>\n",
       "    .dataframe tbody tr th:only-of-type {\n",
       "        vertical-align: middle;\n",
       "    }\n",
       "\n",
       "    .dataframe tbody tr th {\n",
       "        vertical-align: top;\n",
       "    }\n",
       "\n",
       "    .dataframe thead th {\n",
       "        text-align: right;\n",
       "    }\n",
       "</style>\n",
       "<table border=\"1\" class=\"dataframe\">\n",
       "  <thead>\n",
       "    <tr style=\"text-align: right;\">\n",
       "      <th></th>\n",
       "      <th>year</th>\n",
       "      <th>state</th>\n",
       "      <th>pop</th>\n",
       "    </tr>\n",
       "  </thead>\n",
       "  <tbody>\n",
       "    <tr>\n",
       "      <th>0</th>\n",
       "      <td>2000</td>\n",
       "      <td>Ohio</td>\n",
       "      <td>1.5</td>\n",
       "    </tr>\n",
       "    <tr>\n",
       "      <th>1</th>\n",
       "      <td>2001</td>\n",
       "      <td>Ohio</td>\n",
       "      <td>1.7</td>\n",
       "    </tr>\n",
       "    <tr>\n",
       "      <th>2</th>\n",
       "      <td>2002</td>\n",
       "      <td>Ohio</td>\n",
       "      <td>3.6</td>\n",
       "    </tr>\n",
       "    <tr>\n",
       "      <th>3</th>\n",
       "      <td>2001</td>\n",
       "      <td>Nevada</td>\n",
       "      <td>2.4</td>\n",
       "    </tr>\n",
       "    <tr>\n",
       "      <th>4</th>\n",
       "      <td>2002</td>\n",
       "      <td>Nevada</td>\n",
       "      <td>2.9</td>\n",
       "    </tr>\n",
       "    <tr>\n",
       "      <th>5</th>\n",
       "      <td>2003</td>\n",
       "      <td>Nevada</td>\n",
       "      <td>3.2</td>\n",
       "    </tr>\n",
       "  </tbody>\n",
       "</table>\n",
       "</div>"
      ],
      "text/plain": [
       "   year   state  pop\n",
       "0  2000    Ohio  1.5\n",
       "1  2001    Ohio  1.7\n",
       "2  2002    Ohio  3.6\n",
       "3  2001  Nevada  2.4\n",
       "4  2002  Nevada  2.9\n",
       "5  2003  Nevada  3.2"
      ]
     },
     "execution_count": 56,
     "metadata": {},
     "output_type": "execute_result"
    }
   ],
   "source": [
    " pd.DataFrame(data, columns=['year', 'state', 'pop'])"
   ]
  },
  {
   "cell_type": "code",
   "execution_count": 57,
   "metadata": {
    "slideshow": {
     "slide_type": "slide"
    }
   },
   "outputs": [
    {
     "data": {
      "text/html": [
       "<div>\n",
       "<style scoped>\n",
       "    .dataframe tbody tr th:only-of-type {\n",
       "        vertical-align: middle;\n",
       "    }\n",
       "\n",
       "    .dataframe tbody tr th {\n",
       "        vertical-align: top;\n",
       "    }\n",
       "\n",
       "    .dataframe thead th {\n",
       "        text-align: right;\n",
       "    }\n",
       "</style>\n",
       "<table border=\"1\" class=\"dataframe\">\n",
       "  <thead>\n",
       "    <tr style=\"text-align: right;\">\n",
       "      <th></th>\n",
       "      <th>year</th>\n",
       "      <th>state</th>\n",
       "      <th>pop</th>\n",
       "      <th>debt</th>\n",
       "    </tr>\n",
       "  </thead>\n",
       "  <tbody>\n",
       "    <tr>\n",
       "      <th>one</th>\n",
       "      <td>2000</td>\n",
       "      <td>Ohio</td>\n",
       "      <td>1.5</td>\n",
       "      <td>NaN</td>\n",
       "    </tr>\n",
       "    <tr>\n",
       "      <th>two</th>\n",
       "      <td>2001</td>\n",
       "      <td>Ohio</td>\n",
       "      <td>1.7</td>\n",
       "      <td>NaN</td>\n",
       "    </tr>\n",
       "    <tr>\n",
       "      <th>three</th>\n",
       "      <td>2002</td>\n",
       "      <td>Ohio</td>\n",
       "      <td>3.6</td>\n",
       "      <td>NaN</td>\n",
       "    </tr>\n",
       "    <tr>\n",
       "      <th>four</th>\n",
       "      <td>2001</td>\n",
       "      <td>Nevada</td>\n",
       "      <td>2.4</td>\n",
       "      <td>NaN</td>\n",
       "    </tr>\n",
       "    <tr>\n",
       "      <th>five</th>\n",
       "      <td>2002</td>\n",
       "      <td>Nevada</td>\n",
       "      <td>2.9</td>\n",
       "      <td>NaN</td>\n",
       "    </tr>\n",
       "    <tr>\n",
       "      <th>six</th>\n",
       "      <td>2003</td>\n",
       "      <td>Nevada</td>\n",
       "      <td>3.2</td>\n",
       "      <td>NaN</td>\n",
       "    </tr>\n",
       "  </tbody>\n",
       "</table>\n",
       "</div>"
      ],
      "text/plain": [
       "       year   state  pop debt\n",
       "one    2000    Ohio  1.5  NaN\n",
       "two    2001    Ohio  1.7  NaN\n",
       "three  2002    Ohio  3.6  NaN\n",
       "four   2001  Nevada  2.4  NaN\n",
       "five   2002  Nevada  2.9  NaN\n",
       "six    2003  Nevada  3.2  NaN"
      ]
     },
     "execution_count": 57,
     "metadata": {},
     "output_type": "execute_result"
    }
   ],
   "source": [
    "frame2 = pd.DataFrame(data, columns=['year', 'state', 'pop', 'debt'],\n",
    "                      index=['one', 'two', 'three', 'four','five', 'six'])\n",
    "frame2"
   ]
  },
  {
   "cell_type": "markdown",
   "metadata": {
    "slideshow": {
     "slide_type": "slide"
    }
   },
   "source": [
    "* A column in a DataFrame can be retrieved as a Series either by dict-like notation or by attribute:"
   ]
  },
  {
   "cell_type": "code",
   "execution_count": 59,
   "metadata": {
    "slideshow": {
     "slide_type": "fragment"
    }
   },
   "outputs": [
    {
     "data": {
      "text/plain": [
       "one        Ohio\n",
       "two        Ohio\n",
       "three      Ohio\n",
       "four     Nevada\n",
       "five     Nevada\n",
       "six      Nevada\n",
       "Name: state, dtype: object"
      ]
     },
     "execution_count": 59,
     "metadata": {},
     "output_type": "execute_result"
    }
   ],
   "source": [
    "frame2['state']"
   ]
  },
  {
   "cell_type": "code",
   "execution_count": 60,
   "metadata": {
    "slideshow": {
     "slide_type": "fragment"
    }
   },
   "outputs": [
    {
     "data": {
      "text/plain": [
       "one      2000\n",
       "two      2001\n",
       "three    2002\n",
       "four     2001\n",
       "five     2002\n",
       "six      2003\n",
       "Name: year, dtype: int64"
      ]
     },
     "execution_count": 60,
     "metadata": {},
     "output_type": "execute_result"
    }
   ],
   "source": [
    "frame2.year \n",
    "# Note that the returned Series have the same index as the DataFrame, \n",
    "# and their name attribute has been appropriately set."
   ]
  },
  {
   "cell_type": "markdown",
   "metadata": {
    "slideshow": {
     "slide_type": "slide"
    }
   },
   "source": [
    "* Columns can be modified by assignment"
   ]
  },
  {
   "cell_type": "code",
   "execution_count": 61,
   "metadata": {
    "slideshow": {
     "slide_type": "fragment"
    }
   },
   "outputs": [
    {
     "data": {
      "text/html": [
       "<div>\n",
       "<style scoped>\n",
       "    .dataframe tbody tr th:only-of-type {\n",
       "        vertical-align: middle;\n",
       "    }\n",
       "\n",
       "    .dataframe tbody tr th {\n",
       "        vertical-align: top;\n",
       "    }\n",
       "\n",
       "    .dataframe thead th {\n",
       "        text-align: right;\n",
       "    }\n",
       "</style>\n",
       "<table border=\"1\" class=\"dataframe\">\n",
       "  <thead>\n",
       "    <tr style=\"text-align: right;\">\n",
       "      <th></th>\n",
       "      <th>year</th>\n",
       "      <th>state</th>\n",
       "      <th>pop</th>\n",
       "      <th>debt</th>\n",
       "    </tr>\n",
       "  </thead>\n",
       "  <tbody>\n",
       "    <tr>\n",
       "      <th>one</th>\n",
       "      <td>2000</td>\n",
       "      <td>Ohio</td>\n",
       "      <td>1.5</td>\n",
       "      <td>0.0</td>\n",
       "    </tr>\n",
       "    <tr>\n",
       "      <th>two</th>\n",
       "      <td>2001</td>\n",
       "      <td>Ohio</td>\n",
       "      <td>1.7</td>\n",
       "      <td>1.0</td>\n",
       "    </tr>\n",
       "    <tr>\n",
       "      <th>three</th>\n",
       "      <td>2002</td>\n",
       "      <td>Ohio</td>\n",
       "      <td>3.6</td>\n",
       "      <td>2.0</td>\n",
       "    </tr>\n",
       "    <tr>\n",
       "      <th>four</th>\n",
       "      <td>2001</td>\n",
       "      <td>Nevada</td>\n",
       "      <td>2.4</td>\n",
       "      <td>3.0</td>\n",
       "    </tr>\n",
       "    <tr>\n",
       "      <th>five</th>\n",
       "      <td>2002</td>\n",
       "      <td>Nevada</td>\n",
       "      <td>2.9</td>\n",
       "      <td>4.0</td>\n",
       "    </tr>\n",
       "    <tr>\n",
       "      <th>six</th>\n",
       "      <td>2003</td>\n",
       "      <td>Nevada</td>\n",
       "      <td>3.2</td>\n",
       "      <td>5.0</td>\n",
       "    </tr>\n",
       "  </tbody>\n",
       "</table>\n",
       "</div>"
      ],
      "text/plain": [
       "       year   state  pop  debt\n",
       "one    2000    Ohio  1.5   0.0\n",
       "two    2001    Ohio  1.7   1.0\n",
       "three  2002    Ohio  3.6   2.0\n",
       "four   2001  Nevada  2.4   3.0\n",
       "five   2002  Nevada  2.9   4.0\n",
       "six    2003  Nevada  3.2   5.0"
      ]
     },
     "execution_count": 61,
     "metadata": {},
     "output_type": "execute_result"
    }
   ],
   "source": [
    "frame2['debt'] = np.arange(6.)\n",
    "frame2"
   ]
  },
  {
   "cell_type": "markdown",
   "metadata": {
    "slideshow": {
     "slide_type": "slide"
    }
   },
   "source": [
    "* Another common form of data is a nested dict of dicts\n",
    "* If the nested dict is passed to the DataFrame, pandas will interpret the outer dict keys as the columns and the inner keys as the row indices"
   ]
  },
  {
   "cell_type": "code",
   "execution_count": 62,
   "metadata": {
    "slideshow": {
     "slide_type": "fragment"
    }
   },
   "outputs": [],
   "source": [
    "pop = {'Nevada': {2001: 2.4, 2002: 2.9},\n",
    "       'Ohio': {2000: 1.5, 2001: 1.7, 2002: 3.6}}"
   ]
  },
  {
   "cell_type": "code",
   "execution_count": 63,
   "metadata": {
    "slideshow": {
     "slide_type": "fragment"
    }
   },
   "outputs": [
    {
     "data": {
      "text/html": [
       "<div>\n",
       "<style scoped>\n",
       "    .dataframe tbody tr th:only-of-type {\n",
       "        vertical-align: middle;\n",
       "    }\n",
       "\n",
       "    .dataframe tbody tr th {\n",
       "        vertical-align: top;\n",
       "    }\n",
       "\n",
       "    .dataframe thead th {\n",
       "        text-align: right;\n",
       "    }\n",
       "</style>\n",
       "<table border=\"1\" class=\"dataframe\">\n",
       "  <thead>\n",
       "    <tr style=\"text-align: right;\">\n",
       "      <th></th>\n",
       "      <th>Nevada</th>\n",
       "      <th>Ohio</th>\n",
       "    </tr>\n",
       "  </thead>\n",
       "  <tbody>\n",
       "    <tr>\n",
       "      <th>2001</th>\n",
       "      <td>2.4</td>\n",
       "      <td>1.7</td>\n",
       "    </tr>\n",
       "    <tr>\n",
       "      <th>2002</th>\n",
       "      <td>2.9</td>\n",
       "      <td>3.6</td>\n",
       "    </tr>\n",
       "    <tr>\n",
       "      <th>2000</th>\n",
       "      <td>NaN</td>\n",
       "      <td>1.5</td>\n",
       "    </tr>\n",
       "  </tbody>\n",
       "</table>\n",
       "</div>"
      ],
      "text/plain": [
       "      Nevada  Ohio\n",
       "2001     2.4   1.7\n",
       "2002     2.9   3.6\n",
       "2000     NaN   1.5"
      ]
     },
     "execution_count": 63,
     "metadata": {},
     "output_type": "execute_result"
    }
   ],
   "source": [
    "frame3 = pd.DataFrame(pop)\n",
    "frame3"
   ]
  },
  {
   "cell_type": "markdown",
   "metadata": {
    "slideshow": {
     "slide_type": "slide"
    }
   },
   "source": [
    "### 2.2.3 Indexing, Selection, and Filtering"
   ]
  },
  {
   "cell_type": "markdown",
   "metadata": {
    "slideshow": {
     "slide_type": "fragment"
    }
   },
   "source": [
    "* An important method on pandas objects is **reindex**, which means to create a new object with the data conformed to a new index"
   ]
  },
  {
   "cell_type": "code",
   "execution_count": 64,
   "metadata": {
    "slideshow": {
     "slide_type": "fragment"
    }
   },
   "outputs": [
    {
     "data": {
      "text/plain": [
       "d    4.5\n",
       "b    7.2\n",
       "a   -5.3\n",
       "c    3.6\n",
       "dtype: float64"
      ]
     },
     "execution_count": 64,
     "metadata": {},
     "output_type": "execute_result"
    }
   ],
   "source": [
    "obj = pd.Series([4.5, 7.2, -5.3, 3.6], index=['d', 'b', 'a', 'c'])\n",
    "obj"
   ]
  },
  {
   "cell_type": "code",
   "execution_count": 65,
   "metadata": {
    "slideshow": {
     "slide_type": "slide"
    }
   },
   "outputs": [
    {
     "data": {
      "text/plain": [
       "a   -5.3\n",
       "b    7.2\n",
       "c    3.6\n",
       "d    4.5\n",
       "e    NaN\n",
       "dtype: float64"
      ]
     },
     "execution_count": 65,
     "metadata": {},
     "output_type": "execute_result"
    }
   ],
   "source": [
    "obj2 = obj.reindex(['a', 'b', 'c', 'd', 'e'])\n",
    "obj2"
   ]
  },
  {
   "cell_type": "code",
   "execution_count": 66,
   "metadata": {
    "slideshow": {
     "slide_type": "slide"
    }
   },
   "outputs": [
    {
     "data": {
      "text/html": [
       "<div>\n",
       "<style scoped>\n",
       "    .dataframe tbody tr th:only-of-type {\n",
       "        vertical-align: middle;\n",
       "    }\n",
       "\n",
       "    .dataframe tbody tr th {\n",
       "        vertical-align: top;\n",
       "    }\n",
       "\n",
       "    .dataframe thead th {\n",
       "        text-align: right;\n",
       "    }\n",
       "</style>\n",
       "<table border=\"1\" class=\"dataframe\">\n",
       "  <thead>\n",
       "    <tr style=\"text-align: right;\">\n",
       "      <th></th>\n",
       "      <th>one</th>\n",
       "      <th>two</th>\n",
       "      <th>three</th>\n",
       "      <th>four</th>\n",
       "    </tr>\n",
       "  </thead>\n",
       "  <tbody>\n",
       "    <tr>\n",
       "      <th>Ohio</th>\n",
       "      <td>0</td>\n",
       "      <td>1</td>\n",
       "      <td>2</td>\n",
       "      <td>3</td>\n",
       "    </tr>\n",
       "    <tr>\n",
       "      <th>Colorado</th>\n",
       "      <td>4</td>\n",
       "      <td>5</td>\n",
       "      <td>6</td>\n",
       "      <td>7</td>\n",
       "    </tr>\n",
       "    <tr>\n",
       "      <th>Utah</th>\n",
       "      <td>8</td>\n",
       "      <td>9</td>\n",
       "      <td>10</td>\n",
       "      <td>11</td>\n",
       "    </tr>\n",
       "    <tr>\n",
       "      <th>New York</th>\n",
       "      <td>12</td>\n",
       "      <td>13</td>\n",
       "      <td>14</td>\n",
       "      <td>15</td>\n",
       "    </tr>\n",
       "  </tbody>\n",
       "</table>\n",
       "</div>"
      ],
      "text/plain": [
       "          one  two  three  four\n",
       "Ohio        0    1      2     3\n",
       "Colorado    4    5      6     7\n",
       "Utah        8    9     10    11\n",
       "New York   12   13     14    15"
      ]
     },
     "execution_count": 66,
     "metadata": {},
     "output_type": "execute_result"
    }
   ],
   "source": [
    "data = pd.DataFrame(np.arange(16).reshape((4, 4)),\n",
    "                    index=['Ohio', 'Colorado', 'Utah', 'New York'],\n",
    "                    columns=['one', 'two', 'three', 'four'])\n",
    "data"
   ]
  },
  {
   "cell_type": "code",
   "execution_count": 67,
   "metadata": {
    "slideshow": {
     "slide_type": "fragment"
    }
   },
   "outputs": [
    {
     "data": {
      "text/plain": [
       "Ohio         1\n",
       "Colorado     5\n",
       "Utah         9\n",
       "New York    13\n",
       "Name: two, dtype: int32"
      ]
     },
     "execution_count": 67,
     "metadata": {},
     "output_type": "execute_result"
    }
   ],
   "source": [
    "data['two']"
   ]
  },
  {
   "cell_type": "code",
   "execution_count": 68,
   "metadata": {
    "slideshow": {
     "slide_type": "fragment"
    }
   },
   "outputs": [
    {
     "data": {
      "text/html": [
       "<div>\n",
       "<style scoped>\n",
       "    .dataframe tbody tr th:only-of-type {\n",
       "        vertical-align: middle;\n",
       "    }\n",
       "\n",
       "    .dataframe tbody tr th {\n",
       "        vertical-align: top;\n",
       "    }\n",
       "\n",
       "    .dataframe thead th {\n",
       "        text-align: right;\n",
       "    }\n",
       "</style>\n",
       "<table border=\"1\" class=\"dataframe\">\n",
       "  <thead>\n",
       "    <tr style=\"text-align: right;\">\n",
       "      <th></th>\n",
       "      <th>three</th>\n",
       "      <th>one</th>\n",
       "    </tr>\n",
       "  </thead>\n",
       "  <tbody>\n",
       "    <tr>\n",
       "      <th>Ohio</th>\n",
       "      <td>2</td>\n",
       "      <td>0</td>\n",
       "    </tr>\n",
       "    <tr>\n",
       "      <th>Colorado</th>\n",
       "      <td>6</td>\n",
       "      <td>4</td>\n",
       "    </tr>\n",
       "    <tr>\n",
       "      <th>Utah</th>\n",
       "      <td>10</td>\n",
       "      <td>8</td>\n",
       "    </tr>\n",
       "    <tr>\n",
       "      <th>New York</th>\n",
       "      <td>14</td>\n",
       "      <td>12</td>\n",
       "    </tr>\n",
       "  </tbody>\n",
       "</table>\n",
       "</div>"
      ],
      "text/plain": [
       "          three  one\n",
       "Ohio          2    0\n",
       "Colorado      6    4\n",
       "Utah         10    8\n",
       "New York     14   12"
      ]
     },
     "execution_count": 68,
     "metadata": {},
     "output_type": "execute_result"
    }
   ],
   "source": [
    "data[['three', 'one']]"
   ]
  },
  {
   "cell_type": "markdown",
   "metadata": {
    "slideshow": {
     "slide_type": "slide"
    }
   },
   "source": [
    "* Indexing like this has a few special cases. \n",
    "* First, slicing or selecting data with a boolean array"
   ]
  },
  {
   "cell_type": "code",
   "execution_count": 69,
   "metadata": {
    "slideshow": {
     "slide_type": "fragment"
    }
   },
   "outputs": [
    {
     "data": {
      "text/html": [
       "<div>\n",
       "<style scoped>\n",
       "    .dataframe tbody tr th:only-of-type {\n",
       "        vertical-align: middle;\n",
       "    }\n",
       "\n",
       "    .dataframe tbody tr th {\n",
       "        vertical-align: top;\n",
       "    }\n",
       "\n",
       "    .dataframe thead th {\n",
       "        text-align: right;\n",
       "    }\n",
       "</style>\n",
       "<table border=\"1\" class=\"dataframe\">\n",
       "  <thead>\n",
       "    <tr style=\"text-align: right;\">\n",
       "      <th></th>\n",
       "      <th>one</th>\n",
       "      <th>two</th>\n",
       "      <th>three</th>\n",
       "      <th>four</th>\n",
       "    </tr>\n",
       "  </thead>\n",
       "  <tbody>\n",
       "    <tr>\n",
       "      <th>Ohio</th>\n",
       "      <td>0</td>\n",
       "      <td>1</td>\n",
       "      <td>2</td>\n",
       "      <td>3</td>\n",
       "    </tr>\n",
       "    <tr>\n",
       "      <th>Colorado</th>\n",
       "      <td>4</td>\n",
       "      <td>5</td>\n",
       "      <td>6</td>\n",
       "      <td>7</td>\n",
       "    </tr>\n",
       "  </tbody>\n",
       "</table>\n",
       "</div>"
      ],
      "text/plain": [
       "          one  two  three  four\n",
       "Ohio        0    1      2     3\n",
       "Colorado    4    5      6     7"
      ]
     },
     "execution_count": 69,
     "metadata": {},
     "output_type": "execute_result"
    }
   ],
   "source": [
    " data[:2]"
   ]
  },
  {
   "cell_type": "code",
   "execution_count": 70,
   "metadata": {
    "slideshow": {
     "slide_type": "fragment"
    }
   },
   "outputs": [
    {
     "data": {
      "text/html": [
       "<div>\n",
       "<style scoped>\n",
       "    .dataframe tbody tr th:only-of-type {\n",
       "        vertical-align: middle;\n",
       "    }\n",
       "\n",
       "    .dataframe tbody tr th {\n",
       "        vertical-align: top;\n",
       "    }\n",
       "\n",
       "    .dataframe thead th {\n",
       "        text-align: right;\n",
       "    }\n",
       "</style>\n",
       "<table border=\"1\" class=\"dataframe\">\n",
       "  <thead>\n",
       "    <tr style=\"text-align: right;\">\n",
       "      <th></th>\n",
       "      <th>one</th>\n",
       "      <th>two</th>\n",
       "      <th>three</th>\n",
       "      <th>four</th>\n",
       "    </tr>\n",
       "  </thead>\n",
       "  <tbody>\n",
       "    <tr>\n",
       "      <th>Colorado</th>\n",
       "      <td>4</td>\n",
       "      <td>5</td>\n",
       "      <td>6</td>\n",
       "      <td>7</td>\n",
       "    </tr>\n",
       "    <tr>\n",
       "      <th>Utah</th>\n",
       "      <td>8</td>\n",
       "      <td>9</td>\n",
       "      <td>10</td>\n",
       "      <td>11</td>\n",
       "    </tr>\n",
       "    <tr>\n",
       "      <th>New York</th>\n",
       "      <td>12</td>\n",
       "      <td>13</td>\n",
       "      <td>14</td>\n",
       "      <td>15</td>\n",
       "    </tr>\n",
       "  </tbody>\n",
       "</table>\n",
       "</div>"
      ],
      "text/plain": [
       "          one  two  three  four\n",
       "Colorado    4    5      6     7\n",
       "Utah        8    9     10    11\n",
       "New York   12   13     14    15"
      ]
     },
     "execution_count": 70,
     "metadata": {},
     "output_type": "execute_result"
    }
   ],
   "source": [
    "data[data['three'] > 5]"
   ]
  },
  {
   "cell_type": "markdown",
   "metadata": {
    "slideshow": {
     "slide_type": "slide"
    }
   },
   "source": [
    "### 2.2.4 Selection with loc and iloc\n",
    "* For DataFrame label-indexing on the rows，using the special indexing operators loc and iloc. \n",
    "* They enable you to select a subset of the rows and columns from a DataFrame with NumPy-like notation using either axis labels (loc) or integers(iloc)"
   ]
  },
  {
   "cell_type": "code",
   "execution_count": 71,
   "metadata": {
    "slideshow": {
     "slide_type": "fragment"
    }
   },
   "outputs": [
    {
     "data": {
      "text/plain": [
       "one      4\n",
       "two      5\n",
       "three    6\n",
       "four     7\n",
       "Name: Colorado, dtype: int32"
      ]
     },
     "execution_count": 71,
     "metadata": {},
     "output_type": "execute_result"
    }
   ],
   "source": [
    " data.loc['Colorado']"
   ]
  },
  {
   "cell_type": "code",
   "execution_count": 72,
   "metadata": {
    "slideshow": {
     "slide_type": "fragment"
    }
   },
   "outputs": [
    {
     "data": {
      "text/plain": [
       "two     5\n",
       "four    7\n",
       "Name: Colorado, dtype: int32"
      ]
     },
     "execution_count": 72,
     "metadata": {},
     "output_type": "execute_result"
    }
   ],
   "source": [
    " data.loc['Colorado',['two','four']]"
   ]
  },
  {
   "cell_type": "code",
   "execution_count": 73,
   "metadata": {
    "slideshow": {
     "slide_type": "slide"
    }
   },
   "outputs": [
    {
     "data": {
      "text/plain": [
       "one       8\n",
       "two       9\n",
       "three    10\n",
       "four     11\n",
       "Name: Utah, dtype: int32"
      ]
     },
     "execution_count": 73,
     "metadata": {},
     "output_type": "execute_result"
    }
   ],
   "source": [
    "data.iloc[2]\n"
   ]
  },
  {
   "cell_type": "code",
   "execution_count": 74,
   "metadata": {
    "slideshow": {
     "slide_type": "fragment"
    }
   },
   "outputs": [
    {
     "data": {
      "text/plain": [
       "four    11\n",
       "one      8\n",
       "two      9\n",
       "Name: Utah, dtype: int32"
      ]
     },
     "execution_count": 74,
     "metadata": {},
     "output_type": "execute_result"
    }
   ],
   "source": [
    "data.iloc[2,[3, 0, 1]]"
   ]
  },
  {
   "cell_type": "code",
   "execution_count": 75,
   "metadata": {
    "slideshow": {
     "slide_type": "fragment"
    }
   },
   "outputs": [
    {
     "data": {
      "text/html": [
       "<div>\n",
       "<style scoped>\n",
       "    .dataframe tbody tr th:only-of-type {\n",
       "        vertical-align: middle;\n",
       "    }\n",
       "\n",
       "    .dataframe tbody tr th {\n",
       "        vertical-align: top;\n",
       "    }\n",
       "\n",
       "    .dataframe thead th {\n",
       "        text-align: right;\n",
       "    }\n",
       "</style>\n",
       "<table border=\"1\" class=\"dataframe\">\n",
       "  <thead>\n",
       "    <tr style=\"text-align: right;\">\n",
       "      <th></th>\n",
       "      <th>four</th>\n",
       "      <th>one</th>\n",
       "      <th>two</th>\n",
       "    </tr>\n",
       "  </thead>\n",
       "  <tbody>\n",
       "    <tr>\n",
       "      <th>Colorado</th>\n",
       "      <td>7</td>\n",
       "      <td>4</td>\n",
       "      <td>5</td>\n",
       "    </tr>\n",
       "    <tr>\n",
       "      <th>Utah</th>\n",
       "      <td>11</td>\n",
       "      <td>8</td>\n",
       "      <td>9</td>\n",
       "    </tr>\n",
       "  </tbody>\n",
       "</table>\n",
       "</div>"
      ],
      "text/plain": [
       "          four  one  two\n",
       "Colorado     7    4    5\n",
       "Utah        11    8    9"
      ]
     },
     "execution_count": 75,
     "metadata": {},
     "output_type": "execute_result"
    }
   ],
   "source": [
    "data.iloc[[1,2],[3, 0, 1]]"
   ]
  },
  {
   "cell_type": "markdown",
   "metadata": {
    "slideshow": {
     "slide_type": "slide"
    }
   },
   "source": [
    "## 2.3 Statsmodels: Tools for Statistical Modeling\n",
    "* statsmodels is a Python package contributed to the community by the statsmodels development team (http://www.statsmodels.org/)\n",
    "* statsmodels provides classes and functions for the estimation of many different statistical models, as well as for conducting statistical tests and statistical data exploration"
   ]
  },
  {
   "cell_type": "markdown",
   "metadata": {
    "slideshow": {
     "slide_type": "slide"
    }
   },
   "source": [
    "* The following example would fit a model that assumes a linear relationship between x and y to a given data"
   ]
  },
  {
   "cell_type": "code",
   "execution_count": 77,
   "metadata": {
    "slideshow": {
     "slide_type": "slide"
    }
   },
   "outputs": [],
   "source": [
    "import numpy as np\n",
    "import pandas as pd\n",
    "import statsmodels.formula.api as smf"
   ]
  },
  {
   "cell_type": "code",
   "execution_count": 78,
   "metadata": {
    "slideshow": {
     "slide_type": "slide"
    }
   },
   "outputs": [],
   "source": [
    "# Generate a noisy line, and save the data in a pandas-DataFrame\n",
    "x = np.arange(100)\n",
    "y = 0.5*x - 20 + np.random.randn(len(x))\n",
    "df = pd.DataFrame({'x':x, 'y':y})"
   ]
  },
  {
   "cell_type": "code",
   "execution_count": 79,
   "metadata": {
    "slideshow": {
     "slide_type": "fragment"
    }
   },
   "outputs": [
    {
     "data": {
      "text/html": [
       "<div>\n",
       "<style scoped>\n",
       "    .dataframe tbody tr th:only-of-type {\n",
       "        vertical-align: middle;\n",
       "    }\n",
       "\n",
       "    .dataframe tbody tr th {\n",
       "        vertical-align: top;\n",
       "    }\n",
       "\n",
       "    .dataframe thead th {\n",
       "        text-align: right;\n",
       "    }\n",
       "</style>\n",
       "<table border=\"1\" class=\"dataframe\">\n",
       "  <thead>\n",
       "    <tr style=\"text-align: right;\">\n",
       "      <th></th>\n",
       "      <th>x</th>\n",
       "      <th>y</th>\n",
       "    </tr>\n",
       "  </thead>\n",
       "  <tbody>\n",
       "    <tr>\n",
       "      <th>0</th>\n",
       "      <td>0</td>\n",
       "      <td>-19.589133</td>\n",
       "    </tr>\n",
       "    <tr>\n",
       "      <th>1</th>\n",
       "      <td>1</td>\n",
       "      <td>-19.751271</td>\n",
       "    </tr>\n",
       "    <tr>\n",
       "      <th>2</th>\n",
       "      <td>2</td>\n",
       "      <td>-20.227264</td>\n",
       "    </tr>\n",
       "    <tr>\n",
       "      <th>3</th>\n",
       "      <td>3</td>\n",
       "      <td>-20.817093</td>\n",
       "    </tr>\n",
       "    <tr>\n",
       "      <th>4</th>\n",
       "      <td>4</td>\n",
       "      <td>-16.607897</td>\n",
       "    </tr>\n",
       "    <tr>\n",
       "      <th>...</th>\n",
       "      <td>...</td>\n",
       "      <td>...</td>\n",
       "    </tr>\n",
       "    <tr>\n",
       "      <th>95</th>\n",
       "      <td>95</td>\n",
       "      <td>28.513840</td>\n",
       "    </tr>\n",
       "    <tr>\n",
       "      <th>96</th>\n",
       "      <td>96</td>\n",
       "      <td>27.467798</td>\n",
       "    </tr>\n",
       "    <tr>\n",
       "      <th>97</th>\n",
       "      <td>97</td>\n",
       "      <td>28.392660</td>\n",
       "    </tr>\n",
       "    <tr>\n",
       "      <th>98</th>\n",
       "      <td>98</td>\n",
       "      <td>28.390529</td>\n",
       "    </tr>\n",
       "    <tr>\n",
       "      <th>99</th>\n",
       "      <td>99</td>\n",
       "      <td>28.284016</td>\n",
       "    </tr>\n",
       "  </tbody>\n",
       "</table>\n",
       "<p>100 rows × 2 columns</p>\n",
       "</div>"
      ],
      "text/plain": [
       "     x          y\n",
       "0    0 -19.589133\n",
       "1    1 -19.751271\n",
       "2    2 -20.227264\n",
       "3    3 -20.817093\n",
       "4    4 -16.607897\n",
       "..  ..        ...\n",
       "95  95  28.513840\n",
       "96  96  27.467798\n",
       "97  97  28.392660\n",
       "98  98  28.390529\n",
       "99  99  28.284016\n",
       "\n",
       "[100 rows x 2 columns]"
      ]
     },
     "execution_count": 79,
     "metadata": {},
     "output_type": "execute_result"
    }
   ],
   "source": [
    "df"
   ]
  },
  {
   "cell_type": "code",
   "execution_count": 80,
   "metadata": {
    "slideshow": {
     "slide_type": "slide"
    }
   },
   "outputs": [
    {
     "name": "stdout",
     "output_type": "stream",
     "text": [
      "                            OLS Regression Results                            \n",
      "==============================================================================\n",
      "Dep. Variable:                      y   R-squared:                       0.994\n",
      "Model:                            OLS   Adj. R-squared:                  0.994\n",
      "Method:                 Least Squares   F-statistic:                 1.621e+04\n",
      "Date:                Mon, 25 Apr 2022   Prob (F-statistic):          1.18e-110\n",
      "Time:                        16:10:20   Log-Likelihood:                -153.42\n",
      "No. Observations:                 100   AIC:                             310.8\n",
      "Df Residuals:                      98   BIC:                             316.1\n",
      "Df Model:                           1                                         \n",
      "Covariance Type:            nonrobust                                         \n",
      "==============================================================================\n",
      "                 coef    std err          t      P>|t|      [0.025      0.975]\n",
      "------------------------------------------------------------------------------\n",
      "Intercept    -19.9705      0.225    -88.747      0.000     -20.417     -19.524\n",
      "x              0.5000      0.004    127.310      0.000       0.492       0.508\n",
      "==============================================================================\n",
      "Omnibus:                        2.498   Durbin-Watson:                   1.781\n",
      "Prob(Omnibus):                  0.287   Jarque-Bera (JB):                2.251\n",
      "Skew:                          -0.033   Prob(JB):                        0.325\n",
      "Kurtosis:                       3.732   Cond. No.                         114.\n",
      "==============================================================================\n",
      "\n",
      "Notes:\n",
      "[1] Standard Errors assume that the covariance matrix of the errors is correctly specified.\n"
     ]
    }
   ],
   "source": [
    "# Fit a linear model, using the \"formula\" language\n",
    "model = smf.ols('y~x', data=df).fit()\n",
    "print( model.summary() )"
   ]
  },
  {
   "cell_type": "markdown",
   "metadata": {
    "slideshow": {
     "slide_type": "slide"
    }
   },
   "source": [
    "## 2.4 scikit-learn\n",
    "* scikit-learn is one of the most widely used and trusted general-purpose Python machine learning toolkits.https://scikit-learn.org/stable/\n",
    "* It contains a broad selection of standard supervised and unsupervised machine learning methods with tools for model selection and evaluation, data transformation, data loading, and model persistence\n",
    "* These models can be used for classification, clustering, prediction, and other common tasks"
   ]
  },
  {
   "cell_type": "code",
   "execution_count": null,
   "metadata": {
    "slideshow": {
     "slide_type": "slide"
    }
   },
   "outputs": [],
   "source": [
    "from sklearn.linear_model import LogisticRegression\n",
    "model = LogisticRegression()\n",
    "model.fit(X_train, y_train)\n",
    "y_predict = model.predict(X_test)"
   ]
  },
  {
   "cell_type": "markdown",
   "metadata": {
    "slideshow": {
     "slide_type": "slide"
    }
   },
   "source": [
    "## 2.5  Matplotlib\n",
    "* With matplotlib, we use the following import convention\n",
    ">* import matplotlib.pyplot as plt\n",
    "* In order to use interactive plotting in the Jupyter notebook,please execute the following statement first.\n",
    ">* %matplotlib inline\n",
    ">* %matplotlib notebook"
   ]
  },
  {
   "cell_type": "code",
   "execution_count": 82,
   "metadata": {
    "slideshow": {
     "slide_type": "slide"
    }
   },
   "outputs": [],
   "source": [
    "import matplotlib.pyplot as plt"
   ]
  },
  {
   "cell_type": "code",
   "execution_count": 83,
   "metadata": {
    "slideshow": {
     "slide_type": "fragment"
    }
   },
   "outputs": [
    {
     "data": {
      "text/plain": [
       "array([0, 1, 2, 3, 4, 5, 6, 7, 8, 9])"
      ]
     },
     "execution_count": 83,
     "metadata": {},
     "output_type": "execute_result"
    }
   ],
   "source": [
    "import numpy as np\n",
    "data = np.arange(10)\n",
    "data"
   ]
  },
  {
   "cell_type": "code",
   "execution_count": null,
   "metadata": {
    "slideshow": {
     "slide_type": "subslide"
    }
   },
   "outputs": [],
   "source": [
    "%matplotlib inline\n",
    "plt.plot(data)"
   ]
  },
  {
   "cell_type": "code",
   "execution_count": 89,
   "metadata": {
    "slideshow": {
     "slide_type": "slide"
    }
   },
   "outputs": [
    {
     "data": {
      "application/javascript": [
       "/* Put everything inside the global mpl namespace */\n",
       "/* global mpl */\n",
       "window.mpl = {};\n",
       "\n",
       "mpl.get_websocket_type = function () {\n",
       "    if (typeof WebSocket !== 'undefined') {\n",
       "        return WebSocket;\n",
       "    } else if (typeof MozWebSocket !== 'undefined') {\n",
       "        return MozWebSocket;\n",
       "    } else {\n",
       "        alert(\n",
       "            'Your browser does not have WebSocket support. ' +\n",
       "                'Please try Chrome, Safari or Firefox ≥ 6. ' +\n",
       "                'Firefox 4 and 5 are also supported but you ' +\n",
       "                'have to enable WebSockets in about:config.'\n",
       "        );\n",
       "    }\n",
       "};\n",
       "\n",
       "mpl.figure = function (figure_id, websocket, ondownload, parent_element) {\n",
       "    this.id = figure_id;\n",
       "\n",
       "    this.ws = websocket;\n",
       "\n",
       "    this.supports_binary = this.ws.binaryType !== undefined;\n",
       "\n",
       "    if (!this.supports_binary) {\n",
       "        var warnings = document.getElementById('mpl-warnings');\n",
       "        if (warnings) {\n",
       "            warnings.style.display = 'block';\n",
       "            warnings.textContent =\n",
       "                'This browser does not support binary websocket messages. ' +\n",
       "                'Performance may be slow.';\n",
       "        }\n",
       "    }\n",
       "\n",
       "    this.imageObj = new Image();\n",
       "\n",
       "    this.context = undefined;\n",
       "    this.message = undefined;\n",
       "    this.canvas = undefined;\n",
       "    this.rubberband_canvas = undefined;\n",
       "    this.rubberband_context = undefined;\n",
       "    this.format_dropdown = undefined;\n",
       "\n",
       "    this.image_mode = 'full';\n",
       "\n",
       "    this.root = document.createElement('div');\n",
       "    this.root.setAttribute('style', 'display: inline-block');\n",
       "    this._root_extra_style(this.root);\n",
       "\n",
       "    parent_element.appendChild(this.root);\n",
       "\n",
       "    this._init_header(this);\n",
       "    this._init_canvas(this);\n",
       "    this._init_toolbar(this);\n",
       "\n",
       "    var fig = this;\n",
       "\n",
       "    this.waiting = false;\n",
       "\n",
       "    this.ws.onopen = function () {\n",
       "        fig.send_message('supports_binary', { value: fig.supports_binary });\n",
       "        fig.send_message('send_image_mode', {});\n",
       "        if (fig.ratio !== 1) {\n",
       "            fig.send_message('set_dpi_ratio', { dpi_ratio: fig.ratio });\n",
       "        }\n",
       "        fig.send_message('refresh', {});\n",
       "    };\n",
       "\n",
       "    this.imageObj.onload = function () {\n",
       "        if (fig.image_mode === 'full') {\n",
       "            // Full images could contain transparency (where diff images\n",
       "            // almost always do), so we need to clear the canvas so that\n",
       "            // there is no ghosting.\n",
       "            fig.context.clearRect(0, 0, fig.canvas.width, fig.canvas.height);\n",
       "        }\n",
       "        fig.context.drawImage(fig.imageObj, 0, 0);\n",
       "    };\n",
       "\n",
       "    this.imageObj.onunload = function () {\n",
       "        fig.ws.close();\n",
       "    };\n",
       "\n",
       "    this.ws.onmessage = this._make_on_message_function(this);\n",
       "\n",
       "    this.ondownload = ondownload;\n",
       "};\n",
       "\n",
       "mpl.figure.prototype._init_header = function () {\n",
       "    var titlebar = document.createElement('div');\n",
       "    titlebar.classList =\n",
       "        'ui-dialog-titlebar ui-widget-header ui-corner-all ui-helper-clearfix';\n",
       "    var titletext = document.createElement('div');\n",
       "    titletext.classList = 'ui-dialog-title';\n",
       "    titletext.setAttribute(\n",
       "        'style',\n",
       "        'width: 100%; text-align: center; padding: 3px;'\n",
       "    );\n",
       "    titlebar.appendChild(titletext);\n",
       "    this.root.appendChild(titlebar);\n",
       "    this.header = titletext;\n",
       "};\n",
       "\n",
       "mpl.figure.prototype._canvas_extra_style = function (_canvas_div) {};\n",
       "\n",
       "mpl.figure.prototype._root_extra_style = function (_canvas_div) {};\n",
       "\n",
       "mpl.figure.prototype._init_canvas = function () {\n",
       "    var fig = this;\n",
       "\n",
       "    var canvas_div = (this.canvas_div = document.createElement('div'));\n",
       "    canvas_div.setAttribute(\n",
       "        'style',\n",
       "        'border: 1px solid #ddd;' +\n",
       "            'box-sizing: content-box;' +\n",
       "            'clear: both;' +\n",
       "            'min-height: 1px;' +\n",
       "            'min-width: 1px;' +\n",
       "            'outline: 0;' +\n",
       "            'overflow: hidden;' +\n",
       "            'position: relative;' +\n",
       "            'resize: both;'\n",
       "    );\n",
       "\n",
       "    function on_keyboard_event_closure(name) {\n",
       "        return function (event) {\n",
       "            return fig.key_event(event, name);\n",
       "        };\n",
       "    }\n",
       "\n",
       "    canvas_div.addEventListener(\n",
       "        'keydown',\n",
       "        on_keyboard_event_closure('key_press')\n",
       "    );\n",
       "    canvas_div.addEventListener(\n",
       "        'keyup',\n",
       "        on_keyboard_event_closure('key_release')\n",
       "    );\n",
       "\n",
       "    this._canvas_extra_style(canvas_div);\n",
       "    this.root.appendChild(canvas_div);\n",
       "\n",
       "    var canvas = (this.canvas = document.createElement('canvas'));\n",
       "    canvas.classList.add('mpl-canvas');\n",
       "    canvas.setAttribute('style', 'box-sizing: content-box;');\n",
       "\n",
       "    this.context = canvas.getContext('2d');\n",
       "\n",
       "    var backingStore =\n",
       "        this.context.backingStorePixelRatio ||\n",
       "        this.context.webkitBackingStorePixelRatio ||\n",
       "        this.context.mozBackingStorePixelRatio ||\n",
       "        this.context.msBackingStorePixelRatio ||\n",
       "        this.context.oBackingStorePixelRatio ||\n",
       "        this.context.backingStorePixelRatio ||\n",
       "        1;\n",
       "\n",
       "    this.ratio = (window.devicePixelRatio || 1) / backingStore;\n",
       "\n",
       "    var rubberband_canvas = (this.rubberband_canvas = document.createElement(\n",
       "        'canvas'\n",
       "    ));\n",
       "    rubberband_canvas.setAttribute(\n",
       "        'style',\n",
       "        'box-sizing: content-box; position: absolute; left: 0; top: 0; z-index: 1;'\n",
       "    );\n",
       "\n",
       "    // Apply a ponyfill if ResizeObserver is not implemented by browser.\n",
       "    if (this.ResizeObserver === undefined) {\n",
       "        if (window.ResizeObserver !== undefined) {\n",
       "            this.ResizeObserver = window.ResizeObserver;\n",
       "        } else {\n",
       "            var obs = _JSXTOOLS_RESIZE_OBSERVER({});\n",
       "            this.ResizeObserver = obs.ResizeObserver;\n",
       "        }\n",
       "    }\n",
       "\n",
       "    this.resizeObserverInstance = new this.ResizeObserver(function (entries) {\n",
       "        var nentries = entries.length;\n",
       "        for (var i = 0; i < nentries; i++) {\n",
       "            var entry = entries[i];\n",
       "            var width, height;\n",
       "            if (entry.contentBoxSize) {\n",
       "                if (entry.contentBoxSize instanceof Array) {\n",
       "                    // Chrome 84 implements new version of spec.\n",
       "                    width = entry.contentBoxSize[0].inlineSize;\n",
       "                    height = entry.contentBoxSize[0].blockSize;\n",
       "                } else {\n",
       "                    // Firefox implements old version of spec.\n",
       "                    width = entry.contentBoxSize.inlineSize;\n",
       "                    height = entry.contentBoxSize.blockSize;\n",
       "                }\n",
       "            } else {\n",
       "                // Chrome <84 implements even older version of spec.\n",
       "                width = entry.contentRect.width;\n",
       "                height = entry.contentRect.height;\n",
       "            }\n",
       "\n",
       "            // Keep the size of the canvas and rubber band canvas in sync with\n",
       "            // the canvas container.\n",
       "            if (entry.devicePixelContentBoxSize) {\n",
       "                // Chrome 84 implements new version of spec.\n",
       "                canvas.setAttribute(\n",
       "                    'width',\n",
       "                    entry.devicePixelContentBoxSize[0].inlineSize\n",
       "                );\n",
       "                canvas.setAttribute(\n",
       "                    'height',\n",
       "                    entry.devicePixelContentBoxSize[0].blockSize\n",
       "                );\n",
       "            } else {\n",
       "                canvas.setAttribute('width', width * fig.ratio);\n",
       "                canvas.setAttribute('height', height * fig.ratio);\n",
       "            }\n",
       "            canvas.setAttribute(\n",
       "                'style',\n",
       "                'width: ' + width + 'px; height: ' + height + 'px;'\n",
       "            );\n",
       "\n",
       "            rubberband_canvas.setAttribute('width', width);\n",
       "            rubberband_canvas.setAttribute('height', height);\n",
       "\n",
       "            // And update the size in Python. We ignore the initial 0/0 size\n",
       "            // that occurs as the element is placed into the DOM, which should\n",
       "            // otherwise not happen due to the minimum size styling.\n",
       "            if (fig.ws.readyState == 1 && width != 0 && height != 0) {\n",
       "                fig.request_resize(width, height);\n",
       "            }\n",
       "        }\n",
       "    });\n",
       "    this.resizeObserverInstance.observe(canvas_div);\n",
       "\n",
       "    function on_mouse_event_closure(name) {\n",
       "        return function (event) {\n",
       "            return fig.mouse_event(event, name);\n",
       "        };\n",
       "    }\n",
       "\n",
       "    rubberband_canvas.addEventListener(\n",
       "        'mousedown',\n",
       "        on_mouse_event_closure('button_press')\n",
       "    );\n",
       "    rubberband_canvas.addEventListener(\n",
       "        'mouseup',\n",
       "        on_mouse_event_closure('button_release')\n",
       "    );\n",
       "    rubberband_canvas.addEventListener(\n",
       "        'dblclick',\n",
       "        on_mouse_event_closure('dblclick')\n",
       "    );\n",
       "    // Throttle sequential mouse events to 1 every 20ms.\n",
       "    rubberband_canvas.addEventListener(\n",
       "        'mousemove',\n",
       "        on_mouse_event_closure('motion_notify')\n",
       "    );\n",
       "\n",
       "    rubberband_canvas.addEventListener(\n",
       "        'mouseenter',\n",
       "        on_mouse_event_closure('figure_enter')\n",
       "    );\n",
       "    rubberband_canvas.addEventListener(\n",
       "        'mouseleave',\n",
       "        on_mouse_event_closure('figure_leave')\n",
       "    );\n",
       "\n",
       "    canvas_div.addEventListener('wheel', function (event) {\n",
       "        if (event.deltaY < 0) {\n",
       "            event.step = 1;\n",
       "        } else {\n",
       "            event.step = -1;\n",
       "        }\n",
       "        on_mouse_event_closure('scroll')(event);\n",
       "    });\n",
       "\n",
       "    canvas_div.appendChild(canvas);\n",
       "    canvas_div.appendChild(rubberband_canvas);\n",
       "\n",
       "    this.rubberband_context = rubberband_canvas.getContext('2d');\n",
       "    this.rubberband_context.strokeStyle = '#000000';\n",
       "\n",
       "    this._resize_canvas = function (width, height, forward) {\n",
       "        if (forward) {\n",
       "            canvas_div.style.width = width + 'px';\n",
       "            canvas_div.style.height = height + 'px';\n",
       "        }\n",
       "    };\n",
       "\n",
       "    // Disable right mouse context menu.\n",
       "    this.rubberband_canvas.addEventListener('contextmenu', function (_e) {\n",
       "        event.preventDefault();\n",
       "        return false;\n",
       "    });\n",
       "\n",
       "    function set_focus() {\n",
       "        canvas.focus();\n",
       "        canvas_div.focus();\n",
       "    }\n",
       "\n",
       "    window.setTimeout(set_focus, 100);\n",
       "};\n",
       "\n",
       "mpl.figure.prototype._init_toolbar = function () {\n",
       "    var fig = this;\n",
       "\n",
       "    var toolbar = document.createElement('div');\n",
       "    toolbar.classList = 'mpl-toolbar';\n",
       "    this.root.appendChild(toolbar);\n",
       "\n",
       "    function on_click_closure(name) {\n",
       "        return function (_event) {\n",
       "            return fig.toolbar_button_onclick(name);\n",
       "        };\n",
       "    }\n",
       "\n",
       "    function on_mouseover_closure(tooltip) {\n",
       "        return function (event) {\n",
       "            if (!event.currentTarget.disabled) {\n",
       "                return fig.toolbar_button_onmouseover(tooltip);\n",
       "            }\n",
       "        };\n",
       "    }\n",
       "\n",
       "    fig.buttons = {};\n",
       "    var buttonGroup = document.createElement('div');\n",
       "    buttonGroup.classList = 'mpl-button-group';\n",
       "    for (var toolbar_ind in mpl.toolbar_items) {\n",
       "        var name = mpl.toolbar_items[toolbar_ind][0];\n",
       "        var tooltip = mpl.toolbar_items[toolbar_ind][1];\n",
       "        var image = mpl.toolbar_items[toolbar_ind][2];\n",
       "        var method_name = mpl.toolbar_items[toolbar_ind][3];\n",
       "\n",
       "        if (!name) {\n",
       "            /* Instead of a spacer, we start a new button group. */\n",
       "            if (buttonGroup.hasChildNodes()) {\n",
       "                toolbar.appendChild(buttonGroup);\n",
       "            }\n",
       "            buttonGroup = document.createElement('div');\n",
       "            buttonGroup.classList = 'mpl-button-group';\n",
       "            continue;\n",
       "        }\n",
       "\n",
       "        var button = (fig.buttons[name] = document.createElement('button'));\n",
       "        button.classList = 'mpl-widget';\n",
       "        button.setAttribute('role', 'button');\n",
       "        button.setAttribute('aria-disabled', 'false');\n",
       "        button.addEventListener('click', on_click_closure(method_name));\n",
       "        button.addEventListener('mouseover', on_mouseover_closure(tooltip));\n",
       "\n",
       "        var icon_img = document.createElement('img');\n",
       "        icon_img.src = '_images/' + image + '.png';\n",
       "        icon_img.srcset = '_images/' + image + '_large.png 2x';\n",
       "        icon_img.alt = tooltip;\n",
       "        button.appendChild(icon_img);\n",
       "\n",
       "        buttonGroup.appendChild(button);\n",
       "    }\n",
       "\n",
       "    if (buttonGroup.hasChildNodes()) {\n",
       "        toolbar.appendChild(buttonGroup);\n",
       "    }\n",
       "\n",
       "    var fmt_picker = document.createElement('select');\n",
       "    fmt_picker.classList = 'mpl-widget';\n",
       "    toolbar.appendChild(fmt_picker);\n",
       "    this.format_dropdown = fmt_picker;\n",
       "\n",
       "    for (var ind in mpl.extensions) {\n",
       "        var fmt = mpl.extensions[ind];\n",
       "        var option = document.createElement('option');\n",
       "        option.selected = fmt === mpl.default_extension;\n",
       "        option.innerHTML = fmt;\n",
       "        fmt_picker.appendChild(option);\n",
       "    }\n",
       "\n",
       "    var status_bar = document.createElement('span');\n",
       "    status_bar.classList = 'mpl-message';\n",
       "    toolbar.appendChild(status_bar);\n",
       "    this.message = status_bar;\n",
       "};\n",
       "\n",
       "mpl.figure.prototype.request_resize = function (x_pixels, y_pixels) {\n",
       "    // Request matplotlib to resize the figure. Matplotlib will then trigger a resize in the client,\n",
       "    // which will in turn request a refresh of the image.\n",
       "    this.send_message('resize', { width: x_pixels, height: y_pixels });\n",
       "};\n",
       "\n",
       "mpl.figure.prototype.send_message = function (type, properties) {\n",
       "    properties['type'] = type;\n",
       "    properties['figure_id'] = this.id;\n",
       "    this.ws.send(JSON.stringify(properties));\n",
       "};\n",
       "\n",
       "mpl.figure.prototype.send_draw_message = function () {\n",
       "    if (!this.waiting) {\n",
       "        this.waiting = true;\n",
       "        this.ws.send(JSON.stringify({ type: 'draw', figure_id: this.id }));\n",
       "    }\n",
       "};\n",
       "\n",
       "mpl.figure.prototype.handle_save = function (fig, _msg) {\n",
       "    var format_dropdown = fig.format_dropdown;\n",
       "    var format = format_dropdown.options[format_dropdown.selectedIndex].value;\n",
       "    fig.ondownload(fig, format);\n",
       "};\n",
       "\n",
       "mpl.figure.prototype.handle_resize = function (fig, msg) {\n",
       "    var size = msg['size'];\n",
       "    if (size[0] !== fig.canvas.width || size[1] !== fig.canvas.height) {\n",
       "        fig._resize_canvas(size[0], size[1], msg['forward']);\n",
       "        fig.send_message('refresh', {});\n",
       "    }\n",
       "};\n",
       "\n",
       "mpl.figure.prototype.handle_rubberband = function (fig, msg) {\n",
       "    var x0 = msg['x0'] / fig.ratio;\n",
       "    var y0 = (fig.canvas.height - msg['y0']) / fig.ratio;\n",
       "    var x1 = msg['x1'] / fig.ratio;\n",
       "    var y1 = (fig.canvas.height - msg['y1']) / fig.ratio;\n",
       "    x0 = Math.floor(x0) + 0.5;\n",
       "    y0 = Math.floor(y0) + 0.5;\n",
       "    x1 = Math.floor(x1) + 0.5;\n",
       "    y1 = Math.floor(y1) + 0.5;\n",
       "    var min_x = Math.min(x0, x1);\n",
       "    var min_y = Math.min(y0, y1);\n",
       "    var width = Math.abs(x1 - x0);\n",
       "    var height = Math.abs(y1 - y0);\n",
       "\n",
       "    fig.rubberband_context.clearRect(\n",
       "        0,\n",
       "        0,\n",
       "        fig.canvas.width / fig.ratio,\n",
       "        fig.canvas.height / fig.ratio\n",
       "    );\n",
       "\n",
       "    fig.rubberband_context.strokeRect(min_x, min_y, width, height);\n",
       "};\n",
       "\n",
       "mpl.figure.prototype.handle_figure_label = function (fig, msg) {\n",
       "    // Updates the figure title.\n",
       "    fig.header.textContent = msg['label'];\n",
       "};\n",
       "\n",
       "mpl.figure.prototype.handle_cursor = function (fig, msg) {\n",
       "    var cursor = msg['cursor'];\n",
       "    switch (cursor) {\n",
       "        case 0:\n",
       "            cursor = 'pointer';\n",
       "            break;\n",
       "        case 1:\n",
       "            cursor = 'default';\n",
       "            break;\n",
       "        case 2:\n",
       "            cursor = 'crosshair';\n",
       "            break;\n",
       "        case 3:\n",
       "            cursor = 'move';\n",
       "            break;\n",
       "    }\n",
       "    fig.rubberband_canvas.style.cursor = cursor;\n",
       "};\n",
       "\n",
       "mpl.figure.prototype.handle_message = function (fig, msg) {\n",
       "    fig.message.textContent = msg['message'];\n",
       "};\n",
       "\n",
       "mpl.figure.prototype.handle_draw = function (fig, _msg) {\n",
       "    // Request the server to send over a new figure.\n",
       "    fig.send_draw_message();\n",
       "};\n",
       "\n",
       "mpl.figure.prototype.handle_image_mode = function (fig, msg) {\n",
       "    fig.image_mode = msg['mode'];\n",
       "};\n",
       "\n",
       "mpl.figure.prototype.handle_history_buttons = function (fig, msg) {\n",
       "    for (var key in msg) {\n",
       "        if (!(key in fig.buttons)) {\n",
       "            continue;\n",
       "        }\n",
       "        fig.buttons[key].disabled = !msg[key];\n",
       "        fig.buttons[key].setAttribute('aria-disabled', !msg[key]);\n",
       "    }\n",
       "};\n",
       "\n",
       "mpl.figure.prototype.handle_navigate_mode = function (fig, msg) {\n",
       "    if (msg['mode'] === 'PAN') {\n",
       "        fig.buttons['Pan'].classList.add('active');\n",
       "        fig.buttons['Zoom'].classList.remove('active');\n",
       "    } else if (msg['mode'] === 'ZOOM') {\n",
       "        fig.buttons['Pan'].classList.remove('active');\n",
       "        fig.buttons['Zoom'].classList.add('active');\n",
       "    } else {\n",
       "        fig.buttons['Pan'].classList.remove('active');\n",
       "        fig.buttons['Zoom'].classList.remove('active');\n",
       "    }\n",
       "};\n",
       "\n",
       "mpl.figure.prototype.updated_canvas_event = function () {\n",
       "    // Called whenever the canvas gets updated.\n",
       "    this.send_message('ack', {});\n",
       "};\n",
       "\n",
       "// A function to construct a web socket function for onmessage handling.\n",
       "// Called in the figure constructor.\n",
       "mpl.figure.prototype._make_on_message_function = function (fig) {\n",
       "    return function socket_on_message(evt) {\n",
       "        if (evt.data instanceof Blob) {\n",
       "            var img = evt.data;\n",
       "            if (img.type !== 'image/png') {\n",
       "                /* FIXME: We get \"Resource interpreted as Image but\n",
       "                 * transferred with MIME type text/plain:\" errors on\n",
       "                 * Chrome.  But how to set the MIME type?  It doesn't seem\n",
       "                 * to be part of the websocket stream */\n",
       "                img.type = 'image/png';\n",
       "            }\n",
       "\n",
       "            /* Free the memory for the previous frames */\n",
       "            if (fig.imageObj.src) {\n",
       "                (window.URL || window.webkitURL).revokeObjectURL(\n",
       "                    fig.imageObj.src\n",
       "                );\n",
       "            }\n",
       "\n",
       "            fig.imageObj.src = (window.URL || window.webkitURL).createObjectURL(\n",
       "                img\n",
       "            );\n",
       "            fig.updated_canvas_event();\n",
       "            fig.waiting = false;\n",
       "            return;\n",
       "        } else if (\n",
       "            typeof evt.data === 'string' &&\n",
       "            evt.data.slice(0, 21) === 'data:image/png;base64'\n",
       "        ) {\n",
       "            fig.imageObj.src = evt.data;\n",
       "            fig.updated_canvas_event();\n",
       "            fig.waiting = false;\n",
       "            return;\n",
       "        }\n",
       "\n",
       "        var msg = JSON.parse(evt.data);\n",
       "        var msg_type = msg['type'];\n",
       "\n",
       "        // Call the  \"handle_{type}\" callback, which takes\n",
       "        // the figure and JSON message as its only arguments.\n",
       "        try {\n",
       "            var callback = fig['handle_' + msg_type];\n",
       "        } catch (e) {\n",
       "            console.log(\n",
       "                \"No handler for the '\" + msg_type + \"' message type: \",\n",
       "                msg\n",
       "            );\n",
       "            return;\n",
       "        }\n",
       "\n",
       "        if (callback) {\n",
       "            try {\n",
       "                // console.log(\"Handling '\" + msg_type + \"' message: \", msg);\n",
       "                callback(fig, msg);\n",
       "            } catch (e) {\n",
       "                console.log(\n",
       "                    \"Exception inside the 'handler_\" + msg_type + \"' callback:\",\n",
       "                    e,\n",
       "                    e.stack,\n",
       "                    msg\n",
       "                );\n",
       "            }\n",
       "        }\n",
       "    };\n",
       "};\n",
       "\n",
       "// from http://stackoverflow.com/questions/1114465/getting-mouse-location-in-canvas\n",
       "mpl.findpos = function (e) {\n",
       "    //this section is from http://www.quirksmode.org/js/events_properties.html\n",
       "    var targ;\n",
       "    if (!e) {\n",
       "        e = window.event;\n",
       "    }\n",
       "    if (e.target) {\n",
       "        targ = e.target;\n",
       "    } else if (e.srcElement) {\n",
       "        targ = e.srcElement;\n",
       "    }\n",
       "    if (targ.nodeType === 3) {\n",
       "        // defeat Safari bug\n",
       "        targ = targ.parentNode;\n",
       "    }\n",
       "\n",
       "    // pageX,Y are the mouse positions relative to the document\n",
       "    var boundingRect = targ.getBoundingClientRect();\n",
       "    var x = e.pageX - (boundingRect.left + document.body.scrollLeft);\n",
       "    var y = e.pageY - (boundingRect.top + document.body.scrollTop);\n",
       "\n",
       "    return { x: x, y: y };\n",
       "};\n",
       "\n",
       "/*\n",
       " * return a copy of an object with only non-object keys\n",
       " * we need this to avoid circular references\n",
       " * http://stackoverflow.com/a/24161582/3208463\n",
       " */\n",
       "function simpleKeys(original) {\n",
       "    return Object.keys(original).reduce(function (obj, key) {\n",
       "        if (typeof original[key] !== 'object') {\n",
       "            obj[key] = original[key];\n",
       "        }\n",
       "        return obj;\n",
       "    }, {});\n",
       "}\n",
       "\n",
       "mpl.figure.prototype.mouse_event = function (event, name) {\n",
       "    var canvas_pos = mpl.findpos(event);\n",
       "\n",
       "    if (name === 'button_press') {\n",
       "        this.canvas.focus();\n",
       "        this.canvas_div.focus();\n",
       "    }\n",
       "\n",
       "    var x = canvas_pos.x * this.ratio;\n",
       "    var y = canvas_pos.y * this.ratio;\n",
       "\n",
       "    this.send_message(name, {\n",
       "        x: x,\n",
       "        y: y,\n",
       "        button: event.button,\n",
       "        step: event.step,\n",
       "        guiEvent: simpleKeys(event),\n",
       "    });\n",
       "\n",
       "    /* This prevents the web browser from automatically changing to\n",
       "     * the text insertion cursor when the button is pressed.  We want\n",
       "     * to control all of the cursor setting manually through the\n",
       "     * 'cursor' event from matplotlib */\n",
       "    event.preventDefault();\n",
       "    return false;\n",
       "};\n",
       "\n",
       "mpl.figure.prototype._key_event_extra = function (_event, _name) {\n",
       "    // Handle any extra behaviour associated with a key event\n",
       "};\n",
       "\n",
       "mpl.figure.prototype.key_event = function (event, name) {\n",
       "    // Prevent repeat events\n",
       "    if (name === 'key_press') {\n",
       "        if (event.key === this._key) {\n",
       "            return;\n",
       "        } else {\n",
       "            this._key = event.key;\n",
       "        }\n",
       "    }\n",
       "    if (name === 'key_release') {\n",
       "        this._key = null;\n",
       "    }\n",
       "\n",
       "    var value = '';\n",
       "    if (event.ctrlKey && event.key !== 'Control') {\n",
       "        value += 'ctrl+';\n",
       "    }\n",
       "    else if (event.altKey && event.key !== 'Alt') {\n",
       "        value += 'alt+';\n",
       "    }\n",
       "    else if (event.shiftKey && event.key !== 'Shift') {\n",
       "        value += 'shift+';\n",
       "    }\n",
       "\n",
       "    value += 'k' + event.key;\n",
       "\n",
       "    this._key_event_extra(event, name);\n",
       "\n",
       "    this.send_message(name, { key: value, guiEvent: simpleKeys(event) });\n",
       "    return false;\n",
       "};\n",
       "\n",
       "mpl.figure.prototype.toolbar_button_onclick = function (name) {\n",
       "    if (name === 'download') {\n",
       "        this.handle_save(this, null);\n",
       "    } else {\n",
       "        this.send_message('toolbar_button', { name: name });\n",
       "    }\n",
       "};\n",
       "\n",
       "mpl.figure.prototype.toolbar_button_onmouseover = function (tooltip) {\n",
       "    this.message.textContent = tooltip;\n",
       "};\n",
       "\n",
       "///////////////// REMAINING CONTENT GENERATED BY embed_js.py /////////////////\n",
       "// prettier-ignore\n",
       "var _JSXTOOLS_RESIZE_OBSERVER=function(A){var t,i=new WeakMap,n=new WeakMap,a=new WeakMap,r=new WeakMap,o=new Set;function s(e){if(!(this instanceof s))throw new TypeError(\"Constructor requires 'new' operator\");i.set(this,e)}function h(){throw new TypeError(\"Function is not a constructor\")}function c(e,t,i,n){e=0 in arguments?Number(arguments[0]):0,t=1 in arguments?Number(arguments[1]):0,i=2 in arguments?Number(arguments[2]):0,n=3 in arguments?Number(arguments[3]):0,this.right=(this.x=this.left=e)+(this.width=i),this.bottom=(this.y=this.top=t)+(this.height=n),Object.freeze(this)}function d(){t=requestAnimationFrame(d);var s=new WeakMap,p=new Set;o.forEach((function(t){r.get(t).forEach((function(i){var r=t instanceof window.SVGElement,o=a.get(t),d=r?0:parseFloat(o.paddingTop),f=r?0:parseFloat(o.paddingRight),l=r?0:parseFloat(o.paddingBottom),u=r?0:parseFloat(o.paddingLeft),g=r?0:parseFloat(o.borderTopWidth),m=r?0:parseFloat(o.borderRightWidth),w=r?0:parseFloat(o.borderBottomWidth),b=u+f,F=d+l,v=(r?0:parseFloat(o.borderLeftWidth))+m,W=g+w,y=r?0:t.offsetHeight-W-t.clientHeight,E=r?0:t.offsetWidth-v-t.clientWidth,R=b+v,z=F+W,M=r?t.width:parseFloat(o.width)-R-E,O=r?t.height:parseFloat(o.height)-z-y;if(n.has(t)){var k=n.get(t);if(k[0]===M&&k[1]===O)return}n.set(t,[M,O]);var S=Object.create(h.prototype);S.target=t,S.contentRect=new c(u,d,M,O),s.has(i)||(s.set(i,[]),p.add(i)),s.get(i).push(S)}))})),p.forEach((function(e){i.get(e).call(e,s.get(e),e)}))}return s.prototype.observe=function(i){if(i instanceof window.Element){r.has(i)||(r.set(i,new Set),o.add(i),a.set(i,window.getComputedStyle(i)));var n=r.get(i);n.has(this)||n.add(this),cancelAnimationFrame(t),t=requestAnimationFrame(d)}},s.prototype.unobserve=function(i){if(i instanceof window.Element&&r.has(i)){var n=r.get(i);n.has(this)&&(n.delete(this),n.size||(r.delete(i),o.delete(i))),n.size||r.delete(i),o.size||cancelAnimationFrame(t)}},A.DOMRectReadOnly=c,A.ResizeObserver=s,A.ResizeObserverEntry=h,A}; // eslint-disable-line\n",
       "mpl.toolbar_items = [[\"Home\", \"Reset original view\", \"fa fa-home icon-home\", \"home\"], [\"Back\", \"Back to previous view\", \"fa fa-arrow-left icon-arrow-left\", \"back\"], [\"Forward\", \"Forward to next view\", \"fa fa-arrow-right icon-arrow-right\", \"forward\"], [\"\", \"\", \"\", \"\"], [\"Pan\", \"Left button pans, Right button zooms\\nx/y fixes axis, CTRL fixes aspect\", \"fa fa-arrows icon-move\", \"pan\"], [\"Zoom\", \"Zoom to rectangle\\nx/y fixes axis, CTRL fixes aspect\", \"fa fa-square-o icon-check-empty\", \"zoom\"], [\"\", \"\", \"\", \"\"], [\"Download\", \"Download plot\", \"fa fa-floppy-o icon-save\", \"download\"]];\n",
       "\n",
       "mpl.extensions = [\"eps\", \"jpeg\", \"pgf\", \"pdf\", \"png\", \"ps\", \"raw\", \"svg\", \"tif\"];\n",
       "\n",
       "mpl.default_extension = \"png\";/* global mpl */\n",
       "\n",
       "var comm_websocket_adapter = function (comm) {\n",
       "    // Create a \"websocket\"-like object which calls the given IPython comm\n",
       "    // object with the appropriate methods. Currently this is a non binary\n",
       "    // socket, so there is still some room for performance tuning.\n",
       "    var ws = {};\n",
       "\n",
       "    ws.binaryType = comm.kernel.ws.binaryType;\n",
       "    ws.readyState = comm.kernel.ws.readyState;\n",
       "    function updateReadyState(_event) {\n",
       "        if (comm.kernel.ws) {\n",
       "            ws.readyState = comm.kernel.ws.readyState;\n",
       "        } else {\n",
       "            ws.readyState = 3; // Closed state.\n",
       "        }\n",
       "    }\n",
       "    comm.kernel.ws.addEventListener('open', updateReadyState);\n",
       "    comm.kernel.ws.addEventListener('close', updateReadyState);\n",
       "    comm.kernel.ws.addEventListener('error', updateReadyState);\n",
       "\n",
       "    ws.close = function () {\n",
       "        comm.close();\n",
       "    };\n",
       "    ws.send = function (m) {\n",
       "        //console.log('sending', m);\n",
       "        comm.send(m);\n",
       "    };\n",
       "    // Register the callback with on_msg.\n",
       "    comm.on_msg(function (msg) {\n",
       "        //console.log('receiving', msg['content']['data'], msg);\n",
       "        var data = msg['content']['data'];\n",
       "        if (data['blob'] !== undefined) {\n",
       "            data = {\n",
       "                data: new Blob(msg['buffers'], { type: data['blob'] }),\n",
       "            };\n",
       "        }\n",
       "        // Pass the mpl event to the overridden (by mpl) onmessage function.\n",
       "        ws.onmessage(data);\n",
       "    });\n",
       "    return ws;\n",
       "};\n",
       "\n",
       "mpl.mpl_figure_comm = function (comm, msg) {\n",
       "    // This is the function which gets called when the mpl process\n",
       "    // starts-up an IPython Comm through the \"matplotlib\" channel.\n",
       "\n",
       "    var id = msg.content.data.id;\n",
       "    // Get hold of the div created by the display call when the Comm\n",
       "    // socket was opened in Python.\n",
       "    var element = document.getElementById(id);\n",
       "    var ws_proxy = comm_websocket_adapter(comm);\n",
       "\n",
       "    function ondownload(figure, _format) {\n",
       "        window.open(figure.canvas.toDataURL());\n",
       "    }\n",
       "\n",
       "    var fig = new mpl.figure(id, ws_proxy, ondownload, element);\n",
       "\n",
       "    // Call onopen now - mpl needs it, as it is assuming we've passed it a real\n",
       "    // web socket which is closed, not our websocket->open comm proxy.\n",
       "    ws_proxy.onopen();\n",
       "\n",
       "    fig.parent_element = element;\n",
       "    fig.cell_info = mpl.find_output_cell(\"<div id='\" + id + \"'></div>\");\n",
       "    if (!fig.cell_info) {\n",
       "        console.error('Failed to find cell for figure', id, fig);\n",
       "        return;\n",
       "    }\n",
       "    fig.cell_info[0].output_area.element.on(\n",
       "        'cleared',\n",
       "        { fig: fig },\n",
       "        fig._remove_fig_handler\n",
       "    );\n",
       "};\n",
       "\n",
       "mpl.figure.prototype.handle_close = function (fig, msg) {\n",
       "    var width = fig.canvas.width / fig.ratio;\n",
       "    fig.cell_info[0].output_area.element.off(\n",
       "        'cleared',\n",
       "        fig._remove_fig_handler\n",
       "    );\n",
       "    fig.resizeObserverInstance.unobserve(fig.canvas_div);\n",
       "\n",
       "    // Update the output cell to use the data from the current canvas.\n",
       "    fig.push_to_output();\n",
       "    var dataURL = fig.canvas.toDataURL();\n",
       "    // Re-enable the keyboard manager in IPython - without this line, in FF,\n",
       "    // the notebook keyboard shortcuts fail.\n",
       "    IPython.keyboard_manager.enable();\n",
       "    fig.parent_element.innerHTML =\n",
       "        '<img src=\"' + dataURL + '\" width=\"' + width + '\">';\n",
       "    fig.close_ws(fig, msg);\n",
       "};\n",
       "\n",
       "mpl.figure.prototype.close_ws = function (fig, msg) {\n",
       "    fig.send_message('closing', msg);\n",
       "    // fig.ws.close()\n",
       "};\n",
       "\n",
       "mpl.figure.prototype.push_to_output = function (_remove_interactive) {\n",
       "    // Turn the data on the canvas into data in the output cell.\n",
       "    var width = this.canvas.width / this.ratio;\n",
       "    var dataURL = this.canvas.toDataURL();\n",
       "    this.cell_info[1]['text/html'] =\n",
       "        '<img src=\"' + dataURL + '\" width=\"' + width + '\">';\n",
       "};\n",
       "\n",
       "mpl.figure.prototype.updated_canvas_event = function () {\n",
       "    // Tell IPython that the notebook contents must change.\n",
       "    IPython.notebook.set_dirty(true);\n",
       "    this.send_message('ack', {});\n",
       "    var fig = this;\n",
       "    // Wait a second, then push the new image to the DOM so\n",
       "    // that it is saved nicely (might be nice to debounce this).\n",
       "    setTimeout(function () {\n",
       "        fig.push_to_output();\n",
       "    }, 1000);\n",
       "};\n",
       "\n",
       "mpl.figure.prototype._init_toolbar = function () {\n",
       "    var fig = this;\n",
       "\n",
       "    var toolbar = document.createElement('div');\n",
       "    toolbar.classList = 'btn-toolbar';\n",
       "    this.root.appendChild(toolbar);\n",
       "\n",
       "    function on_click_closure(name) {\n",
       "        return function (_event) {\n",
       "            return fig.toolbar_button_onclick(name);\n",
       "        };\n",
       "    }\n",
       "\n",
       "    function on_mouseover_closure(tooltip) {\n",
       "        return function (event) {\n",
       "            if (!event.currentTarget.disabled) {\n",
       "                return fig.toolbar_button_onmouseover(tooltip);\n",
       "            }\n",
       "        };\n",
       "    }\n",
       "\n",
       "    fig.buttons = {};\n",
       "    var buttonGroup = document.createElement('div');\n",
       "    buttonGroup.classList = 'btn-group';\n",
       "    var button;\n",
       "    for (var toolbar_ind in mpl.toolbar_items) {\n",
       "        var name = mpl.toolbar_items[toolbar_ind][0];\n",
       "        var tooltip = mpl.toolbar_items[toolbar_ind][1];\n",
       "        var image = mpl.toolbar_items[toolbar_ind][2];\n",
       "        var method_name = mpl.toolbar_items[toolbar_ind][3];\n",
       "\n",
       "        if (!name) {\n",
       "            /* Instead of a spacer, we start a new button group. */\n",
       "            if (buttonGroup.hasChildNodes()) {\n",
       "                toolbar.appendChild(buttonGroup);\n",
       "            }\n",
       "            buttonGroup = document.createElement('div');\n",
       "            buttonGroup.classList = 'btn-group';\n",
       "            continue;\n",
       "        }\n",
       "\n",
       "        button = fig.buttons[name] = document.createElement('button');\n",
       "        button.classList = 'btn btn-default';\n",
       "        button.href = '#';\n",
       "        button.title = name;\n",
       "        button.innerHTML = '<i class=\"fa ' + image + ' fa-lg\"></i>';\n",
       "        button.addEventListener('click', on_click_closure(method_name));\n",
       "        button.addEventListener('mouseover', on_mouseover_closure(tooltip));\n",
       "        buttonGroup.appendChild(button);\n",
       "    }\n",
       "\n",
       "    if (buttonGroup.hasChildNodes()) {\n",
       "        toolbar.appendChild(buttonGroup);\n",
       "    }\n",
       "\n",
       "    // Add the status bar.\n",
       "    var status_bar = document.createElement('span');\n",
       "    status_bar.classList = 'mpl-message pull-right';\n",
       "    toolbar.appendChild(status_bar);\n",
       "    this.message = status_bar;\n",
       "\n",
       "    // Add the close button to the window.\n",
       "    var buttongrp = document.createElement('div');\n",
       "    buttongrp.classList = 'btn-group inline pull-right';\n",
       "    button = document.createElement('button');\n",
       "    button.classList = 'btn btn-mini btn-primary';\n",
       "    button.href = '#';\n",
       "    button.title = 'Stop Interaction';\n",
       "    button.innerHTML = '<i class=\"fa fa-power-off icon-remove icon-large\"></i>';\n",
       "    button.addEventListener('click', function (_evt) {\n",
       "        fig.handle_close(fig, {});\n",
       "    });\n",
       "    button.addEventListener(\n",
       "        'mouseover',\n",
       "        on_mouseover_closure('Stop Interaction')\n",
       "    );\n",
       "    buttongrp.appendChild(button);\n",
       "    var titlebar = this.root.querySelector('.ui-dialog-titlebar');\n",
       "    titlebar.insertBefore(buttongrp, titlebar.firstChild);\n",
       "};\n",
       "\n",
       "mpl.figure.prototype._remove_fig_handler = function (event) {\n",
       "    var fig = event.data.fig;\n",
       "    if (event.target !== this) {\n",
       "        // Ignore bubbled events from children.\n",
       "        return;\n",
       "    }\n",
       "    fig.close_ws(fig, {});\n",
       "};\n",
       "\n",
       "mpl.figure.prototype._root_extra_style = function (el) {\n",
       "    el.style.boxSizing = 'content-box'; // override notebook setting of border-box.\n",
       "};\n",
       "\n",
       "mpl.figure.prototype._canvas_extra_style = function (el) {\n",
       "    // this is important to make the div 'focusable\n",
       "    el.setAttribute('tabindex', 0);\n",
       "    // reach out to IPython and tell the keyboard manager to turn it's self\n",
       "    // off when our div gets focus\n",
       "\n",
       "    // location in version 3\n",
       "    if (IPython.notebook.keyboard_manager) {\n",
       "        IPython.notebook.keyboard_manager.register_events(el);\n",
       "    } else {\n",
       "        // location in version 2\n",
       "        IPython.keyboard_manager.register_events(el);\n",
       "    }\n",
       "};\n",
       "\n",
       "mpl.figure.prototype._key_event_extra = function (event, _name) {\n",
       "    var manager = IPython.notebook.keyboard_manager;\n",
       "    if (!manager) {\n",
       "        manager = IPython.keyboard_manager;\n",
       "    }\n",
       "\n",
       "    // Check for shift+enter\n",
       "    if (event.shiftKey && event.which === 13) {\n",
       "        this.canvas_div.blur();\n",
       "        // select the cell after this one\n",
       "        var index = IPython.notebook.find_cell_index(this.cell_info[0]);\n",
       "        IPython.notebook.select(index + 1);\n",
       "    }\n",
       "};\n",
       "\n",
       "mpl.figure.prototype.handle_save = function (fig, _msg) {\n",
       "    fig.ondownload(fig, null);\n",
       "};\n",
       "\n",
       "mpl.find_output_cell = function (html_output) {\n",
       "    // Return the cell and output element which can be found *uniquely* in the notebook.\n",
       "    // Note - this is a bit hacky, but it is done because the \"notebook_saving.Notebook\"\n",
       "    // IPython event is triggered only after the cells have been serialised, which for\n",
       "    // our purposes (turning an active figure into a static one), is too late.\n",
       "    var cells = IPython.notebook.get_cells();\n",
       "    var ncells = cells.length;\n",
       "    for (var i = 0; i < ncells; i++) {\n",
       "        var cell = cells[i];\n",
       "        if (cell.cell_type === 'code') {\n",
       "            for (var j = 0; j < cell.output_area.outputs.length; j++) {\n",
       "                var data = cell.output_area.outputs[j];\n",
       "                if (data.data) {\n",
       "                    // IPython >= 3 moved mimebundle to data attribute of output\n",
       "                    data = data.data;\n",
       "                }\n",
       "                if (data['text/html'] === html_output) {\n",
       "                    return [cell, data, j];\n",
       "                }\n",
       "            }\n",
       "        }\n",
       "    }\n",
       "};\n",
       "\n",
       "// Register the function which deals with the matplotlib target/channel.\n",
       "// The kernel may be null if the page has been refreshed.\n",
       "if (IPython.notebook.kernel !== null) {\n",
       "    IPython.notebook.kernel.comm_manager.register_target(\n",
       "        'matplotlib',\n",
       "        mpl.mpl_figure_comm\n",
       "    );\n",
       "}\n"
      ],
      "text/plain": [
       "<IPython.core.display.Javascript object>"
      ]
     },
     "metadata": {},
     "output_type": "display_data"
    },
    {
     "data": {
      "text/html": [
       "<img src=\"data:,\" width=\"0\">"
      ],
      "text/plain": [
       "<IPython.core.display.HTML object>"
      ]
     },
     "metadata": {},
     "output_type": "display_data"
    },
    {
     "data": {
      "text/plain": [
       "[<matplotlib.lines.Line2D at 0x26b2e765850>]"
      ]
     },
     "execution_count": 89,
     "metadata": {},
     "output_type": "execute_result"
    }
   ],
   "source": [
    "%matplotlib notebook\n",
    "plt.plot(data)"
   ]
  },
  {
   "cell_type": "markdown",
   "metadata": {
    "slideshow": {
     "slide_type": "slide"
    }
   },
   "source": [
    "* Plots in matplotlib reside within a Figure object. You can create a new figure with **plt.figure**"
   ]
  },
  {
   "cell_type": "code",
   "execution_count": 90,
   "metadata": {
    "slideshow": {
     "slide_type": "fragment"
    }
   },
   "outputs": [
    {
     "data": {
      "application/javascript": [
       "/* Put everything inside the global mpl namespace */\n",
       "/* global mpl */\n",
       "window.mpl = {};\n",
       "\n",
       "mpl.get_websocket_type = function () {\n",
       "    if (typeof WebSocket !== 'undefined') {\n",
       "        return WebSocket;\n",
       "    } else if (typeof MozWebSocket !== 'undefined') {\n",
       "        return MozWebSocket;\n",
       "    } else {\n",
       "        alert(\n",
       "            'Your browser does not have WebSocket support. ' +\n",
       "                'Please try Chrome, Safari or Firefox ≥ 6. ' +\n",
       "                'Firefox 4 and 5 are also supported but you ' +\n",
       "                'have to enable WebSockets in about:config.'\n",
       "        );\n",
       "    }\n",
       "};\n",
       "\n",
       "mpl.figure = function (figure_id, websocket, ondownload, parent_element) {\n",
       "    this.id = figure_id;\n",
       "\n",
       "    this.ws = websocket;\n",
       "\n",
       "    this.supports_binary = this.ws.binaryType !== undefined;\n",
       "\n",
       "    if (!this.supports_binary) {\n",
       "        var warnings = document.getElementById('mpl-warnings');\n",
       "        if (warnings) {\n",
       "            warnings.style.display = 'block';\n",
       "            warnings.textContent =\n",
       "                'This browser does not support binary websocket messages. ' +\n",
       "                'Performance may be slow.';\n",
       "        }\n",
       "    }\n",
       "\n",
       "    this.imageObj = new Image();\n",
       "\n",
       "    this.context = undefined;\n",
       "    this.message = undefined;\n",
       "    this.canvas = undefined;\n",
       "    this.rubberband_canvas = undefined;\n",
       "    this.rubberband_context = undefined;\n",
       "    this.format_dropdown = undefined;\n",
       "\n",
       "    this.image_mode = 'full';\n",
       "\n",
       "    this.root = document.createElement('div');\n",
       "    this.root.setAttribute('style', 'display: inline-block');\n",
       "    this._root_extra_style(this.root);\n",
       "\n",
       "    parent_element.appendChild(this.root);\n",
       "\n",
       "    this._init_header(this);\n",
       "    this._init_canvas(this);\n",
       "    this._init_toolbar(this);\n",
       "\n",
       "    var fig = this;\n",
       "\n",
       "    this.waiting = false;\n",
       "\n",
       "    this.ws.onopen = function () {\n",
       "        fig.send_message('supports_binary', { value: fig.supports_binary });\n",
       "        fig.send_message('send_image_mode', {});\n",
       "        if (fig.ratio !== 1) {\n",
       "            fig.send_message('set_dpi_ratio', { dpi_ratio: fig.ratio });\n",
       "        }\n",
       "        fig.send_message('refresh', {});\n",
       "    };\n",
       "\n",
       "    this.imageObj.onload = function () {\n",
       "        if (fig.image_mode === 'full') {\n",
       "            // Full images could contain transparency (where diff images\n",
       "            // almost always do), so we need to clear the canvas so that\n",
       "            // there is no ghosting.\n",
       "            fig.context.clearRect(0, 0, fig.canvas.width, fig.canvas.height);\n",
       "        }\n",
       "        fig.context.drawImage(fig.imageObj, 0, 0);\n",
       "    };\n",
       "\n",
       "    this.imageObj.onunload = function () {\n",
       "        fig.ws.close();\n",
       "    };\n",
       "\n",
       "    this.ws.onmessage = this._make_on_message_function(this);\n",
       "\n",
       "    this.ondownload = ondownload;\n",
       "};\n",
       "\n",
       "mpl.figure.prototype._init_header = function () {\n",
       "    var titlebar = document.createElement('div');\n",
       "    titlebar.classList =\n",
       "        'ui-dialog-titlebar ui-widget-header ui-corner-all ui-helper-clearfix';\n",
       "    var titletext = document.createElement('div');\n",
       "    titletext.classList = 'ui-dialog-title';\n",
       "    titletext.setAttribute(\n",
       "        'style',\n",
       "        'width: 100%; text-align: center; padding: 3px;'\n",
       "    );\n",
       "    titlebar.appendChild(titletext);\n",
       "    this.root.appendChild(titlebar);\n",
       "    this.header = titletext;\n",
       "};\n",
       "\n",
       "mpl.figure.prototype._canvas_extra_style = function (_canvas_div) {};\n",
       "\n",
       "mpl.figure.prototype._root_extra_style = function (_canvas_div) {};\n",
       "\n",
       "mpl.figure.prototype._init_canvas = function () {\n",
       "    var fig = this;\n",
       "\n",
       "    var canvas_div = (this.canvas_div = document.createElement('div'));\n",
       "    canvas_div.setAttribute(\n",
       "        'style',\n",
       "        'border: 1px solid #ddd;' +\n",
       "            'box-sizing: content-box;' +\n",
       "            'clear: both;' +\n",
       "            'min-height: 1px;' +\n",
       "            'min-width: 1px;' +\n",
       "            'outline: 0;' +\n",
       "            'overflow: hidden;' +\n",
       "            'position: relative;' +\n",
       "            'resize: both;'\n",
       "    );\n",
       "\n",
       "    function on_keyboard_event_closure(name) {\n",
       "        return function (event) {\n",
       "            return fig.key_event(event, name);\n",
       "        };\n",
       "    }\n",
       "\n",
       "    canvas_div.addEventListener(\n",
       "        'keydown',\n",
       "        on_keyboard_event_closure('key_press')\n",
       "    );\n",
       "    canvas_div.addEventListener(\n",
       "        'keyup',\n",
       "        on_keyboard_event_closure('key_release')\n",
       "    );\n",
       "\n",
       "    this._canvas_extra_style(canvas_div);\n",
       "    this.root.appendChild(canvas_div);\n",
       "\n",
       "    var canvas = (this.canvas = document.createElement('canvas'));\n",
       "    canvas.classList.add('mpl-canvas');\n",
       "    canvas.setAttribute('style', 'box-sizing: content-box;');\n",
       "\n",
       "    this.context = canvas.getContext('2d');\n",
       "\n",
       "    var backingStore =\n",
       "        this.context.backingStorePixelRatio ||\n",
       "        this.context.webkitBackingStorePixelRatio ||\n",
       "        this.context.mozBackingStorePixelRatio ||\n",
       "        this.context.msBackingStorePixelRatio ||\n",
       "        this.context.oBackingStorePixelRatio ||\n",
       "        this.context.backingStorePixelRatio ||\n",
       "        1;\n",
       "\n",
       "    this.ratio = (window.devicePixelRatio || 1) / backingStore;\n",
       "\n",
       "    var rubberband_canvas = (this.rubberband_canvas = document.createElement(\n",
       "        'canvas'\n",
       "    ));\n",
       "    rubberband_canvas.setAttribute(\n",
       "        'style',\n",
       "        'box-sizing: content-box; position: absolute; left: 0; top: 0; z-index: 1;'\n",
       "    );\n",
       "\n",
       "    // Apply a ponyfill if ResizeObserver is not implemented by browser.\n",
       "    if (this.ResizeObserver === undefined) {\n",
       "        if (window.ResizeObserver !== undefined) {\n",
       "            this.ResizeObserver = window.ResizeObserver;\n",
       "        } else {\n",
       "            var obs = _JSXTOOLS_RESIZE_OBSERVER({});\n",
       "            this.ResizeObserver = obs.ResizeObserver;\n",
       "        }\n",
       "    }\n",
       "\n",
       "    this.resizeObserverInstance = new this.ResizeObserver(function (entries) {\n",
       "        var nentries = entries.length;\n",
       "        for (var i = 0; i < nentries; i++) {\n",
       "            var entry = entries[i];\n",
       "            var width, height;\n",
       "            if (entry.contentBoxSize) {\n",
       "                if (entry.contentBoxSize instanceof Array) {\n",
       "                    // Chrome 84 implements new version of spec.\n",
       "                    width = entry.contentBoxSize[0].inlineSize;\n",
       "                    height = entry.contentBoxSize[0].blockSize;\n",
       "                } else {\n",
       "                    // Firefox implements old version of spec.\n",
       "                    width = entry.contentBoxSize.inlineSize;\n",
       "                    height = entry.contentBoxSize.blockSize;\n",
       "                }\n",
       "            } else {\n",
       "                // Chrome <84 implements even older version of spec.\n",
       "                width = entry.contentRect.width;\n",
       "                height = entry.contentRect.height;\n",
       "            }\n",
       "\n",
       "            // Keep the size of the canvas and rubber band canvas in sync with\n",
       "            // the canvas container.\n",
       "            if (entry.devicePixelContentBoxSize) {\n",
       "                // Chrome 84 implements new version of spec.\n",
       "                canvas.setAttribute(\n",
       "                    'width',\n",
       "                    entry.devicePixelContentBoxSize[0].inlineSize\n",
       "                );\n",
       "                canvas.setAttribute(\n",
       "                    'height',\n",
       "                    entry.devicePixelContentBoxSize[0].blockSize\n",
       "                );\n",
       "            } else {\n",
       "                canvas.setAttribute('width', width * fig.ratio);\n",
       "                canvas.setAttribute('height', height * fig.ratio);\n",
       "            }\n",
       "            canvas.setAttribute(\n",
       "                'style',\n",
       "                'width: ' + width + 'px; height: ' + height + 'px;'\n",
       "            );\n",
       "\n",
       "            rubberband_canvas.setAttribute('width', width);\n",
       "            rubberband_canvas.setAttribute('height', height);\n",
       "\n",
       "            // And update the size in Python. We ignore the initial 0/0 size\n",
       "            // that occurs as the element is placed into the DOM, which should\n",
       "            // otherwise not happen due to the minimum size styling.\n",
       "            if (fig.ws.readyState == 1 && width != 0 && height != 0) {\n",
       "                fig.request_resize(width, height);\n",
       "            }\n",
       "        }\n",
       "    });\n",
       "    this.resizeObserverInstance.observe(canvas_div);\n",
       "\n",
       "    function on_mouse_event_closure(name) {\n",
       "        return function (event) {\n",
       "            return fig.mouse_event(event, name);\n",
       "        };\n",
       "    }\n",
       "\n",
       "    rubberband_canvas.addEventListener(\n",
       "        'mousedown',\n",
       "        on_mouse_event_closure('button_press')\n",
       "    );\n",
       "    rubberband_canvas.addEventListener(\n",
       "        'mouseup',\n",
       "        on_mouse_event_closure('button_release')\n",
       "    );\n",
       "    rubberband_canvas.addEventListener(\n",
       "        'dblclick',\n",
       "        on_mouse_event_closure('dblclick')\n",
       "    );\n",
       "    // Throttle sequential mouse events to 1 every 20ms.\n",
       "    rubberband_canvas.addEventListener(\n",
       "        'mousemove',\n",
       "        on_mouse_event_closure('motion_notify')\n",
       "    );\n",
       "\n",
       "    rubberband_canvas.addEventListener(\n",
       "        'mouseenter',\n",
       "        on_mouse_event_closure('figure_enter')\n",
       "    );\n",
       "    rubberband_canvas.addEventListener(\n",
       "        'mouseleave',\n",
       "        on_mouse_event_closure('figure_leave')\n",
       "    );\n",
       "\n",
       "    canvas_div.addEventListener('wheel', function (event) {\n",
       "        if (event.deltaY < 0) {\n",
       "            event.step = 1;\n",
       "        } else {\n",
       "            event.step = -1;\n",
       "        }\n",
       "        on_mouse_event_closure('scroll')(event);\n",
       "    });\n",
       "\n",
       "    canvas_div.appendChild(canvas);\n",
       "    canvas_div.appendChild(rubberband_canvas);\n",
       "\n",
       "    this.rubberband_context = rubberband_canvas.getContext('2d');\n",
       "    this.rubberband_context.strokeStyle = '#000000';\n",
       "\n",
       "    this._resize_canvas = function (width, height, forward) {\n",
       "        if (forward) {\n",
       "            canvas_div.style.width = width + 'px';\n",
       "            canvas_div.style.height = height + 'px';\n",
       "        }\n",
       "    };\n",
       "\n",
       "    // Disable right mouse context menu.\n",
       "    this.rubberband_canvas.addEventListener('contextmenu', function (_e) {\n",
       "        event.preventDefault();\n",
       "        return false;\n",
       "    });\n",
       "\n",
       "    function set_focus() {\n",
       "        canvas.focus();\n",
       "        canvas_div.focus();\n",
       "    }\n",
       "\n",
       "    window.setTimeout(set_focus, 100);\n",
       "};\n",
       "\n",
       "mpl.figure.prototype._init_toolbar = function () {\n",
       "    var fig = this;\n",
       "\n",
       "    var toolbar = document.createElement('div');\n",
       "    toolbar.classList = 'mpl-toolbar';\n",
       "    this.root.appendChild(toolbar);\n",
       "\n",
       "    function on_click_closure(name) {\n",
       "        return function (_event) {\n",
       "            return fig.toolbar_button_onclick(name);\n",
       "        };\n",
       "    }\n",
       "\n",
       "    function on_mouseover_closure(tooltip) {\n",
       "        return function (event) {\n",
       "            if (!event.currentTarget.disabled) {\n",
       "                return fig.toolbar_button_onmouseover(tooltip);\n",
       "            }\n",
       "        };\n",
       "    }\n",
       "\n",
       "    fig.buttons = {};\n",
       "    var buttonGroup = document.createElement('div');\n",
       "    buttonGroup.classList = 'mpl-button-group';\n",
       "    for (var toolbar_ind in mpl.toolbar_items) {\n",
       "        var name = mpl.toolbar_items[toolbar_ind][0];\n",
       "        var tooltip = mpl.toolbar_items[toolbar_ind][1];\n",
       "        var image = mpl.toolbar_items[toolbar_ind][2];\n",
       "        var method_name = mpl.toolbar_items[toolbar_ind][3];\n",
       "\n",
       "        if (!name) {\n",
       "            /* Instead of a spacer, we start a new button group. */\n",
       "            if (buttonGroup.hasChildNodes()) {\n",
       "                toolbar.appendChild(buttonGroup);\n",
       "            }\n",
       "            buttonGroup = document.createElement('div');\n",
       "            buttonGroup.classList = 'mpl-button-group';\n",
       "            continue;\n",
       "        }\n",
       "\n",
       "        var button = (fig.buttons[name] = document.createElement('button'));\n",
       "        button.classList = 'mpl-widget';\n",
       "        button.setAttribute('role', 'button');\n",
       "        button.setAttribute('aria-disabled', 'false');\n",
       "        button.addEventListener('click', on_click_closure(method_name));\n",
       "        button.addEventListener('mouseover', on_mouseover_closure(tooltip));\n",
       "\n",
       "        var icon_img = document.createElement('img');\n",
       "        icon_img.src = '_images/' + image + '.png';\n",
       "        icon_img.srcset = '_images/' + image + '_large.png 2x';\n",
       "        icon_img.alt = tooltip;\n",
       "        button.appendChild(icon_img);\n",
       "\n",
       "        buttonGroup.appendChild(button);\n",
       "    }\n",
       "\n",
       "    if (buttonGroup.hasChildNodes()) {\n",
       "        toolbar.appendChild(buttonGroup);\n",
       "    }\n",
       "\n",
       "    var fmt_picker = document.createElement('select');\n",
       "    fmt_picker.classList = 'mpl-widget';\n",
       "    toolbar.appendChild(fmt_picker);\n",
       "    this.format_dropdown = fmt_picker;\n",
       "\n",
       "    for (var ind in mpl.extensions) {\n",
       "        var fmt = mpl.extensions[ind];\n",
       "        var option = document.createElement('option');\n",
       "        option.selected = fmt === mpl.default_extension;\n",
       "        option.innerHTML = fmt;\n",
       "        fmt_picker.appendChild(option);\n",
       "    }\n",
       "\n",
       "    var status_bar = document.createElement('span');\n",
       "    status_bar.classList = 'mpl-message';\n",
       "    toolbar.appendChild(status_bar);\n",
       "    this.message = status_bar;\n",
       "};\n",
       "\n",
       "mpl.figure.prototype.request_resize = function (x_pixels, y_pixels) {\n",
       "    // Request matplotlib to resize the figure. Matplotlib will then trigger a resize in the client,\n",
       "    // which will in turn request a refresh of the image.\n",
       "    this.send_message('resize', { width: x_pixels, height: y_pixels });\n",
       "};\n",
       "\n",
       "mpl.figure.prototype.send_message = function (type, properties) {\n",
       "    properties['type'] = type;\n",
       "    properties['figure_id'] = this.id;\n",
       "    this.ws.send(JSON.stringify(properties));\n",
       "};\n",
       "\n",
       "mpl.figure.prototype.send_draw_message = function () {\n",
       "    if (!this.waiting) {\n",
       "        this.waiting = true;\n",
       "        this.ws.send(JSON.stringify({ type: 'draw', figure_id: this.id }));\n",
       "    }\n",
       "};\n",
       "\n",
       "mpl.figure.prototype.handle_save = function (fig, _msg) {\n",
       "    var format_dropdown = fig.format_dropdown;\n",
       "    var format = format_dropdown.options[format_dropdown.selectedIndex].value;\n",
       "    fig.ondownload(fig, format);\n",
       "};\n",
       "\n",
       "mpl.figure.prototype.handle_resize = function (fig, msg) {\n",
       "    var size = msg['size'];\n",
       "    if (size[0] !== fig.canvas.width || size[1] !== fig.canvas.height) {\n",
       "        fig._resize_canvas(size[0], size[1], msg['forward']);\n",
       "        fig.send_message('refresh', {});\n",
       "    }\n",
       "};\n",
       "\n",
       "mpl.figure.prototype.handle_rubberband = function (fig, msg) {\n",
       "    var x0 = msg['x0'] / fig.ratio;\n",
       "    var y0 = (fig.canvas.height - msg['y0']) / fig.ratio;\n",
       "    var x1 = msg['x1'] / fig.ratio;\n",
       "    var y1 = (fig.canvas.height - msg['y1']) / fig.ratio;\n",
       "    x0 = Math.floor(x0) + 0.5;\n",
       "    y0 = Math.floor(y0) + 0.5;\n",
       "    x1 = Math.floor(x1) + 0.5;\n",
       "    y1 = Math.floor(y1) + 0.5;\n",
       "    var min_x = Math.min(x0, x1);\n",
       "    var min_y = Math.min(y0, y1);\n",
       "    var width = Math.abs(x1 - x0);\n",
       "    var height = Math.abs(y1 - y0);\n",
       "\n",
       "    fig.rubberband_context.clearRect(\n",
       "        0,\n",
       "        0,\n",
       "        fig.canvas.width / fig.ratio,\n",
       "        fig.canvas.height / fig.ratio\n",
       "    );\n",
       "\n",
       "    fig.rubberband_context.strokeRect(min_x, min_y, width, height);\n",
       "};\n",
       "\n",
       "mpl.figure.prototype.handle_figure_label = function (fig, msg) {\n",
       "    // Updates the figure title.\n",
       "    fig.header.textContent = msg['label'];\n",
       "};\n",
       "\n",
       "mpl.figure.prototype.handle_cursor = function (fig, msg) {\n",
       "    var cursor = msg['cursor'];\n",
       "    switch (cursor) {\n",
       "        case 0:\n",
       "            cursor = 'pointer';\n",
       "            break;\n",
       "        case 1:\n",
       "            cursor = 'default';\n",
       "            break;\n",
       "        case 2:\n",
       "            cursor = 'crosshair';\n",
       "            break;\n",
       "        case 3:\n",
       "            cursor = 'move';\n",
       "            break;\n",
       "    }\n",
       "    fig.rubberband_canvas.style.cursor = cursor;\n",
       "};\n",
       "\n",
       "mpl.figure.prototype.handle_message = function (fig, msg) {\n",
       "    fig.message.textContent = msg['message'];\n",
       "};\n",
       "\n",
       "mpl.figure.prototype.handle_draw = function (fig, _msg) {\n",
       "    // Request the server to send over a new figure.\n",
       "    fig.send_draw_message();\n",
       "};\n",
       "\n",
       "mpl.figure.prototype.handle_image_mode = function (fig, msg) {\n",
       "    fig.image_mode = msg['mode'];\n",
       "};\n",
       "\n",
       "mpl.figure.prototype.handle_history_buttons = function (fig, msg) {\n",
       "    for (var key in msg) {\n",
       "        if (!(key in fig.buttons)) {\n",
       "            continue;\n",
       "        }\n",
       "        fig.buttons[key].disabled = !msg[key];\n",
       "        fig.buttons[key].setAttribute('aria-disabled', !msg[key]);\n",
       "    }\n",
       "};\n",
       "\n",
       "mpl.figure.prototype.handle_navigate_mode = function (fig, msg) {\n",
       "    if (msg['mode'] === 'PAN') {\n",
       "        fig.buttons['Pan'].classList.add('active');\n",
       "        fig.buttons['Zoom'].classList.remove('active');\n",
       "    } else if (msg['mode'] === 'ZOOM') {\n",
       "        fig.buttons['Pan'].classList.remove('active');\n",
       "        fig.buttons['Zoom'].classList.add('active');\n",
       "    } else {\n",
       "        fig.buttons['Pan'].classList.remove('active');\n",
       "        fig.buttons['Zoom'].classList.remove('active');\n",
       "    }\n",
       "};\n",
       "\n",
       "mpl.figure.prototype.updated_canvas_event = function () {\n",
       "    // Called whenever the canvas gets updated.\n",
       "    this.send_message('ack', {});\n",
       "};\n",
       "\n",
       "// A function to construct a web socket function for onmessage handling.\n",
       "// Called in the figure constructor.\n",
       "mpl.figure.prototype._make_on_message_function = function (fig) {\n",
       "    return function socket_on_message(evt) {\n",
       "        if (evt.data instanceof Blob) {\n",
       "            var img = evt.data;\n",
       "            if (img.type !== 'image/png') {\n",
       "                /* FIXME: We get \"Resource interpreted as Image but\n",
       "                 * transferred with MIME type text/plain:\" errors on\n",
       "                 * Chrome.  But how to set the MIME type?  It doesn't seem\n",
       "                 * to be part of the websocket stream */\n",
       "                img.type = 'image/png';\n",
       "            }\n",
       "\n",
       "            /* Free the memory for the previous frames */\n",
       "            if (fig.imageObj.src) {\n",
       "                (window.URL || window.webkitURL).revokeObjectURL(\n",
       "                    fig.imageObj.src\n",
       "                );\n",
       "            }\n",
       "\n",
       "            fig.imageObj.src = (window.URL || window.webkitURL).createObjectURL(\n",
       "                img\n",
       "            );\n",
       "            fig.updated_canvas_event();\n",
       "            fig.waiting = false;\n",
       "            return;\n",
       "        } else if (\n",
       "            typeof evt.data === 'string' &&\n",
       "            evt.data.slice(0, 21) === 'data:image/png;base64'\n",
       "        ) {\n",
       "            fig.imageObj.src = evt.data;\n",
       "            fig.updated_canvas_event();\n",
       "            fig.waiting = false;\n",
       "            return;\n",
       "        }\n",
       "\n",
       "        var msg = JSON.parse(evt.data);\n",
       "        var msg_type = msg['type'];\n",
       "\n",
       "        // Call the  \"handle_{type}\" callback, which takes\n",
       "        // the figure and JSON message as its only arguments.\n",
       "        try {\n",
       "            var callback = fig['handle_' + msg_type];\n",
       "        } catch (e) {\n",
       "            console.log(\n",
       "                \"No handler for the '\" + msg_type + \"' message type: \",\n",
       "                msg\n",
       "            );\n",
       "            return;\n",
       "        }\n",
       "\n",
       "        if (callback) {\n",
       "            try {\n",
       "                // console.log(\"Handling '\" + msg_type + \"' message: \", msg);\n",
       "                callback(fig, msg);\n",
       "            } catch (e) {\n",
       "                console.log(\n",
       "                    \"Exception inside the 'handler_\" + msg_type + \"' callback:\",\n",
       "                    e,\n",
       "                    e.stack,\n",
       "                    msg\n",
       "                );\n",
       "            }\n",
       "        }\n",
       "    };\n",
       "};\n",
       "\n",
       "// from http://stackoverflow.com/questions/1114465/getting-mouse-location-in-canvas\n",
       "mpl.findpos = function (e) {\n",
       "    //this section is from http://www.quirksmode.org/js/events_properties.html\n",
       "    var targ;\n",
       "    if (!e) {\n",
       "        e = window.event;\n",
       "    }\n",
       "    if (e.target) {\n",
       "        targ = e.target;\n",
       "    } else if (e.srcElement) {\n",
       "        targ = e.srcElement;\n",
       "    }\n",
       "    if (targ.nodeType === 3) {\n",
       "        // defeat Safari bug\n",
       "        targ = targ.parentNode;\n",
       "    }\n",
       "\n",
       "    // pageX,Y are the mouse positions relative to the document\n",
       "    var boundingRect = targ.getBoundingClientRect();\n",
       "    var x = e.pageX - (boundingRect.left + document.body.scrollLeft);\n",
       "    var y = e.pageY - (boundingRect.top + document.body.scrollTop);\n",
       "\n",
       "    return { x: x, y: y };\n",
       "};\n",
       "\n",
       "/*\n",
       " * return a copy of an object with only non-object keys\n",
       " * we need this to avoid circular references\n",
       " * http://stackoverflow.com/a/24161582/3208463\n",
       " */\n",
       "function simpleKeys(original) {\n",
       "    return Object.keys(original).reduce(function (obj, key) {\n",
       "        if (typeof original[key] !== 'object') {\n",
       "            obj[key] = original[key];\n",
       "        }\n",
       "        return obj;\n",
       "    }, {});\n",
       "}\n",
       "\n",
       "mpl.figure.prototype.mouse_event = function (event, name) {\n",
       "    var canvas_pos = mpl.findpos(event);\n",
       "\n",
       "    if (name === 'button_press') {\n",
       "        this.canvas.focus();\n",
       "        this.canvas_div.focus();\n",
       "    }\n",
       "\n",
       "    var x = canvas_pos.x * this.ratio;\n",
       "    var y = canvas_pos.y * this.ratio;\n",
       "\n",
       "    this.send_message(name, {\n",
       "        x: x,\n",
       "        y: y,\n",
       "        button: event.button,\n",
       "        step: event.step,\n",
       "        guiEvent: simpleKeys(event),\n",
       "    });\n",
       "\n",
       "    /* This prevents the web browser from automatically changing to\n",
       "     * the text insertion cursor when the button is pressed.  We want\n",
       "     * to control all of the cursor setting manually through the\n",
       "     * 'cursor' event from matplotlib */\n",
       "    event.preventDefault();\n",
       "    return false;\n",
       "};\n",
       "\n",
       "mpl.figure.prototype._key_event_extra = function (_event, _name) {\n",
       "    // Handle any extra behaviour associated with a key event\n",
       "};\n",
       "\n",
       "mpl.figure.prototype.key_event = function (event, name) {\n",
       "    // Prevent repeat events\n",
       "    if (name === 'key_press') {\n",
       "        if (event.key === this._key) {\n",
       "            return;\n",
       "        } else {\n",
       "            this._key = event.key;\n",
       "        }\n",
       "    }\n",
       "    if (name === 'key_release') {\n",
       "        this._key = null;\n",
       "    }\n",
       "\n",
       "    var value = '';\n",
       "    if (event.ctrlKey && event.key !== 'Control') {\n",
       "        value += 'ctrl+';\n",
       "    }\n",
       "    else if (event.altKey && event.key !== 'Alt') {\n",
       "        value += 'alt+';\n",
       "    }\n",
       "    else if (event.shiftKey && event.key !== 'Shift') {\n",
       "        value += 'shift+';\n",
       "    }\n",
       "\n",
       "    value += 'k' + event.key;\n",
       "\n",
       "    this._key_event_extra(event, name);\n",
       "\n",
       "    this.send_message(name, { key: value, guiEvent: simpleKeys(event) });\n",
       "    return false;\n",
       "};\n",
       "\n",
       "mpl.figure.prototype.toolbar_button_onclick = function (name) {\n",
       "    if (name === 'download') {\n",
       "        this.handle_save(this, null);\n",
       "    } else {\n",
       "        this.send_message('toolbar_button', { name: name });\n",
       "    }\n",
       "};\n",
       "\n",
       "mpl.figure.prototype.toolbar_button_onmouseover = function (tooltip) {\n",
       "    this.message.textContent = tooltip;\n",
       "};\n",
       "\n",
       "///////////////// REMAINING CONTENT GENERATED BY embed_js.py /////////////////\n",
       "// prettier-ignore\n",
       "var _JSXTOOLS_RESIZE_OBSERVER=function(A){var t,i=new WeakMap,n=new WeakMap,a=new WeakMap,r=new WeakMap,o=new Set;function s(e){if(!(this instanceof s))throw new TypeError(\"Constructor requires 'new' operator\");i.set(this,e)}function h(){throw new TypeError(\"Function is not a constructor\")}function c(e,t,i,n){e=0 in arguments?Number(arguments[0]):0,t=1 in arguments?Number(arguments[1]):0,i=2 in arguments?Number(arguments[2]):0,n=3 in arguments?Number(arguments[3]):0,this.right=(this.x=this.left=e)+(this.width=i),this.bottom=(this.y=this.top=t)+(this.height=n),Object.freeze(this)}function d(){t=requestAnimationFrame(d);var s=new WeakMap,p=new Set;o.forEach((function(t){r.get(t).forEach((function(i){var r=t instanceof window.SVGElement,o=a.get(t),d=r?0:parseFloat(o.paddingTop),f=r?0:parseFloat(o.paddingRight),l=r?0:parseFloat(o.paddingBottom),u=r?0:parseFloat(o.paddingLeft),g=r?0:parseFloat(o.borderTopWidth),m=r?0:parseFloat(o.borderRightWidth),w=r?0:parseFloat(o.borderBottomWidth),b=u+f,F=d+l,v=(r?0:parseFloat(o.borderLeftWidth))+m,W=g+w,y=r?0:t.offsetHeight-W-t.clientHeight,E=r?0:t.offsetWidth-v-t.clientWidth,R=b+v,z=F+W,M=r?t.width:parseFloat(o.width)-R-E,O=r?t.height:parseFloat(o.height)-z-y;if(n.has(t)){var k=n.get(t);if(k[0]===M&&k[1]===O)return}n.set(t,[M,O]);var S=Object.create(h.prototype);S.target=t,S.contentRect=new c(u,d,M,O),s.has(i)||(s.set(i,[]),p.add(i)),s.get(i).push(S)}))})),p.forEach((function(e){i.get(e).call(e,s.get(e),e)}))}return s.prototype.observe=function(i){if(i instanceof window.Element){r.has(i)||(r.set(i,new Set),o.add(i),a.set(i,window.getComputedStyle(i)));var n=r.get(i);n.has(this)||n.add(this),cancelAnimationFrame(t),t=requestAnimationFrame(d)}},s.prototype.unobserve=function(i){if(i instanceof window.Element&&r.has(i)){var n=r.get(i);n.has(this)&&(n.delete(this),n.size||(r.delete(i),o.delete(i))),n.size||r.delete(i),o.size||cancelAnimationFrame(t)}},A.DOMRectReadOnly=c,A.ResizeObserver=s,A.ResizeObserverEntry=h,A}; // eslint-disable-line\n",
       "mpl.toolbar_items = [[\"Home\", \"Reset original view\", \"fa fa-home icon-home\", \"home\"], [\"Back\", \"Back to previous view\", \"fa fa-arrow-left icon-arrow-left\", \"back\"], [\"Forward\", \"Forward to next view\", \"fa fa-arrow-right icon-arrow-right\", \"forward\"], [\"\", \"\", \"\", \"\"], [\"Pan\", \"Left button pans, Right button zooms\\nx/y fixes axis, CTRL fixes aspect\", \"fa fa-arrows icon-move\", \"pan\"], [\"Zoom\", \"Zoom to rectangle\\nx/y fixes axis, CTRL fixes aspect\", \"fa fa-square-o icon-check-empty\", \"zoom\"], [\"\", \"\", \"\", \"\"], [\"Download\", \"Download plot\", \"fa fa-floppy-o icon-save\", \"download\"]];\n",
       "\n",
       "mpl.extensions = [\"eps\", \"jpeg\", \"pgf\", \"pdf\", \"png\", \"ps\", \"raw\", \"svg\", \"tif\"];\n",
       "\n",
       "mpl.default_extension = \"png\";/* global mpl */\n",
       "\n",
       "var comm_websocket_adapter = function (comm) {\n",
       "    // Create a \"websocket\"-like object which calls the given IPython comm\n",
       "    // object with the appropriate methods. Currently this is a non binary\n",
       "    // socket, so there is still some room for performance tuning.\n",
       "    var ws = {};\n",
       "\n",
       "    ws.binaryType = comm.kernel.ws.binaryType;\n",
       "    ws.readyState = comm.kernel.ws.readyState;\n",
       "    function updateReadyState(_event) {\n",
       "        if (comm.kernel.ws) {\n",
       "            ws.readyState = comm.kernel.ws.readyState;\n",
       "        } else {\n",
       "            ws.readyState = 3; // Closed state.\n",
       "        }\n",
       "    }\n",
       "    comm.kernel.ws.addEventListener('open', updateReadyState);\n",
       "    comm.kernel.ws.addEventListener('close', updateReadyState);\n",
       "    comm.kernel.ws.addEventListener('error', updateReadyState);\n",
       "\n",
       "    ws.close = function () {\n",
       "        comm.close();\n",
       "    };\n",
       "    ws.send = function (m) {\n",
       "        //console.log('sending', m);\n",
       "        comm.send(m);\n",
       "    };\n",
       "    // Register the callback with on_msg.\n",
       "    comm.on_msg(function (msg) {\n",
       "        //console.log('receiving', msg['content']['data'], msg);\n",
       "        var data = msg['content']['data'];\n",
       "        if (data['blob'] !== undefined) {\n",
       "            data = {\n",
       "                data: new Blob(msg['buffers'], { type: data['blob'] }),\n",
       "            };\n",
       "        }\n",
       "        // Pass the mpl event to the overridden (by mpl) onmessage function.\n",
       "        ws.onmessage(data);\n",
       "    });\n",
       "    return ws;\n",
       "};\n",
       "\n",
       "mpl.mpl_figure_comm = function (comm, msg) {\n",
       "    // This is the function which gets called when the mpl process\n",
       "    // starts-up an IPython Comm through the \"matplotlib\" channel.\n",
       "\n",
       "    var id = msg.content.data.id;\n",
       "    // Get hold of the div created by the display call when the Comm\n",
       "    // socket was opened in Python.\n",
       "    var element = document.getElementById(id);\n",
       "    var ws_proxy = comm_websocket_adapter(comm);\n",
       "\n",
       "    function ondownload(figure, _format) {\n",
       "        window.open(figure.canvas.toDataURL());\n",
       "    }\n",
       "\n",
       "    var fig = new mpl.figure(id, ws_proxy, ondownload, element);\n",
       "\n",
       "    // Call onopen now - mpl needs it, as it is assuming we've passed it a real\n",
       "    // web socket which is closed, not our websocket->open comm proxy.\n",
       "    ws_proxy.onopen();\n",
       "\n",
       "    fig.parent_element = element;\n",
       "    fig.cell_info = mpl.find_output_cell(\"<div id='\" + id + \"'></div>\");\n",
       "    if (!fig.cell_info) {\n",
       "        console.error('Failed to find cell for figure', id, fig);\n",
       "        return;\n",
       "    }\n",
       "    fig.cell_info[0].output_area.element.on(\n",
       "        'cleared',\n",
       "        { fig: fig },\n",
       "        fig._remove_fig_handler\n",
       "    );\n",
       "};\n",
       "\n",
       "mpl.figure.prototype.handle_close = function (fig, msg) {\n",
       "    var width = fig.canvas.width / fig.ratio;\n",
       "    fig.cell_info[0].output_area.element.off(\n",
       "        'cleared',\n",
       "        fig._remove_fig_handler\n",
       "    );\n",
       "    fig.resizeObserverInstance.unobserve(fig.canvas_div);\n",
       "\n",
       "    // Update the output cell to use the data from the current canvas.\n",
       "    fig.push_to_output();\n",
       "    var dataURL = fig.canvas.toDataURL();\n",
       "    // Re-enable the keyboard manager in IPython - without this line, in FF,\n",
       "    // the notebook keyboard shortcuts fail.\n",
       "    IPython.keyboard_manager.enable();\n",
       "    fig.parent_element.innerHTML =\n",
       "        '<img src=\"' + dataURL + '\" width=\"' + width + '\">';\n",
       "    fig.close_ws(fig, msg);\n",
       "};\n",
       "\n",
       "mpl.figure.prototype.close_ws = function (fig, msg) {\n",
       "    fig.send_message('closing', msg);\n",
       "    // fig.ws.close()\n",
       "};\n",
       "\n",
       "mpl.figure.prototype.push_to_output = function (_remove_interactive) {\n",
       "    // Turn the data on the canvas into data in the output cell.\n",
       "    var width = this.canvas.width / this.ratio;\n",
       "    var dataURL = this.canvas.toDataURL();\n",
       "    this.cell_info[1]['text/html'] =\n",
       "        '<img src=\"' + dataURL + '\" width=\"' + width + '\">';\n",
       "};\n",
       "\n",
       "mpl.figure.prototype.updated_canvas_event = function () {\n",
       "    // Tell IPython that the notebook contents must change.\n",
       "    IPython.notebook.set_dirty(true);\n",
       "    this.send_message('ack', {});\n",
       "    var fig = this;\n",
       "    // Wait a second, then push the new image to the DOM so\n",
       "    // that it is saved nicely (might be nice to debounce this).\n",
       "    setTimeout(function () {\n",
       "        fig.push_to_output();\n",
       "    }, 1000);\n",
       "};\n",
       "\n",
       "mpl.figure.prototype._init_toolbar = function () {\n",
       "    var fig = this;\n",
       "\n",
       "    var toolbar = document.createElement('div');\n",
       "    toolbar.classList = 'btn-toolbar';\n",
       "    this.root.appendChild(toolbar);\n",
       "\n",
       "    function on_click_closure(name) {\n",
       "        return function (_event) {\n",
       "            return fig.toolbar_button_onclick(name);\n",
       "        };\n",
       "    }\n",
       "\n",
       "    function on_mouseover_closure(tooltip) {\n",
       "        return function (event) {\n",
       "            if (!event.currentTarget.disabled) {\n",
       "                return fig.toolbar_button_onmouseover(tooltip);\n",
       "            }\n",
       "        };\n",
       "    }\n",
       "\n",
       "    fig.buttons = {};\n",
       "    var buttonGroup = document.createElement('div');\n",
       "    buttonGroup.classList = 'btn-group';\n",
       "    var button;\n",
       "    for (var toolbar_ind in mpl.toolbar_items) {\n",
       "        var name = mpl.toolbar_items[toolbar_ind][0];\n",
       "        var tooltip = mpl.toolbar_items[toolbar_ind][1];\n",
       "        var image = mpl.toolbar_items[toolbar_ind][2];\n",
       "        var method_name = mpl.toolbar_items[toolbar_ind][3];\n",
       "\n",
       "        if (!name) {\n",
       "            /* Instead of a spacer, we start a new button group. */\n",
       "            if (buttonGroup.hasChildNodes()) {\n",
       "                toolbar.appendChild(buttonGroup);\n",
       "            }\n",
       "            buttonGroup = document.createElement('div');\n",
       "            buttonGroup.classList = 'btn-group';\n",
       "            continue;\n",
       "        }\n",
       "\n",
       "        button = fig.buttons[name] = document.createElement('button');\n",
       "        button.classList = 'btn btn-default';\n",
       "        button.href = '#';\n",
       "        button.title = name;\n",
       "        button.innerHTML = '<i class=\"fa ' + image + ' fa-lg\"></i>';\n",
       "        button.addEventListener('click', on_click_closure(method_name));\n",
       "        button.addEventListener('mouseover', on_mouseover_closure(tooltip));\n",
       "        buttonGroup.appendChild(button);\n",
       "    }\n",
       "\n",
       "    if (buttonGroup.hasChildNodes()) {\n",
       "        toolbar.appendChild(buttonGroup);\n",
       "    }\n",
       "\n",
       "    // Add the status bar.\n",
       "    var status_bar = document.createElement('span');\n",
       "    status_bar.classList = 'mpl-message pull-right';\n",
       "    toolbar.appendChild(status_bar);\n",
       "    this.message = status_bar;\n",
       "\n",
       "    // Add the close button to the window.\n",
       "    var buttongrp = document.createElement('div');\n",
       "    buttongrp.classList = 'btn-group inline pull-right';\n",
       "    button = document.createElement('button');\n",
       "    button.classList = 'btn btn-mini btn-primary';\n",
       "    button.href = '#';\n",
       "    button.title = 'Stop Interaction';\n",
       "    button.innerHTML = '<i class=\"fa fa-power-off icon-remove icon-large\"></i>';\n",
       "    button.addEventListener('click', function (_evt) {\n",
       "        fig.handle_close(fig, {});\n",
       "    });\n",
       "    button.addEventListener(\n",
       "        'mouseover',\n",
       "        on_mouseover_closure('Stop Interaction')\n",
       "    );\n",
       "    buttongrp.appendChild(button);\n",
       "    var titlebar = this.root.querySelector('.ui-dialog-titlebar');\n",
       "    titlebar.insertBefore(buttongrp, titlebar.firstChild);\n",
       "};\n",
       "\n",
       "mpl.figure.prototype._remove_fig_handler = function (event) {\n",
       "    var fig = event.data.fig;\n",
       "    if (event.target !== this) {\n",
       "        // Ignore bubbled events from children.\n",
       "        return;\n",
       "    }\n",
       "    fig.close_ws(fig, {});\n",
       "};\n",
       "\n",
       "mpl.figure.prototype._root_extra_style = function (el) {\n",
       "    el.style.boxSizing = 'content-box'; // override notebook setting of border-box.\n",
       "};\n",
       "\n",
       "mpl.figure.prototype._canvas_extra_style = function (el) {\n",
       "    // this is important to make the div 'focusable\n",
       "    el.setAttribute('tabindex', 0);\n",
       "    // reach out to IPython and tell the keyboard manager to turn it's self\n",
       "    // off when our div gets focus\n",
       "\n",
       "    // location in version 3\n",
       "    if (IPython.notebook.keyboard_manager) {\n",
       "        IPython.notebook.keyboard_manager.register_events(el);\n",
       "    } else {\n",
       "        // location in version 2\n",
       "        IPython.keyboard_manager.register_events(el);\n",
       "    }\n",
       "};\n",
       "\n",
       "mpl.figure.prototype._key_event_extra = function (event, _name) {\n",
       "    var manager = IPython.notebook.keyboard_manager;\n",
       "    if (!manager) {\n",
       "        manager = IPython.keyboard_manager;\n",
       "    }\n",
       "\n",
       "    // Check for shift+enter\n",
       "    if (event.shiftKey && event.which === 13) {\n",
       "        this.canvas_div.blur();\n",
       "        // select the cell after this one\n",
       "        var index = IPython.notebook.find_cell_index(this.cell_info[0]);\n",
       "        IPython.notebook.select(index + 1);\n",
       "    }\n",
       "};\n",
       "\n",
       "mpl.figure.prototype.handle_save = function (fig, _msg) {\n",
       "    fig.ondownload(fig, null);\n",
       "};\n",
       "\n",
       "mpl.find_output_cell = function (html_output) {\n",
       "    // Return the cell and output element which can be found *uniquely* in the notebook.\n",
       "    // Note - this is a bit hacky, but it is done because the \"notebook_saving.Notebook\"\n",
       "    // IPython event is triggered only after the cells have been serialised, which for\n",
       "    // our purposes (turning an active figure into a static one), is too late.\n",
       "    var cells = IPython.notebook.get_cells();\n",
       "    var ncells = cells.length;\n",
       "    for (var i = 0; i < ncells; i++) {\n",
       "        var cell = cells[i];\n",
       "        if (cell.cell_type === 'code') {\n",
       "            for (var j = 0; j < cell.output_area.outputs.length; j++) {\n",
       "                var data = cell.output_area.outputs[j];\n",
       "                if (data.data) {\n",
       "                    // IPython >= 3 moved mimebundle to data attribute of output\n",
       "                    data = data.data;\n",
       "                }\n",
       "                if (data['text/html'] === html_output) {\n",
       "                    return [cell, data, j];\n",
       "                }\n",
       "            }\n",
       "        }\n",
       "    }\n",
       "};\n",
       "\n",
       "// Register the function which deals with the matplotlib target/channel.\n",
       "// The kernel may be null if the page has been refreshed.\n",
       "if (IPython.notebook.kernel !== null) {\n",
       "    IPython.notebook.kernel.comm_manager.register_target(\n",
       "        'matplotlib',\n",
       "        mpl.mpl_figure_comm\n",
       "    );\n",
       "}\n"
      ],
      "text/plain": [
       "<IPython.core.display.Javascript object>"
      ]
     },
     "metadata": {},
     "output_type": "display_data"
    },
    {
     "data": {
      "text/html": [
       "<img src=\"data:image/png;base64,iVBORw0KGgoAAAANSUhEUgAAAogAAAGwCAYAAAAqiJTnAAAAAXNSR0IArs4c6QAAGKxJREFUeF7t2SEOxDAQBMH4/58OdUCk5lOHl2ytQSt3Hj8CBAgQIECAAAECl8ChQYAAAQIECBAgQOAWEIjeAwECBAgQIECAwEdAIHoQBAgQIECAAAECAtEbIECAAAECBAgQ+BfwBdHrIECAAAECBAgQ8AXRGyBAgAABAgQIEPAF0RsgQIAAAQIECBCIAv5ijlDGCBAgQIAAAQIrAgJx5dL2JECAAAECBAhEAYEYoYwRIECAAAECBFYEBOLKpe1JgAABAgQIEIgCAjFCGSNAgAABAgQIrAgIxJVL25MAAQIECBAgEAUEYoQyRoAAAQIECBBYERCIK5e2JwECBAgQIEAgCgjECGWMAAECBAgQILAiIBBXLm1PAgQIECBAgEAUEIgRyhgBAgQIECBAYEVAIK5c2p4ECBAgQIAAgSggECOUMQIECBAgQIDAioBAXLm0PQkQIECAAAECUUAgRihjBAgQIECAAIEVAYG4cml7EiBAgAABAgSigECMUMYIECBAgAABAisCAnHl0vYkQIAAAQIECEQBgRihjBEgQIAAAQIEVgQE4sql7UmAAAECBAgQiAICMUIZI0CAAAECBAisCAjElUvbkwABAgQIECAQBQRihDJGgAABAgQIEFgREIgrl7YnAQIECBAgQCAKCMQIZYwAAQIECBAgsCIgEFcubU8CBAgQIECAQBQQiBHKGAECBAgQIEBgRUAgrlzangQIECBAgACBKCAQI5QxAgQIECBAgMCKgEBcubQ9CRAgQIAAAQJRQCBGKGMECBAgQIAAgRUBgbhyaXsSIECAAAECBKKAQIxQxggQIECAAAECKwICceXS9iRAgAABAgQIRAGBGKGMESBAgAABAgRWBATiyqXtSYAAAQIECBCIAgIxQhkjQIAAAQIECKwICMSVS9uTAAECBAgQIBAFBGKEMkaAAAECBAgQWBEQiCuXticBAgQIECBAIAoIxAhljAABAgQIECCwIiAQVy5tTwIECBAgQIBAFBCIEcoYAQIECBAgQGBFQCCuXNqeBAgQIECAAIEoIBAjlDECBAgQIECAwIqAQFy5tD0JECBAgAABAlFAIEYoYwQIECBAgACBFQGBuHJpexIgQIAAAQIEooBAjFDGCBAgQIAAAQIrAgJx5dL2JECAAAECBAhEAYEYoYwRIECAAAECBFYEBOLKpe1JgAABAgQIEIgCAjFCGSNAgAABAgQIrAgIxJVL25MAAQIECBAgEAUEYoQyRoAAAQIECBBYERCIK5e2JwECBAgQIEAgCgjECGWMAAECBAgQILAiIBBXLm1PAgQIECBAgEAUEIgRyhgBAgQIECBAYEVAIK5c2p4ECBAgQIAAgSggECOUMQIECBAgQIDAioBAXLm0PQkQIECAAAECUUAgRihjBAgQIECAAIEVAYG4cml7EiBAgAABAgSigECMUMYIECBAgAABAisCAnHl0vYkQIAAAQIECEQBgRihjBEgQIAAAQIEVgQE4sql7UmAAAECBAgQiAICMUIZI0CAAAECBAisCAjElUvbkwABAgQIECAQBQRihDJGgAABAgQIEFgREIgrl7YnAQIECBAgQCAKCMQIZYwAAQIECBAgsCIgEFcubU8CBAgQIECAQBQQiBHKGAECBAgQIEBgRUAgrlzangQIECBAgACBKCAQI5QxAgQIECBAgMCKgEBcubQ9CRAgQIAAAQJRQCBGKGMECBAgQIAAgRUBgbhyaXsSIECAAAECBKKAQIxQxggQIECAAAECKwICceXS9iRAgAABAgQIRAGBGKGMESBAgAABAgRWBATiyqXtSYAAAQIECBCIAgIxQhkjQIAAAQIECKwICMSVS9uTAAECBAgQIBAFBGKEMkaAAAECBAgQWBEQiCuXticBAgQIECBAIAoIxAhljAABAgQIECCwIiAQVy5tTwIECBAgQIBAFBCIEcoYAQIECBAgQGBFQCCuXNqeBAgQIECAAIEoIBAjlDECBAgQIECAwIqAQFy5tD0JECBAgAABAlFAIEYoYwQIECBAgACBFQGBuHJpexIgQIAAAQIEooBAjFDGCBAgQIAAAQIrAgJx5dL2JECAAAECBAhEAYEYoYwRIECAAAECBFYEBOLKpe1JgAABAgQIEIgCAjFCGSNAgAABAgQIrAgIxJVL25MAAQIECBAgEAUEYoQyRoAAAQIECBBYERCIK5e2JwECBAgQIEAgCgjECGWMAAECBAgQILAiIBBXLm1PAgQIECBAgEAUEIgRyhgBAgQIECBAYEVAIK5c2p4ECBAgQIAAgSggECOUMQIECBAgQIDAioBAXLm0PQkQIECAAAECUUAgRihjBAgQIECAAIEVAYG4cml7EiBAgAABAgSigECMUMYIECBAgAABAisCAnHl0vYkQIAAAQIECEQBgRihjBEgQIAAAQIEVgQE4sql7UmAAAECBAgQiAICMUIZI0CAAAECBAisCAjElUvbkwABAgQIECAQBQRihDJGgAABAgQIEFgREIgrl7YnAQIECBAgQCAKCMQIZYwAAQIECBAgsCIgEFcubU8CBAgQIECAQBQQiBHKGAECBAgQIEBgRUAgrlzangQIECBAgACBKCAQI5QxAgQIECBAgMCKgEBcubQ9CRAgQIAAAQJRQCBGKGMECBAgQIAAgRUBgbhyaXsSIECAAAECBKKAQIxQxggQIECAAAECKwICceXS9iRAgAABAgQIRAGBGKGMESBAgAABAgRWBATiyqXtSYAAAQIECBCIAgIxQhkjQIAAAQIECKwICMSVS9uTAAECBAgQIBAFBGKEMkaAAAECBAgQWBEQiCuXticBAgQIECBAIAoIxAhljAABAgQIECCwIiAQVy5tTwIECBAgQIBAFBCIEcoYAQIECBAgQGBFQCCuXNqeBAgQIECAAIEoIBAjlDECBAgQIECAwIqAQFy5tD0JECBAgAABAlFAIEYoYwQIECBAgACBFQGBuHJpexIgQIAAAQIEooBAjFDGCBAgQIAAAQIrAgJx5dL2JECAAAECBAhEAYEYoYwRIECAAAECBFYEBOLKpe1JgAABAgQIEIgCAjFCGSNAgAABAgQIrAgIxJVL25MAAQIECBAgEAUEYoQyRoAAAQIECBBYERCIK5e2JwECBAgQIEAgCgjECGWMAAECBAgQILAiIBBXLm1PAgQIECBAgEAUEIgRyhgBAgQIECBAYEVAIK5c2p4ECBAgQIAAgSggECOUMQIECBAgQIDAioBAXLm0PQkQIECAAAECUUAgRihjBAgQIECAAIEVAYG4cml7EiBAgAABAgSigECMUMYIECBAgAABAisCAnHl0vYkQIAAAQIECEQBgRihjBEgQIAAAQIEVgQE4sql7UmAAAECBAgQiAICMUIZI0CAAAECBAisCAjElUvbkwABAgQIECAQBQRihDJGgAABAgQIEFgREIgrl7YnAQIECBAgQCAKCMQIZYwAAQIECBAgsCIgEFcubU8CBAgQIECAQBQQiBHKGAECBAgQIEBgRUAgrlzangQIECBAgACBKCAQI5QxAgQIECBAgMCKgEBcubQ9CRAgQIAAAQJRQCBGKGMECBAgQIAAgRUBgbhyaXsSIECAAAECBKKAQIxQxggQIECAAAECKwICceXS9iRAgAABAgQIRAGBGKGMESBAgAABAgRWBATiyqXtSYAAAQIECBCIAgIxQhkjQIAAAQIECKwICMSVS9uTAAECBAgQIBAFBGKEMkaAAAECBAgQWBEQiCuXticBAgQIECBAIAoIxAhljAABAgQIECCwIiAQVy5tTwIECBAgQIBAFBCIEcoYAQIECBAgQGBFQCCuXNqeBAgQIECAAIEoIBAjlDECBAgQIECAwIqAQFy5tD0JECBAgAABAlFAIEYoYwQIECBAgACBFQGBuHJpexIgQIAAAQIEooBAjFDGCBAgQIAAAQIrAgJx5dL2JECAAAECBAhEAYEYoYwRIECAAAECBFYEBOLKpe1JgAABAgQIEIgCAjFCGSNAgAABAgQIrAgIxJVL25MAAQIECBAgEAUEYoQyRoAAAQIECBBYERCIK5e2JwECBAgQIEAgCgjECGWMAAECBAgQILAiIBBXLm1PAgQIECBAgEAUEIgRyhgBAgQIECBAYEVAIK5c2p4ECBAgQIAAgSggECOUMQIECBAgQIDAioBAXLm0PQkQIECAAAECUUAgRihjBAgQIECAAIEVAYG4cml7EiBAgAABAgSigECMUMYIECBAgAABAisCAnHl0vYkQIAAAQIECEQBgRihjBEgQIAAAQIEVgQE4sql7UmAAAECBAgQiAICMUIZI0CAAAECBAisCAjElUvbkwABAgQIECAQBQRihDJGgAABAgQIEFgREIgrl7YnAQIECBAgQCAKCMQIZYwAAQIECBAgsCIgEFcubU8CBAgQIECAQBQQiBHKGAECBAgQIEBgRUAgrlzangQIECBAgACBKCAQI5QxAgQIECBAgMCKgEBcubQ9CRAgQIAAAQJRQCBGKGMECBAgQIAAgRUBgbhyaXsSIECAAAECBKKAQIxQxggQIECAAAECKwICceXS9iRAgAABAgQIRAGBGKGMESBAgAABAgRWBATiyqXtSYAAAQIECBCIAgIxQhkjQIAAAQIECKwICMSVS9uTAAECBAgQIBAFBGKEMkaAAAECBAgQWBEQiCuXticBAgQIECBAIAoIxAhljAABAgQIECCwIiAQVy5tTwIECBAgQIBAFBCIEcoYAQIECBAgQGBFQCCuXNqeBAgQIECAAIEoIBAjlDECBAgQIECAwIqAQFy5tD0JECBAgAABAlFAIEYoYwQIECBAgACBFQGBuHJpexIgQIAAAQIEooBAjFDGCBAgQIAAAQIrAgJx5dL2JECAAAECBAhEAYEYoYwRIECAAAECBFYEBOLKpe1JgAABAgQIEIgCAjFCGSNAgAABAgQIrAgIxJVL25MAAQIECBAgEAUEYoQyRoAAAQIECBBYERCIK5e2JwECBAgQIEAgCgjECGWMAAECBAgQILAiIBBXLm1PAgQIECBAgEAUEIgRyhgBAgQIECBAYEVAIK5c2p4ECBAgQIAAgSggECOUMQIECBAgQIDAioBAXLm0PQkQIECAAAECUUAgRihjBAgQIECAAIEVAYG4cml7EiBAgAABAgSigECMUMYIECBAgAABAisCAnHl0vYkQIAAAQIECEQBgRihjBEgQIAAAQIEVgQE4sql7UmAAAECBAgQiAICMUIZI0CAAAECBAisCAjElUvbkwABAgQIECAQBQRihDJGgAABAgQIEFgREIgrl7YnAQIECBAgQCAKCMQIZYwAAQIECBAgsCIgEFcubU8CBAgQIECAQBQQiBHKGAECBAgQIEBgRUAgrlzangQIECBAgACBKCAQI5QxAgQIECBAgMCKgEBcubQ9CRAgQIAAAQJRQCBGKGMECBAgQIAAgRUBgbhyaXsSIECAAAECBKKAQIxQxggQIECAAAECKwICceXS9iRAgAABAgQIRAGBGKGMESBAgAABAgRWBATiyqXtSYAAAQIECBCIAgIxQhkjQIAAAQIECKwICMSVS9uTAAECBAgQIBAFBGKEMkaAAAECBAgQWBEQiCuXticBAgQIECBAIAoIxAhljAABAgQIECCwIiAQVy5tTwIECBAgQIBAFBCIEcoYAQIECBAgQGBFQCCuXNqeBAgQIECAAIEoIBAjlDECBAgQIECAwIqAQFy5tD0JECBAgAABAlFAIEYoYwQIECBAgACBFQGBuHJpexIgQIAAAQIEooBAjFDGCBAgQIAAAQIrAgJx5dL2JECAAAECBAhEAYEYoYwRIECAAAECBFYEBOLKpe1JgAABAgQIEIgCAjFCGSNAgAABAgQIrAgIxJVL25MAAQIECBAgEAUEYoQyRoAAAQIECBBYERCIK5e2JwECBAgQIEAgCgjECGWMAAECBAgQILAiIBBXLm1PAgQIECBAgEAUEIgRyhgBAgQIECBAYEVAIK5c2p4ECBAgQIAAgSggECOUMQIECBAgQIDAioBAXLm0PQkQIECAAAECUUAgRihjBAgQIECAAIEVAYG4cml7EiBAgAABAgSigECMUMYIECBAgAABAisCAnHl0vYkQIAAAQIECEQBgRihjBEgQIAAAQIEVgQE4sql7UmAAAECBAgQiAICMUIZI0CAAAECBAisCAjElUvbkwABAgQIECAQBQRihDJGgAABAgQIEFgREIgrl7YnAQIECBAgQCAKCMQIZYwAAQIECBAgsCIgEFcubU8CBAgQIECAQBQQiBHKGAECBAgQIEBgRUAgrlzangQIECBAgACBKCAQI5QxAgQIECBAgMCKgEBcubQ9CRAgQIAAAQJRQCBGKGMECBAgQIAAgRUBgbhyaXsSIECAAAECBKKAQIxQxggQIECAAAECKwICceXS9iRAgAABAgQIRAGBGKGMESBAgAABAgRWBATiyqXtSYAAAQIECBCIAgIxQhkjQIAAAQIECKwICMSVS9uTAAECBAgQIBAFBGKEMkaAAAECBAgQWBEQiCuXticBAgQIECBAIAoIxAhljAABAgQIECCwIiAQVy5tTwIECBAgQIBAFBCIEcoYAQIECBAgQGBFQCCuXNqeBAgQIECAAIEoIBAjlDECBAgQIECAwIqAQFy5tD0JECBAgAABAlFAIEYoYwQIECBAgACBFQGBuHJpexIgQIAAAQIEooBAjFDGCBAgQIAAAQIrAgJx5dL2JECAAAECBAhEAYEYoYwRIECAAAECBFYEBOLKpe1JgAABAgQIEIgCAjFCGSNAgAABAgQIrAgIxJVL25MAAQIECBAgEAUEYoQyRoAAAQIECBBYERCIK5e2JwECBAgQIEAgCgjECGWMAAECBAgQILAiIBBXLm1PAgQIECBAgEAUEIgRyhgBAgQIECBAYEVAIK5c2p4ECBAgQIAAgSggECOUMQIECBAgQIDAioBAXLm0PQkQIECAAAECUUAgRihjBAgQIECAAIEVAYG4cml7EiBAgAABAgSigECMUMYIECBAgAABAisCAnHl0vYkQIAAAQIECEQBgRihjBEgQIAAAQIEVgQE4sql7UmAAAECBAgQiAICMUIZI0CAAAECBAisCAjElUvbkwABAgQIECAQBQRihDJGgAABAgQIEFgREIgrl7YnAQIECBAgQCAKCMQIZYwAAQIECBAgsCIgEFcubU8CBAgQIECAQBQQiBHKGAECBAgQIEBgRUAgrlzangQIECBAgACBKCAQI5QxAgQIECBAgMCKgEBcubQ9CRAgQIAAAQJRQCBGKGMECBAgQIAAgRUBgbhyaXsSIECAAAECBKKAQIxQxggQIECAAAECKwICceXS9iRAgAABAgQIRAGBGKGMESBAgAABAgRWBATiyqXtSYAAAQIECBCIAgIxQhkjQIAAAQIECKwICMSVS9uTAAECBAgQIBAFBGKEMkaAAAECBAgQWBEQiCuXticBAgQIECBAIAoIxAhljAABAgQIECCwIiAQVy5tTwIECBAgQIBAFBCIEcoYAQIECBAgQGBFQCCuXNqeBAgQIECAAIEoIBAjlDECBAgQIECAwIqAQFy5tD0JECBAgAABAlFAIEYoYwQIECBAgACBFQGBuHJpexIgQIAAAQIEooBAjFDGCBAgQIAAAQIrAgJx5dL2JECAAAECBAhEAYEYoYwRIECAAAECBFYEBOLKpe1JgAABAgQIEIgCAjFCGSNAgAABAgQIrAgIxJVL25MAAQIECBAgEAUEYoQyRoAAAQIECBBYERCIK5e2JwECBAgQIEAgCgjECGWMAAECBAgQILAiIBBXLm1PAgQIECBAgEAUEIgRyhgBAgQIECBAYEVAIK5c2p4ECBAgQIAAgSggECOUMQIECBAgQIDAioBAXLm0PQkQIECAAAECUUAgRihjBAgQIECAAIEVAYG4cml7EiBAgAABAgSigECMUMYIECBAgAABAisCAnHl0vYkQIAAAQIECEQBgRihjBEgQIAAAQIEVgQE4sql7UmAAAECBAgQiAICMUIZI0CAAAECBAisCAjElUvbkwABAgQIECAQBQRihDJGgAABAgQIEFgREIgrl7YnAQIECBAgQCAKCMQIZYwAAQIECBAgsCIgEFcubU8CBAgQIECAQBQQiBHKGAECBAgQIEBgRUAgrlzangQIECBAgACBKCAQI5QxAgQIECBAgMCKgEBcubQ9CRAgQIAAAQJRQCBGKGMECBAgQIAAgRUBgbhyaXsSIECAAAECBKKAQIxQxggQIECAAAECKwICceXS9iRAgAABAgQIRAGBGKGMESBAgAABAgRWBATiyqXtSYAAAQIECBCIAgIxQhkjQIAAAQIECKwICMSVS9uTAAECBAgQIBAFBGKEMkaAAAECBAgQWBEQiCuXticBAgQIECBAIAq8eeIBsW4C6VoAAAAASUVORK5CYII=\" width=\"432\">"
      ],
      "text/plain": [
       "<IPython.core.display.HTML object>"
      ]
     },
     "metadata": {},
     "output_type": "display_data"
    }
   ],
   "source": [
    "fig = plt.figure()"
   ]
  },
  {
   "cell_type": "markdown",
   "metadata": {
    "slideshow": {
     "slide_type": "slide"
    }
   },
   "source": [
    "### 2.5.1 Subplot\n",
    "* You can create one or more subplots using **add_subplot**"
   ]
  },
  {
   "cell_type": "code",
   "execution_count": 100,
   "metadata": {
    "slideshow": {
     "slide_type": "slide"
    }
   },
   "outputs": [
    {
     "data": {
      "application/javascript": [
       "/* Put everything inside the global mpl namespace */\n",
       "/* global mpl */\n",
       "window.mpl = {};\n",
       "\n",
       "mpl.get_websocket_type = function () {\n",
       "    if (typeof WebSocket !== 'undefined') {\n",
       "        return WebSocket;\n",
       "    } else if (typeof MozWebSocket !== 'undefined') {\n",
       "        return MozWebSocket;\n",
       "    } else {\n",
       "        alert(\n",
       "            'Your browser does not have WebSocket support. ' +\n",
       "                'Please try Chrome, Safari or Firefox ≥ 6. ' +\n",
       "                'Firefox 4 and 5 are also supported but you ' +\n",
       "                'have to enable WebSockets in about:config.'\n",
       "        );\n",
       "    }\n",
       "};\n",
       "\n",
       "mpl.figure = function (figure_id, websocket, ondownload, parent_element) {\n",
       "    this.id = figure_id;\n",
       "\n",
       "    this.ws = websocket;\n",
       "\n",
       "    this.supports_binary = this.ws.binaryType !== undefined;\n",
       "\n",
       "    if (!this.supports_binary) {\n",
       "        var warnings = document.getElementById('mpl-warnings');\n",
       "        if (warnings) {\n",
       "            warnings.style.display = 'block';\n",
       "            warnings.textContent =\n",
       "                'This browser does not support binary websocket messages. ' +\n",
       "                'Performance may be slow.';\n",
       "        }\n",
       "    }\n",
       "\n",
       "    this.imageObj = new Image();\n",
       "\n",
       "    this.context = undefined;\n",
       "    this.message = undefined;\n",
       "    this.canvas = undefined;\n",
       "    this.rubberband_canvas = undefined;\n",
       "    this.rubberband_context = undefined;\n",
       "    this.format_dropdown = undefined;\n",
       "\n",
       "    this.image_mode = 'full';\n",
       "\n",
       "    this.root = document.createElement('div');\n",
       "    this.root.setAttribute('style', 'display: inline-block');\n",
       "    this._root_extra_style(this.root);\n",
       "\n",
       "    parent_element.appendChild(this.root);\n",
       "\n",
       "    this._init_header(this);\n",
       "    this._init_canvas(this);\n",
       "    this._init_toolbar(this);\n",
       "\n",
       "    var fig = this;\n",
       "\n",
       "    this.waiting = false;\n",
       "\n",
       "    this.ws.onopen = function () {\n",
       "        fig.send_message('supports_binary', { value: fig.supports_binary });\n",
       "        fig.send_message('send_image_mode', {});\n",
       "        if (fig.ratio !== 1) {\n",
       "            fig.send_message('set_dpi_ratio', { dpi_ratio: fig.ratio });\n",
       "        }\n",
       "        fig.send_message('refresh', {});\n",
       "    };\n",
       "\n",
       "    this.imageObj.onload = function () {\n",
       "        if (fig.image_mode === 'full') {\n",
       "            // Full images could contain transparency (where diff images\n",
       "            // almost always do), so we need to clear the canvas so that\n",
       "            // there is no ghosting.\n",
       "            fig.context.clearRect(0, 0, fig.canvas.width, fig.canvas.height);\n",
       "        }\n",
       "        fig.context.drawImage(fig.imageObj, 0, 0);\n",
       "    };\n",
       "\n",
       "    this.imageObj.onunload = function () {\n",
       "        fig.ws.close();\n",
       "    };\n",
       "\n",
       "    this.ws.onmessage = this._make_on_message_function(this);\n",
       "\n",
       "    this.ondownload = ondownload;\n",
       "};\n",
       "\n",
       "mpl.figure.prototype._init_header = function () {\n",
       "    var titlebar = document.createElement('div');\n",
       "    titlebar.classList =\n",
       "        'ui-dialog-titlebar ui-widget-header ui-corner-all ui-helper-clearfix';\n",
       "    var titletext = document.createElement('div');\n",
       "    titletext.classList = 'ui-dialog-title';\n",
       "    titletext.setAttribute(\n",
       "        'style',\n",
       "        'width: 100%; text-align: center; padding: 3px;'\n",
       "    );\n",
       "    titlebar.appendChild(titletext);\n",
       "    this.root.appendChild(titlebar);\n",
       "    this.header = titletext;\n",
       "};\n",
       "\n",
       "mpl.figure.prototype._canvas_extra_style = function (_canvas_div) {};\n",
       "\n",
       "mpl.figure.prototype._root_extra_style = function (_canvas_div) {};\n",
       "\n",
       "mpl.figure.prototype._init_canvas = function () {\n",
       "    var fig = this;\n",
       "\n",
       "    var canvas_div = (this.canvas_div = document.createElement('div'));\n",
       "    canvas_div.setAttribute(\n",
       "        'style',\n",
       "        'border: 1px solid #ddd;' +\n",
       "            'box-sizing: content-box;' +\n",
       "            'clear: both;' +\n",
       "            'min-height: 1px;' +\n",
       "            'min-width: 1px;' +\n",
       "            'outline: 0;' +\n",
       "            'overflow: hidden;' +\n",
       "            'position: relative;' +\n",
       "            'resize: both;'\n",
       "    );\n",
       "\n",
       "    function on_keyboard_event_closure(name) {\n",
       "        return function (event) {\n",
       "            return fig.key_event(event, name);\n",
       "        };\n",
       "    }\n",
       "\n",
       "    canvas_div.addEventListener(\n",
       "        'keydown',\n",
       "        on_keyboard_event_closure('key_press')\n",
       "    );\n",
       "    canvas_div.addEventListener(\n",
       "        'keyup',\n",
       "        on_keyboard_event_closure('key_release')\n",
       "    );\n",
       "\n",
       "    this._canvas_extra_style(canvas_div);\n",
       "    this.root.appendChild(canvas_div);\n",
       "\n",
       "    var canvas = (this.canvas = document.createElement('canvas'));\n",
       "    canvas.classList.add('mpl-canvas');\n",
       "    canvas.setAttribute('style', 'box-sizing: content-box;');\n",
       "\n",
       "    this.context = canvas.getContext('2d');\n",
       "\n",
       "    var backingStore =\n",
       "        this.context.backingStorePixelRatio ||\n",
       "        this.context.webkitBackingStorePixelRatio ||\n",
       "        this.context.mozBackingStorePixelRatio ||\n",
       "        this.context.msBackingStorePixelRatio ||\n",
       "        this.context.oBackingStorePixelRatio ||\n",
       "        this.context.backingStorePixelRatio ||\n",
       "        1;\n",
       "\n",
       "    this.ratio = (window.devicePixelRatio || 1) / backingStore;\n",
       "\n",
       "    var rubberband_canvas = (this.rubberband_canvas = document.createElement(\n",
       "        'canvas'\n",
       "    ));\n",
       "    rubberband_canvas.setAttribute(\n",
       "        'style',\n",
       "        'box-sizing: content-box; position: absolute; left: 0; top: 0; z-index: 1;'\n",
       "    );\n",
       "\n",
       "    // Apply a ponyfill if ResizeObserver is not implemented by browser.\n",
       "    if (this.ResizeObserver === undefined) {\n",
       "        if (window.ResizeObserver !== undefined) {\n",
       "            this.ResizeObserver = window.ResizeObserver;\n",
       "        } else {\n",
       "            var obs = _JSXTOOLS_RESIZE_OBSERVER({});\n",
       "            this.ResizeObserver = obs.ResizeObserver;\n",
       "        }\n",
       "    }\n",
       "\n",
       "    this.resizeObserverInstance = new this.ResizeObserver(function (entries) {\n",
       "        var nentries = entries.length;\n",
       "        for (var i = 0; i < nentries; i++) {\n",
       "            var entry = entries[i];\n",
       "            var width, height;\n",
       "            if (entry.contentBoxSize) {\n",
       "                if (entry.contentBoxSize instanceof Array) {\n",
       "                    // Chrome 84 implements new version of spec.\n",
       "                    width = entry.contentBoxSize[0].inlineSize;\n",
       "                    height = entry.contentBoxSize[0].blockSize;\n",
       "                } else {\n",
       "                    // Firefox implements old version of spec.\n",
       "                    width = entry.contentBoxSize.inlineSize;\n",
       "                    height = entry.contentBoxSize.blockSize;\n",
       "                }\n",
       "            } else {\n",
       "                // Chrome <84 implements even older version of spec.\n",
       "                width = entry.contentRect.width;\n",
       "                height = entry.contentRect.height;\n",
       "            }\n",
       "\n",
       "            // Keep the size of the canvas and rubber band canvas in sync with\n",
       "            // the canvas container.\n",
       "            if (entry.devicePixelContentBoxSize) {\n",
       "                // Chrome 84 implements new version of spec.\n",
       "                canvas.setAttribute(\n",
       "                    'width',\n",
       "                    entry.devicePixelContentBoxSize[0].inlineSize\n",
       "                );\n",
       "                canvas.setAttribute(\n",
       "                    'height',\n",
       "                    entry.devicePixelContentBoxSize[0].blockSize\n",
       "                );\n",
       "            } else {\n",
       "                canvas.setAttribute('width', width * fig.ratio);\n",
       "                canvas.setAttribute('height', height * fig.ratio);\n",
       "            }\n",
       "            canvas.setAttribute(\n",
       "                'style',\n",
       "                'width: ' + width + 'px; height: ' + height + 'px;'\n",
       "            );\n",
       "\n",
       "            rubberband_canvas.setAttribute('width', width);\n",
       "            rubberband_canvas.setAttribute('height', height);\n",
       "\n",
       "            // And update the size in Python. We ignore the initial 0/0 size\n",
       "            // that occurs as the element is placed into the DOM, which should\n",
       "            // otherwise not happen due to the minimum size styling.\n",
       "            if (fig.ws.readyState == 1 && width != 0 && height != 0) {\n",
       "                fig.request_resize(width, height);\n",
       "            }\n",
       "        }\n",
       "    });\n",
       "    this.resizeObserverInstance.observe(canvas_div);\n",
       "\n",
       "    function on_mouse_event_closure(name) {\n",
       "        return function (event) {\n",
       "            return fig.mouse_event(event, name);\n",
       "        };\n",
       "    }\n",
       "\n",
       "    rubberband_canvas.addEventListener(\n",
       "        'mousedown',\n",
       "        on_mouse_event_closure('button_press')\n",
       "    );\n",
       "    rubberband_canvas.addEventListener(\n",
       "        'mouseup',\n",
       "        on_mouse_event_closure('button_release')\n",
       "    );\n",
       "    rubberband_canvas.addEventListener(\n",
       "        'dblclick',\n",
       "        on_mouse_event_closure('dblclick')\n",
       "    );\n",
       "    // Throttle sequential mouse events to 1 every 20ms.\n",
       "    rubberband_canvas.addEventListener(\n",
       "        'mousemove',\n",
       "        on_mouse_event_closure('motion_notify')\n",
       "    );\n",
       "\n",
       "    rubberband_canvas.addEventListener(\n",
       "        'mouseenter',\n",
       "        on_mouse_event_closure('figure_enter')\n",
       "    );\n",
       "    rubberband_canvas.addEventListener(\n",
       "        'mouseleave',\n",
       "        on_mouse_event_closure('figure_leave')\n",
       "    );\n",
       "\n",
       "    canvas_div.addEventListener('wheel', function (event) {\n",
       "        if (event.deltaY < 0) {\n",
       "            event.step = 1;\n",
       "        } else {\n",
       "            event.step = -1;\n",
       "        }\n",
       "        on_mouse_event_closure('scroll')(event);\n",
       "    });\n",
       "\n",
       "    canvas_div.appendChild(canvas);\n",
       "    canvas_div.appendChild(rubberband_canvas);\n",
       "\n",
       "    this.rubberband_context = rubberband_canvas.getContext('2d');\n",
       "    this.rubberband_context.strokeStyle = '#000000';\n",
       "\n",
       "    this._resize_canvas = function (width, height, forward) {\n",
       "        if (forward) {\n",
       "            canvas_div.style.width = width + 'px';\n",
       "            canvas_div.style.height = height + 'px';\n",
       "        }\n",
       "    };\n",
       "\n",
       "    // Disable right mouse context menu.\n",
       "    this.rubberband_canvas.addEventListener('contextmenu', function (_e) {\n",
       "        event.preventDefault();\n",
       "        return false;\n",
       "    });\n",
       "\n",
       "    function set_focus() {\n",
       "        canvas.focus();\n",
       "        canvas_div.focus();\n",
       "    }\n",
       "\n",
       "    window.setTimeout(set_focus, 100);\n",
       "};\n",
       "\n",
       "mpl.figure.prototype._init_toolbar = function () {\n",
       "    var fig = this;\n",
       "\n",
       "    var toolbar = document.createElement('div');\n",
       "    toolbar.classList = 'mpl-toolbar';\n",
       "    this.root.appendChild(toolbar);\n",
       "\n",
       "    function on_click_closure(name) {\n",
       "        return function (_event) {\n",
       "            return fig.toolbar_button_onclick(name);\n",
       "        };\n",
       "    }\n",
       "\n",
       "    function on_mouseover_closure(tooltip) {\n",
       "        return function (event) {\n",
       "            if (!event.currentTarget.disabled) {\n",
       "                return fig.toolbar_button_onmouseover(tooltip);\n",
       "            }\n",
       "        };\n",
       "    }\n",
       "\n",
       "    fig.buttons = {};\n",
       "    var buttonGroup = document.createElement('div');\n",
       "    buttonGroup.classList = 'mpl-button-group';\n",
       "    for (var toolbar_ind in mpl.toolbar_items) {\n",
       "        var name = mpl.toolbar_items[toolbar_ind][0];\n",
       "        var tooltip = mpl.toolbar_items[toolbar_ind][1];\n",
       "        var image = mpl.toolbar_items[toolbar_ind][2];\n",
       "        var method_name = mpl.toolbar_items[toolbar_ind][3];\n",
       "\n",
       "        if (!name) {\n",
       "            /* Instead of a spacer, we start a new button group. */\n",
       "            if (buttonGroup.hasChildNodes()) {\n",
       "                toolbar.appendChild(buttonGroup);\n",
       "            }\n",
       "            buttonGroup = document.createElement('div');\n",
       "            buttonGroup.classList = 'mpl-button-group';\n",
       "            continue;\n",
       "        }\n",
       "\n",
       "        var button = (fig.buttons[name] = document.createElement('button'));\n",
       "        button.classList = 'mpl-widget';\n",
       "        button.setAttribute('role', 'button');\n",
       "        button.setAttribute('aria-disabled', 'false');\n",
       "        button.addEventListener('click', on_click_closure(method_name));\n",
       "        button.addEventListener('mouseover', on_mouseover_closure(tooltip));\n",
       "\n",
       "        var icon_img = document.createElement('img');\n",
       "        icon_img.src = '_images/' + image + '.png';\n",
       "        icon_img.srcset = '_images/' + image + '_large.png 2x';\n",
       "        icon_img.alt = tooltip;\n",
       "        button.appendChild(icon_img);\n",
       "\n",
       "        buttonGroup.appendChild(button);\n",
       "    }\n",
       "\n",
       "    if (buttonGroup.hasChildNodes()) {\n",
       "        toolbar.appendChild(buttonGroup);\n",
       "    }\n",
       "\n",
       "    var fmt_picker = document.createElement('select');\n",
       "    fmt_picker.classList = 'mpl-widget';\n",
       "    toolbar.appendChild(fmt_picker);\n",
       "    this.format_dropdown = fmt_picker;\n",
       "\n",
       "    for (var ind in mpl.extensions) {\n",
       "        var fmt = mpl.extensions[ind];\n",
       "        var option = document.createElement('option');\n",
       "        option.selected = fmt === mpl.default_extension;\n",
       "        option.innerHTML = fmt;\n",
       "        fmt_picker.appendChild(option);\n",
       "    }\n",
       "\n",
       "    var status_bar = document.createElement('span');\n",
       "    status_bar.classList = 'mpl-message';\n",
       "    toolbar.appendChild(status_bar);\n",
       "    this.message = status_bar;\n",
       "};\n",
       "\n",
       "mpl.figure.prototype.request_resize = function (x_pixels, y_pixels) {\n",
       "    // Request matplotlib to resize the figure. Matplotlib will then trigger a resize in the client,\n",
       "    // which will in turn request a refresh of the image.\n",
       "    this.send_message('resize', { width: x_pixels, height: y_pixels });\n",
       "};\n",
       "\n",
       "mpl.figure.prototype.send_message = function (type, properties) {\n",
       "    properties['type'] = type;\n",
       "    properties['figure_id'] = this.id;\n",
       "    this.ws.send(JSON.stringify(properties));\n",
       "};\n",
       "\n",
       "mpl.figure.prototype.send_draw_message = function () {\n",
       "    if (!this.waiting) {\n",
       "        this.waiting = true;\n",
       "        this.ws.send(JSON.stringify({ type: 'draw', figure_id: this.id }));\n",
       "    }\n",
       "};\n",
       "\n",
       "mpl.figure.prototype.handle_save = function (fig, _msg) {\n",
       "    var format_dropdown = fig.format_dropdown;\n",
       "    var format = format_dropdown.options[format_dropdown.selectedIndex].value;\n",
       "    fig.ondownload(fig, format);\n",
       "};\n",
       "\n",
       "mpl.figure.prototype.handle_resize = function (fig, msg) {\n",
       "    var size = msg['size'];\n",
       "    if (size[0] !== fig.canvas.width || size[1] !== fig.canvas.height) {\n",
       "        fig._resize_canvas(size[0], size[1], msg['forward']);\n",
       "        fig.send_message('refresh', {});\n",
       "    }\n",
       "};\n",
       "\n",
       "mpl.figure.prototype.handle_rubberband = function (fig, msg) {\n",
       "    var x0 = msg['x0'] / fig.ratio;\n",
       "    var y0 = (fig.canvas.height - msg['y0']) / fig.ratio;\n",
       "    var x1 = msg['x1'] / fig.ratio;\n",
       "    var y1 = (fig.canvas.height - msg['y1']) / fig.ratio;\n",
       "    x0 = Math.floor(x0) + 0.5;\n",
       "    y0 = Math.floor(y0) + 0.5;\n",
       "    x1 = Math.floor(x1) + 0.5;\n",
       "    y1 = Math.floor(y1) + 0.5;\n",
       "    var min_x = Math.min(x0, x1);\n",
       "    var min_y = Math.min(y0, y1);\n",
       "    var width = Math.abs(x1 - x0);\n",
       "    var height = Math.abs(y1 - y0);\n",
       "\n",
       "    fig.rubberband_context.clearRect(\n",
       "        0,\n",
       "        0,\n",
       "        fig.canvas.width / fig.ratio,\n",
       "        fig.canvas.height / fig.ratio\n",
       "    );\n",
       "\n",
       "    fig.rubberband_context.strokeRect(min_x, min_y, width, height);\n",
       "};\n",
       "\n",
       "mpl.figure.prototype.handle_figure_label = function (fig, msg) {\n",
       "    // Updates the figure title.\n",
       "    fig.header.textContent = msg['label'];\n",
       "};\n",
       "\n",
       "mpl.figure.prototype.handle_cursor = function (fig, msg) {\n",
       "    var cursor = msg['cursor'];\n",
       "    switch (cursor) {\n",
       "        case 0:\n",
       "            cursor = 'pointer';\n",
       "            break;\n",
       "        case 1:\n",
       "            cursor = 'default';\n",
       "            break;\n",
       "        case 2:\n",
       "            cursor = 'crosshair';\n",
       "            break;\n",
       "        case 3:\n",
       "            cursor = 'move';\n",
       "            break;\n",
       "    }\n",
       "    fig.rubberband_canvas.style.cursor = cursor;\n",
       "};\n",
       "\n",
       "mpl.figure.prototype.handle_message = function (fig, msg) {\n",
       "    fig.message.textContent = msg['message'];\n",
       "};\n",
       "\n",
       "mpl.figure.prototype.handle_draw = function (fig, _msg) {\n",
       "    // Request the server to send over a new figure.\n",
       "    fig.send_draw_message();\n",
       "};\n",
       "\n",
       "mpl.figure.prototype.handle_image_mode = function (fig, msg) {\n",
       "    fig.image_mode = msg['mode'];\n",
       "};\n",
       "\n",
       "mpl.figure.prototype.handle_history_buttons = function (fig, msg) {\n",
       "    for (var key in msg) {\n",
       "        if (!(key in fig.buttons)) {\n",
       "            continue;\n",
       "        }\n",
       "        fig.buttons[key].disabled = !msg[key];\n",
       "        fig.buttons[key].setAttribute('aria-disabled', !msg[key]);\n",
       "    }\n",
       "};\n",
       "\n",
       "mpl.figure.prototype.handle_navigate_mode = function (fig, msg) {\n",
       "    if (msg['mode'] === 'PAN') {\n",
       "        fig.buttons['Pan'].classList.add('active');\n",
       "        fig.buttons['Zoom'].classList.remove('active');\n",
       "    } else if (msg['mode'] === 'ZOOM') {\n",
       "        fig.buttons['Pan'].classList.remove('active');\n",
       "        fig.buttons['Zoom'].classList.add('active');\n",
       "    } else {\n",
       "        fig.buttons['Pan'].classList.remove('active');\n",
       "        fig.buttons['Zoom'].classList.remove('active');\n",
       "    }\n",
       "};\n",
       "\n",
       "mpl.figure.prototype.updated_canvas_event = function () {\n",
       "    // Called whenever the canvas gets updated.\n",
       "    this.send_message('ack', {});\n",
       "};\n",
       "\n",
       "// A function to construct a web socket function for onmessage handling.\n",
       "// Called in the figure constructor.\n",
       "mpl.figure.prototype._make_on_message_function = function (fig) {\n",
       "    return function socket_on_message(evt) {\n",
       "        if (evt.data instanceof Blob) {\n",
       "            var img = evt.data;\n",
       "            if (img.type !== 'image/png') {\n",
       "                /* FIXME: We get \"Resource interpreted as Image but\n",
       "                 * transferred with MIME type text/plain:\" errors on\n",
       "                 * Chrome.  But how to set the MIME type?  It doesn't seem\n",
       "                 * to be part of the websocket stream */\n",
       "                img.type = 'image/png';\n",
       "            }\n",
       "\n",
       "            /* Free the memory for the previous frames */\n",
       "            if (fig.imageObj.src) {\n",
       "                (window.URL || window.webkitURL).revokeObjectURL(\n",
       "                    fig.imageObj.src\n",
       "                );\n",
       "            }\n",
       "\n",
       "            fig.imageObj.src = (window.URL || window.webkitURL).createObjectURL(\n",
       "                img\n",
       "            );\n",
       "            fig.updated_canvas_event();\n",
       "            fig.waiting = false;\n",
       "            return;\n",
       "        } else if (\n",
       "            typeof evt.data === 'string' &&\n",
       "            evt.data.slice(0, 21) === 'data:image/png;base64'\n",
       "        ) {\n",
       "            fig.imageObj.src = evt.data;\n",
       "            fig.updated_canvas_event();\n",
       "            fig.waiting = false;\n",
       "            return;\n",
       "        }\n",
       "\n",
       "        var msg = JSON.parse(evt.data);\n",
       "        var msg_type = msg['type'];\n",
       "\n",
       "        // Call the  \"handle_{type}\" callback, which takes\n",
       "        // the figure and JSON message as its only arguments.\n",
       "        try {\n",
       "            var callback = fig['handle_' + msg_type];\n",
       "        } catch (e) {\n",
       "            console.log(\n",
       "                \"No handler for the '\" + msg_type + \"' message type: \",\n",
       "                msg\n",
       "            );\n",
       "            return;\n",
       "        }\n",
       "\n",
       "        if (callback) {\n",
       "            try {\n",
       "                // console.log(\"Handling '\" + msg_type + \"' message: \", msg);\n",
       "                callback(fig, msg);\n",
       "            } catch (e) {\n",
       "                console.log(\n",
       "                    \"Exception inside the 'handler_\" + msg_type + \"' callback:\",\n",
       "                    e,\n",
       "                    e.stack,\n",
       "                    msg\n",
       "                );\n",
       "            }\n",
       "        }\n",
       "    };\n",
       "};\n",
       "\n",
       "// from http://stackoverflow.com/questions/1114465/getting-mouse-location-in-canvas\n",
       "mpl.findpos = function (e) {\n",
       "    //this section is from http://www.quirksmode.org/js/events_properties.html\n",
       "    var targ;\n",
       "    if (!e) {\n",
       "        e = window.event;\n",
       "    }\n",
       "    if (e.target) {\n",
       "        targ = e.target;\n",
       "    } else if (e.srcElement) {\n",
       "        targ = e.srcElement;\n",
       "    }\n",
       "    if (targ.nodeType === 3) {\n",
       "        // defeat Safari bug\n",
       "        targ = targ.parentNode;\n",
       "    }\n",
       "\n",
       "    // pageX,Y are the mouse positions relative to the document\n",
       "    var boundingRect = targ.getBoundingClientRect();\n",
       "    var x = e.pageX - (boundingRect.left + document.body.scrollLeft);\n",
       "    var y = e.pageY - (boundingRect.top + document.body.scrollTop);\n",
       "\n",
       "    return { x: x, y: y };\n",
       "};\n",
       "\n",
       "/*\n",
       " * return a copy of an object with only non-object keys\n",
       " * we need this to avoid circular references\n",
       " * http://stackoverflow.com/a/24161582/3208463\n",
       " */\n",
       "function simpleKeys(original) {\n",
       "    return Object.keys(original).reduce(function (obj, key) {\n",
       "        if (typeof original[key] !== 'object') {\n",
       "            obj[key] = original[key];\n",
       "        }\n",
       "        return obj;\n",
       "    }, {});\n",
       "}\n",
       "\n",
       "mpl.figure.prototype.mouse_event = function (event, name) {\n",
       "    var canvas_pos = mpl.findpos(event);\n",
       "\n",
       "    if (name === 'button_press') {\n",
       "        this.canvas.focus();\n",
       "        this.canvas_div.focus();\n",
       "    }\n",
       "\n",
       "    var x = canvas_pos.x * this.ratio;\n",
       "    var y = canvas_pos.y * this.ratio;\n",
       "\n",
       "    this.send_message(name, {\n",
       "        x: x,\n",
       "        y: y,\n",
       "        button: event.button,\n",
       "        step: event.step,\n",
       "        guiEvent: simpleKeys(event),\n",
       "    });\n",
       "\n",
       "    /* This prevents the web browser from automatically changing to\n",
       "     * the text insertion cursor when the button is pressed.  We want\n",
       "     * to control all of the cursor setting manually through the\n",
       "     * 'cursor' event from matplotlib */\n",
       "    event.preventDefault();\n",
       "    return false;\n",
       "};\n",
       "\n",
       "mpl.figure.prototype._key_event_extra = function (_event, _name) {\n",
       "    // Handle any extra behaviour associated with a key event\n",
       "};\n",
       "\n",
       "mpl.figure.prototype.key_event = function (event, name) {\n",
       "    // Prevent repeat events\n",
       "    if (name === 'key_press') {\n",
       "        if (event.key === this._key) {\n",
       "            return;\n",
       "        } else {\n",
       "            this._key = event.key;\n",
       "        }\n",
       "    }\n",
       "    if (name === 'key_release') {\n",
       "        this._key = null;\n",
       "    }\n",
       "\n",
       "    var value = '';\n",
       "    if (event.ctrlKey && event.key !== 'Control') {\n",
       "        value += 'ctrl+';\n",
       "    }\n",
       "    else if (event.altKey && event.key !== 'Alt') {\n",
       "        value += 'alt+';\n",
       "    }\n",
       "    else if (event.shiftKey && event.key !== 'Shift') {\n",
       "        value += 'shift+';\n",
       "    }\n",
       "\n",
       "    value += 'k' + event.key;\n",
       "\n",
       "    this._key_event_extra(event, name);\n",
       "\n",
       "    this.send_message(name, { key: value, guiEvent: simpleKeys(event) });\n",
       "    return false;\n",
       "};\n",
       "\n",
       "mpl.figure.prototype.toolbar_button_onclick = function (name) {\n",
       "    if (name === 'download') {\n",
       "        this.handle_save(this, null);\n",
       "    } else {\n",
       "        this.send_message('toolbar_button', { name: name });\n",
       "    }\n",
       "};\n",
       "\n",
       "mpl.figure.prototype.toolbar_button_onmouseover = function (tooltip) {\n",
       "    this.message.textContent = tooltip;\n",
       "};\n",
       "\n",
       "///////////////// REMAINING CONTENT GENERATED BY embed_js.py /////////////////\n",
       "// prettier-ignore\n",
       "var _JSXTOOLS_RESIZE_OBSERVER=function(A){var t,i=new WeakMap,n=new WeakMap,a=new WeakMap,r=new WeakMap,o=new Set;function s(e){if(!(this instanceof s))throw new TypeError(\"Constructor requires 'new' operator\");i.set(this,e)}function h(){throw new TypeError(\"Function is not a constructor\")}function c(e,t,i,n){e=0 in arguments?Number(arguments[0]):0,t=1 in arguments?Number(arguments[1]):0,i=2 in arguments?Number(arguments[2]):0,n=3 in arguments?Number(arguments[3]):0,this.right=(this.x=this.left=e)+(this.width=i),this.bottom=(this.y=this.top=t)+(this.height=n),Object.freeze(this)}function d(){t=requestAnimationFrame(d);var s=new WeakMap,p=new Set;o.forEach((function(t){r.get(t).forEach((function(i){var r=t instanceof window.SVGElement,o=a.get(t),d=r?0:parseFloat(o.paddingTop),f=r?0:parseFloat(o.paddingRight),l=r?0:parseFloat(o.paddingBottom),u=r?0:parseFloat(o.paddingLeft),g=r?0:parseFloat(o.borderTopWidth),m=r?0:parseFloat(o.borderRightWidth),w=r?0:parseFloat(o.borderBottomWidth),b=u+f,F=d+l,v=(r?0:parseFloat(o.borderLeftWidth))+m,W=g+w,y=r?0:t.offsetHeight-W-t.clientHeight,E=r?0:t.offsetWidth-v-t.clientWidth,R=b+v,z=F+W,M=r?t.width:parseFloat(o.width)-R-E,O=r?t.height:parseFloat(o.height)-z-y;if(n.has(t)){var k=n.get(t);if(k[0]===M&&k[1]===O)return}n.set(t,[M,O]);var S=Object.create(h.prototype);S.target=t,S.contentRect=new c(u,d,M,O),s.has(i)||(s.set(i,[]),p.add(i)),s.get(i).push(S)}))})),p.forEach((function(e){i.get(e).call(e,s.get(e),e)}))}return s.prototype.observe=function(i){if(i instanceof window.Element){r.has(i)||(r.set(i,new Set),o.add(i),a.set(i,window.getComputedStyle(i)));var n=r.get(i);n.has(this)||n.add(this),cancelAnimationFrame(t),t=requestAnimationFrame(d)}},s.prototype.unobserve=function(i){if(i instanceof window.Element&&r.has(i)){var n=r.get(i);n.has(this)&&(n.delete(this),n.size||(r.delete(i),o.delete(i))),n.size||r.delete(i),o.size||cancelAnimationFrame(t)}},A.DOMRectReadOnly=c,A.ResizeObserver=s,A.ResizeObserverEntry=h,A}; // eslint-disable-line\n",
       "mpl.toolbar_items = [[\"Home\", \"Reset original view\", \"fa fa-home icon-home\", \"home\"], [\"Back\", \"Back to previous view\", \"fa fa-arrow-left icon-arrow-left\", \"back\"], [\"Forward\", \"Forward to next view\", \"fa fa-arrow-right icon-arrow-right\", \"forward\"], [\"\", \"\", \"\", \"\"], [\"Pan\", \"Left button pans, Right button zooms\\nx/y fixes axis, CTRL fixes aspect\", \"fa fa-arrows icon-move\", \"pan\"], [\"Zoom\", \"Zoom to rectangle\\nx/y fixes axis, CTRL fixes aspect\", \"fa fa-square-o icon-check-empty\", \"zoom\"], [\"\", \"\", \"\", \"\"], [\"Download\", \"Download plot\", \"fa fa-floppy-o icon-save\", \"download\"]];\n",
       "\n",
       "mpl.extensions = [\"eps\", \"jpeg\", \"pgf\", \"pdf\", \"png\", \"ps\", \"raw\", \"svg\", \"tif\"];\n",
       "\n",
       "mpl.default_extension = \"png\";/* global mpl */\n",
       "\n",
       "var comm_websocket_adapter = function (comm) {\n",
       "    // Create a \"websocket\"-like object which calls the given IPython comm\n",
       "    // object with the appropriate methods. Currently this is a non binary\n",
       "    // socket, so there is still some room for performance tuning.\n",
       "    var ws = {};\n",
       "\n",
       "    ws.binaryType = comm.kernel.ws.binaryType;\n",
       "    ws.readyState = comm.kernel.ws.readyState;\n",
       "    function updateReadyState(_event) {\n",
       "        if (comm.kernel.ws) {\n",
       "            ws.readyState = comm.kernel.ws.readyState;\n",
       "        } else {\n",
       "            ws.readyState = 3; // Closed state.\n",
       "        }\n",
       "    }\n",
       "    comm.kernel.ws.addEventListener('open', updateReadyState);\n",
       "    comm.kernel.ws.addEventListener('close', updateReadyState);\n",
       "    comm.kernel.ws.addEventListener('error', updateReadyState);\n",
       "\n",
       "    ws.close = function () {\n",
       "        comm.close();\n",
       "    };\n",
       "    ws.send = function (m) {\n",
       "        //console.log('sending', m);\n",
       "        comm.send(m);\n",
       "    };\n",
       "    // Register the callback with on_msg.\n",
       "    comm.on_msg(function (msg) {\n",
       "        //console.log('receiving', msg['content']['data'], msg);\n",
       "        var data = msg['content']['data'];\n",
       "        if (data['blob'] !== undefined) {\n",
       "            data = {\n",
       "                data: new Blob(msg['buffers'], { type: data['blob'] }),\n",
       "            };\n",
       "        }\n",
       "        // Pass the mpl event to the overridden (by mpl) onmessage function.\n",
       "        ws.onmessage(data);\n",
       "    });\n",
       "    return ws;\n",
       "};\n",
       "\n",
       "mpl.mpl_figure_comm = function (comm, msg) {\n",
       "    // This is the function which gets called when the mpl process\n",
       "    // starts-up an IPython Comm through the \"matplotlib\" channel.\n",
       "\n",
       "    var id = msg.content.data.id;\n",
       "    // Get hold of the div created by the display call when the Comm\n",
       "    // socket was opened in Python.\n",
       "    var element = document.getElementById(id);\n",
       "    var ws_proxy = comm_websocket_adapter(comm);\n",
       "\n",
       "    function ondownload(figure, _format) {\n",
       "        window.open(figure.canvas.toDataURL());\n",
       "    }\n",
       "\n",
       "    var fig = new mpl.figure(id, ws_proxy, ondownload, element);\n",
       "\n",
       "    // Call onopen now - mpl needs it, as it is assuming we've passed it a real\n",
       "    // web socket which is closed, not our websocket->open comm proxy.\n",
       "    ws_proxy.onopen();\n",
       "\n",
       "    fig.parent_element = element;\n",
       "    fig.cell_info = mpl.find_output_cell(\"<div id='\" + id + \"'></div>\");\n",
       "    if (!fig.cell_info) {\n",
       "        console.error('Failed to find cell for figure', id, fig);\n",
       "        return;\n",
       "    }\n",
       "    fig.cell_info[0].output_area.element.on(\n",
       "        'cleared',\n",
       "        { fig: fig },\n",
       "        fig._remove_fig_handler\n",
       "    );\n",
       "};\n",
       "\n",
       "mpl.figure.prototype.handle_close = function (fig, msg) {\n",
       "    var width = fig.canvas.width / fig.ratio;\n",
       "    fig.cell_info[0].output_area.element.off(\n",
       "        'cleared',\n",
       "        fig._remove_fig_handler\n",
       "    );\n",
       "    fig.resizeObserverInstance.unobserve(fig.canvas_div);\n",
       "\n",
       "    // Update the output cell to use the data from the current canvas.\n",
       "    fig.push_to_output();\n",
       "    var dataURL = fig.canvas.toDataURL();\n",
       "    // Re-enable the keyboard manager in IPython - without this line, in FF,\n",
       "    // the notebook keyboard shortcuts fail.\n",
       "    IPython.keyboard_manager.enable();\n",
       "    fig.parent_element.innerHTML =\n",
       "        '<img src=\"' + dataURL + '\" width=\"' + width + '\">';\n",
       "    fig.close_ws(fig, msg);\n",
       "};\n",
       "\n",
       "mpl.figure.prototype.close_ws = function (fig, msg) {\n",
       "    fig.send_message('closing', msg);\n",
       "    // fig.ws.close()\n",
       "};\n",
       "\n",
       "mpl.figure.prototype.push_to_output = function (_remove_interactive) {\n",
       "    // Turn the data on the canvas into data in the output cell.\n",
       "    var width = this.canvas.width / this.ratio;\n",
       "    var dataURL = this.canvas.toDataURL();\n",
       "    this.cell_info[1]['text/html'] =\n",
       "        '<img src=\"' + dataURL + '\" width=\"' + width + '\">';\n",
       "};\n",
       "\n",
       "mpl.figure.prototype.updated_canvas_event = function () {\n",
       "    // Tell IPython that the notebook contents must change.\n",
       "    IPython.notebook.set_dirty(true);\n",
       "    this.send_message('ack', {});\n",
       "    var fig = this;\n",
       "    // Wait a second, then push the new image to the DOM so\n",
       "    // that it is saved nicely (might be nice to debounce this).\n",
       "    setTimeout(function () {\n",
       "        fig.push_to_output();\n",
       "    }, 1000);\n",
       "};\n",
       "\n",
       "mpl.figure.prototype._init_toolbar = function () {\n",
       "    var fig = this;\n",
       "\n",
       "    var toolbar = document.createElement('div');\n",
       "    toolbar.classList = 'btn-toolbar';\n",
       "    this.root.appendChild(toolbar);\n",
       "\n",
       "    function on_click_closure(name) {\n",
       "        return function (_event) {\n",
       "            return fig.toolbar_button_onclick(name);\n",
       "        };\n",
       "    }\n",
       "\n",
       "    function on_mouseover_closure(tooltip) {\n",
       "        return function (event) {\n",
       "            if (!event.currentTarget.disabled) {\n",
       "                return fig.toolbar_button_onmouseover(tooltip);\n",
       "            }\n",
       "        };\n",
       "    }\n",
       "\n",
       "    fig.buttons = {};\n",
       "    var buttonGroup = document.createElement('div');\n",
       "    buttonGroup.classList = 'btn-group';\n",
       "    var button;\n",
       "    for (var toolbar_ind in mpl.toolbar_items) {\n",
       "        var name = mpl.toolbar_items[toolbar_ind][0];\n",
       "        var tooltip = mpl.toolbar_items[toolbar_ind][1];\n",
       "        var image = mpl.toolbar_items[toolbar_ind][2];\n",
       "        var method_name = mpl.toolbar_items[toolbar_ind][3];\n",
       "\n",
       "        if (!name) {\n",
       "            /* Instead of a spacer, we start a new button group. */\n",
       "            if (buttonGroup.hasChildNodes()) {\n",
       "                toolbar.appendChild(buttonGroup);\n",
       "            }\n",
       "            buttonGroup = document.createElement('div');\n",
       "            buttonGroup.classList = 'btn-group';\n",
       "            continue;\n",
       "        }\n",
       "\n",
       "        button = fig.buttons[name] = document.createElement('button');\n",
       "        button.classList = 'btn btn-default';\n",
       "        button.href = '#';\n",
       "        button.title = name;\n",
       "        button.innerHTML = '<i class=\"fa ' + image + ' fa-lg\"></i>';\n",
       "        button.addEventListener('click', on_click_closure(method_name));\n",
       "        button.addEventListener('mouseover', on_mouseover_closure(tooltip));\n",
       "        buttonGroup.appendChild(button);\n",
       "    }\n",
       "\n",
       "    if (buttonGroup.hasChildNodes()) {\n",
       "        toolbar.appendChild(buttonGroup);\n",
       "    }\n",
       "\n",
       "    // Add the status bar.\n",
       "    var status_bar = document.createElement('span');\n",
       "    status_bar.classList = 'mpl-message pull-right';\n",
       "    toolbar.appendChild(status_bar);\n",
       "    this.message = status_bar;\n",
       "\n",
       "    // Add the close button to the window.\n",
       "    var buttongrp = document.createElement('div');\n",
       "    buttongrp.classList = 'btn-group inline pull-right';\n",
       "    button = document.createElement('button');\n",
       "    button.classList = 'btn btn-mini btn-primary';\n",
       "    button.href = '#';\n",
       "    button.title = 'Stop Interaction';\n",
       "    button.innerHTML = '<i class=\"fa fa-power-off icon-remove icon-large\"></i>';\n",
       "    button.addEventListener('click', function (_evt) {\n",
       "        fig.handle_close(fig, {});\n",
       "    });\n",
       "    button.addEventListener(\n",
       "        'mouseover',\n",
       "        on_mouseover_closure('Stop Interaction')\n",
       "    );\n",
       "    buttongrp.appendChild(button);\n",
       "    var titlebar = this.root.querySelector('.ui-dialog-titlebar');\n",
       "    titlebar.insertBefore(buttongrp, titlebar.firstChild);\n",
       "};\n",
       "\n",
       "mpl.figure.prototype._remove_fig_handler = function (event) {\n",
       "    var fig = event.data.fig;\n",
       "    if (event.target !== this) {\n",
       "        // Ignore bubbled events from children.\n",
       "        return;\n",
       "    }\n",
       "    fig.close_ws(fig, {});\n",
       "};\n",
       "\n",
       "mpl.figure.prototype._root_extra_style = function (el) {\n",
       "    el.style.boxSizing = 'content-box'; // override notebook setting of border-box.\n",
       "};\n",
       "\n",
       "mpl.figure.prototype._canvas_extra_style = function (el) {\n",
       "    // this is important to make the div 'focusable\n",
       "    el.setAttribute('tabindex', 0);\n",
       "    // reach out to IPython and tell the keyboard manager to turn it's self\n",
       "    // off when our div gets focus\n",
       "\n",
       "    // location in version 3\n",
       "    if (IPython.notebook.keyboard_manager) {\n",
       "        IPython.notebook.keyboard_manager.register_events(el);\n",
       "    } else {\n",
       "        // location in version 2\n",
       "        IPython.keyboard_manager.register_events(el);\n",
       "    }\n",
       "};\n",
       "\n",
       "mpl.figure.prototype._key_event_extra = function (event, _name) {\n",
       "    var manager = IPython.notebook.keyboard_manager;\n",
       "    if (!manager) {\n",
       "        manager = IPython.keyboard_manager;\n",
       "    }\n",
       "\n",
       "    // Check for shift+enter\n",
       "    if (event.shiftKey && event.which === 13) {\n",
       "        this.canvas_div.blur();\n",
       "        // select the cell after this one\n",
       "        var index = IPython.notebook.find_cell_index(this.cell_info[0]);\n",
       "        IPython.notebook.select(index + 1);\n",
       "    }\n",
       "};\n",
       "\n",
       "mpl.figure.prototype.handle_save = function (fig, _msg) {\n",
       "    fig.ondownload(fig, null);\n",
       "};\n",
       "\n",
       "mpl.find_output_cell = function (html_output) {\n",
       "    // Return the cell and output element which can be found *uniquely* in the notebook.\n",
       "    // Note - this is a bit hacky, but it is done because the \"notebook_saving.Notebook\"\n",
       "    // IPython event is triggered only after the cells have been serialised, which for\n",
       "    // our purposes (turning an active figure into a static one), is too late.\n",
       "    var cells = IPython.notebook.get_cells();\n",
       "    var ncells = cells.length;\n",
       "    for (var i = 0; i < ncells; i++) {\n",
       "        var cell = cells[i];\n",
       "        if (cell.cell_type === 'code') {\n",
       "            for (var j = 0; j < cell.output_area.outputs.length; j++) {\n",
       "                var data = cell.output_area.outputs[j];\n",
       "                if (data.data) {\n",
       "                    // IPython >= 3 moved mimebundle to data attribute of output\n",
       "                    data = data.data;\n",
       "                }\n",
       "                if (data['text/html'] === html_output) {\n",
       "                    return [cell, data, j];\n",
       "                }\n",
       "            }\n",
       "        }\n",
       "    }\n",
       "};\n",
       "\n",
       "// Register the function which deals with the matplotlib target/channel.\n",
       "// The kernel may be null if the page has been refreshed.\n",
       "if (IPython.notebook.kernel !== null) {\n",
       "    IPython.notebook.kernel.comm_manager.register_target(\n",
       "        'matplotlib',\n",
       "        mpl.mpl_figure_comm\n",
       "    );\n",
       "}\n"
      ],
      "text/plain": [
       "<IPython.core.display.Javascript object>"
      ]
     },
     "metadata": {},
     "output_type": "display_data"
    },
    {
     "data": {
      "text/html": [
       "<img src=\"data:image/png;base64,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\" width=\"432\">"
      ],
      "text/plain": [
       "<IPython.core.display.HTML object>"
      ]
     },
     "metadata": {},
     "output_type": "display_data"
    }
   ],
   "source": [
    "%matplotlib notebook\n",
    "fig = plt.figure()\n",
    "ax1 = fig.add_subplot(2, 2, 1)\n",
    "ax2 = fig.add_subplot(2, 2, 2)\n",
    "ax3 = fig.add_subplot(2, 2, 3)"
   ]
  },
  {
   "cell_type": "code",
   "execution_count": 101,
   "metadata": {
    "slideshow": {
     "slide_type": "subslide"
    }
   },
   "outputs": [
    {
     "data": {
      "text/plain": [
       "(array([ 4.,  4.,  7.,  7., 10., 11., 12.,  9.,  8.,  1.,  7.,  8.,  1.,\n",
       "         5.,  1.,  1.,  3.,  0.,  0.,  1.]),\n",
       " array([-1.95977361, -1.72179521, -1.48381681, -1.24583841, -1.00786001,\n",
       "        -0.76988161, -0.53190321, -0.29392481, -0.05594641,  0.18203199,\n",
       "         0.42001039,  0.65798879,  0.89596719,  1.13394559,  1.37192399,\n",
       "         1.60990239,  1.84788079,  2.08585919,  2.32383759,  2.56181599,\n",
       "         2.79979439]),\n",
       " <BarContainer object of 20 artists>)"
      ]
     },
     "execution_count": 101,
     "metadata": {},
     "output_type": "execute_result"
    }
   ],
   "source": [
    "data1 = np.random.randn(100)\n",
    "ax1.scatter(data1,2*data1)\n",
    "ax2.plot(data1.cumsum(), 'k--')\n",
    "ax3.hist(data1, bins=20, color='k')"
   ]
  },
  {
   "cell_type": "code",
   "execution_count": 102,
   "metadata": {
    "slideshow": {
     "slide_type": "subslide"
    }
   },
   "outputs": [
    {
     "data": {
      "text/plain": [
       "(array([ 1.,  1.,  6.,  0.,  7.,  3., 13., 17., 18., 11., 10.,  4.,  4.,\n",
       "         3.,  0.,  1.,  0.,  0.,  0.,  1.]),\n",
       " array([-2.35011097, -2.05311134, -1.75611171, -1.45911208, -1.16211245,\n",
       "        -0.86511282, -0.56811319, -0.27111356,  0.02588607,  0.3228857 ,\n",
       "         0.61988533,  0.91688495,  1.21388458,  1.51088421,  1.80788384,\n",
       "         2.10488347,  2.4018831 ,  2.69888273,  2.99588236,  3.29288199,\n",
       "         3.58988162]),\n",
       " <BarContainer object of 20 artists>)"
      ]
     },
     "execution_count": 102,
     "metadata": {},
     "output_type": "execute_result"
    }
   ],
   "source": [
    "data1 = np.random.randn(100)\n",
    "ax1.scatter(data1,2*data1)\n",
    "ax2.plot(data1.cumsum(), 'r--')\n",
    "ax3.hist(data1, bins=20, color='r')"
   ]
  },
  {
   "cell_type": "code",
   "execution_count": 103,
   "metadata": {
    "slideshow": {
     "slide_type": "subslide"
    }
   },
   "outputs": [],
   "source": [
    "plt.close('all')"
   ]
  },
  {
   "cell_type": "markdown",
   "metadata": {
    "slideshow": {
     "slide_type": "slide"
    }
   },
   "source": [
    "* Creating a figure with a grid of subplots is a very common task\n",
    "* **plt.subplots** can create a new figure and return a NumPy array containing the created subplot objects"
   ]
  },
  {
   "cell_type": "code",
   "execution_count": 104,
   "metadata": {
    "slideshow": {
     "slide_type": "subslide"
    }
   },
   "outputs": [
    {
     "data": {
      "application/javascript": [
       "/* Put everything inside the global mpl namespace */\n",
       "/* global mpl */\n",
       "window.mpl = {};\n",
       "\n",
       "mpl.get_websocket_type = function () {\n",
       "    if (typeof WebSocket !== 'undefined') {\n",
       "        return WebSocket;\n",
       "    } else if (typeof MozWebSocket !== 'undefined') {\n",
       "        return MozWebSocket;\n",
       "    } else {\n",
       "        alert(\n",
       "            'Your browser does not have WebSocket support. ' +\n",
       "                'Please try Chrome, Safari or Firefox ≥ 6. ' +\n",
       "                'Firefox 4 and 5 are also supported but you ' +\n",
       "                'have to enable WebSockets in about:config.'\n",
       "        );\n",
       "    }\n",
       "};\n",
       "\n",
       "mpl.figure = function (figure_id, websocket, ondownload, parent_element) {\n",
       "    this.id = figure_id;\n",
       "\n",
       "    this.ws = websocket;\n",
       "\n",
       "    this.supports_binary = this.ws.binaryType !== undefined;\n",
       "\n",
       "    if (!this.supports_binary) {\n",
       "        var warnings = document.getElementById('mpl-warnings');\n",
       "        if (warnings) {\n",
       "            warnings.style.display = 'block';\n",
       "            warnings.textContent =\n",
       "                'This browser does not support binary websocket messages. ' +\n",
       "                'Performance may be slow.';\n",
       "        }\n",
       "    }\n",
       "\n",
       "    this.imageObj = new Image();\n",
       "\n",
       "    this.context = undefined;\n",
       "    this.message = undefined;\n",
       "    this.canvas = undefined;\n",
       "    this.rubberband_canvas = undefined;\n",
       "    this.rubberband_context = undefined;\n",
       "    this.format_dropdown = undefined;\n",
       "\n",
       "    this.image_mode = 'full';\n",
       "\n",
       "    this.root = document.createElement('div');\n",
       "    this.root.setAttribute('style', 'display: inline-block');\n",
       "    this._root_extra_style(this.root);\n",
       "\n",
       "    parent_element.appendChild(this.root);\n",
       "\n",
       "    this._init_header(this);\n",
       "    this._init_canvas(this);\n",
       "    this._init_toolbar(this);\n",
       "\n",
       "    var fig = this;\n",
       "\n",
       "    this.waiting = false;\n",
       "\n",
       "    this.ws.onopen = function () {\n",
       "        fig.send_message('supports_binary', { value: fig.supports_binary });\n",
       "        fig.send_message('send_image_mode', {});\n",
       "        if (fig.ratio !== 1) {\n",
       "            fig.send_message('set_dpi_ratio', { dpi_ratio: fig.ratio });\n",
       "        }\n",
       "        fig.send_message('refresh', {});\n",
       "    };\n",
       "\n",
       "    this.imageObj.onload = function () {\n",
       "        if (fig.image_mode === 'full') {\n",
       "            // Full images could contain transparency (where diff images\n",
       "            // almost always do), so we need to clear the canvas so that\n",
       "            // there is no ghosting.\n",
       "            fig.context.clearRect(0, 0, fig.canvas.width, fig.canvas.height);\n",
       "        }\n",
       "        fig.context.drawImage(fig.imageObj, 0, 0);\n",
       "    };\n",
       "\n",
       "    this.imageObj.onunload = function () {\n",
       "        fig.ws.close();\n",
       "    };\n",
       "\n",
       "    this.ws.onmessage = this._make_on_message_function(this);\n",
       "\n",
       "    this.ondownload = ondownload;\n",
       "};\n",
       "\n",
       "mpl.figure.prototype._init_header = function () {\n",
       "    var titlebar = document.createElement('div');\n",
       "    titlebar.classList =\n",
       "        'ui-dialog-titlebar ui-widget-header ui-corner-all ui-helper-clearfix';\n",
       "    var titletext = document.createElement('div');\n",
       "    titletext.classList = 'ui-dialog-title';\n",
       "    titletext.setAttribute(\n",
       "        'style',\n",
       "        'width: 100%; text-align: center; padding: 3px;'\n",
       "    );\n",
       "    titlebar.appendChild(titletext);\n",
       "    this.root.appendChild(titlebar);\n",
       "    this.header = titletext;\n",
       "};\n",
       "\n",
       "mpl.figure.prototype._canvas_extra_style = function (_canvas_div) {};\n",
       "\n",
       "mpl.figure.prototype._root_extra_style = function (_canvas_div) {};\n",
       "\n",
       "mpl.figure.prototype._init_canvas = function () {\n",
       "    var fig = this;\n",
       "\n",
       "    var canvas_div = (this.canvas_div = document.createElement('div'));\n",
       "    canvas_div.setAttribute(\n",
       "        'style',\n",
       "        'border: 1px solid #ddd;' +\n",
       "            'box-sizing: content-box;' +\n",
       "            'clear: both;' +\n",
       "            'min-height: 1px;' +\n",
       "            'min-width: 1px;' +\n",
       "            'outline: 0;' +\n",
       "            'overflow: hidden;' +\n",
       "            'position: relative;' +\n",
       "            'resize: both;'\n",
       "    );\n",
       "\n",
       "    function on_keyboard_event_closure(name) {\n",
       "        return function (event) {\n",
       "            return fig.key_event(event, name);\n",
       "        };\n",
       "    }\n",
       "\n",
       "    canvas_div.addEventListener(\n",
       "        'keydown',\n",
       "        on_keyboard_event_closure('key_press')\n",
       "    );\n",
       "    canvas_div.addEventListener(\n",
       "        'keyup',\n",
       "        on_keyboard_event_closure('key_release')\n",
       "    );\n",
       "\n",
       "    this._canvas_extra_style(canvas_div);\n",
       "    this.root.appendChild(canvas_div);\n",
       "\n",
       "    var canvas = (this.canvas = document.createElement('canvas'));\n",
       "    canvas.classList.add('mpl-canvas');\n",
       "    canvas.setAttribute('style', 'box-sizing: content-box;');\n",
       "\n",
       "    this.context = canvas.getContext('2d');\n",
       "\n",
       "    var backingStore =\n",
       "        this.context.backingStorePixelRatio ||\n",
       "        this.context.webkitBackingStorePixelRatio ||\n",
       "        this.context.mozBackingStorePixelRatio ||\n",
       "        this.context.msBackingStorePixelRatio ||\n",
       "        this.context.oBackingStorePixelRatio ||\n",
       "        this.context.backingStorePixelRatio ||\n",
       "        1;\n",
       "\n",
       "    this.ratio = (window.devicePixelRatio || 1) / backingStore;\n",
       "\n",
       "    var rubberband_canvas = (this.rubberband_canvas = document.createElement(\n",
       "        'canvas'\n",
       "    ));\n",
       "    rubberband_canvas.setAttribute(\n",
       "        'style',\n",
       "        'box-sizing: content-box; position: absolute; left: 0; top: 0; z-index: 1;'\n",
       "    );\n",
       "\n",
       "    // Apply a ponyfill if ResizeObserver is not implemented by browser.\n",
       "    if (this.ResizeObserver === undefined) {\n",
       "        if (window.ResizeObserver !== undefined) {\n",
       "            this.ResizeObserver = window.ResizeObserver;\n",
       "        } else {\n",
       "            var obs = _JSXTOOLS_RESIZE_OBSERVER({});\n",
       "            this.ResizeObserver = obs.ResizeObserver;\n",
       "        }\n",
       "    }\n",
       "\n",
       "    this.resizeObserverInstance = new this.ResizeObserver(function (entries) {\n",
       "        var nentries = entries.length;\n",
       "        for (var i = 0; i < nentries; i++) {\n",
       "            var entry = entries[i];\n",
       "            var width, height;\n",
       "            if (entry.contentBoxSize) {\n",
       "                if (entry.contentBoxSize instanceof Array) {\n",
       "                    // Chrome 84 implements new version of spec.\n",
       "                    width = entry.contentBoxSize[0].inlineSize;\n",
       "                    height = entry.contentBoxSize[0].blockSize;\n",
       "                } else {\n",
       "                    // Firefox implements old version of spec.\n",
       "                    width = entry.contentBoxSize.inlineSize;\n",
       "                    height = entry.contentBoxSize.blockSize;\n",
       "                }\n",
       "            } else {\n",
       "                // Chrome <84 implements even older version of spec.\n",
       "                width = entry.contentRect.width;\n",
       "                height = entry.contentRect.height;\n",
       "            }\n",
       "\n",
       "            // Keep the size of the canvas and rubber band canvas in sync with\n",
       "            // the canvas container.\n",
       "            if (entry.devicePixelContentBoxSize) {\n",
       "                // Chrome 84 implements new version of spec.\n",
       "                canvas.setAttribute(\n",
       "                    'width',\n",
       "                    entry.devicePixelContentBoxSize[0].inlineSize\n",
       "                );\n",
       "                canvas.setAttribute(\n",
       "                    'height',\n",
       "                    entry.devicePixelContentBoxSize[0].blockSize\n",
       "                );\n",
       "            } else {\n",
       "                canvas.setAttribute('width', width * fig.ratio);\n",
       "                canvas.setAttribute('height', height * fig.ratio);\n",
       "            }\n",
       "            canvas.setAttribute(\n",
       "                'style',\n",
       "                'width: ' + width + 'px; height: ' + height + 'px;'\n",
       "            );\n",
       "\n",
       "            rubberband_canvas.setAttribute('width', width);\n",
       "            rubberband_canvas.setAttribute('height', height);\n",
       "\n",
       "            // And update the size in Python. We ignore the initial 0/0 size\n",
       "            // that occurs as the element is placed into the DOM, which should\n",
       "            // otherwise not happen due to the minimum size styling.\n",
       "            if (fig.ws.readyState == 1 && width != 0 && height != 0) {\n",
       "                fig.request_resize(width, height);\n",
       "            }\n",
       "        }\n",
       "    });\n",
       "    this.resizeObserverInstance.observe(canvas_div);\n",
       "\n",
       "    function on_mouse_event_closure(name) {\n",
       "        return function (event) {\n",
       "            return fig.mouse_event(event, name);\n",
       "        };\n",
       "    }\n",
       "\n",
       "    rubberband_canvas.addEventListener(\n",
       "        'mousedown',\n",
       "        on_mouse_event_closure('button_press')\n",
       "    );\n",
       "    rubberband_canvas.addEventListener(\n",
       "        'mouseup',\n",
       "        on_mouse_event_closure('button_release')\n",
       "    );\n",
       "    rubberband_canvas.addEventListener(\n",
       "        'dblclick',\n",
       "        on_mouse_event_closure('dblclick')\n",
       "    );\n",
       "    // Throttle sequential mouse events to 1 every 20ms.\n",
       "    rubberband_canvas.addEventListener(\n",
       "        'mousemove',\n",
       "        on_mouse_event_closure('motion_notify')\n",
       "    );\n",
       "\n",
       "    rubberband_canvas.addEventListener(\n",
       "        'mouseenter',\n",
       "        on_mouse_event_closure('figure_enter')\n",
       "    );\n",
       "    rubberband_canvas.addEventListener(\n",
       "        'mouseleave',\n",
       "        on_mouse_event_closure('figure_leave')\n",
       "    );\n",
       "\n",
       "    canvas_div.addEventListener('wheel', function (event) {\n",
       "        if (event.deltaY < 0) {\n",
       "            event.step = 1;\n",
       "        } else {\n",
       "            event.step = -1;\n",
       "        }\n",
       "        on_mouse_event_closure('scroll')(event);\n",
       "    });\n",
       "\n",
       "    canvas_div.appendChild(canvas);\n",
       "    canvas_div.appendChild(rubberband_canvas);\n",
       "\n",
       "    this.rubberband_context = rubberband_canvas.getContext('2d');\n",
       "    this.rubberband_context.strokeStyle = '#000000';\n",
       "\n",
       "    this._resize_canvas = function (width, height, forward) {\n",
       "        if (forward) {\n",
       "            canvas_div.style.width = width + 'px';\n",
       "            canvas_div.style.height = height + 'px';\n",
       "        }\n",
       "    };\n",
       "\n",
       "    // Disable right mouse context menu.\n",
       "    this.rubberband_canvas.addEventListener('contextmenu', function (_e) {\n",
       "        event.preventDefault();\n",
       "        return false;\n",
       "    });\n",
       "\n",
       "    function set_focus() {\n",
       "        canvas.focus();\n",
       "        canvas_div.focus();\n",
       "    }\n",
       "\n",
       "    window.setTimeout(set_focus, 100);\n",
       "};\n",
       "\n",
       "mpl.figure.prototype._init_toolbar = function () {\n",
       "    var fig = this;\n",
       "\n",
       "    var toolbar = document.createElement('div');\n",
       "    toolbar.classList = 'mpl-toolbar';\n",
       "    this.root.appendChild(toolbar);\n",
       "\n",
       "    function on_click_closure(name) {\n",
       "        return function (_event) {\n",
       "            return fig.toolbar_button_onclick(name);\n",
       "        };\n",
       "    }\n",
       "\n",
       "    function on_mouseover_closure(tooltip) {\n",
       "        return function (event) {\n",
       "            if (!event.currentTarget.disabled) {\n",
       "                return fig.toolbar_button_onmouseover(tooltip);\n",
       "            }\n",
       "        };\n",
       "    }\n",
       "\n",
       "    fig.buttons = {};\n",
       "    var buttonGroup = document.createElement('div');\n",
       "    buttonGroup.classList = 'mpl-button-group';\n",
       "    for (var toolbar_ind in mpl.toolbar_items) {\n",
       "        var name = mpl.toolbar_items[toolbar_ind][0];\n",
       "        var tooltip = mpl.toolbar_items[toolbar_ind][1];\n",
       "        var image = mpl.toolbar_items[toolbar_ind][2];\n",
       "        var method_name = mpl.toolbar_items[toolbar_ind][3];\n",
       "\n",
       "        if (!name) {\n",
       "            /* Instead of a spacer, we start a new button group. */\n",
       "            if (buttonGroup.hasChildNodes()) {\n",
       "                toolbar.appendChild(buttonGroup);\n",
       "            }\n",
       "            buttonGroup = document.createElement('div');\n",
       "            buttonGroup.classList = 'mpl-button-group';\n",
       "            continue;\n",
       "        }\n",
       "\n",
       "        var button = (fig.buttons[name] = document.createElement('button'));\n",
       "        button.classList = 'mpl-widget';\n",
       "        button.setAttribute('role', 'button');\n",
       "        button.setAttribute('aria-disabled', 'false');\n",
       "        button.addEventListener('click', on_click_closure(method_name));\n",
       "        button.addEventListener('mouseover', on_mouseover_closure(tooltip));\n",
       "\n",
       "        var icon_img = document.createElement('img');\n",
       "        icon_img.src = '_images/' + image + '.png';\n",
       "        icon_img.srcset = '_images/' + image + '_large.png 2x';\n",
       "        icon_img.alt = tooltip;\n",
       "        button.appendChild(icon_img);\n",
       "\n",
       "        buttonGroup.appendChild(button);\n",
       "    }\n",
       "\n",
       "    if (buttonGroup.hasChildNodes()) {\n",
       "        toolbar.appendChild(buttonGroup);\n",
       "    }\n",
       "\n",
       "    var fmt_picker = document.createElement('select');\n",
       "    fmt_picker.classList = 'mpl-widget';\n",
       "    toolbar.appendChild(fmt_picker);\n",
       "    this.format_dropdown = fmt_picker;\n",
       "\n",
       "    for (var ind in mpl.extensions) {\n",
       "        var fmt = mpl.extensions[ind];\n",
       "        var option = document.createElement('option');\n",
       "        option.selected = fmt === mpl.default_extension;\n",
       "        option.innerHTML = fmt;\n",
       "        fmt_picker.appendChild(option);\n",
       "    }\n",
       "\n",
       "    var status_bar = document.createElement('span');\n",
       "    status_bar.classList = 'mpl-message';\n",
       "    toolbar.appendChild(status_bar);\n",
       "    this.message = status_bar;\n",
       "};\n",
       "\n",
       "mpl.figure.prototype.request_resize = function (x_pixels, y_pixels) {\n",
       "    // Request matplotlib to resize the figure. Matplotlib will then trigger a resize in the client,\n",
       "    // which will in turn request a refresh of the image.\n",
       "    this.send_message('resize', { width: x_pixels, height: y_pixels });\n",
       "};\n",
       "\n",
       "mpl.figure.prototype.send_message = function (type, properties) {\n",
       "    properties['type'] = type;\n",
       "    properties['figure_id'] = this.id;\n",
       "    this.ws.send(JSON.stringify(properties));\n",
       "};\n",
       "\n",
       "mpl.figure.prototype.send_draw_message = function () {\n",
       "    if (!this.waiting) {\n",
       "        this.waiting = true;\n",
       "        this.ws.send(JSON.stringify({ type: 'draw', figure_id: this.id }));\n",
       "    }\n",
       "};\n",
       "\n",
       "mpl.figure.prototype.handle_save = function (fig, _msg) {\n",
       "    var format_dropdown = fig.format_dropdown;\n",
       "    var format = format_dropdown.options[format_dropdown.selectedIndex].value;\n",
       "    fig.ondownload(fig, format);\n",
       "};\n",
       "\n",
       "mpl.figure.prototype.handle_resize = function (fig, msg) {\n",
       "    var size = msg['size'];\n",
       "    if (size[0] !== fig.canvas.width || size[1] !== fig.canvas.height) {\n",
       "        fig._resize_canvas(size[0], size[1], msg['forward']);\n",
       "        fig.send_message('refresh', {});\n",
       "    }\n",
       "};\n",
       "\n",
       "mpl.figure.prototype.handle_rubberband = function (fig, msg) {\n",
       "    var x0 = msg['x0'] / fig.ratio;\n",
       "    var y0 = (fig.canvas.height - msg['y0']) / fig.ratio;\n",
       "    var x1 = msg['x1'] / fig.ratio;\n",
       "    var y1 = (fig.canvas.height - msg['y1']) / fig.ratio;\n",
       "    x0 = Math.floor(x0) + 0.5;\n",
       "    y0 = Math.floor(y0) + 0.5;\n",
       "    x1 = Math.floor(x1) + 0.5;\n",
       "    y1 = Math.floor(y1) + 0.5;\n",
       "    var min_x = Math.min(x0, x1);\n",
       "    var min_y = Math.min(y0, y1);\n",
       "    var width = Math.abs(x1 - x0);\n",
       "    var height = Math.abs(y1 - y0);\n",
       "\n",
       "    fig.rubberband_context.clearRect(\n",
       "        0,\n",
       "        0,\n",
       "        fig.canvas.width / fig.ratio,\n",
       "        fig.canvas.height / fig.ratio\n",
       "    );\n",
       "\n",
       "    fig.rubberband_context.strokeRect(min_x, min_y, width, height);\n",
       "};\n",
       "\n",
       "mpl.figure.prototype.handle_figure_label = function (fig, msg) {\n",
       "    // Updates the figure title.\n",
       "    fig.header.textContent = msg['label'];\n",
       "};\n",
       "\n",
       "mpl.figure.prototype.handle_cursor = function (fig, msg) {\n",
       "    var cursor = msg['cursor'];\n",
       "    switch (cursor) {\n",
       "        case 0:\n",
       "            cursor = 'pointer';\n",
       "            break;\n",
       "        case 1:\n",
       "            cursor = 'default';\n",
       "            break;\n",
       "        case 2:\n",
       "            cursor = 'crosshair';\n",
       "            break;\n",
       "        case 3:\n",
       "            cursor = 'move';\n",
       "            break;\n",
       "    }\n",
       "    fig.rubberband_canvas.style.cursor = cursor;\n",
       "};\n",
       "\n",
       "mpl.figure.prototype.handle_message = function (fig, msg) {\n",
       "    fig.message.textContent = msg['message'];\n",
       "};\n",
       "\n",
       "mpl.figure.prototype.handle_draw = function (fig, _msg) {\n",
       "    // Request the server to send over a new figure.\n",
       "    fig.send_draw_message();\n",
       "};\n",
       "\n",
       "mpl.figure.prototype.handle_image_mode = function (fig, msg) {\n",
       "    fig.image_mode = msg['mode'];\n",
       "};\n",
       "\n",
       "mpl.figure.prototype.handle_history_buttons = function (fig, msg) {\n",
       "    for (var key in msg) {\n",
       "        if (!(key in fig.buttons)) {\n",
       "            continue;\n",
       "        }\n",
       "        fig.buttons[key].disabled = !msg[key];\n",
       "        fig.buttons[key].setAttribute('aria-disabled', !msg[key]);\n",
       "    }\n",
       "};\n",
       "\n",
       "mpl.figure.prototype.handle_navigate_mode = function (fig, msg) {\n",
       "    if (msg['mode'] === 'PAN') {\n",
       "        fig.buttons['Pan'].classList.add('active');\n",
       "        fig.buttons['Zoom'].classList.remove('active');\n",
       "    } else if (msg['mode'] === 'ZOOM') {\n",
       "        fig.buttons['Pan'].classList.remove('active');\n",
       "        fig.buttons['Zoom'].classList.add('active');\n",
       "    } else {\n",
       "        fig.buttons['Pan'].classList.remove('active');\n",
       "        fig.buttons['Zoom'].classList.remove('active');\n",
       "    }\n",
       "};\n",
       "\n",
       "mpl.figure.prototype.updated_canvas_event = function () {\n",
       "    // Called whenever the canvas gets updated.\n",
       "    this.send_message('ack', {});\n",
       "};\n",
       "\n",
       "// A function to construct a web socket function for onmessage handling.\n",
       "// Called in the figure constructor.\n",
       "mpl.figure.prototype._make_on_message_function = function (fig) {\n",
       "    return function socket_on_message(evt) {\n",
       "        if (evt.data instanceof Blob) {\n",
       "            var img = evt.data;\n",
       "            if (img.type !== 'image/png') {\n",
       "                /* FIXME: We get \"Resource interpreted as Image but\n",
       "                 * transferred with MIME type text/plain:\" errors on\n",
       "                 * Chrome.  But how to set the MIME type?  It doesn't seem\n",
       "                 * to be part of the websocket stream */\n",
       "                img.type = 'image/png';\n",
       "            }\n",
       "\n",
       "            /* Free the memory for the previous frames */\n",
       "            if (fig.imageObj.src) {\n",
       "                (window.URL || window.webkitURL).revokeObjectURL(\n",
       "                    fig.imageObj.src\n",
       "                );\n",
       "            }\n",
       "\n",
       "            fig.imageObj.src = (window.URL || window.webkitURL).createObjectURL(\n",
       "                img\n",
       "            );\n",
       "            fig.updated_canvas_event();\n",
       "            fig.waiting = false;\n",
       "            return;\n",
       "        } else if (\n",
       "            typeof evt.data === 'string' &&\n",
       "            evt.data.slice(0, 21) === 'data:image/png;base64'\n",
       "        ) {\n",
       "            fig.imageObj.src = evt.data;\n",
       "            fig.updated_canvas_event();\n",
       "            fig.waiting = false;\n",
       "            return;\n",
       "        }\n",
       "\n",
       "        var msg = JSON.parse(evt.data);\n",
       "        var msg_type = msg['type'];\n",
       "\n",
       "        // Call the  \"handle_{type}\" callback, which takes\n",
       "        // the figure and JSON message as its only arguments.\n",
       "        try {\n",
       "            var callback = fig['handle_' + msg_type];\n",
       "        } catch (e) {\n",
       "            console.log(\n",
       "                \"No handler for the '\" + msg_type + \"' message type: \",\n",
       "                msg\n",
       "            );\n",
       "            return;\n",
       "        }\n",
       "\n",
       "        if (callback) {\n",
       "            try {\n",
       "                // console.log(\"Handling '\" + msg_type + \"' message: \", msg);\n",
       "                callback(fig, msg);\n",
       "            } catch (e) {\n",
       "                console.log(\n",
       "                    \"Exception inside the 'handler_\" + msg_type + \"' callback:\",\n",
       "                    e,\n",
       "                    e.stack,\n",
       "                    msg\n",
       "                );\n",
       "            }\n",
       "        }\n",
       "    };\n",
       "};\n",
       "\n",
       "// from http://stackoverflow.com/questions/1114465/getting-mouse-location-in-canvas\n",
       "mpl.findpos = function (e) {\n",
       "    //this section is from http://www.quirksmode.org/js/events_properties.html\n",
       "    var targ;\n",
       "    if (!e) {\n",
       "        e = window.event;\n",
       "    }\n",
       "    if (e.target) {\n",
       "        targ = e.target;\n",
       "    } else if (e.srcElement) {\n",
       "        targ = e.srcElement;\n",
       "    }\n",
       "    if (targ.nodeType === 3) {\n",
       "        // defeat Safari bug\n",
       "        targ = targ.parentNode;\n",
       "    }\n",
       "\n",
       "    // pageX,Y are the mouse positions relative to the document\n",
       "    var boundingRect = targ.getBoundingClientRect();\n",
       "    var x = e.pageX - (boundingRect.left + document.body.scrollLeft);\n",
       "    var y = e.pageY - (boundingRect.top + document.body.scrollTop);\n",
       "\n",
       "    return { x: x, y: y };\n",
       "};\n",
       "\n",
       "/*\n",
       " * return a copy of an object with only non-object keys\n",
       " * we need this to avoid circular references\n",
       " * http://stackoverflow.com/a/24161582/3208463\n",
       " */\n",
       "function simpleKeys(original) {\n",
       "    return Object.keys(original).reduce(function (obj, key) {\n",
       "        if (typeof original[key] !== 'object') {\n",
       "            obj[key] = original[key];\n",
       "        }\n",
       "        return obj;\n",
       "    }, {});\n",
       "}\n",
       "\n",
       "mpl.figure.prototype.mouse_event = function (event, name) {\n",
       "    var canvas_pos = mpl.findpos(event);\n",
       "\n",
       "    if (name === 'button_press') {\n",
       "        this.canvas.focus();\n",
       "        this.canvas_div.focus();\n",
       "    }\n",
       "\n",
       "    var x = canvas_pos.x * this.ratio;\n",
       "    var y = canvas_pos.y * this.ratio;\n",
       "\n",
       "    this.send_message(name, {\n",
       "        x: x,\n",
       "        y: y,\n",
       "        button: event.button,\n",
       "        step: event.step,\n",
       "        guiEvent: simpleKeys(event),\n",
       "    });\n",
       "\n",
       "    /* This prevents the web browser from automatically changing to\n",
       "     * the text insertion cursor when the button is pressed.  We want\n",
       "     * to control all of the cursor setting manually through the\n",
       "     * 'cursor' event from matplotlib */\n",
       "    event.preventDefault();\n",
       "    return false;\n",
       "};\n",
       "\n",
       "mpl.figure.prototype._key_event_extra = function (_event, _name) {\n",
       "    // Handle any extra behaviour associated with a key event\n",
       "};\n",
       "\n",
       "mpl.figure.prototype.key_event = function (event, name) {\n",
       "    // Prevent repeat events\n",
       "    if (name === 'key_press') {\n",
       "        if (event.key === this._key) {\n",
       "            return;\n",
       "        } else {\n",
       "            this._key = event.key;\n",
       "        }\n",
       "    }\n",
       "    if (name === 'key_release') {\n",
       "        this._key = null;\n",
       "    }\n",
       "\n",
       "    var value = '';\n",
       "    if (event.ctrlKey && event.key !== 'Control') {\n",
       "        value += 'ctrl+';\n",
       "    }\n",
       "    else if (event.altKey && event.key !== 'Alt') {\n",
       "        value += 'alt+';\n",
       "    }\n",
       "    else if (event.shiftKey && event.key !== 'Shift') {\n",
       "        value += 'shift+';\n",
       "    }\n",
       "\n",
       "    value += 'k' + event.key;\n",
       "\n",
       "    this._key_event_extra(event, name);\n",
       "\n",
       "    this.send_message(name, { key: value, guiEvent: simpleKeys(event) });\n",
       "    return false;\n",
       "};\n",
       "\n",
       "mpl.figure.prototype.toolbar_button_onclick = function (name) {\n",
       "    if (name === 'download') {\n",
       "        this.handle_save(this, null);\n",
       "    } else {\n",
       "        this.send_message('toolbar_button', { name: name });\n",
       "    }\n",
       "};\n",
       "\n",
       "mpl.figure.prototype.toolbar_button_onmouseover = function (tooltip) {\n",
       "    this.message.textContent = tooltip;\n",
       "};\n",
       "\n",
       "///////////////// REMAINING CONTENT GENERATED BY embed_js.py /////////////////\n",
       "// prettier-ignore\n",
       "var _JSXTOOLS_RESIZE_OBSERVER=function(A){var t,i=new WeakMap,n=new WeakMap,a=new WeakMap,r=new WeakMap,o=new Set;function s(e){if(!(this instanceof s))throw new TypeError(\"Constructor requires 'new' operator\");i.set(this,e)}function h(){throw new TypeError(\"Function is not a constructor\")}function c(e,t,i,n){e=0 in arguments?Number(arguments[0]):0,t=1 in arguments?Number(arguments[1]):0,i=2 in arguments?Number(arguments[2]):0,n=3 in arguments?Number(arguments[3]):0,this.right=(this.x=this.left=e)+(this.width=i),this.bottom=(this.y=this.top=t)+(this.height=n),Object.freeze(this)}function d(){t=requestAnimationFrame(d);var s=new WeakMap,p=new Set;o.forEach((function(t){r.get(t).forEach((function(i){var r=t instanceof window.SVGElement,o=a.get(t),d=r?0:parseFloat(o.paddingTop),f=r?0:parseFloat(o.paddingRight),l=r?0:parseFloat(o.paddingBottom),u=r?0:parseFloat(o.paddingLeft),g=r?0:parseFloat(o.borderTopWidth),m=r?0:parseFloat(o.borderRightWidth),w=r?0:parseFloat(o.borderBottomWidth),b=u+f,F=d+l,v=(r?0:parseFloat(o.borderLeftWidth))+m,W=g+w,y=r?0:t.offsetHeight-W-t.clientHeight,E=r?0:t.offsetWidth-v-t.clientWidth,R=b+v,z=F+W,M=r?t.width:parseFloat(o.width)-R-E,O=r?t.height:parseFloat(o.height)-z-y;if(n.has(t)){var k=n.get(t);if(k[0]===M&&k[1]===O)return}n.set(t,[M,O]);var S=Object.create(h.prototype);S.target=t,S.contentRect=new c(u,d,M,O),s.has(i)||(s.set(i,[]),p.add(i)),s.get(i).push(S)}))})),p.forEach((function(e){i.get(e).call(e,s.get(e),e)}))}return s.prototype.observe=function(i){if(i instanceof window.Element){r.has(i)||(r.set(i,new Set),o.add(i),a.set(i,window.getComputedStyle(i)));var n=r.get(i);n.has(this)||n.add(this),cancelAnimationFrame(t),t=requestAnimationFrame(d)}},s.prototype.unobserve=function(i){if(i instanceof window.Element&&r.has(i)){var n=r.get(i);n.has(this)&&(n.delete(this),n.size||(r.delete(i),o.delete(i))),n.size||r.delete(i),o.size||cancelAnimationFrame(t)}},A.DOMRectReadOnly=c,A.ResizeObserver=s,A.ResizeObserverEntry=h,A}; // eslint-disable-line\n",
       "mpl.toolbar_items = [[\"Home\", \"Reset original view\", \"fa fa-home icon-home\", \"home\"], [\"Back\", \"Back to previous view\", \"fa fa-arrow-left icon-arrow-left\", \"back\"], [\"Forward\", \"Forward to next view\", \"fa fa-arrow-right icon-arrow-right\", \"forward\"], [\"\", \"\", \"\", \"\"], [\"Pan\", \"Left button pans, Right button zooms\\nx/y fixes axis, CTRL fixes aspect\", \"fa fa-arrows icon-move\", \"pan\"], [\"Zoom\", \"Zoom to rectangle\\nx/y fixes axis, CTRL fixes aspect\", \"fa fa-square-o icon-check-empty\", \"zoom\"], [\"\", \"\", \"\", \"\"], [\"Download\", \"Download plot\", \"fa fa-floppy-o icon-save\", \"download\"]];\n",
       "\n",
       "mpl.extensions = [\"eps\", \"jpeg\", \"pgf\", \"pdf\", \"png\", \"ps\", \"raw\", \"svg\", \"tif\"];\n",
       "\n",
       "mpl.default_extension = \"png\";/* global mpl */\n",
       "\n",
       "var comm_websocket_adapter = function (comm) {\n",
       "    // Create a \"websocket\"-like object which calls the given IPython comm\n",
       "    // object with the appropriate methods. Currently this is a non binary\n",
       "    // socket, so there is still some room for performance tuning.\n",
       "    var ws = {};\n",
       "\n",
       "    ws.binaryType = comm.kernel.ws.binaryType;\n",
       "    ws.readyState = comm.kernel.ws.readyState;\n",
       "    function updateReadyState(_event) {\n",
       "        if (comm.kernel.ws) {\n",
       "            ws.readyState = comm.kernel.ws.readyState;\n",
       "        } else {\n",
       "            ws.readyState = 3; // Closed state.\n",
       "        }\n",
       "    }\n",
       "    comm.kernel.ws.addEventListener('open', updateReadyState);\n",
       "    comm.kernel.ws.addEventListener('close', updateReadyState);\n",
       "    comm.kernel.ws.addEventListener('error', updateReadyState);\n",
       "\n",
       "    ws.close = function () {\n",
       "        comm.close();\n",
       "    };\n",
       "    ws.send = function (m) {\n",
       "        //console.log('sending', m);\n",
       "        comm.send(m);\n",
       "    };\n",
       "    // Register the callback with on_msg.\n",
       "    comm.on_msg(function (msg) {\n",
       "        //console.log('receiving', msg['content']['data'], msg);\n",
       "        var data = msg['content']['data'];\n",
       "        if (data['blob'] !== undefined) {\n",
       "            data = {\n",
       "                data: new Blob(msg['buffers'], { type: data['blob'] }),\n",
       "            };\n",
       "        }\n",
       "        // Pass the mpl event to the overridden (by mpl) onmessage function.\n",
       "        ws.onmessage(data);\n",
       "    });\n",
       "    return ws;\n",
       "};\n",
       "\n",
       "mpl.mpl_figure_comm = function (comm, msg) {\n",
       "    // This is the function which gets called when the mpl process\n",
       "    // starts-up an IPython Comm through the \"matplotlib\" channel.\n",
       "\n",
       "    var id = msg.content.data.id;\n",
       "    // Get hold of the div created by the display call when the Comm\n",
       "    // socket was opened in Python.\n",
       "    var element = document.getElementById(id);\n",
       "    var ws_proxy = comm_websocket_adapter(comm);\n",
       "\n",
       "    function ondownload(figure, _format) {\n",
       "        window.open(figure.canvas.toDataURL());\n",
       "    }\n",
       "\n",
       "    var fig = new mpl.figure(id, ws_proxy, ondownload, element);\n",
       "\n",
       "    // Call onopen now - mpl needs it, as it is assuming we've passed it a real\n",
       "    // web socket which is closed, not our websocket->open comm proxy.\n",
       "    ws_proxy.onopen();\n",
       "\n",
       "    fig.parent_element = element;\n",
       "    fig.cell_info = mpl.find_output_cell(\"<div id='\" + id + \"'></div>\");\n",
       "    if (!fig.cell_info) {\n",
       "        console.error('Failed to find cell for figure', id, fig);\n",
       "        return;\n",
       "    }\n",
       "    fig.cell_info[0].output_area.element.on(\n",
       "        'cleared',\n",
       "        { fig: fig },\n",
       "        fig._remove_fig_handler\n",
       "    );\n",
       "};\n",
       "\n",
       "mpl.figure.prototype.handle_close = function (fig, msg) {\n",
       "    var width = fig.canvas.width / fig.ratio;\n",
       "    fig.cell_info[0].output_area.element.off(\n",
       "        'cleared',\n",
       "        fig._remove_fig_handler\n",
       "    );\n",
       "    fig.resizeObserverInstance.unobserve(fig.canvas_div);\n",
       "\n",
       "    // Update the output cell to use the data from the current canvas.\n",
       "    fig.push_to_output();\n",
       "    var dataURL = fig.canvas.toDataURL();\n",
       "    // Re-enable the keyboard manager in IPython - without this line, in FF,\n",
       "    // the notebook keyboard shortcuts fail.\n",
       "    IPython.keyboard_manager.enable();\n",
       "    fig.parent_element.innerHTML =\n",
       "        '<img src=\"' + dataURL + '\" width=\"' + width + '\">';\n",
       "    fig.close_ws(fig, msg);\n",
       "};\n",
       "\n",
       "mpl.figure.prototype.close_ws = function (fig, msg) {\n",
       "    fig.send_message('closing', msg);\n",
       "    // fig.ws.close()\n",
       "};\n",
       "\n",
       "mpl.figure.prototype.push_to_output = function (_remove_interactive) {\n",
       "    // Turn the data on the canvas into data in the output cell.\n",
       "    var width = this.canvas.width / this.ratio;\n",
       "    var dataURL = this.canvas.toDataURL();\n",
       "    this.cell_info[1]['text/html'] =\n",
       "        '<img src=\"' + dataURL + '\" width=\"' + width + '\">';\n",
       "};\n",
       "\n",
       "mpl.figure.prototype.updated_canvas_event = function () {\n",
       "    // Tell IPython that the notebook contents must change.\n",
       "    IPython.notebook.set_dirty(true);\n",
       "    this.send_message('ack', {});\n",
       "    var fig = this;\n",
       "    // Wait a second, then push the new image to the DOM so\n",
       "    // that it is saved nicely (might be nice to debounce this).\n",
       "    setTimeout(function () {\n",
       "        fig.push_to_output();\n",
       "    }, 1000);\n",
       "};\n",
       "\n",
       "mpl.figure.prototype._init_toolbar = function () {\n",
       "    var fig = this;\n",
       "\n",
       "    var toolbar = document.createElement('div');\n",
       "    toolbar.classList = 'btn-toolbar';\n",
       "    this.root.appendChild(toolbar);\n",
       "\n",
       "    function on_click_closure(name) {\n",
       "        return function (_event) {\n",
       "            return fig.toolbar_button_onclick(name);\n",
       "        };\n",
       "    }\n",
       "\n",
       "    function on_mouseover_closure(tooltip) {\n",
       "        return function (event) {\n",
       "            if (!event.currentTarget.disabled) {\n",
       "                return fig.toolbar_button_onmouseover(tooltip);\n",
       "            }\n",
       "        };\n",
       "    }\n",
       "\n",
       "    fig.buttons = {};\n",
       "    var buttonGroup = document.createElement('div');\n",
       "    buttonGroup.classList = 'btn-group';\n",
       "    var button;\n",
       "    for (var toolbar_ind in mpl.toolbar_items) {\n",
       "        var name = mpl.toolbar_items[toolbar_ind][0];\n",
       "        var tooltip = mpl.toolbar_items[toolbar_ind][1];\n",
       "        var image = mpl.toolbar_items[toolbar_ind][2];\n",
       "        var method_name = mpl.toolbar_items[toolbar_ind][3];\n",
       "\n",
       "        if (!name) {\n",
       "            /* Instead of a spacer, we start a new button group. */\n",
       "            if (buttonGroup.hasChildNodes()) {\n",
       "                toolbar.appendChild(buttonGroup);\n",
       "            }\n",
       "            buttonGroup = document.createElement('div');\n",
       "            buttonGroup.classList = 'btn-group';\n",
       "            continue;\n",
       "        }\n",
       "\n",
       "        button = fig.buttons[name] = document.createElement('button');\n",
       "        button.classList = 'btn btn-default';\n",
       "        button.href = '#';\n",
       "        button.title = name;\n",
       "        button.innerHTML = '<i class=\"fa ' + image + ' fa-lg\"></i>';\n",
       "        button.addEventListener('click', on_click_closure(method_name));\n",
       "        button.addEventListener('mouseover', on_mouseover_closure(tooltip));\n",
       "        buttonGroup.appendChild(button);\n",
       "    }\n",
       "\n",
       "    if (buttonGroup.hasChildNodes()) {\n",
       "        toolbar.appendChild(buttonGroup);\n",
       "    }\n",
       "\n",
       "    // Add the status bar.\n",
       "    var status_bar = document.createElement('span');\n",
       "    status_bar.classList = 'mpl-message pull-right';\n",
       "    toolbar.appendChild(status_bar);\n",
       "    this.message = status_bar;\n",
       "\n",
       "    // Add the close button to the window.\n",
       "    var buttongrp = document.createElement('div');\n",
       "    buttongrp.classList = 'btn-group inline pull-right';\n",
       "    button = document.createElement('button');\n",
       "    button.classList = 'btn btn-mini btn-primary';\n",
       "    button.href = '#';\n",
       "    button.title = 'Stop Interaction';\n",
       "    button.innerHTML = '<i class=\"fa fa-power-off icon-remove icon-large\"></i>';\n",
       "    button.addEventListener('click', function (_evt) {\n",
       "        fig.handle_close(fig, {});\n",
       "    });\n",
       "    button.addEventListener(\n",
       "        'mouseover',\n",
       "        on_mouseover_closure('Stop Interaction')\n",
       "    );\n",
       "    buttongrp.appendChild(button);\n",
       "    var titlebar = this.root.querySelector('.ui-dialog-titlebar');\n",
       "    titlebar.insertBefore(buttongrp, titlebar.firstChild);\n",
       "};\n",
       "\n",
       "mpl.figure.prototype._remove_fig_handler = function (event) {\n",
       "    var fig = event.data.fig;\n",
       "    if (event.target !== this) {\n",
       "        // Ignore bubbled events from children.\n",
       "        return;\n",
       "    }\n",
       "    fig.close_ws(fig, {});\n",
       "};\n",
       "\n",
       "mpl.figure.prototype._root_extra_style = function (el) {\n",
       "    el.style.boxSizing = 'content-box'; // override notebook setting of border-box.\n",
       "};\n",
       "\n",
       "mpl.figure.prototype._canvas_extra_style = function (el) {\n",
       "    // this is important to make the div 'focusable\n",
       "    el.setAttribute('tabindex', 0);\n",
       "    // reach out to IPython and tell the keyboard manager to turn it's self\n",
       "    // off when our div gets focus\n",
       "\n",
       "    // location in version 3\n",
       "    if (IPython.notebook.keyboard_manager) {\n",
       "        IPython.notebook.keyboard_manager.register_events(el);\n",
       "    } else {\n",
       "        // location in version 2\n",
       "        IPython.keyboard_manager.register_events(el);\n",
       "    }\n",
       "};\n",
       "\n",
       "mpl.figure.prototype._key_event_extra = function (event, _name) {\n",
       "    var manager = IPython.notebook.keyboard_manager;\n",
       "    if (!manager) {\n",
       "        manager = IPython.keyboard_manager;\n",
       "    }\n",
       "\n",
       "    // Check for shift+enter\n",
       "    if (event.shiftKey && event.which === 13) {\n",
       "        this.canvas_div.blur();\n",
       "        // select the cell after this one\n",
       "        var index = IPython.notebook.find_cell_index(this.cell_info[0]);\n",
       "        IPython.notebook.select(index + 1);\n",
       "    }\n",
       "};\n",
       "\n",
       "mpl.figure.prototype.handle_save = function (fig, _msg) {\n",
       "    fig.ondownload(fig, null);\n",
       "};\n",
       "\n",
       "mpl.find_output_cell = function (html_output) {\n",
       "    // Return the cell and output element which can be found *uniquely* in the notebook.\n",
       "    // Note - this is a bit hacky, but it is done because the \"notebook_saving.Notebook\"\n",
       "    // IPython event is triggered only after the cells have been serialised, which for\n",
       "    // our purposes (turning an active figure into a static one), is too late.\n",
       "    var cells = IPython.notebook.get_cells();\n",
       "    var ncells = cells.length;\n",
       "    for (var i = 0; i < ncells; i++) {\n",
       "        var cell = cells[i];\n",
       "        if (cell.cell_type === 'code') {\n",
       "            for (var j = 0; j < cell.output_area.outputs.length; j++) {\n",
       "                var data = cell.output_area.outputs[j];\n",
       "                if (data.data) {\n",
       "                    // IPython >= 3 moved mimebundle to data attribute of output\n",
       "                    data = data.data;\n",
       "                }\n",
       "                if (data['text/html'] === html_output) {\n",
       "                    return [cell, data, j];\n",
       "                }\n",
       "            }\n",
       "        }\n",
       "    }\n",
       "};\n",
       "\n",
       "// Register the function which deals with the matplotlib target/channel.\n",
       "// The kernel may be null if the page has been refreshed.\n",
       "if (IPython.notebook.kernel !== null) {\n",
       "    IPython.notebook.kernel.comm_manager.register_target(\n",
       "        'matplotlib',\n",
       "        mpl.mpl_figure_comm\n",
       "    );\n",
       "}\n"
      ],
      "text/plain": [
       "<IPython.core.display.Javascript object>"
      ]
     },
     "metadata": {},
     "output_type": "display_data"
    },
    {
     "data": {
      "text/html": [
       "<img src=\"data:image/png;base64,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\" width=\"432\">"
      ],
      "text/plain": [
       "<IPython.core.display.HTML object>"
      ]
     },
     "metadata": {},
     "output_type": "display_data"
    }
   ],
   "source": [
    "fig, axes = plt.subplots(2, 3)"
   ]
  },
  {
   "cell_type": "markdown",
   "metadata": {
    "slideshow": {
     "slide_type": "slide"
    }
   },
   "source": [
    "* This is very useful, as the axes array can be easily indexed like a two-dimensional array"
   ]
  },
  {
   "cell_type": "code",
   "execution_count": 105,
   "metadata": {
    "slideshow": {
     "slide_type": "fragment"
    }
   },
   "outputs": [
    {
     "data": {
      "text/plain": [
       "array([[<AxesSubplot:>, <AxesSubplot:>, <AxesSubplot:>],\n",
       "       [<AxesSubplot:>, <AxesSubplot:>, <AxesSubplot:>]], dtype=object)"
      ]
     },
     "execution_count": 105,
     "metadata": {},
     "output_type": "execute_result"
    }
   ],
   "source": [
    "axes"
   ]
  },
  {
   "cell_type": "code",
   "execution_count": 106,
   "metadata": {
    "slideshow": {
     "slide_type": "fragment"
    }
   },
   "outputs": [
    {
     "data": {
      "text/plain": [
       "[<matplotlib.lines.Line2D at 0x26b2ed818b0>]"
      ]
     },
     "execution_count": 106,
     "metadata": {},
     "output_type": "execute_result"
    }
   ],
   "source": [
    "axes[1,1].plot(np.arange(10))"
   ]
  },
  {
   "cell_type": "code",
   "execution_count": 107,
   "metadata": {
    "slideshow": {
     "slide_type": "fragment"
    }
   },
   "outputs": [],
   "source": [
    "plt.close(\"all\")"
   ]
  },
  {
   "cell_type": "markdown",
   "metadata": {
    "slideshow": {
     "slide_type": "slide"
    }
   },
   "source": [
    "### 2.5.2 Colors, Markers, and Line Styles\n",
    "* Line plots can additionally have markers to highlight the actual data points\n",
    "* The marker can be part of the style string, which must have color followed by marker type and line style"
   ]
  },
  {
   "cell_type": "code",
   "execution_count": 109,
   "metadata": {
    "slideshow": {
     "slide_type": "subslide"
    }
   },
   "outputs": [
    {
     "data": {
      "application/javascript": [
       "/* Put everything inside the global mpl namespace */\n",
       "/* global mpl */\n",
       "window.mpl = {};\n",
       "\n",
       "mpl.get_websocket_type = function () {\n",
       "    if (typeof WebSocket !== 'undefined') {\n",
       "        return WebSocket;\n",
       "    } else if (typeof MozWebSocket !== 'undefined') {\n",
       "        return MozWebSocket;\n",
       "    } else {\n",
       "        alert(\n",
       "            'Your browser does not have WebSocket support. ' +\n",
       "                'Please try Chrome, Safari or Firefox ≥ 6. ' +\n",
       "                'Firefox 4 and 5 are also supported but you ' +\n",
       "                'have to enable WebSockets in about:config.'\n",
       "        );\n",
       "    }\n",
       "};\n",
       "\n",
       "mpl.figure = function (figure_id, websocket, ondownload, parent_element) {\n",
       "    this.id = figure_id;\n",
       "\n",
       "    this.ws = websocket;\n",
       "\n",
       "    this.supports_binary = this.ws.binaryType !== undefined;\n",
       "\n",
       "    if (!this.supports_binary) {\n",
       "        var warnings = document.getElementById('mpl-warnings');\n",
       "        if (warnings) {\n",
       "            warnings.style.display = 'block';\n",
       "            warnings.textContent =\n",
       "                'This browser does not support binary websocket messages. ' +\n",
       "                'Performance may be slow.';\n",
       "        }\n",
       "    }\n",
       "\n",
       "    this.imageObj = new Image();\n",
       "\n",
       "    this.context = undefined;\n",
       "    this.message = undefined;\n",
       "    this.canvas = undefined;\n",
       "    this.rubberband_canvas = undefined;\n",
       "    this.rubberband_context = undefined;\n",
       "    this.format_dropdown = undefined;\n",
       "\n",
       "    this.image_mode = 'full';\n",
       "\n",
       "    this.root = document.createElement('div');\n",
       "    this.root.setAttribute('style', 'display: inline-block');\n",
       "    this._root_extra_style(this.root);\n",
       "\n",
       "    parent_element.appendChild(this.root);\n",
       "\n",
       "    this._init_header(this);\n",
       "    this._init_canvas(this);\n",
       "    this._init_toolbar(this);\n",
       "\n",
       "    var fig = this;\n",
       "\n",
       "    this.waiting = false;\n",
       "\n",
       "    this.ws.onopen = function () {\n",
       "        fig.send_message('supports_binary', { value: fig.supports_binary });\n",
       "        fig.send_message('send_image_mode', {});\n",
       "        if (fig.ratio !== 1) {\n",
       "            fig.send_message('set_dpi_ratio', { dpi_ratio: fig.ratio });\n",
       "        }\n",
       "        fig.send_message('refresh', {});\n",
       "    };\n",
       "\n",
       "    this.imageObj.onload = function () {\n",
       "        if (fig.image_mode === 'full') {\n",
       "            // Full images could contain transparency (where diff images\n",
       "            // almost always do), so we need to clear the canvas so that\n",
       "            // there is no ghosting.\n",
       "            fig.context.clearRect(0, 0, fig.canvas.width, fig.canvas.height);\n",
       "        }\n",
       "        fig.context.drawImage(fig.imageObj, 0, 0);\n",
       "    };\n",
       "\n",
       "    this.imageObj.onunload = function () {\n",
       "        fig.ws.close();\n",
       "    };\n",
       "\n",
       "    this.ws.onmessage = this._make_on_message_function(this);\n",
       "\n",
       "    this.ondownload = ondownload;\n",
       "};\n",
       "\n",
       "mpl.figure.prototype._init_header = function () {\n",
       "    var titlebar = document.createElement('div');\n",
       "    titlebar.classList =\n",
       "        'ui-dialog-titlebar ui-widget-header ui-corner-all ui-helper-clearfix';\n",
       "    var titletext = document.createElement('div');\n",
       "    titletext.classList = 'ui-dialog-title';\n",
       "    titletext.setAttribute(\n",
       "        'style',\n",
       "        'width: 100%; text-align: center; padding: 3px;'\n",
       "    );\n",
       "    titlebar.appendChild(titletext);\n",
       "    this.root.appendChild(titlebar);\n",
       "    this.header = titletext;\n",
       "};\n",
       "\n",
       "mpl.figure.prototype._canvas_extra_style = function (_canvas_div) {};\n",
       "\n",
       "mpl.figure.prototype._root_extra_style = function (_canvas_div) {};\n",
       "\n",
       "mpl.figure.prototype._init_canvas = function () {\n",
       "    var fig = this;\n",
       "\n",
       "    var canvas_div = (this.canvas_div = document.createElement('div'));\n",
       "    canvas_div.setAttribute(\n",
       "        'style',\n",
       "        'border: 1px solid #ddd;' +\n",
       "            'box-sizing: content-box;' +\n",
       "            'clear: both;' +\n",
       "            'min-height: 1px;' +\n",
       "            'min-width: 1px;' +\n",
       "            'outline: 0;' +\n",
       "            'overflow: hidden;' +\n",
       "            'position: relative;' +\n",
       "            'resize: both;'\n",
       "    );\n",
       "\n",
       "    function on_keyboard_event_closure(name) {\n",
       "        return function (event) {\n",
       "            return fig.key_event(event, name);\n",
       "        };\n",
       "    }\n",
       "\n",
       "    canvas_div.addEventListener(\n",
       "        'keydown',\n",
       "        on_keyboard_event_closure('key_press')\n",
       "    );\n",
       "    canvas_div.addEventListener(\n",
       "        'keyup',\n",
       "        on_keyboard_event_closure('key_release')\n",
       "    );\n",
       "\n",
       "    this._canvas_extra_style(canvas_div);\n",
       "    this.root.appendChild(canvas_div);\n",
       "\n",
       "    var canvas = (this.canvas = document.createElement('canvas'));\n",
       "    canvas.classList.add('mpl-canvas');\n",
       "    canvas.setAttribute('style', 'box-sizing: content-box;');\n",
       "\n",
       "    this.context = canvas.getContext('2d');\n",
       "\n",
       "    var backingStore =\n",
       "        this.context.backingStorePixelRatio ||\n",
       "        this.context.webkitBackingStorePixelRatio ||\n",
       "        this.context.mozBackingStorePixelRatio ||\n",
       "        this.context.msBackingStorePixelRatio ||\n",
       "        this.context.oBackingStorePixelRatio ||\n",
       "        this.context.backingStorePixelRatio ||\n",
       "        1;\n",
       "\n",
       "    this.ratio = (window.devicePixelRatio || 1) / backingStore;\n",
       "\n",
       "    var rubberband_canvas = (this.rubberband_canvas = document.createElement(\n",
       "        'canvas'\n",
       "    ));\n",
       "    rubberband_canvas.setAttribute(\n",
       "        'style',\n",
       "        'box-sizing: content-box; position: absolute; left: 0; top: 0; z-index: 1;'\n",
       "    );\n",
       "\n",
       "    // Apply a ponyfill if ResizeObserver is not implemented by browser.\n",
       "    if (this.ResizeObserver === undefined) {\n",
       "        if (window.ResizeObserver !== undefined) {\n",
       "            this.ResizeObserver = window.ResizeObserver;\n",
       "        } else {\n",
       "            var obs = _JSXTOOLS_RESIZE_OBSERVER({});\n",
       "            this.ResizeObserver = obs.ResizeObserver;\n",
       "        }\n",
       "    }\n",
       "\n",
       "    this.resizeObserverInstance = new this.ResizeObserver(function (entries) {\n",
       "        var nentries = entries.length;\n",
       "        for (var i = 0; i < nentries; i++) {\n",
       "            var entry = entries[i];\n",
       "            var width, height;\n",
       "            if (entry.contentBoxSize) {\n",
       "                if (entry.contentBoxSize instanceof Array) {\n",
       "                    // Chrome 84 implements new version of spec.\n",
       "                    width = entry.contentBoxSize[0].inlineSize;\n",
       "                    height = entry.contentBoxSize[0].blockSize;\n",
       "                } else {\n",
       "                    // Firefox implements old version of spec.\n",
       "                    width = entry.contentBoxSize.inlineSize;\n",
       "                    height = entry.contentBoxSize.blockSize;\n",
       "                }\n",
       "            } else {\n",
       "                // Chrome <84 implements even older version of spec.\n",
       "                width = entry.contentRect.width;\n",
       "                height = entry.contentRect.height;\n",
       "            }\n",
       "\n",
       "            // Keep the size of the canvas and rubber band canvas in sync with\n",
       "            // the canvas container.\n",
       "            if (entry.devicePixelContentBoxSize) {\n",
       "                // Chrome 84 implements new version of spec.\n",
       "                canvas.setAttribute(\n",
       "                    'width',\n",
       "                    entry.devicePixelContentBoxSize[0].inlineSize\n",
       "                );\n",
       "                canvas.setAttribute(\n",
       "                    'height',\n",
       "                    entry.devicePixelContentBoxSize[0].blockSize\n",
       "                );\n",
       "            } else {\n",
       "                canvas.setAttribute('width', width * fig.ratio);\n",
       "                canvas.setAttribute('height', height * fig.ratio);\n",
       "            }\n",
       "            canvas.setAttribute(\n",
       "                'style',\n",
       "                'width: ' + width + 'px; height: ' + height + 'px;'\n",
       "            );\n",
       "\n",
       "            rubberband_canvas.setAttribute('width', width);\n",
       "            rubberband_canvas.setAttribute('height', height);\n",
       "\n",
       "            // And update the size in Python. We ignore the initial 0/0 size\n",
       "            // that occurs as the element is placed into the DOM, which should\n",
       "            // otherwise not happen due to the minimum size styling.\n",
       "            if (fig.ws.readyState == 1 && width != 0 && height != 0) {\n",
       "                fig.request_resize(width, height);\n",
       "            }\n",
       "        }\n",
       "    });\n",
       "    this.resizeObserverInstance.observe(canvas_div);\n",
       "\n",
       "    function on_mouse_event_closure(name) {\n",
       "        return function (event) {\n",
       "            return fig.mouse_event(event, name);\n",
       "        };\n",
       "    }\n",
       "\n",
       "    rubberband_canvas.addEventListener(\n",
       "        'mousedown',\n",
       "        on_mouse_event_closure('button_press')\n",
       "    );\n",
       "    rubberband_canvas.addEventListener(\n",
       "        'mouseup',\n",
       "        on_mouse_event_closure('button_release')\n",
       "    );\n",
       "    rubberband_canvas.addEventListener(\n",
       "        'dblclick',\n",
       "        on_mouse_event_closure('dblclick')\n",
       "    );\n",
       "    // Throttle sequential mouse events to 1 every 20ms.\n",
       "    rubberband_canvas.addEventListener(\n",
       "        'mousemove',\n",
       "        on_mouse_event_closure('motion_notify')\n",
       "    );\n",
       "\n",
       "    rubberband_canvas.addEventListener(\n",
       "        'mouseenter',\n",
       "        on_mouse_event_closure('figure_enter')\n",
       "    );\n",
       "    rubberband_canvas.addEventListener(\n",
       "        'mouseleave',\n",
       "        on_mouse_event_closure('figure_leave')\n",
       "    );\n",
       "\n",
       "    canvas_div.addEventListener('wheel', function (event) {\n",
       "        if (event.deltaY < 0) {\n",
       "            event.step = 1;\n",
       "        } else {\n",
       "            event.step = -1;\n",
       "        }\n",
       "        on_mouse_event_closure('scroll')(event);\n",
       "    });\n",
       "\n",
       "    canvas_div.appendChild(canvas);\n",
       "    canvas_div.appendChild(rubberband_canvas);\n",
       "\n",
       "    this.rubberband_context = rubberband_canvas.getContext('2d');\n",
       "    this.rubberband_context.strokeStyle = '#000000';\n",
       "\n",
       "    this._resize_canvas = function (width, height, forward) {\n",
       "        if (forward) {\n",
       "            canvas_div.style.width = width + 'px';\n",
       "            canvas_div.style.height = height + 'px';\n",
       "        }\n",
       "    };\n",
       "\n",
       "    // Disable right mouse context menu.\n",
       "    this.rubberband_canvas.addEventListener('contextmenu', function (_e) {\n",
       "        event.preventDefault();\n",
       "        return false;\n",
       "    });\n",
       "\n",
       "    function set_focus() {\n",
       "        canvas.focus();\n",
       "        canvas_div.focus();\n",
       "    }\n",
       "\n",
       "    window.setTimeout(set_focus, 100);\n",
       "};\n",
       "\n",
       "mpl.figure.prototype._init_toolbar = function () {\n",
       "    var fig = this;\n",
       "\n",
       "    var toolbar = document.createElement('div');\n",
       "    toolbar.classList = 'mpl-toolbar';\n",
       "    this.root.appendChild(toolbar);\n",
       "\n",
       "    function on_click_closure(name) {\n",
       "        return function (_event) {\n",
       "            return fig.toolbar_button_onclick(name);\n",
       "        };\n",
       "    }\n",
       "\n",
       "    function on_mouseover_closure(tooltip) {\n",
       "        return function (event) {\n",
       "            if (!event.currentTarget.disabled) {\n",
       "                return fig.toolbar_button_onmouseover(tooltip);\n",
       "            }\n",
       "        };\n",
       "    }\n",
       "\n",
       "    fig.buttons = {};\n",
       "    var buttonGroup = document.createElement('div');\n",
       "    buttonGroup.classList = 'mpl-button-group';\n",
       "    for (var toolbar_ind in mpl.toolbar_items) {\n",
       "        var name = mpl.toolbar_items[toolbar_ind][0];\n",
       "        var tooltip = mpl.toolbar_items[toolbar_ind][1];\n",
       "        var image = mpl.toolbar_items[toolbar_ind][2];\n",
       "        var method_name = mpl.toolbar_items[toolbar_ind][3];\n",
       "\n",
       "        if (!name) {\n",
       "            /* Instead of a spacer, we start a new button group. */\n",
       "            if (buttonGroup.hasChildNodes()) {\n",
       "                toolbar.appendChild(buttonGroup);\n",
       "            }\n",
       "            buttonGroup = document.createElement('div');\n",
       "            buttonGroup.classList = 'mpl-button-group';\n",
       "            continue;\n",
       "        }\n",
       "\n",
       "        var button = (fig.buttons[name] = document.createElement('button'));\n",
       "        button.classList = 'mpl-widget';\n",
       "        button.setAttribute('role', 'button');\n",
       "        button.setAttribute('aria-disabled', 'false');\n",
       "        button.addEventListener('click', on_click_closure(method_name));\n",
       "        button.addEventListener('mouseover', on_mouseover_closure(tooltip));\n",
       "\n",
       "        var icon_img = document.createElement('img');\n",
       "        icon_img.src = '_images/' + image + '.png';\n",
       "        icon_img.srcset = '_images/' + image + '_large.png 2x';\n",
       "        icon_img.alt = tooltip;\n",
       "        button.appendChild(icon_img);\n",
       "\n",
       "        buttonGroup.appendChild(button);\n",
       "    }\n",
       "\n",
       "    if (buttonGroup.hasChildNodes()) {\n",
       "        toolbar.appendChild(buttonGroup);\n",
       "    }\n",
       "\n",
       "    var fmt_picker = document.createElement('select');\n",
       "    fmt_picker.classList = 'mpl-widget';\n",
       "    toolbar.appendChild(fmt_picker);\n",
       "    this.format_dropdown = fmt_picker;\n",
       "\n",
       "    for (var ind in mpl.extensions) {\n",
       "        var fmt = mpl.extensions[ind];\n",
       "        var option = document.createElement('option');\n",
       "        option.selected = fmt === mpl.default_extension;\n",
       "        option.innerHTML = fmt;\n",
       "        fmt_picker.appendChild(option);\n",
       "    }\n",
       "\n",
       "    var status_bar = document.createElement('span');\n",
       "    status_bar.classList = 'mpl-message';\n",
       "    toolbar.appendChild(status_bar);\n",
       "    this.message = status_bar;\n",
       "};\n",
       "\n",
       "mpl.figure.prototype.request_resize = function (x_pixels, y_pixels) {\n",
       "    // Request matplotlib to resize the figure. Matplotlib will then trigger a resize in the client,\n",
       "    // which will in turn request a refresh of the image.\n",
       "    this.send_message('resize', { width: x_pixels, height: y_pixels });\n",
       "};\n",
       "\n",
       "mpl.figure.prototype.send_message = function (type, properties) {\n",
       "    properties['type'] = type;\n",
       "    properties['figure_id'] = this.id;\n",
       "    this.ws.send(JSON.stringify(properties));\n",
       "};\n",
       "\n",
       "mpl.figure.prototype.send_draw_message = function () {\n",
       "    if (!this.waiting) {\n",
       "        this.waiting = true;\n",
       "        this.ws.send(JSON.stringify({ type: 'draw', figure_id: this.id }));\n",
       "    }\n",
       "};\n",
       "\n",
       "mpl.figure.prototype.handle_save = function (fig, _msg) {\n",
       "    var format_dropdown = fig.format_dropdown;\n",
       "    var format = format_dropdown.options[format_dropdown.selectedIndex].value;\n",
       "    fig.ondownload(fig, format);\n",
       "};\n",
       "\n",
       "mpl.figure.prototype.handle_resize = function (fig, msg) {\n",
       "    var size = msg['size'];\n",
       "    if (size[0] !== fig.canvas.width || size[1] !== fig.canvas.height) {\n",
       "        fig._resize_canvas(size[0], size[1], msg['forward']);\n",
       "        fig.send_message('refresh', {});\n",
       "    }\n",
       "};\n",
       "\n",
       "mpl.figure.prototype.handle_rubberband = function (fig, msg) {\n",
       "    var x0 = msg['x0'] / fig.ratio;\n",
       "    var y0 = (fig.canvas.height - msg['y0']) / fig.ratio;\n",
       "    var x1 = msg['x1'] / fig.ratio;\n",
       "    var y1 = (fig.canvas.height - msg['y1']) / fig.ratio;\n",
       "    x0 = Math.floor(x0) + 0.5;\n",
       "    y0 = Math.floor(y0) + 0.5;\n",
       "    x1 = Math.floor(x1) + 0.5;\n",
       "    y1 = Math.floor(y1) + 0.5;\n",
       "    var min_x = Math.min(x0, x1);\n",
       "    var min_y = Math.min(y0, y1);\n",
       "    var width = Math.abs(x1 - x0);\n",
       "    var height = Math.abs(y1 - y0);\n",
       "\n",
       "    fig.rubberband_context.clearRect(\n",
       "        0,\n",
       "        0,\n",
       "        fig.canvas.width / fig.ratio,\n",
       "        fig.canvas.height / fig.ratio\n",
       "    );\n",
       "\n",
       "    fig.rubberband_context.strokeRect(min_x, min_y, width, height);\n",
       "};\n",
       "\n",
       "mpl.figure.prototype.handle_figure_label = function (fig, msg) {\n",
       "    // Updates the figure title.\n",
       "    fig.header.textContent = msg['label'];\n",
       "};\n",
       "\n",
       "mpl.figure.prototype.handle_cursor = function (fig, msg) {\n",
       "    var cursor = msg['cursor'];\n",
       "    switch (cursor) {\n",
       "        case 0:\n",
       "            cursor = 'pointer';\n",
       "            break;\n",
       "        case 1:\n",
       "            cursor = 'default';\n",
       "            break;\n",
       "        case 2:\n",
       "            cursor = 'crosshair';\n",
       "            break;\n",
       "        case 3:\n",
       "            cursor = 'move';\n",
       "            break;\n",
       "    }\n",
       "    fig.rubberband_canvas.style.cursor = cursor;\n",
       "};\n",
       "\n",
       "mpl.figure.prototype.handle_message = function (fig, msg) {\n",
       "    fig.message.textContent = msg['message'];\n",
       "};\n",
       "\n",
       "mpl.figure.prototype.handle_draw = function (fig, _msg) {\n",
       "    // Request the server to send over a new figure.\n",
       "    fig.send_draw_message();\n",
       "};\n",
       "\n",
       "mpl.figure.prototype.handle_image_mode = function (fig, msg) {\n",
       "    fig.image_mode = msg['mode'];\n",
       "};\n",
       "\n",
       "mpl.figure.prototype.handle_history_buttons = function (fig, msg) {\n",
       "    for (var key in msg) {\n",
       "        if (!(key in fig.buttons)) {\n",
       "            continue;\n",
       "        }\n",
       "        fig.buttons[key].disabled = !msg[key];\n",
       "        fig.buttons[key].setAttribute('aria-disabled', !msg[key]);\n",
       "    }\n",
       "};\n",
       "\n",
       "mpl.figure.prototype.handle_navigate_mode = function (fig, msg) {\n",
       "    if (msg['mode'] === 'PAN') {\n",
       "        fig.buttons['Pan'].classList.add('active');\n",
       "        fig.buttons['Zoom'].classList.remove('active');\n",
       "    } else if (msg['mode'] === 'ZOOM') {\n",
       "        fig.buttons['Pan'].classList.remove('active');\n",
       "        fig.buttons['Zoom'].classList.add('active');\n",
       "    } else {\n",
       "        fig.buttons['Pan'].classList.remove('active');\n",
       "        fig.buttons['Zoom'].classList.remove('active');\n",
       "    }\n",
       "};\n",
       "\n",
       "mpl.figure.prototype.updated_canvas_event = function () {\n",
       "    // Called whenever the canvas gets updated.\n",
       "    this.send_message('ack', {});\n",
       "};\n",
       "\n",
       "// A function to construct a web socket function for onmessage handling.\n",
       "// Called in the figure constructor.\n",
       "mpl.figure.prototype._make_on_message_function = function (fig) {\n",
       "    return function socket_on_message(evt) {\n",
       "        if (evt.data instanceof Blob) {\n",
       "            var img = evt.data;\n",
       "            if (img.type !== 'image/png') {\n",
       "                /* FIXME: We get \"Resource interpreted as Image but\n",
       "                 * transferred with MIME type text/plain:\" errors on\n",
       "                 * Chrome.  But how to set the MIME type?  It doesn't seem\n",
       "                 * to be part of the websocket stream */\n",
       "                img.type = 'image/png';\n",
       "            }\n",
       "\n",
       "            /* Free the memory for the previous frames */\n",
       "            if (fig.imageObj.src) {\n",
       "                (window.URL || window.webkitURL).revokeObjectURL(\n",
       "                    fig.imageObj.src\n",
       "                );\n",
       "            }\n",
       "\n",
       "            fig.imageObj.src = (window.URL || window.webkitURL).createObjectURL(\n",
       "                img\n",
       "            );\n",
       "            fig.updated_canvas_event();\n",
       "            fig.waiting = false;\n",
       "            return;\n",
       "        } else if (\n",
       "            typeof evt.data === 'string' &&\n",
       "            evt.data.slice(0, 21) === 'data:image/png;base64'\n",
       "        ) {\n",
       "            fig.imageObj.src = evt.data;\n",
       "            fig.updated_canvas_event();\n",
       "            fig.waiting = false;\n",
       "            return;\n",
       "        }\n",
       "\n",
       "        var msg = JSON.parse(evt.data);\n",
       "        var msg_type = msg['type'];\n",
       "\n",
       "        // Call the  \"handle_{type}\" callback, which takes\n",
       "        // the figure and JSON message as its only arguments.\n",
       "        try {\n",
       "            var callback = fig['handle_' + msg_type];\n",
       "        } catch (e) {\n",
       "            console.log(\n",
       "                \"No handler for the '\" + msg_type + \"' message type: \",\n",
       "                msg\n",
       "            );\n",
       "            return;\n",
       "        }\n",
       "\n",
       "        if (callback) {\n",
       "            try {\n",
       "                // console.log(\"Handling '\" + msg_type + \"' message: \", msg);\n",
       "                callback(fig, msg);\n",
       "            } catch (e) {\n",
       "                console.log(\n",
       "                    \"Exception inside the 'handler_\" + msg_type + \"' callback:\",\n",
       "                    e,\n",
       "                    e.stack,\n",
       "                    msg\n",
       "                );\n",
       "            }\n",
       "        }\n",
       "    };\n",
       "};\n",
       "\n",
       "// from http://stackoverflow.com/questions/1114465/getting-mouse-location-in-canvas\n",
       "mpl.findpos = function (e) {\n",
       "    //this section is from http://www.quirksmode.org/js/events_properties.html\n",
       "    var targ;\n",
       "    if (!e) {\n",
       "        e = window.event;\n",
       "    }\n",
       "    if (e.target) {\n",
       "        targ = e.target;\n",
       "    } else if (e.srcElement) {\n",
       "        targ = e.srcElement;\n",
       "    }\n",
       "    if (targ.nodeType === 3) {\n",
       "        // defeat Safari bug\n",
       "        targ = targ.parentNode;\n",
       "    }\n",
       "\n",
       "    // pageX,Y are the mouse positions relative to the document\n",
       "    var boundingRect = targ.getBoundingClientRect();\n",
       "    var x = e.pageX - (boundingRect.left + document.body.scrollLeft);\n",
       "    var y = e.pageY - (boundingRect.top + document.body.scrollTop);\n",
       "\n",
       "    return { x: x, y: y };\n",
       "};\n",
       "\n",
       "/*\n",
       " * return a copy of an object with only non-object keys\n",
       " * we need this to avoid circular references\n",
       " * http://stackoverflow.com/a/24161582/3208463\n",
       " */\n",
       "function simpleKeys(original) {\n",
       "    return Object.keys(original).reduce(function (obj, key) {\n",
       "        if (typeof original[key] !== 'object') {\n",
       "            obj[key] = original[key];\n",
       "        }\n",
       "        return obj;\n",
       "    }, {});\n",
       "}\n",
       "\n",
       "mpl.figure.prototype.mouse_event = function (event, name) {\n",
       "    var canvas_pos = mpl.findpos(event);\n",
       "\n",
       "    if (name === 'button_press') {\n",
       "        this.canvas.focus();\n",
       "        this.canvas_div.focus();\n",
       "    }\n",
       "\n",
       "    var x = canvas_pos.x * this.ratio;\n",
       "    var y = canvas_pos.y * this.ratio;\n",
       "\n",
       "    this.send_message(name, {\n",
       "        x: x,\n",
       "        y: y,\n",
       "        button: event.button,\n",
       "        step: event.step,\n",
       "        guiEvent: simpleKeys(event),\n",
       "    });\n",
       "\n",
       "    /* This prevents the web browser from automatically changing to\n",
       "     * the text insertion cursor when the button is pressed.  We want\n",
       "     * to control all of the cursor setting manually through the\n",
       "     * 'cursor' event from matplotlib */\n",
       "    event.preventDefault();\n",
       "    return false;\n",
       "};\n",
       "\n",
       "mpl.figure.prototype._key_event_extra = function (_event, _name) {\n",
       "    // Handle any extra behaviour associated with a key event\n",
       "};\n",
       "\n",
       "mpl.figure.prototype.key_event = function (event, name) {\n",
       "    // Prevent repeat events\n",
       "    if (name === 'key_press') {\n",
       "        if (event.key === this._key) {\n",
       "            return;\n",
       "        } else {\n",
       "            this._key = event.key;\n",
       "        }\n",
       "    }\n",
       "    if (name === 'key_release') {\n",
       "        this._key = null;\n",
       "    }\n",
       "\n",
       "    var value = '';\n",
       "    if (event.ctrlKey && event.key !== 'Control') {\n",
       "        value += 'ctrl+';\n",
       "    }\n",
       "    else if (event.altKey && event.key !== 'Alt') {\n",
       "        value += 'alt+';\n",
       "    }\n",
       "    else if (event.shiftKey && event.key !== 'Shift') {\n",
       "        value += 'shift+';\n",
       "    }\n",
       "\n",
       "    value += 'k' + event.key;\n",
       "\n",
       "    this._key_event_extra(event, name);\n",
       "\n",
       "    this.send_message(name, { key: value, guiEvent: simpleKeys(event) });\n",
       "    return false;\n",
       "};\n",
       "\n",
       "mpl.figure.prototype.toolbar_button_onclick = function (name) {\n",
       "    if (name === 'download') {\n",
       "        this.handle_save(this, null);\n",
       "    } else {\n",
       "        this.send_message('toolbar_button', { name: name });\n",
       "    }\n",
       "};\n",
       "\n",
       "mpl.figure.prototype.toolbar_button_onmouseover = function (tooltip) {\n",
       "    this.message.textContent = tooltip;\n",
       "};\n",
       "\n",
       "///////////////// REMAINING CONTENT GENERATED BY embed_js.py /////////////////\n",
       "// prettier-ignore\n",
       "var _JSXTOOLS_RESIZE_OBSERVER=function(A){var t,i=new WeakMap,n=new WeakMap,a=new WeakMap,r=new WeakMap,o=new Set;function s(e){if(!(this instanceof s))throw new TypeError(\"Constructor requires 'new' operator\");i.set(this,e)}function h(){throw new TypeError(\"Function is not a constructor\")}function c(e,t,i,n){e=0 in arguments?Number(arguments[0]):0,t=1 in arguments?Number(arguments[1]):0,i=2 in arguments?Number(arguments[2]):0,n=3 in arguments?Number(arguments[3]):0,this.right=(this.x=this.left=e)+(this.width=i),this.bottom=(this.y=this.top=t)+(this.height=n),Object.freeze(this)}function d(){t=requestAnimationFrame(d);var s=new WeakMap,p=new Set;o.forEach((function(t){r.get(t).forEach((function(i){var r=t instanceof window.SVGElement,o=a.get(t),d=r?0:parseFloat(o.paddingTop),f=r?0:parseFloat(o.paddingRight),l=r?0:parseFloat(o.paddingBottom),u=r?0:parseFloat(o.paddingLeft),g=r?0:parseFloat(o.borderTopWidth),m=r?0:parseFloat(o.borderRightWidth),w=r?0:parseFloat(o.borderBottomWidth),b=u+f,F=d+l,v=(r?0:parseFloat(o.borderLeftWidth))+m,W=g+w,y=r?0:t.offsetHeight-W-t.clientHeight,E=r?0:t.offsetWidth-v-t.clientWidth,R=b+v,z=F+W,M=r?t.width:parseFloat(o.width)-R-E,O=r?t.height:parseFloat(o.height)-z-y;if(n.has(t)){var k=n.get(t);if(k[0]===M&&k[1]===O)return}n.set(t,[M,O]);var S=Object.create(h.prototype);S.target=t,S.contentRect=new c(u,d,M,O),s.has(i)||(s.set(i,[]),p.add(i)),s.get(i).push(S)}))})),p.forEach((function(e){i.get(e).call(e,s.get(e),e)}))}return s.prototype.observe=function(i){if(i instanceof window.Element){r.has(i)||(r.set(i,new Set),o.add(i),a.set(i,window.getComputedStyle(i)));var n=r.get(i);n.has(this)||n.add(this),cancelAnimationFrame(t),t=requestAnimationFrame(d)}},s.prototype.unobserve=function(i){if(i instanceof window.Element&&r.has(i)){var n=r.get(i);n.has(this)&&(n.delete(this),n.size||(r.delete(i),o.delete(i))),n.size||r.delete(i),o.size||cancelAnimationFrame(t)}},A.DOMRectReadOnly=c,A.ResizeObserver=s,A.ResizeObserverEntry=h,A}; // eslint-disable-line\n",
       "mpl.toolbar_items = [[\"Home\", \"Reset original view\", \"fa fa-home icon-home\", \"home\"], [\"Back\", \"Back to previous view\", \"fa fa-arrow-left icon-arrow-left\", \"back\"], [\"Forward\", \"Forward to next view\", \"fa fa-arrow-right icon-arrow-right\", \"forward\"], [\"\", \"\", \"\", \"\"], [\"Pan\", \"Left button pans, Right button zooms\\nx/y fixes axis, CTRL fixes aspect\", \"fa fa-arrows icon-move\", \"pan\"], [\"Zoom\", \"Zoom to rectangle\\nx/y fixes axis, CTRL fixes aspect\", \"fa fa-square-o icon-check-empty\", \"zoom\"], [\"\", \"\", \"\", \"\"], [\"Download\", \"Download plot\", \"fa fa-floppy-o icon-save\", \"download\"]];\n",
       "\n",
       "mpl.extensions = [\"eps\", \"jpeg\", \"pgf\", \"pdf\", \"png\", \"ps\", \"raw\", \"svg\", \"tif\"];\n",
       "\n",
       "mpl.default_extension = \"png\";/* global mpl */\n",
       "\n",
       "var comm_websocket_adapter = function (comm) {\n",
       "    // Create a \"websocket\"-like object which calls the given IPython comm\n",
       "    // object with the appropriate methods. Currently this is a non binary\n",
       "    // socket, so there is still some room for performance tuning.\n",
       "    var ws = {};\n",
       "\n",
       "    ws.binaryType = comm.kernel.ws.binaryType;\n",
       "    ws.readyState = comm.kernel.ws.readyState;\n",
       "    function updateReadyState(_event) {\n",
       "        if (comm.kernel.ws) {\n",
       "            ws.readyState = comm.kernel.ws.readyState;\n",
       "        } else {\n",
       "            ws.readyState = 3; // Closed state.\n",
       "        }\n",
       "    }\n",
       "    comm.kernel.ws.addEventListener('open', updateReadyState);\n",
       "    comm.kernel.ws.addEventListener('close', updateReadyState);\n",
       "    comm.kernel.ws.addEventListener('error', updateReadyState);\n",
       "\n",
       "    ws.close = function () {\n",
       "        comm.close();\n",
       "    };\n",
       "    ws.send = function (m) {\n",
       "        //console.log('sending', m);\n",
       "        comm.send(m);\n",
       "    };\n",
       "    // Register the callback with on_msg.\n",
       "    comm.on_msg(function (msg) {\n",
       "        //console.log('receiving', msg['content']['data'], msg);\n",
       "        var data = msg['content']['data'];\n",
       "        if (data['blob'] !== undefined) {\n",
       "            data = {\n",
       "                data: new Blob(msg['buffers'], { type: data['blob'] }),\n",
       "            };\n",
       "        }\n",
       "        // Pass the mpl event to the overridden (by mpl) onmessage function.\n",
       "        ws.onmessage(data);\n",
       "    });\n",
       "    return ws;\n",
       "};\n",
       "\n",
       "mpl.mpl_figure_comm = function (comm, msg) {\n",
       "    // This is the function which gets called when the mpl process\n",
       "    // starts-up an IPython Comm through the \"matplotlib\" channel.\n",
       "\n",
       "    var id = msg.content.data.id;\n",
       "    // Get hold of the div created by the display call when the Comm\n",
       "    // socket was opened in Python.\n",
       "    var element = document.getElementById(id);\n",
       "    var ws_proxy = comm_websocket_adapter(comm);\n",
       "\n",
       "    function ondownload(figure, _format) {\n",
       "        window.open(figure.canvas.toDataURL());\n",
       "    }\n",
       "\n",
       "    var fig = new mpl.figure(id, ws_proxy, ondownload, element);\n",
       "\n",
       "    // Call onopen now - mpl needs it, as it is assuming we've passed it a real\n",
       "    // web socket which is closed, not our websocket->open comm proxy.\n",
       "    ws_proxy.onopen();\n",
       "\n",
       "    fig.parent_element = element;\n",
       "    fig.cell_info = mpl.find_output_cell(\"<div id='\" + id + \"'></div>\");\n",
       "    if (!fig.cell_info) {\n",
       "        console.error('Failed to find cell for figure', id, fig);\n",
       "        return;\n",
       "    }\n",
       "    fig.cell_info[0].output_area.element.on(\n",
       "        'cleared',\n",
       "        { fig: fig },\n",
       "        fig._remove_fig_handler\n",
       "    );\n",
       "};\n",
       "\n",
       "mpl.figure.prototype.handle_close = function (fig, msg) {\n",
       "    var width = fig.canvas.width / fig.ratio;\n",
       "    fig.cell_info[0].output_area.element.off(\n",
       "        'cleared',\n",
       "        fig._remove_fig_handler\n",
       "    );\n",
       "    fig.resizeObserverInstance.unobserve(fig.canvas_div);\n",
       "\n",
       "    // Update the output cell to use the data from the current canvas.\n",
       "    fig.push_to_output();\n",
       "    var dataURL = fig.canvas.toDataURL();\n",
       "    // Re-enable the keyboard manager in IPython - without this line, in FF,\n",
       "    // the notebook keyboard shortcuts fail.\n",
       "    IPython.keyboard_manager.enable();\n",
       "    fig.parent_element.innerHTML =\n",
       "        '<img src=\"' + dataURL + '\" width=\"' + width + '\">';\n",
       "    fig.close_ws(fig, msg);\n",
       "};\n",
       "\n",
       "mpl.figure.prototype.close_ws = function (fig, msg) {\n",
       "    fig.send_message('closing', msg);\n",
       "    // fig.ws.close()\n",
       "};\n",
       "\n",
       "mpl.figure.prototype.push_to_output = function (_remove_interactive) {\n",
       "    // Turn the data on the canvas into data in the output cell.\n",
       "    var width = this.canvas.width / this.ratio;\n",
       "    var dataURL = this.canvas.toDataURL();\n",
       "    this.cell_info[1]['text/html'] =\n",
       "        '<img src=\"' + dataURL + '\" width=\"' + width + '\">';\n",
       "};\n",
       "\n",
       "mpl.figure.prototype.updated_canvas_event = function () {\n",
       "    // Tell IPython that the notebook contents must change.\n",
       "    IPython.notebook.set_dirty(true);\n",
       "    this.send_message('ack', {});\n",
       "    var fig = this;\n",
       "    // Wait a second, then push the new image to the DOM so\n",
       "    // that it is saved nicely (might be nice to debounce this).\n",
       "    setTimeout(function () {\n",
       "        fig.push_to_output();\n",
       "    }, 1000);\n",
       "};\n",
       "\n",
       "mpl.figure.prototype._init_toolbar = function () {\n",
       "    var fig = this;\n",
       "\n",
       "    var toolbar = document.createElement('div');\n",
       "    toolbar.classList = 'btn-toolbar';\n",
       "    this.root.appendChild(toolbar);\n",
       "\n",
       "    function on_click_closure(name) {\n",
       "        return function (_event) {\n",
       "            return fig.toolbar_button_onclick(name);\n",
       "        };\n",
       "    }\n",
       "\n",
       "    function on_mouseover_closure(tooltip) {\n",
       "        return function (event) {\n",
       "            if (!event.currentTarget.disabled) {\n",
       "                return fig.toolbar_button_onmouseover(tooltip);\n",
       "            }\n",
       "        };\n",
       "    }\n",
       "\n",
       "    fig.buttons = {};\n",
       "    var buttonGroup = document.createElement('div');\n",
       "    buttonGroup.classList = 'btn-group';\n",
       "    var button;\n",
       "    for (var toolbar_ind in mpl.toolbar_items) {\n",
       "        var name = mpl.toolbar_items[toolbar_ind][0];\n",
       "        var tooltip = mpl.toolbar_items[toolbar_ind][1];\n",
       "        var image = mpl.toolbar_items[toolbar_ind][2];\n",
       "        var method_name = mpl.toolbar_items[toolbar_ind][3];\n",
       "\n",
       "        if (!name) {\n",
       "            /* Instead of a spacer, we start a new button group. */\n",
       "            if (buttonGroup.hasChildNodes()) {\n",
       "                toolbar.appendChild(buttonGroup);\n",
       "            }\n",
       "            buttonGroup = document.createElement('div');\n",
       "            buttonGroup.classList = 'btn-group';\n",
       "            continue;\n",
       "        }\n",
       "\n",
       "        button = fig.buttons[name] = document.createElement('button');\n",
       "        button.classList = 'btn btn-default';\n",
       "        button.href = '#';\n",
       "        button.title = name;\n",
       "        button.innerHTML = '<i class=\"fa ' + image + ' fa-lg\"></i>';\n",
       "        button.addEventListener('click', on_click_closure(method_name));\n",
       "        button.addEventListener('mouseover', on_mouseover_closure(tooltip));\n",
       "        buttonGroup.appendChild(button);\n",
       "    }\n",
       "\n",
       "    if (buttonGroup.hasChildNodes()) {\n",
       "        toolbar.appendChild(buttonGroup);\n",
       "    }\n",
       "\n",
       "    // Add the status bar.\n",
       "    var status_bar = document.createElement('span');\n",
       "    status_bar.classList = 'mpl-message pull-right';\n",
       "    toolbar.appendChild(status_bar);\n",
       "    this.message = status_bar;\n",
       "\n",
       "    // Add the close button to the window.\n",
       "    var buttongrp = document.createElement('div');\n",
       "    buttongrp.classList = 'btn-group inline pull-right';\n",
       "    button = document.createElement('button');\n",
       "    button.classList = 'btn btn-mini btn-primary';\n",
       "    button.href = '#';\n",
       "    button.title = 'Stop Interaction';\n",
       "    button.innerHTML = '<i class=\"fa fa-power-off icon-remove icon-large\"></i>';\n",
       "    button.addEventListener('click', function (_evt) {\n",
       "        fig.handle_close(fig, {});\n",
       "    });\n",
       "    button.addEventListener(\n",
       "        'mouseover',\n",
       "        on_mouseover_closure('Stop Interaction')\n",
       "    );\n",
       "    buttongrp.appendChild(button);\n",
       "    var titlebar = this.root.querySelector('.ui-dialog-titlebar');\n",
       "    titlebar.insertBefore(buttongrp, titlebar.firstChild);\n",
       "};\n",
       "\n",
       "mpl.figure.prototype._remove_fig_handler = function (event) {\n",
       "    var fig = event.data.fig;\n",
       "    if (event.target !== this) {\n",
       "        // Ignore bubbled events from children.\n",
       "        return;\n",
       "    }\n",
       "    fig.close_ws(fig, {});\n",
       "};\n",
       "\n",
       "mpl.figure.prototype._root_extra_style = function (el) {\n",
       "    el.style.boxSizing = 'content-box'; // override notebook setting of border-box.\n",
       "};\n",
       "\n",
       "mpl.figure.prototype._canvas_extra_style = function (el) {\n",
       "    // this is important to make the div 'focusable\n",
       "    el.setAttribute('tabindex', 0);\n",
       "    // reach out to IPython and tell the keyboard manager to turn it's self\n",
       "    // off when our div gets focus\n",
       "\n",
       "    // location in version 3\n",
       "    if (IPython.notebook.keyboard_manager) {\n",
       "        IPython.notebook.keyboard_manager.register_events(el);\n",
       "    } else {\n",
       "        // location in version 2\n",
       "        IPython.keyboard_manager.register_events(el);\n",
       "    }\n",
       "};\n",
       "\n",
       "mpl.figure.prototype._key_event_extra = function (event, _name) {\n",
       "    var manager = IPython.notebook.keyboard_manager;\n",
       "    if (!manager) {\n",
       "        manager = IPython.keyboard_manager;\n",
       "    }\n",
       "\n",
       "    // Check for shift+enter\n",
       "    if (event.shiftKey && event.which === 13) {\n",
       "        this.canvas_div.blur();\n",
       "        // select the cell after this one\n",
       "        var index = IPython.notebook.find_cell_index(this.cell_info[0]);\n",
       "        IPython.notebook.select(index + 1);\n",
       "    }\n",
       "};\n",
       "\n",
       "mpl.figure.prototype.handle_save = function (fig, _msg) {\n",
       "    fig.ondownload(fig, null);\n",
       "};\n",
       "\n",
       "mpl.find_output_cell = function (html_output) {\n",
       "    // Return the cell and output element which can be found *uniquely* in the notebook.\n",
       "    // Note - this is a bit hacky, but it is done because the \"notebook_saving.Notebook\"\n",
       "    // IPython event is triggered only after the cells have been serialised, which for\n",
       "    // our purposes (turning an active figure into a static one), is too late.\n",
       "    var cells = IPython.notebook.get_cells();\n",
       "    var ncells = cells.length;\n",
       "    for (var i = 0; i < ncells; i++) {\n",
       "        var cell = cells[i];\n",
       "        if (cell.cell_type === 'code') {\n",
       "            for (var j = 0; j < cell.output_area.outputs.length; j++) {\n",
       "                var data = cell.output_area.outputs[j];\n",
       "                if (data.data) {\n",
       "                    // IPython >= 3 moved mimebundle to data attribute of output\n",
       "                    data = data.data;\n",
       "                }\n",
       "                if (data['text/html'] === html_output) {\n",
       "                    return [cell, data, j];\n",
       "                }\n",
       "            }\n",
       "        }\n",
       "    }\n",
       "};\n",
       "\n",
       "// Register the function which deals with the matplotlib target/channel.\n",
       "// The kernel may be null if the page has been refreshed.\n",
       "if (IPython.notebook.kernel !== null) {\n",
       "    IPython.notebook.kernel.comm_manager.register_target(\n",
       "        'matplotlib',\n",
       "        mpl.mpl_figure_comm\n",
       "    );\n",
       "}\n"
      ],
      "text/plain": [
       "<IPython.core.display.Javascript object>"
      ]
     },
     "metadata": {},
     "output_type": "display_data"
    },
    {
     "data": {
      "text/html": [
       "<img src=\"data:image/png;base64,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\" width=\"432\">"
      ],
      "text/plain": [
       "<IPython.core.display.HTML object>"
      ]
     },
     "metadata": {},
     "output_type": "display_data"
    },
    {
     "data": {
      "text/plain": [
       "[<matplotlib.lines.Line2D at 0x26b2f9a3a60>]"
      ]
     },
     "execution_count": 109,
     "metadata": {},
     "output_type": "execute_result"
    }
   ],
   "source": [
    "plt.plot(np.random.randn(30).cumsum(), 'b*--')\n",
    "#  methods cumsum do not aggregate, instead producing an array of the intermediate results"
   ]
  },
  {
   "cell_type": "code",
   "execution_count": 111,
   "metadata": {
    "slideshow": {
     "slide_type": "slide"
    }
   },
   "outputs": [
    {
     "data": {
      "application/javascript": [
       "/* Put everything inside the global mpl namespace */\n",
       "/* global mpl */\n",
       "window.mpl = {};\n",
       "\n",
       "mpl.get_websocket_type = function () {\n",
       "    if (typeof WebSocket !== 'undefined') {\n",
       "        return WebSocket;\n",
       "    } else if (typeof MozWebSocket !== 'undefined') {\n",
       "        return MozWebSocket;\n",
       "    } else {\n",
       "        alert(\n",
       "            'Your browser does not have WebSocket support. ' +\n",
       "                'Please try Chrome, Safari or Firefox ≥ 6. ' +\n",
       "                'Firefox 4 and 5 are also supported but you ' +\n",
       "                'have to enable WebSockets in about:config.'\n",
       "        );\n",
       "    }\n",
       "};\n",
       "\n",
       "mpl.figure = function (figure_id, websocket, ondownload, parent_element) {\n",
       "    this.id = figure_id;\n",
       "\n",
       "    this.ws = websocket;\n",
       "\n",
       "    this.supports_binary = this.ws.binaryType !== undefined;\n",
       "\n",
       "    if (!this.supports_binary) {\n",
       "        var warnings = document.getElementById('mpl-warnings');\n",
       "        if (warnings) {\n",
       "            warnings.style.display = 'block';\n",
       "            warnings.textContent =\n",
       "                'This browser does not support binary websocket messages. ' +\n",
       "                'Performance may be slow.';\n",
       "        }\n",
       "    }\n",
       "\n",
       "    this.imageObj = new Image();\n",
       "\n",
       "    this.context = undefined;\n",
       "    this.message = undefined;\n",
       "    this.canvas = undefined;\n",
       "    this.rubberband_canvas = undefined;\n",
       "    this.rubberband_context = undefined;\n",
       "    this.format_dropdown = undefined;\n",
       "\n",
       "    this.image_mode = 'full';\n",
       "\n",
       "    this.root = document.createElement('div');\n",
       "    this.root.setAttribute('style', 'display: inline-block');\n",
       "    this._root_extra_style(this.root);\n",
       "\n",
       "    parent_element.appendChild(this.root);\n",
       "\n",
       "    this._init_header(this);\n",
       "    this._init_canvas(this);\n",
       "    this._init_toolbar(this);\n",
       "\n",
       "    var fig = this;\n",
       "\n",
       "    this.waiting = false;\n",
       "\n",
       "    this.ws.onopen = function () {\n",
       "        fig.send_message('supports_binary', { value: fig.supports_binary });\n",
       "        fig.send_message('send_image_mode', {});\n",
       "        if (fig.ratio !== 1) {\n",
       "            fig.send_message('set_dpi_ratio', { dpi_ratio: fig.ratio });\n",
       "        }\n",
       "        fig.send_message('refresh', {});\n",
       "    };\n",
       "\n",
       "    this.imageObj.onload = function () {\n",
       "        if (fig.image_mode === 'full') {\n",
       "            // Full images could contain transparency (where diff images\n",
       "            // almost always do), so we need to clear the canvas so that\n",
       "            // there is no ghosting.\n",
       "            fig.context.clearRect(0, 0, fig.canvas.width, fig.canvas.height);\n",
       "        }\n",
       "        fig.context.drawImage(fig.imageObj, 0, 0);\n",
       "    };\n",
       "\n",
       "    this.imageObj.onunload = function () {\n",
       "        fig.ws.close();\n",
       "    };\n",
       "\n",
       "    this.ws.onmessage = this._make_on_message_function(this);\n",
       "\n",
       "    this.ondownload = ondownload;\n",
       "};\n",
       "\n",
       "mpl.figure.prototype._init_header = function () {\n",
       "    var titlebar = document.createElement('div');\n",
       "    titlebar.classList =\n",
       "        'ui-dialog-titlebar ui-widget-header ui-corner-all ui-helper-clearfix';\n",
       "    var titletext = document.createElement('div');\n",
       "    titletext.classList = 'ui-dialog-title';\n",
       "    titletext.setAttribute(\n",
       "        'style',\n",
       "        'width: 100%; text-align: center; padding: 3px;'\n",
       "    );\n",
       "    titlebar.appendChild(titletext);\n",
       "    this.root.appendChild(titlebar);\n",
       "    this.header = titletext;\n",
       "};\n",
       "\n",
       "mpl.figure.prototype._canvas_extra_style = function (_canvas_div) {};\n",
       "\n",
       "mpl.figure.prototype._root_extra_style = function (_canvas_div) {};\n",
       "\n",
       "mpl.figure.prototype._init_canvas = function () {\n",
       "    var fig = this;\n",
       "\n",
       "    var canvas_div = (this.canvas_div = document.createElement('div'));\n",
       "    canvas_div.setAttribute(\n",
       "        'style',\n",
       "        'border: 1px solid #ddd;' +\n",
       "            'box-sizing: content-box;' +\n",
       "            'clear: both;' +\n",
       "            'min-height: 1px;' +\n",
       "            'min-width: 1px;' +\n",
       "            'outline: 0;' +\n",
       "            'overflow: hidden;' +\n",
       "            'position: relative;' +\n",
       "            'resize: both;'\n",
       "    );\n",
       "\n",
       "    function on_keyboard_event_closure(name) {\n",
       "        return function (event) {\n",
       "            return fig.key_event(event, name);\n",
       "        };\n",
       "    }\n",
       "\n",
       "    canvas_div.addEventListener(\n",
       "        'keydown',\n",
       "        on_keyboard_event_closure('key_press')\n",
       "    );\n",
       "    canvas_div.addEventListener(\n",
       "        'keyup',\n",
       "        on_keyboard_event_closure('key_release')\n",
       "    );\n",
       "\n",
       "    this._canvas_extra_style(canvas_div);\n",
       "    this.root.appendChild(canvas_div);\n",
       "\n",
       "    var canvas = (this.canvas = document.createElement('canvas'));\n",
       "    canvas.classList.add('mpl-canvas');\n",
       "    canvas.setAttribute('style', 'box-sizing: content-box;');\n",
       "\n",
       "    this.context = canvas.getContext('2d');\n",
       "\n",
       "    var backingStore =\n",
       "        this.context.backingStorePixelRatio ||\n",
       "        this.context.webkitBackingStorePixelRatio ||\n",
       "        this.context.mozBackingStorePixelRatio ||\n",
       "        this.context.msBackingStorePixelRatio ||\n",
       "        this.context.oBackingStorePixelRatio ||\n",
       "        this.context.backingStorePixelRatio ||\n",
       "        1;\n",
       "\n",
       "    this.ratio = (window.devicePixelRatio || 1) / backingStore;\n",
       "\n",
       "    var rubberband_canvas = (this.rubberband_canvas = document.createElement(\n",
       "        'canvas'\n",
       "    ));\n",
       "    rubberband_canvas.setAttribute(\n",
       "        'style',\n",
       "        'box-sizing: content-box; position: absolute; left: 0; top: 0; z-index: 1;'\n",
       "    );\n",
       "\n",
       "    // Apply a ponyfill if ResizeObserver is not implemented by browser.\n",
       "    if (this.ResizeObserver === undefined) {\n",
       "        if (window.ResizeObserver !== undefined) {\n",
       "            this.ResizeObserver = window.ResizeObserver;\n",
       "        } else {\n",
       "            var obs = _JSXTOOLS_RESIZE_OBSERVER({});\n",
       "            this.ResizeObserver = obs.ResizeObserver;\n",
       "        }\n",
       "    }\n",
       "\n",
       "    this.resizeObserverInstance = new this.ResizeObserver(function (entries) {\n",
       "        var nentries = entries.length;\n",
       "        for (var i = 0; i < nentries; i++) {\n",
       "            var entry = entries[i];\n",
       "            var width, height;\n",
       "            if (entry.contentBoxSize) {\n",
       "                if (entry.contentBoxSize instanceof Array) {\n",
       "                    // Chrome 84 implements new version of spec.\n",
       "                    width = entry.contentBoxSize[0].inlineSize;\n",
       "                    height = entry.contentBoxSize[0].blockSize;\n",
       "                } else {\n",
       "                    // Firefox implements old version of spec.\n",
       "                    width = entry.contentBoxSize.inlineSize;\n",
       "                    height = entry.contentBoxSize.blockSize;\n",
       "                }\n",
       "            } else {\n",
       "                // Chrome <84 implements even older version of spec.\n",
       "                width = entry.contentRect.width;\n",
       "                height = entry.contentRect.height;\n",
       "            }\n",
       "\n",
       "            // Keep the size of the canvas and rubber band canvas in sync with\n",
       "            // the canvas container.\n",
       "            if (entry.devicePixelContentBoxSize) {\n",
       "                // Chrome 84 implements new version of spec.\n",
       "                canvas.setAttribute(\n",
       "                    'width',\n",
       "                    entry.devicePixelContentBoxSize[0].inlineSize\n",
       "                );\n",
       "                canvas.setAttribute(\n",
       "                    'height',\n",
       "                    entry.devicePixelContentBoxSize[0].blockSize\n",
       "                );\n",
       "            } else {\n",
       "                canvas.setAttribute('width', width * fig.ratio);\n",
       "                canvas.setAttribute('height', height * fig.ratio);\n",
       "            }\n",
       "            canvas.setAttribute(\n",
       "                'style',\n",
       "                'width: ' + width + 'px; height: ' + height + 'px;'\n",
       "            );\n",
       "\n",
       "            rubberband_canvas.setAttribute('width', width);\n",
       "            rubberband_canvas.setAttribute('height', height);\n",
       "\n",
       "            // And update the size in Python. We ignore the initial 0/0 size\n",
       "            // that occurs as the element is placed into the DOM, which should\n",
       "            // otherwise not happen due to the minimum size styling.\n",
       "            if (fig.ws.readyState == 1 && width != 0 && height != 0) {\n",
       "                fig.request_resize(width, height);\n",
       "            }\n",
       "        }\n",
       "    });\n",
       "    this.resizeObserverInstance.observe(canvas_div);\n",
       "\n",
       "    function on_mouse_event_closure(name) {\n",
       "        return function (event) {\n",
       "            return fig.mouse_event(event, name);\n",
       "        };\n",
       "    }\n",
       "\n",
       "    rubberband_canvas.addEventListener(\n",
       "        'mousedown',\n",
       "        on_mouse_event_closure('button_press')\n",
       "    );\n",
       "    rubberband_canvas.addEventListener(\n",
       "        'mouseup',\n",
       "        on_mouse_event_closure('button_release')\n",
       "    );\n",
       "    rubberband_canvas.addEventListener(\n",
       "        'dblclick',\n",
       "        on_mouse_event_closure('dblclick')\n",
       "    );\n",
       "    // Throttle sequential mouse events to 1 every 20ms.\n",
       "    rubberband_canvas.addEventListener(\n",
       "        'mousemove',\n",
       "        on_mouse_event_closure('motion_notify')\n",
       "    );\n",
       "\n",
       "    rubberband_canvas.addEventListener(\n",
       "        'mouseenter',\n",
       "        on_mouse_event_closure('figure_enter')\n",
       "    );\n",
       "    rubberband_canvas.addEventListener(\n",
       "        'mouseleave',\n",
       "        on_mouse_event_closure('figure_leave')\n",
       "    );\n",
       "\n",
       "    canvas_div.addEventListener('wheel', function (event) {\n",
       "        if (event.deltaY < 0) {\n",
       "            event.step = 1;\n",
       "        } else {\n",
       "            event.step = -1;\n",
       "        }\n",
       "        on_mouse_event_closure('scroll')(event);\n",
       "    });\n",
       "\n",
       "    canvas_div.appendChild(canvas);\n",
       "    canvas_div.appendChild(rubberband_canvas);\n",
       "\n",
       "    this.rubberband_context = rubberband_canvas.getContext('2d');\n",
       "    this.rubberband_context.strokeStyle = '#000000';\n",
       "\n",
       "    this._resize_canvas = function (width, height, forward) {\n",
       "        if (forward) {\n",
       "            canvas_div.style.width = width + 'px';\n",
       "            canvas_div.style.height = height + 'px';\n",
       "        }\n",
       "    };\n",
       "\n",
       "    // Disable right mouse context menu.\n",
       "    this.rubberband_canvas.addEventListener('contextmenu', function (_e) {\n",
       "        event.preventDefault();\n",
       "        return false;\n",
       "    });\n",
       "\n",
       "    function set_focus() {\n",
       "        canvas.focus();\n",
       "        canvas_div.focus();\n",
       "    }\n",
       "\n",
       "    window.setTimeout(set_focus, 100);\n",
       "};\n",
       "\n",
       "mpl.figure.prototype._init_toolbar = function () {\n",
       "    var fig = this;\n",
       "\n",
       "    var toolbar = document.createElement('div');\n",
       "    toolbar.classList = 'mpl-toolbar';\n",
       "    this.root.appendChild(toolbar);\n",
       "\n",
       "    function on_click_closure(name) {\n",
       "        return function (_event) {\n",
       "            return fig.toolbar_button_onclick(name);\n",
       "        };\n",
       "    }\n",
       "\n",
       "    function on_mouseover_closure(tooltip) {\n",
       "        return function (event) {\n",
       "            if (!event.currentTarget.disabled) {\n",
       "                return fig.toolbar_button_onmouseover(tooltip);\n",
       "            }\n",
       "        };\n",
       "    }\n",
       "\n",
       "    fig.buttons = {};\n",
       "    var buttonGroup = document.createElement('div');\n",
       "    buttonGroup.classList = 'mpl-button-group';\n",
       "    for (var toolbar_ind in mpl.toolbar_items) {\n",
       "        var name = mpl.toolbar_items[toolbar_ind][0];\n",
       "        var tooltip = mpl.toolbar_items[toolbar_ind][1];\n",
       "        var image = mpl.toolbar_items[toolbar_ind][2];\n",
       "        var method_name = mpl.toolbar_items[toolbar_ind][3];\n",
       "\n",
       "        if (!name) {\n",
       "            /* Instead of a spacer, we start a new button group. */\n",
       "            if (buttonGroup.hasChildNodes()) {\n",
       "                toolbar.appendChild(buttonGroup);\n",
       "            }\n",
       "            buttonGroup = document.createElement('div');\n",
       "            buttonGroup.classList = 'mpl-button-group';\n",
       "            continue;\n",
       "        }\n",
       "\n",
       "        var button = (fig.buttons[name] = document.createElement('button'));\n",
       "        button.classList = 'mpl-widget';\n",
       "        button.setAttribute('role', 'button');\n",
       "        button.setAttribute('aria-disabled', 'false');\n",
       "        button.addEventListener('click', on_click_closure(method_name));\n",
       "        button.addEventListener('mouseover', on_mouseover_closure(tooltip));\n",
       "\n",
       "        var icon_img = document.createElement('img');\n",
       "        icon_img.src = '_images/' + image + '.png';\n",
       "        icon_img.srcset = '_images/' + image + '_large.png 2x';\n",
       "        icon_img.alt = tooltip;\n",
       "        button.appendChild(icon_img);\n",
       "\n",
       "        buttonGroup.appendChild(button);\n",
       "    }\n",
       "\n",
       "    if (buttonGroup.hasChildNodes()) {\n",
       "        toolbar.appendChild(buttonGroup);\n",
       "    }\n",
       "\n",
       "    var fmt_picker = document.createElement('select');\n",
       "    fmt_picker.classList = 'mpl-widget';\n",
       "    toolbar.appendChild(fmt_picker);\n",
       "    this.format_dropdown = fmt_picker;\n",
       "\n",
       "    for (var ind in mpl.extensions) {\n",
       "        var fmt = mpl.extensions[ind];\n",
       "        var option = document.createElement('option');\n",
       "        option.selected = fmt === mpl.default_extension;\n",
       "        option.innerHTML = fmt;\n",
       "        fmt_picker.appendChild(option);\n",
       "    }\n",
       "\n",
       "    var status_bar = document.createElement('span');\n",
       "    status_bar.classList = 'mpl-message';\n",
       "    toolbar.appendChild(status_bar);\n",
       "    this.message = status_bar;\n",
       "};\n",
       "\n",
       "mpl.figure.prototype.request_resize = function (x_pixels, y_pixels) {\n",
       "    // Request matplotlib to resize the figure. Matplotlib will then trigger a resize in the client,\n",
       "    // which will in turn request a refresh of the image.\n",
       "    this.send_message('resize', { width: x_pixels, height: y_pixels });\n",
       "};\n",
       "\n",
       "mpl.figure.prototype.send_message = function (type, properties) {\n",
       "    properties['type'] = type;\n",
       "    properties['figure_id'] = this.id;\n",
       "    this.ws.send(JSON.stringify(properties));\n",
       "};\n",
       "\n",
       "mpl.figure.prototype.send_draw_message = function () {\n",
       "    if (!this.waiting) {\n",
       "        this.waiting = true;\n",
       "        this.ws.send(JSON.stringify({ type: 'draw', figure_id: this.id }));\n",
       "    }\n",
       "};\n",
       "\n",
       "mpl.figure.prototype.handle_save = function (fig, _msg) {\n",
       "    var format_dropdown = fig.format_dropdown;\n",
       "    var format = format_dropdown.options[format_dropdown.selectedIndex].value;\n",
       "    fig.ondownload(fig, format);\n",
       "};\n",
       "\n",
       "mpl.figure.prototype.handle_resize = function (fig, msg) {\n",
       "    var size = msg['size'];\n",
       "    if (size[0] !== fig.canvas.width || size[1] !== fig.canvas.height) {\n",
       "        fig._resize_canvas(size[0], size[1], msg['forward']);\n",
       "        fig.send_message('refresh', {});\n",
       "    }\n",
       "};\n",
       "\n",
       "mpl.figure.prototype.handle_rubberband = function (fig, msg) {\n",
       "    var x0 = msg['x0'] / fig.ratio;\n",
       "    var y0 = (fig.canvas.height - msg['y0']) / fig.ratio;\n",
       "    var x1 = msg['x1'] / fig.ratio;\n",
       "    var y1 = (fig.canvas.height - msg['y1']) / fig.ratio;\n",
       "    x0 = Math.floor(x0) + 0.5;\n",
       "    y0 = Math.floor(y0) + 0.5;\n",
       "    x1 = Math.floor(x1) + 0.5;\n",
       "    y1 = Math.floor(y1) + 0.5;\n",
       "    var min_x = Math.min(x0, x1);\n",
       "    var min_y = Math.min(y0, y1);\n",
       "    var width = Math.abs(x1 - x0);\n",
       "    var height = Math.abs(y1 - y0);\n",
       "\n",
       "    fig.rubberband_context.clearRect(\n",
       "        0,\n",
       "        0,\n",
       "        fig.canvas.width / fig.ratio,\n",
       "        fig.canvas.height / fig.ratio\n",
       "    );\n",
       "\n",
       "    fig.rubberband_context.strokeRect(min_x, min_y, width, height);\n",
       "};\n",
       "\n",
       "mpl.figure.prototype.handle_figure_label = function (fig, msg) {\n",
       "    // Updates the figure title.\n",
       "    fig.header.textContent = msg['label'];\n",
       "};\n",
       "\n",
       "mpl.figure.prototype.handle_cursor = function (fig, msg) {\n",
       "    var cursor = msg['cursor'];\n",
       "    switch (cursor) {\n",
       "        case 0:\n",
       "            cursor = 'pointer';\n",
       "            break;\n",
       "        case 1:\n",
       "            cursor = 'default';\n",
       "            break;\n",
       "        case 2:\n",
       "            cursor = 'crosshair';\n",
       "            break;\n",
       "        case 3:\n",
       "            cursor = 'move';\n",
       "            break;\n",
       "    }\n",
       "    fig.rubberband_canvas.style.cursor = cursor;\n",
       "};\n",
       "\n",
       "mpl.figure.prototype.handle_message = function (fig, msg) {\n",
       "    fig.message.textContent = msg['message'];\n",
       "};\n",
       "\n",
       "mpl.figure.prototype.handle_draw = function (fig, _msg) {\n",
       "    // Request the server to send over a new figure.\n",
       "    fig.send_draw_message();\n",
       "};\n",
       "\n",
       "mpl.figure.prototype.handle_image_mode = function (fig, msg) {\n",
       "    fig.image_mode = msg['mode'];\n",
       "};\n",
       "\n",
       "mpl.figure.prototype.handle_history_buttons = function (fig, msg) {\n",
       "    for (var key in msg) {\n",
       "        if (!(key in fig.buttons)) {\n",
       "            continue;\n",
       "        }\n",
       "        fig.buttons[key].disabled = !msg[key];\n",
       "        fig.buttons[key].setAttribute('aria-disabled', !msg[key]);\n",
       "    }\n",
       "};\n",
       "\n",
       "mpl.figure.prototype.handle_navigate_mode = function (fig, msg) {\n",
       "    if (msg['mode'] === 'PAN') {\n",
       "        fig.buttons['Pan'].classList.add('active');\n",
       "        fig.buttons['Zoom'].classList.remove('active');\n",
       "    } else if (msg['mode'] === 'ZOOM') {\n",
       "        fig.buttons['Pan'].classList.remove('active');\n",
       "        fig.buttons['Zoom'].classList.add('active');\n",
       "    } else {\n",
       "        fig.buttons['Pan'].classList.remove('active');\n",
       "        fig.buttons['Zoom'].classList.remove('active');\n",
       "    }\n",
       "};\n",
       "\n",
       "mpl.figure.prototype.updated_canvas_event = function () {\n",
       "    // Called whenever the canvas gets updated.\n",
       "    this.send_message('ack', {});\n",
       "};\n",
       "\n",
       "// A function to construct a web socket function for onmessage handling.\n",
       "// Called in the figure constructor.\n",
       "mpl.figure.prototype._make_on_message_function = function (fig) {\n",
       "    return function socket_on_message(evt) {\n",
       "        if (evt.data instanceof Blob) {\n",
       "            var img = evt.data;\n",
       "            if (img.type !== 'image/png') {\n",
       "                /* FIXME: We get \"Resource interpreted as Image but\n",
       "                 * transferred with MIME type text/plain:\" errors on\n",
       "                 * Chrome.  But how to set the MIME type?  It doesn't seem\n",
       "                 * to be part of the websocket stream */\n",
       "                img.type = 'image/png';\n",
       "            }\n",
       "\n",
       "            /* Free the memory for the previous frames */\n",
       "            if (fig.imageObj.src) {\n",
       "                (window.URL || window.webkitURL).revokeObjectURL(\n",
       "                    fig.imageObj.src\n",
       "                );\n",
       "            }\n",
       "\n",
       "            fig.imageObj.src = (window.URL || window.webkitURL).createObjectURL(\n",
       "                img\n",
       "            );\n",
       "            fig.updated_canvas_event();\n",
       "            fig.waiting = false;\n",
       "            return;\n",
       "        } else if (\n",
       "            typeof evt.data === 'string' &&\n",
       "            evt.data.slice(0, 21) === 'data:image/png;base64'\n",
       "        ) {\n",
       "            fig.imageObj.src = evt.data;\n",
       "            fig.updated_canvas_event();\n",
       "            fig.waiting = false;\n",
       "            return;\n",
       "        }\n",
       "\n",
       "        var msg = JSON.parse(evt.data);\n",
       "        var msg_type = msg['type'];\n",
       "\n",
       "        // Call the  \"handle_{type}\" callback, which takes\n",
       "        // the figure and JSON message as its only arguments.\n",
       "        try {\n",
       "            var callback = fig['handle_' + msg_type];\n",
       "        } catch (e) {\n",
       "            console.log(\n",
       "                \"No handler for the '\" + msg_type + \"' message type: \",\n",
       "                msg\n",
       "            );\n",
       "            return;\n",
       "        }\n",
       "\n",
       "        if (callback) {\n",
       "            try {\n",
       "                // console.log(\"Handling '\" + msg_type + \"' message: \", msg);\n",
       "                callback(fig, msg);\n",
       "            } catch (e) {\n",
       "                console.log(\n",
       "                    \"Exception inside the 'handler_\" + msg_type + \"' callback:\",\n",
       "                    e,\n",
       "                    e.stack,\n",
       "                    msg\n",
       "                );\n",
       "            }\n",
       "        }\n",
       "    };\n",
       "};\n",
       "\n",
       "// from http://stackoverflow.com/questions/1114465/getting-mouse-location-in-canvas\n",
       "mpl.findpos = function (e) {\n",
       "    //this section is from http://www.quirksmode.org/js/events_properties.html\n",
       "    var targ;\n",
       "    if (!e) {\n",
       "        e = window.event;\n",
       "    }\n",
       "    if (e.target) {\n",
       "        targ = e.target;\n",
       "    } else if (e.srcElement) {\n",
       "        targ = e.srcElement;\n",
       "    }\n",
       "    if (targ.nodeType === 3) {\n",
       "        // defeat Safari bug\n",
       "        targ = targ.parentNode;\n",
       "    }\n",
       "\n",
       "    // pageX,Y are the mouse positions relative to the document\n",
       "    var boundingRect = targ.getBoundingClientRect();\n",
       "    var x = e.pageX - (boundingRect.left + document.body.scrollLeft);\n",
       "    var y = e.pageY - (boundingRect.top + document.body.scrollTop);\n",
       "\n",
       "    return { x: x, y: y };\n",
       "};\n",
       "\n",
       "/*\n",
       " * return a copy of an object with only non-object keys\n",
       " * we need this to avoid circular references\n",
       " * http://stackoverflow.com/a/24161582/3208463\n",
       " */\n",
       "function simpleKeys(original) {\n",
       "    return Object.keys(original).reduce(function (obj, key) {\n",
       "        if (typeof original[key] !== 'object') {\n",
       "            obj[key] = original[key];\n",
       "        }\n",
       "        return obj;\n",
       "    }, {});\n",
       "}\n",
       "\n",
       "mpl.figure.prototype.mouse_event = function (event, name) {\n",
       "    var canvas_pos = mpl.findpos(event);\n",
       "\n",
       "    if (name === 'button_press') {\n",
       "        this.canvas.focus();\n",
       "        this.canvas_div.focus();\n",
       "    }\n",
       "\n",
       "    var x = canvas_pos.x * this.ratio;\n",
       "    var y = canvas_pos.y * this.ratio;\n",
       "\n",
       "    this.send_message(name, {\n",
       "        x: x,\n",
       "        y: y,\n",
       "        button: event.button,\n",
       "        step: event.step,\n",
       "        guiEvent: simpleKeys(event),\n",
       "    });\n",
       "\n",
       "    /* This prevents the web browser from automatically changing to\n",
       "     * the text insertion cursor when the button is pressed.  We want\n",
       "     * to control all of the cursor setting manually through the\n",
       "     * 'cursor' event from matplotlib */\n",
       "    event.preventDefault();\n",
       "    return false;\n",
       "};\n",
       "\n",
       "mpl.figure.prototype._key_event_extra = function (_event, _name) {\n",
       "    // Handle any extra behaviour associated with a key event\n",
       "};\n",
       "\n",
       "mpl.figure.prototype.key_event = function (event, name) {\n",
       "    // Prevent repeat events\n",
       "    if (name === 'key_press') {\n",
       "        if (event.key === this._key) {\n",
       "            return;\n",
       "        } else {\n",
       "            this._key = event.key;\n",
       "        }\n",
       "    }\n",
       "    if (name === 'key_release') {\n",
       "        this._key = null;\n",
       "    }\n",
       "\n",
       "    var value = '';\n",
       "    if (event.ctrlKey && event.key !== 'Control') {\n",
       "        value += 'ctrl+';\n",
       "    }\n",
       "    else if (event.altKey && event.key !== 'Alt') {\n",
       "        value += 'alt+';\n",
       "    }\n",
       "    else if (event.shiftKey && event.key !== 'Shift') {\n",
       "        value += 'shift+';\n",
       "    }\n",
       "\n",
       "    value += 'k' + event.key;\n",
       "\n",
       "    this._key_event_extra(event, name);\n",
       "\n",
       "    this.send_message(name, { key: value, guiEvent: simpleKeys(event) });\n",
       "    return false;\n",
       "};\n",
       "\n",
       "mpl.figure.prototype.toolbar_button_onclick = function (name) {\n",
       "    if (name === 'download') {\n",
       "        this.handle_save(this, null);\n",
       "    } else {\n",
       "        this.send_message('toolbar_button', { name: name });\n",
       "    }\n",
       "};\n",
       "\n",
       "mpl.figure.prototype.toolbar_button_onmouseover = function (tooltip) {\n",
       "    this.message.textContent = tooltip;\n",
       "};\n",
       "\n",
       "///////////////// REMAINING CONTENT GENERATED BY embed_js.py /////////////////\n",
       "// prettier-ignore\n",
       "var _JSXTOOLS_RESIZE_OBSERVER=function(A){var t,i=new WeakMap,n=new WeakMap,a=new WeakMap,r=new WeakMap,o=new Set;function s(e){if(!(this instanceof s))throw new TypeError(\"Constructor requires 'new' operator\");i.set(this,e)}function h(){throw new TypeError(\"Function is not a constructor\")}function c(e,t,i,n){e=0 in arguments?Number(arguments[0]):0,t=1 in arguments?Number(arguments[1]):0,i=2 in arguments?Number(arguments[2]):0,n=3 in arguments?Number(arguments[3]):0,this.right=(this.x=this.left=e)+(this.width=i),this.bottom=(this.y=this.top=t)+(this.height=n),Object.freeze(this)}function d(){t=requestAnimationFrame(d);var s=new WeakMap,p=new Set;o.forEach((function(t){r.get(t).forEach((function(i){var r=t instanceof window.SVGElement,o=a.get(t),d=r?0:parseFloat(o.paddingTop),f=r?0:parseFloat(o.paddingRight),l=r?0:parseFloat(o.paddingBottom),u=r?0:parseFloat(o.paddingLeft),g=r?0:parseFloat(o.borderTopWidth),m=r?0:parseFloat(o.borderRightWidth),w=r?0:parseFloat(o.borderBottomWidth),b=u+f,F=d+l,v=(r?0:parseFloat(o.borderLeftWidth))+m,W=g+w,y=r?0:t.offsetHeight-W-t.clientHeight,E=r?0:t.offsetWidth-v-t.clientWidth,R=b+v,z=F+W,M=r?t.width:parseFloat(o.width)-R-E,O=r?t.height:parseFloat(o.height)-z-y;if(n.has(t)){var k=n.get(t);if(k[0]===M&&k[1]===O)return}n.set(t,[M,O]);var S=Object.create(h.prototype);S.target=t,S.contentRect=new c(u,d,M,O),s.has(i)||(s.set(i,[]),p.add(i)),s.get(i).push(S)}))})),p.forEach((function(e){i.get(e).call(e,s.get(e),e)}))}return s.prototype.observe=function(i){if(i instanceof window.Element){r.has(i)||(r.set(i,new Set),o.add(i),a.set(i,window.getComputedStyle(i)));var n=r.get(i);n.has(this)||n.add(this),cancelAnimationFrame(t),t=requestAnimationFrame(d)}},s.prototype.unobserve=function(i){if(i instanceof window.Element&&r.has(i)){var n=r.get(i);n.has(this)&&(n.delete(this),n.size||(r.delete(i),o.delete(i))),n.size||r.delete(i),o.size||cancelAnimationFrame(t)}},A.DOMRectReadOnly=c,A.ResizeObserver=s,A.ResizeObserverEntry=h,A}; // eslint-disable-line\n",
       "mpl.toolbar_items = [[\"Home\", \"Reset original view\", \"fa fa-home icon-home\", \"home\"], [\"Back\", \"Back to previous view\", \"fa fa-arrow-left icon-arrow-left\", \"back\"], [\"Forward\", \"Forward to next view\", \"fa fa-arrow-right icon-arrow-right\", \"forward\"], [\"\", \"\", \"\", \"\"], [\"Pan\", \"Left button pans, Right button zooms\\nx/y fixes axis, CTRL fixes aspect\", \"fa fa-arrows icon-move\", \"pan\"], [\"Zoom\", \"Zoom to rectangle\\nx/y fixes axis, CTRL fixes aspect\", \"fa fa-square-o icon-check-empty\", \"zoom\"], [\"\", \"\", \"\", \"\"], [\"Download\", \"Download plot\", \"fa fa-floppy-o icon-save\", \"download\"]];\n",
       "\n",
       "mpl.extensions = [\"eps\", \"jpeg\", \"pgf\", \"pdf\", \"png\", \"ps\", \"raw\", \"svg\", \"tif\"];\n",
       "\n",
       "mpl.default_extension = \"png\";/* global mpl */\n",
       "\n",
       "var comm_websocket_adapter = function (comm) {\n",
       "    // Create a \"websocket\"-like object which calls the given IPython comm\n",
       "    // object with the appropriate methods. Currently this is a non binary\n",
       "    // socket, so there is still some room for performance tuning.\n",
       "    var ws = {};\n",
       "\n",
       "    ws.binaryType = comm.kernel.ws.binaryType;\n",
       "    ws.readyState = comm.kernel.ws.readyState;\n",
       "    function updateReadyState(_event) {\n",
       "        if (comm.kernel.ws) {\n",
       "            ws.readyState = comm.kernel.ws.readyState;\n",
       "        } else {\n",
       "            ws.readyState = 3; // Closed state.\n",
       "        }\n",
       "    }\n",
       "    comm.kernel.ws.addEventListener('open', updateReadyState);\n",
       "    comm.kernel.ws.addEventListener('close', updateReadyState);\n",
       "    comm.kernel.ws.addEventListener('error', updateReadyState);\n",
       "\n",
       "    ws.close = function () {\n",
       "        comm.close();\n",
       "    };\n",
       "    ws.send = function (m) {\n",
       "        //console.log('sending', m);\n",
       "        comm.send(m);\n",
       "    };\n",
       "    // Register the callback with on_msg.\n",
       "    comm.on_msg(function (msg) {\n",
       "        //console.log('receiving', msg['content']['data'], msg);\n",
       "        var data = msg['content']['data'];\n",
       "        if (data['blob'] !== undefined) {\n",
       "            data = {\n",
       "                data: new Blob(msg['buffers'], { type: data['blob'] }),\n",
       "            };\n",
       "        }\n",
       "        // Pass the mpl event to the overridden (by mpl) onmessage function.\n",
       "        ws.onmessage(data);\n",
       "    });\n",
       "    return ws;\n",
       "};\n",
       "\n",
       "mpl.mpl_figure_comm = function (comm, msg) {\n",
       "    // This is the function which gets called when the mpl process\n",
       "    // starts-up an IPython Comm through the \"matplotlib\" channel.\n",
       "\n",
       "    var id = msg.content.data.id;\n",
       "    // Get hold of the div created by the display call when the Comm\n",
       "    // socket was opened in Python.\n",
       "    var element = document.getElementById(id);\n",
       "    var ws_proxy = comm_websocket_adapter(comm);\n",
       "\n",
       "    function ondownload(figure, _format) {\n",
       "        window.open(figure.canvas.toDataURL());\n",
       "    }\n",
       "\n",
       "    var fig = new mpl.figure(id, ws_proxy, ondownload, element);\n",
       "\n",
       "    // Call onopen now - mpl needs it, as it is assuming we've passed it a real\n",
       "    // web socket which is closed, not our websocket->open comm proxy.\n",
       "    ws_proxy.onopen();\n",
       "\n",
       "    fig.parent_element = element;\n",
       "    fig.cell_info = mpl.find_output_cell(\"<div id='\" + id + \"'></div>\");\n",
       "    if (!fig.cell_info) {\n",
       "        console.error('Failed to find cell for figure', id, fig);\n",
       "        return;\n",
       "    }\n",
       "    fig.cell_info[0].output_area.element.on(\n",
       "        'cleared',\n",
       "        { fig: fig },\n",
       "        fig._remove_fig_handler\n",
       "    );\n",
       "};\n",
       "\n",
       "mpl.figure.prototype.handle_close = function (fig, msg) {\n",
       "    var width = fig.canvas.width / fig.ratio;\n",
       "    fig.cell_info[0].output_area.element.off(\n",
       "        'cleared',\n",
       "        fig._remove_fig_handler\n",
       "    );\n",
       "    fig.resizeObserverInstance.unobserve(fig.canvas_div);\n",
       "\n",
       "    // Update the output cell to use the data from the current canvas.\n",
       "    fig.push_to_output();\n",
       "    var dataURL = fig.canvas.toDataURL();\n",
       "    // Re-enable the keyboard manager in IPython - without this line, in FF,\n",
       "    // the notebook keyboard shortcuts fail.\n",
       "    IPython.keyboard_manager.enable();\n",
       "    fig.parent_element.innerHTML =\n",
       "        '<img src=\"' + dataURL + '\" width=\"' + width + '\">';\n",
       "    fig.close_ws(fig, msg);\n",
       "};\n",
       "\n",
       "mpl.figure.prototype.close_ws = function (fig, msg) {\n",
       "    fig.send_message('closing', msg);\n",
       "    // fig.ws.close()\n",
       "};\n",
       "\n",
       "mpl.figure.prototype.push_to_output = function (_remove_interactive) {\n",
       "    // Turn the data on the canvas into data in the output cell.\n",
       "    var width = this.canvas.width / this.ratio;\n",
       "    var dataURL = this.canvas.toDataURL();\n",
       "    this.cell_info[1]['text/html'] =\n",
       "        '<img src=\"' + dataURL + '\" width=\"' + width + '\">';\n",
       "};\n",
       "\n",
       "mpl.figure.prototype.updated_canvas_event = function () {\n",
       "    // Tell IPython that the notebook contents must change.\n",
       "    IPython.notebook.set_dirty(true);\n",
       "    this.send_message('ack', {});\n",
       "    var fig = this;\n",
       "    // Wait a second, then push the new image to the DOM so\n",
       "    // that it is saved nicely (might be nice to debounce this).\n",
       "    setTimeout(function () {\n",
       "        fig.push_to_output();\n",
       "    }, 1000);\n",
       "};\n",
       "\n",
       "mpl.figure.prototype._init_toolbar = function () {\n",
       "    var fig = this;\n",
       "\n",
       "    var toolbar = document.createElement('div');\n",
       "    toolbar.classList = 'btn-toolbar';\n",
       "    this.root.appendChild(toolbar);\n",
       "\n",
       "    function on_click_closure(name) {\n",
       "        return function (_event) {\n",
       "            return fig.toolbar_button_onclick(name);\n",
       "        };\n",
       "    }\n",
       "\n",
       "    function on_mouseover_closure(tooltip) {\n",
       "        return function (event) {\n",
       "            if (!event.currentTarget.disabled) {\n",
       "                return fig.toolbar_button_onmouseover(tooltip);\n",
       "            }\n",
       "        };\n",
       "    }\n",
       "\n",
       "    fig.buttons = {};\n",
       "    var buttonGroup = document.createElement('div');\n",
       "    buttonGroup.classList = 'btn-group';\n",
       "    var button;\n",
       "    for (var toolbar_ind in mpl.toolbar_items) {\n",
       "        var name = mpl.toolbar_items[toolbar_ind][0];\n",
       "        var tooltip = mpl.toolbar_items[toolbar_ind][1];\n",
       "        var image = mpl.toolbar_items[toolbar_ind][2];\n",
       "        var method_name = mpl.toolbar_items[toolbar_ind][3];\n",
       "\n",
       "        if (!name) {\n",
       "            /* Instead of a spacer, we start a new button group. */\n",
       "            if (buttonGroup.hasChildNodes()) {\n",
       "                toolbar.appendChild(buttonGroup);\n",
       "            }\n",
       "            buttonGroup = document.createElement('div');\n",
       "            buttonGroup.classList = 'btn-group';\n",
       "            continue;\n",
       "        }\n",
       "\n",
       "        button = fig.buttons[name] = document.createElement('button');\n",
       "        button.classList = 'btn btn-default';\n",
       "        button.href = '#';\n",
       "        button.title = name;\n",
       "        button.innerHTML = '<i class=\"fa ' + image + ' fa-lg\"></i>';\n",
       "        button.addEventListener('click', on_click_closure(method_name));\n",
       "        button.addEventListener('mouseover', on_mouseover_closure(tooltip));\n",
       "        buttonGroup.appendChild(button);\n",
       "    }\n",
       "\n",
       "    if (buttonGroup.hasChildNodes()) {\n",
       "        toolbar.appendChild(buttonGroup);\n",
       "    }\n",
       "\n",
       "    // Add the status bar.\n",
       "    var status_bar = document.createElement('span');\n",
       "    status_bar.classList = 'mpl-message pull-right';\n",
       "    toolbar.appendChild(status_bar);\n",
       "    this.message = status_bar;\n",
       "\n",
       "    // Add the close button to the window.\n",
       "    var buttongrp = document.createElement('div');\n",
       "    buttongrp.classList = 'btn-group inline pull-right';\n",
       "    button = document.createElement('button');\n",
       "    button.classList = 'btn btn-mini btn-primary';\n",
       "    button.href = '#';\n",
       "    button.title = 'Stop Interaction';\n",
       "    button.innerHTML = '<i class=\"fa fa-power-off icon-remove icon-large\"></i>';\n",
       "    button.addEventListener('click', function (_evt) {\n",
       "        fig.handle_close(fig, {});\n",
       "    });\n",
       "    button.addEventListener(\n",
       "        'mouseover',\n",
       "        on_mouseover_closure('Stop Interaction')\n",
       "    );\n",
       "    buttongrp.appendChild(button);\n",
       "    var titlebar = this.root.querySelector('.ui-dialog-titlebar');\n",
       "    titlebar.insertBefore(buttongrp, titlebar.firstChild);\n",
       "};\n",
       "\n",
       "mpl.figure.prototype._remove_fig_handler = function (event) {\n",
       "    var fig = event.data.fig;\n",
       "    if (event.target !== this) {\n",
       "        // Ignore bubbled events from children.\n",
       "        return;\n",
       "    }\n",
       "    fig.close_ws(fig, {});\n",
       "};\n",
       "\n",
       "mpl.figure.prototype._root_extra_style = function (el) {\n",
       "    el.style.boxSizing = 'content-box'; // override notebook setting of border-box.\n",
       "};\n",
       "\n",
       "mpl.figure.prototype._canvas_extra_style = function (el) {\n",
       "    // this is important to make the div 'focusable\n",
       "    el.setAttribute('tabindex', 0);\n",
       "    // reach out to IPython and tell the keyboard manager to turn it's self\n",
       "    // off when our div gets focus\n",
       "\n",
       "    // location in version 3\n",
       "    if (IPython.notebook.keyboard_manager) {\n",
       "        IPython.notebook.keyboard_manager.register_events(el);\n",
       "    } else {\n",
       "        // location in version 2\n",
       "        IPython.keyboard_manager.register_events(el);\n",
       "    }\n",
       "};\n",
       "\n",
       "mpl.figure.prototype._key_event_extra = function (event, _name) {\n",
       "    var manager = IPython.notebook.keyboard_manager;\n",
       "    if (!manager) {\n",
       "        manager = IPython.keyboard_manager;\n",
       "    }\n",
       "\n",
       "    // Check for shift+enter\n",
       "    if (event.shiftKey && event.which === 13) {\n",
       "        this.canvas_div.blur();\n",
       "        // select the cell after this one\n",
       "        var index = IPython.notebook.find_cell_index(this.cell_info[0]);\n",
       "        IPython.notebook.select(index + 1);\n",
       "    }\n",
       "};\n",
       "\n",
       "mpl.figure.prototype.handle_save = function (fig, _msg) {\n",
       "    fig.ondownload(fig, null);\n",
       "};\n",
       "\n",
       "mpl.find_output_cell = function (html_output) {\n",
       "    // Return the cell and output element which can be found *uniquely* in the notebook.\n",
       "    // Note - this is a bit hacky, but it is done because the \"notebook_saving.Notebook\"\n",
       "    // IPython event is triggered only after the cells have been serialised, which for\n",
       "    // our purposes (turning an active figure into a static one), is too late.\n",
       "    var cells = IPython.notebook.get_cells();\n",
       "    var ncells = cells.length;\n",
       "    for (var i = 0; i < ncells; i++) {\n",
       "        var cell = cells[i];\n",
       "        if (cell.cell_type === 'code') {\n",
       "            for (var j = 0; j < cell.output_area.outputs.length; j++) {\n",
       "                var data = cell.output_area.outputs[j];\n",
       "                if (data.data) {\n",
       "                    // IPython >= 3 moved mimebundle to data attribute of output\n",
       "                    data = data.data;\n",
       "                }\n",
       "                if (data['text/html'] === html_output) {\n",
       "                    return [cell, data, j];\n",
       "                }\n",
       "            }\n",
       "        }\n",
       "    }\n",
       "};\n",
       "\n",
       "// Register the function which deals with the matplotlib target/channel.\n",
       "// The kernel may be null if the page has been refreshed.\n",
       "if (IPython.notebook.kernel !== null) {\n",
       "    IPython.notebook.kernel.comm_manager.register_target(\n",
       "        'matplotlib',\n",
       "        mpl.mpl_figure_comm\n",
       "    );\n",
       "}\n"
      ],
      "text/plain": [
       "<IPython.core.display.Javascript object>"
      ]
     },
     "metadata": {},
     "output_type": "display_data"
    },
    {
     "data": {
      "text/html": [
       "<img src=\"data:image/png;base64,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\" width=\"432\">"
      ],
      "text/plain": [
       "<IPython.core.display.HTML object>"
      ]
     },
     "metadata": {},
     "output_type": "display_data"
    },
    {
     "data": {
      "text/plain": [
       "[<matplotlib.lines.Line2D at 0x26b2ff15880>]"
      ]
     },
     "execution_count": 111,
     "metadata": {},
     "output_type": "execute_result"
    }
   ],
   "source": [
    "plt.plot(np.random.randn(30).cumsum(), color='r', linestyle='dashed', marker='*')"
   ]
  },
  {
   "cell_type": "code",
   "execution_count": 112,
   "metadata": {
    "slideshow": {
     "slide_type": "fragment"
    }
   },
   "outputs": [],
   "source": [
    "plt.close('all')"
   ]
  },
  {
   "cell_type": "markdown",
   "metadata": {
    "slideshow": {
     "slide_type": "slide"
    }
   },
   "source": [
    "### 2.5.3 Adding legends\n",
    "* Legends are another critical element for identifying plot elements.\n",
    "* The easiest is to pass the **label** argument when adding each piece of the plot\n",
    "* Once you’ve done this, you can either call **ax.legend()** or **plt.legend()** to automatically create a legend."
   ]
  },
  {
   "cell_type": "code",
   "execution_count": 116,
   "metadata": {
    "slideshow": {
     "slide_type": "slide"
    }
   },
   "outputs": [
    {
     "data": {
      "application/javascript": [
       "/* Put everything inside the global mpl namespace */\n",
       "/* global mpl */\n",
       "window.mpl = {};\n",
       "\n",
       "mpl.get_websocket_type = function () {\n",
       "    if (typeof WebSocket !== 'undefined') {\n",
       "        return WebSocket;\n",
       "    } else if (typeof MozWebSocket !== 'undefined') {\n",
       "        return MozWebSocket;\n",
       "    } else {\n",
       "        alert(\n",
       "            'Your browser does not have WebSocket support. ' +\n",
       "                'Please try Chrome, Safari or Firefox ≥ 6. ' +\n",
       "                'Firefox 4 and 5 are also supported but you ' +\n",
       "                'have to enable WebSockets in about:config.'\n",
       "        );\n",
       "    }\n",
       "};\n",
       "\n",
       "mpl.figure = function (figure_id, websocket, ondownload, parent_element) {\n",
       "    this.id = figure_id;\n",
       "\n",
       "    this.ws = websocket;\n",
       "\n",
       "    this.supports_binary = this.ws.binaryType !== undefined;\n",
       "\n",
       "    if (!this.supports_binary) {\n",
       "        var warnings = document.getElementById('mpl-warnings');\n",
       "        if (warnings) {\n",
       "            warnings.style.display = 'block';\n",
       "            warnings.textContent =\n",
       "                'This browser does not support binary websocket messages. ' +\n",
       "                'Performance may be slow.';\n",
       "        }\n",
       "    }\n",
       "\n",
       "    this.imageObj = new Image();\n",
       "\n",
       "    this.context = undefined;\n",
       "    this.message = undefined;\n",
       "    this.canvas = undefined;\n",
       "    this.rubberband_canvas = undefined;\n",
       "    this.rubberband_context = undefined;\n",
       "    this.format_dropdown = undefined;\n",
       "\n",
       "    this.image_mode = 'full';\n",
       "\n",
       "    this.root = document.createElement('div');\n",
       "    this.root.setAttribute('style', 'display: inline-block');\n",
       "    this._root_extra_style(this.root);\n",
       "\n",
       "    parent_element.appendChild(this.root);\n",
       "\n",
       "    this._init_header(this);\n",
       "    this._init_canvas(this);\n",
       "    this._init_toolbar(this);\n",
       "\n",
       "    var fig = this;\n",
       "\n",
       "    this.waiting = false;\n",
       "\n",
       "    this.ws.onopen = function () {\n",
       "        fig.send_message('supports_binary', { value: fig.supports_binary });\n",
       "        fig.send_message('send_image_mode', {});\n",
       "        if (fig.ratio !== 1) {\n",
       "            fig.send_message('set_dpi_ratio', { dpi_ratio: fig.ratio });\n",
       "        }\n",
       "        fig.send_message('refresh', {});\n",
       "    };\n",
       "\n",
       "    this.imageObj.onload = function () {\n",
       "        if (fig.image_mode === 'full') {\n",
       "            // Full images could contain transparency (where diff images\n",
       "            // almost always do), so we need to clear the canvas so that\n",
       "            // there is no ghosting.\n",
       "            fig.context.clearRect(0, 0, fig.canvas.width, fig.canvas.height);\n",
       "        }\n",
       "        fig.context.drawImage(fig.imageObj, 0, 0);\n",
       "    };\n",
       "\n",
       "    this.imageObj.onunload = function () {\n",
       "        fig.ws.close();\n",
       "    };\n",
       "\n",
       "    this.ws.onmessage = this._make_on_message_function(this);\n",
       "\n",
       "    this.ondownload = ondownload;\n",
       "};\n",
       "\n",
       "mpl.figure.prototype._init_header = function () {\n",
       "    var titlebar = document.createElement('div');\n",
       "    titlebar.classList =\n",
       "        'ui-dialog-titlebar ui-widget-header ui-corner-all ui-helper-clearfix';\n",
       "    var titletext = document.createElement('div');\n",
       "    titletext.classList = 'ui-dialog-title';\n",
       "    titletext.setAttribute(\n",
       "        'style',\n",
       "        'width: 100%; text-align: center; padding: 3px;'\n",
       "    );\n",
       "    titlebar.appendChild(titletext);\n",
       "    this.root.appendChild(titlebar);\n",
       "    this.header = titletext;\n",
       "};\n",
       "\n",
       "mpl.figure.prototype._canvas_extra_style = function (_canvas_div) {};\n",
       "\n",
       "mpl.figure.prototype._root_extra_style = function (_canvas_div) {};\n",
       "\n",
       "mpl.figure.prototype._init_canvas = function () {\n",
       "    var fig = this;\n",
       "\n",
       "    var canvas_div = (this.canvas_div = document.createElement('div'));\n",
       "    canvas_div.setAttribute(\n",
       "        'style',\n",
       "        'border: 1px solid #ddd;' +\n",
       "            'box-sizing: content-box;' +\n",
       "            'clear: both;' +\n",
       "            'min-height: 1px;' +\n",
       "            'min-width: 1px;' +\n",
       "            'outline: 0;' +\n",
       "            'overflow: hidden;' +\n",
       "            'position: relative;' +\n",
       "            'resize: both;'\n",
       "    );\n",
       "\n",
       "    function on_keyboard_event_closure(name) {\n",
       "        return function (event) {\n",
       "            return fig.key_event(event, name);\n",
       "        };\n",
       "    }\n",
       "\n",
       "    canvas_div.addEventListener(\n",
       "        'keydown',\n",
       "        on_keyboard_event_closure('key_press')\n",
       "    );\n",
       "    canvas_div.addEventListener(\n",
       "        'keyup',\n",
       "        on_keyboard_event_closure('key_release')\n",
       "    );\n",
       "\n",
       "    this._canvas_extra_style(canvas_div);\n",
       "    this.root.appendChild(canvas_div);\n",
       "\n",
       "    var canvas = (this.canvas = document.createElement('canvas'));\n",
       "    canvas.classList.add('mpl-canvas');\n",
       "    canvas.setAttribute('style', 'box-sizing: content-box;');\n",
       "\n",
       "    this.context = canvas.getContext('2d');\n",
       "\n",
       "    var backingStore =\n",
       "        this.context.backingStorePixelRatio ||\n",
       "        this.context.webkitBackingStorePixelRatio ||\n",
       "        this.context.mozBackingStorePixelRatio ||\n",
       "        this.context.msBackingStorePixelRatio ||\n",
       "        this.context.oBackingStorePixelRatio ||\n",
       "        this.context.backingStorePixelRatio ||\n",
       "        1;\n",
       "\n",
       "    this.ratio = (window.devicePixelRatio || 1) / backingStore;\n",
       "\n",
       "    var rubberband_canvas = (this.rubberband_canvas = document.createElement(\n",
       "        'canvas'\n",
       "    ));\n",
       "    rubberband_canvas.setAttribute(\n",
       "        'style',\n",
       "        'box-sizing: content-box; position: absolute; left: 0; top: 0; z-index: 1;'\n",
       "    );\n",
       "\n",
       "    // Apply a ponyfill if ResizeObserver is not implemented by browser.\n",
       "    if (this.ResizeObserver === undefined) {\n",
       "        if (window.ResizeObserver !== undefined) {\n",
       "            this.ResizeObserver = window.ResizeObserver;\n",
       "        } else {\n",
       "            var obs = _JSXTOOLS_RESIZE_OBSERVER({});\n",
       "            this.ResizeObserver = obs.ResizeObserver;\n",
       "        }\n",
       "    }\n",
       "\n",
       "    this.resizeObserverInstance = new this.ResizeObserver(function (entries) {\n",
       "        var nentries = entries.length;\n",
       "        for (var i = 0; i < nentries; i++) {\n",
       "            var entry = entries[i];\n",
       "            var width, height;\n",
       "            if (entry.contentBoxSize) {\n",
       "                if (entry.contentBoxSize instanceof Array) {\n",
       "                    // Chrome 84 implements new version of spec.\n",
       "                    width = entry.contentBoxSize[0].inlineSize;\n",
       "                    height = entry.contentBoxSize[0].blockSize;\n",
       "                } else {\n",
       "                    // Firefox implements old version of spec.\n",
       "                    width = entry.contentBoxSize.inlineSize;\n",
       "                    height = entry.contentBoxSize.blockSize;\n",
       "                }\n",
       "            } else {\n",
       "                // Chrome <84 implements even older version of spec.\n",
       "                width = entry.contentRect.width;\n",
       "                height = entry.contentRect.height;\n",
       "            }\n",
       "\n",
       "            // Keep the size of the canvas and rubber band canvas in sync with\n",
       "            // the canvas container.\n",
       "            if (entry.devicePixelContentBoxSize) {\n",
       "                // Chrome 84 implements new version of spec.\n",
       "                canvas.setAttribute(\n",
       "                    'width',\n",
       "                    entry.devicePixelContentBoxSize[0].inlineSize\n",
       "                );\n",
       "                canvas.setAttribute(\n",
       "                    'height',\n",
       "                    entry.devicePixelContentBoxSize[0].blockSize\n",
       "                );\n",
       "            } else {\n",
       "                canvas.setAttribute('width', width * fig.ratio);\n",
       "                canvas.setAttribute('height', height * fig.ratio);\n",
       "            }\n",
       "            canvas.setAttribute(\n",
       "                'style',\n",
       "                'width: ' + width + 'px; height: ' + height + 'px;'\n",
       "            );\n",
       "\n",
       "            rubberband_canvas.setAttribute('width', width);\n",
       "            rubberband_canvas.setAttribute('height', height);\n",
       "\n",
       "            // And update the size in Python. We ignore the initial 0/0 size\n",
       "            // that occurs as the element is placed into the DOM, which should\n",
       "            // otherwise not happen due to the minimum size styling.\n",
       "            if (fig.ws.readyState == 1 && width != 0 && height != 0) {\n",
       "                fig.request_resize(width, height);\n",
       "            }\n",
       "        }\n",
       "    });\n",
       "    this.resizeObserverInstance.observe(canvas_div);\n",
       "\n",
       "    function on_mouse_event_closure(name) {\n",
       "        return function (event) {\n",
       "            return fig.mouse_event(event, name);\n",
       "        };\n",
       "    }\n",
       "\n",
       "    rubberband_canvas.addEventListener(\n",
       "        'mousedown',\n",
       "        on_mouse_event_closure('button_press')\n",
       "    );\n",
       "    rubberband_canvas.addEventListener(\n",
       "        'mouseup',\n",
       "        on_mouse_event_closure('button_release')\n",
       "    );\n",
       "    rubberband_canvas.addEventListener(\n",
       "        'dblclick',\n",
       "        on_mouse_event_closure('dblclick')\n",
       "    );\n",
       "    // Throttle sequential mouse events to 1 every 20ms.\n",
       "    rubberband_canvas.addEventListener(\n",
       "        'mousemove',\n",
       "        on_mouse_event_closure('motion_notify')\n",
       "    );\n",
       "\n",
       "    rubberband_canvas.addEventListener(\n",
       "        'mouseenter',\n",
       "        on_mouse_event_closure('figure_enter')\n",
       "    );\n",
       "    rubberband_canvas.addEventListener(\n",
       "        'mouseleave',\n",
       "        on_mouse_event_closure('figure_leave')\n",
       "    );\n",
       "\n",
       "    canvas_div.addEventListener('wheel', function (event) {\n",
       "        if (event.deltaY < 0) {\n",
       "            event.step = 1;\n",
       "        } else {\n",
       "            event.step = -1;\n",
       "        }\n",
       "        on_mouse_event_closure('scroll')(event);\n",
       "    });\n",
       "\n",
       "    canvas_div.appendChild(canvas);\n",
       "    canvas_div.appendChild(rubberband_canvas);\n",
       "\n",
       "    this.rubberband_context = rubberband_canvas.getContext('2d');\n",
       "    this.rubberband_context.strokeStyle = '#000000';\n",
       "\n",
       "    this._resize_canvas = function (width, height, forward) {\n",
       "        if (forward) {\n",
       "            canvas_div.style.width = width + 'px';\n",
       "            canvas_div.style.height = height + 'px';\n",
       "        }\n",
       "    };\n",
       "\n",
       "    // Disable right mouse context menu.\n",
       "    this.rubberband_canvas.addEventListener('contextmenu', function (_e) {\n",
       "        event.preventDefault();\n",
       "        return false;\n",
       "    });\n",
       "\n",
       "    function set_focus() {\n",
       "        canvas.focus();\n",
       "        canvas_div.focus();\n",
       "    }\n",
       "\n",
       "    window.setTimeout(set_focus, 100);\n",
       "};\n",
       "\n",
       "mpl.figure.prototype._init_toolbar = function () {\n",
       "    var fig = this;\n",
       "\n",
       "    var toolbar = document.createElement('div');\n",
       "    toolbar.classList = 'mpl-toolbar';\n",
       "    this.root.appendChild(toolbar);\n",
       "\n",
       "    function on_click_closure(name) {\n",
       "        return function (_event) {\n",
       "            return fig.toolbar_button_onclick(name);\n",
       "        };\n",
       "    }\n",
       "\n",
       "    function on_mouseover_closure(tooltip) {\n",
       "        return function (event) {\n",
       "            if (!event.currentTarget.disabled) {\n",
       "                return fig.toolbar_button_onmouseover(tooltip);\n",
       "            }\n",
       "        };\n",
       "    }\n",
       "\n",
       "    fig.buttons = {};\n",
       "    var buttonGroup = document.createElement('div');\n",
       "    buttonGroup.classList = 'mpl-button-group';\n",
       "    for (var toolbar_ind in mpl.toolbar_items) {\n",
       "        var name = mpl.toolbar_items[toolbar_ind][0];\n",
       "        var tooltip = mpl.toolbar_items[toolbar_ind][1];\n",
       "        var image = mpl.toolbar_items[toolbar_ind][2];\n",
       "        var method_name = mpl.toolbar_items[toolbar_ind][3];\n",
       "\n",
       "        if (!name) {\n",
       "            /* Instead of a spacer, we start a new button group. */\n",
       "            if (buttonGroup.hasChildNodes()) {\n",
       "                toolbar.appendChild(buttonGroup);\n",
       "            }\n",
       "            buttonGroup = document.createElement('div');\n",
       "            buttonGroup.classList = 'mpl-button-group';\n",
       "            continue;\n",
       "        }\n",
       "\n",
       "        var button = (fig.buttons[name] = document.createElement('button'));\n",
       "        button.classList = 'mpl-widget';\n",
       "        button.setAttribute('role', 'button');\n",
       "        button.setAttribute('aria-disabled', 'false');\n",
       "        button.addEventListener('click', on_click_closure(method_name));\n",
       "        button.addEventListener('mouseover', on_mouseover_closure(tooltip));\n",
       "\n",
       "        var icon_img = document.createElement('img');\n",
       "        icon_img.src = '_images/' + image + '.png';\n",
       "        icon_img.srcset = '_images/' + image + '_large.png 2x';\n",
       "        icon_img.alt = tooltip;\n",
       "        button.appendChild(icon_img);\n",
       "\n",
       "        buttonGroup.appendChild(button);\n",
       "    }\n",
       "\n",
       "    if (buttonGroup.hasChildNodes()) {\n",
       "        toolbar.appendChild(buttonGroup);\n",
       "    }\n",
       "\n",
       "    var fmt_picker = document.createElement('select');\n",
       "    fmt_picker.classList = 'mpl-widget';\n",
       "    toolbar.appendChild(fmt_picker);\n",
       "    this.format_dropdown = fmt_picker;\n",
       "\n",
       "    for (var ind in mpl.extensions) {\n",
       "        var fmt = mpl.extensions[ind];\n",
       "        var option = document.createElement('option');\n",
       "        option.selected = fmt === mpl.default_extension;\n",
       "        option.innerHTML = fmt;\n",
       "        fmt_picker.appendChild(option);\n",
       "    }\n",
       "\n",
       "    var status_bar = document.createElement('span');\n",
       "    status_bar.classList = 'mpl-message';\n",
       "    toolbar.appendChild(status_bar);\n",
       "    this.message = status_bar;\n",
       "};\n",
       "\n",
       "mpl.figure.prototype.request_resize = function (x_pixels, y_pixels) {\n",
       "    // Request matplotlib to resize the figure. Matplotlib will then trigger a resize in the client,\n",
       "    // which will in turn request a refresh of the image.\n",
       "    this.send_message('resize', { width: x_pixels, height: y_pixels });\n",
       "};\n",
       "\n",
       "mpl.figure.prototype.send_message = function (type, properties) {\n",
       "    properties['type'] = type;\n",
       "    properties['figure_id'] = this.id;\n",
       "    this.ws.send(JSON.stringify(properties));\n",
       "};\n",
       "\n",
       "mpl.figure.prototype.send_draw_message = function () {\n",
       "    if (!this.waiting) {\n",
       "        this.waiting = true;\n",
       "        this.ws.send(JSON.stringify({ type: 'draw', figure_id: this.id }));\n",
       "    }\n",
       "};\n",
       "\n",
       "mpl.figure.prototype.handle_save = function (fig, _msg) {\n",
       "    var format_dropdown = fig.format_dropdown;\n",
       "    var format = format_dropdown.options[format_dropdown.selectedIndex].value;\n",
       "    fig.ondownload(fig, format);\n",
       "};\n",
       "\n",
       "mpl.figure.prototype.handle_resize = function (fig, msg) {\n",
       "    var size = msg['size'];\n",
       "    if (size[0] !== fig.canvas.width || size[1] !== fig.canvas.height) {\n",
       "        fig._resize_canvas(size[0], size[1], msg['forward']);\n",
       "        fig.send_message('refresh', {});\n",
       "    }\n",
       "};\n",
       "\n",
       "mpl.figure.prototype.handle_rubberband = function (fig, msg) {\n",
       "    var x0 = msg['x0'] / fig.ratio;\n",
       "    var y0 = (fig.canvas.height - msg['y0']) / fig.ratio;\n",
       "    var x1 = msg['x1'] / fig.ratio;\n",
       "    var y1 = (fig.canvas.height - msg['y1']) / fig.ratio;\n",
       "    x0 = Math.floor(x0) + 0.5;\n",
       "    y0 = Math.floor(y0) + 0.5;\n",
       "    x1 = Math.floor(x1) + 0.5;\n",
       "    y1 = Math.floor(y1) + 0.5;\n",
       "    var min_x = Math.min(x0, x1);\n",
       "    var min_y = Math.min(y0, y1);\n",
       "    var width = Math.abs(x1 - x0);\n",
       "    var height = Math.abs(y1 - y0);\n",
       "\n",
       "    fig.rubberband_context.clearRect(\n",
       "        0,\n",
       "        0,\n",
       "        fig.canvas.width / fig.ratio,\n",
       "        fig.canvas.height / fig.ratio\n",
       "    );\n",
       "\n",
       "    fig.rubberband_context.strokeRect(min_x, min_y, width, height);\n",
       "};\n",
       "\n",
       "mpl.figure.prototype.handle_figure_label = function (fig, msg) {\n",
       "    // Updates the figure title.\n",
       "    fig.header.textContent = msg['label'];\n",
       "};\n",
       "\n",
       "mpl.figure.prototype.handle_cursor = function (fig, msg) {\n",
       "    var cursor = msg['cursor'];\n",
       "    switch (cursor) {\n",
       "        case 0:\n",
       "            cursor = 'pointer';\n",
       "            break;\n",
       "        case 1:\n",
       "            cursor = 'default';\n",
       "            break;\n",
       "        case 2:\n",
       "            cursor = 'crosshair';\n",
       "            break;\n",
       "        case 3:\n",
       "            cursor = 'move';\n",
       "            break;\n",
       "    }\n",
       "    fig.rubberband_canvas.style.cursor = cursor;\n",
       "};\n",
       "\n",
       "mpl.figure.prototype.handle_message = function (fig, msg) {\n",
       "    fig.message.textContent = msg['message'];\n",
       "};\n",
       "\n",
       "mpl.figure.prototype.handle_draw = function (fig, _msg) {\n",
       "    // Request the server to send over a new figure.\n",
       "    fig.send_draw_message();\n",
       "};\n",
       "\n",
       "mpl.figure.prototype.handle_image_mode = function (fig, msg) {\n",
       "    fig.image_mode = msg['mode'];\n",
       "};\n",
       "\n",
       "mpl.figure.prototype.handle_history_buttons = function (fig, msg) {\n",
       "    for (var key in msg) {\n",
       "        if (!(key in fig.buttons)) {\n",
       "            continue;\n",
       "        }\n",
       "        fig.buttons[key].disabled = !msg[key];\n",
       "        fig.buttons[key].setAttribute('aria-disabled', !msg[key]);\n",
       "    }\n",
       "};\n",
       "\n",
       "mpl.figure.prototype.handle_navigate_mode = function (fig, msg) {\n",
       "    if (msg['mode'] === 'PAN') {\n",
       "        fig.buttons['Pan'].classList.add('active');\n",
       "        fig.buttons['Zoom'].classList.remove('active');\n",
       "    } else if (msg['mode'] === 'ZOOM') {\n",
       "        fig.buttons['Pan'].classList.remove('active');\n",
       "        fig.buttons['Zoom'].classList.add('active');\n",
       "    } else {\n",
       "        fig.buttons['Pan'].classList.remove('active');\n",
       "        fig.buttons['Zoom'].classList.remove('active');\n",
       "    }\n",
       "};\n",
       "\n",
       "mpl.figure.prototype.updated_canvas_event = function () {\n",
       "    // Called whenever the canvas gets updated.\n",
       "    this.send_message('ack', {});\n",
       "};\n",
       "\n",
       "// A function to construct a web socket function for onmessage handling.\n",
       "// Called in the figure constructor.\n",
       "mpl.figure.prototype._make_on_message_function = function (fig) {\n",
       "    return function socket_on_message(evt) {\n",
       "        if (evt.data instanceof Blob) {\n",
       "            var img = evt.data;\n",
       "            if (img.type !== 'image/png') {\n",
       "                /* FIXME: We get \"Resource interpreted as Image but\n",
       "                 * transferred with MIME type text/plain:\" errors on\n",
       "                 * Chrome.  But how to set the MIME type?  It doesn't seem\n",
       "                 * to be part of the websocket stream */\n",
       "                img.type = 'image/png';\n",
       "            }\n",
       "\n",
       "            /* Free the memory for the previous frames */\n",
       "            if (fig.imageObj.src) {\n",
       "                (window.URL || window.webkitURL).revokeObjectURL(\n",
       "                    fig.imageObj.src\n",
       "                );\n",
       "            }\n",
       "\n",
       "            fig.imageObj.src = (window.URL || window.webkitURL).createObjectURL(\n",
       "                img\n",
       "            );\n",
       "            fig.updated_canvas_event();\n",
       "            fig.waiting = false;\n",
       "            return;\n",
       "        } else if (\n",
       "            typeof evt.data === 'string' &&\n",
       "            evt.data.slice(0, 21) === 'data:image/png;base64'\n",
       "        ) {\n",
       "            fig.imageObj.src = evt.data;\n",
       "            fig.updated_canvas_event();\n",
       "            fig.waiting = false;\n",
       "            return;\n",
       "        }\n",
       "\n",
       "        var msg = JSON.parse(evt.data);\n",
       "        var msg_type = msg['type'];\n",
       "\n",
       "        // Call the  \"handle_{type}\" callback, which takes\n",
       "        // the figure and JSON message as its only arguments.\n",
       "        try {\n",
       "            var callback = fig['handle_' + msg_type];\n",
       "        } catch (e) {\n",
       "            console.log(\n",
       "                \"No handler for the '\" + msg_type + \"' message type: \",\n",
       "                msg\n",
       "            );\n",
       "            return;\n",
       "        }\n",
       "\n",
       "        if (callback) {\n",
       "            try {\n",
       "                // console.log(\"Handling '\" + msg_type + \"' message: \", msg);\n",
       "                callback(fig, msg);\n",
       "            } catch (e) {\n",
       "                console.log(\n",
       "                    \"Exception inside the 'handler_\" + msg_type + \"' callback:\",\n",
       "                    e,\n",
       "                    e.stack,\n",
       "                    msg\n",
       "                );\n",
       "            }\n",
       "        }\n",
       "    };\n",
       "};\n",
       "\n",
       "// from http://stackoverflow.com/questions/1114465/getting-mouse-location-in-canvas\n",
       "mpl.findpos = function (e) {\n",
       "    //this section is from http://www.quirksmode.org/js/events_properties.html\n",
       "    var targ;\n",
       "    if (!e) {\n",
       "        e = window.event;\n",
       "    }\n",
       "    if (e.target) {\n",
       "        targ = e.target;\n",
       "    } else if (e.srcElement) {\n",
       "        targ = e.srcElement;\n",
       "    }\n",
       "    if (targ.nodeType === 3) {\n",
       "        // defeat Safari bug\n",
       "        targ = targ.parentNode;\n",
       "    }\n",
       "\n",
       "    // pageX,Y are the mouse positions relative to the document\n",
       "    var boundingRect = targ.getBoundingClientRect();\n",
       "    var x = e.pageX - (boundingRect.left + document.body.scrollLeft);\n",
       "    var y = e.pageY - (boundingRect.top + document.body.scrollTop);\n",
       "\n",
       "    return { x: x, y: y };\n",
       "};\n",
       "\n",
       "/*\n",
       " * return a copy of an object with only non-object keys\n",
       " * we need this to avoid circular references\n",
       " * http://stackoverflow.com/a/24161582/3208463\n",
       " */\n",
       "function simpleKeys(original) {\n",
       "    return Object.keys(original).reduce(function (obj, key) {\n",
       "        if (typeof original[key] !== 'object') {\n",
       "            obj[key] = original[key];\n",
       "        }\n",
       "        return obj;\n",
       "    }, {});\n",
       "}\n",
       "\n",
       "mpl.figure.prototype.mouse_event = function (event, name) {\n",
       "    var canvas_pos = mpl.findpos(event);\n",
       "\n",
       "    if (name === 'button_press') {\n",
       "        this.canvas.focus();\n",
       "        this.canvas_div.focus();\n",
       "    }\n",
       "\n",
       "    var x = canvas_pos.x * this.ratio;\n",
       "    var y = canvas_pos.y * this.ratio;\n",
       "\n",
       "    this.send_message(name, {\n",
       "        x: x,\n",
       "        y: y,\n",
       "        button: event.button,\n",
       "        step: event.step,\n",
       "        guiEvent: simpleKeys(event),\n",
       "    });\n",
       "\n",
       "    /* This prevents the web browser from automatically changing to\n",
       "     * the text insertion cursor when the button is pressed.  We want\n",
       "     * to control all of the cursor setting manually through the\n",
       "     * 'cursor' event from matplotlib */\n",
       "    event.preventDefault();\n",
       "    return false;\n",
       "};\n",
       "\n",
       "mpl.figure.prototype._key_event_extra = function (_event, _name) {\n",
       "    // Handle any extra behaviour associated with a key event\n",
       "};\n",
       "\n",
       "mpl.figure.prototype.key_event = function (event, name) {\n",
       "    // Prevent repeat events\n",
       "    if (name === 'key_press') {\n",
       "        if (event.key === this._key) {\n",
       "            return;\n",
       "        } else {\n",
       "            this._key = event.key;\n",
       "        }\n",
       "    }\n",
       "    if (name === 'key_release') {\n",
       "        this._key = null;\n",
       "    }\n",
       "\n",
       "    var value = '';\n",
       "    if (event.ctrlKey && event.key !== 'Control') {\n",
       "        value += 'ctrl+';\n",
       "    }\n",
       "    else if (event.altKey && event.key !== 'Alt') {\n",
       "        value += 'alt+';\n",
       "    }\n",
       "    else if (event.shiftKey && event.key !== 'Shift') {\n",
       "        value += 'shift+';\n",
       "    }\n",
       "\n",
       "    value += 'k' + event.key;\n",
       "\n",
       "    this._key_event_extra(event, name);\n",
       "\n",
       "    this.send_message(name, { key: value, guiEvent: simpleKeys(event) });\n",
       "    return false;\n",
       "};\n",
       "\n",
       "mpl.figure.prototype.toolbar_button_onclick = function (name) {\n",
       "    if (name === 'download') {\n",
       "        this.handle_save(this, null);\n",
       "    } else {\n",
       "        this.send_message('toolbar_button', { name: name });\n",
       "    }\n",
       "};\n",
       "\n",
       "mpl.figure.prototype.toolbar_button_onmouseover = function (tooltip) {\n",
       "    this.message.textContent = tooltip;\n",
       "};\n",
       "\n",
       "///////////////// REMAINING CONTENT GENERATED BY embed_js.py /////////////////\n",
       "// prettier-ignore\n",
       "var _JSXTOOLS_RESIZE_OBSERVER=function(A){var t,i=new WeakMap,n=new WeakMap,a=new WeakMap,r=new WeakMap,o=new Set;function s(e){if(!(this instanceof s))throw new TypeError(\"Constructor requires 'new' operator\");i.set(this,e)}function h(){throw new TypeError(\"Function is not a constructor\")}function c(e,t,i,n){e=0 in arguments?Number(arguments[0]):0,t=1 in arguments?Number(arguments[1]):0,i=2 in arguments?Number(arguments[2]):0,n=3 in arguments?Number(arguments[3]):0,this.right=(this.x=this.left=e)+(this.width=i),this.bottom=(this.y=this.top=t)+(this.height=n),Object.freeze(this)}function d(){t=requestAnimationFrame(d);var s=new WeakMap,p=new Set;o.forEach((function(t){r.get(t).forEach((function(i){var r=t instanceof window.SVGElement,o=a.get(t),d=r?0:parseFloat(o.paddingTop),f=r?0:parseFloat(o.paddingRight),l=r?0:parseFloat(o.paddingBottom),u=r?0:parseFloat(o.paddingLeft),g=r?0:parseFloat(o.borderTopWidth),m=r?0:parseFloat(o.borderRightWidth),w=r?0:parseFloat(o.borderBottomWidth),b=u+f,F=d+l,v=(r?0:parseFloat(o.borderLeftWidth))+m,W=g+w,y=r?0:t.offsetHeight-W-t.clientHeight,E=r?0:t.offsetWidth-v-t.clientWidth,R=b+v,z=F+W,M=r?t.width:parseFloat(o.width)-R-E,O=r?t.height:parseFloat(o.height)-z-y;if(n.has(t)){var k=n.get(t);if(k[0]===M&&k[1]===O)return}n.set(t,[M,O]);var S=Object.create(h.prototype);S.target=t,S.contentRect=new c(u,d,M,O),s.has(i)||(s.set(i,[]),p.add(i)),s.get(i).push(S)}))})),p.forEach((function(e){i.get(e).call(e,s.get(e),e)}))}return s.prototype.observe=function(i){if(i instanceof window.Element){r.has(i)||(r.set(i,new Set),o.add(i),a.set(i,window.getComputedStyle(i)));var n=r.get(i);n.has(this)||n.add(this),cancelAnimationFrame(t),t=requestAnimationFrame(d)}},s.prototype.unobserve=function(i){if(i instanceof window.Element&&r.has(i)){var n=r.get(i);n.has(this)&&(n.delete(this),n.size||(r.delete(i),o.delete(i))),n.size||r.delete(i),o.size||cancelAnimationFrame(t)}},A.DOMRectReadOnly=c,A.ResizeObserver=s,A.ResizeObserverEntry=h,A}; // eslint-disable-line\n",
       "mpl.toolbar_items = [[\"Home\", \"Reset original view\", \"fa fa-home icon-home\", \"home\"], [\"Back\", \"Back to previous view\", \"fa fa-arrow-left icon-arrow-left\", \"back\"], [\"Forward\", \"Forward to next view\", \"fa fa-arrow-right icon-arrow-right\", \"forward\"], [\"\", \"\", \"\", \"\"], [\"Pan\", \"Left button pans, Right button zooms\\nx/y fixes axis, CTRL fixes aspect\", \"fa fa-arrows icon-move\", \"pan\"], [\"Zoom\", \"Zoom to rectangle\\nx/y fixes axis, CTRL fixes aspect\", \"fa fa-square-o icon-check-empty\", \"zoom\"], [\"\", \"\", \"\", \"\"], [\"Download\", \"Download plot\", \"fa fa-floppy-o icon-save\", \"download\"]];\n",
       "\n",
       "mpl.extensions = [\"eps\", \"jpeg\", \"pgf\", \"pdf\", \"png\", \"ps\", \"raw\", \"svg\", \"tif\"];\n",
       "\n",
       "mpl.default_extension = \"png\";/* global mpl */\n",
       "\n",
       "var comm_websocket_adapter = function (comm) {\n",
       "    // Create a \"websocket\"-like object which calls the given IPython comm\n",
       "    // object with the appropriate methods. Currently this is a non binary\n",
       "    // socket, so there is still some room for performance tuning.\n",
       "    var ws = {};\n",
       "\n",
       "    ws.binaryType = comm.kernel.ws.binaryType;\n",
       "    ws.readyState = comm.kernel.ws.readyState;\n",
       "    function updateReadyState(_event) {\n",
       "        if (comm.kernel.ws) {\n",
       "            ws.readyState = comm.kernel.ws.readyState;\n",
       "        } else {\n",
       "            ws.readyState = 3; // Closed state.\n",
       "        }\n",
       "    }\n",
       "    comm.kernel.ws.addEventListener('open', updateReadyState);\n",
       "    comm.kernel.ws.addEventListener('close', updateReadyState);\n",
       "    comm.kernel.ws.addEventListener('error', updateReadyState);\n",
       "\n",
       "    ws.close = function () {\n",
       "        comm.close();\n",
       "    };\n",
       "    ws.send = function (m) {\n",
       "        //console.log('sending', m);\n",
       "        comm.send(m);\n",
       "    };\n",
       "    // Register the callback with on_msg.\n",
       "    comm.on_msg(function (msg) {\n",
       "        //console.log('receiving', msg['content']['data'], msg);\n",
       "        var data = msg['content']['data'];\n",
       "        if (data['blob'] !== undefined) {\n",
       "            data = {\n",
       "                data: new Blob(msg['buffers'], { type: data['blob'] }),\n",
       "            };\n",
       "        }\n",
       "        // Pass the mpl event to the overridden (by mpl) onmessage function.\n",
       "        ws.onmessage(data);\n",
       "    });\n",
       "    return ws;\n",
       "};\n",
       "\n",
       "mpl.mpl_figure_comm = function (comm, msg) {\n",
       "    // This is the function which gets called when the mpl process\n",
       "    // starts-up an IPython Comm through the \"matplotlib\" channel.\n",
       "\n",
       "    var id = msg.content.data.id;\n",
       "    // Get hold of the div created by the display call when the Comm\n",
       "    // socket was opened in Python.\n",
       "    var element = document.getElementById(id);\n",
       "    var ws_proxy = comm_websocket_adapter(comm);\n",
       "\n",
       "    function ondownload(figure, _format) {\n",
       "        window.open(figure.canvas.toDataURL());\n",
       "    }\n",
       "\n",
       "    var fig = new mpl.figure(id, ws_proxy, ondownload, element);\n",
       "\n",
       "    // Call onopen now - mpl needs it, as it is assuming we've passed it a real\n",
       "    // web socket which is closed, not our websocket->open comm proxy.\n",
       "    ws_proxy.onopen();\n",
       "\n",
       "    fig.parent_element = element;\n",
       "    fig.cell_info = mpl.find_output_cell(\"<div id='\" + id + \"'></div>\");\n",
       "    if (!fig.cell_info) {\n",
       "        console.error('Failed to find cell for figure', id, fig);\n",
       "        return;\n",
       "    }\n",
       "    fig.cell_info[0].output_area.element.on(\n",
       "        'cleared',\n",
       "        { fig: fig },\n",
       "        fig._remove_fig_handler\n",
       "    );\n",
       "};\n",
       "\n",
       "mpl.figure.prototype.handle_close = function (fig, msg) {\n",
       "    var width = fig.canvas.width / fig.ratio;\n",
       "    fig.cell_info[0].output_area.element.off(\n",
       "        'cleared',\n",
       "        fig._remove_fig_handler\n",
       "    );\n",
       "    fig.resizeObserverInstance.unobserve(fig.canvas_div);\n",
       "\n",
       "    // Update the output cell to use the data from the current canvas.\n",
       "    fig.push_to_output();\n",
       "    var dataURL = fig.canvas.toDataURL();\n",
       "    // Re-enable the keyboard manager in IPython - without this line, in FF,\n",
       "    // the notebook keyboard shortcuts fail.\n",
       "    IPython.keyboard_manager.enable();\n",
       "    fig.parent_element.innerHTML =\n",
       "        '<img src=\"' + dataURL + '\" width=\"' + width + '\">';\n",
       "    fig.close_ws(fig, msg);\n",
       "};\n",
       "\n",
       "mpl.figure.prototype.close_ws = function (fig, msg) {\n",
       "    fig.send_message('closing', msg);\n",
       "    // fig.ws.close()\n",
       "};\n",
       "\n",
       "mpl.figure.prototype.push_to_output = function (_remove_interactive) {\n",
       "    // Turn the data on the canvas into data in the output cell.\n",
       "    var width = this.canvas.width / this.ratio;\n",
       "    var dataURL = this.canvas.toDataURL();\n",
       "    this.cell_info[1]['text/html'] =\n",
       "        '<img src=\"' + dataURL + '\" width=\"' + width + '\">';\n",
       "};\n",
       "\n",
       "mpl.figure.prototype.updated_canvas_event = function () {\n",
       "    // Tell IPython that the notebook contents must change.\n",
       "    IPython.notebook.set_dirty(true);\n",
       "    this.send_message('ack', {});\n",
       "    var fig = this;\n",
       "    // Wait a second, then push the new image to the DOM so\n",
       "    // that it is saved nicely (might be nice to debounce this).\n",
       "    setTimeout(function () {\n",
       "        fig.push_to_output();\n",
       "    }, 1000);\n",
       "};\n",
       "\n",
       "mpl.figure.prototype._init_toolbar = function () {\n",
       "    var fig = this;\n",
       "\n",
       "    var toolbar = document.createElement('div');\n",
       "    toolbar.classList = 'btn-toolbar';\n",
       "    this.root.appendChild(toolbar);\n",
       "\n",
       "    function on_click_closure(name) {\n",
       "        return function (_event) {\n",
       "            return fig.toolbar_button_onclick(name);\n",
       "        };\n",
       "    }\n",
       "\n",
       "    function on_mouseover_closure(tooltip) {\n",
       "        return function (event) {\n",
       "            if (!event.currentTarget.disabled) {\n",
       "                return fig.toolbar_button_onmouseover(tooltip);\n",
       "            }\n",
       "        };\n",
       "    }\n",
       "\n",
       "    fig.buttons = {};\n",
       "    var buttonGroup = document.createElement('div');\n",
       "    buttonGroup.classList = 'btn-group';\n",
       "    var button;\n",
       "    for (var toolbar_ind in mpl.toolbar_items) {\n",
       "        var name = mpl.toolbar_items[toolbar_ind][0];\n",
       "        var tooltip = mpl.toolbar_items[toolbar_ind][1];\n",
       "        var image = mpl.toolbar_items[toolbar_ind][2];\n",
       "        var method_name = mpl.toolbar_items[toolbar_ind][3];\n",
       "\n",
       "        if (!name) {\n",
       "            /* Instead of a spacer, we start a new button group. */\n",
       "            if (buttonGroup.hasChildNodes()) {\n",
       "                toolbar.appendChild(buttonGroup);\n",
       "            }\n",
       "            buttonGroup = document.createElement('div');\n",
       "            buttonGroup.classList = 'btn-group';\n",
       "            continue;\n",
       "        }\n",
       "\n",
       "        button = fig.buttons[name] = document.createElement('button');\n",
       "        button.classList = 'btn btn-default';\n",
       "        button.href = '#';\n",
       "        button.title = name;\n",
       "        button.innerHTML = '<i class=\"fa ' + image + ' fa-lg\"></i>';\n",
       "        button.addEventListener('click', on_click_closure(method_name));\n",
       "        button.addEventListener('mouseover', on_mouseover_closure(tooltip));\n",
       "        buttonGroup.appendChild(button);\n",
       "    }\n",
       "\n",
       "    if (buttonGroup.hasChildNodes()) {\n",
       "        toolbar.appendChild(buttonGroup);\n",
       "    }\n",
       "\n",
       "    // Add the status bar.\n",
       "    var status_bar = document.createElement('span');\n",
       "    status_bar.classList = 'mpl-message pull-right';\n",
       "    toolbar.appendChild(status_bar);\n",
       "    this.message = status_bar;\n",
       "\n",
       "    // Add the close button to the window.\n",
       "    var buttongrp = document.createElement('div');\n",
       "    buttongrp.classList = 'btn-group inline pull-right';\n",
       "    button = document.createElement('button');\n",
       "    button.classList = 'btn btn-mini btn-primary';\n",
       "    button.href = '#';\n",
       "    button.title = 'Stop Interaction';\n",
       "    button.innerHTML = '<i class=\"fa fa-power-off icon-remove icon-large\"></i>';\n",
       "    button.addEventListener('click', function (_evt) {\n",
       "        fig.handle_close(fig, {});\n",
       "    });\n",
       "    button.addEventListener(\n",
       "        'mouseover',\n",
       "        on_mouseover_closure('Stop Interaction')\n",
       "    );\n",
       "    buttongrp.appendChild(button);\n",
       "    var titlebar = this.root.querySelector('.ui-dialog-titlebar');\n",
       "    titlebar.insertBefore(buttongrp, titlebar.firstChild);\n",
       "};\n",
       "\n",
       "mpl.figure.prototype._remove_fig_handler = function (event) {\n",
       "    var fig = event.data.fig;\n",
       "    if (event.target !== this) {\n",
       "        // Ignore bubbled events from children.\n",
       "        return;\n",
       "    }\n",
       "    fig.close_ws(fig, {});\n",
       "};\n",
       "\n",
       "mpl.figure.prototype._root_extra_style = function (el) {\n",
       "    el.style.boxSizing = 'content-box'; // override notebook setting of border-box.\n",
       "};\n",
       "\n",
       "mpl.figure.prototype._canvas_extra_style = function (el) {\n",
       "    // this is important to make the div 'focusable\n",
       "    el.setAttribute('tabindex', 0);\n",
       "    // reach out to IPython and tell the keyboard manager to turn it's self\n",
       "    // off when our div gets focus\n",
       "\n",
       "    // location in version 3\n",
       "    if (IPython.notebook.keyboard_manager) {\n",
       "        IPython.notebook.keyboard_manager.register_events(el);\n",
       "    } else {\n",
       "        // location in version 2\n",
       "        IPython.keyboard_manager.register_events(el);\n",
       "    }\n",
       "};\n",
       "\n",
       "mpl.figure.prototype._key_event_extra = function (event, _name) {\n",
       "    var manager = IPython.notebook.keyboard_manager;\n",
       "    if (!manager) {\n",
       "        manager = IPython.keyboard_manager;\n",
       "    }\n",
       "\n",
       "    // Check for shift+enter\n",
       "    if (event.shiftKey && event.which === 13) {\n",
       "        this.canvas_div.blur();\n",
       "        // select the cell after this one\n",
       "        var index = IPython.notebook.find_cell_index(this.cell_info[0]);\n",
       "        IPython.notebook.select(index + 1);\n",
       "    }\n",
       "};\n",
       "\n",
       "mpl.figure.prototype.handle_save = function (fig, _msg) {\n",
       "    fig.ondownload(fig, null);\n",
       "};\n",
       "\n",
       "mpl.find_output_cell = function (html_output) {\n",
       "    // Return the cell and output element which can be found *uniquely* in the notebook.\n",
       "    // Note - this is a bit hacky, but it is done because the \"notebook_saving.Notebook\"\n",
       "    // IPython event is triggered only after the cells have been serialised, which for\n",
       "    // our purposes (turning an active figure into a static one), is too late.\n",
       "    var cells = IPython.notebook.get_cells();\n",
       "    var ncells = cells.length;\n",
       "    for (var i = 0; i < ncells; i++) {\n",
       "        var cell = cells[i];\n",
       "        if (cell.cell_type === 'code') {\n",
       "            for (var j = 0; j < cell.output_area.outputs.length; j++) {\n",
       "                var data = cell.output_area.outputs[j];\n",
       "                if (data.data) {\n",
       "                    // IPython >= 3 moved mimebundle to data attribute of output\n",
       "                    data = data.data;\n",
       "                }\n",
       "                if (data['text/html'] === html_output) {\n",
       "                    return [cell, data, j];\n",
       "                }\n",
       "            }\n",
       "        }\n",
       "    }\n",
       "};\n",
       "\n",
       "// Register the function which deals with the matplotlib target/channel.\n",
       "// The kernel may be null if the page has been refreshed.\n",
       "if (IPython.notebook.kernel !== null) {\n",
       "    IPython.notebook.kernel.comm_manager.register_target(\n",
       "        'matplotlib',\n",
       "        mpl.mpl_figure_comm\n",
       "    );\n",
       "}\n"
      ],
      "text/plain": [
       "<IPython.core.display.Javascript object>"
      ]
     },
     "metadata": {},
     "output_type": "display_data"
    },
    {
     "data": {
      "text/html": [
       "<img src=\"data:,\" width=\"0\">"
      ],
      "text/plain": [
       "<IPython.core.display.HTML object>"
      ]
     },
     "metadata": {},
     "output_type": "display_data"
    },
    {
     "data": {
      "text/plain": [
       "[<matplotlib.lines.Line2D at 0x26b3174d520>]"
      ]
     },
     "execution_count": 116,
     "metadata": {},
     "output_type": "execute_result"
    }
   ],
   "source": [
    "from numpy.random import randn\n",
    "fig = plt.figure(); ax = fig.add_subplot(1, 1, 1)\n",
    "ax.plot(randn(1000).cumsum(), 'b', label='one')\n",
    "ax.plot(randn(1000).cumsum(), 'g--', label='two')\n",
    "ax.plot(randn(1000).cumsum(), 'r.', label='three')"
   ]
  },
  {
   "cell_type": "code",
   "execution_count": 114,
   "metadata": {
    "slideshow": {
     "slide_type": "fragment"
    }
   },
   "outputs": [
    {
     "data": {
      "text/plain": [
       "<matplotlib.legend.Legend at 0x26b30202b50>"
      ]
     },
     "execution_count": 114,
     "metadata": {},
     "output_type": "execute_result"
    }
   ],
   "source": [
    "ax.legend(loc='best')\n",
    "#loc:The location of the legend. 'best','center',upper left', 'upper right', 'lower left', 'lower right', 'upper center', 'lower center', 'center left', 'center right'"
   ]
  },
  {
   "cell_type": "markdown",
   "metadata": {
    "slideshow": {
     "slide_type": "slide"
    }
   },
   "source": [
    "### 2.5.4 Saving Plots to File\n",
    "* You can save the active figure to file using **plt.savefig**\n",
    "* The file type is inferred from the file extension. "
   ]
  },
  {
   "cell_type": "code",
   "execution_count": 118,
   "metadata": {
    "slideshow": {
     "slide_type": "fragment"
    }
   },
   "outputs": [],
   "source": [
    "plt.savefig('figpath.svg') # So if you used .pdf instead, you would get a PDF."
   ]
  },
  {
   "cell_type": "markdown",
   "metadata": {
    "slideshow": {
     "slide_type": "slide"
    }
   },
   "source": [
    "## 2.6 Plot in Python"
   ]
  },
  {
   "cell_type": "markdown",
   "metadata": {
    "slideshow": {
     "slide_type": "slide"
    }
   },
   "source": [
    "### 2.6.1 Line Plots\n",
    "* Series and DataFrame each have a plot attribute for making some basic plot types"
   ]
  },
  {
   "cell_type": "code",
   "execution_count": 119,
   "metadata": {
    "slideshow": {
     "slide_type": "slide"
    }
   },
   "outputs": [
    {
     "data": {
      "text/plain": [
       "0    -0.324734\n",
       "10    0.094271\n",
       "20    0.309355\n",
       "30    0.487626\n",
       "40   -0.558013\n",
       "50    0.978360\n",
       "60    0.314306\n",
       "70    0.190868\n",
       "80    1.445556\n",
       "90    3.132188\n",
       "dtype: float64"
      ]
     },
     "execution_count": 119,
     "metadata": {},
     "output_type": "execute_result"
    }
   ],
   "source": [
    "s = pd.Series(np.random.randn(10).cumsum(), index=np.arange(0, 100, 10))\n",
    "s"
   ]
  },
  {
   "cell_type": "code",
   "execution_count": 120,
   "metadata": {
    "slideshow": {
     "slide_type": "fragment"
    }
   },
   "outputs": [
    {
     "data": {
      "text/plain": [
       "<AxesSubplot:>"
      ]
     },
     "execution_count": 120,
     "metadata": {},
     "output_type": "execute_result"
    },
    {
     "data": {
      "image/png": "[encoded data removed]",
      "text/plain": [
       "<Figure size 432x288 with 1 Axes>"
      ]
     },
     "metadata": {
      "needs_background": "light"
     },
     "output_type": "display_data"
    }
   ],
   "source": [
    "%matplotlib inline\n",
    "s.plot()"
   ]
  },
  {
   "cell_type": "code",
   "execution_count": 121,
   "metadata": {
    "slideshow": {
     "slide_type": "slide"
    }
   },
   "outputs": [
    {
     "data": {
      "text/html": [
       "<div>\n",
       "<style scoped>\n",
       "    .dataframe tbody tr th:only-of-type {\n",
       "        vertical-align: middle;\n",
       "    }\n",
       "\n",
       "    .dataframe tbody tr th {\n",
       "        vertical-align: top;\n",
       "    }\n",
       "\n",
       "    .dataframe thead th {\n",
       "        text-align: right;\n",
       "    }\n",
       "</style>\n",
       "<table border=\"1\" class=\"dataframe\">\n",
       "  <thead>\n",
       "    <tr style=\"text-align: right;\">\n",
       "      <th></th>\n",
       "      <th>A</th>\n",
       "      <th>B</th>\n",
       "      <th>C</th>\n",
       "      <th>D</th>\n",
       "    </tr>\n",
       "  </thead>\n",
       "  <tbody>\n",
       "    <tr>\n",
       "      <th>0</th>\n",
       "      <td>0.106535</td>\n",
       "      <td>-0.439086</td>\n",
       "      <td>1.953276</td>\n",
       "      <td>0.296013</td>\n",
       "    </tr>\n",
       "    <tr>\n",
       "      <th>10</th>\n",
       "      <td>0.633007</td>\n",
       "      <td>-2.083680</td>\n",
       "      <td>2.854393</td>\n",
       "      <td>0.724714</td>\n",
       "    </tr>\n",
       "    <tr>\n",
       "      <th>20</th>\n",
       "      <td>-0.264498</td>\n",
       "      <td>-2.549561</td>\n",
       "      <td>2.964232</td>\n",
       "      <td>1.222799</td>\n",
       "    </tr>\n",
       "    <tr>\n",
       "      <th>30</th>\n",
       "      <td>-0.834476</td>\n",
       "      <td>-1.748514</td>\n",
       "      <td>2.478207</td>\n",
       "      <td>1.631568</td>\n",
       "    </tr>\n",
       "    <tr>\n",
       "      <th>40</th>\n",
       "      <td>-0.533099</td>\n",
       "      <td>-1.486509</td>\n",
       "      <td>2.696689</td>\n",
       "      <td>2.994198</td>\n",
       "    </tr>\n",
       "    <tr>\n",
       "      <th>50</th>\n",
       "      <td>-0.370822</td>\n",
       "      <td>-0.713846</td>\n",
       "      <td>3.546191</td>\n",
       "      <td>2.382151</td>\n",
       "    </tr>\n",
       "    <tr>\n",
       "      <th>60</th>\n",
       "      <td>0.216301</td>\n",
       "      <td>0.163434</td>\n",
       "      <td>4.235484</td>\n",
       "      <td>0.990125</td>\n",
       "    </tr>\n",
       "    <tr>\n",
       "      <th>70</th>\n",
       "      <td>1.459963</td>\n",
       "      <td>-0.209367</td>\n",
       "      <td>3.004599</td>\n",
       "      <td>1.089072</td>\n",
       "    </tr>\n",
       "    <tr>\n",
       "      <th>80</th>\n",
       "      <td>2.366223</td>\n",
       "      <td>0.437294</td>\n",
       "      <td>2.052352</td>\n",
       "      <td>-0.411789</td>\n",
       "    </tr>\n",
       "    <tr>\n",
       "      <th>90</th>\n",
       "      <td>0.721599</td>\n",
       "      <td>0.527308</td>\n",
       "      <td>0.447575</td>\n",
       "      <td>-0.694770</td>\n",
       "    </tr>\n",
       "  </tbody>\n",
       "</table>\n",
       "</div>"
      ],
      "text/plain": [
       "           A         B         C         D\n",
       "0   0.106535 -0.439086  1.953276  0.296013\n",
       "10  0.633007 -2.083680  2.854393  0.724714\n",
       "20 -0.264498 -2.549561  2.964232  1.222799\n",
       "30 -0.834476 -1.748514  2.478207  1.631568\n",
       "40 -0.533099 -1.486509  2.696689  2.994198\n",
       "50 -0.370822 -0.713846  3.546191  2.382151\n",
       "60  0.216301  0.163434  4.235484  0.990125\n",
       "70  1.459963 -0.209367  3.004599  1.089072\n",
       "80  2.366223  0.437294  2.052352 -0.411789\n",
       "90  0.721599  0.527308  0.447575 -0.694770"
      ]
     },
     "execution_count": 121,
     "metadata": {},
     "output_type": "execute_result"
    }
   ],
   "source": [
    "df = pd.DataFrame(np.random.randn(10, 4).cumsum(0),\n",
    "                  columns=['A', 'B', 'C', 'D'],\n",
    "                  index=np.arange(0, 100, 10))\n",
    "df"
   ]
  },
  {
   "cell_type": "code",
   "execution_count": 122,
   "metadata": {
    "slideshow": {
     "slide_type": "subslide"
    }
   },
   "outputs": [
    {
     "data": {
      "text/plain": [
       "<AxesSubplot:>"
      ]
     },
     "execution_count": 122,
     "metadata": {},
     "output_type": "execute_result"
    },
    {
     "data": {
      "image/png": "[encoded data removed]",
      "text/plain": [
       "<Figure size 432x288 with 1 Axes>"
      ]
     },
     "metadata": {
      "needs_background": "light"
     },
     "output_type": "display_data"
    }
   ],
   "source": [
    "df.plot()"
   ]
  },
  {
   "cell_type": "markdown",
   "metadata": {
    "slideshow": {
     "slide_type": "slide"
    }
   },
   "source": [
    "### 2.6.2 Bar Plots\n",
    "* The **plot.bar()** and **plot.barh()** make vertical and horizontal bar plots, respectively"
   ]
  },
  {
   "cell_type": "code",
   "execution_count": 124,
   "metadata": {
    "slideshow": {
     "slide_type": "slide"
    }
   },
   "outputs": [
    {
     "data": {
      "text/plain": [
       "<AxesSubplot:>"
      ]
     },
     "execution_count": 124,
     "metadata": {},
     "output_type": "execute_result"
    },
    {
     "data": {
      "image/png": "[encoded data removed]",
      "text/plain": [
       "<Figure size 432x288 with 2 Axes>"
      ]
     },
     "metadata": {
      "needs_background": "light"
     },
     "output_type": "display_data"
    }
   ],
   "source": [
    "fig, axes = plt.subplots(2, 1)\n",
    "data = pd.Series(np.random.rand(16), index=list('abcdefghijklmnop'))\n",
    "data.plot.bar(ax=axes[0], color='k')\n",
    "data.plot.barh(ax=axes[1], color='k')"
   ]
  },
  {
   "cell_type": "markdown",
   "metadata": {
    "slideshow": {
     "slide_type": "slide"
    }
   },
   "source": [
    "* With a DataFrame, bar plots group the values in each row together in a group in bars, side by side, for each value"
   ]
  },
  {
   "cell_type": "code",
   "execution_count": 125,
   "metadata": {
    "slideshow": {
     "slide_type": "fragment"
    }
   },
   "outputs": [
    {
     "data": {
      "text/html": [
       "<div>\n",
       "<style scoped>\n",
       "    .dataframe tbody tr th:only-of-type {\n",
       "        vertical-align: middle;\n",
       "    }\n",
       "\n",
       "    .dataframe tbody tr th {\n",
       "        vertical-align: top;\n",
       "    }\n",
       "\n",
       "    .dataframe thead th {\n",
       "        text-align: right;\n",
       "    }\n",
       "</style>\n",
       "<table border=\"1\" class=\"dataframe\">\n",
       "  <thead>\n",
       "    <tr style=\"text-align: right;\">\n",
       "      <th>Genus</th>\n",
       "      <th>A</th>\n",
       "      <th>B</th>\n",
       "      <th>C</th>\n",
       "      <th>D</th>\n",
       "    </tr>\n",
       "  </thead>\n",
       "  <tbody>\n",
       "    <tr>\n",
       "      <th>one</th>\n",
       "      <td>0.435379</td>\n",
       "      <td>0.626886</td>\n",
       "      <td>0.106206</td>\n",
       "      <td>0.802850</td>\n",
       "    </tr>\n",
       "    <tr>\n",
       "      <th>two</th>\n",
       "      <td>0.963871</td>\n",
       "      <td>0.673473</td>\n",
       "      <td>0.243766</td>\n",
       "      <td>0.241333</td>\n",
       "    </tr>\n",
       "    <tr>\n",
       "      <th>three</th>\n",
       "      <td>0.842995</td>\n",
       "      <td>0.029831</td>\n",
       "      <td>0.272187</td>\n",
       "      <td>0.694746</td>\n",
       "    </tr>\n",
       "    <tr>\n",
       "      <th>four</th>\n",
       "      <td>0.980580</td>\n",
       "      <td>0.597778</td>\n",
       "      <td>0.067267</td>\n",
       "      <td>0.225381</td>\n",
       "    </tr>\n",
       "    <tr>\n",
       "      <th>five</th>\n",
       "      <td>0.652474</td>\n",
       "      <td>0.079846</td>\n",
       "      <td>0.541690</td>\n",
       "      <td>0.077794</td>\n",
       "    </tr>\n",
       "    <tr>\n",
       "      <th>six</th>\n",
       "      <td>0.455934</td>\n",
       "      <td>0.221029</td>\n",
       "      <td>0.131064</td>\n",
       "      <td>0.050353</td>\n",
       "    </tr>\n",
       "  </tbody>\n",
       "</table>\n",
       "</div>"
      ],
      "text/plain": [
       "Genus         A         B         C         D\n",
       "one    0.435379  0.626886  0.106206  0.802850\n",
       "two    0.963871  0.673473  0.243766  0.241333\n",
       "three  0.842995  0.029831  0.272187  0.694746\n",
       "four   0.980580  0.597778  0.067267  0.225381\n",
       "five   0.652474  0.079846  0.541690  0.077794\n",
       "six    0.455934  0.221029  0.131064  0.050353"
      ]
     },
     "execution_count": 125,
     "metadata": {},
     "output_type": "execute_result"
    }
   ],
   "source": [
    "df = pd.DataFrame(np.random.rand(6, 4),\n",
    "                  index=['one', 'two', 'three', 'four', 'five', 'six'],\n",
    "                  columns=pd.Index(['A', 'B', 'C', 'D'], name='Genus'))\n",
    "df"
   ]
  },
  {
   "cell_type": "code",
   "execution_count": 130,
   "metadata": {
    "slideshow": {
     "slide_type": "slide"
    }
   },
   "outputs": [
    {
     "data": {
      "text/plain": [
       "<AxesSubplot:>"
      ]
     },
     "execution_count": 130,
     "metadata": {},
     "output_type": "execute_result"
    },
    {
     "data": {
      "image/png": "[encoded data removed]",
      "text/plain": [
       "<Figure size 432x288 with 1 Axes>"
      ]
     },
     "metadata": {
      "needs_background": "light"
     },
     "output_type": "display_data"
    }
   ],
   "source": [
    "df.plot.bar(stacked=True,)"
   ]
  },
  {
   "cell_type": "markdown",
   "metadata": {
    "slideshow": {
     "slide_type": "slide"
    }
   },
   "source": [
    "* We create stacked bar plots from a DataFrame by passing **stacked=True**, resulting in the value in each row being stacked together"
   ]
  },
  {
   "cell_type": "code",
   "execution_count": 129,
   "metadata": {
    "slideshow": {
     "slide_type": "fragment"
    }
   },
   "outputs": [
    {
     "data": {
      "text/plain": [
       "<AxesSubplot:>"
      ]
     },
     "execution_count": 129,
     "metadata": {},
     "output_type": "execute_result"
    },
    {
     "data": {
      "image/png": "[encoded data removed]",
      "text/plain": [
       "<Figure size 432x288 with 1 Axes>"
      ]
     },
     "metadata": {
      "needs_background": "light"
     },
     "output_type": "display_data"
    }
   ],
   "source": [
    "df.plot.barh(stacked=True,alpha=0.5)"
   ]
  },
  {
   "cell_type": "code",
   "execution_count": 131,
   "metadata": {
    "slideshow": {
     "slide_type": "fragment"
    }
   },
   "outputs": [],
   "source": [
    "plt.close('all')"
   ]
  },
  {
   "cell_type": "markdown",
   "metadata": {
    "slideshow": {
     "slide_type": "slide"
    }
   },
   "source": [
    "## 2.7 Seaborn & Matplotlib: Data Visualization\n",
    "* seaborn is a Python visualization library based on matplotlib. \n",
    "* Its primary goal is to provide a concise, high-level interface for drawing statistical graphics that are both informative and attractive\n",
    "* With data that requires aggregation or summarization before making a plot, using the seaborn package can make things much simpler\n",
    ">* import seaborn as sns"
   ]
  },
  {
   "cell_type": "code",
   "execution_count": 132,
   "metadata": {
    "slideshow": {
     "slide_type": "fragment"
    }
   },
   "outputs": [],
   "source": [
    "import seaborn as sns\n",
    "import matplotlib.pyplot as plt"
   ]
  },
  {
   "cell_type": "markdown",
   "metadata": {
    "slideshow": {
     "slide_type": "slide"
    }
   },
   "source": [
    "https://github.com/mwaskom/seaborn-data/blob/master/tips.csv"
   ]
  },
  {
   "cell_type": "code",
   "execution_count": 133,
   "metadata": {
    "slideshow": {
     "slide_type": "fragment"
    }
   },
   "outputs": [],
   "source": [
    "tips = pd.read_csv('examples/tips.csv')"
   ]
  },
  {
   "cell_type": "code",
   "execution_count": 134,
   "metadata": {
    "slideshow": {
     "slide_type": "fragment"
    }
   },
   "outputs": [
    {
     "data": {
      "text/html": [
       "<div>\n",
       "<style scoped>\n",
       "    .dataframe tbody tr th:only-of-type {\n",
       "        vertical-align: middle;\n",
       "    }\n",
       "\n",
       "    .dataframe tbody tr th {\n",
       "        vertical-align: top;\n",
       "    }\n",
       "\n",
       "    .dataframe thead th {\n",
       "        text-align: right;\n",
       "    }\n",
       "</style>\n",
       "<table border=\"1\" class=\"dataframe\">\n",
       "  <thead>\n",
       "    <tr style=\"text-align: right;\">\n",
       "      <th></th>\n",
       "      <th>total_bill</th>\n",
       "      <th>tip</th>\n",
       "      <th>smoker</th>\n",
       "      <th>day</th>\n",
       "      <th>time</th>\n",
       "      <th>size</th>\n",
       "    </tr>\n",
       "  </thead>\n",
       "  <tbody>\n",
       "    <tr>\n",
       "      <th>0</th>\n",
       "      <td>16.99</td>\n",
       "      <td>1.01</td>\n",
       "      <td>No</td>\n",
       "      <td>Sun</td>\n",
       "      <td>Dinner</td>\n",
       "      <td>2</td>\n",
       "    </tr>\n",
       "    <tr>\n",
       "      <th>1</th>\n",
       "      <td>10.34</td>\n",
       "      <td>1.66</td>\n",
       "      <td>No</td>\n",
       "      <td>Sun</td>\n",
       "      <td>Dinner</td>\n",
       "      <td>3</td>\n",
       "    </tr>\n",
       "    <tr>\n",
       "      <th>2</th>\n",
       "      <td>21.01</td>\n",
       "      <td>3.50</td>\n",
       "      <td>No</td>\n",
       "      <td>Sun</td>\n",
       "      <td>Dinner</td>\n",
       "      <td>3</td>\n",
       "    </tr>\n",
       "    <tr>\n",
       "      <th>3</th>\n",
       "      <td>23.68</td>\n",
       "      <td>3.31</td>\n",
       "      <td>No</td>\n",
       "      <td>Sun</td>\n",
       "      <td>Dinner</td>\n",
       "      <td>2</td>\n",
       "    </tr>\n",
       "    <tr>\n",
       "      <th>4</th>\n",
       "      <td>24.59</td>\n",
       "      <td>3.61</td>\n",
       "      <td>No</td>\n",
       "      <td>Sun</td>\n",
       "      <td>Dinner</td>\n",
       "      <td>4</td>\n",
       "    </tr>\n",
       "    <tr>\n",
       "      <th>...</th>\n",
       "      <td>...</td>\n",
       "      <td>...</td>\n",
       "      <td>...</td>\n",
       "      <td>...</td>\n",
       "      <td>...</td>\n",
       "      <td>...</td>\n",
       "    </tr>\n",
       "    <tr>\n",
       "      <th>239</th>\n",
       "      <td>29.03</td>\n",
       "      <td>5.92</td>\n",
       "      <td>No</td>\n",
       "      <td>Sat</td>\n",
       "      <td>Dinner</td>\n",
       "      <td>3</td>\n",
       "    </tr>\n",
       "    <tr>\n",
       "      <th>240</th>\n",
       "      <td>27.18</td>\n",
       "      <td>2.00</td>\n",
       "      <td>Yes</td>\n",
       "      <td>Sat</td>\n",
       "      <td>Dinner</td>\n",
       "      <td>2</td>\n",
       "    </tr>\n",
       "    <tr>\n",
       "      <th>241</th>\n",
       "      <td>22.67</td>\n",
       "      <td>2.00</td>\n",
       "      <td>Yes</td>\n",
       "      <td>Sat</td>\n",
       "      <td>Dinner</td>\n",
       "      <td>2</td>\n",
       "    </tr>\n",
       "    <tr>\n",
       "      <th>242</th>\n",
       "      <td>17.82</td>\n",
       "      <td>1.75</td>\n",
       "      <td>No</td>\n",
       "      <td>Sat</td>\n",
       "      <td>Dinner</td>\n",
       "      <td>2</td>\n",
       "    </tr>\n",
       "    <tr>\n",
       "      <th>243</th>\n",
       "      <td>18.78</td>\n",
       "      <td>3.00</td>\n",
       "      <td>No</td>\n",
       "      <td>Thur</td>\n",
       "      <td>Dinner</td>\n",
       "      <td>2</td>\n",
       "    </tr>\n",
       "  </tbody>\n",
       "</table>\n",
       "<p>244 rows × 6 columns</p>\n",
       "</div>"
      ],
      "text/plain": [
       "     total_bill   tip smoker   day    time  size\n",
       "0         16.99  1.01     No   Sun  Dinner     2\n",
       "1         10.34  1.66     No   Sun  Dinner     3\n",
       "2         21.01  3.50     No   Sun  Dinner     3\n",
       "3         23.68  3.31     No   Sun  Dinner     2\n",
       "4         24.59  3.61     No   Sun  Dinner     4\n",
       "..          ...   ...    ...   ...     ...   ...\n",
       "239       29.03  5.92     No   Sat  Dinner     3\n",
       "240       27.18  2.00    Yes   Sat  Dinner     2\n",
       "241       22.67  2.00    Yes   Sat  Dinner     2\n",
       "242       17.82  1.75     No   Sat  Dinner     2\n",
       "243       18.78  3.00     No  Thur  Dinner     2\n",
       "\n",
       "[244 rows x 6 columns]"
      ]
     },
     "execution_count": 134,
     "metadata": {},
     "output_type": "execute_result"
    }
   ],
   "source": [
    "tips"
   ]
  },
  {
   "cell_type": "markdown",
   "metadata": {
    "slideshow": {
     "slide_type": "slide"
    }
   },
   "source": [
    "### 2.7.1 Scatter Diagram \n",
    "* This is the simplest way to represent univariate data: just plot each individual data point\n",
    "* In exploratory data analysis, it’s helpful to be able to look at all the scatter plots among a group of variables; this is known as a pairs plot or scatter plot matrix\n",
    "* **plt.plot** and **plt.scatter**\n",
    "* seaborn’s **regplot** method, which makes a scatter plot and fits a linear regression line\n",
    "\n",
    "\n"
   ]
  },
  {
   "cell_type": "code",
   "execution_count": 135,
   "metadata": {
    "slideshow": {
     "slide_type": "subslide"
    }
   },
   "outputs": [
    {
     "data": {
      "text/plain": [
       "[<matplotlib.lines.Line2D at 0x26b320b4ca0>]"
      ]
     },
     "execution_count": 135,
     "metadata": {},
     "output_type": "execute_result"
    },
    {
     "data": {
      "image/png": "[encoded data removed]",
      "text/plain": [
       "<Figure size 432x288 with 1 Axes>"
      ]
     },
     "metadata": {
      "needs_background": "light"
     },
     "output_type": "display_data"
    }
   ],
   "source": [
    "plt.plot(tips[\"total_bill\"],tips[\"tip\"],'.')"
   ]
  },
  {
   "cell_type": "code",
   "execution_count": 136,
   "metadata": {
    "slideshow": {
     "slide_type": "subslide"
    }
   },
   "outputs": [
    {
     "data": {
      "text/plain": [
       "<matplotlib.collections.PathCollection at 0x26b321194f0>"
      ]
     },
     "execution_count": 136,
     "metadata": {},
     "output_type": "execute_result"
    },
    {
     "data": {
      "image/png": "[encoded data removed]",
      "text/plain": [
       "<Figure size 432x288 with 1 Axes>"
      ]
     },
     "metadata": {
      "needs_background": "light"
     },
     "output_type": "display_data"
    }
   ],
   "source": [
    "plt.scatter(tips[\"total_bill\"],tips[\"tip\"])"
   ]
  },
  {
   "cell_type": "code",
   "execution_count": 137,
   "metadata": {
    "slideshow": {
     "slide_type": "subslide"
    }
   },
   "outputs": [
    {
     "data": {
      "text/plain": [
       "<AxesSubplot:xlabel='total_bill', ylabel='tip'>"
      ]
     },
     "execution_count": 137,
     "metadata": {},
     "output_type": "execute_result"
    },
    {
     "data": {
      "image/png": "[encoded data removed]",
      "text/plain": [
       "<Figure size 432x288 with 1 Axes>"
      ]
     },
     "metadata": {
      "needs_background": "light"
     },
     "output_type": "display_data"
    }
   ],
   "source": [
    "sns.regplot(x=\"total_bill\",y=\"tip\",data=tips)"
   ]
  },
  {
   "cell_type": "markdown",
   "metadata": {
    "slideshow": {
     "slide_type": "slide"
    }
   },
   "source": [
    "### 2.7.2 Bar Plots\n",
    "* A diagram that use lines or narrow rectangles (=bars) of different heights (but equal widths) to show different amounts. \n",
    "* They can be compared."
   ]
  },
  {
   "cell_type": "code",
   "execution_count": 138,
   "metadata": {
    "slideshow": {
     "slide_type": "subslide"
    }
   },
   "outputs": [
    {
     "data": {
      "text/plain": [
       "<AxesSubplot:xlabel='day', ylabel='total_bill'>"
      ]
     },
     "execution_count": 138,
     "metadata": {},
     "output_type": "execute_result"
    },
    {
     "data": {
      "image/png": "[encoded data removed]",
      "text/plain": [
       "<Figure size 432x288 with 1 Axes>"
      ]
     },
     "metadata": {
      "needs_background": "light"
     },
     "output_type": "display_data"
    }
   ],
   "source": [
    "sns.barplot(x=\"day\",y=\"total_bill\",data=tips)\n",
    "# Because there are multiple observations for each value in the day, the bars are the average value of total_bill. \n",
    "# The black lines drawn on the bars represent the 95% confidence interval (this can be configured through optional arguments)."
   ]
  },
  {
   "cell_type": "markdown",
   "metadata": {
    "slideshow": {
     "slide_type": "slide"
    }
   },
   "source": [
    "### 2.7.3 Histograms and Density Plots\n",
    "* A histogram is a kind of bar plot that gives a discretized display of value frequency. The data points are split into discrete, evenly spaced bins, and the number of data points in each bin is plotted\n",
    "* Histograms provide a first good overview of the distribution of your data. \n",
    "* If you divide by the overall number of data points, you get a relative frequency histogram;\n",
    "* If you just connect the top center points of each bin, you obtain a relative frequency polygon"
   ]
  },
  {
   "cell_type": "code",
   "execution_count": 139,
   "metadata": {
    "slideshow": {
     "slide_type": "slide"
    }
   },
   "outputs": [
    {
     "data": {
      "text/plain": [
       "<AxesSubplot:xlabel='size', ylabel='Count'>"
      ]
     },
     "execution_count": 139,
     "metadata": {},
     "output_type": "execute_result"
    },
    {
     "data": {
      "image/png": "[encoded data removed]",
      "text/plain": [
       "<Figure size 432x288 with 1 Axes>"
      ]
     },
     "metadata": {
      "needs_background": "light"
     },
     "output_type": "display_data"
    }
   ],
   "source": [
    "values = tips[\"size\"];\n",
    "sns.histplot(values)"
   ]
  },
  {
   "cell_type": "markdown",
   "metadata": {
    "slideshow": {
     "slide_type": "slide"
    }
   },
   "source": [
    "* A related plot type is a **density** plot, which is formed by computing an estimate of a continuous probability distribution that might have generated the observed data"
   ]
  },
  {
   "cell_type": "code",
   "execution_count": 140,
   "metadata": {
    "slideshow": {
     "slide_type": "subslide"
    }
   },
   "outputs": [
    {
     "data": {
      "text/plain": [
       "<AxesSubplot:ylabel='Density'>"
      ]
     },
     "execution_count": 140,
     "metadata": {},
     "output_type": "execute_result"
    },
    {
     "data": {
      "image/png": "[encoded data removed]",
      "text/plain": [
       "<Figure size 432x288 with 1 Axes>"
      ]
     },
     "metadata": {
      "needs_background": "light"
     },
     "output_type": "display_data"
    }
   ],
   "source": [
    "values.plot.density()"
   ]
  },
  {
   "cell_type": "code",
   "execution_count": 141,
   "metadata": {
    "slideshow": {
     "slide_type": "subslide"
    }
   },
   "outputs": [
    {
     "data": {
      "text/plain": [
       "<AxesSubplot:xlabel='size', ylabel='Density'>"
      ]
     },
     "execution_count": 141,
     "metadata": {},
     "output_type": "execute_result"
    },
    {
     "data": {
      "image/png": "[encoded data removed]",
      "text/plain": [
       "<Figure size 432x288 with 1 Axes>"
      ]
     },
     "metadata": {
      "needs_background": "light"
     },
     "output_type": "display_data"
    }
   ],
   "source": [
    "sns.kdeplot(values)"
   ]
  },
  {
   "cell_type": "markdown",
   "metadata": {
    "slideshow": {
     "slide_type": "slide"
    }
   },
   "source": [
    "### 2.7.4 Line Chart\n",
    "* A **point plot** represents an estimate of central tendency for a numeric variable by the position of scatter plot points and provides some indication of the uncertainty around that estimate using error bars."
   ]
  },
  {
   "cell_type": "code",
   "execution_count": 142,
   "metadata": {
    "slideshow": {
     "slide_type": "subslide"
    }
   },
   "outputs": [
    {
     "data": {
      "text/plain": [
       "<AxesSubplot:xlabel='day', ylabel='tip'>"
      ]
     },
     "execution_count": 142,
     "metadata": {},
     "output_type": "execute_result"
    },
    {
     "data": {
      "image/png": "[encoded data removed]",
      "text/plain": [
       "<Figure size 432x288 with 1 Axes>"
      ]
     },
     "metadata": {
      "needs_background": "light"
     },
     "output_type": "display_data"
    }
   ],
   "source": [
    "sns.pointplot(x=\"day\",y=\"tip\",data=tips)"
   ]
  },
  {
   "cell_type": "code",
   "execution_count": 143,
   "metadata": {
    "slideshow": {
     "slide_type": "subslide"
    }
   },
   "outputs": [
    {
     "data": {
      "text/plain": [
       "<AxesSubplot:xlabel='day', ylabel='tip'>"
      ]
     },
     "execution_count": 143,
     "metadata": {},
     "output_type": "execute_result"
    },
    {
     "data": {
      "image/png": "[encoded data removed]",
      "text/plain": [
       "<Figure size 432x288 with 1 Axes>"
      ]
     },
     "metadata": {
      "needs_background": "light"
     },
     "output_type": "display_data"
    }
   ],
   "source": [
    "sns.pointplot(x=\"day\",y=\"tip\",hue='smoker',data=tips)"
   ]
  },
  {
   "cell_type": "markdown",
   "metadata": {
    "slideshow": {
     "slide_type": "slide"
    }
   },
   "source": [
    "### 2.7.5 Box Plot\n",
    "* A box plot (or box-and-whisker plot) shows the distribution of quantitative data in a way that facilitates comparisons between variables or across levels of a categorical variable. The box shows the quartiles of the dataset while the whiskers extend to show the rest of the distribution, except for points that are determined to be “outliers” using a method that is a function of the inter-quartile range."
   ]
  },
  {
   "cell_type": "code",
   "execution_count": 144,
   "metadata": {
    "slideshow": {
     "slide_type": "subslide"
    }
   },
   "outputs": [
    {
     "data": {
      "text/plain": [
       "<AxesSubplot:xlabel='day', ylabel='total_bill'>"
      ]
     },
     "execution_count": 144,
     "metadata": {},
     "output_type": "execute_result"
    },
    {
     "data": {
      "image/png": "[encoded data removed]",
      "text/plain": [
       "<Figure size 432x288 with 1 Axes>"
      ]
     },
     "metadata": {
      "needs_background": "light"
     },
     "output_type": "display_data"
    }
   ],
   "source": [
    "sns.boxplot(x=\"day\",y=\"total_bill\",data=tips)"
   ]
  },
  {
   "cell_type": "markdown",
   "metadata": {
    "slideshow": {
     "slide_type": "slide"
    }
   },
   "source": [
    "### 2.7.6 Pie Charts\n",
    "* Pie charts can be generated with a number of different options"
   ]
  },
  {
   "cell_type": "code",
   "execution_count": 1,
   "metadata": {
    "slideshow": {
     "slide_type": "subslide"
    }
   },
   "outputs": [
    {
     "ename": "NameError",
     "evalue": "name 'plt' is not defined",
     "output_type": "error",
     "traceback": [
      "\u001b[1;31m---------------------------------------------------------------------------\u001b[0m",
      "\u001b[1;31mNameError\u001b[0m                                 Traceback (most recent call last)",
      "Cell \u001b[1;32mIn[1], line 4\u001b[0m\n\u001b[0;32m      2\u001b[0m fractions \u001b[38;5;241m=\u001b[39m [\u001b[38;5;241m45\u001b[39m, \u001b[38;5;241m30\u001b[39m, \u001b[38;5;241m15\u001b[39m, \u001b[38;5;241m10\u001b[39m]\n\u001b[0;32m      3\u001b[0m offsets \u001b[38;5;241m=\u001b[39m(\u001b[38;5;241m0\u001b[39m, \u001b[38;5;241m0.05\u001b[39m, \u001b[38;5;241m0\u001b[39m, \u001b[38;5;241m0\u001b[39m)\n\u001b[1;32m----> 4\u001b[0m \u001b[43mplt\u001b[49m\u001b[38;5;241m.\u001b[39mpie(fractions, explode\u001b[38;5;241m=\u001b[39moffsets, labels\u001b[38;5;241m=\u001b[39mtxtLabels,\n\u001b[0;32m      5\u001b[0m autopct\u001b[38;5;241m=\u001b[39m\u001b[38;5;124m'\u001b[39m\u001b[38;5;132;01m%1.1f\u001b[39;00m\u001b[38;5;132;01m%%\u001b[39;00m\u001b[38;5;124m'\u001b[39m, shadow\u001b[38;5;241m=\u001b[39m\u001b[38;5;28;01mTrue\u001b[39;00m, startangle\u001b[38;5;241m=\u001b[39m\u001b[38;5;241m90\u001b[39m,\n\u001b[0;32m      6\u001b[0m colors\u001b[38;5;241m=\u001b[39msns\u001b[38;5;241m.\u001b[39mcolor_palette(\u001b[38;5;124m'\u001b[39m\u001b[38;5;124mmuted\u001b[39m\u001b[38;5;124m'\u001b[39m) )\n\u001b[0;32m      7\u001b[0m plt\u001b[38;5;241m.\u001b[39maxis(\u001b[38;5;124m'\u001b[39m\u001b[38;5;124mequal\u001b[39m\u001b[38;5;124m'\u001b[39m)\n",
      "\u001b[1;31mNameError\u001b[0m: name 'plt' is not defined"
     ]
    }
   ],
   "source": [
    "txtLabels = 'Cats', 'Dogs', 'Frogs', 'Others'\n",
    "fractions = [45, 30, 15, 10]\n",
    "offsets =(0, 0.05, 0, 0)\n",
    "plt.pie(fractions, explode=offsets, labels=txtLabels,\n",
    "autopct='%1.1f%%', shadow=True, startangle=90,\n",
    "colors=sns.color_palette('muted') )\n",
    "plt.axis('equal')"
   ]
  },
  {
   "cell_type": "code",
   "execution_count": null,
   "metadata": {},
   "outputs": [],
   "source": []
  }
 ],
 "metadata": {
  "celltoolbar": "幻灯片",
  "kernelspec": {
   "display_name": "Python 3",
   "language": "python",
   "name": "python3"
  },
  "language_info": {
   "codemirror_mode": {
    "name": "ipython",
    "version": 3
   },
   "file_extension": ".py",
   "mimetype": "text/x-python",
   "name": "python",
   "nbconvert_exporter": "python",
   "pygments_lexer": "ipython3",
   "version": "3.10.9"
  }
 },
 "nbformat": 4,
 "nbformat_minor": 4
}
