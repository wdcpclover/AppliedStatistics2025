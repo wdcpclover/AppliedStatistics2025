{
 "cells": [
  {
   "cell_type": "markdown",
   "id": "2d5e47d3-7096-4d91-abbc-5daaf4c20807",
   "metadata": {},
   "source": [
    "# **Python Control Structures**\n",
    "\n",
    "This tutorial covers the essential control structures in Python, including conditional statements, loops, and special loop control statements like `continue` and `break`. Additionally, we'll explore how to handle scenarios that would typically use a `switch` statement in other languages since Python does not have a `switch` construct.\n",
    "\n",
    "## 1. Conditional Statements (`if`, `else`, `elif`)\n",
    "\n",
    "**Introduction**: Conditional statements enable conditional execution of code blocks based on Boolean conditions.\n",
    "\n",
    "**Examples**:\n",
    "\n",
    "- **Basic `if` Statement**:"
   ]
  },
  {
   "cell_type": "code",
   "execution_count": 1,
   "id": "503f86bb-cb2e-4817-833a-0edb61a4ab54",
   "metadata": {
    "tags": []
   },
   "outputs": [
    {
     "name": "stdout",
     "output_type": "stream",
     "text": [
      "You are an adult.\n"
     ]
    }
   ],
   "source": [
    "age = 20\n",
    "if age >= 18:\n",
    "    print(\"You are an adult.\")\n"
   ]
  },
  {
   "cell_type": "markdown",
   "id": "eb75c671-8684-48cb-8603-014796957762",
   "metadata": {},
   "source": [
    "**Adding `else`**:"
   ]
  },
  {
   "cell_type": "code",
   "execution_count": 2,
   "id": "48c4b0a7-69bd-471a-bef7-ab3b0e8a1191",
   "metadata": {
    "tags": []
   },
   "outputs": [
    {
     "name": "stdout",
     "output_type": "stream",
     "text": [
      "You are not an adult.\n"
     ]
    }
   ],
   "source": [
    "age = 16\n",
    "if age >= 18:\n",
    "    print(\"You are an adult.\")\n",
    "else:\n",
    "    print(\"You are not an adult.\")\n"
   ]
  },
  {
   "cell_type": "markdown",
   "id": "27861753-5fd2-4f31-92a7-5db2a0df504a",
   "metadata": {},
   "source": [
    "**Using `elif` for Multiple Conditions**:"
   ]
  },
  {
   "cell_type": "code",
   "execution_count": 3,
   "id": "ef4bbe53-9baa-4245-9dc7-98a092eb22b0",
   "metadata": {
    "tags": []
   },
   "outputs": [
    {
     "name": "stdout",
     "output_type": "stream",
     "text": [
      "You are a senior citizen.\n"
     ]
    }
   ],
   "source": [
    "age = 65\n",
    "if age < 18:\n",
    "    print(\"You are a minor.\")\n",
    "elif age < 65:\n",
    "    print(\"You are an adult.\")\n",
    "else:\n",
    "    print(\"You are a senior citizen.\")\n"
   ]
  },
  {
   "cell_type": "markdown",
   "id": "f5517dd2-a6ae-428d-afae-76715f636346",
   "metadata": {},
   "source": [
    "## 2. Loops (`for` and `while`)\n",
    "\n",
    "**Introduction**: Loops are structures used to repeat a block of code a number of times or until a particular condition is met.\n",
    "\n",
    "- **`for` Loop**:"
   ]
  },
  {
   "cell_type": "code",
   "execution_count": 5,
   "id": "118f76ff-f902-4645-968d-1fed2eecdf48",
   "metadata": {
    "tags": []
   },
   "outputs": [
    {
     "name": "stdout",
     "output_type": "stream",
     "text": [
      "apple\n",
      "banana\n",
      "cherry\n"
     ]
    }
   ],
   "source": [
    "fruits = [\"apple\", \"banana\", \"cherry\"]\n",
    "for fruit in fruits:\n",
    "    print(fruit)\n"
   ]
  },
  {
   "cell_type": "markdown",
   "id": "240458fd-751d-4c2a-9bf0-4535e0e159ee",
   "metadata": {},
   "source": [
    "**`while` Loop**:"
   ]
  },
  {
   "cell_type": "code",
   "execution_count": 6,
   "id": "39faf79d-e34c-46c8-8ced-90ac27221841",
   "metadata": {
    "tags": []
   },
   "outputs": [
    {
     "name": "stdout",
     "output_type": "stream",
     "text": [
      "Number: 0\n",
      "Number: 1\n",
      "Number: 2\n",
      "Number: 3\n",
      "Number: 4\n"
     ]
    }
   ],
   "source": [
    "count = 0\n",
    "while count < 5:\n",
    "    print(\"Number:\", count)\n",
    "    count += 1\n"
   ]
  },
  {
   "cell_type": "markdown",
   "id": "ec116527-4ee4-463d-9c2c-0b4920dc4c7b",
   "metadata": {},
   "source": [
    "## 3. Loop Control Statements: `break` and `continue`\n",
    "\n",
    "**Introduction**: `break` and `continue` are used to modify the behavior of loop conditions.\n",
    "\n",
    "- **`continue`**: Skips the rest of the code inside a loop for the current iteration only. Loop does not terminate but proceeds with the next iteration."
   ]
  },
  {
   "cell_type": "code",
   "execution_count": 7,
   "id": "062fd54b-7b5e-4bc4-9141-379329eae6cc",
   "metadata": {
    "tags": []
   },
   "outputs": [
    {
     "name": "stdout",
     "output_type": "stream",
     "text": [
      "Odd number: 1\n",
      "Odd number: 3\n",
      "Odd number: 5\n",
      "Odd number: 7\n",
      "Odd number: 9\n"
     ]
    }
   ],
   "source": [
    "for number in range(10):\n",
    "    if number % 2 == 0:\n",
    "        continue  # Skip print for even numbers.\n",
    "    print(f\"Odd number: {number}\")\n"
   ]
  },
  {
   "cell_type": "markdown",
   "id": "f41eac24-db81-403d-98ee-994ac68a4160",
   "metadata": {},
   "source": [
    "**`break`**: Exits the loop entirely. Used to stop the loop when a particular condition is met."
   ]
  },
  {
   "cell_type": "code",
   "execution_count": 8,
   "id": "3315a52d-1e9c-46fb-b060-09c6b9e079ab",
   "metadata": {
    "tags": []
   },
   "outputs": [
    {
     "name": "stdout",
     "output_type": "stream",
     "text": [
      "Number: 0\n",
      "Number: 1\n",
      "Number: 2\n",
      "Number: 3\n",
      "Number: 4\n",
      "Number: 5\n"
     ]
    }
   ],
   "source": [
    "for number in range(10):\n",
    "    if number > 5:\n",
    "        break  # Exit the loop if number is greater than 5.\n",
    "    print(f\"Number: {number}\")\n"
   ]
  },
  {
   "cell_type": "markdown",
   "id": "fc696e82-9727-4ecf-a581-8cff427f8d3f",
   "metadata": {},
   "source": [
    "## 4. Python's Approach to `Switch`\n",
    "\n",
    "**Introduction**: Python does not have a built-in `switch` statement, but you can use a dictionary to mimic this functionality.\n",
    "\n",
    "**Example**:"
   ]
  },
  {
   "cell_type": "code",
   "execution_count": 9,
   "id": "35d40a0c-8ddd-4684-a53c-8e8b844dd248",
   "metadata": {
    "tags": []
   },
   "outputs": [
    {
     "name": "stdout",
     "output_type": "stream",
     "text": [
      "Case 2\n",
      "Default case\n"
     ]
    }
   ],
   "source": [
    "def switch_case(argument):\n",
    "    switcher = {\n",
    "        1: \"Case 1\",\n",
    "        2: \"Case 2\",\n",
    "        3: \"Case 3\",\n",
    "    }\n",
    "    return switcher.get(argument, \"Default case\")\n",
    "\n",
    "# Test the function\n",
    "print(switch_case(2))\n",
    "print(switch_case(4))\n"
   ]
  },
  {
   "cell_type": "markdown",
   "id": "04c07cf2-02d5-46c7-a389-0b088cf9d6b5",
   "metadata": {},
   "source": [
    "This function uses a dictionary to return a value based on the input. The `get` method returns a default value if the key is not found.\n",
    "\n",
    "## Summary\n",
    "\n",
    "Understanding and effectively utilizing control structures like conditional statements, loops, and special keywords such as `continue`, `break`, and emulating `switch` with dictionaries are fundamental to programming in Python. These tools allow for more dynamic and efficient handling of various programming scenarios."
   ]
  },
  {
   "cell_type": "code",
   "execution_count": null,
   "id": "3a870471-9eeb-43dc-a706-65236d450042",
   "metadata": {},
   "outputs": [],
   "source": []
  }
 ],
 "metadata": {
  "kernelspec": {
   "display_name": "Python [conda env:base] *",
   "language": "python",
   "name": "conda-base-py"
  },
  "language_info": {
   "codemirror_mode": {
    "name": "ipython",
    "version": 3
   },
   "file_extension": ".py",
   "mimetype": "text/x-python",
   "name": "python",
   "nbconvert_exporter": "python",
   "pygments_lexer": "ipython3",
   "version": "3.12.2"
  }
 },
 "nbformat": 4,
 "nbformat_minor": 5
}
