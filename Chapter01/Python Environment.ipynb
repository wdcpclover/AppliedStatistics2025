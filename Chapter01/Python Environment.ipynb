{
 "cells": [
  {
   "cell_type": "markdown",
   "id": "ebc8d0bf-b48a-40c9-a87c-3e449d29b5a1",
   "metadata": {},
   "source": [
    "# **Setting Up Your Python Environment with Anaconda and Jupyter**\n",
    "\n",
    "# **Introduction**\n",
    "\n",
    "Before diving into the fundamentals of Python programming, it's essential to establish a robust development environment. This section will guide you through installing Anaconda, a popular distribution that simplifies package management and deployment, and setting up Jupyter, an interactive notebook that facilitates code writing, debugging, and visualization.\n",
    "\n",
    "# **Step-by-Step Installation Guide**\n",
    "\n",
    "1. **Download Anaconda**:\n",
    "   - Visit the official Anaconda website at Anaconda.com.\n",
    "   - Choose the version of Anaconda you need for your operating system (Windows, macOS, or Linux).\n",
    "   - Download the installer.\n",
    "2. **Install Anaconda**:\n",
    "   - Run the downloaded installer. Follow the on-screen instructions, ensuring that you check the box to \"Add Anaconda to my PATH environment variable\" for easier access via command line.\n",
    "   - Complete the installation and verify it by opening your command line (cmd on Windows, Terminal on macOS and Linux) and typing `conda list`. You should see a list of installed packages.\n",
    "3. **Set Up Jupyter Notebook**:\n",
    "   - Launch Anaconda Navigator, a graphical interface that lets you manage your environments and packages.\n",
    "   - Find Jupyter Notebook in the list of applications and click on it to launch.\n",
    "   - Alternatively, you can open a command line and type `jupyter notebook` to start the Jupyter Notebook.\n",
    "4. **Create Your First Notebook**:\n",
    "   - Once Jupyter opens in your browser, click on “New” at the top right corner, and select \"Python 3\" to start a new notebook.\n",
    "   - A new notebook page will open where you can start typing your Python code.\n",
    "5. **Test Your Setup**:\n",
    "   - In the new Jupyter notebook, type the following code: `print(\"Hello, world!\")`\n",
    "   - Run the cell by pressing Shift + Enter. If everything is set up correctly, you should see the output \"Hello, world!\" below the code cell.\n",
    "\n"
   ]
  },
  {
   "cell_type": "code",
   "execution_count": 1,
   "id": "2a8434a1-2d74-4ecb-b280-95237d5ca63c",
   "metadata": {
    "tags": []
   },
   "outputs": [
    {
     "name": "stdout",
     "output_type": "stream",
     "text": [
      "hello world\n"
     ]
    }
   ],
   "source": [
    "print(\"hello world\")"
   ]
  },
  {
   "cell_type": "code",
   "execution_count": null,
   "id": "f401596d-76a9-4b16-b34a-a7c8dc6fae55",
   "metadata": {},
   "outputs": [],
   "source": []
  }
 ],
 "metadata": {
  "kernelspec": {
   "display_name": "Python [conda env:base] *",
   "language": "python",
   "name": "conda-base-py"
  },
  "language_info": {
   "codemirror_mode": {
    "name": "ipython",
    "version": 3
   },
   "file_extension": ".py",
   "mimetype": "text/x-python",
   "name": "python",
   "nbconvert_exporter": "python",
   "pygments_lexer": "ipython3",
   "version": "3.12.2"
  }
 },
 "nbformat": 4,
 "nbformat_minor": 5
}
