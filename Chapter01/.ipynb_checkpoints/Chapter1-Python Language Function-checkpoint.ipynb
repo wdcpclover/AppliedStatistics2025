{
 "cells": [
  {
   "cell_type": "markdown",
   "id": "940c6f7e-b79d-49c9-92a0-5b8e6df91f7a",
   "metadata": {},
   "source": [
    "## 1. Introduction\n",
    "\n",
    "- What is a Function?\n",
    "  - A function is a block of organized, reusable code that is used to perform a single, related action. Functions provide better modularity for your application and a high degree of code reusing.\n",
    "- The Role of Functions in Programming\n",
    "  - Functions help reduce the need for duplicate code. This makes programs shorter, easier to read, and easier to update.\n",
    "  - They allow the code to be organized into manageable chunks, so that it can be tested more effectively and used repetitively.\n",
    "  - Functions also allow a programmer to focus on the operation being performed rather than the code that performs it.\n",
    "\n"
   ]
  },
  {
   "cell_type": "markdown",
   "id": "325d39d2-f34b-4ee6-936d-65a8109e9a71",
   "metadata": {},
   "source": [
    "## 2. Python Function Basics\n",
    "\n",
    "- **Defining Functions**\n",
    "  - Functions are defined using the `def` keyword followed by a function name and parentheses ().\n",
    "  - Example:"
   ]
  },
  {
   "cell_type": "code",
   "execution_count": 1,
   "id": "07ce7a31-03d1-46c4-b1cf-1151c56103a1",
   "metadata": {},
   "outputs": [],
   "source": [
    "def my_function():\n",
    "    print(\"Hello from a function\")\n"
   ]
  },
  {
   "cell_type": "markdown",
   "id": "1012e305-131a-4707-a5b1-19ce3a5be738",
   "metadata": {},
   "source": [
    "**Function Body: Indentation and Syntax**\n",
    "\n",
    "- The body of the function starts with a colon (:) and is indented.\n",
    "- The indentation is crucial as it defines the scope of the function.\n",
    "- Everything indented under the function definition is considered part of the function’s body.\n",
    "- Example:"
   ]
  },
  {
   "cell_type": "code",
   "execution_count": 2,
   "id": "13c4deb8-7d51-4d12-858a-77cd98ce4f29",
   "metadata": {},
   "outputs": [],
   "source": [
    "def my_function():\n",
    "    # This is the function body.\n",
    "    print(\"Hello from a function\")\n"
   ]
  },
  {
   "cell_type": "markdown",
   "id": "c26f1741-43fe-4191-ba47-05c2ee72f7c0",
   "metadata": {},
   "source": [
    "**Calling Functions**\n",
    "\n",
    "- Once a function is defined, it can be executed by calling it from another function or directly from the Python prompt.\n",
    "- To call a function, use the function name followed by parentheses.\n",
    "- Example:"
   ]
  },
  {
   "cell_type": "code",
   "execution_count": 3,
   "id": "e0a15cc7-cc72-48d3-a178-1646ec9a1760",
   "metadata": {},
   "outputs": [
    {
     "name": "stdout",
     "output_type": "stream",
     "text": [
      "Hello from a function\n"
     ]
    }
   ],
   "source": [
    "my_function()  # This calls the function and executes its body\n"
   ]
  },
  {
   "cell_type": "markdown",
   "id": "40ba0310-e6cd-48c5-9455-1f087843bf9c",
   "metadata": {},
   "source": [
    "## 3. Parameters and Return Values\n",
    "\n",
    "- **Parameters**\n",
    "  - Parameters are variables that accept values passed into the function.\n",
    "  - They allow functions to be flexible and reusable by providing different inputs for the same function logic.\n",
    "  - Example:"
   ]
  },
  {
   "cell_type": "code",
   "execution_count": 4,
   "id": "bb984b41-9b59-46db-be9b-4cef52c5f599",
   "metadata": {},
   "outputs": [],
   "source": [
    "def greet(name):\n",
    "    print(\"Hello, \" + name + \"!\")\n"
   ]
  },
  {
   "cell_type": "markdown",
   "id": "115fd68a-abce-4d05-80b8-2396420c62c0",
   "metadata": {},
   "source": [
    "**Return Values**\n",
    "\n",
    "- Functions can return results to the caller using the `return` statement. A function may return any type of data.\n",
    "- This is useful for capturing the outcome of complex operations within the function.\n",
    "- Example:"
   ]
  },
  {
   "cell_type": "code",
   "execution_count": 5,
   "id": "09703f2f-470d-443b-a5bc-0d9f64bb719f",
   "metadata": {},
   "outputs": [],
   "source": [
    "def add(x, y):\n",
    "    return x + y\n"
   ]
  },
  {
   "cell_type": "markdown",
   "id": "e8603781-6935-4bc0-b0b1-6543207bd68c",
   "metadata": {},
   "source": [
    "**Default Parameters and Keyword Arguments**\n",
    "\n",
    "- Default parameters allow you to specify default values for parameters. If no value is passed when the function is called, the default is used.\n",
    "- Keyword arguments make it possible to pass values in any order by explicitly stating which parameter each value is for.\n",
    "- Example:"
   ]
  },
  {
   "cell_type": "code",
   "execution_count": 6,
   "id": "98570941-a838-499d-8caa-cd9e980e31e5",
   "metadata": {},
   "outputs": [
    {
     "name": "stdout",
     "output_type": "stream",
     "text": [
      "Hello, Alice!\n",
      "Goodbye, Bob!\n"
     ]
    }
   ],
   "source": [
    "def greet(name, greeting=\"Hello\"):\n",
    "    print(greeting + \", \" + name + \"!\")\n",
    "\n",
    "greet(\"Alice\")           # Uses default greeting\n",
    "greet(\"Bob\", \"Goodbye\")  # Overrides default greeting\n"
   ]
  },
  {
   "cell_type": "markdown",
   "id": "b28ca918-9cb2-434f-9e10-5fc48ca26a63",
   "metadata": {},
   "source": [
    "## 4. Local and Global Variables\n",
    "\n",
    "- **Local Variables**\n",
    "  - Local variables are defined within a function and can only be accessed inside that function.\n",
    "  - They are created when the function starts and are destroyed when the function ends.\n",
    "  - Example:"
   ]
  },
  {
   "cell_type": "code",
   "execution_count": 7,
   "id": "932d7491-8bc6-4209-a5fc-4fc73d564a0d",
   "metadata": {},
   "outputs": [],
   "source": [
    "def some_function():\n",
    "    local_variable = \"I am local\"\n",
    "    print(local_variable)  # Works fine here\n",
    "\n",
    "# print(local_variable)  # This would cause an error because it's outside the function\n"
   ]
  },
  {
   "cell_type": "markdown",
   "id": "b14ac535-5f2f-4bcd-85de-0da43fecc7ca",
   "metadata": {},
   "source": [
    "**Global Variables**\n",
    "\n",
    "- Global variables are defined outside any function and can be accessed by any function in the same program.\n",
    "- To modify a global variable inside a function, you must declare it as `global`.\n",
    "- Example:"
   ]
  },
  {
   "cell_type": "code",
   "execution_count": 8,
   "id": "658665f8-476d-4236-b87e-1b9eced78a0d",
   "metadata": {},
   "outputs": [
    {
     "name": "stdout",
     "output_type": "stream",
     "text": [
      "Modified global variable\n",
      "Modified global variable\n"
     ]
    }
   ],
   "source": [
    "global_variable = \"I am global\"\n",
    "\n",
    "def use_global():\n",
    "    global global_variable\n",
    "    global_variable = \"Modified global variable\"\n",
    "    print(global_variable)\n",
    "\n",
    "use_global()  # Outputs \"Modified global variable\"\n",
    "print(global_variable)  # Also outputs \"Modified global variable\"\n"
   ]
  },
  {
   "cell_type": "markdown",
   "id": "787aa5ed-5cfe-45e0-a537-faaffd959b36",
   "metadata": {},
   "source": [
    "**Importance of Variable Scope**\n",
    "\n",
    "- Understanding the scope of variables is crucial for debugging and maintaining code.\n",
    "- It helps prevent variables in one part of a program from interfering with those in another part.\n",
    "- Properly managing local and global variables can lead to cleaner, more reliable, and more scalable code."
   ]
  },
  {
   "cell_type": "markdown",
   "id": "1570c328-50ab-4f4c-909a-a3998c18b768",
   "metadata": {},
   "source": [
    "## 5. Advanced Function Concepts\n",
    "\n",
    "- **Lambda Functions (Anonymous Functions)**\n",
    "  - Lambda functions are small anonymous functions defined with the lambda keyword.\n",
    "  - They can have any number of arguments but only one expression, and the expression is evaluated and returned.\n",
    "  - Example:"
   ]
  },
  {
   "cell_type": "code",
   "execution_count": 9,
   "id": "2086676a-78db-42f5-99b0-4ef16d91c995",
   "metadata": {},
   "outputs": [
    {
     "name": "stdout",
     "output_type": "stream",
     "text": [
      "25\n"
     ]
    }
   ],
   "source": [
    "square = lambda x: x * x\n",
    "print(square(5))  # Outputs 25\n"
   ]
  },
  {
   "cell_type": "markdown",
   "id": "1ca2e988-0acc-4ec8-b3ac-d683d5ddb76e",
   "metadata": {},
   "source": [
    "**Higher-Order Functions**\n",
    "\n",
    "- A higher-order function is a function that either takes one or more functions as arguments or returns a function as its result.\n",
    "- This is a powerful concept in functional programming which allows for functions like `map`, `filter`, and `reduce`.\n",
    "- Example:"
   ]
  },
  {
   "cell_type": "code",
   "execution_count": 11,
   "id": "4d756f12-b541-4ba2-8281-438a9cbf06e7",
   "metadata": {},
   "outputs": [
    {
     "name": "stdout",
     "output_type": "stream",
     "text": [
      "25\n"
     ]
    }
   ],
   "source": [
    "def apply_function(f, value):\n",
    "    return f(value)\n",
    "\n",
    "result = apply_function(lambda x: x*x, 5)  # Outputs 25\n",
    "print(result)\n"
   ]
  },
  {
   "cell_type": "markdown",
   "id": "88c01966-0ca9-43bb-b3f1-c9994b4c83ec",
   "metadata": {},
   "source": [
    "**Recursive Functions**\n",
    "\n",
    "- A recursive function is one that calls itself in its definition.\n",
    "- It must have a base case to terminate recursion. Recursive functions are often used to solve problems that can be broken down into smaller, similar problems.\n",
    "- Example:"
   ]
  },
  {
   "cell_type": "code",
   "execution_count": 12,
   "id": "517bcbf6-5d64-43a0-94fd-6ca4c5554418",
   "metadata": {},
   "outputs": [
    {
     "name": "stdout",
     "output_type": "stream",
     "text": [
      "120\n"
     ]
    }
   ],
   "source": [
    "def factorial(n):\n",
    "    if n == 1:\n",
    "        return 1\n",
    "    else:\n",
    "        return n * factorial(n-1)\n",
    "\n",
    "print(factorial(5))  # Outputs 120\n"
   ]
  },
  {
   "cell_type": "markdown",
   "id": "9e963888-84ba-4259-8074-10a8db51c825",
   "metadata": {},
   "source": [
    "## 6. Error and Exception Handling\n",
    "\n",
    "- **Handling Errors in Function Execution**\n",
    "  - Errors can occur during the execution of a function due to invalid input, operational failures, and more.\n",
    "  - It's important to anticipate and handle these errors to prevent the program from crashing.\n",
    "- **Using `try` and `except` Statements**\n",
    "  - The `try` block lets you test a block of code for errors.\n",
    "  - The `except` block lets you handle the error.\n",
    "  - Example:"
   ]
  },
  {
   "cell_type": "code",
   "execution_count": 13,
   "id": "9292d125-62b5-4160-a5e4-c625760c3096",
   "metadata": {},
   "outputs": [],
   "source": [
    "def divide(x, y):\n",
    "    try:\n",
    "        result = x / y\n",
    "    except ZeroDivisionError:\n",
    "        print(\"Error: Cannot divide by zero.\")\n",
    "    else:\n",
    "        print(\"Result is\", result)\n"
   ]
  },
  {
   "cell_type": "markdown",
   "id": "574304e6-e96e-4c2e-8ef3-4bcf68a13434",
   "metadata": {},
   "source": [
    "- **Best Practices for Clean Code and Error Handling**\n",
    "  - Write clear and understandable code.\n",
    "  - Use meaningful error handling that contributes to robustness.\n",
    "  - Include finally blocks if necessary, to execute code regardless of the result of the try- and except blocks.\n",
    "\n",
    "## 7. Practical Examples and Exercises\n",
    "\n",
    "- Function Writing Case Studies\n",
    "  - Detailed examples of how to write functions to solve common programming problems such as data filtering, aggregation, and transformation.\n",
    "- Exercises for Each Concept\n",
    "  - Hands-on exercises designed to reinforce the learning of each concept covered in the course. These include writing new functions, modifying existing ones, and handling various edge cases.\n",
    "\n",
    "## 8. Conclusion\n",
    "\n",
    "- **The Importance and Utility of Functions**\n",
    "  - Summarize why functions are crucial in programming, emphasizing their role in making code modular, reusable, and clear.\n",
    "- **Review of Main Concepts**\n",
    "  - Recap the key points covered in the course, reinforcing the understanding of function definitions, parameters, return values, scope, and error handling.\n",
    "- **Recommended Reading and Resources**\n",
    "  - Provide a list of books, websites, and other resources for further learning to enhance proficiency in Python and functional programming."
   ]
  },
  {
   "cell_type": "code",
   "execution_count": null,
   "id": "8c195a4f-867e-4197-8e4c-d211aa82c288",
   "metadata": {},
   "outputs": [],
   "source": []
  }
 ],
 "metadata": {
  "kernelspec": {
   "display_name": "Python 3",
   "language": "python",
   "name": "python3"
  },
  "language_info": {
   "codemirror_mode": {
    "name": "ipython",
    "version": 3
   },
   "file_extension": ".py",
   "mimetype": "text/x-python",
   "name": "python",
   "nbconvert_exporter": "python",
   "pygments_lexer": "ipython3",
   "version": "3.10.9"
  }
 },
 "nbformat": 4,
 "nbformat_minor": 5
}
