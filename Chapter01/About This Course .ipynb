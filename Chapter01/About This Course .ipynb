{
 "cells": [
  {
   "cell_type": "markdown",
   "id": "85bcf0ec-ad50-4c39-acde-ccc06e0c9bf3",
   "metadata": {},
   "source": [
    "# **Welcome to Applied Statistics: Integrating Theory with Machine Learning**\n",
    "\n",
    "\n",
    "\n",
    "## **Course Introduction**\n",
    "\n",
    "\n",
    "\n",
    "Welcome to **Applied Statistics**, conducted entirely in **English**. This course bridges the foundational discipline of **applied statistics** with the innovative and rapidly evolving field of **machine learning**. We utilize **Python** as our principal programming language to implement and test statistical models, facilitating both learning and application.\n",
    "\n",
    "\n",
    "\n",
    "## **Course Overview**\n",
    "\n",
    "​\t•\t**Language of Instruction**: **English**\n",
    "\n",
    "​\t•\t**Main Tools**: **Python**, **Jupyter Notebooks**, and various **Python libraries** essential for statistical modeling and machine learning.\n",
    "\n",
    "​\t•\t**Methodology**: A blend of **theoretical instruction**, **hands-on coding sessions**, and **interactive research presentations**.\n",
    "\n",
    "\n",
    "\n",
    "## **Course Objectives**\n",
    "\n",
    "​\t1.\t**Python Programming Foundation**: Starting with the essentials, we cover **Python programming** from basics to intermediate levels, preparing everyone for the statistical content to follow.\n",
    "\n",
    "​\t2.\t**Deep Dive into Applied Statistics**: We explore key **statistical concepts** and their **application**, using Python to bring these methods to life through practical exercises.\n",
    "\n",
    "​\t3.\t**Integration with Machine Learning**: This course highlights how **statistical methods** are integral to **machine learning**, providing a practical framework for understanding and improving **ML algorithms**.\n",
    "\n",
    "​\t4.\t**Active Research Engagement**: A significant portion of our classroom time is devoted to **student presentations**. Each student will be assigned **research papers** related to our study topics, which they are expected to independently read, analyze, and then present to the class. This process is designed to enhance comprehension, foster collaborative learning, and develop presentation skills.\n",
    "\n",
    "​\t5.\t**Project-Based Learning**: Students will undertake **comprehensive projects** that challenge them to apply **statistical methods** and **machine learning techniques** to solve real-world problems, synthesizing theory with practice.\n",
    "\n",
    "\n",
    "\n",
    "## **Expected Outcomes**\n",
    "\n",
    "\n",
    "\n",
    "By the end of this course, students will be adept at:\n",
    "\n",
    "​\t•\tApplying **statistical methods** through **Python**.\n",
    "\n",
    "​\t•\tIntegrating **statistical insights** with **machine learning** projects.\n",
    "\n",
    "​\t•\t**Analyzing** and **interpreting** complex data.\n",
    "\n",
    "​\t•\tConducting **research**, and presenting their findings clearly and effectively.\n",
    "\n",
    "\n",
    "\n",
    "## **Course Philosophy**\n",
    "\n",
    "\n",
    "\n",
    "We adhere to a “**learning by doing**” philosophy, with a strong emphasis on **student participation** and practical application of knowledge. This course is structured to not only teach **applied statistics** and **machine learning** but also to cultivate skills in **research analysis** and **public presentation**, preparing students for both **academic** and **professional success**.\n",
    "\n"
   ]
  },
  {
   "cell_type": "markdown",
   "id": "783afcc3-ffe9-46d8-9a76-d8511d80a470",
   "metadata": {},
   "source": [
    "## Books and Resources"
   ]
  },
  {
   "cell_type": "markdown",
   "id": "252b4faa-2264-4369-a0fb-1d0d6e96ba2c",
   "metadata": {},
   "source": [
    "#### (1) An Introduction to Statistics with Python\n",
    "<img src=\"images/ISP.jpg\" width=\"200px\" align=\"center\" >\n",
    "\n",
    "* This textbook provides an introduction to the free software Python and its use for statistical data analysis. It covers common statistical tests for continuous, discrete and categorical data, as well as linear regression analysis and topics from survival analysis and Bayesian statistics. Working code and data for Python solutions for each test, together with easy-to-follow Python examples, can be reproduced by the reader and reinforce their immediate understanding of the topic. With recent advances in the Python ecosystem, Python has become a popular language for scientific computing, offering a powerful environment for statistical data analysis and an interesting alternative to R. As it also provides some statistics background, the book can be used by anyone who wants to perform a statistical data analysis.\n",
    "\n",
    "* [https://link.springer.com/book/10.1007/978-3-319-28316-6](https://link.springer.com/book/10.1007/978-3-319-28316-6)"
   ]
  },
  {
   "cell_type": "markdown",
   "id": "844c9f09-5327-42e0-9d11-692df189ebf9",
   "metadata": {},
   "source": [
    "#### (2)An Introduction to Statistical Learning\n",
    "<img src=\"images/isl.jpg\" width=\"200px\" align=\"center\" >\n",
    "\n",
    "* This book is intended for anyone who is interested in using modern statistical methods for modeling and prediction from data. Such as  linear regression, logistic regression, support vector machines, K-means clustering, and so on.\n",
    "* This book provides an introduction to the statistical programming laguage R.\n",
    "\n",
    "* Open Course: Stanford University - Statistical learning"
   ]
  },
  {
   "cell_type": "markdown",
   "id": "40f04660-d014-472b-bc38-bd2f90f0af11",
   "metadata": {},
   "source": [
    "#### (3) Business Statistics A First Course\n",
    "<img src=\"images/bs.jpg\" width=\"200px\" align=\"center\" >\n",
    "\n",
    "* Business Statistics: A First Course helps students see the role statistics will play in their own careers by providing examples drawn from all functional areas of business.In this book, you will learn many basic knowledge of statistics, including descriptive statistics and Inferential Statistics.\n",
    "\n",
    "* Open Courses;Princeton University-Statistics One"
   ]
  },
  {
   "cell_type": "markdown",
   "id": "f0bfa87a-dfc9-4d32-bd4e-5ed346ba819e",
   "metadata": {},
   "source": [
    "#### (4) An Introduction to Statistics with Python\n",
    "<img src=\"images/pda.jpg\" width=\"200px\" align=\"center\" >\n",
    "\n",
    "* This book is concerned with the nuts and bolts of manipulating, processing, cleaning,and crunching data in Python. \n",
    "* Its goal is to offer a guide to the parts of the Python programming language and its data-oriented library ecosystem and tools that will equip you to become an effective data analyst. \n",
    "* While “Applied Statistics” is in the title of the course, the focus is specifically on Python programming, libraries, and tools as opposed to data analysis methodology. \n",
    "\n",
    "> This is the Python programming you need for data analysis\n",
    "\n",
    "* [https://www.oreilly.com/library/view/python-for-data/9781449323592/](https://www.oreilly.com/library/view/python-for-data/9781449323592/)\n"
   ]
  },
  {
   "cell_type": "code",
   "execution_count": null,
   "id": "dc490d3c-39fa-4be0-96e9-3b39f361682a",
   "metadata": {
    "jupyter": {
     "is_executing": true
    }
   },
   "outputs": [],
   "source": []
  }
 ],
 "metadata": {
  "kernelspec": {
   "display_name": "Python [conda env:base] *",
   "language": "python",
   "name": "conda-base-py"
  },
  "language_info": {
   "codemirror_mode": {
    "name": "ipython",
    "version": 3
   },
   "file_extension": ".py",
   "mimetype": "text/x-python",
   "name": "python",
   "nbconvert_exporter": "python",
   "pygments_lexer": "ipython3",
   "version": "3.12.2"
  }
 },
 "nbformat": 4,
 "nbformat_minor": 5
}
