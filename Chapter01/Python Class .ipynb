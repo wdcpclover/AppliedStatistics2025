{
 "cells": [
  {
   "cell_type": "markdown",
   "id": "8ba1a243-27bf-402c-9d21-7c1580a8255b",
   "metadata": {},
   "source": [
    "**Python Class Lecture**\n",
    "\n",
    "\n",
    "\n",
    "**1. What is a Class?**\n",
    "\n",
    "\n",
    "\n",
    "A class is one of the core concepts in object-oriented programming (OOP). It is a blueprint for creating objects (instances). A class defines the attributes (data) and methods (behaviors) of the objects. By using classes, we can organize code to make it more reusable and extendable.\n",
    "\n",
    "​\t•\t**Class**: A blueprint for creating objects, defining their attributes and methods.\n",
    "\n",
    "​\t•\t**Object**: An instance of a class, a specific entity created from the class.\n",
    "\n",
    "\n",
    "\n",
    "**2. Defining a Class**\n",
    "\n",
    "\n",
    "\n",
    "In Python, a class is defined using the class keyword. The basic structure of a class is as follows:\n",
    "\n",
    "```\n",
    "class ClassName:\n",
    "    def __init__(self, parameters):\n",
    "        # Constructor, initializes the object\n",
    "        self.attribute1 = value1\n",
    "        self.attribute2 = value2\n",
    "\n",
    "    def method1(self):\n",
    "        # Define method\n",
    "        pass\n",
    "\n",
    "    def method2(self):\n",
    "        pass\n",
    "```\n",
    "\n",
    "​\t•\tThe class keyword defines the class.\n",
    "\n",
    "​\t•\tThe __init__ method is the constructor (initializer), which is automatically called when an object is created and initializes the object’s attributes.\n",
    "\n",
    "​\t•\tThe self parameter refers to the current object and is the first parameter of the class methods.\n",
    "\n",
    "\n",
    "\n",
    "**3. Creating an Instance of a Class**\n",
    "\n",
    "\n",
    "\n",
    "Once a class is defined, we can create instances of the class. When creating an instance, the class’s constructor __init__ is automatically called.\n",
    "\n",
    "\n",
    "\n",
    "**Example:**"
   ]
  },
  {
   "cell_type": "code",
   "execution_count": 3,
   "id": "066a5134-4c15-4e49-b972-7c3ff05db664",
   "metadata": {},
   "outputs": [
    {
     "name": "stdout",
     "output_type": "stream",
     "text": [
      "Buddy says Woof!\n"
     ]
    }
   ],
   "source": [
    "class Dog:\n",
    "    def __init__(self, name, age):\n",
    "        self.name = name\n",
    "        self.age = age\n",
    "    \n",
    "    def bark(self):\n",
    "        print(f\"{self.name} says Woof!\")\n",
    "        \n",
    "# Create an instance of the Dog class\n",
    "dog1 = Dog(\"Buddy\", 3)\n",
    "dog1.bark()  # Output: Buddy says Woof!"
   ]
  },
  {
   "cell_type": "markdown",
   "id": "a51a6b17-0adf-4ae3-85fe-4c59f9d00db4",
   "metadata": {},
   "source": [
    "**4. Class Attributes and Methods**\n",
    "\n",
    "​\t•\t**Attributes**: Variables in a class that store the object’s state or data.\n",
    "\n",
    "​\t•\t**Methods**: Functions in a class that define the object’s behavior.\n",
    "\n",
    "\n",
    "\n",
    "**Example:**"
   ]
  },
  {
   "cell_type": "code",
   "execution_count": 6,
   "id": "f8ec47f2-bdb0-4e5a-848b-8c7f05388bbd",
   "metadata": {},
   "outputs": [
    {
     "name": "stdout",
     "output_type": "stream",
     "text": [
      "The Toyota Corolla is now running.\n",
      "The Toyota Corolla has stopped.\n"
     ]
    }
   ],
   "source": [
    "class Car:\n",
    "    def __init__(self, brand, model):\n",
    "        self.brand = brand\n",
    "        self.model = model\n",
    "        self.is_running = False\n",
    "    \n",
    "    def start(self):\n",
    "        self.is_running = True\n",
    "        print(f\"The {self.brand} {self.model} is now running.\")\n",
    "    \n",
    "    def stop(self):\n",
    "        self.is_running = False\n",
    "        print(f\"The {self.brand} {self.model} has stopped.\")\n",
    "\n",
    "# Create an instance of the Car class\n",
    "car1 = Car(\"Toyota\", \"Corolla\")\n",
    "car1.start()  # Output: The Toyota Corolla is now running.\n",
    "car1.stop()   # Output: The Toyota Corolla has stopped."
   ]
  },
  {
   "cell_type": "markdown",
   "id": "f1753977-b562-415d-9bbc-303bbc988853",
   "metadata": {},
   "source": [
    "**5. Class Inheritance**\n",
    "\n",
    "\n",
    "\n",
    "Inheritance is an important feature in object-oriented programming that allows us to create new classes based on an existing class, inheriting the parent class’s attributes and methods. A subclass can override the parent class’s methods or add new methods.\n",
    "\n",
    "\n",
    "\n",
    "**Example:**"
   ]
  },
  {
   "cell_type": "code",
   "execution_count": 9,
   "id": "08c9d676-e6c5-4aa2-b845-e87854fc9ec6",
   "metadata": {},
   "outputs": [
    {
     "name": "stdout",
     "output_type": "stream",
     "text": [
      "Rex barks!\n",
      "Whiskers meows!\n"
     ]
    }
   ],
   "source": [
    "class Animal:\n",
    "    def __init__(self, name):\n",
    "        self.name = name\n",
    "    \n",
    "    def speak(self):\n",
    "        pass  # Parent class method, can be overridden by subclasses\n",
    "\n",
    "class Dog(Animal):\n",
    "    def speak(self):\n",
    "        print(f\"{self.name} barks!\")\n",
    "        \n",
    "class Cat(Animal):\n",
    "    def speak(self):\n",
    "        print(f\"{self.name} meows!\")\n",
    "        \n",
    "# Create instances of Dog and Cat classes\n",
    "dog = Dog(\"Rex\")\n",
    "cat = Cat(\"Whiskers\")\n",
    "dog.speak()  # Output: Rex barks!\n",
    "cat.speak()  # Output: Whiskers meows!"
   ]
  },
  {
   "cell_type": "markdown",
   "id": "8a96986f-f1bc-424d-b6d6-7b8848a0e813",
   "metadata": {},
   "source": [
    "In the above example, both the Dog and Cat classes inherit from the Animal class and override the speak method.\n",
    "\n",
    "\n",
    "\n",
    "**6. Polymorphism**\n",
    "\n",
    "\n",
    "\n",
    "Polymorphism means that the same method call can have different behaviors depending on the object it is called on. Inheritance and method overriding are common ways to achieve polymorphism.\n",
    "\n",
    "\n",
    "\n",
    "**Example:**"
   ]
  },
  {
   "cell_type": "code",
   "execution_count": 12,
   "id": "d7e88790-17a2-4eba-aef8-41616a6a36c9",
   "metadata": {},
   "outputs": [
    {
     "name": "stdout",
     "output_type": "stream",
     "text": [
      "Parrot chirps!\n"
     ]
    }
   ],
   "source": [
    "class Bird(Animal):\n",
    "    def speak(self):\n",
    "        print(f\"{self.name} chirps!\")\n",
    "\n",
    "# Create an instance of the Bird class\n",
    "bird = Bird(\"Parrot\")\n",
    "bird.speak()  # Output: Parrot chirps!"
   ]
  },
  {
   "cell_type": "markdown",
   "id": "1712dc26-9656-428b-a7d9-e17b90debab1",
   "metadata": {},
   "source": [
    "Different subclasses have different implementations of the speak method, which demonstrates polymorphism.\n",
    "\n",
    "\n",
    "\n",
    "**7. Encapsulation**\n",
    "\n",
    "\n",
    "\n",
    "Encapsulation is another important feature of object-oriented programming. It refers to bundling the data (attributes) and the code (methods) that operates on the data within a class, and controlling access to them. In Python, we can use underscores _ or __ to indicate private attributes or methods.\n",
    "\n",
    "​\t•\t**Single underscore _**: Indicates the attribute or method is “protected,” meaning it can be accessed from outside, but it is not recommended.\n",
    "\n",
    "​\t•\t**Double underscore __**: Indicates the attribute or method is “private,” meaning it should not be accessed from outside.\n",
    "\n",
    "\n",
    "\n",
    "**Example:**"
   ]
  },
  {
   "cell_type": "code",
   "execution_count": 15,
   "id": "2a9eb784-d716-4bd7-8cbf-daa90d76bdce",
   "metadata": {},
   "outputs": [
    {
     "name": "stdout",
     "output_type": "stream",
     "text": [
      "Deposited 500. New balance: 1500\n",
      "1500\n"
     ]
    }
   ],
   "source": [
    "class BankAccount:\n",
    "    def __init__(self, balance):\n",
    "        self.__balance = balance  # Private attribute\n",
    "    \n",
    "    def deposit(self, amount):\n",
    "        if amount > 0:\n",
    "            self.__balance += amount\n",
    "            print(f\"Deposited {amount}. New balance: {self.__balance}\")\n",
    "        else:\n",
    "            print(\"Deposit amount must be positive.\")\n",
    "    \n",
    "    def get_balance(self):\n",
    "        return self.__balance\n",
    "\n",
    "# Create an instance of the BankAccount class\n",
    "account = BankAccount(1000)\n",
    "account.deposit(500)  # Output: Deposited 500. New balance: 1500\n",
    "print(account.get_balance())  # Output: 1500"
   ]
  },
  {
   "cell_type": "markdown",
   "id": "3aa6d3fa-df07-486e-ad3a-4bdba3d4ac5c",
   "metadata": {},
   "source": [
    "In the example, __balance is a private attribute and cannot be accessed directly from outside the class. Instead, we provide public methods deposit and get_balance to access and modify it.\n",
    "\n",
    "\n",
    "\n",
    "**8. Class Methods and Static Methods**\n",
    "\n",
    "​\t•\t**Class methods**: Defined using the @classmethod decorator. The first parameter is the class itself, usually referred to as cls. Class methods typically operate on class-level data.\n",
    "\n",
    "​\t•\t**Static methods**: Defined using the @staticmethod decorator. They do not take any special first parameter and are typically used to perform operations that are independent of the class or instance.\n",
    "\n",
    "\n",
    "\n",
    "**Example:**"
   ]
  },
  {
   "cell_type": "code",
   "execution_count": 18,
   "id": "9fa7618d-f5e4-4795-a51e-97e3d426fbb1",
   "metadata": {},
   "outputs": [
    {
     "name": "stdout",
     "output_type": "stream",
     "text": [
      "I am a class variable\n",
      "Hello, welcome to MyClass!\n"
     ]
    }
   ],
   "source": [
    "class MyClass:\n",
    "    class_variable = \"I am a class variable\"\n",
    "    \n",
    "    def __init__(self, name):\n",
    "        self.name = name\n",
    "    \n",
    "    @classmethod\n",
    "    def get_class_variable(cls):\n",
    "        return cls.class_variable\n",
    "    \n",
    "    @staticmethod\n",
    "    def greet():\n",
    "        print(\"Hello, welcome to MyClass!\")\n",
    "\n",
    "# Create an instance of the class\n",
    "obj = MyClass(\"Object1\")\n",
    "print(MyClass.get_class_variable())  # Output: I am a class variable\n",
    "MyClass.greet()  # Output: Hello, welcome to MyClass!"
   ]
  },
  {
   "cell_type": "markdown",
   "id": "7b7f2001-e350-474f-982f-7a4401ccd812",
   "metadata": {},
   "source": [
    "**9. Summary**\n",
    "\n",
    "​\t•\t**Class**: A blueprint for creating objects, defining their attributes and methods.\n",
    "\n",
    "​\t•\t**Object**: An instance of a class, a specific entity created from the class.\n",
    "\n",
    "​\t•\t**Inheritance**: Allows us to create new classes based on existing ones, and override methods.\n",
    "\n",
    "​\t•\t**Polymorphism**: The ability to use the same method call with different objects, leading to different behaviors.\n",
    "\n",
    "​\t•\t**Encapsulation**: Bundles data and methods together, and restricts external access to private attributes and methods.\n",
    "\n",
    "​\t•\t**Class methods** and **Static methods** provide ways to interact with class-level data or perform independent operations.\n",
    "\n"
   ]
  },
  {
   "cell_type": "code",
   "execution_count": null,
   "id": "f03e03d9-d300-44a0-8a16-99c09ca60b3a",
   "metadata": {},
   "outputs": [],
   "source": []
  }
 ],
 "metadata": {
  "kernelspec": {
   "display_name": "Python [conda env:base] *",
   "language": "python",
   "name": "conda-base-py"
  },
  "language_info": {
   "codemirror_mode": {
    "name": "ipython",
    "version": 3
   },
   "file_extension": ".py",
   "mimetype": "text/x-python",
   "name": "python",
   "nbconvert_exporter": "python",
   "pygments_lexer": "ipython3",
   "version": "3.12.2"
  }
 },
 "nbformat": 4,
 "nbformat_minor": 5
}
