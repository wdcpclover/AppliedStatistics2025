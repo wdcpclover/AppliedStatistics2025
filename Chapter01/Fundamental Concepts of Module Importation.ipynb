{
 "cells": [
  {
   "cell_type": "markdown",
   "id": "7716ad27-b7f3-47e1-abb8-2b82cc93293d",
   "metadata": {},
   "source": [
    "## **1、: Basic Concepts of Module Importation**\n",
    "\n",
    "#### **What is a Module?**\n",
    "\n",
    "- **Definition**: A module is a file containing Python definitions and statements. It is designed to logically organize Python code.\n",
    "- **Purpose**: Modules allow you to logically separate your code into different parts. This helps in code maintenance, reusability, and keeping the namespace clean.\n",
    "\n",
    "#### **Types of Python Modules**\n",
    "\n",
    "- **Standard Library Modules**: Modules that come pre-installed with Python, like `os`, `sys`, and `math`.\n",
    "- **Third-party Modules**: Modules that can be installed using package managers like pip, such as `numpy` or `pandas`.\n",
    "- **Custom Modules**: Modules that you write yourself within your project.\n",
    "\n",
    "------"
   ]
  },
  {
   "cell_type": "code",
   "execution_count": 1,
   "id": "a1ea2a44-1541-4820-ac91-3fbc83859459",
   "metadata": {},
   "outputs": [
    {
     "ename": "ModuleNotFoundError",
     "evalue": "No module named 'module_name'",
     "output_type": "error",
     "traceback": [
      "\u001b[1;31m---------------------------------------------------------------------------\u001b[0m",
      "\u001b[1;31mModuleNotFoundError\u001b[0m                       Traceback (most recent call last)",
      "Cell \u001b[1;32mIn[1], line 1\u001b[0m\n\u001b[1;32m----> 1\u001b[0m \u001b[38;5;28;01mimport\u001b[39;00m \u001b[38;5;21;01mmodule_name\u001b[39;00m\n",
      "\u001b[1;31mModuleNotFoundError\u001b[0m: No module named 'module_name'"
     ]
    }
   ],
   "source": [
    "import module_name"
   ]
  },
  {
   "cell_type": "markdown",
   "id": "ab72af13-6829-4c2c-ba83-150f2785f8e3",
   "metadata": {},
   "source": [
    "Importing Specific Functions"
   ]
  },
  {
   "cell_type": "code",
   "execution_count": null,
   "id": "75630945-b099-4a1e-b721-35c63e254dc6",
   "metadata": {},
   "outputs": [],
   "source": [
    "from module_name import function_name"
   ]
  },
  {
   "cell_type": "markdown",
   "id": "fa3a7784-3daf-4fe6-8f03-add8ac844db4",
   "metadata": {},
   "source": [
    "#### **Using the `as` Keyword for Aliasing**\n",
    "\n",
    "- Aliasing a Module"
   ]
  },
  {
   "cell_type": "code",
   "execution_count": 2,
   "id": "2ae7c638-45b3-49df-9100-a1c6e8cde262",
   "metadata": {},
   "outputs": [],
   "source": [
    "import numpy as np"
   ]
  },
  {
   "cell_type": "markdown",
   "id": "1791ff91-d404-402f-85a2-9bd09277af95",
   "metadata": {},
   "source": [
    "Aliasing a Function"
   ]
  },
  {
   "cell_type": "code",
   "execution_count": 3,
   "id": "09bbd151-0052-4293-9b6e-c2834f382a8c",
   "metadata": {},
   "outputs": [],
   "source": [
    "from matplotlib import pyplot as plt"
   ]
  },
  {
   "cell_type": "markdown",
   "id": "d844632a-18dd-47b2-8155-04194d43a369",
   "metadata": {},
   "source": [
    "#### **Best Practices**\n",
    "\n",
    "- **Why Alias?**: Aliasing can make your code more readable and shorter, especially when dealing with modules that have long names.\n",
    "- **Scope of Imports**: Understanding the scope and namespace implications of different import methods.\n",
    "\n",
    "------\n",
    "\n",
    "### **3、: Organizing and Packaging Modules**\n",
    "\n",
    "#### **Organizing Larger Python Projects**\n",
    "\n",
    "- **Modular Design**: Break down a large application into smaller, manageable, and organized modules.\n",
    "\n",
    "#### **Using Packages to Organize Modules**\n",
    "\n",
    "- **What is a Package?**: A package is a directory of Python scripts. Each script is a module. Packages allow for a hierarchical structuring of the module namespace.\n",
    "- **`__init__.py`:** The role of the `__init__.py` file in making Python treat directories as containing packages. It can be empty or can contain code to initialize the package.\n",
    "\n",
    "#### **How to Import from Packages**\n",
    "\n",
    "- Simple Import  : Importing modules from a package."
   ]
  },
  {
   "cell_type": "code",
   "execution_count": 4,
   "id": "2aa904d1-a777-410a-8c02-b6f1a9039ab0",
   "metadata": {},
   "outputs": [
    {
     "ename": "ModuleNotFoundError",
     "evalue": "No module named 'package'",
     "output_type": "error",
     "traceback": [
      "\u001b[1;31m---------------------------------------------------------------------------\u001b[0m",
      "\u001b[1;31mModuleNotFoundError\u001b[0m                       Traceback (most recent call last)",
      "Cell \u001b[1;32mIn[4], line 1\u001b[0m\n\u001b[1;32m----> 1\u001b[0m \u001b[38;5;28;01mfrom\u001b[39;00m \u001b[38;5;21;01mpackage\u001b[39;00m \u001b[38;5;28;01mimport\u001b[39;00m module_name\n",
      "\u001b[1;31mModuleNotFoundError\u001b[0m: No module named 'package'"
     ]
    }
   ],
   "source": [
    "from package import module_name"
   ]
  },
  {
   "cell_type": "markdown",
   "id": "25c0ff0f-4200-4701-b480-982e26cf1c87",
   "metadata": {},
   "source": [
    "Deep Import: Importing specific attributes from a module in a deep package structure."
   ]
  },
  {
   "cell_type": "code",
   "execution_count": null,
   "id": "1e55c712-fef7-457a-b3aa-34e1cad1f33a",
   "metadata": {},
   "outputs": [],
   "source": [
    "from package.subpackage.module import function_name"
   ]
  }
 ],
 "metadata": {
  "kernelspec": {
   "display_name": "Python [conda env:base] *",
   "language": "python",
   "name": "conda-base-py"
  },
  "language_info": {
   "codemirror_mode": {
    "name": "ipython",
    "version": 3
   },
   "file_extension": ".py",
   "mimetype": "text/x-python",
   "name": "python",
   "nbconvert_exporter": "python",
   "pygments_lexer": "ipython3",
   "version": "3.12.2"
  }
 },
 "nbformat": 4,
 "nbformat_minor": 5
}
