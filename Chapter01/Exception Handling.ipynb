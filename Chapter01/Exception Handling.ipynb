{
 "cells": [
  {
   "cell_type": "markdown",
   "id": "983e69ae-1dfb-4e02-bcb0-fd4e48b93af1",
   "metadata": {},
   "source": [
    "**Exception Handling**\n",
    "\n",
    "\n",
    "\n",
    "**1. What is an Exception?**\n",
    "\n",
    "\n",
    "\n",
    "An exception refers to an error or an unexpected situation that occurs during the execution of a program. If the error is not handled, the program will crash and stop executing. Exception handling allows a program to continue running even when an error occurs, by dealing with the error as needed.\n",
    "\n",
    "\n",
    "\n",
    "**2. Basic Structure of Exception Handling in Python**\n",
    "\n",
    "\n",
    "\n",
    "In Python, exception handling is done using try, except, else, and finally statements. The try block contains code that might raise an exception, the except block handles the exception, the else block runs if no exception occurs, and the finally block runs regardless of whether an exception occurred.\n",
    "\n",
    "\n",
    "\n",
    "**Basic Structure:**\n",
    "\n",
    "```\n",
    "try:\n",
    "    # Code that might cause an error\n",
    "    result = 10 / 0\n",
    "except ZeroDivisionError as e:\n",
    "    # Catch and handle the exception\n",
    "    print(f\"Error occurred: {e}\")\n",
    "else:\n",
    "    # Code to run if no exception occurs\n",
    "    print(\"No error occurred\")\n",
    "finally:\n",
    "    # Code that always runs\n",
    "    print(\"This block is always executed.\")\n",
    "```\n",
    "\n",
    "**3. Catching Multiple Exceptions**\n",
    "\n",
    "\n",
    "\n",
    "You can catch different types of exceptions in a single try block. You can use multiple except blocks to handle different types of exceptions, or use one except block to catch multiple exceptions.\n",
    "\n",
    "\n",
    "\n",
    "**Example:**"
   ]
  },
  {
   "cell_type": "code",
   "execution_count": 3,
   "id": "acf99aef-042e-4d4f-b9a1-31ff07318b5f",
   "metadata": {},
   "outputs": [
    {
     "name": "stdin",
     "output_type": "stream",
     "text": [
      "Enter a number:  0\n"
     ]
    },
    {
     "name": "stdout",
     "output_type": "stream",
     "text": [
      "Cannot divide by zero.\n",
      "Execution completed.\n"
     ]
    }
   ],
   "source": [
    "try:\n",
    "    x = int(input(\"Enter a number: \"))\n",
    "    result = 10 / x\n",
    "except ZeroDivisionError:\n",
    "    print(\"Cannot divide by zero.\")\n",
    "except ValueError:\n",
    "    print(\"Invalid input. Please enter a valid number.\")\n",
    "except Exception as e:\n",
    "    print(f\"An unexpected error occurred: {e}\")\n",
    "else:\n",
    "    print(\"Calculation successful!\")\n",
    "finally:\n",
    "    print(\"Execution completed.\")"
   ]
  },
  {
   "cell_type": "code",
   "execution_count": 5,
   "id": "6d1e231c-4f15-4287-b4a0-303e1f782b53",
   "metadata": {},
   "outputs": [
    {
     "name": "stdin",
     "output_type": "stream",
     "text": [
      "Enter a number:  0\n"
     ]
    },
    {
     "ename": "ZeroDivisionError",
     "evalue": "division by zero",
     "output_type": "error",
     "traceback": [
      "\u001b[0;31m---------------------------------------------------------------------------\u001b[0m",
      "\u001b[0;31mZeroDivisionError\u001b[0m                         Traceback (most recent call last)",
      "Cell \u001b[0;32mIn[5], line 2\u001b[0m\n\u001b[1;32m      1\u001b[0m x \u001b[38;5;241m=\u001b[39m \u001b[38;5;28mint\u001b[39m(\u001b[38;5;28minput\u001b[39m(\u001b[38;5;124m\"\u001b[39m\u001b[38;5;124mEnter a number: \u001b[39m\u001b[38;5;124m\"\u001b[39m))\n\u001b[0;32m----> 2\u001b[0m result \u001b[38;5;241m=\u001b[39m \u001b[38;5;241m10\u001b[39m \u001b[38;5;241m/\u001b[39m x\n",
      "\u001b[0;31mZeroDivisionError\u001b[0m: division by zero"
     ]
    }
   ],
   "source": [
    "    x = int(input(\"Enter a number: \"))\n",
    "    result = 10 / x"
   ]
  },
  {
   "cell_type": "markdown",
   "id": "fd20446a-4f3a-4baf-a2ae-18a20238527e",
   "metadata": {},
   "source": [
    "**4. Custom Exceptions**\n",
    "\n",
    "\n",
    "\n",
    "In addition to Python’s built-in exceptions, you can define custom exception types to raise and catch exceptions in specific scenarios.\n",
    "\n",
    "\n",
    "\n",
    "**Example:**"
   ]
  },
  {
   "cell_type": "code",
   "execution_count": 8,
   "id": "c2496e65-73ca-46a3-9b66-e8bb83a08d7e",
   "metadata": {},
   "outputs": [
    {
     "name": "stdout",
     "output_type": "stream",
     "text": [
      "Caught an error: This is a custom error message.\n"
     ]
    }
   ],
   "source": [
    "class CustomError(Exception):\n",
    "    \"\"\"Custom exception class\"\"\"\n",
    "    pass\n",
    "\n",
    "def test_custom_error():\n",
    "    raise CustomError(\"This is a custom error message.\")\n",
    "\n",
    "try:\n",
    "    test_custom_error()\n",
    "except CustomError as e:\n",
    "    print(f\"Caught an error: {e}\")"
   ]
  },
  {
   "cell_type": "markdown",
   "id": "e36fc958-393d-411b-8240-ad31182ae0db",
   "metadata": {},
   "source": [
    "**5. Exception Propagation**\n",
    "\n",
    "\n",
    "\n",
    "When an exception is raised inside a function, it propagates up the call stack until it is caught by an except block. If not caught, the program will terminate.\n",
    "\n",
    "\n",
    "\n",
    "**Example:**"
   ]
  },
  {
   "cell_type": "code",
   "execution_count": 15,
   "id": "cefef6f2-e535-4396-8d0d-3e1118546975",
   "metadata": {},
   "outputs": [
    {
     "name": "stdout",
     "output_type": "stream",
     "text": [
      "Caught an error: Error in function A\n"
     ]
    }
   ],
   "source": [
    "def function_a():\n",
    "    raise ValueError(\"Error in function A\")\n",
    "\n",
    "def function_b():\n",
    "    function_a()\n",
    "\n",
    "try:\n",
    "    function_b()\n",
    "except ValueError as e:\n",
    "    print(f\"Caught an error: {e}\")"
   ]
  },
  {
   "cell_type": "markdown",
   "id": "6c778766-04ea-4f76-a67f-e4a70d4d9bf3",
   "metadata": {},
   "source": [
    "**6. Using else and finally**\n",
    "\n",
    "​\t•\t**else**: Runs only if the try block did not raise an exception.\n",
    "\n",
    "​\t•\t**finally**: Runs regardless of whether an exception occurred, typically used for cleaning up resources.\n",
    "\n",
    "\n",
    "\n",
    "**Example:**"
   ]
  },
  {
   "cell_type": "code",
   "execution_count": 18,
   "id": "430e6d9e-7a78-4c89-8be7-a210f1469989",
   "metadata": {},
   "outputs": [
    {
     "name": "stdin",
     "output_type": "stream",
     "text": [
      "Enter a number:  0\n"
     ]
    },
    {
     "name": "stdout",
     "output_type": "stream",
     "text": [
      "Cannot divide by zero.\n",
      "Cleaning up... This block is always executed.\n"
     ]
    }
   ],
   "source": [
    "try:\n",
    "    x = int(input(\"Enter a number: \"))\n",
    "    result = 10 / x\n",
    "except ZeroDivisionError:\n",
    "    print(\"Cannot divide by zero.\")\n",
    "except ValueError:\n",
    "    print(\"Invalid input. Please enter a valid number.\")\n",
    "else:\n",
    "    print(\"No error occurred. Result:\", result)\n",
    "finally:\n",
    "    print(\"Cleaning up... This block is always executed.\")"
   ]
  },
  {
   "cell_type": "code",
   "execution_count": null,
   "id": "781601e8-33f4-4242-b71e-63751eac5dae",
   "metadata": {},
   "outputs": [],
   "source": []
  }
 ],
 "metadata": {
  "kernelspec": {
   "display_name": "Python [conda env:base] *",
   "language": "python",
   "name": "conda-base-py"
  },
  "language_info": {
   "codemirror_mode": {
    "name": "ipython",
    "version": 3
   },
   "file_extension": ".py",
   "mimetype": "text/x-python",
   "name": "python",
   "nbconvert_exporter": "python",
   "pygments_lexer": "ipython3",
   "version": "3.12.2"
  }
 },
 "nbformat": 4,
 "nbformat_minor": 5
}
