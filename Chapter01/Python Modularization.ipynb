{
 "cells": [
  {
   "cell_type": "markdown",
   "id": "dc016115-b0ed-4db8-a0d5-92e2ddeae120",
   "metadata": {},
   "source": [
    "**Python Modularization Lecture**\n",
    "\n",
    "\n",
    "\n",
    "**1. What is Modularization?**\n",
    "\n",
    "\n",
    "\n",
    "Modularization is a design approach in programming, which involves breaking down a program into independent parts, each called a module. Each module implements a specific functionality, and we can use these modules by importing them into other parts of the program. Python supports modularization by dividing code into independent files, making it easier to organize and reuse.\n",
    "\n",
    "\n",
    "\n",
    "In Python, a **module** is a file containing Python code. A module can include functions, classes, variables, or even executable code blocks. The main benefits of modularization are making code more readable, maintainable, and reusable.\n",
    "\n",
    "\n",
    "\n",
    "**2. Creating and Using Modules**\n",
    "\n",
    "​\t•\t**Creating a Module**: A module is simply a Python file (*.py file). You can store a group of related functions, classes, or variables in a single file and use it as a module.\n",
    "\n",
    "\n",
    "\n",
    "**Example: Create a module named math_utils.py**\n",
    "\n",
    "```\n",
    "# math_utils.py\n",
    "\n",
    "def add(a, b):\n",
    "    return a + b\n",
    "\n",
    "def subtract(a, b):\n",
    "    return a - b\n",
    "\n",
    "PI = 3.14159\n",
    "```\n",
    "\n",
    "​\t•\t**Importing a Module**: You can import a module using the import keyword and use the functions, classes, or variables defined within it.\n",
    "\n",
    "\n",
    "\n",
    "**Example: Import and use the math_utils module**"
   ]
  },
  {
   "cell_type": "code",
   "execution_count": 3,
   "id": "61866452-4281-4f94-8803-a263b0eedfe2",
   "metadata": {},
   "outputs": [
    {
     "name": "stdout",
     "output_type": "stream",
     "text": [
      "15\n",
      "12.56636\n"
     ]
    }
   ],
   "source": [
    "import math_utils\n",
    "\n",
    "result = math_utils.add(10, 5)\n",
    "print(result)  # Output: 15\n",
    "\n",
    "area = math_utils.PI * 2 * 2\n",
    "print(area)  # Output: 12.56636"
   ]
  },
  {
   "cell_type": "markdown",
   "id": "65f353c1-49e2-4235-8a54-b9554eecb2f6",
   "metadata": {},
   "source": [
    "**3. Ways to Import Modules**\n",
    "\n",
    "\n",
    "\n",
    "In Python, there are several ways to import modules. Below are some common approaches:\n",
    "\n",
    "\n",
    "\n",
    "**3.1 import statement**\n",
    "\n",
    "\n",
    "\n",
    "The import statement is used to import the entire module. This is a good approach when the module is large, as it keeps the code simple and modular.\n",
    "\n",
    "\n",
    "\n",
    "**Example:**"
   ]
  },
  {
   "cell_type": "code",
   "execution_count": 6,
   "id": "f1337621-ca5b-4de8-9ce6-79d60046ecfc",
   "metadata": {},
   "outputs": [
    {
     "name": "stdout",
     "output_type": "stream",
     "text": [
      "4.0\n"
     ]
    }
   ],
   "source": [
    "import math\n",
    "\n",
    "print(math.sqrt(16))  # Output: 4.0"
   ]
  },
  {
   "cell_type": "markdown",
   "id": "588237b4-de26-493a-a7ed-89aa29df0b5a",
   "metadata": {},
   "source": [
    "**3.2 from ... import statement**\n",
    "\n",
    "\n",
    "\n",
    "Using from ... import allows you to import a specific part (function, class, variable, etc.) from a module. This approach is useful when you only need specific functionality from a module.\n",
    "\n",
    "\n",
    "\n",
    "**Example:**"
   ]
  },
  {
   "cell_type": "code",
   "execution_count": 9,
   "id": "bcca3e8f-a4ee-4c55-ba14-81d159238bea",
   "metadata": {},
   "outputs": [
    {
     "name": "stdout",
     "output_type": "stream",
     "text": [
      "4.0\n"
     ]
    }
   ],
   "source": [
    "from math import sqrt\n",
    "\n",
    "print(sqrt(16))  # Output: 4.0"
   ]
  },
  {
   "cell_type": "markdown",
   "id": "d2f2264a-7e0c-4036-a6cc-7f8d0f95bc09",
   "metadata": {},
   "source": [
    "**3.3 import ... as statement**\n",
    "\n",
    "\n",
    "\n",
    "The as keyword allows you to assign a shorter alias to the imported module. This helps simplify long module names or avoid name conflicts.\n",
    "\n",
    "\n",
    "\n",
    "**Example:**"
   ]
  },
  {
   "cell_type": "code",
   "execution_count": 12,
   "id": "f6b5231e-3869-4306-bd7c-b9a99f683117",
   "metadata": {},
   "outputs": [
    {
     "name": "stdout",
     "output_type": "stream",
     "text": [
      "4.0\n"
     ]
    }
   ],
   "source": [
    "import math as m\n",
    "\n",
    "print(m.sqrt(16))  # Output: 4.0"
   ]
  },
  {
   "cell_type": "code",
   "execution_count": 14,
   "id": "4885f319-a8de-41fa-a2fd-b7f894b4cb4d",
   "metadata": {},
   "outputs": [
    {
     "ename": "SyntaxError",
     "evalue": "invalid syntax (1863760894.py, line 1)",
     "output_type": "error",
     "traceback": [
      "\u001b[0;36m  Cell \u001b[0;32mIn[14], line 1\u001b[0;36m\u001b[0m\n\u001b[0;31m    **3.4 Importing Multiple Items**\u001b[0m\n\u001b[0m    ^\u001b[0m\n\u001b[0;31mSyntaxError\u001b[0m\u001b[0;31m:\u001b[0m invalid syntax\n"
     ]
    }
   ],
   "source": [
    "**3.4 Importing Multiple Items**\n",
    "\n",
    "\n",
    "\n",
    "You can use from ... import to import multiple items at once, separated by commas.\n",
    "\n",
    "\n",
    "\n",
    "**Example:**"
   ]
  },
  {
   "cell_type": "markdown",
   "id": "292adfdd-9e1a-45ac-a4d2-4b3ed4af3442",
   "metadata": {},
   "source": []
  },
  {
   "cell_type": "code",
   "execution_count": 17,
   "id": "193414e3-16fe-493e-a3f7-ff4626463c8e",
   "metadata": {},
   "outputs": [
    {
     "name": "stdout",
     "output_type": "stream",
     "text": [
      "4.0\n",
      "3.141592653589793\n"
     ]
    }
   ],
   "source": [
    "from math import sqrt, pi\n",
    "\n",
    "print(sqrt(16))  # Output: 4.0\n",
    "print(pi)        # Output: 3.141592653589793"
   ]
  },
  {
   "cell_type": "markdown",
   "id": "a66c3514-139e-4533-8b77-74da371b7851",
   "metadata": {},
   "source": [
    "**4. Organizing Modules**\n",
    "\n",
    "\n",
    "\n",
    "Python modules can be further organized into **packages**. A package is a directory that contains multiple modules. A package typically includes an __init__.py file to indicate that the folder is a package. Through packages, you can organize modules into different directory levels.\n",
    "\n",
    "\n",
    "\n",
    "**Example: Creating a Package**\n",
    "\n",
    "```\n",
    "my_package/\n",
    "    __init__.py\n",
    "    module1.py\n",
    "    module2.py\n",
    "```\n",
    "\n",
    "Inside the package my_package, there are two modules: module1.py and module2.py. To import these modules, you can use the following syntax:\n",
    "\n",
    "```\n",
    "import my_package.module1\n",
    "from my_package.module2 import function_name\n",
    "```\n",
    "\n",
    "**"
   ]
  },
  {
   "cell_type": "markdown",
   "id": "632c1c1c-5127-478b-b772-5637d575e1a6",
   "metadata": {},
   "source": [
    "**The Role of __init__.py**\n",
    "\n",
    "\n",
    "\n",
    "In Python, the __init__.py file is a special file used to indicate that a directory is a package and can execute code when the package is initialized. A package is a directory that contains multiple modules, and the __init__.py file allows Python to recognize that directory as a package rather than just a regular folder.\n",
    "\n",
    "\n",
    "\n",
    "**1. Identifying a Package**\n",
    "\n",
    "\n",
    "\n",
    "A directory without an __init__.py file will not be recognized as a package by Python. Without this file, Python will not be able to import modules or sub-packages from that directory.\n",
    "\n",
    "\n",
    "\n",
    "**Example:**\n",
    "\n",
    "```\n",
    "my_package/\n",
    "    __init__.py\n",
    "    module1.py\n",
    "    module2.py\n",
    "```\n",
    "\n",
    "In the example above, my_package is a package that contains two modules: module1.py and module2.py. The presence of the __init__.py file marks my_package as a package.\n",
    "\n",
    "\n",
    "\n",
    "**2. Initializing the Package**\n",
    "\n",
    "\n",
    "\n",
    "The __init__.py file can be empty or contain code that initializes the package. For example, you can define package-level variables or perform setup operations when the package is loaded.\n",
    "\n",
    "\n",
    "\n",
    "**Example:**\n",
    "\n",
    "```\n",
    "# my_package/__init__.py\n",
    "print(\"Initializing my_package\")\n",
    "\n",
    "def greet():\n",
    "    print(\"Hello from my_package!\")\n",
    "```\n",
    "\n",
    "In this case, when my_package is imported, the code in __init__.py will be executed, printing \"Initializing my_package\".\n",
    "\n",
    "\n",
    "\n",
    "**3. Behavior When Importing the Package**\n",
    "\n",
    "\n",
    "\n",
    "When you import a package, the code inside __init__.py is executed first. You can control which modules or functionalities are part of the package in __init__.py, and even redefine the public interface of the package.\n",
    "\n",
    "\n",
    "\n",
    "**Example:**\n",
    "\n",
    "\n",
    "\n",
    "Suppose we have the following directory structure:\n",
    "\n",
    "```\n",
    "my_package/\n",
    "    __init__.py\n",
    "    module1.py\n",
    "    module2.py\n",
    "```\n",
    "\n",
    "The __init__.py file might contain the following:\n",
    "\n",
    "```\n",
    "# my_package/__init__.py\n",
    "from .module1 import func1\n",
    "from .module2 import func2\n",
    "\n",
    "print(\"my_package initialized\")\n",
    "```\n",
    "\n",
    "With this setup, when you import my_package, you can directly use func1 and func2 without needing to import module1 and module2 separately.\n",
    "\n",
    "```\n",
    "import my_package\n",
    "\n",
    "my_package.func1()  # Uses func1 from module1\n",
    "my_package.func2()  # Uses func2 from module2\n",
    "```\n",
    "\n",
    "**4. Submodules and Subpackages of the Package**\n",
    "\n",
    "\n",
    "\n",
    "The __init__.py file can also be used to manage submodules and subpackages within the package. When a package contains other sub-packages, each sub-package can have its own __init__.py file, recursively forming a multi-level package structure.\n",
    "\n",
    "\n",
    "\n",
    "**Example:**\n",
    "\n",
    "```\n",
    "my_package/\n",
    "    __init__.py\n",
    "    module1.py\n",
    "    sub_package/\n",
    "        __init__.py\n",
    "        sub_module.py\n",
    "```\n",
    "\n",
    "In this example, my_package is a package, and sub_package is a sub-package. Each package and sub-package contains its own __init__.py file. This structure helps organize and manage modules and sub-packages within a package clearly.\n",
    "\n",
    "\n",
    "\n",
    "\n",
    "\n",
    "​\t•\tThe __init__.py file is used to mark a directory as a Python package, allowing Python to recognize the modules and sub-packages inside that directory.\n",
    "\n",
    "​\t•\tThe __init__.py file can contain package initialization code, setting up functionality or operations needed when the package is loaded.\n",
    "\n",
    "​\t•\tWhen a package is imported, the code inside __init__.py is executed, and you can define the public interface of the package for easier external usage.\n",
    "\n",
    "​\t•\tA package can contain sub-packages, and each sub-package can have its own __init__.py file, forming a multi-level package structure.\n",
    "\n",
    "Let me know if you need further adjustments or more details!\n",
    "\n",
    "**5. Module Scope**\n",
    "\n",
    "\n",
    "\n",
    "Modularization helps organize code and avoid naming conflicts. In Python, each module has its own namespace, so variables and functions defined in one module do not directly affect other modules.\n",
    "\n",
    "\n",
    "\n",
    "**Example:**\n",
    "\n",
    "```\n",
    "# module1.py\n",
    "var = 10\n",
    "\n",
    "def show_var():\n",
    "    print(var)\n",
    "# module2.py\n",
    "import module1\n",
    "\n",
    "module1.var = 20  # Modify var in module1\n",
    "module1.show_var()  # Output: 20\n",
    "```\n",
    "\n",
    "In the example above, module1 and module2 have separate namespaces, so they do not interfere with each other. By importing the module, we can share data and functionality between different modules.\n",
    "\n",
    "\n",
    "\n"
   ]
  },
  {
   "cell_type": "markdown",
   "id": "57fa5625-9b68-4db5-bfa8-575273afb9e9",
   "metadata": {},
   "source": [
    "**7. Common Uses of Modules**\n",
    "\n",
    "​\t•\t**Organizing Functionality**: Modularization helps split a program’s functionality into multiple files, avoiding overly long files and making code more readable.\n",
    "\n",
    "​\t•\t**Code Reusability**: Modules can be reused across multiple projects or programs by simply importing the module.\n",
    "\n",
    "​\t•\t**Improved Maintainability**: By separating different functionalities into different modules, changes to one part of the code will not affect other parts.\n",
    "\n",
    "\n",
    "\n",
    "**8. Summary**\n",
    "\n",
    "​\t•\t**Modularization** is the approach of splitting code into independent parts (modules), each implementing specific functionality.\n",
    "\n",
    "​\t•\tA Python **module** is a file containing Python code, which can include functions, classes, variables, etc.\n",
    "\n",
    "​\t•\tYou can import modules using the import statement, and import specific parts using from ... import.\n",
    "\n",
    "​\t•\tPython modules can be organized into **packages**, which are folders containing multiple modules.\n",
    "\n",
    "​\t•\tEach module has its own namespace, preventing direct conflicts between different modules.\n",
    "\n",
    "​\t•\tThe __name__ variable controls which code is executed when a module is run directly or imported.\n",
    "\n",
    "Let me know if you need further adjustments or additions!"
   ]
  },
  {
   "cell_type": "code",
   "execution_count": null,
   "id": "e4abbb29-51e9-4804-9bc2-8253427f1694",
   "metadata": {},
   "outputs": [],
   "source": []
  }
 ],
 "metadata": {
  "kernelspec": {
   "display_name": "Python [conda env:base] *",
   "language": "python",
   "name": "conda-base-py"
  },
  "language_info": {
   "codemirror_mode": {
    "name": "ipython",
    "version": 3
   },
   "file_extension": ".py",
   "mimetype": "text/x-python",
   "name": "python",
   "nbconvert_exporter": "python",
   "pygments_lexer": "ipython3",
   "version": "3.12.2"
  }
 },
 "nbformat": 4,
 "nbformat_minor": 5
}
