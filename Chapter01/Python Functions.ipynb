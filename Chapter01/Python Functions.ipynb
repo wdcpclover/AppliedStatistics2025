{
 "cells": [
  {
   "cell_type": "markdown",
   "id": "c926d0d4-04ca-4957-ab9e-18cc0bf0d7d2",
   "metadata": {},
   "source": [
    "**Python Functions Lecture**\n",
    "\n",
    "\n",
    "\n",
    "**1. What is a Function?**\n",
    "\n",
    "\n",
    "\n",
    "A function is a block of code that is used to perform a specific task. By using functions, we can encapsulate commonly used code, making the program more modular, easier to maintain, and reusable. Functions can receive input (parameters) and return output (results).\n",
    "\n",
    "\n",
    "\n",
    "**2. Defining a Function**\n",
    "\n",
    "\n",
    "\n",
    "In Python, functions are defined using the def keyword. The basic format of a function definition is as follows:\n",
    "\n",
    "```\n",
    "def function_name(parameter1, parameter2, ...):\n",
    "    # Function body\n",
    "    return value\n",
    "```\n",
    "\n",
    "​\t•\tThe def keyword defines the function.\n",
    "\n",
    "​\t•\tfunction_name is the name of the function, following variable naming rules.\n",
    "\n",
    "​\t•\tparameters are the input values that the function accepts, which can be optional.\n",
    "\n",
    "​\t•\tThe return value is the result returned by the function after execution, using the return statement.\n",
    "\n",
    "\n",
    "\n",
    "**Example:**"
   ]
  },
  {
   "cell_type": "code",
   "execution_count": 7,
   "id": "4c6705f1-1d62-4b00-a26a-d44078169bec",
   "metadata": {},
   "outputs": [],
   "source": [
    "def greet(name):\n",
    "    print(\"Hello, \" + name + \"!\")"
   ]
  },
  {
   "cell_type": "markdown",
   "id": "97fedf8c-63af-4e26-9511-9d97dd774006",
   "metadata": {},
   "source": [
    "The function greet accepts a parameter name and outputs a greeting message.\n",
    "\n",
    "\n",
    "\n",
    "**3. Calling a Function**\n",
    "\n",
    "\n",
    "\n",
    "Once a function is defined, you can call it by using its name. When calling, you need to pass the appropriate parameters.\n",
    "\n",
    "\n",
    "\n",
    "**Example:**"
   ]
  },
  {
   "cell_type": "code",
   "execution_count": 16,
   "id": "11b4d291-12a7-4561-8e0a-9041c63499d4",
   "metadata": {},
   "outputs": [
    {
     "name": "stdout",
     "output_type": "stream",
     "text": [
      "Hello, Alice!\n"
     ]
    }
   ],
   "source": [
    "greet(\"Alice\")  # Output: Hello, Alice!"
   ]
  },
  {
   "cell_type": "markdown",
   "id": "d4152408-57a5-4368-8140-9ea8e29b26a7",
   "metadata": {},
   "source": [
    "**4. Return Value of a Function**\n",
    "\n",
    "\n",
    "\n",
    "A function returns a result or output through the return statement. If no return statement is provided, the function defaults to returning None.\n",
    "\n",
    "\n",
    "\n",
    "**Example:**"
   ]
  },
  {
   "cell_type": "code",
   "execution_count": 19,
   "id": "24a39677-f515-4537-9d37-c6dd361904a7",
   "metadata": {},
   "outputs": [
    {
     "name": "stdout",
     "output_type": "stream",
     "text": [
      "15\n"
     ]
    }
   ],
   "source": [
    "def add(a, b):\n",
    "    return a + b\n",
    "\n",
    "result = add(10, 5)\n",
    "print(result)  # Output: 15"
   ]
  },
  {
   "cell_type": "markdown",
   "id": "71408687-09c0-4c6d-a1e4-82f129cb64f1",
   "metadata": {},
   "source": [
    "If a function has no explicit return statement, it automatically returns None:"
   ]
  },
  {
   "cell_type": "code",
   "execution_count": 22,
   "id": "bf04a0f0-7488-4941-a8f3-87cefa280cc5",
   "metadata": {},
   "outputs": [
    {
     "name": "stdout",
     "output_type": "stream",
     "text": [
      "This function has no return\n",
      "None\n"
     ]
    }
   ],
   "source": [
    "def no_return():\n",
    "    print(\"This function has no return\")\n",
    "\n",
    "result = no_return()\n",
    "print(result)  # Output: None"
   ]
  },
  {
   "cell_type": "markdown",
   "id": "96022a29-a969-406a-9098-f2e9200af3eb",
   "metadata": {},
   "source": [
    "**5. Types of Parameters**\n",
    "\n",
    "\n",
    "\n",
    "Function parameters can be of any data type and even other functions. The data type of a parameter does not need to be declared; Python automatically infers the type based on the value passed.\n",
    "\n",
    "\n",
    "\n",
    "**Example:**"
   ]
  },
  {
   "cell_type": "code",
   "execution_count": 25,
   "id": "6ca7e070-96d5-4884-9d01-0ee4afc85245",
   "metadata": {},
   "outputs": [
    {
     "name": "stdout",
     "output_type": "stream",
     "text": [
      "15\n",
      "5.6\n",
      "Hello, World!\n"
     ]
    }
   ],
   "source": [
    "def add_numbers(a, b):\n",
    "    return a + b\n",
    "\n",
    "print(add_numbers(5, 10))  # Output: 15\n",
    "print(add_numbers(3.5, 2.1))  # Output: 5.6\n",
    "print(add_numbers(\"Hello, \", \"World!\"))  # Output: Hello, World!"
   ]
  },
  {
   "cell_type": "markdown",
   "id": "36f5a29a-bd7a-4380-80ce-b06bd9d4d76a",
   "metadata": {},
   "source": [
    "**6. Default Parameter Values**\n",
    "\n",
    "\n",
    "\n",
    "You can specify default values for a function’s parameters. If no value is passed for the parameter when calling the function, Python will use the default value.\n",
    "\n",
    "\n",
    "\n",
    "**Example:**"
   ]
  },
  {
   "cell_type": "code",
   "execution_count": 28,
   "id": "9b0a3540-9fe1-4d45-b79e-6aa873e4a511",
   "metadata": {},
   "outputs": [
    {
     "name": "stdout",
     "output_type": "stream",
     "text": [
      "Hello, Guest!\n",
      "Hello, Alice!\n"
     ]
    }
   ],
   "source": [
    "def greet(name=\"Guest\"):\n",
    "    print(\"Hello, \" + name + \"!\")\n",
    "\n",
    "greet()          # Output: Hello, Guest!\n",
    "greet(\"Alice\")   # Output: Hello, Alice!"
   ]
  },
  {
   "cell_type": "markdown",
   "id": "cb6b5cf3-fa12-4e8b-b14a-b9af9fe85fbf",
   "metadata": {},
   "source": [
    "In the above example, the name parameter has a default value \"Guest\". If no parameter is passed when calling the function, the default value is used.\n",
    "\n",
    "\n",
    "\n",
    "**7. Parameter Positioning**\n",
    "\n",
    "\n",
    "\n",
    "In Python, function parameters can be set in different ways. The order in which parameters are passed and how default values are set is very important. Below are some common rules for parameter positioning:\n",
    "\n",
    "​\t1.\t**Positional Parameters**: Regular parameters passed by position, in the order they are defined in the function.\n",
    "\n",
    "​\t2.\t**Default Parameters**: Parameters with default values. If not passed when calling the function, Python uses the default value.\n",
    "\n",
    "​\t3.\t**Variable Positional Parameters**: Using *args to accept multiple positional parameters, which are captured as a tuple.\n",
    "\n",
    "​\t4.\t**Keyword Parameters**: Using **kwargs to accept multiple keyword arguments, which are captured as a dictionary.\n",
    "\n",
    "\n",
    "\n",
    "**7.1 Positional and Default Parameters**\n",
    "\n",
    "\n",
    "\n",
    "Positional parameters must come before parameters with default values. If this rule is not followed, Python will raise a SyntaxError.\n",
    "\n",
    "\n",
    "\n",
    "**Example:**"
   ]
  },
  {
   "cell_type": "code",
   "execution_count": 31,
   "id": "4271bc9e-4a62-44ca-aed6-bd96dc11b992",
   "metadata": {},
   "outputs": [
    {
     "name": "stdout",
     "output_type": "stream",
     "text": [
      "Hello, Alice!\n",
      "Hi, Bob!\n"
     ]
    }
   ],
   "source": [
    "def greet(name, greeting=\"Hello\"):\n",
    "    print(greeting + \", \" + name + \"!\")\n",
    "\n",
    "greet(\"Alice\")            # Output: Hello, Alice!\n",
    "greet(\"Bob\", \"Hi\")        # Output: Hi, Bob!"
   ]
  },
  {
   "cell_type": "markdown",
   "id": "6aed7b69-a612-4fc1-850e-e608b7154cef",
   "metadata": {},
   "source": [
    "In this example, name is a positional parameter, and greeting is a default parameter. If no value is provided for greeting, the default value \"Hello\" is used.\n",
    "\n",
    "\n",
    "\n",
    "**7.2 Default Parameter Positioning**\n",
    "\n",
    "\n",
    "\n",
    "Parameters with default values must be placed after parameters without default values.\n",
    "\n",
    "\n",
    "\n",
    "**Incorrect Example:**"
   ]
  },
  {
   "cell_type": "code",
   "execution_count": 34,
   "id": "d5f9fcc6-02be-47e8-858f-a5b4fca0dabf",
   "metadata": {},
   "outputs": [
    {
     "ename": "SyntaxError",
     "evalue": "parameter without a default follows parameter with a default (387880061.py, line 2)",
     "output_type": "error",
     "traceback": [
      "\u001b[0;36m  Cell \u001b[0;32mIn[34], line 2\u001b[0;36m\u001b[0m\n\u001b[0;31m    def greet(greeting=\"Hello\", name):\u001b[0m\n\u001b[0m                                ^\u001b[0m\n\u001b[0;31mSyntaxError\u001b[0m\u001b[0;31m:\u001b[0m parameter without a default follows parameter with a default\n"
     ]
    }
   ],
   "source": [
    "# This will raise a SyntaxError\n",
    "def greet(greeting=\"Hello\", name):\n",
    "    print(greeting + \", \" + name + \"!\")"
   ]
  },
  {
   "cell_type": "markdown",
   "id": "87a11350-62ae-4914-8253-e98de349a402",
   "metadata": {},
   "source": [
    "**Correct Example:**"
   ]
  },
  {
   "cell_type": "code",
   "execution_count": 37,
   "id": "9a0f424c-5803-4a86-bad8-c46cf5603445",
   "metadata": {},
   "outputs": [],
   "source": [
    "def greet(name, greeting=\"Hello\"):\n",
    "    print(greeting + \", \" + name + \"!\")"
   ]
  },
  {
   "cell_type": "markdown",
   "id": "7da4e8bb-5722-4d2a-a43c-408cdadaf61e",
   "metadata": {},
   "source": [
    "**7.3 Variable Positional Parameters \\*args**\n",
    "\n",
    "\n",
    "\n",
    "*args is used to accept an arbitrary number of positional parameters, and args is a tuple that captures all extra parameters passed to the function.\n",
    "\n",
    "\n",
    "\n",
    "**Example:**"
   ]
  },
  {
   "cell_type": "code",
   "execution_count": 40,
   "id": "e1cd45b7-abb1-4e2b-b4df-e59dfa0c76d0",
   "metadata": {},
   "outputs": [
    {
     "name": "stdout",
     "output_type": "stream",
     "text": [
      "1\n",
      "2\n",
      "3\n",
      "4\n"
     ]
    }
   ],
   "source": [
    "def print_numbers(*args):\n",
    "    for num in args:\n",
    "        print(num)\n",
    "\n",
    "print_numbers(1, 2, 3, 4)  # Output: 1 2 3 4"
   ]
  },
  {
   "cell_type": "markdown",
   "id": "b30b7d28-c6df-402b-9c2b-bd5334efe8f0",
   "metadata": {},
   "source": [
    "**7.4 Variable Keyword Parameters \\**kwargs**\n",
    "\n",
    "\n",
    "\n",
    "**kwargs is used to accept an arbitrary number of keyword arguments, and kwargs is a dictionary that captures all extra key-value pairs passed to the function.\n",
    "\n",
    "\n",
    "\n",
    "**Example:**"
   ]
  },
  {
   "cell_type": "code",
   "execution_count": 43,
   "id": "e8f044cd-1e15-4ec7-bff3-2ec2c88bca5d",
   "metadata": {},
   "outputs": [
    {
     "name": "stdout",
     "output_type": "stream",
     "text": [
      "name: Alice\n",
      "age: 25\n"
     ]
    }
   ],
   "source": [
    "def print_info(**kwargs):\n",
    "    for key, value in kwargs.items():\n",
    "        print(key + \": \" + str(value))\n",
    "\n",
    "print_info(name=\"Alice\", age=25)  # Output: name: Alice  age: 25"
   ]
  },
  {
   "cell_type": "markdown",
   "id": "3d0a9234-5189-4fa4-8f3b-7c1c2e72c97f",
   "metadata": {},
   "source": [
    "**8. Scope of Functions**\n",
    "\n",
    "\n",
    "\n",
    "Variables inside a function are local to that function and cannot be accessed outside of it. Variables outside of a function are global. If you want to modify a global variable inside a function, you can use the global keyword.\n",
    "\n",
    "\n",
    "\n",
    "**Example:**"
   ]
  },
  {
   "cell_type": "code",
   "execution_count": 46,
   "id": "78111806-780d-4a74-bfaa-2cfb855e7d46",
   "metadata": {},
   "outputs": [
    {
     "name": "stdout",
     "output_type": "stream",
     "text": [
      "20\n"
     ]
    }
   ],
   "source": [
    "x = 10  # Global variable\n",
    "\n",
    "def modify_variable():\n",
    "    global x\n",
    "    x = 20  # Modify the global variable\n",
    "\n",
    "modify_variable()\n",
    "print(x)  # Output: 20"
   ]
  },
  {
   "cell_type": "markdown",
   "id": "c47165c3-bc17-4e79-a747-c50348332f65",
   "metadata": {},
   "source": [
    "If the global keyword is not used, the function will create a local variable that will not affect the global one.\n",
    "\n",
    "\n",
    "\n",
    "**9. Nested Function Calls**\n",
    "\n",
    "\n",
    "\n",
    "A function can call another function, and even call itself (recursive function).\n",
    "\n",
    "\n",
    "\n",
    "**Example:**"
   ]
  },
  {
   "cell_type": "code",
   "execution_count": 49,
   "id": "fcd3468e-e1b6-40af-9ccf-6775fc81c786",
   "metadata": {},
   "outputs": [
    {
     "name": "stdout",
     "output_type": "stream",
     "text": [
      "49\n"
     ]
    }
   ],
   "source": [
    "def square(x):\n",
    "    return x * x\n",
    "\n",
    "def calculate_square_of_sum(a, b):\n",
    "    sum = a + b\n",
    "    return square(sum)\n",
    "\n",
    "result = calculate_square_of_sum(3, 4)\n",
    "print(result)  # Output: 49"
   ]
  },
  {
   "cell_type": "markdown",
   "id": "8b243bde-e4fc-413d-b0d7-4394532603f4",
   "metadata": {},
   "source": [
    "**10. Recursive Functions**\n",
    "\n",
    "\n",
    "\n",
    "A recursive function is a function that calls itself. Recursion is typically used to solve problems that can be broken down into smaller subproblems.\n",
    "\n",
    "\n",
    "\n",
    "**Example: Calculating Factorial**"
   ]
  },
  {
   "cell_type": "code",
   "execution_count": 52,
   "id": "937c997c-dbb3-4d84-81e3-730b0210908d",
   "metadata": {},
   "outputs": [
    {
     "name": "stdout",
     "output_type": "stream",
     "text": [
      "120\n"
     ]
    }
   ],
   "source": [
    "def factorial(n):\n",
    "    if n == 0:\n",
    "        return 1\n",
    "    else:\n",
    "        return n * factorial(n-1)\n",
    "\n",
    "print(factorial(5))  # Output: 120"
   ]
  },
  {
   "cell_type": "markdown",
   "id": "df275c03-0f98-4958-93f3-7ed4cec4637f",
   "metadata": {},
   "source": [
    "It is crucial to have a base case in a recursive function to stop the recursion and avoid infinite recursion and stack overflow.\n",
    "\n",
    "\n",
    "\n",
    "**11. Higher-Order Functions**\n",
    "\n",
    "\n",
    "\n",
    "In Python, functions can be passed as arguments to other functions or returned as values from other functions. Such functions are called higher-order functions.\n",
    "\n",
    "\n",
    "\n",
    "**Example:**"
   ]
  },
  {
   "cell_type": "code",
   "execution_count": 55,
   "id": "d4b14808-b730-468e-bc7b-196666d88ba6",
   "metadata": {},
   "outputs": [
    {
     "name": "stdout",
     "output_type": "stream",
     "text": [
      "25\n"
     ]
    }
   ],
   "source": [
    "def apply_function(func, value):\n",
    "    return func(value)\n",
    "\n",
    "def square(x):\n",
    "    return x * x\n",
    "\n",
    "result = apply_function(square, 5)\n",
    "print(result)  # Output: 25"
   ]
  },
  {
   "cell_type": "markdown",
   "id": "3935b20a-8e35-4048-b114-6d1ede32bab6",
   "metadata": {},
   "source": [
    "**12. Lambda Expressions (Anonymous Functions)**\n",
    "\n",
    "\n",
    "\n",
    "Python provides the lambda expression to define anonymous functions, typically used for short functions. lambda can accept any number of parameters and return a value.\n",
    "\n",
    "\n",
    "\n",
    "**Example:**"
   ]
  },
  {
   "cell_type": "code",
   "execution_count": 58,
   "id": "b12f89bd-a590-4629-a514-a665ed635560",
   "metadata": {},
   "outputs": [
    {
     "name": "stdout",
     "output_type": "stream",
     "text": [
      "15\n"
     ]
    }
   ],
   "source": [
    "# Defining an anonymous function\n",
    "add = lambda x, y: x + y\n",
    "\n",
    "result = add(5, 10)\n",
    "print(result)  # Output: 15"
   ]
  },
  {
   "cell_type": "markdown",
   "id": "58ea1b48-a514-4777-b78d-13ffce20f75d",
   "metadata": {},
   "source": [
    "**13. Summary**\n",
    "\n",
    "​\t•\tPython functions are defined using the def keyword and can accept parameters and return values.\n",
    "\n",
    "​\t•\tFunction parameters can have default values, and support variable parameters *args and **kwargs.\n",
    "\n",
    "​\t•\tThe order of positional parameters and default parameters is important and should follow the rule of positional parameters before default parameters.\n",
    "\n",
    "​\t•\tVariables inside functions are local, and global variables can be modified using the global keyword.\n",
    "\n",
    "​\t•\tPython supports recursive functions, nested function calls, and higher-order functions.\n",
    "\n",
    "​\t•\tlambda expressions are used to define short anonymous functions."
   ]
  },
  {
   "cell_type": "code",
   "execution_count": null,
   "id": "2f0ec252-0bb8-44b0-8c9d-373d9cd21d8b",
   "metadata": {},
   "outputs": [],
   "source": []
  }
 ],
 "metadata": {
  "kernelspec": {
   "display_name": "Python [conda env:base] *",
   "language": "python",
   "name": "conda-base-py"
  },
  "language_info": {
   "codemirror_mode": {
    "name": "ipython",
    "version": 3
   },
   "file_extension": ".py",
   "mimetype": "text/x-python",
   "name": "python",
   "nbconvert_exporter": "python",
   "pygments_lexer": "ipython3",
   "version": "3.12.2"
  }
 },
 "nbformat": 4,
 "nbformat_minor": 5
}
