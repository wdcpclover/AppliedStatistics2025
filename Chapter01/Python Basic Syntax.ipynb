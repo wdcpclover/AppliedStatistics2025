{
 "cells": [
  {
   "cell_type": "markdown",
   "id": "a496db18-d12c-442e-ab15-a44c16842ab9",
   "metadata": {},
   "source": [
    "**Python Basic Syntax**\n",
    "\n",
    "\n",
    "\n",
    "Python is a simple and powerful programming language with a syntax that emphasizes readability. It eliminates many punctuation marks and syntactic rules commonly found in other programming languages, making the code closer to natural language.\n",
    "\n",
    "\n",
    "\n",
    "**1. No Punctuation Marks**\n",
    "\n",
    "\n",
    "\n",
    "Python’s syntax is designed to be concise, reducing the use of many punctuation marks that are common in other programming languages. Here are a few aspects of Python syntax that simplify the code:\n",
    "\n",
    "​\t•\t**No Semicolons**: In Python, each line of code typically does not need a semicolon ; to mark the end of a statement. Each line of code is a statement unless multiple statements are written on the same line.\n",
    "\n",
    "**Example:**"
   ]
  },
  {
   "cell_type": "code",
   "execution_count": 3,
   "id": "a142f077-c492-4efe-8c3f-ec13fa322739",
   "metadata": {},
   "outputs": [
    {
     "name": "stdout",
     "output_type": "stream",
     "text": [
      "15\n"
     ]
    }
   ],
   "source": [
    "a = 10\n",
    "b = 5\n",
    "result = a + b\n",
    "print(result)"
   ]
  },
  {
   "cell_type": "markdown",
   "id": "1ed25c95-557c-4591-a860-2da564239901",
   "metadata": {},
   "source": [
    "•\t**No Curly Braces**: Python does not use {} to define blocks of code (such as functions, loops, or conditionals). Instead, Python uses indentation to indicate code blocks. By convention, each indentation level consists of 4 spaces.\n",
    "\n",
    "**Example:**"
   ]
  },
  {
   "cell_type": "code",
   "execution_count": 6,
   "id": "c1990ccf-64a2-45e6-96f4-90a022a6ef38",
   "metadata": {},
   "outputs": [
    {
     "name": "stdout",
     "output_type": "stream",
     "text": [
      "a is greater than b\n"
     ]
    }
   ],
   "source": [
    "if a > b:\n",
    "    print(\"a is greater than b\")  # Code block is represented by indentation\n",
    "else:\n",
    "    print(\"a is less than or equal to b\")"
   ]
  },
  {
   "cell_type": "markdown",
   "id": "c401b2cd-d3ae-40ca-a637-9e3d9e3b8d9b",
   "metadata": {},
   "source": [
    "**2. Indentation is Important**\n",
    "\n",
    "\n",
    "\n",
    "In Python, indentation is crucial because it indicates the structure of code blocks. All statements belonging to the same code block must be indented at the same level. Typically, 4 spaces are used for indentation.\n",
    "\n",
    "\n",
    "\n",
    "If the indentation is inconsistent, it will result in a syntax error.\n",
    "\n",
    "\n",
    "\n",
    "**Example:**"
   ]
  },
  {
   "cell_type": "code",
   "execution_count": 10,
   "id": "b5d75d99-33eb-4442-aa0c-1bcb3f2b609f",
   "metadata": {},
   "outputs": [
    {
     "ename": "IndentationError",
     "evalue": "unindent does not match any outer indentation level (<string>, line 3)",
     "output_type": "error",
     "traceback": [
      "\u001b[0;36m  File \u001b[0;32m<string>:3\u001b[0;36m\u001b[0m\n\u001b[0;31m    print(\"This indentation is incorrect\")\u001b[0m\n\u001b[0m                                          ^\u001b[0m\n\u001b[0;31mIndentationError\u001b[0m\u001b[0;31m:\u001b[0m unindent does not match any outer indentation level\n"
     ]
    }
   ],
   "source": [
    "if a > b:\n",
    "    print(\"a is greater than b\")\n",
    "  print(\"This indentation is incorrect\")"
   ]
  },
  {
   "cell_type": "markdown",
   "id": "d00ef8d1-a41e-455d-9b1d-f584369624b7",
   "metadata": {},
   "source": [
    "This code will throw an error because the indentation of the second line is inconsistent with the first line.\n",
    "\n",
    "\n",
    "\n",
    "**3. Dynamic Typing**\n",
    "\n",
    "\n",
    "\n",
    "Python is a dynamically typed language, meaning you do not need to explicitly declare the type of a variable. Python automatically infers the type based on the value assigned to the variable.\n",
    "\n",
    "\n",
    "\n",
    "**Example:**"
   ]
  },
  {
   "cell_type": "code",
   "execution_count": 13,
   "id": "3d7401bd-f7f6-43ff-8987-1563176c1945",
   "metadata": {},
   "outputs": [],
   "source": [
    "a = 10       # The variable 'a' is inferred as an integer\n",
    "a = \"hello\"  # The variable 'a' is reassigned as a string"
   ]
  },
  {
   "cell_type": "markdown",
   "id": "a9d1a59e-9c59-4c31-ab43-f9efee9005c4",
   "metadata": {},
   "source": [
    "**4. Simplified Syntax**\n",
    "\n",
    "\n",
    "\n",
    "Python tends to favor simplicity and readability, often expressing logic directly without complex syntactic structures. For example, the if statement in Python is straightforward without needing additional syntax.\n",
    "\n",
    "\n",
    "\n",
    "**Example:**"
   ]
  },
  {
   "cell_type": "code",
   "execution_count": 16,
   "id": "186d8ca9-5c57-49fc-8cae-3dd9a63f9f63",
   "metadata": {},
   "outputs": [
    {
     "ename": "TypeError",
     "evalue": "'>' not supported between instances of 'str' and 'int'",
     "output_type": "error",
     "traceback": [
      "\u001b[0;31m---------------------------------------------------------------------------\u001b[0m",
      "\u001b[0;31mTypeError\u001b[0m                                 Traceback (most recent call last)",
      "Cell \u001b[0;32mIn[16], line 2\u001b[0m\n\u001b[1;32m      1\u001b[0m \u001b[38;5;66;03m# Python's if statement\u001b[39;00m\n\u001b[0;32m----> 2\u001b[0m \u001b[38;5;28;01mif\u001b[39;00m a \u001b[38;5;241m>\u001b[39m b:\n\u001b[1;32m      3\u001b[0m     \u001b[38;5;28mprint\u001b[39m(\u001b[38;5;124m\"\u001b[39m\u001b[38;5;124ma is greater than b\u001b[39m\u001b[38;5;124m\"\u001b[39m)\n",
      "\u001b[0;31mTypeError\u001b[0m: '>' not supported between instances of 'str' and 'int'"
     ]
    }
   ],
   "source": [
    "# Python's if statement\n",
    "if a > b:\n",
    "    print(\"a is greater than b\")"
   ]
  },
  {
   "cell_type": "markdown",
   "id": "0ecd2ec8-7c4e-4fa1-8068-fe9792dc01e2",
   "metadata": {},
   "source": [
    "**5. Simplified Code Blocks**\n",
    "\n",
    "\n",
    "\n",
    "Loops, conditionals, functions, and other control structures in Python generally do not require excessive symbols to separate code. Indentation organizes the code, making its structure clearer.\n",
    "\n",
    "\n",
    "\n",
    "**Example:**"
   ]
  },
  {
   "cell_type": "code",
   "execution_count": 19,
   "id": "59c2a54d-275a-4e48-9e20-8ab5da511d6b",
   "metadata": {},
   "outputs": [
    {
     "name": "stdout",
     "output_type": "stream",
     "text": [
      "0\n",
      "1\n",
      "2\n",
      "3\n",
      "4\n"
     ]
    }
   ],
   "source": [
    "for i in range(5):\n",
    "    print(i)"
   ]
  },
  {
   "cell_type": "markdown",
   "id": "4f583d6e-b877-465d-9289-b61bd4da5f1e",
   "metadata": {},
   "source": [
    "**6. String and Text Handling**\n",
    "\n",
    "\n",
    "\n",
    "Python handles strings very easily. You can define a string with either double or single quotes, and use triple quotes for multi-line strings.\n",
    "\n",
    "\n",
    "\n",
    "**Example:**"
   ]
  },
  {
   "cell_type": "code",
   "execution_count": 22,
   "id": "519c976d-1199-420c-96d3-8d67149b0262",
   "metadata": {},
   "outputs": [],
   "source": [
    "message = \"Hello, World!\"  # Single-line string\n",
    "multiline_string = '''This is a\n",
    "multi-line string'''"
   ]
  },
  {
   "cell_type": "markdown",
   "id": "60fefb87-c4c2-4195-916c-24e7988e325d",
   "metadata": {},
   "source": [
    "**Summary**\n",
    "\n",
    "​\t•\tPython uses indentation to indicate the levels of code blocks instead of relying on punctuation marks (like curly braces {}).\n",
    "\n",
    "​\t•\tStatements end without requiring semicolons, just a line break.\n",
    "\n",
    "​\t•\tVariable types are inferred dynamically, eliminating the need for explicit declaration.\n",
    "\n",
    "​\t•\tThe syntax is concise and intuitive, reducing redundant symbols and enhancing readability."
   ]
  },
  {
   "cell_type": "code",
   "execution_count": null,
   "id": "b81c54b4-52b9-4f95-948e-6b4c288dd763",
   "metadata": {},
   "outputs": [],
   "source": []
  },
  {
   "cell_type": "code",
   "execution_count": null,
   "id": "2dee6a79-dc81-4fda-ad21-2141a7b6bb25",
   "metadata": {},
   "outputs": [],
   "source": []
  }
 ],
 "metadata": {
  "kernelspec": {
   "display_name": "Python [conda env:base] *",
   "language": "python",
   "name": "conda-base-py"
  },
  "language_info": {
   "codemirror_mode": {
    "name": "ipython",
    "version": 3
   },
   "file_extension": ".py",
   "mimetype": "text/x-python",
   "name": "python",
   "nbconvert_exporter": "python",
   "pygments_lexer": "ipython3",
   "version": "3.12.2"
  }
 },
 "nbformat": 4,
 "nbformat_minor": 5
}
