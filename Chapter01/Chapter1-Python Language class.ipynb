{
 "cells": [
  {
   "cell_type": "markdown",
   "id": "c92636bb-c122-4223-8672-a278aef049e0",
   "metadata": {},
   "source": [
    "# Introduction to Object-Oriented Programming\n",
    "\n",
    "## 1、What is Object-Oriented Programming (OOP)?\n",
    "\n",
    "Object-Oriented Programming (OOP) is a programming paradigm that uses \"objects\" to design applications and computer programs. Objects are instances of classes, which can hold data in the form of fields (attributes) and related procedures known as methods.\n",
    "\n",
    "#### Difference Between Object-Oriented and Procedural Programming\n",
    "\n",
    "- **Procedural Programming**: Structured around procedures or routines; focuses on the steps needed to achieve a task.\n",
    "- **Object-Oriented Programming**: Structured around objects that integrate data and behavior; focuses on the objects that the programmer wants to manipulate.\n",
    "\n",
    "#### Advantages of Object-Oriented Programming\n",
    "\n",
    "- **Modularity**: Each object forms a separate entity whose internal workings are decoupled from other parts of the system.\n",
    "- **Reusability**: Objects can be reused in different programs, reducing code duplication.\n",
    "- **Scalability**: Easier to manage and scale the development process for large software projects.\n",
    "- **Maintenance**: Improvements and changes in software can be made easily with minimal changes to the system.\n",
    "\n",
    "## 2、Basic Terminology and Concepts\n",
    "\n",
    "#### Classes and Objects\n",
    "\n",
    "- **Class**: A blueprint for creating objects. It defines a set of attributes and methods that the created objects will have.\n",
    "- **Object**: An instance of a class. It has the state and behavior defined by its class.\n",
    "\n",
    "#### Attributes and Methods\n",
    "\n",
    "- **Attributes**: Variables that hold data representing the state or qualities of a particular object.\n",
    "- **Methods**: Functions defined in a class that describe the behaviors of an object.\n",
    "\n",
    "#### Encapsulation, Inheritance, and Polymorphism\n",
    "\n",
    "- **Encapsulation**: Hiding the private details of a class from other objects.\n",
    "- **Inheritance**: A class can inherit attributes and methods from another class, termed as the superclass.\n",
    "- **Polymorphism**: Ability of different classes to be treated as instances of the same class through inheritance. Different classes can define th same method in different ways.\n",
    "\n",
    "### 3、Class Definitions in Python\n",
    "\n",
    "#### Defining a Simple Class\n",
    "\n",
    "Here is how you define a simple class in Python:"
   ]
  },
  {
   "cell_type": "code",
   "execution_count": 2,
   "id": "d9b0976d-82d8-4b50-ada9-e9e88acbd133",
   "metadata": {},
   "outputs": [],
   "source": [
    "class Dog:\n",
    "    def __init__(self, name, age):\n",
    "        self.name = name\n",
    "        self.age = age\n",
    "\n",
    "    def bark(self):\n",
    "        return \"Woof!\"\n"
   ]
  },
  {
   "cell_type": "code",
   "execution_count": 3,
   "id": "3c5d79f8",
   "metadata": {},
   "outputs": [],
   "source": [
    "heihei =  Dog('heihei',3)"
   ]
  },
  {
   "cell_type": "code",
   "execution_count": 6,
   "id": "43d77690",
   "metadata": {},
   "outputs": [
    {
     "data": {
      "text/plain": [
       "'Woof!'"
      ]
     },
     "execution_count": 6,
     "metadata": {},
     "output_type": "execute_result"
    }
   ],
   "source": [
    "heihei.bark()"
   ]
  },
  {
   "cell_type": "markdown",
   "id": "f2ce6657-9733-4c32-a278-784fd7bb21a1",
   "metadata": {},
   "source": [
    "#### `__init__` Method and `self`\n",
    "\n",
    "- **`__init__` Method**: A special method in Python classes that is automatically called when a new object of the class is created. It is used to initialize the attributes of the class.\n",
    "- **`self`**: Represents the instance of the class and binds the attributes with the given arguments.\n",
    "\n",
    "#### Adding Methods and Attributes\n",
    "\n",
    "- **Adding Attributes**: Attributes are typically set in the `__init__` method but can also be added to an object after its creation.\n",
    "- **Adding Methods**: Methods are functions that perform operations using the attributes of the class or do computations that are relevant to the object."
   ]
  },
  {
   "cell_type": "code",
   "execution_count": 2,
   "id": "d8e52e6e-bab9-47e7-8d68-309f9be6537b",
   "metadata": {},
   "outputs": [],
   "source": [
    "class Dog:\n",
    "    def __init__(self, name, age):\n",
    "        self.name = name\n",
    "        self.age = age\n",
    "\n",
    "    def bark(self):\n",
    "        return \"Woof!\"\n",
    "\n",
    "    def birthday(self):\n",
    "        self.age += 1\n",
    "        return f\"Happy {self.age}th Birthday, {self.name}!\"\n"
   ]
  },
  {
   "cell_type": "markdown",
   "id": "4f964c09-0da4-42df-8430-d1d2f8be740f",
   "metadata": {},
   "source": [
    "## 4、Advanced Features of Classes in Python\n",
    "\n",
    "### Class Attributes vs Instance Attributes\n",
    "\n",
    "#### Class Attributes\n",
    "\n",
    "- **Class Attributes** are attributes that are shared by all instances of a class. They are defined directly within a class, outside any methods.\n",
    "- Used when a property should have the same value for every class instance.\n",
    "\n",
    "#### Instance Attributes\n",
    "\n",
    "- **Instance Attributes** are attributes specific to each instance of a class. They are defined within methods, typically within `__init__`.\n",
    "- Used to maintain values that vary from one instance of a class to another.\n",
    "\n",
    "### Static Methods and Class Methods\n",
    "\n",
    "#### Static Methods\n",
    "\n",
    "- **Static Methods** are methods that belong to the class rather than belonging to a specific object.\n",
    "- They do not require a class instance to be called and do not modify the class state.\n",
    "- Defined using the `@staticmethod` decorator."
   ]
  },
  {
   "cell_type": "code",
   "execution_count": 3,
   "id": "5d2856c5-e0d4-4725-ab73-2c72495c1baa",
   "metadata": {},
   "outputs": [],
   "source": [
    "class Math:\n",
    "    @staticmethod\n",
    "    def add(x, y):\n",
    "        return x + y\n"
   ]
  },
  {
   "cell_type": "markdown",
   "id": "baf70ad9-c642-42d4-81da-b55f800e0e55",
   "metadata": {},
   "source": [
    "#### Class Methods\n",
    "\n",
    "- **Class Methods** are methods that are bound to the class rather than the instance.\n",
    "- They can modify the class state that applies across all instances of the class, like modifying a class attribute.\n",
    "- Defined using the `@classmethod` decorator and take `cls` as the first parameter."
   ]
  },
  {
   "cell_type": "code",
   "execution_count": 5,
   "id": "c6598ba5-b0c1-47c5-b5e7-7942dec1808b",
   "metadata": {},
   "outputs": [],
   "source": [
    "class Counter:\n",
    "    count = 0\n",
    "\n",
    "    @classmethod\n",
    "    def increment(cls):\n",
    "        cls.count += 1\n",
    "        return cls.count\n"
   ]
  },
  {
   "cell_type": "markdown",
   "id": "a5c86591-9d02-4896-8e1d-bec835410ff4",
   "metadata": {},
   "source": [
    "### Private Attributes and Methods\n",
    "\n",
    "- **Private Attributes and Methods** are used to prevent external access to certain parts of a class's code.\n",
    "- Defined by prefixing the name with two underscores `__`.\n",
    "- Useful for hiding implementation details and protecting the class from unwanted interference."
   ]
  },
  {
   "cell_type": "code",
   "execution_count": 6,
   "id": "1fcfca9c-b3a6-4ed9-be72-b0f7c94adf6d",
   "metadata": {},
   "outputs": [],
   "source": [
    "class Account:\n",
    "    def __init__(self, owner, amount):\n",
    "        self.owner = owner\n",
    "        self.__balance = amount  # Private attribute\n",
    "\n",
    "    def __update_balance(self, amount):  # Private method\n",
    "        self.__balance += amount\n"
   ]
  },
  {
   "cell_type": "markdown",
   "id": "eda71194-ae4a-46cf-9d94-2943a64f7b6a",
   "metadata": {},
   "source": [
    "### Inheritance\n",
    "\n",
    "#### Basic Concepts of Inheritance\n",
    "\n",
    "- Inheritance allows a class to inherit attributes and methods from another class, known as the superclass.\n",
    "- Useful for creating a child class that inherits the capabilities of the parent class and then adding new functionality or modifying existing behavior.\n",
    "\n",
    "#### Method Overriding\n",
    "\n",
    "- **Method Overriding** occurs when a child class provides a specific implementation of a method that is already provided by one of its parent classes."
   ]
  },
  {
   "cell_type": "code",
   "execution_count": 8,
   "id": "09b7a218-6b06-4e5e-8be1-ef9b05155008",
   "metadata": {},
   "outputs": [],
   "source": [
    "class Dog:\n",
    "    def speak(self):\n",
    "        return \"Woof!\"\n",
    "\n",
    "class Cat(Dog):\n",
    "    def speak(self):\n",
    "        return \"Meow!\"\n"
   ]
  },
  {
   "cell_type": "code",
   "execution_count": 9,
   "id": "6dbf915f",
   "metadata": {},
   "outputs": [],
   "source": [
    "Cat?\n"
   ]
  },
  {
   "cell_type": "markdown",
   "id": "0f64a150-2f83-4fb6-bf71-892460b42373",
   "metadata": {},
   "source": [
    "#### Multiple Inheritance\n",
    "\n",
    "- Python supports **Multiple Inheritance**, where a class can inherit from more than one parent class.\n",
    "- Care must be taken to manage the complexity to avoid conflicts and maintain readability."
   ]
  },
  {
   "cell_type": "code",
   "execution_count": 11,
   "id": "27ed5617-764e-4ab9-9117-46b8ac1b48b8",
   "metadata": {},
   "outputs": [],
   "source": [
    "class A:\n",
    "    def explore(self):\n",
    "        print(\"Exploring from A\")\n",
    "\n",
    "class B:\n",
    "    def search(self):\n",
    "        print(\"Searching from B\")\n",
    "\n",
    "class C(A, B):\n",
    "    pass\n"
   ]
  },
  {
   "cell_type": "code",
   "execution_count": 14,
   "id": "3666e3b3",
   "metadata": {},
   "outputs": [
    {
     "name": "stdout",
     "output_type": "stream",
     "text": [
      "Exploring from A\n",
      "Searching from B\n"
     ]
    }
   ],
   "source": [
    "c1=C()\n",
    "c1.explore()\n",
    "c1.search()"
   ]
  },
  {
   "cell_type": "markdown",
   "id": "4bbb2adf-ea7d-4cb4-8bb0-f9c395c00be3",
   "metadata": {},
   "source": [
    "### Polymorphism and Encapsulation\n",
    "\n",
    "#### Implementing Polymorphism\n",
    "\n",
    "- **Polymorphism** allows different classes to be treated as objects of a common superclass, especially when they share the same method names but provide different implementations.\n",
    "- Enables flexibility in code, where functions can interact with different types of objects, as long as they adhere to a common interface.\n",
    "\n",
    "#### Enhancing Code Security with Encapsulation\n",
    "\n",
    "- **Encapsulation** involves bundling the data (attributes) and code (methods) that manipulates the data into a single unit, or class, and restricting access to some of the object's components.\n",
    "- This concept is used to hide the internal representation, or state, of an object from the outside. This is generally done by making attributes or methods private (`__`)."
   ]
  },
  {
   "cell_type": "code",
   "execution_count": null,
   "id": "44d5420e-6611-4d8f-9d20-850474cee4ed",
   "metadata": {},
   "outputs": [],
   "source": []
  }
 ],
 "metadata": {
  "kernelspec": {
   "display_name": "Python [conda env:base] *",
   "language": "python",
   "name": "conda-base-py"
  },
  "language_info": {
   "codemirror_mode": {
    "name": "ipython",
    "version": 3
   },
   "file_extension": ".py",
   "mimetype": "text/x-python",
   "name": "python",
   "nbconvert_exporter": "python",
   "pygments_lexer": "ipython3",
   "version": "3.12.2"
  }
 },
 "nbformat": 4,
 "nbformat_minor": 5
}
