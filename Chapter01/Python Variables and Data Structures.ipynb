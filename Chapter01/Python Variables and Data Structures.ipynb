{
 "cells": [
  {
   "cell_type": "markdown",
   "id": "8c3afa4e-bf7c-4c12-9c53-51e1936532ef",
   "metadata": {},
   "source": [
    "**Python Variables and Data Structures**\n",
    "\n",
    "\n",
    "\n",
    "In this section, we will cover how to work with variables and basic data structures in Python. Understanding these fundamental concepts is essential for writing efficient and readable code.\n",
    "\n",
    "\n",
    "\n",
    "**1. Variables in Python**\n",
    "\n",
    "\n",
    "\n",
    "In Python, variables are used to store data. The key feature of Python variables is that they do not require explicit declaration of data types. Python is a dynamically typed language, meaning it automatically assigns a type to a variable based on the value it is assigned.\n",
    "\n",
    "\n",
    "\n",
    "**1.1 Declaring and Assigning Variables**\n",
    "\n",
    "\n",
    "\n",
    "A variable in Python is simply a name that refers to a value. You can assign a value to a variable using the assignment operator =.\n",
    "\n",
    "\n",
    "\n",
    "**Example:**"
   ]
  },
  {
   "cell_type": "code",
   "execution_count": 3,
   "id": "5482eac2-76b5-4cf8-8704-e02ba897a97b",
   "metadata": {},
   "outputs": [],
   "source": [
    "x = 10       # Assigning an integer to the variable x\n",
    "name = \"Alice\" # Assigning a string to the variable name\n",
    "price = 19.99  # Assigning a float to the variable price\n",
    "is_active = True  # Assigning a boolean value to the variable is_active"
   ]
  },
  {
   "cell_type": "markdown",
   "id": "fab6ae37-53fa-47ef-9c67-2362e2980b1d",
   "metadata": {},
   "source": [
    "**1.2 Variable Naming Rules**\n",
    "\n",
    "\n",
    "\n",
    "There are some rules to follow when naming variables in Python:\n",
    "\n",
    "​\t•\tA variable name must begin with a letter (A-Z or a-z) or an underscore (_).\n",
    "\n",
    "​\t•\tThe variable name can include numbers, but not at the beginning.\n",
    "\n",
    "​\t•\tThe name cannot be a Python reserved keyword (e.g., if, else, while).\n",
    "\n",
    "\n",
    "\n",
    "**Valid examples:**"
   ]
  },
  {
   "cell_type": "code",
   "execution_count": 6,
   "id": "be32fc7c-b0a8-4bdb-8e32-2128639eee44",
   "metadata": {},
   "outputs": [],
   "source": [
    "age = 25\n",
    "name = \"John\"\n",
    "_name = \"Sarah\"\n",
    "x1 = 50"
   ]
  },
  {
   "cell_type": "code",
   "execution_count": 8,
   "id": "2b7efaf5-2b8d-4149-b87a-a2e38ea88f5c",
   "metadata": {},
   "outputs": [
    {
     "ename": "SyntaxError",
     "evalue": "invalid decimal literal (3214474755.py, line 1)",
     "output_type": "error",
     "traceback": [
      "\u001b[0;36m  Cell \u001b[0;32mIn[8], line 1\u001b[0;36m\u001b[0m\n\u001b[0;31m    1age = 25  # Error: Cannot start with a number\u001b[0m\n\u001b[0m    ^\u001b[0m\n\u001b[0;31mSyntaxError\u001b[0m\u001b[0;31m:\u001b[0m invalid decimal literal\n"
     ]
    }
   ],
   "source": [
    "1age = 25  # Error: Cannot start with a number\n",
    "if = 10    # Error: 'if' is a reserved keyword"
   ]
  },
  {
   "cell_type": "markdown",
   "id": "55de3b78-3b47-4ca6-ad51-bf43e2a199d4",
   "metadata": {},
   "source": [
    "**2. Data Structures in Python**\n",
    "\n",
    "\n",
    "\n",
    "Python provides several built-in data structures, each suited to different tasks. The most common ones include lists, tuples, dictionaries, and sets.\n",
    "\n",
    "\n",
    "\n",
    "**2.1 Lists**\n",
    "\n",
    "\n",
    "\n",
    "A list is an ordered, mutable collection of items. Lists can hold items of any type, and their elements are accessed by index.\n",
    "\n",
    "​\t•\tLists are defined using square brackets [].\n",
    "\n",
    "​\t•\tYou can modify the list after it is created (i.e., lists are mutable).\n",
    "\n",
    "\n",
    "\n",
    "**Example:**"
   ]
  },
  {
   "cell_type": "code",
   "execution_count": 11,
   "id": "b666f8c3-e911-4a2e-9933-82194f3c183e",
   "metadata": {},
   "outputs": [
    {
     "name": "stdout",
     "output_type": "stream",
     "text": [
      "apple\n",
      "['apple', 'banana', 'cherry', 'orange']\n"
     ]
    }
   ],
   "source": [
    "fruits = [\"apple\", \"banana\", \"cherry\"]\n",
    "print(fruits[0])  # Output: apple\n",
    "fruits.append(\"orange\")  # Adding an item to the list\n",
    "print(fruits)  # Output: ['apple', 'banana', 'cherry', 'orange']"
   ]
  },
  {
   "cell_type": "markdown",
   "id": "fc504ad7-317d-4141-9edc-91c5a58877a5",
   "metadata": {},
   "source": [
    "**2.2 Tuples**\n",
    "\n",
    "\n",
    "\n",
    "A tuple is similar to a list, but it is **immutable**. Once a tuple is created, it cannot be changed.\n",
    "\n",
    "​\t•\tTuples are defined using parentheses ().\n",
    "\n",
    "​\t•\tYou cannot modify, add, or remove elements in a tuple after it is created.\n",
    "\n",
    "\n",
    "\n",
    "**Example:**"
   ]
  },
  {
   "cell_type": "code",
   "execution_count": 26,
   "id": "bdf9bd01-45bd-4920-8efa-f3ac1eeb10b6",
   "metadata": {},
   "outputs": [
    {
     "name": "stdout",
     "output_type": "stream",
     "text": [
      "20\n"
     ]
    }
   ],
   "source": [
    "coordinates = (10, 20, 30)\n",
    "print(coordinates[1])  # Output: 20\n"
   ]
  },
  {
   "cell_type": "markdown",
   "id": "4857759e-bbcf-492e-9101-4b32a7dbc75d",
   "metadata": {},
   "source": [
    "**2.3 Dictionaries**\n",
    "\n",
    "\n",
    "\n",
    "A dictionary is an unordered collection of key-value pairs. Each value in the dictionary is associated with a unique key.\n",
    "\n",
    "​\t•\tDictionaries are defined using curly braces {}.\n",
    "\n",
    "​\t•\tYou can use keys to access the corresponding values.\n",
    "\n",
    "\n",
    "\n",
    "**Example:**"
   ]
  },
  {
   "cell_type": "code",
   "execution_count": 29,
   "id": "819342b7-8580-42b6-842c-db3ea9700ee0",
   "metadata": {},
   "outputs": [
    {
     "name": "stdout",
     "output_type": "stream",
     "text": [
      "Alice\n",
      "{'name': 'Alice', 'age': 26, 'city': 'New York'}\n"
     ]
    }
   ],
   "source": [
    "person = {\"name\": \"Alice\", \"age\": 25, \"city\": \"New York\"}\n",
    "print(person[\"name\"])  # Output: Alice\n",
    "person[\"age\"] = 26     # Modifying an existing key's value\n",
    "print(person)  # Output: {'name': 'Alice', 'age': 26, 'city': 'New York'}"
   ]
  },
  {
   "cell_type": "markdown",
   "id": "29866b26-ab47-42b6-9c27-df2795ed7f20",
   "metadata": {},
   "source": [
    "**2.4 Sets**\n",
    "\n",
    "\n",
    "\n",
    "A set is an unordered collection of unique elements. It is similar to a list, but it does not allow duplicate elements.\n",
    "\n",
    "​\t•\tSets are defined using curly braces {}.\n",
    "\n",
    "​\t•\tSets automatically remove duplicate elements.\n",
    "\n",
    "\n",
    "\n",
    "**Example:**"
   ]
  },
  {
   "cell_type": "code",
   "execution_count": 32,
   "id": "e6913183-8917-4cb9-a2b1-883e6c8f4949",
   "metadata": {},
   "outputs": [
    {
     "name": "stdout",
     "output_type": "stream",
     "text": [
      "{1, 2, 3, 4, 5}\n",
      "{1, 2, 3, 4, 5, 6}\n"
     ]
    }
   ],
   "source": [
    "numbers = {1, 2, 3, 4, 5}\n",
    "print(numbers)  # Output: {1, 2, 3, 4, 5}\n",
    "numbers.add(6)  # Adding an element to the set\n",
    "print(numbers)  # Output: {1, 2, 3, 4, 5, 6}"
   ]
  },
  {
   "cell_type": "markdown",
   "id": "ddb3abc5-386f-41b7-a896-f0441a861cd8",
   "metadata": {},
   "source": [
    "**3. Operations on Data Structures**\n",
    "\n",
    "\n",
    "\n",
    "**3.1 List Operations**\n",
    "\n",
    "\n",
    "\n",
    "Lists in Python come with many built-in methods to modify and interact with them. Some common operations include:\n",
    "\n",
    "​\t•\t**Adding elements**: append(), extend(), insert()\n",
    "\n",
    "​\t•\t**Removing elements**: remove(), pop(), clear()\n",
    "\n",
    "​\t•\t**Accessing elements**: Using indices or slicing\n",
    "\n",
    "\n",
    "\n",
    "**Example:**"
   ]
  },
  {
   "cell_type": "code",
   "execution_count": 37,
   "id": "95674cff-dd6f-45f2-bf2f-582dfaeb4be7",
   "metadata": {},
   "outputs": [
    {
     "name": "stdout",
     "output_type": "stream",
     "text": [
      "['apple', 'kiwi', 'banana', 'cherry', 'orange', 'grape']\n",
      "['apple', 'banana', 'cherry', 'orange', 'grape']\n"
     ]
    }
   ],
   "source": [
    "# Adding elements\n",
    "fruits.append(\"grape\")  # Adds 'grape' to the end\n",
    "fruits.insert(1, \"kiwi\")  # Adds 'kiwi' at index 1\n",
    "print(fruits)  # Output: ['apple', 'kiwi', 'banana', 'cherry', 'orange', 'grape']\n",
    "\n",
    "# Removing elements\n",
    "fruits.remove(\"kiwi\")  # Removes 'kiwi'\n",
    "print(fruits)  # Output: ['apple', 'banana', 'cherry', 'orange', 'grape']"
   ]
  },
  {
   "cell_type": "markdown",
   "id": "0b2dba73-0bcb-4083-9431-2c6df16d921d",
   "metadata": {},
   "source": [
    "**3.2 Dictionary Operations**\n",
    "\n",
    "\n",
    "\n",
    "Dictionaries allow you to perform various operations such as:\n",
    "\n",
    "​\t•\t**Adding/Modifying key-value pairs**\n",
    "\n",
    "​\t•\t**Accessing values using keys**\n",
    "\n",
    "​\t•\t**Removing items**: del, pop()\n",
    "\n",
    "\n",
    "\n",
    "**Example:**"
   ]
  },
  {
   "cell_type": "code",
   "execution_count": 40,
   "id": "1ff63d6a-fbd4-44ca-aff8-7bcc36749813",
   "metadata": {},
   "outputs": [
    {
     "name": "stdout",
     "output_type": "stream",
     "text": [
      "{'name': 'Alice', 'age': 26, 'city': 'New York', 'email': 'alice@example.com'}\n",
      "{'name': 'Alice', 'age': 26, 'email': 'alice@example.com'}\n"
     ]
    }
   ],
   "source": [
    "# Adding a new key-value pair\n",
    "person[\"email\"] = \"alice@example.com\"\n",
    "print(person)  # Output: {'name': 'Alice', 'age': 26, 'city': 'New York', 'email': 'alice@example.com'}\n",
    "\n",
    "# Removing a key-value pair\n",
    "del person[\"city\"]\n",
    "print(person)  # Output: {'name': 'Alice', 'age': 26, 'email': 'alice@example.com'}"
   ]
  },
  {
   "cell_type": "markdown",
   "id": "c39bd9b6-3d98-4621-8986-ea288a837750",
   "metadata": {},
   "source": [
    "**3.3 Set Operations**\n",
    "\n",
    "\n",
    "\n",
    "Sets support a variety of operations such as:\n",
    "\n",
    "​\t•\t**Adding elements**: add()\n",
    "\n",
    "​\t•\t**Removing elements**: remove(), discard()\n",
    "\n",
    "​\t•\t**Set operations**: Union, Intersection, Difference\n",
    "\n",
    "\n",
    "\n",
    "**Example:**"
   ]
  },
  {
   "cell_type": "code",
   "execution_count": 43,
   "id": "7899d6b8-1c62-47d6-9dee-1ebbd13c35c8",
   "metadata": {},
   "outputs": [
    {
     "name": "stdout",
     "output_type": "stream",
     "text": [
      "{1, 2, 3, 4, 5, 6, 7}\n",
      "{1, 2, 3, 5, 6, 7}\n"
     ]
    }
   ],
   "source": [
    "# Adding an element\n",
    "numbers.add(7)\n",
    "print(numbers)  # Output: {1, 2, 3, 4, 5, 6, 7}\n",
    "\n",
    "# Removing an element\n",
    "numbers.remove(4)  # Removes 4 from the set\n",
    "print(numbers)  # Output: {1, 2, 3, 5, 6, 7}"
   ]
  },
  {
   "cell_type": "markdown",
   "id": "c71de05e-40a1-4c35-b519-80d96a46808d",
   "metadata": {},
   "source": [
    "**4. Conclusion**\n",
    "\n",
    "\n",
    "\n",
    "In this section, we have introduced Python variables and some of the basic data structures, including:\n",
    "\n",
    "​\t•\t**Variables**: Dynamic typing allows you to assign any value to a variable without explicitly declaring its type.\n",
    "\n",
    "​\t•\t**Lists**: Ordered, mutable collections.\n",
    "\n",
    "​\t•\t**Tuples**: Ordered, immutable collections.\n",
    "\n",
    "​\t•\t**Dictionaries**: Unordered collections of key-value pairs.\n",
    "\n",
    "​\t•\t**Sets**: Unordered collections of unique elements.\n",
    "\n",
    "\n",
    "\n",
    "Understanding how to use these data structures effectively will help you write more efficient and readable Python programs. Each data structure has its strengths and is suited for different types of problems.\n",
    "\n",
    "Feel free to adjust or add examples as needed for your students! Let me know if you need more details or other topics covered."
   ]
  },
  {
   "cell_type": "code",
   "execution_count": null,
   "id": "1391648f-e054-4d6e-bca0-39d687b34b2a",
   "metadata": {},
   "outputs": [],
   "source": []
  }
 ],
 "metadata": {
  "kernelspec": {
   "display_name": "Python [conda env:base] *",
   "language": "python",
   "name": "conda-base-py"
  },
  "language_info": {
   "codemirror_mode": {
    "name": "ipython",
    "version": 3
   },
   "file_extension": ".py",
   "mimetype": "text/x-python",
   "name": "python",
   "nbconvert_exporter": "python",
   "pygments_lexer": "ipython3",
   "version": "3.12.2"
  }
 },
 "nbformat": 4,
 "nbformat_minor": 5
}
