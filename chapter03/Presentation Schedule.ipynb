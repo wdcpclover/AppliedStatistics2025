{
 "cells": [
  {
   "cell_type": "markdown",
   "id": "f358ff3f-dc43-4a18-8dd3-b14d75fd12b2",
   "metadata": {},
   "source": [
    "### Presentation Schedule and Assignment Rules\n",
    "\n",
    "1. **Paper Assignment**: Each student is randomly assigned a paper from a pre-selected list. The list comprises various academic papers, ensuring a diverse range of topics for presentation.\n",
    "2. **Presentation Timing**: The presentations are scheduled over a four-week period, with four students presenting each week. The specific date of presentation for each student is determined in advance and included in the 'Presentation Schedule'.\n",
    "3. **Schedule Adjustments**: Students who wish to change their assigned presentation date must coordinate changes privately. However, any changes to the schedule must be communicated to the instructor at least one week in advance of the originally scheduled presentation date.\n",
    "4. **Paper Changes**: If a student prefers not to present the randomly assigned paper, they may select an alternative paper. The alternative must be from a journal ranked SSCI or higher. Students must notify the instructor of this change at least one week before their scheduled presentation date.\n",
    "\n",
    "### Important Notes\n",
    "\n",
    "- It is essential that students adhere to the one-week notice requirement for any changes to ensure smooth coordination and adjustments to the schedule.\n",
    "- Students are encouraged to discuss any concerns or issues regarding their assignments with the instructor as soon as possible to allow adequate preparation time for all parties involved."
   ]
  },
  {
   "cell_type": "code",
   "execution_count": 28,
   "id": "db1ace36-8bf7-4e06-8bc2-c52f005781ba",
   "metadata": {},
   "outputs": [
    {
     "name": "stdout",
     "output_type": "stream",
     "text": [
      "Finished! Information has been saved to 'Presentation_Schedule.csv' using UTF-8 encoding.\n"
     ]
    },
    {
     "name": "stderr",
     "output_type": "stream",
     "text": [
      "D:\\anaconda3\\Lib\\site-packages\\openpyxl\\styles\\stylesheet.py:226: UserWarning: Workbook contains no default style, apply openpyxl's default\n",
      "  warn(\"Workbook contains no default style, apply openpyxl's default\")\n"
     ]
    }
   ],
   "source": [
    "import pandas as pd\n",
    "import os\n",
    "import random\n",
    "from datetime import datetime, timedelta\n",
    "\n",
    "def load_student_info(filepath):\n",
    "    # 加载Excel文件\n",
    "    student_list = pd.read_excel(filepath)\n",
    "    # 提取前三列，去除表头信息\n",
    "    students_info = student_list.iloc[1:, :3].reset_index(drop=True)\n",
    "    return students_info\n",
    "\n",
    "def list_papers(directory):\n",
    "    # 列出文件夹中所有文件名\n",
    "    try:\n",
    "        papers = os.listdir(directory)\n",
    "        return papers\n",
    "    except Exception as e:\n",
    "        print(\"发生错误：\", e)\n",
    "        return []\n",
    "\n",
    "def assign_papers(students, papers):\n",
    "    # 随机分配论文给每个学生\n",
    "    random.shuffle(papers)\n",
    "    if len(papers) < len(students):\n",
    "        raise ValueError(\"Not enough papers for each student.\")\n",
    "    # 创建新的DataFrame来存储分配结果\n",
    "    assignments = pd.DataFrame({\n",
    "        'Name': students['听课学生名单.2'],  # Assuming this is the name column\n",
    "        'Student ID': students['听课学生名单.1'],  # Assuming this is the student ID column\n",
    "        'Assigned Paper': papers[:len(students)]\n",
    "    })\n",
    "    return assignments\n",
    "\n",
    "def add_presentation_dates(assignments, start_date, weeks=4, per_week=4):\n",
    "    # 添加演讲时间，只包括日期\n",
    "    dates = [(start_date + timedelta(days=7*i)).strftime('%Y-%m-%d') for i in range(weeks) for _ in range(per_week)]\n",
    "    assignments['Presentation Date'] = dates[:len(assignments)]\n",
    "    return assignments\n",
    "\n",
    "# 设置文件路径和文件夹路径\n",
    "file_path = 'namelist.xlsx'  # Adjust according to actual path\n",
    "papers_path = 'papers/'      # Adjust according to actual path\n",
    "\n",
    "# 加载学生信息和论文列表\n",
    "students_info = load_student_info(file_path)\n",
    "papers = list_papers(papers_path)\n",
    "\n",
    "# 分配论文\n",
    "if papers:\n",
    "    paper_assignments = assign_papers(students_info, papers)\n",
    "    # 添加演讲时间，假设从今天开始的下周\n",
    "    presentation_schedule = add_presentation_dates(paper_assignments, datetime.now() + timedelta(days=7))\n",
    "    # 保存到CSV文件，使用UTF-8编码\n",
    "    presentation_schedule.to_csv('Presentation_Schedule.csv', index=False, encoding='utf-8')\n",
    "    print(\"Finished! Information has been saved to 'Presentation_Schedule.csv' using UTF-8 encoding.\")\n",
    "else:\n",
    "    print(\"No papers found.\")\n"
   ]
  },
  {
   "cell_type": "code",
   "execution_count": null,
   "id": "5ed86ddb-13c3-4b89-865f-9a094edefb4c",
   "metadata": {},
   "outputs": [],
   "source": []
  }
 ],
 "metadata": {
  "kernelspec": {
   "display_name": "Python 3 (ipykernel)",
   "language": "python",
   "name": "python3"
  },
  "language_info": {
   "codemirror_mode": {
    "name": "ipython",
    "version": 3
   },
   "file_extension": ".py",
   "mimetype": "text/x-python",
   "name": "python",
   "nbconvert_exporter": "python",
   "pygments_lexer": "ipython3",
   "version": "3.11.5"
  }
 },
 "nbformat": 4,
 "nbformat_minor": 5
}
