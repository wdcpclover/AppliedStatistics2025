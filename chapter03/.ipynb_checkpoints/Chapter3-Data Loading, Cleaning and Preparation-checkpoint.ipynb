{
 "cells": [
  {
   "cell_type": "markdown",
   "metadata": {
    "slideshow": {
     "slide_type": "slide"
    }
   },
   "source": [
    "# Chapter3 Data Loading, Cleaning and Preparation"
   ]
  },
  {
   "cell_type": "markdown",
   "metadata": {
    "slideshow": {
     "slide_type": "slide"
    }
   },
   "source": [
    "## Data Science Process\n",
    "\n",
    ">* What does a Data Scientist do? \n",
    ">* What does a day in the data science life look like?\n"
   ]
  },
  {
   "cell_type": "markdown",
   "metadata": {
    "slideshow": {
     "slide_type": "fragment"
    }
   },
   "source": [
    "### Example:\n",
    "The VP of the sales asks:\n",
    "> Can you help us optimize our sales funnel and improve our conversion rates?"
   ]
  },
  {
   "cell_type": "markdown",
   "metadata": {
    "slideshow": {
     "slide_type": "slide"
    }
   },
   "source": [
    "### Step1:Frame the problem\n",
    "* The first thing you have to do before you solve a problem is to define exactly what it is. You need to be able to translate data questions into something actionable.\n",
    "* You’ll often get ambiguous inputs from the people who have problems. You’ll have to develop the intuition to turn scarce inputs into actionable outputs and to ask the questions that nobody else is asking.\n",
    "<img src=\"pictures/s1.png\" width=\"600px\" align=\"center\" >"
   ]
  },
  {
   "cell_type": "markdown",
   "metadata": {
    "slideshow": {
     "slide_type": "subslide"
    }
   },
   "source": [
    "### Data Science Problem\n",
    "> Predicting the likelihood that a prospective customer will buy the product"
   ]
  },
  {
   "cell_type": "markdown",
   "metadata": {
    "slideshow": {
     "slide_type": "slide"
    }
   },
   "source": [
    "### Step2: Collect the right data\n",
    "* Once you’ve defined the problem, you’ll need data to give you the insights to turn the problem around with a solution. \n",
    "* This part of the process involves thinking through what data you’ll need and finding ways to get that data, whether it’s querying internal databases, or purchasing external datasets.\n",
    "> You might find out that your company stores all of their sales data in a CRM or a customer relationship management software platform.You can export the CRM data in a CSV file for further analysis.\n"
   ]
  },
  {
   "cell_type": "markdown",
   "metadata": {
    "slideshow": {
     "slide_type": "slide"
    }
   },
   "source": [
    "### Step3: Process the data for analysis\n",
    "Data cleaning and wrangling often takes up the bulk of time in a data scientist’s day-to-day work, and it’s a step that requires patience and focus.\n"
   ]
  },
  {
   "cell_type": "markdown",
   "metadata": {
    "slideshow": {
     "slide_type": "subslide"
    }
   },
   "source": [
    "You’ll want to check for the following common errors:\n",
    "<img src=\"pictures/s3.png\" width=\"1000px\" align=\"center\" >\n"
   ]
  },
  {
   "cell_type": "markdown",
   "metadata": {
    "slideshow": {
     "slide_type": "slide"
    }
   },
   "source": [
    "### Step4: Explore the data\n",
    "* You may plot your data and start noticing some interesting patterns\n",
    "*  You can verify some assertions visually through plots, as well as by using some statistical tests from your knowledge of inferential statistics.\n",
    ">* You might notice that they don’t tend to be very active on social media, with few of them having Twitter or Facebook accounts.\n",
    ">* You might also notice that most of them are older than your general audience."
   ]
  },
  {
   "cell_type": "markdown",
   "metadata": {
    "slideshow": {
     "slide_type": "slide"
    }
   },
   "source": [
    "### Step5: Perform in-depth analysis\n",
    "This step of the process is where you’re going to have to apply your statistical, mathematical and technological knowledge and leverage all of the data science tools at your disposal to crunch the data and find every insight you can.\n",
    ">* you might have to create a predictive model that compares your underperforming group with your average customer. \n",
    ">* You might find out that the age and social media activity are significant factors in predicting who will buy the product."
   ]
  },
  {
   "cell_type": "markdown",
   "metadata": {
    "slideshow": {
     "slide_type": "slide"
    }
   },
   "source": [
    "### Step6: Communicate results of the analysis\n",
    "* Ultimately, you’ve been called upon to create a solution throughout the data science process.\n",
    "* It’s important that the VP Sales understand why the insights you’ve uncovered are important. \n",
    "* Proper communication will mean the difference between action and inaction on your proposals."
   ]
  },
  {
   "cell_type": "markdown",
   "metadata": {
    "slideshow": {
     "slide_type": "slide"
    }
   },
   "source": [
    "![](pictures/dsp.png)"
   ]
  },
  {
   "cell_type": "markdown",
   "metadata": {
    "slideshow": {
     "slide_type": "slide"
    }
   },
   "source": [
    "## 3.1 Ways to Collect Data\n"
   ]
  },
  {
   "cell_type": "markdown",
   "metadata": {
    "slideshow": {
     "slide_type": "slide"
    }
   },
   "source": [
    "### 3.1.1 Survey\n",
    "* Surveys are one way in which you can directly ask customers for information. \n",
    "* You can use them to collect either quantitative or qualitative data or both. \n",
    "* A survey consists of a list of queries respondents can answer in just one or two words and often gives participants a list of responses to choose from. \n",
    "* You can conduct surveys online, over email, over the phone or in person."
   ]
  },
  {
   "cell_type": "markdown",
   "metadata": {
    "slideshow": {
     "slide_type": "slide"
    }
   },
   "source": [
    "### 3.1.2 Open Sources\n",
    "#### 3.1.2.1 Research Open Data\n",
    "* http://archive.ics.uci.edu/ml/index.php\n",
    "* http://www.crawdad.org/\n",
    "* http://snap.stanford.edu/"
   ]
  },
  {
   "cell_type": "markdown",
   "metadata": {
    "slideshow": {
     "slide_type": "slide"
    }
   },
   "source": [
    "#### 3.1.2.2 Competitions\n",
    "* https://www.kaggle.com/competitions\n",
    "* https://www.datacastle.cn/index.html\n",
    "* https://tianchi.aliyun.com/\n",
    "* https://www.kdd.org/kdd-cup"
   ]
  },
  {
   "cell_type": "markdown",
   "metadata": {
    "slideshow": {
     "slide_type": "subslide"
    }
   },
   "source": [
    "#### 3.1.2.3 Others\n",
    "* https://opendata.cityofnewyork.us/\n",
    "* https://data.gov/\n",
    "* https://data.sh.gov.cn/\n",
    "\n",
    "(https://www.newyorker.com/tech/annals-of-technology/mapping-new-york-noise-complaints)"
   ]
  },
  {
   "cell_type": "markdown",
   "metadata": {
    "slideshow": {
     "slide_type": "slide"
    }
   },
   "source": [
    "### 3.1.3 Web Crawler\n",
    "A web crawler, also referred to as a search engine bot or a website spider, is a digital bot that crawls across the World Wide Web to find and index pages for search engines."
   ]
  },
  {
   "cell_type": "markdown",
   "metadata": {
    "slideshow": {
     "slide_type": "slide"
    }
   },
   "source": [
    "## 3.2 Data Loading\n",
    "* Accessing data is a necessary first step for data analysis.\n",
    "* Reading data into the system in the correct format and checking for erroneous or missing entries is often one of the most time consuming parts of the data analysis\n",
    "* Data input can be complicated by a number of problems, like different separators between data entries (such as spaces and/or tabulators), or empty lines at the end of the file. In addition, data may have been saved in different formats, such as MS Excel, Matlab, csv, or in databases\n"
   ]
  },
  {
   "cell_type": "markdown",
   "metadata": {
    "slideshow": {
     "slide_type": "subslide"
    }
   },
   "source": [
    "* pandas features a number of functions for reading tabular data as a DataFrame object.\n",
    "> **read_csv** and **read_table** are likely the ones you’ll use the most."
   ]
  },
  {
   "cell_type": "markdown",
   "metadata": {
    "slideshow": {
     "slide_type": "slide"
    }
   },
   "source": [
    "The mechanics of these functions are meant to convert text data into a DataFrame. The optional arguments for these functions may fall into a few categories:\n",
    "* Indexing : Can treat one or more columns as the returned DataFrame, and whether to get column names from the file, the user, or not at all.\n",
    "* Type inference and data conversion : This includes the user-defined value conversions and custom list of missing value markers.\n",
    "* Datetime parsing : Includes combining capability, including combining date and time information spread over multiple columns into a single column in the result.\n",
    "* Iterating : Support for iterating over chunks of very large files.\n",
    "* Unclean data issues : Skipping rows or a footer, comments, or other minor things like numeric data with thousands separated by commas\n"
   ]
  },
  {
   "cell_type": "markdown",
   "metadata": {
    "slideshow": {
     "slide_type": "slide"
    }
   },
   "source": [
    "Because of how messy data in the real world can be, some of the data loading functions (especially read_csv) have grown very complex in their options over time.  It's normal to feel overwhelmed by the number of different parameters"
   ]
  },
  {
   "cell_type": "markdown",
   "metadata": {
    "slideshow": {
     "slide_type": "slide"
    }
   },
   "source": [
    "### 3.2.1 Reading and Writing Data in Text Format\n"
   ]
  },
  {
   "cell_type": "code",
   "execution_count": 1,
   "metadata": {
    "slideshow": {
     "slide_type": "fragment"
    }
   },
   "outputs": [],
   "source": [
    "import pandas as pd"
   ]
  },
  {
   "cell_type": "code",
   "execution_count": 3,
   "metadata": {
    "slideshow": {
     "slide_type": "fragment"
    }
   },
   "outputs": [
    {
     "name": "stdout",
     "output_type": "stream",
     "text": [
      "a,b,c,d,message\n",
      "1,2,3,4,hello\n",
      "5,6,7,8,world\n",
      "9,10,11,12,foo\n"
     ]
    }
   ],
   "source": [
    "!type examples\\ex1.csv "
   ]
  },
  {
   "cell_type": "markdown",
   "metadata": {
    "slideshow": {
     "slide_type": "slide"
    }
   },
   "source": [
    "* .csv is comma-delimited\n",
    "* Use **read_csv** to read it into a DataFrame"
   ]
  },
  {
   "cell_type": "code",
   "execution_count": 4,
   "metadata": {
    "slideshow": {
     "slide_type": "fragment"
    }
   },
   "outputs": [
    {
     "data": {
      "text/html": [
       "<div>\n",
       "<style scoped>\n",
       "    .dataframe tbody tr th:only-of-type {\n",
       "        vertical-align: middle;\n",
       "    }\n",
       "\n",
       "    .dataframe tbody tr th {\n",
       "        vertical-align: top;\n",
       "    }\n",
       "\n",
       "    .dataframe thead th {\n",
       "        text-align: right;\n",
       "    }\n",
       "</style>\n",
       "<table border=\"1\" class=\"dataframe\">\n",
       "  <thead>\n",
       "    <tr style=\"text-align: right;\">\n",
       "      <th></th>\n",
       "      <th>a</th>\n",
       "      <th>b</th>\n",
       "      <th>c</th>\n",
       "      <th>d</th>\n",
       "      <th>message</th>\n",
       "    </tr>\n",
       "  </thead>\n",
       "  <tbody>\n",
       "    <tr>\n",
       "      <th>0</th>\n",
       "      <td>1</td>\n",
       "      <td>2</td>\n",
       "      <td>3</td>\n",
       "      <td>4</td>\n",
       "      <td>hello</td>\n",
       "    </tr>\n",
       "    <tr>\n",
       "      <th>1</th>\n",
       "      <td>5</td>\n",
       "      <td>6</td>\n",
       "      <td>7</td>\n",
       "      <td>8</td>\n",
       "      <td>world</td>\n",
       "    </tr>\n",
       "    <tr>\n",
       "      <th>2</th>\n",
       "      <td>9</td>\n",
       "      <td>10</td>\n",
       "      <td>11</td>\n",
       "      <td>12</td>\n",
       "      <td>foo</td>\n",
       "    </tr>\n",
       "  </tbody>\n",
       "</table>\n",
       "</div>"
      ],
      "text/plain": [
       "   a   b   c   d message\n",
       "0  1   2   3   4   hello\n",
       "1  5   6   7   8   world\n",
       "2  9  10  11  12     foo"
      ]
     },
     "execution_count": 4,
     "metadata": {},
     "output_type": "execute_result"
    }
   ],
   "source": [
    "df = pd.read_csv('examples\\ex1.csv')\n",
    "df"
   ]
  },
  {
   "cell_type": "markdown",
   "metadata": {
    "slideshow": {
     "slide_type": "slide"
    }
   },
   "source": [
    "* We could also have used **read_table** and specified the delimiter"
   ]
  },
  {
   "cell_type": "code",
   "execution_count": 5,
   "metadata": {
    "slideshow": {
     "slide_type": "fragment"
    }
   },
   "outputs": [
    {
     "data": {
      "text/html": [
       "<div>\n",
       "<style scoped>\n",
       "    .dataframe tbody tr th:only-of-type {\n",
       "        vertical-align: middle;\n",
       "    }\n",
       "\n",
       "    .dataframe tbody tr th {\n",
       "        vertical-align: top;\n",
       "    }\n",
       "\n",
       "    .dataframe thead th {\n",
       "        text-align: right;\n",
       "    }\n",
       "</style>\n",
       "<table border=\"1\" class=\"dataframe\">\n",
       "  <thead>\n",
       "    <tr style=\"text-align: right;\">\n",
       "      <th></th>\n",
       "      <th>a</th>\n",
       "      <th>b</th>\n",
       "      <th>c</th>\n",
       "      <th>d</th>\n",
       "      <th>message</th>\n",
       "    </tr>\n",
       "  </thead>\n",
       "  <tbody>\n",
       "    <tr>\n",
       "      <th>0</th>\n",
       "      <td>1</td>\n",
       "      <td>2</td>\n",
       "      <td>3</td>\n",
       "      <td>4</td>\n",
       "      <td>hello</td>\n",
       "    </tr>\n",
       "    <tr>\n",
       "      <th>1</th>\n",
       "      <td>5</td>\n",
       "      <td>6</td>\n",
       "      <td>7</td>\n",
       "      <td>8</td>\n",
       "      <td>world</td>\n",
       "    </tr>\n",
       "    <tr>\n",
       "      <th>2</th>\n",
       "      <td>9</td>\n",
       "      <td>10</td>\n",
       "      <td>11</td>\n",
       "      <td>12</td>\n",
       "      <td>foo</td>\n",
       "    </tr>\n",
       "  </tbody>\n",
       "</table>\n",
       "</div>"
      ],
      "text/plain": [
       "   a   b   c   d message\n",
       "0  1   2   3   4   hello\n",
       "1  5   6   7   8   world\n",
       "2  9  10  11  12     foo"
      ]
     },
     "execution_count": 5,
     "metadata": {},
     "output_type": "execute_result"
    }
   ],
   "source": [
    "pd.read_table('examples/ex1.csv', sep=',')"
   ]
  },
  {
   "cell_type": "markdown",
   "metadata": {
    "slideshow": {
     "slide_type": "slide"
    }
   },
   "source": [
    "* A file will not always have a header row"
   ]
  },
  {
   "cell_type": "code",
   "execution_count": 6,
   "metadata": {
    "slideshow": {
     "slide_type": "fragment"
    }
   },
   "outputs": [
    {
     "name": "stdout",
     "output_type": "stream",
     "text": [
      "1,2,3,4,hello\n",
      "5,6,7,8,world\n",
      "9,10,11,12,foo\n"
     ]
    }
   ],
   "source": [
    "!type examples\\ex2.csv"
   ]
  },
  {
   "cell_type": "markdown",
   "metadata": {
    "slideshow": {
     "slide_type": "slide"
    }
   },
   "source": [
    "To read this file, you have a couple of options.\n",
    "* You can allow pandas to assign default column names\n",
    "* You can specify **names** yourself\n"
   ]
  },
  {
   "cell_type": "code",
   "execution_count": 7,
   "metadata": {
    "slideshow": {
     "slide_type": "fragment"
    }
   },
   "outputs": [
    {
     "data": {
      "text/html": [
       "<div>\n",
       "<style scoped>\n",
       "    .dataframe tbody tr th:only-of-type {\n",
       "        vertical-align: middle;\n",
       "    }\n",
       "\n",
       "    .dataframe tbody tr th {\n",
       "        vertical-align: top;\n",
       "    }\n",
       "\n",
       "    .dataframe thead th {\n",
       "        text-align: right;\n",
       "    }\n",
       "</style>\n",
       "<table border=\"1\" class=\"dataframe\">\n",
       "  <thead>\n",
       "    <tr style=\"text-align: right;\">\n",
       "      <th></th>\n",
       "      <th>0</th>\n",
       "      <th>1</th>\n",
       "      <th>2</th>\n",
       "      <th>3</th>\n",
       "      <th>4</th>\n",
       "    </tr>\n",
       "  </thead>\n",
       "  <tbody>\n",
       "    <tr>\n",
       "      <th>0</th>\n",
       "      <td>1</td>\n",
       "      <td>2</td>\n",
       "      <td>3</td>\n",
       "      <td>4</td>\n",
       "      <td>hello</td>\n",
       "    </tr>\n",
       "    <tr>\n",
       "      <th>1</th>\n",
       "      <td>5</td>\n",
       "      <td>6</td>\n",
       "      <td>7</td>\n",
       "      <td>8</td>\n",
       "      <td>world</td>\n",
       "    </tr>\n",
       "    <tr>\n",
       "      <th>2</th>\n",
       "      <td>9</td>\n",
       "      <td>10</td>\n",
       "      <td>11</td>\n",
       "      <td>12</td>\n",
       "      <td>foo</td>\n",
       "    </tr>\n",
       "  </tbody>\n",
       "</table>\n",
       "</div>"
      ],
      "text/plain": [
       "   0   1   2   3      4\n",
       "0  1   2   3   4  hello\n",
       "1  5   6   7   8  world\n",
       "2  9  10  11  12    foo"
      ]
     },
     "execution_count": 7,
     "metadata": {},
     "output_type": "execute_result"
    }
   ],
   "source": [
    " pd.read_csv('examples/ex2.csv', header=None)"
   ]
  },
  {
   "cell_type": "code",
   "execution_count": 8,
   "metadata": {
    "slideshow": {
     "slide_type": "fragment"
    }
   },
   "outputs": [
    {
     "data": {
      "text/html": [
       "<div>\n",
       "<style scoped>\n",
       "    .dataframe tbody tr th:only-of-type {\n",
       "        vertical-align: middle;\n",
       "    }\n",
       "\n",
       "    .dataframe tbody tr th {\n",
       "        vertical-align: top;\n",
       "    }\n",
       "\n",
       "    .dataframe thead th {\n",
       "        text-align: right;\n",
       "    }\n",
       "</style>\n",
       "<table border=\"1\" class=\"dataframe\">\n",
       "  <thead>\n",
       "    <tr style=\"text-align: right;\">\n",
       "      <th></th>\n",
       "      <th>a</th>\n",
       "      <th>b</th>\n",
       "      <th>c</th>\n",
       "      <th>d</th>\n",
       "      <th>message</th>\n",
       "    </tr>\n",
       "  </thead>\n",
       "  <tbody>\n",
       "    <tr>\n",
       "      <th>0</th>\n",
       "      <td>1</td>\n",
       "      <td>2</td>\n",
       "      <td>3</td>\n",
       "      <td>4</td>\n",
       "      <td>hello</td>\n",
       "    </tr>\n",
       "    <tr>\n",
       "      <th>1</th>\n",
       "      <td>5</td>\n",
       "      <td>6</td>\n",
       "      <td>7</td>\n",
       "      <td>8</td>\n",
       "      <td>world</td>\n",
       "    </tr>\n",
       "    <tr>\n",
       "      <th>2</th>\n",
       "      <td>9</td>\n",
       "      <td>10</td>\n",
       "      <td>11</td>\n",
       "      <td>12</td>\n",
       "      <td>foo</td>\n",
       "    </tr>\n",
       "  </tbody>\n",
       "</table>\n",
       "</div>"
      ],
      "text/plain": [
       "   a   b   c   d message\n",
       "0  1   2   3   4   hello\n",
       "1  5   6   7   8   world\n",
       "2  9  10  11  12     foo"
      ]
     },
     "execution_count": 8,
     "metadata": {},
     "output_type": "execute_result"
    }
   ],
   "source": [
    " pd.read_csv('examples/ex2.csv', names=['a', 'b', 'c', 'd', 'message'])"
   ]
  },
  {
   "cell_type": "markdown",
   "metadata": {
    "slideshow": {
     "slide_type": "slide"
    }
   },
   "source": [
    "* Suppose you wanted the message column to be the index of the returned DataFrame.\n",
    "* You can either indicate you want the column at index 4 or named 'message' using the **index_col** argument"
   ]
  },
  {
   "cell_type": "code",
   "execution_count": 10,
   "metadata": {
    "slideshow": {
     "slide_type": "fragment"
    }
   },
   "outputs": [
    {
     "data": {
      "text/html": [
       "<div>\n",
       "<style scoped>\n",
       "    .dataframe tbody tr th:only-of-type {\n",
       "        vertical-align: middle;\n",
       "    }\n",
       "\n",
       "    .dataframe tbody tr th {\n",
       "        vertical-align: top;\n",
       "    }\n",
       "\n",
       "    .dataframe thead th {\n",
       "        text-align: right;\n",
       "    }\n",
       "</style>\n",
       "<table border=\"1\" class=\"dataframe\">\n",
       "  <thead>\n",
       "    <tr style=\"text-align: right;\">\n",
       "      <th></th>\n",
       "      <th>a</th>\n",
       "      <th>b</th>\n",
       "      <th>c</th>\n",
       "      <th>d</th>\n",
       "    </tr>\n",
       "    <tr>\n",
       "      <th>message</th>\n",
       "      <th></th>\n",
       "      <th></th>\n",
       "      <th></th>\n",
       "      <th></th>\n",
       "    </tr>\n",
       "  </thead>\n",
       "  <tbody>\n",
       "    <tr>\n",
       "      <th>hello</th>\n",
       "      <td>1</td>\n",
       "      <td>2</td>\n",
       "      <td>3</td>\n",
       "      <td>4</td>\n",
       "    </tr>\n",
       "    <tr>\n",
       "      <th>world</th>\n",
       "      <td>5</td>\n",
       "      <td>6</td>\n",
       "      <td>7</td>\n",
       "      <td>8</td>\n",
       "    </tr>\n",
       "    <tr>\n",
       "      <th>foo</th>\n",
       "      <td>9</td>\n",
       "      <td>10</td>\n",
       "      <td>11</td>\n",
       "      <td>12</td>\n",
       "    </tr>\n",
       "  </tbody>\n",
       "</table>\n",
       "</div>"
      ],
      "text/plain": [
       "         a   b   c   d\n",
       "message               \n",
       "hello    1   2   3   4\n",
       "world    5   6   7   8\n",
       "foo      9  10  11  12"
      ]
     },
     "execution_count": 10,
     "metadata": {},
     "output_type": "execute_result"
    }
   ],
   "source": [
    "names = ['a', 'b', 'c', 'd', 'message']\n",
    "pd.read_csv('examples/ex2.csv', names=names, index_col=4)"
   ]
  },
  {
   "cell_type": "markdown",
   "metadata": {
    "slideshow": {
     "slide_type": "slide"
    }
   },
   "source": [
    "* In the event that you want to form a hierarchical index from multiple columns, pass a list of column numbers or names:"
   ]
  },
  {
   "cell_type": "code",
   "execution_count": 11,
   "metadata": {
    "slideshow": {
     "slide_type": "fragment"
    }
   },
   "outputs": [
    {
     "name": "stdout",
     "output_type": "stream",
     "text": [
      "key1,key2,value1,value2\n",
      "one,a,1,2\n",
      "one,b,3,4\n",
      "one,c,5,6\n",
      "one,d,7,8\n",
      "two,a,9,10\n",
      "two,b,11,12\n",
      "two,c,13,14\n",
      "two,d,15,16\n"
     ]
    }
   ],
   "source": [
    "!type examples\\csv_mindex.csv"
   ]
  },
  {
   "cell_type": "code",
   "execution_count": 12,
   "metadata": {
    "slideshow": {
     "slide_type": "subslide"
    }
   },
   "outputs": [
    {
     "data": {
      "text/html": [
       "<div>\n",
       "<style scoped>\n",
       "    .dataframe tbody tr th:only-of-type {\n",
       "        vertical-align: middle;\n",
       "    }\n",
       "\n",
       "    .dataframe tbody tr th {\n",
       "        vertical-align: top;\n",
       "    }\n",
       "\n",
       "    .dataframe thead th {\n",
       "        text-align: right;\n",
       "    }\n",
       "</style>\n",
       "<table border=\"1\" class=\"dataframe\">\n",
       "  <thead>\n",
       "    <tr style=\"text-align: right;\">\n",
       "      <th></th>\n",
       "      <th></th>\n",
       "      <th>value1</th>\n",
       "      <th>value2</th>\n",
       "    </tr>\n",
       "    <tr>\n",
       "      <th>key1</th>\n",
       "      <th>key2</th>\n",
       "      <th></th>\n",
       "      <th></th>\n",
       "    </tr>\n",
       "  </thead>\n",
       "  <tbody>\n",
       "    <tr>\n",
       "      <th rowspan=\"4\" valign=\"top\">one</th>\n",
       "      <th>a</th>\n",
       "      <td>1</td>\n",
       "      <td>2</td>\n",
       "    </tr>\n",
       "    <tr>\n",
       "      <th>b</th>\n",
       "      <td>3</td>\n",
       "      <td>4</td>\n",
       "    </tr>\n",
       "    <tr>\n",
       "      <th>c</th>\n",
       "      <td>5</td>\n",
       "      <td>6</td>\n",
       "    </tr>\n",
       "    <tr>\n",
       "      <th>d</th>\n",
       "      <td>7</td>\n",
       "      <td>8</td>\n",
       "    </tr>\n",
       "    <tr>\n",
       "      <th rowspan=\"4\" valign=\"top\">two</th>\n",
       "      <th>a</th>\n",
       "      <td>9</td>\n",
       "      <td>10</td>\n",
       "    </tr>\n",
       "    <tr>\n",
       "      <th>b</th>\n",
       "      <td>11</td>\n",
       "      <td>12</td>\n",
       "    </tr>\n",
       "    <tr>\n",
       "      <th>c</th>\n",
       "      <td>13</td>\n",
       "      <td>14</td>\n",
       "    </tr>\n",
       "    <tr>\n",
       "      <th>d</th>\n",
       "      <td>15</td>\n",
       "      <td>16</td>\n",
       "    </tr>\n",
       "  </tbody>\n",
       "</table>\n",
       "</div>"
      ],
      "text/plain": [
       "           value1  value2\n",
       "key1 key2                \n",
       "one  a          1       2\n",
       "     b          3       4\n",
       "     c          5       6\n",
       "     d          7       8\n",
       "two  a          9      10\n",
       "     b         11      12\n",
       "     c         13      14\n",
       "     d         15      16"
      ]
     },
     "execution_count": 12,
     "metadata": {},
     "output_type": "execute_result"
    }
   ],
   "source": [
    "parsed = pd.read_csv('examples/csv_mindex.csv', index_col=['key1','key2'])\n",
    "parsed"
   ]
  },
  {
   "cell_type": "markdown",
   "metadata": {
    "slideshow": {
     "slide_type": "slide"
    }
   },
   "source": [
    "* In some cases, a table might not have a fixed delimiter, using whitespace or some other pattern to separate fields. Consider a text file that looks like this"
   ]
  },
  {
   "cell_type": "code",
   "execution_count": 13,
   "metadata": {
    "slideshow": {
     "slide_type": "fragment"
    }
   },
   "outputs": [
    {
     "data": {
      "text/plain": [
       "['            A         B         C\\n',\n",
       " 'aaa -0.264438 -1.026059 -0.619500\\n',\n",
       " 'bbb  0.927272  0.302904 -0.032399\\n',\n",
       " 'ccc -0.264273 -0.386314 -0.217601\\n',\n",
       " 'ddd -0.871858 -0.348382  1.100491\\n']"
      ]
     },
     "execution_count": 13,
     "metadata": {},
     "output_type": "execute_result"
    }
   ],
   "source": [
    "list(open('examples/ex3.txt'))"
   ]
  },
  {
   "cell_type": "code",
   "execution_count": 14,
   "metadata": {
    "slideshow": {
     "slide_type": "fragment"
    }
   },
   "outputs": [
    {
     "data": {
      "text/html": [
       "<div>\n",
       "<style scoped>\n",
       "    .dataframe tbody tr th:only-of-type {\n",
       "        vertical-align: middle;\n",
       "    }\n",
       "\n",
       "    .dataframe tbody tr th {\n",
       "        vertical-align: top;\n",
       "    }\n",
       "\n",
       "    .dataframe thead th {\n",
       "        text-align: right;\n",
       "    }\n",
       "</style>\n",
       "<table border=\"1\" class=\"dataframe\">\n",
       "  <thead>\n",
       "    <tr style=\"text-align: right;\">\n",
       "      <th></th>\n",
       "      <th>A</th>\n",
       "      <th>B</th>\n",
       "      <th>C</th>\n",
       "    </tr>\n",
       "  </thead>\n",
       "  <tbody>\n",
       "    <tr>\n",
       "      <th>aaa</th>\n",
       "      <td>-0.264438</td>\n",
       "      <td>-1.026059</td>\n",
       "      <td>-0.619500</td>\n",
       "    </tr>\n",
       "    <tr>\n",
       "      <th>bbb</th>\n",
       "      <td>0.927272</td>\n",
       "      <td>0.302904</td>\n",
       "      <td>-0.032399</td>\n",
       "    </tr>\n",
       "    <tr>\n",
       "      <th>ccc</th>\n",
       "      <td>-0.264273</td>\n",
       "      <td>-0.386314</td>\n",
       "      <td>-0.217601</td>\n",
       "    </tr>\n",
       "    <tr>\n",
       "      <th>ddd</th>\n",
       "      <td>-0.871858</td>\n",
       "      <td>-0.348382</td>\n",
       "      <td>1.100491</td>\n",
       "    </tr>\n",
       "  </tbody>\n",
       "</table>\n",
       "</div>"
      ],
      "text/plain": [
       "            A         B         C\n",
       "aaa -0.264438 -1.026059 -0.619500\n",
       "bbb  0.927272  0.302904 -0.032399\n",
       "ccc -0.264273 -0.386314 -0.217601\n",
       "ddd -0.871858 -0.348382  1.100491"
      ]
     },
     "execution_count": 14,
     "metadata": {},
     "output_type": "execute_result"
    }
   ],
   "source": [
    "result = pd.read_table('examples/ex3.txt', sep='\\s+')\n",
    "result\n",
    "#the regular expression \\s matches a single whitespace character, \n",
    "#while \\s+ will match one or more whitespace characters.\n",
    "#Because there was one fewer column name than the number of data rows, \n",
    "#read_table infers that the first column should be the DataFrame’s index in this special case"
   ]
  },
  {
   "cell_type": "markdown",
   "metadata": {
    "slideshow": {
     "slide_type": "slide"
    }
   },
   "source": [
    "* The parser functions have many additional arguments to help you handle the wide variety of exception file formats that occur"
   ]
  },
  {
   "cell_type": "code",
   "execution_count": 15,
   "metadata": {
    "slideshow": {
     "slide_type": "fragment"
    }
   },
   "outputs": [
    {
     "name": "stdout",
     "output_type": "stream",
     "text": [
      "# hey!\n",
      "a,b,c,d,message\n",
      "# just wanted to make things more difficult for you\n",
      "# who reads CSV files with computers, anyway?\n",
      "1,2,3,4,hello\n",
      "5,6,7,8,world\n",
      "9,10,11,12,foo\n"
     ]
    }
   ],
   "source": [
    "!type examples\\ex4.csv"
   ]
  },
  {
   "cell_type": "code",
   "execution_count": 16,
   "metadata": {
    "slideshow": {
     "slide_type": "fragment"
    }
   },
   "outputs": [
    {
     "data": {
      "text/html": [
       "<div>\n",
       "<style scoped>\n",
       "    .dataframe tbody tr th:only-of-type {\n",
       "        vertical-align: middle;\n",
       "    }\n",
       "\n",
       "    .dataframe tbody tr th {\n",
       "        vertical-align: top;\n",
       "    }\n",
       "\n",
       "    .dataframe thead th {\n",
       "        text-align: right;\n",
       "    }\n",
       "</style>\n",
       "<table border=\"1\" class=\"dataframe\">\n",
       "  <thead>\n",
       "    <tr style=\"text-align: right;\">\n",
       "      <th></th>\n",
       "      <th>a</th>\n",
       "      <th>b</th>\n",
       "      <th>c</th>\n",
       "      <th>d</th>\n",
       "      <th>message</th>\n",
       "    </tr>\n",
       "  </thead>\n",
       "  <tbody>\n",
       "    <tr>\n",
       "      <th>0</th>\n",
       "      <td>1</td>\n",
       "      <td>2</td>\n",
       "      <td>3</td>\n",
       "      <td>4</td>\n",
       "      <td>hello</td>\n",
       "    </tr>\n",
       "    <tr>\n",
       "      <th>1</th>\n",
       "      <td>5</td>\n",
       "      <td>6</td>\n",
       "      <td>7</td>\n",
       "      <td>8</td>\n",
       "      <td>world</td>\n",
       "    </tr>\n",
       "    <tr>\n",
       "      <th>2</th>\n",
       "      <td>9</td>\n",
       "      <td>10</td>\n",
       "      <td>11</td>\n",
       "      <td>12</td>\n",
       "      <td>foo</td>\n",
       "    </tr>\n",
       "  </tbody>\n",
       "</table>\n",
       "</div>"
      ],
      "text/plain": [
       "   a   b   c   d message\n",
       "0  1   2   3   4   hello\n",
       "1  5   6   7   8   world\n",
       "2  9  10  11  12     foo"
      ]
     },
     "execution_count": 16,
     "metadata": {},
     "output_type": "execute_result"
    }
   ],
   "source": [
    "pd.read_csv('examples/ex4.csv', skiprows=[0, 2, 3])"
   ]
  },
  {
   "cell_type": "markdown",
   "metadata": {
    "slideshow": {
     "slide_type": "slide"
    }
   },
   "source": [
    "* Handling missing values is an important and frequently nuanced part of the file parsing process. Missing data is usually either not present (empty string) or marked by some sentinel value.\n",
    "* By default, pandas uses a set of commonly occurring sentinels, such as NA and NULL"
   ]
  },
  {
   "cell_type": "code",
   "execution_count": 17,
   "metadata": {
    "slideshow": {
     "slide_type": "fragment"
    }
   },
   "outputs": [
    {
     "name": "stdout",
     "output_type": "stream",
     "text": [
      "something,a,b,c,d,message\n",
      "one,1,2,3,4,NA\n",
      "two,5,6,,8,world\n",
      "three,9,10,11,12,foo\n"
     ]
    }
   ],
   "source": [
    "!type examples\\ex5.csv"
   ]
  },
  {
   "cell_type": "code",
   "execution_count": 18,
   "metadata": {
    "slideshow": {
     "slide_type": "fragment"
    }
   },
   "outputs": [
    {
     "data": {
      "text/html": [
       "<div>\n",
       "<style scoped>\n",
       "    .dataframe tbody tr th:only-of-type {\n",
       "        vertical-align: middle;\n",
       "    }\n",
       "\n",
       "    .dataframe tbody tr th {\n",
       "        vertical-align: top;\n",
       "    }\n",
       "\n",
       "    .dataframe thead th {\n",
       "        text-align: right;\n",
       "    }\n",
       "</style>\n",
       "<table border=\"1\" class=\"dataframe\">\n",
       "  <thead>\n",
       "    <tr style=\"text-align: right;\">\n",
       "      <th></th>\n",
       "      <th>something</th>\n",
       "      <th>a</th>\n",
       "      <th>b</th>\n",
       "      <th>c</th>\n",
       "      <th>d</th>\n",
       "      <th>message</th>\n",
       "    </tr>\n",
       "  </thead>\n",
       "  <tbody>\n",
       "    <tr>\n",
       "      <th>0</th>\n",
       "      <td>one</td>\n",
       "      <td>1</td>\n",
       "      <td>2</td>\n",
       "      <td>3.0</td>\n",
       "      <td>4</td>\n",
       "      <td>NaN</td>\n",
       "    </tr>\n",
       "    <tr>\n",
       "      <th>1</th>\n",
       "      <td>two</td>\n",
       "      <td>5</td>\n",
       "      <td>6</td>\n",
       "      <td>NaN</td>\n",
       "      <td>8</td>\n",
       "      <td>world</td>\n",
       "    </tr>\n",
       "    <tr>\n",
       "      <th>2</th>\n",
       "      <td>three</td>\n",
       "      <td>9</td>\n",
       "      <td>10</td>\n",
       "      <td>11.0</td>\n",
       "      <td>12</td>\n",
       "      <td>foo</td>\n",
       "    </tr>\n",
       "  </tbody>\n",
       "</table>\n",
       "</div>"
      ],
      "text/plain": [
       "  something  a   b     c   d message\n",
       "0       one  1   2   3.0   4     NaN\n",
       "1       two  5   6   NaN   8   world\n",
       "2     three  9  10  11.0  12     foo"
      ]
     },
     "execution_count": 18,
     "metadata": {},
     "output_type": "execute_result"
    }
   ],
   "source": [
    "result = pd.read_csv('examples/ex5.csv')\n",
    "result"
   ]
  },
  {
   "cell_type": "code",
   "execution_count": 19,
   "metadata": {
    "slideshow": {
     "slide_type": "slide"
    }
   },
   "outputs": [
    {
     "data": {
      "text/html": [
       "<div>\n",
       "<style scoped>\n",
       "    .dataframe tbody tr th:only-of-type {\n",
       "        vertical-align: middle;\n",
       "    }\n",
       "\n",
       "    .dataframe tbody tr th {\n",
       "        vertical-align: top;\n",
       "    }\n",
       "\n",
       "    .dataframe thead th {\n",
       "        text-align: right;\n",
       "    }\n",
       "</style>\n",
       "<table border=\"1\" class=\"dataframe\">\n",
       "  <thead>\n",
       "    <tr style=\"text-align: right;\">\n",
       "      <th></th>\n",
       "      <th>something</th>\n",
       "      <th>a</th>\n",
       "      <th>b</th>\n",
       "      <th>c</th>\n",
       "      <th>d</th>\n",
       "      <th>message</th>\n",
       "    </tr>\n",
       "  </thead>\n",
       "  <tbody>\n",
       "    <tr>\n",
       "      <th>0</th>\n",
       "      <td>False</td>\n",
       "      <td>False</td>\n",
       "      <td>False</td>\n",
       "      <td>False</td>\n",
       "      <td>False</td>\n",
       "      <td>True</td>\n",
       "    </tr>\n",
       "    <tr>\n",
       "      <th>1</th>\n",
       "      <td>False</td>\n",
       "      <td>False</td>\n",
       "      <td>False</td>\n",
       "      <td>True</td>\n",
       "      <td>False</td>\n",
       "      <td>False</td>\n",
       "    </tr>\n",
       "    <tr>\n",
       "      <th>2</th>\n",
       "      <td>False</td>\n",
       "      <td>False</td>\n",
       "      <td>False</td>\n",
       "      <td>False</td>\n",
       "      <td>False</td>\n",
       "      <td>False</td>\n",
       "    </tr>\n",
       "  </tbody>\n",
       "</table>\n",
       "</div>"
      ],
      "text/plain": [
       "   something      a      b      c      d  message\n",
       "0      False  False  False  False  False     True\n",
       "1      False  False  False   True  False    False\n",
       "2      False  False  False  False  False    False"
      ]
     },
     "execution_count": 19,
     "metadata": {},
     "output_type": "execute_result"
    }
   ],
   "source": [
    "pd.isnull(result)"
   ]
  },
  {
   "cell_type": "markdown",
   "metadata": {
    "slideshow": {
     "slide_type": "slide"
    }
   },
   "source": [
    "* The **na_values** option can take either a list or set of strings to consider missing values"
   ]
  },
  {
   "cell_type": "code",
   "execution_count": 20,
   "metadata": {
    "slideshow": {
     "slide_type": "fragment"
    }
   },
   "outputs": [
    {
     "data": {
      "text/html": [
       "<div>\n",
       "<style scoped>\n",
       "    .dataframe tbody tr th:only-of-type {\n",
       "        vertical-align: middle;\n",
       "    }\n",
       "\n",
       "    .dataframe tbody tr th {\n",
       "        vertical-align: top;\n",
       "    }\n",
       "\n",
       "    .dataframe thead th {\n",
       "        text-align: right;\n",
       "    }\n",
       "</style>\n",
       "<table border=\"1\" class=\"dataframe\">\n",
       "  <thead>\n",
       "    <tr style=\"text-align: right;\">\n",
       "      <th></th>\n",
       "      <th>something</th>\n",
       "      <th>a</th>\n",
       "      <th>b</th>\n",
       "      <th>c</th>\n",
       "      <th>d</th>\n",
       "      <th>message</th>\n",
       "    </tr>\n",
       "  </thead>\n",
       "  <tbody>\n",
       "    <tr>\n",
       "      <th>0</th>\n",
       "      <td>one</td>\n",
       "      <td>1</td>\n",
       "      <td>2</td>\n",
       "      <td>3.0</td>\n",
       "      <td>4</td>\n",
       "      <td>NaN</td>\n",
       "    </tr>\n",
       "    <tr>\n",
       "      <th>1</th>\n",
       "      <td>two</td>\n",
       "      <td>5</td>\n",
       "      <td>6</td>\n",
       "      <td>NaN</td>\n",
       "      <td>8</td>\n",
       "      <td>world</td>\n",
       "    </tr>\n",
       "    <tr>\n",
       "      <th>2</th>\n",
       "      <td>three</td>\n",
       "      <td>9</td>\n",
       "      <td>10</td>\n",
       "      <td>11.0</td>\n",
       "      <td>12</td>\n",
       "      <td>NaN</td>\n",
       "    </tr>\n",
       "  </tbody>\n",
       "</table>\n",
       "</div>"
      ],
      "text/plain": [
       "  something  a   b     c   d message\n",
       "0       one  1   2   3.0   4     NaN\n",
       "1       two  5   6   NaN   8   world\n",
       "2     three  9  10  11.0  12     NaN"
      ]
     },
     "execution_count": 20,
     "metadata": {},
     "output_type": "execute_result"
    }
   ],
   "source": [
    "result = pd.read_csv('examples/ex5.csv', na_values=['NULL','foo'])\n",
    "result"
   ]
  },
  {
   "cell_type": "markdown",
   "metadata": {
    "slideshow": {
     "slide_type": "slide"
    }
   },
   "source": [
    "* Different NA sentinels can be specified for each column in a dict"
   ]
  },
  {
   "cell_type": "code",
   "execution_count": 21,
   "metadata": {
    "slideshow": {
     "slide_type": "fragment"
    }
   },
   "outputs": [
    {
     "data": {
      "text/html": [
       "<div>\n",
       "<style scoped>\n",
       "    .dataframe tbody tr th:only-of-type {\n",
       "        vertical-align: middle;\n",
       "    }\n",
       "\n",
       "    .dataframe tbody tr th {\n",
       "        vertical-align: top;\n",
       "    }\n",
       "\n",
       "    .dataframe thead th {\n",
       "        text-align: right;\n",
       "    }\n",
       "</style>\n",
       "<table border=\"1\" class=\"dataframe\">\n",
       "  <thead>\n",
       "    <tr style=\"text-align: right;\">\n",
       "      <th></th>\n",
       "      <th>something</th>\n",
       "      <th>a</th>\n",
       "      <th>b</th>\n",
       "      <th>c</th>\n",
       "      <th>d</th>\n",
       "      <th>message</th>\n",
       "    </tr>\n",
       "  </thead>\n",
       "  <tbody>\n",
       "    <tr>\n",
       "      <th>0</th>\n",
       "      <td>one</td>\n",
       "      <td>1</td>\n",
       "      <td>2</td>\n",
       "      <td>3.0</td>\n",
       "      <td>4</td>\n",
       "      <td>NaN</td>\n",
       "    </tr>\n",
       "    <tr>\n",
       "      <th>1</th>\n",
       "      <td>NaN</td>\n",
       "      <td>5</td>\n",
       "      <td>6</td>\n",
       "      <td>NaN</td>\n",
       "      <td>8</td>\n",
       "      <td>world</td>\n",
       "    </tr>\n",
       "    <tr>\n",
       "      <th>2</th>\n",
       "      <td>three</td>\n",
       "      <td>9</td>\n",
       "      <td>10</td>\n",
       "      <td>11.0</td>\n",
       "      <td>12</td>\n",
       "      <td>NaN</td>\n",
       "    </tr>\n",
       "  </tbody>\n",
       "</table>\n",
       "</div>"
      ],
      "text/plain": [
       "  something  a   b     c   d message\n",
       "0       one  1   2   3.0   4     NaN\n",
       "1       NaN  5   6   NaN   8   world\n",
       "2     three  9  10  11.0  12     NaN"
      ]
     },
     "execution_count": 21,
     "metadata": {},
     "output_type": "execute_result"
    }
   ],
   "source": [
    "sentinels = {'message': ['foo', 'NA'], 'something': ['two']}\n",
    "pd.read_csv('examples/ex5.csv', na_values=sentinels)"
   ]
  },
  {
   "cell_type": "markdown",
   "metadata": {
    "slideshow": {
     "slide_type": "slide"
    }
   },
   "source": [
    "#### 3.2.1.1 Reading Text Files in Pieces\n",
    "* When processing very large files or figuring out the right set of arguments to correctly process a large file, you may only want to read in a small piece of a file or iterate through smaller chunks of the file"
   ]
  },
  {
   "cell_type": "markdown",
   "metadata": {
    "slideshow": {
     "slide_type": "slide"
    }
   },
   "source": [
    "* Before we look at a large file, we make the pandas display settings more compact"
   ]
  },
  {
   "cell_type": "code",
   "execution_count": 23,
   "metadata": {
    "slideshow": {
     "slide_type": "fragment"
    }
   },
   "outputs": [],
   "source": [
    "pd.options.display.max_rows = 10"
   ]
  },
  {
   "cell_type": "code",
   "execution_count": 24,
   "metadata": {
    "slideshow": {
     "slide_type": "fragment"
    }
   },
   "outputs": [
    {
     "data": {
      "text/html": [
       "<div>\n",
       "<style scoped>\n",
       "    .dataframe tbody tr th:only-of-type {\n",
       "        vertical-align: middle;\n",
       "    }\n",
       "\n",
       "    .dataframe tbody tr th {\n",
       "        vertical-align: top;\n",
       "    }\n",
       "\n",
       "    .dataframe thead th {\n",
       "        text-align: right;\n",
       "    }\n",
       "</style>\n",
       "<table border=\"1\" class=\"dataframe\">\n",
       "  <thead>\n",
       "    <tr style=\"text-align: right;\">\n",
       "      <th></th>\n",
       "      <th>one</th>\n",
       "      <th>two</th>\n",
       "      <th>three</th>\n",
       "      <th>four</th>\n",
       "      <th>key</th>\n",
       "    </tr>\n",
       "  </thead>\n",
       "  <tbody>\n",
       "    <tr>\n",
       "      <th>0</th>\n",
       "      <td>0.467976</td>\n",
       "      <td>-0.038649</td>\n",
       "      <td>-0.295344</td>\n",
       "      <td>-1.824726</td>\n",
       "      <td>L</td>\n",
       "    </tr>\n",
       "    <tr>\n",
       "      <th>1</th>\n",
       "      <td>-0.358893</td>\n",
       "      <td>1.404453</td>\n",
       "      <td>0.704965</td>\n",
       "      <td>-0.200638</td>\n",
       "      <td>B</td>\n",
       "    </tr>\n",
       "    <tr>\n",
       "      <th>2</th>\n",
       "      <td>-0.501840</td>\n",
       "      <td>0.659254</td>\n",
       "      <td>-0.421691</td>\n",
       "      <td>-0.057688</td>\n",
       "      <td>G</td>\n",
       "    </tr>\n",
       "    <tr>\n",
       "      <th>3</th>\n",
       "      <td>0.204886</td>\n",
       "      <td>1.074134</td>\n",
       "      <td>1.388361</td>\n",
       "      <td>-0.982404</td>\n",
       "      <td>R</td>\n",
       "    </tr>\n",
       "    <tr>\n",
       "      <th>4</th>\n",
       "      <td>0.354628</td>\n",
       "      <td>-0.133116</td>\n",
       "      <td>0.283763</td>\n",
       "      <td>-0.837063</td>\n",
       "      <td>Q</td>\n",
       "    </tr>\n",
       "    <tr>\n",
       "      <th>...</th>\n",
       "      <td>...</td>\n",
       "      <td>...</td>\n",
       "      <td>...</td>\n",
       "      <td>...</td>\n",
       "      <td>...</td>\n",
       "    </tr>\n",
       "    <tr>\n",
       "      <th>9995</th>\n",
       "      <td>2.311896</td>\n",
       "      <td>-0.417070</td>\n",
       "      <td>-1.409599</td>\n",
       "      <td>-0.515821</td>\n",
       "      <td>L</td>\n",
       "    </tr>\n",
       "    <tr>\n",
       "      <th>9996</th>\n",
       "      <td>-0.479893</td>\n",
       "      <td>-0.650419</td>\n",
       "      <td>0.745152</td>\n",
       "      <td>-0.646038</td>\n",
       "      <td>E</td>\n",
       "    </tr>\n",
       "    <tr>\n",
       "      <th>9997</th>\n",
       "      <td>0.523331</td>\n",
       "      <td>0.787112</td>\n",
       "      <td>0.486066</td>\n",
       "      <td>1.093156</td>\n",
       "      <td>K</td>\n",
       "    </tr>\n",
       "    <tr>\n",
       "      <th>9998</th>\n",
       "      <td>-0.362559</td>\n",
       "      <td>0.598894</td>\n",
       "      <td>-1.843201</td>\n",
       "      <td>0.887292</td>\n",
       "      <td>G</td>\n",
       "    </tr>\n",
       "    <tr>\n",
       "      <th>9999</th>\n",
       "      <td>-0.096376</td>\n",
       "      <td>-1.012999</td>\n",
       "      <td>-0.657431</td>\n",
       "      <td>-0.573315</td>\n",
       "      <td>0</td>\n",
       "    </tr>\n",
       "  </tbody>\n",
       "</table>\n",
       "<p>10000 rows × 5 columns</p>\n",
       "</div>"
      ],
      "text/plain": [
       "           one       two     three      four key\n",
       "0     0.467976 -0.038649 -0.295344 -1.824726   L\n",
       "1    -0.358893  1.404453  0.704965 -0.200638   B\n",
       "2    -0.501840  0.659254 -0.421691 -0.057688   G\n",
       "3     0.204886  1.074134  1.388361 -0.982404   R\n",
       "4     0.354628 -0.133116  0.283763 -0.837063   Q\n",
       "...        ...       ...       ...       ...  ..\n",
       "9995  2.311896 -0.417070 -1.409599 -0.515821   L\n",
       "9996 -0.479893 -0.650419  0.745152 -0.646038   E\n",
       "9997  0.523331  0.787112  0.486066  1.093156   K\n",
       "9998 -0.362559  0.598894 -1.843201  0.887292   G\n",
       "9999 -0.096376 -1.012999 -0.657431 -0.573315   0\n",
       "\n",
       "[10000 rows x 5 columns]"
      ]
     },
     "execution_count": 24,
     "metadata": {},
     "output_type": "execute_result"
    }
   ],
   "source": [
    "result = pd.read_csv('examples\\ex6.csv')\n",
    "result"
   ]
  },
  {
   "cell_type": "markdown",
   "metadata": {
    "slideshow": {
     "slide_type": "slide"
    }
   },
   "source": [
    "* If you want to only read a small number of rows (avoiding reading the entire file), specify that with **nrows**"
   ]
  },
  {
   "cell_type": "code",
   "execution_count": 26,
   "metadata": {
    "slideshow": {
     "slide_type": "fragment"
    }
   },
   "outputs": [
    {
     "data": {
      "text/html": [
       "<div>\n",
       "<style scoped>\n",
       "    .dataframe tbody tr th:only-of-type {\n",
       "        vertical-align: middle;\n",
       "    }\n",
       "\n",
       "    .dataframe tbody tr th {\n",
       "        vertical-align: top;\n",
       "    }\n",
       "\n",
       "    .dataframe thead th {\n",
       "        text-align: right;\n",
       "    }\n",
       "</style>\n",
       "<table border=\"1\" class=\"dataframe\">\n",
       "  <thead>\n",
       "    <tr style=\"text-align: right;\">\n",
       "      <th></th>\n",
       "      <th>one</th>\n",
       "      <th>two</th>\n",
       "      <th>three</th>\n",
       "      <th>four</th>\n",
       "      <th>key</th>\n",
       "    </tr>\n",
       "  </thead>\n",
       "  <tbody>\n",
       "    <tr>\n",
       "      <th>0</th>\n",
       "      <td>0.467976</td>\n",
       "      <td>-0.038649</td>\n",
       "      <td>-0.295344</td>\n",
       "      <td>-1.824726</td>\n",
       "      <td>L</td>\n",
       "    </tr>\n",
       "    <tr>\n",
       "      <th>1</th>\n",
       "      <td>-0.358893</td>\n",
       "      <td>1.404453</td>\n",
       "      <td>0.704965</td>\n",
       "      <td>-0.200638</td>\n",
       "      <td>B</td>\n",
       "    </tr>\n",
       "    <tr>\n",
       "      <th>2</th>\n",
       "      <td>-0.501840</td>\n",
       "      <td>0.659254</td>\n",
       "      <td>-0.421691</td>\n",
       "      <td>-0.057688</td>\n",
       "      <td>G</td>\n",
       "    </tr>\n",
       "  </tbody>\n",
       "</table>\n",
       "</div>"
      ],
      "text/plain": [
       "        one       two     three      four key\n",
       "0  0.467976 -0.038649 -0.295344 -1.824726   L\n",
       "1 -0.358893  1.404453  0.704965 -0.200638   B\n",
       "2 -0.501840  0.659254 -0.421691 -0.057688   G"
      ]
     },
     "execution_count": 26,
     "metadata": {},
     "output_type": "execute_result"
    }
   ],
   "source": [
    "pd.read_csv('examples\\ex6.csv', nrows=3)"
   ]
  },
  {
   "cell_type": "markdown",
   "metadata": {
    "slideshow": {
     "slide_type": "slide"
    }
   },
   "source": [
    "#### 3.2.1.2 Writing Data to Text Format\n",
    "* Using DataFrame’s **to_csv** method, we can write the data out to a comma-separated file"
   ]
  },
  {
   "cell_type": "code",
   "execution_count": 27,
   "metadata": {
    "slideshow": {
     "slide_type": "fragment"
    }
   },
   "outputs": [
    {
     "data": {
      "text/html": [
       "<div>\n",
       "<style scoped>\n",
       "    .dataframe tbody tr th:only-of-type {\n",
       "        vertical-align: middle;\n",
       "    }\n",
       "\n",
       "    .dataframe tbody tr th {\n",
       "        vertical-align: top;\n",
       "    }\n",
       "\n",
       "    .dataframe thead th {\n",
       "        text-align: right;\n",
       "    }\n",
       "</style>\n",
       "<table border=\"1\" class=\"dataframe\">\n",
       "  <thead>\n",
       "    <tr style=\"text-align: right;\">\n",
       "      <th></th>\n",
       "      <th>something</th>\n",
       "      <th>a</th>\n",
       "      <th>b</th>\n",
       "      <th>c</th>\n",
       "      <th>d</th>\n",
       "      <th>message</th>\n",
       "    </tr>\n",
       "  </thead>\n",
       "  <tbody>\n",
       "    <tr>\n",
       "      <th>0</th>\n",
       "      <td>one</td>\n",
       "      <td>1</td>\n",
       "      <td>2</td>\n",
       "      <td>3.0</td>\n",
       "      <td>4</td>\n",
       "      <td>NaN</td>\n",
       "    </tr>\n",
       "    <tr>\n",
       "      <th>1</th>\n",
       "      <td>two</td>\n",
       "      <td>5</td>\n",
       "      <td>6</td>\n",
       "      <td>NaN</td>\n",
       "      <td>8</td>\n",
       "      <td>world</td>\n",
       "    </tr>\n",
       "    <tr>\n",
       "      <th>2</th>\n",
       "      <td>three</td>\n",
       "      <td>9</td>\n",
       "      <td>10</td>\n",
       "      <td>11.0</td>\n",
       "      <td>12</td>\n",
       "      <td>foo</td>\n",
       "    </tr>\n",
       "  </tbody>\n",
       "</table>\n",
       "</div>"
      ],
      "text/plain": [
       "  something  a   b     c   d message\n",
       "0       one  1   2   3.0   4     NaN\n",
       "1       two  5   6   NaN   8   world\n",
       "2     three  9  10  11.0  12     foo"
      ]
     },
     "execution_count": 27,
     "metadata": {},
     "output_type": "execute_result"
    }
   ],
   "source": [
    "data = pd.read_csv('examples/ex5.csv')\n",
    "data"
   ]
  },
  {
   "cell_type": "code",
   "execution_count": 29,
   "metadata": {
    "slideshow": {
     "slide_type": "fragment"
    }
   },
   "outputs": [],
   "source": [
    "data.to_csv('examples\\out.csv')"
   ]
  },
  {
   "cell_type": "code",
   "execution_count": 30,
   "metadata": {
    "slideshow": {
     "slide_type": "fragment"
    }
   },
   "outputs": [
    {
     "name": "stdout",
     "output_type": "stream",
     "text": [
      ",something,a,b,c,d,message\n",
      "0,one,1,2,3.0,4,\n",
      "1,two,5,6,,8,world\n",
      "2,three,9,10,11.0,12,foo\n"
     ]
    }
   ],
   "source": [
    "!type examples\\out.csv"
   ]
  },
  {
   "cell_type": "markdown",
   "metadata": {
    "slideshow": {
     "slide_type": "slide"
    }
   },
   "source": [
    "Other delimiters can be used"
   ]
  },
  {
   "cell_type": "code",
   "execution_count": 31,
   "metadata": {
    "slideshow": {
     "slide_type": "fragment"
    }
   },
   "outputs": [
    {
     "name": "stdout",
     "output_type": "stream",
     "text": [
      "|something|a|b|c|d|message\n",
      "0|one|1|2|3.0|4|\n",
      "1|two|5|6||8|world\n",
      "2|three|9|10|11.0|12|foo\n"
     ]
    }
   ],
   "source": [
    "data.to_csv('examples\\out.csv', sep='|')\n",
    "!type examples\\out.csv"
   ]
  },
  {
   "cell_type": "markdown",
   "metadata": {
    "slideshow": {
     "slide_type": "slide"
    }
   },
   "source": [
    "* Missing values appear as empty strings in the output. You might want to denote them by some other sentinel value"
   ]
  },
  {
   "cell_type": "code",
   "execution_count": 33,
   "metadata": {
    "slideshow": {
     "slide_type": "fragment"
    }
   },
   "outputs": [
    {
     "name": "stdout",
     "output_type": "stream",
     "text": [
      ",something,a,b,c,d,message\n",
      "0,one,1,2,3.0,4,NULL\n",
      "1,two,5,6,NULL,8,world\n",
      "2,three,9,10,11.0,12,foo\n"
     ]
    }
   ],
   "source": [
    "data.to_csv('examples\\out.csv', na_rep='NULL')\n",
    "!type examples\\out.csv"
   ]
  },
  {
   "cell_type": "markdown",
   "metadata": {
    "slideshow": {
     "slide_type": "slide"
    }
   },
   "source": [
    "* With no other options specified, both the row and column labels are written. Both of these can be disabled:\n"
   ]
  },
  {
   "cell_type": "code",
   "execution_count": 34,
   "metadata": {
    "slideshow": {
     "slide_type": "fragment"
    }
   },
   "outputs": [
    {
     "name": "stdout",
     "output_type": "stream",
     "text": [
      "one,1,2,3.0,4,\n",
      "two,5,6,,8,world\n",
      "three,9,10,11.0,12,foo\n"
     ]
    }
   ],
   "source": [
    "data.to_csv('examples\\out.csv', index=False, header=False)\n",
    "!type examples\\out.csv"
   ]
  },
  {
   "cell_type": "markdown",
   "metadata": {
    "slideshow": {
     "slide_type": "fragment"
    }
   },
   "source": [
    "* You can also write only a subset of the columns, and in an order of your choosing"
   ]
  },
  {
   "cell_type": "code",
   "execution_count": 35,
   "metadata": {
    "slideshow": {
     "slide_type": "fragment"
    }
   },
   "outputs": [
    {
     "name": "stdout",
     "output_type": "stream",
     "text": [
      "a,b,c\n",
      "1,2,3.0\n",
      "5,6,\n",
      "9,10,11.0\n"
     ]
    }
   ],
   "source": [
    "data.to_csv('examples\\out.csv', index=False, columns=['a', 'b', 'c'])\n",
    "!type examples\\out.csv"
   ]
  },
  {
   "cell_type": "markdown",
   "metadata": {
    "slideshow": {
     "slide_type": "slide"
    }
   },
   "source": [
    "#### 3.2.1.3 JSON Data\n",
    "* JSON (short for JavaScript Object Notation) has become one of the standard formats for sending data by HTTP request between web browsers and other applications. \n",
    "* It is a much more free-form data format than a tabular text form like CSV"
   ]
  },
  {
   "cell_type": "code",
   "execution_count": 36,
   "metadata": {
    "slideshow": {
     "slide_type": "slide"
    }
   },
   "outputs": [],
   "source": [
    "obj = \"\"\"\n",
    "{\"name\": \"Wes\",\n",
    " \"places_lived\": [\"United States\", \"Spain\", \"Germany\"],\n",
    " \"pet\": null,\n",
    " \"siblings\": [{\"name\": \"Scott\", \"age\": 30, \"pets\": [\"Zeus\", \"Zuko\"]},\n",
    "              {\"name\": \"Katie\", \"age\": 38,\n",
    "               \"pets\": [\"Sixes\", \"Stache\", \"Cisco\"]}]\n",
    "}\n",
    "\"\"\""
   ]
  },
  {
   "cell_type": "markdown",
   "metadata": {
    "slideshow": {
     "slide_type": "skip"
    }
   },
   "source": [
    "* To convert a JSON string to Python form, use **json.loads**"
   ]
  },
  {
   "cell_type": "code",
   "execution_count": null,
   "metadata": {
    "slideshow": {
     "slide_type": "skip"
    }
   },
   "outputs": [],
   "source": [
    "import json\n",
    "result = json.loads(obj)\n",
    "result"
   ]
  },
  {
   "cell_type": "markdown",
   "metadata": {
    "slideshow": {
     "slide_type": "skip"
    }
   },
   "source": [
    "* How you convert a JSON object or list of objects to a DataFrame or some other data structure for analysis will be up to you. \n",
    "* Conveniently, you can pass a list of dicts (which were previously JSON objects) to the DataFrame constructor and select a subset of the data fields"
   ]
  },
  {
   "cell_type": "code",
   "execution_count": null,
   "metadata": {
    "slideshow": {
     "slide_type": "skip"
    }
   },
   "outputs": [],
   "source": [
    "siblings = pd.DataFrame(result['siblings'], columns=['name', 'age'])\n",
    "siblings"
   ]
  },
  {
   "cell_type": "markdown",
   "metadata": {
    "slideshow": {
     "slide_type": "slide"
    }
   },
   "source": [
    "* The pandas.read_json can automatically convert JSON datasets in specific arrangements into a Series or DataFrame"
   ]
  },
  {
   "cell_type": "code",
   "execution_count": 37,
   "metadata": {
    "slideshow": {
     "slide_type": "fragment"
    }
   },
   "outputs": [
    {
     "name": "stdout",
     "output_type": "stream",
     "text": [
      "[{\"a\": 1, \"b\": 2, \"c\": 3},\n",
      " {\"a\": 4, \"b\": 5, \"c\": 6},\n",
      " {\"a\": 7, \"b\": 8, \"c\": 9}]\n"
     ]
    }
   ],
   "source": [
    "!type examples\\example.json"
   ]
  },
  {
   "cell_type": "markdown",
   "metadata": {
    "slideshow": {
     "slide_type": "fragment"
    }
   },
   "source": [
    "* The default options for pandas.read_json assume that each object in the JSON array is a row in the table"
   ]
  },
  {
   "cell_type": "code",
   "execution_count": 38,
   "metadata": {
    "slideshow": {
     "slide_type": "fragment"
    }
   },
   "outputs": [
    {
     "data": {
      "text/html": [
       "<div>\n",
       "<style scoped>\n",
       "    .dataframe tbody tr th:only-of-type {\n",
       "        vertical-align: middle;\n",
       "    }\n",
       "\n",
       "    .dataframe tbody tr th {\n",
       "        vertical-align: top;\n",
       "    }\n",
       "\n",
       "    .dataframe thead th {\n",
       "        text-align: right;\n",
       "    }\n",
       "</style>\n",
       "<table border=\"1\" class=\"dataframe\">\n",
       "  <thead>\n",
       "    <tr style=\"text-align: right;\">\n",
       "      <th></th>\n",
       "      <th>a</th>\n",
       "      <th>b</th>\n",
       "      <th>c</th>\n",
       "    </tr>\n",
       "  </thead>\n",
       "  <tbody>\n",
       "    <tr>\n",
       "      <th>0</th>\n",
       "      <td>1</td>\n",
       "      <td>2</td>\n",
       "      <td>3</td>\n",
       "    </tr>\n",
       "    <tr>\n",
       "      <th>1</th>\n",
       "      <td>4</td>\n",
       "      <td>5</td>\n",
       "      <td>6</td>\n",
       "    </tr>\n",
       "    <tr>\n",
       "      <th>2</th>\n",
       "      <td>7</td>\n",
       "      <td>8</td>\n",
       "      <td>9</td>\n",
       "    </tr>\n",
       "  </tbody>\n",
       "</table>\n",
       "</div>"
      ],
      "text/plain": [
       "   a  b  c\n",
       "0  1  2  3\n",
       "1  4  5  6\n",
       "2  7  8  9"
      ]
     },
     "execution_count": 38,
     "metadata": {},
     "output_type": "execute_result"
    }
   ],
   "source": [
    "data = pd.read_json('examples\\example.json')\n",
    "data"
   ]
  },
  {
   "cell_type": "markdown",
   "metadata": {
    "slideshow": {
     "slide_type": "slide"
    }
   },
   "source": [
    "#### 3.2.1.4Reading Microsoft Excel Files\n",
    "* pandas also supports reading tabular data stored in Excel 2003 (and higher) files using either the ExcelFile class or **pandas.read_excel** function."
   ]
  },
  {
   "cell_type": "markdown",
   "metadata": {
    "slideshow": {
     "slide_type": "slide"
    }
   },
   "source": [
    "* To use ExcelFile, create an instance by passing a path to an xls or xlsx file"
   ]
  },
  {
   "cell_type": "code",
   "execution_count": 39,
   "metadata": {
    "slideshow": {
     "slide_type": "fragment"
    }
   },
   "outputs": [],
   "source": [
    "xlsx = pd.ExcelFile('examples/ex1.xlsx')"
   ]
  },
  {
   "cell_type": "markdown",
   "metadata": {
    "slideshow": {
     "slide_type": "fragment"
    }
   },
   "source": [
    "* Data stored in a sheet can then be read into DataFrame with parse"
   ]
  },
  {
   "cell_type": "code",
   "execution_count": 40,
   "metadata": {
    "slideshow": {
     "slide_type": "fragment"
    }
   },
   "outputs": [
    {
     "data": {
      "text/html": [
       "<div>\n",
       "<style scoped>\n",
       "    .dataframe tbody tr th:only-of-type {\n",
       "        vertical-align: middle;\n",
       "    }\n",
       "\n",
       "    .dataframe tbody tr th {\n",
       "        vertical-align: top;\n",
       "    }\n",
       "\n",
       "    .dataframe thead th {\n",
       "        text-align: right;\n",
       "    }\n",
       "</style>\n",
       "<table border=\"1\" class=\"dataframe\">\n",
       "  <thead>\n",
       "    <tr style=\"text-align: right;\">\n",
       "      <th></th>\n",
       "      <th>Unnamed: 0</th>\n",
       "      <th>a</th>\n",
       "      <th>b</th>\n",
       "      <th>c</th>\n",
       "      <th>d</th>\n",
       "      <th>message</th>\n",
       "    </tr>\n",
       "  </thead>\n",
       "  <tbody>\n",
       "    <tr>\n",
       "      <th>0</th>\n",
       "      <td>0</td>\n",
       "      <td>1</td>\n",
       "      <td>2</td>\n",
       "      <td>3</td>\n",
       "      <td>4</td>\n",
       "      <td>hello</td>\n",
       "    </tr>\n",
       "    <tr>\n",
       "      <th>1</th>\n",
       "      <td>1</td>\n",
       "      <td>5</td>\n",
       "      <td>6</td>\n",
       "      <td>7</td>\n",
       "      <td>8</td>\n",
       "      <td>world</td>\n",
       "    </tr>\n",
       "    <tr>\n",
       "      <th>2</th>\n",
       "      <td>2</td>\n",
       "      <td>9</td>\n",
       "      <td>10</td>\n",
       "      <td>11</td>\n",
       "      <td>12</td>\n",
       "      <td>foo</td>\n",
       "    </tr>\n",
       "  </tbody>\n",
       "</table>\n",
       "</div>"
      ],
      "text/plain": [
       "   Unnamed: 0  a   b   c   d message\n",
       "0           0  1   2   3   4   hello\n",
       "1           1  5   6   7   8   world\n",
       "2           2  9  10  11  12     foo"
      ]
     },
     "execution_count": 40,
     "metadata": {},
     "output_type": "execute_result"
    }
   ],
   "source": [
    "pd.read_excel(xlsx, 'Sheet1')"
   ]
  },
  {
   "cell_type": "markdown",
   "metadata": {
    "slideshow": {
     "slide_type": "fragment"
    }
   },
   "source": [
    "If you are reading multiple sheets in a file, then it is faster to create the ExcelFile"
   ]
  },
  {
   "cell_type": "markdown",
   "metadata": {
    "slideshow": {
     "slide_type": "slide"
    }
   },
   "source": [
    "* You can also simply pass the filename to **pandas.read_excel**"
   ]
  },
  {
   "cell_type": "code",
   "execution_count": 41,
   "metadata": {
    "slideshow": {
     "slide_type": "fragment"
    }
   },
   "outputs": [
    {
     "data": {
      "text/html": [
       "<div>\n",
       "<style scoped>\n",
       "    .dataframe tbody tr th:only-of-type {\n",
       "        vertical-align: middle;\n",
       "    }\n",
       "\n",
       "    .dataframe tbody tr th {\n",
       "        vertical-align: top;\n",
       "    }\n",
       "\n",
       "    .dataframe thead th {\n",
       "        text-align: right;\n",
       "    }\n",
       "</style>\n",
       "<table border=\"1\" class=\"dataframe\">\n",
       "  <thead>\n",
       "    <tr style=\"text-align: right;\">\n",
       "      <th></th>\n",
       "      <th>Unnamed: 0</th>\n",
       "      <th>a</th>\n",
       "      <th>b</th>\n",
       "      <th>c</th>\n",
       "      <th>d</th>\n",
       "      <th>message</th>\n",
       "    </tr>\n",
       "  </thead>\n",
       "  <tbody>\n",
       "    <tr>\n",
       "      <th>0</th>\n",
       "      <td>0</td>\n",
       "      <td>1</td>\n",
       "      <td>2</td>\n",
       "      <td>3</td>\n",
       "      <td>4</td>\n",
       "      <td>hello</td>\n",
       "    </tr>\n",
       "    <tr>\n",
       "      <th>1</th>\n",
       "      <td>1</td>\n",
       "      <td>5</td>\n",
       "      <td>6</td>\n",
       "      <td>7</td>\n",
       "      <td>8</td>\n",
       "      <td>world</td>\n",
       "    </tr>\n",
       "    <tr>\n",
       "      <th>2</th>\n",
       "      <td>2</td>\n",
       "      <td>9</td>\n",
       "      <td>10</td>\n",
       "      <td>11</td>\n",
       "      <td>12</td>\n",
       "      <td>foo</td>\n",
       "    </tr>\n",
       "  </tbody>\n",
       "</table>\n",
       "</div>"
      ],
      "text/plain": [
       "   Unnamed: 0  a   b   c   d message\n",
       "0           0  1   2   3   4   hello\n",
       "1           1  5   6   7   8   world\n",
       "2           2  9  10  11  12     foo"
      ]
     },
     "execution_count": 41,
     "metadata": {},
     "output_type": "execute_result"
    }
   ],
   "source": [
    "frame = pd.read_excel('examples/ex1.xlsx', 'Sheet1')\n",
    "frame"
   ]
  },
  {
   "cell_type": "markdown",
   "metadata": {
    "slideshow": {
     "slide_type": "slide"
    }
   },
   "source": [
    "* To write pandas data to Excel format, you must first create an ExcelWriter, then write data to it using pandas objects’ **to_excel** method:\n"
   ]
  },
  {
   "cell_type": "code",
   "execution_count": 42,
   "metadata": {
    "slideshow": {
     "slide_type": "fragment"
    }
   },
   "outputs": [],
   "source": [
    "writer = pd.ExcelWriter('examples/ex2.xlsx')\n",
    "frame.to_excel(writer, 'Sheet1')\n",
    "writer.save()"
   ]
  },
  {
   "cell_type": "markdown",
   "metadata": {
    "slideshow": {
     "slide_type": "fragment"
    }
   },
   "source": [
    "* You can also pass a file path to **to_excel** and avoid the ExcelWriter"
   ]
  },
  {
   "cell_type": "code",
   "execution_count": 43,
   "metadata": {
    "slideshow": {
     "slide_type": "fragment"
    }
   },
   "outputs": [],
   "source": [
    "frame.to_excel('examples/ex3.xlsx')"
   ]
  },
  {
   "cell_type": "markdown",
   "metadata": {
    "slideshow": {
     "slide_type": "slide"
    }
   },
   "source": [
    "### 3.2.2 Viewing Data\n",
    "* Checking if the data have been read in completely, and in the correct format"
   ]
  },
  {
   "cell_type": "code",
   "execution_count": 44,
   "metadata": {
    "slideshow": {
     "slide_type": "slide"
    }
   },
   "outputs": [
    {
     "data": {
      "text/html": [
       "<div>\n",
       "<style scoped>\n",
       "    .dataframe tbody tr th:only-of-type {\n",
       "        vertical-align: middle;\n",
       "    }\n",
       "\n",
       "    .dataframe tbody tr th {\n",
       "        vertical-align: top;\n",
       "    }\n",
       "\n",
       "    .dataframe thead th {\n",
       "        text-align: right;\n",
       "    }\n",
       "</style>\n",
       "<table border=\"1\" class=\"dataframe\">\n",
       "  <thead>\n",
       "    <tr style=\"text-align: right;\">\n",
       "      <th></th>\n",
       "      <th>one</th>\n",
       "      <th>two</th>\n",
       "      <th>three</th>\n",
       "      <th>four</th>\n",
       "      <th>key</th>\n",
       "    </tr>\n",
       "  </thead>\n",
       "  <tbody>\n",
       "    <tr>\n",
       "      <th>0</th>\n",
       "      <td>0.467976</td>\n",
       "      <td>-0.038649</td>\n",
       "      <td>-0.295344</td>\n",
       "      <td>-1.824726</td>\n",
       "      <td>L</td>\n",
       "    </tr>\n",
       "    <tr>\n",
       "      <th>1</th>\n",
       "      <td>-0.358893</td>\n",
       "      <td>1.404453</td>\n",
       "      <td>0.704965</td>\n",
       "      <td>-0.200638</td>\n",
       "      <td>B</td>\n",
       "    </tr>\n",
       "    <tr>\n",
       "      <th>2</th>\n",
       "      <td>-0.501840</td>\n",
       "      <td>0.659254</td>\n",
       "      <td>-0.421691</td>\n",
       "      <td>-0.057688</td>\n",
       "      <td>G</td>\n",
       "    </tr>\n",
       "    <tr>\n",
       "      <th>3</th>\n",
       "      <td>0.204886</td>\n",
       "      <td>1.074134</td>\n",
       "      <td>1.388361</td>\n",
       "      <td>-0.982404</td>\n",
       "      <td>R</td>\n",
       "    </tr>\n",
       "    <tr>\n",
       "      <th>4</th>\n",
       "      <td>0.354628</td>\n",
       "      <td>-0.133116</td>\n",
       "      <td>0.283763</td>\n",
       "      <td>-0.837063</td>\n",
       "      <td>Q</td>\n",
       "    </tr>\n",
       "    <tr>\n",
       "      <th>...</th>\n",
       "      <td>...</td>\n",
       "      <td>...</td>\n",
       "      <td>...</td>\n",
       "      <td>...</td>\n",
       "      <td>...</td>\n",
       "    </tr>\n",
       "    <tr>\n",
       "      <th>9995</th>\n",
       "      <td>2.311896</td>\n",
       "      <td>-0.417070</td>\n",
       "      <td>-1.409599</td>\n",
       "      <td>-0.515821</td>\n",
       "      <td>L</td>\n",
       "    </tr>\n",
       "    <tr>\n",
       "      <th>9996</th>\n",
       "      <td>-0.479893</td>\n",
       "      <td>-0.650419</td>\n",
       "      <td>0.745152</td>\n",
       "      <td>-0.646038</td>\n",
       "      <td>E</td>\n",
       "    </tr>\n",
       "    <tr>\n",
       "      <th>9997</th>\n",
       "      <td>0.523331</td>\n",
       "      <td>0.787112</td>\n",
       "      <td>0.486066</td>\n",
       "      <td>1.093156</td>\n",
       "      <td>K</td>\n",
       "    </tr>\n",
       "    <tr>\n",
       "      <th>9998</th>\n",
       "      <td>-0.362559</td>\n",
       "      <td>0.598894</td>\n",
       "      <td>-1.843201</td>\n",
       "      <td>0.887292</td>\n",
       "      <td>G</td>\n",
       "    </tr>\n",
       "    <tr>\n",
       "      <th>9999</th>\n",
       "      <td>-0.096376</td>\n",
       "      <td>-1.012999</td>\n",
       "      <td>-0.657431</td>\n",
       "      <td>-0.573315</td>\n",
       "      <td>0</td>\n",
       "    </tr>\n",
       "  </tbody>\n",
       "</table>\n",
       "<p>10000 rows × 5 columns</p>\n",
       "</div>"
      ],
      "text/plain": [
       "           one       two     three      four key\n",
       "0     0.467976 -0.038649 -0.295344 -1.824726   L\n",
       "1    -0.358893  1.404453  0.704965 -0.200638   B\n",
       "2    -0.501840  0.659254 -0.421691 -0.057688   G\n",
       "3     0.204886  1.074134  1.388361 -0.982404   R\n",
       "4     0.354628 -0.133116  0.283763 -0.837063   Q\n",
       "...        ...       ...       ...       ...  ..\n",
       "9995  2.311896 -0.417070 -1.409599 -0.515821   L\n",
       "9996 -0.479893 -0.650419  0.745152 -0.646038   E\n",
       "9997  0.523331  0.787112  0.486066  1.093156   K\n",
       "9998 -0.362559  0.598894 -1.843201  0.887292   G\n",
       "9999 -0.096376 -1.012999 -0.657431 -0.573315   0\n",
       "\n",
       "[10000 rows x 5 columns]"
      ]
     },
     "execution_count": 44,
     "metadata": {},
     "output_type": "execute_result"
    }
   ],
   "source": [
    "data = pd.read_csv('examples\\ex6.csv')\n",
    "data"
   ]
  },
  {
   "cell_type": "markdown",
   "metadata": {
    "slideshow": {
     "slide_type": "slide"
    }
   },
   "source": [
    "* **head()** returns the first n rows for the object based on position. It is useful for quickly testing if your object has the right type of data in it."
   ]
  },
  {
   "cell_type": "code",
   "execution_count": 46,
   "metadata": {
    "slideshow": {
     "slide_type": "fragment"
    }
   },
   "outputs": [
    {
     "data": {
      "text/html": [
       "<div>\n",
       "<style scoped>\n",
       "    .dataframe tbody tr th:only-of-type {\n",
       "        vertical-align: middle;\n",
       "    }\n",
       "\n",
       "    .dataframe tbody tr th {\n",
       "        vertical-align: top;\n",
       "    }\n",
       "\n",
       "    .dataframe thead th {\n",
       "        text-align: right;\n",
       "    }\n",
       "</style>\n",
       "<table border=\"1\" class=\"dataframe\">\n",
       "  <thead>\n",
       "    <tr style=\"text-align: right;\">\n",
       "      <th></th>\n",
       "      <th>one</th>\n",
       "      <th>two</th>\n",
       "      <th>three</th>\n",
       "      <th>four</th>\n",
       "      <th>key</th>\n",
       "    </tr>\n",
       "  </thead>\n",
       "  <tbody>\n",
       "    <tr>\n",
       "      <th>0</th>\n",
       "      <td>0.467976</td>\n",
       "      <td>-0.038649</td>\n",
       "      <td>-0.295344</td>\n",
       "      <td>-1.824726</td>\n",
       "      <td>L</td>\n",
       "    </tr>\n",
       "    <tr>\n",
       "      <th>1</th>\n",
       "      <td>-0.358893</td>\n",
       "      <td>1.404453</td>\n",
       "      <td>0.704965</td>\n",
       "      <td>-0.200638</td>\n",
       "      <td>B</td>\n",
       "    </tr>\n",
       "    <tr>\n",
       "      <th>2</th>\n",
       "      <td>-0.501840</td>\n",
       "      <td>0.659254</td>\n",
       "      <td>-0.421691</td>\n",
       "      <td>-0.057688</td>\n",
       "      <td>G</td>\n",
       "    </tr>\n",
       "    <tr>\n",
       "      <th>3</th>\n",
       "      <td>0.204886</td>\n",
       "      <td>1.074134</td>\n",
       "      <td>1.388361</td>\n",
       "      <td>-0.982404</td>\n",
       "      <td>R</td>\n",
       "    </tr>\n",
       "    <tr>\n",
       "      <th>4</th>\n",
       "      <td>0.354628</td>\n",
       "      <td>-0.133116</td>\n",
       "      <td>0.283763</td>\n",
       "      <td>-0.837063</td>\n",
       "      <td>Q</td>\n",
       "    </tr>\n",
       "    <tr>\n",
       "      <th>5</th>\n",
       "      <td>1.817480</td>\n",
       "      <td>0.742273</td>\n",
       "      <td>0.419395</td>\n",
       "      <td>-2.251035</td>\n",
       "      <td>Q</td>\n",
       "    </tr>\n",
       "  </tbody>\n",
       "</table>\n",
       "</div>"
      ],
      "text/plain": [
       "        one       two     three      four key\n",
       "0  0.467976 -0.038649 -0.295344 -1.824726   L\n",
       "1 -0.358893  1.404453  0.704965 -0.200638   B\n",
       "2 -0.501840  0.659254 -0.421691 -0.057688   G\n",
       "3  0.204886  1.074134  1.388361 -0.982404   R\n",
       "4  0.354628 -0.133116  0.283763 -0.837063   Q\n",
       "5  1.817480  0.742273  0.419395 -2.251035   Q"
      ]
     },
     "execution_count": 46,
     "metadata": {},
     "output_type": "execute_result"
    }
   ],
   "source": [
    "# Check if first line is ok\n",
    "data.head(6)"
   ]
  },
  {
   "cell_type": "markdown",
   "metadata": {
    "slideshow": {
     "slide_type": "slide"
    }
   },
   "source": [
    "* **tail()** returns last n rows from the object based on position. It is useful for quickly verifying data."
   ]
  },
  {
   "cell_type": "code",
   "execution_count": 47,
   "metadata": {
    "slideshow": {
     "slide_type": "fragment"
    }
   },
   "outputs": [
    {
     "data": {
      "text/html": [
       "<div>\n",
       "<style scoped>\n",
       "    .dataframe tbody tr th:only-of-type {\n",
       "        vertical-align: middle;\n",
       "    }\n",
       "\n",
       "    .dataframe tbody tr th {\n",
       "        vertical-align: top;\n",
       "    }\n",
       "\n",
       "    .dataframe thead th {\n",
       "        text-align: right;\n",
       "    }\n",
       "</style>\n",
       "<table border=\"1\" class=\"dataframe\">\n",
       "  <thead>\n",
       "    <tr style=\"text-align: right;\">\n",
       "      <th></th>\n",
       "      <th>one</th>\n",
       "      <th>two</th>\n",
       "      <th>three</th>\n",
       "      <th>four</th>\n",
       "      <th>key</th>\n",
       "    </tr>\n",
       "  </thead>\n",
       "  <tbody>\n",
       "    <tr>\n",
       "      <th>9995</th>\n",
       "      <td>2.311896</td>\n",
       "      <td>-0.417070</td>\n",
       "      <td>-1.409599</td>\n",
       "      <td>-0.515821</td>\n",
       "      <td>L</td>\n",
       "    </tr>\n",
       "    <tr>\n",
       "      <th>9996</th>\n",
       "      <td>-0.479893</td>\n",
       "      <td>-0.650419</td>\n",
       "      <td>0.745152</td>\n",
       "      <td>-0.646038</td>\n",
       "      <td>E</td>\n",
       "    </tr>\n",
       "    <tr>\n",
       "      <th>9997</th>\n",
       "      <td>0.523331</td>\n",
       "      <td>0.787112</td>\n",
       "      <td>0.486066</td>\n",
       "      <td>1.093156</td>\n",
       "      <td>K</td>\n",
       "    </tr>\n",
       "    <tr>\n",
       "      <th>9998</th>\n",
       "      <td>-0.362559</td>\n",
       "      <td>0.598894</td>\n",
       "      <td>-1.843201</td>\n",
       "      <td>0.887292</td>\n",
       "      <td>G</td>\n",
       "    </tr>\n",
       "    <tr>\n",
       "      <th>9999</th>\n",
       "      <td>-0.096376</td>\n",
       "      <td>-1.012999</td>\n",
       "      <td>-0.657431</td>\n",
       "      <td>-0.573315</td>\n",
       "      <td>0</td>\n",
       "    </tr>\n",
       "  </tbody>\n",
       "</table>\n",
       "</div>"
      ],
      "text/plain": [
       "           one       two     three      four key\n",
       "9995  2.311896 -0.417070 -1.409599 -0.515821   L\n",
       "9996 -0.479893 -0.650419  0.745152 -0.646038   E\n",
       "9997  0.523331  0.787112  0.486066  1.093156   K\n",
       "9998 -0.362559  0.598894 -1.843201  0.887292   G\n",
       "9999 -0.096376 -1.012999 -0.657431 -0.573315   0"
      ]
     },
     "execution_count": 47,
     "metadata": {},
     "output_type": "execute_result"
    }
   ],
   "source": [
    "# Check the last line is ok\n",
    "data.tail()"
   ]
  },
  {
   "cell_type": "markdown",
   "metadata": {
    "slideshow": {
     "slide_type": "slide"
    }
   },
   "source": [
    "* **sample()** return a random sample of items from an axis of object"
   ]
  },
  {
   "cell_type": "code",
   "execution_count": 50,
   "metadata": {
    "slideshow": {
     "slide_type": "fragment"
    }
   },
   "outputs": [
    {
     "data": {
      "text/html": [
       "<div>\n",
       "<style scoped>\n",
       "    .dataframe tbody tr th:only-of-type {\n",
       "        vertical-align: middle;\n",
       "    }\n",
       "\n",
       "    .dataframe tbody tr th {\n",
       "        vertical-align: top;\n",
       "    }\n",
       "\n",
       "    .dataframe thead th {\n",
       "        text-align: right;\n",
       "    }\n",
       "</style>\n",
       "<table border=\"1\" class=\"dataframe\">\n",
       "  <thead>\n",
       "    <tr style=\"text-align: right;\">\n",
       "      <th></th>\n",
       "      <th>one</th>\n",
       "      <th>two</th>\n",
       "      <th>three</th>\n",
       "      <th>four</th>\n",
       "      <th>key</th>\n",
       "    </tr>\n",
       "  </thead>\n",
       "  <tbody>\n",
       "    <tr>\n",
       "      <th>9924</th>\n",
       "      <td>-0.695323</td>\n",
       "      <td>-1.138164</td>\n",
       "      <td>0.995713</td>\n",
       "      <td>-0.789440</td>\n",
       "      <td>E</td>\n",
       "    </tr>\n",
       "    <tr>\n",
       "      <th>4120</th>\n",
       "      <td>-0.674447</td>\n",
       "      <td>-0.184703</td>\n",
       "      <td>0.706721</td>\n",
       "      <td>0.718681</td>\n",
       "      <td>C</td>\n",
       "    </tr>\n",
       "    <tr>\n",
       "      <th>6436</th>\n",
       "      <td>0.162939</td>\n",
       "      <td>-0.176831</td>\n",
       "      <td>-0.517489</td>\n",
       "      <td>-0.086483</td>\n",
       "      <td>6</td>\n",
       "    </tr>\n",
       "    <tr>\n",
       "      <th>2143</th>\n",
       "      <td>0.033606</td>\n",
       "      <td>-0.882900</td>\n",
       "      <td>-0.345729</td>\n",
       "      <td>-0.317833</td>\n",
       "      <td>S</td>\n",
       "    </tr>\n",
       "    <tr>\n",
       "      <th>1491</th>\n",
       "      <td>-0.222515</td>\n",
       "      <td>0.753492</td>\n",
       "      <td>-0.409289</td>\n",
       "      <td>-0.295382</td>\n",
       "      <td>U</td>\n",
       "    </tr>\n",
       "    <tr>\n",
       "      <th>2152</th>\n",
       "      <td>0.549118</td>\n",
       "      <td>-0.439673</td>\n",
       "      <td>0.651229</td>\n",
       "      <td>2.648046</td>\n",
       "      <td>Z</td>\n",
       "    </tr>\n",
       "    <tr>\n",
       "      <th>7791</th>\n",
       "      <td>-0.811633</td>\n",
       "      <td>0.880449</td>\n",
       "      <td>-0.355221</td>\n",
       "      <td>1.267463</td>\n",
       "      <td>X</td>\n",
       "    </tr>\n",
       "    <tr>\n",
       "      <th>7938</th>\n",
       "      <td>0.329986</td>\n",
       "      <td>0.299003</td>\n",
       "      <td>-1.502037</td>\n",
       "      <td>-1.866984</td>\n",
       "      <td>R</td>\n",
       "    </tr>\n",
       "  </tbody>\n",
       "</table>\n",
       "</div>"
      ],
      "text/plain": [
       "           one       two     three      four key\n",
       "9924 -0.695323 -1.138164  0.995713 -0.789440   E\n",
       "4120 -0.674447 -0.184703  0.706721  0.718681   C\n",
       "6436  0.162939 -0.176831 -0.517489 -0.086483   6\n",
       "2143  0.033606 -0.882900 -0.345729 -0.317833   S\n",
       "1491 -0.222515  0.753492 -0.409289 -0.295382   U\n",
       "2152  0.549118 -0.439673  0.651229  2.648046   Z\n",
       "7791 -0.811633  0.880449 -0.355221  1.267463   X\n",
       "7938  0.329986  0.299003 -1.502037 -1.866984   R"
      ]
     },
     "execution_count": 50,
     "metadata": {},
     "output_type": "execute_result"
    }
   ],
   "source": [
    "# Select a random subset \n",
    "data.sample(8)"
   ]
  },
  {
   "cell_type": "code",
   "execution_count": 53,
   "metadata": {
    "slideshow": {
     "slide_type": "slide"
    }
   },
   "outputs": [
    {
     "data": {
      "text/html": [
       "<div>\n",
       "<style scoped>\n",
       "    .dataframe tbody tr th:only-of-type {\n",
       "        vertical-align: middle;\n",
       "    }\n",
       "\n",
       "    .dataframe tbody tr th {\n",
       "        vertical-align: top;\n",
       "    }\n",
       "\n",
       "    .dataframe thead th {\n",
       "        text-align: right;\n",
       "    }\n",
       "</style>\n",
       "<table border=\"1\" class=\"dataframe\">\n",
       "  <thead>\n",
       "    <tr style=\"text-align: right;\">\n",
       "      <th></th>\n",
       "      <th>one</th>\n",
       "      <th>two</th>\n",
       "      <th>three</th>\n",
       "      <th>four</th>\n",
       "      <th>key</th>\n",
       "    </tr>\n",
       "  </thead>\n",
       "  <tbody>\n",
       "    <tr>\n",
       "      <th>4781</th>\n",
       "      <td>0.063793</td>\n",
       "      <td>-0.837654</td>\n",
       "      <td>-0.677238</td>\n",
       "      <td>-0.626084</td>\n",
       "      <td>U</td>\n",
       "    </tr>\n",
       "    <tr>\n",
       "      <th>8788</th>\n",
       "      <td>1.599495</td>\n",
       "      <td>0.878766</td>\n",
       "      <td>-0.031821</td>\n",
       "      <td>-1.541137</td>\n",
       "      <td>D</td>\n",
       "    </tr>\n",
       "    <tr>\n",
       "      <th>2627</th>\n",
       "      <td>0.867971</td>\n",
       "      <td>0.059845</td>\n",
       "      <td>2.117674</td>\n",
       "      <td>-0.275678</td>\n",
       "      <td>3</td>\n",
       "    </tr>\n",
       "    <tr>\n",
       "      <th>8257</th>\n",
       "      <td>1.005342</td>\n",
       "      <td>0.682462</td>\n",
       "      <td>1.200273</td>\n",
       "      <td>0.193455</td>\n",
       "      <td>H</td>\n",
       "    </tr>\n",
       "    <tr>\n",
       "      <th>2579</th>\n",
       "      <td>0.412337</td>\n",
       "      <td>-0.464012</td>\n",
       "      <td>0.112052</td>\n",
       "      <td>0.829024</td>\n",
       "      <td>O</td>\n",
       "    </tr>\n",
       "    <tr>\n",
       "      <th>...</th>\n",
       "      <td>...</td>\n",
       "      <td>...</td>\n",
       "      <td>...</td>\n",
       "      <td>...</td>\n",
       "      <td>...</td>\n",
       "    </tr>\n",
       "    <tr>\n",
       "      <th>8614</th>\n",
       "      <td>-0.928091</td>\n",
       "      <td>0.701956</td>\n",
       "      <td>1.039178</td>\n",
       "      <td>-0.762259</td>\n",
       "      <td>2</td>\n",
       "    </tr>\n",
       "    <tr>\n",
       "      <th>5537</th>\n",
       "      <td>-1.292614</td>\n",
       "      <td>0.276692</td>\n",
       "      <td>-1.050741</td>\n",
       "      <td>1.534013</td>\n",
       "      <td>8</td>\n",
       "    </tr>\n",
       "    <tr>\n",
       "      <th>5982</th>\n",
       "      <td>-0.896029</td>\n",
       "      <td>-0.152287</td>\n",
       "      <td>1.924483</td>\n",
       "      <td>0.365184</td>\n",
       "      <td>P</td>\n",
       "    </tr>\n",
       "    <tr>\n",
       "      <th>2137</th>\n",
       "      <td>0.693111</td>\n",
       "      <td>0.815751</td>\n",
       "      <td>-2.388695</td>\n",
       "      <td>-0.201710</td>\n",
       "      <td>7</td>\n",
       "    </tr>\n",
       "    <tr>\n",
       "      <th>4905</th>\n",
       "      <td>-1.197574</td>\n",
       "      <td>0.568164</td>\n",
       "      <td>1.985164</td>\n",
       "      <td>0.583706</td>\n",
       "      <td>Q</td>\n",
       "    </tr>\n",
       "  </tbody>\n",
       "</table>\n",
       "<p>100 rows × 5 columns</p>\n",
       "</div>"
      ],
      "text/plain": [
       "           one       two     three      four key\n",
       "4781  0.063793 -0.837654 -0.677238 -0.626084   U\n",
       "8788  1.599495  0.878766 -0.031821 -1.541137   D\n",
       "2627  0.867971  0.059845  2.117674 -0.275678   3\n",
       "8257  1.005342  0.682462  1.200273  0.193455   H\n",
       "2579  0.412337 -0.464012  0.112052  0.829024   O\n",
       "...        ...       ...       ...       ...  ..\n",
       "8614 -0.928091  0.701956  1.039178 -0.762259   2\n",
       "5537 -1.292614  0.276692 -1.050741  1.534013   8\n",
       "5982 -0.896029 -0.152287  1.924483  0.365184   P\n",
       "2137  0.693111  0.815751 -2.388695 -0.201710   7\n",
       "4905 -1.197574  0.568164  1.985164  0.583706   Q\n",
       "\n",
       "[100 rows x 5 columns]"
      ]
     },
     "execution_count": 53,
     "metadata": {},
     "output_type": "execute_result"
    }
   ],
   "source": [
    "data.sample(frac=0.01)"
   ]
  },
  {
   "cell_type": "markdown",
   "metadata": {
    "slideshow": {
     "slide_type": "slide"
    }
   },
   "source": [
    "* **describe()** return descriptive statistics include those that summarize the central tendency, dispersion and shape of a dataset’s distribution, excluding NaN values."
   ]
  },
  {
   "cell_type": "code",
   "execution_count": 54,
   "metadata": {
    "slideshow": {
     "slide_type": "fragment"
    }
   },
   "outputs": [
    {
     "data": {
      "text/html": [
       "<div>\n",
       "<style scoped>\n",
       "    .dataframe tbody tr th:only-of-type {\n",
       "        vertical-align: middle;\n",
       "    }\n",
       "\n",
       "    .dataframe tbody tr th {\n",
       "        vertical-align: top;\n",
       "    }\n",
       "\n",
       "    .dataframe thead th {\n",
       "        text-align: right;\n",
       "    }\n",
       "</style>\n",
       "<table border=\"1\" class=\"dataframe\">\n",
       "  <thead>\n",
       "    <tr style=\"text-align: right;\">\n",
       "      <th></th>\n",
       "      <th>one</th>\n",
       "      <th>two</th>\n",
       "      <th>three</th>\n",
       "      <th>four</th>\n",
       "    </tr>\n",
       "  </thead>\n",
       "  <tbody>\n",
       "    <tr>\n",
       "      <th>count</th>\n",
       "      <td>10000.000000</td>\n",
       "      <td>10000.000000</td>\n",
       "      <td>10000.000000</td>\n",
       "      <td>10000.000000</td>\n",
       "    </tr>\n",
       "    <tr>\n",
       "      <th>mean</th>\n",
       "      <td>0.045750</td>\n",
       "      <td>0.000871</td>\n",
       "      <td>-0.026463</td>\n",
       "      <td>0.015985</td>\n",
       "    </tr>\n",
       "    <tr>\n",
       "      <th>std</th>\n",
       "      <td>0.948825</td>\n",
       "      <td>1.003829</td>\n",
       "      <td>1.037273</td>\n",
       "      <td>0.982409</td>\n",
       "    </tr>\n",
       "    <tr>\n",
       "      <th>min</th>\n",
       "      <td>-3.726864</td>\n",
       "      <td>-3.465356</td>\n",
       "      <td>-3.234391</td>\n",
       "      <td>-3.173509</td>\n",
       "    </tr>\n",
       "    <tr>\n",
       "      <th>25%</th>\n",
       "      <td>-0.618617</td>\n",
       "      <td>-0.706643</td>\n",
       "      <td>-0.727791</td>\n",
       "      <td>-0.676291</td>\n",
       "    </tr>\n",
       "    <tr>\n",
       "      <th>50%</th>\n",
       "      <td>0.041638</td>\n",
       "      <td>0.018972</td>\n",
       "      <td>-0.032340</td>\n",
       "      <td>-0.005338</td>\n",
       "    </tr>\n",
       "    <tr>\n",
       "      <th>75%</th>\n",
       "      <td>0.701536</td>\n",
       "      <td>0.708405</td>\n",
       "      <td>0.626904</td>\n",
       "      <td>0.659369</td>\n",
       "    </tr>\n",
       "    <tr>\n",
       "      <th>max</th>\n",
       "      <td>2.833891</td>\n",
       "      <td>2.946737</td>\n",
       "      <td>3.053345</td>\n",
       "      <td>3.412734</td>\n",
       "    </tr>\n",
       "  </tbody>\n",
       "</table>\n",
       "</div>"
      ],
      "text/plain": [
       "                one           two         three          four\n",
       "count  10000.000000  10000.000000  10000.000000  10000.000000\n",
       "mean       0.045750      0.000871     -0.026463      0.015985\n",
       "std        0.948825      1.003829      1.037273      0.982409\n",
       "min       -3.726864     -3.465356     -3.234391     -3.173509\n",
       "25%       -0.618617     -0.706643     -0.727791     -0.676291\n",
       "50%        0.041638      0.018972     -0.032340     -0.005338\n",
       "75%        0.701536      0.708405      0.626904      0.659369\n",
       "max        2.833891      2.946737      3.053345      3.412734"
      ]
     },
     "execution_count": 54,
     "metadata": {},
     "output_type": "execute_result"
    }
   ],
   "source": [
    "data.describe()"
   ]
  },
  {
   "cell_type": "markdown",
   "metadata": {
    "slideshow": {
     "slide_type": "slide"
    }
   },
   "source": [
    "*  **info()** prints information about a DataFrame including the index dtype and columns, non-null values and memory usage."
   ]
  },
  {
   "cell_type": "code",
   "execution_count": 55,
   "metadata": {
    "slideshow": {
     "slide_type": "fragment"
    }
   },
   "outputs": [
    {
     "name": "stdout",
     "output_type": "stream",
     "text": [
      "<class 'pandas.core.frame.DataFrame'>\n",
      "RangeIndex: 10000 entries, 0 to 9999\n",
      "Data columns (total 5 columns):\n",
      " #   Column  Non-Null Count  Dtype  \n",
      "---  ------  --------------  -----  \n",
      " 0   one     10000 non-null  float64\n",
      " 1   two     10000 non-null  float64\n",
      " 2   three   10000 non-null  float64\n",
      " 3   four    10000 non-null  float64\n",
      " 4   key     10000 non-null  object \n",
      "dtypes: float64(4), object(1)\n",
      "memory usage: 390.8+ KB\n"
     ]
    }
   ],
   "source": [
    "data.info()"
   ]
  },
  {
   "cell_type": "markdown",
   "metadata": {
    "slideshow": {
     "slide_type": "slide"
    }
   },
   "source": [
    "* **dtypes** returns a Series with the data type of each column. "
   ]
  },
  {
   "cell_type": "code",
   "execution_count": 56,
   "metadata": {
    "slideshow": {
     "slide_type": "fragment"
    }
   },
   "outputs": [
    {
     "name": "stdout",
     "output_type": "stream",
     "text": [
      "one      float64\n",
      "two      float64\n",
      "three    float64\n",
      "four     float64\n",
      "key       object\n",
      "dtype: object\n"
     ]
    }
   ],
   "source": [
    "print(data.dtypes)"
   ]
  },
  {
   "cell_type": "markdown",
   "metadata": {
    "slideshow": {
     "slide_type": "slide"
    }
   },
   "source": [
    "* **shape** return a tuple representing the dimensionality of the DataFrame."
   ]
  },
  {
   "cell_type": "code",
   "execution_count": 57,
   "metadata": {
    "slideshow": {
     "slide_type": "fragment"
    }
   },
   "outputs": [
    {
     "data": {
      "text/plain": [
       "(10000, 5)"
      ]
     },
     "execution_count": 57,
     "metadata": {},
     "output_type": "execute_result"
    }
   ],
   "source": [
    "data.shape"
   ]
  },
  {
   "cell_type": "markdown",
   "metadata": {
    "slideshow": {
     "slide_type": "slide"
    }
   },
   "source": [
    "## 3.3 Data Cleaning and Preparation"
   ]
  },
  {
   "cell_type": "markdown",
   "metadata": {
    "slideshow": {
     "slide_type": "fragment"
    }
   },
   "source": [
    "* During the course of doing data analysis and modeling, a significant amount of time is spent on data preparation: loading, cleaning, transforming, and rearranging. \n",
    "* Such tasks are often reported to take up 80% or more of an analyst’s time.\n",
    "* Tools for missing data, duplicate data, string manipulation, and some other analytical data transformations."
   ]
  },
  {
   "cell_type": "markdown",
   "metadata": {
    "slideshow": {
     "slide_type": "slide"
    }
   },
   "source": [
    "### 3.3.1  Handling Missing Data\n",
    "* Missing data occurs commonly in many data analysis applications. One of the goals of pandas is to make working with missing data as painless as possible. \n",
    "* All of the descriptive statistics on pandas objects exclude missing data by default.\n"
   ]
  },
  {
   "cell_type": "markdown",
   "metadata": {
    "slideshow": {
     "slide_type": "slide"
    }
   },
   "source": [
    "* For numeric data, pandas uses the floating-point value NaN (Not a Number) to represent missing data. We call this a sentinel value that can be easily detected.\n",
    "* In pandas, we’ve adopted a convention used in the R programming language by referring to missing data as NA, which stands for not available. \n",
    "* In statistics applications, NA data may either be data that does not exist or that exists but was not observed\n",
    "* When cleaning up data for analysis, it is often important to do analysis on the missing data itself to identify data collection problems or potential biases in the data caused by missing data "
   ]
  },
  {
   "cell_type": "code",
   "execution_count": 58,
   "metadata": {
    "slideshow": {
     "slide_type": "slide"
    }
   },
   "outputs": [],
   "source": [
    "import numpy as np\n",
    "import pandas as pd"
   ]
  },
  {
   "cell_type": "code",
   "execution_count": 59,
   "metadata": {
    "slideshow": {
     "slide_type": "fragment"
    }
   },
   "outputs": [
    {
     "data": {
      "text/plain": [
       "0         None\n",
       "1    artichoke\n",
       "2          NaN\n",
       "3      avocado\n",
       "dtype: object"
      ]
     },
     "execution_count": 59,
     "metadata": {},
     "output_type": "execute_result"
    }
   ],
   "source": [
    "string_data = pd.Series([None, 'artichoke', np.nan, 'avocado'])\n",
    "string_data  "
   ]
  },
  {
   "cell_type": "code",
   "execution_count": 60,
   "metadata": {
    "slideshow": {
     "slide_type": "fragment"
    }
   },
   "outputs": [
    {
     "data": {
      "text/plain": [
       "0     True\n",
       "1    False\n",
       "2     True\n",
       "3    False\n",
       "dtype: bool"
      ]
     },
     "execution_count": 60,
     "metadata": {},
     "output_type": "execute_result"
    }
   ],
   "source": [
    "string_data.isnull() \n",
    "# The built-in Python None value is also treated as NA in object arrays"
   ]
  },
  {
   "cell_type": "markdown",
   "metadata": {
    "slideshow": {
     "slide_type": "slide"
    }
   },
   "source": [
    "#### 3.3.1.1Filtering Out Missing Data\n",
    "* There are a few ways to filter out missing data. While you always have the option to do it by hand using **pandas.isnull** and **boolean indexing**, the **dropna** can be helpful"
   ]
  },
  {
   "cell_type": "code",
   "execution_count": 61,
   "metadata": {
    "slideshow": {
     "slide_type": "slide"
    }
   },
   "outputs": [
    {
     "data": {
      "text/plain": [
       "0    1.0\n",
       "1    NaN\n",
       "2    3.5\n",
       "3    NaN\n",
       "4    7.0\n",
       "dtype: float64"
      ]
     },
     "execution_count": 61,
     "metadata": {},
     "output_type": "execute_result"
    }
   ],
   "source": [
    "from numpy import nan as NA\n",
    "data = pd.Series([1, NA, 3.5, NA, 7])\n",
    "data"
   ]
  },
  {
   "cell_type": "code",
   "execution_count": 62,
   "metadata": {
    "slideshow": {
     "slide_type": "fragment"
    }
   },
   "outputs": [
    {
     "data": {
      "text/plain": [
       "0    1.0\n",
       "2    3.5\n",
       "4    7.0\n",
       "dtype: float64"
      ]
     },
     "execution_count": 62,
     "metadata": {},
     "output_type": "execute_result"
    }
   ],
   "source": [
    "data.dropna()"
   ]
  },
  {
   "cell_type": "code",
   "execution_count": null,
   "metadata": {
    "slideshow": {
     "slide_type": "notes"
    }
   },
   "outputs": [],
   "source": [
    "# This is equivalent to：\n",
    "data[data.notnull()]"
   ]
  },
  {
   "cell_type": "markdown",
   "metadata": {
    "slideshow": {
     "slide_type": "slide"
    }
   },
   "source": [
    "* With DataFrame objects, things are a bit more complex. You may want to drop rows or columns that are all NA or only those containing any NAs. \n",
    "* **dropna** by default drops any row containing a missing value"
   ]
  },
  {
   "cell_type": "code",
   "execution_count": 63,
   "metadata": {
    "slideshow": {
     "slide_type": "fragment"
    }
   },
   "outputs": [
    {
     "data": {
      "text/html": [
       "<div>\n",
       "<style scoped>\n",
       "    .dataframe tbody tr th:only-of-type {\n",
       "        vertical-align: middle;\n",
       "    }\n",
       "\n",
       "    .dataframe tbody tr th {\n",
       "        vertical-align: top;\n",
       "    }\n",
       "\n",
       "    .dataframe thead th {\n",
       "        text-align: right;\n",
       "    }\n",
       "</style>\n",
       "<table border=\"1\" class=\"dataframe\">\n",
       "  <thead>\n",
       "    <tr style=\"text-align: right;\">\n",
       "      <th></th>\n",
       "      <th>0</th>\n",
       "      <th>1</th>\n",
       "      <th>2</th>\n",
       "    </tr>\n",
       "  </thead>\n",
       "  <tbody>\n",
       "    <tr>\n",
       "      <th>0</th>\n",
       "      <td>1.0</td>\n",
       "      <td>6.5</td>\n",
       "      <td>3.0</td>\n",
       "    </tr>\n",
       "    <tr>\n",
       "      <th>1</th>\n",
       "      <td>1.0</td>\n",
       "      <td>NaN</td>\n",
       "      <td>NaN</td>\n",
       "    </tr>\n",
       "    <tr>\n",
       "      <th>2</th>\n",
       "      <td>NaN</td>\n",
       "      <td>NaN</td>\n",
       "      <td>NaN</td>\n",
       "    </tr>\n",
       "    <tr>\n",
       "      <th>3</th>\n",
       "      <td>NaN</td>\n",
       "      <td>6.5</td>\n",
       "      <td>3.0</td>\n",
       "    </tr>\n",
       "  </tbody>\n",
       "</table>\n",
       "</div>"
      ],
      "text/plain": [
       "     0    1    2\n",
       "0  1.0  6.5  3.0\n",
       "1  1.0  NaN  NaN\n",
       "2  NaN  NaN  NaN\n",
       "3  NaN  6.5  3.0"
      ]
     },
     "execution_count": 63,
     "metadata": {},
     "output_type": "execute_result"
    }
   ],
   "source": [
    "data = pd.DataFrame([[1., 6.5, 3.], [1., NA, NA],\n",
    "                     [NA, NA, NA], [NA, 6.5, 3.]])\n",
    "data"
   ]
  },
  {
   "cell_type": "code",
   "execution_count": 64,
   "metadata": {
    "slideshow": {
     "slide_type": "fragment"
    }
   },
   "outputs": [
    {
     "data": {
      "text/html": [
       "<div>\n",
       "<style scoped>\n",
       "    .dataframe tbody tr th:only-of-type {\n",
       "        vertical-align: middle;\n",
       "    }\n",
       "\n",
       "    .dataframe tbody tr th {\n",
       "        vertical-align: top;\n",
       "    }\n",
       "\n",
       "    .dataframe thead th {\n",
       "        text-align: right;\n",
       "    }\n",
       "</style>\n",
       "<table border=\"1\" class=\"dataframe\">\n",
       "  <thead>\n",
       "    <tr style=\"text-align: right;\">\n",
       "      <th></th>\n",
       "      <th>0</th>\n",
       "      <th>1</th>\n",
       "      <th>2</th>\n",
       "    </tr>\n",
       "  </thead>\n",
       "  <tbody>\n",
       "    <tr>\n",
       "      <th>0</th>\n",
       "      <td>1.0</td>\n",
       "      <td>6.5</td>\n",
       "      <td>3.0</td>\n",
       "    </tr>\n",
       "  </tbody>\n",
       "</table>\n",
       "</div>"
      ],
      "text/plain": [
       "     0    1    2\n",
       "0  1.0  6.5  3.0"
      ]
     },
     "execution_count": 64,
     "metadata": {},
     "output_type": "execute_result"
    }
   ],
   "source": [
    "cleaned = data.dropna()\n",
    "cleaned"
   ]
  },
  {
   "cell_type": "code",
   "execution_count": 65,
   "metadata": {
    "slideshow": {
     "slide_type": "slide"
    }
   },
   "outputs": [
    {
     "data": {
      "text/html": [
       "<div>\n",
       "<style scoped>\n",
       "    .dataframe tbody tr th:only-of-type {\n",
       "        vertical-align: middle;\n",
       "    }\n",
       "\n",
       "    .dataframe tbody tr th {\n",
       "        vertical-align: top;\n",
       "    }\n",
       "\n",
       "    .dataframe thead th {\n",
       "        text-align: right;\n",
       "    }\n",
       "</style>\n",
       "<table border=\"1\" class=\"dataframe\">\n",
       "  <thead>\n",
       "    <tr style=\"text-align: right;\">\n",
       "      <th></th>\n",
       "      <th>0</th>\n",
       "      <th>1</th>\n",
       "      <th>2</th>\n",
       "    </tr>\n",
       "  </thead>\n",
       "  <tbody>\n",
       "    <tr>\n",
       "      <th>0</th>\n",
       "      <td>1.0</td>\n",
       "      <td>6.5</td>\n",
       "      <td>3.0</td>\n",
       "    </tr>\n",
       "    <tr>\n",
       "      <th>1</th>\n",
       "      <td>1.0</td>\n",
       "      <td>NaN</td>\n",
       "      <td>NaN</td>\n",
       "    </tr>\n",
       "    <tr>\n",
       "      <th>3</th>\n",
       "      <td>NaN</td>\n",
       "      <td>6.5</td>\n",
       "      <td>3.0</td>\n",
       "    </tr>\n",
       "  </tbody>\n",
       "</table>\n",
       "</div>"
      ],
      "text/plain": [
       "     0    1    2\n",
       "0  1.0  6.5  3.0\n",
       "1  1.0  NaN  NaN\n",
       "3  NaN  6.5  3.0"
      ]
     },
     "execution_count": 65,
     "metadata": {},
     "output_type": "execute_result"
    }
   ],
   "source": [
    "# Passing how='all' will only drop rows that are all NA\n",
    "data.dropna(how='all')"
   ]
  },
  {
   "cell_type": "markdown",
   "metadata": {
    "slideshow": {
     "slide_type": "slide"
    }
   },
   "source": [
    "* To drop columns in the same way, pass axis=1"
   ]
  },
  {
   "cell_type": "code",
   "execution_count": 66,
   "metadata": {
    "slideshow": {
     "slide_type": "fragment"
    }
   },
   "outputs": [
    {
     "data": {
      "text/html": [
       "<div>\n",
       "<style scoped>\n",
       "    .dataframe tbody tr th:only-of-type {\n",
       "        vertical-align: middle;\n",
       "    }\n",
       "\n",
       "    .dataframe tbody tr th {\n",
       "        vertical-align: top;\n",
       "    }\n",
       "\n",
       "    .dataframe thead th {\n",
       "        text-align: right;\n",
       "    }\n",
       "</style>\n",
       "<table border=\"1\" class=\"dataframe\">\n",
       "  <thead>\n",
       "    <tr style=\"text-align: right;\">\n",
       "      <th></th>\n",
       "      <th>0</th>\n",
       "      <th>1</th>\n",
       "      <th>2</th>\n",
       "      <th>4</th>\n",
       "    </tr>\n",
       "  </thead>\n",
       "  <tbody>\n",
       "    <tr>\n",
       "      <th>0</th>\n",
       "      <td>1.0</td>\n",
       "      <td>6.5</td>\n",
       "      <td>3.0</td>\n",
       "      <td>NaN</td>\n",
       "    </tr>\n",
       "    <tr>\n",
       "      <th>1</th>\n",
       "      <td>1.0</td>\n",
       "      <td>NaN</td>\n",
       "      <td>NaN</td>\n",
       "      <td>NaN</td>\n",
       "    </tr>\n",
       "    <tr>\n",
       "      <th>2</th>\n",
       "      <td>NaN</td>\n",
       "      <td>NaN</td>\n",
       "      <td>NaN</td>\n",
       "      <td>NaN</td>\n",
       "    </tr>\n",
       "    <tr>\n",
       "      <th>3</th>\n",
       "      <td>NaN</td>\n",
       "      <td>6.5</td>\n",
       "      <td>3.0</td>\n",
       "      <td>NaN</td>\n",
       "    </tr>\n",
       "  </tbody>\n",
       "</table>\n",
       "</div>"
      ],
      "text/plain": [
       "     0    1    2   4\n",
       "0  1.0  6.5  3.0 NaN\n",
       "1  1.0  NaN  NaN NaN\n",
       "2  NaN  NaN  NaN NaN\n",
       "3  NaN  6.5  3.0 NaN"
      ]
     },
     "execution_count": 66,
     "metadata": {},
     "output_type": "execute_result"
    }
   ],
   "source": [
    "data[4] = NA\n",
    "data"
   ]
  },
  {
   "cell_type": "code",
   "execution_count": 67,
   "metadata": {
    "slideshow": {
     "slide_type": "fragment"
    }
   },
   "outputs": [
    {
     "data": {
      "text/html": [
       "<div>\n",
       "<style scoped>\n",
       "    .dataframe tbody tr th:only-of-type {\n",
       "        vertical-align: middle;\n",
       "    }\n",
       "\n",
       "    .dataframe tbody tr th {\n",
       "        vertical-align: top;\n",
       "    }\n",
       "\n",
       "    .dataframe thead th {\n",
       "        text-align: right;\n",
       "    }\n",
       "</style>\n",
       "<table border=\"1\" class=\"dataframe\">\n",
       "  <thead>\n",
       "    <tr style=\"text-align: right;\">\n",
       "      <th></th>\n",
       "      <th>0</th>\n",
       "      <th>1</th>\n",
       "      <th>2</th>\n",
       "    </tr>\n",
       "  </thead>\n",
       "  <tbody>\n",
       "    <tr>\n",
       "      <th>0</th>\n",
       "      <td>1.0</td>\n",
       "      <td>6.5</td>\n",
       "      <td>3.0</td>\n",
       "    </tr>\n",
       "    <tr>\n",
       "      <th>1</th>\n",
       "      <td>1.0</td>\n",
       "      <td>NaN</td>\n",
       "      <td>NaN</td>\n",
       "    </tr>\n",
       "    <tr>\n",
       "      <th>2</th>\n",
       "      <td>NaN</td>\n",
       "      <td>NaN</td>\n",
       "      <td>NaN</td>\n",
       "    </tr>\n",
       "    <tr>\n",
       "      <th>3</th>\n",
       "      <td>NaN</td>\n",
       "      <td>6.5</td>\n",
       "      <td>3.0</td>\n",
       "    </tr>\n",
       "  </tbody>\n",
       "</table>\n",
       "</div>"
      ],
      "text/plain": [
       "     0    1    2\n",
       "0  1.0  6.5  3.0\n",
       "1  1.0  NaN  NaN\n",
       "2  NaN  NaN  NaN\n",
       "3  NaN  6.5  3.0"
      ]
     },
     "execution_count": 67,
     "metadata": {},
     "output_type": "execute_result"
    }
   ],
   "source": [
    "data.dropna(axis=1,how='all')"
   ]
  },
  {
   "cell_type": "markdown",
   "metadata": {
    "slideshow": {
     "slide_type": "slide"
    }
   },
   "source": [
    "* A related way to filter out DataFrame rows tends to concern time series data. Suppose you want to keep only rows containing a certain number of observations. You can indicate this with the **thresh** argument"
   ]
  },
  {
   "cell_type": "code",
   "execution_count": 68,
   "metadata": {
    "slideshow": {
     "slide_type": "slide"
    }
   },
   "outputs": [
    {
     "data": {
      "text/html": [
       "<div>\n",
       "<style scoped>\n",
       "    .dataframe tbody tr th:only-of-type {\n",
       "        vertical-align: middle;\n",
       "    }\n",
       "\n",
       "    .dataframe tbody tr th {\n",
       "        vertical-align: top;\n",
       "    }\n",
       "\n",
       "    .dataframe thead th {\n",
       "        text-align: right;\n",
       "    }\n",
       "</style>\n",
       "<table border=\"1\" class=\"dataframe\">\n",
       "  <thead>\n",
       "    <tr style=\"text-align: right;\">\n",
       "      <th></th>\n",
       "      <th>0</th>\n",
       "      <th>1</th>\n",
       "      <th>2</th>\n",
       "    </tr>\n",
       "  </thead>\n",
       "  <tbody>\n",
       "    <tr>\n",
       "      <th>0</th>\n",
       "      <td>-0.180732</td>\n",
       "      <td>NaN</td>\n",
       "      <td>NaN</td>\n",
       "    </tr>\n",
       "    <tr>\n",
       "      <th>1</th>\n",
       "      <td>0.734855</td>\n",
       "      <td>NaN</td>\n",
       "      <td>NaN</td>\n",
       "    </tr>\n",
       "    <tr>\n",
       "      <th>2</th>\n",
       "      <td>0.577066</td>\n",
       "      <td>NaN</td>\n",
       "      <td>1.207922</td>\n",
       "    </tr>\n",
       "    <tr>\n",
       "      <th>3</th>\n",
       "      <td>2.326736</td>\n",
       "      <td>NaN</td>\n",
       "      <td>-1.323715</td>\n",
       "    </tr>\n",
       "    <tr>\n",
       "      <th>4</th>\n",
       "      <td>-1.435682</td>\n",
       "      <td>0.553289</td>\n",
       "      <td>-1.373132</td>\n",
       "    </tr>\n",
       "    <tr>\n",
       "      <th>5</th>\n",
       "      <td>-0.898213</td>\n",
       "      <td>-0.019709</td>\n",
       "      <td>-0.793063</td>\n",
       "    </tr>\n",
       "    <tr>\n",
       "      <th>6</th>\n",
       "      <td>-0.621505</td>\n",
       "      <td>-0.010287</td>\n",
       "      <td>0.120582</td>\n",
       "    </tr>\n",
       "  </tbody>\n",
       "</table>\n",
       "</div>"
      ],
      "text/plain": [
       "          0         1         2\n",
       "0 -0.180732       NaN       NaN\n",
       "1  0.734855       NaN       NaN\n",
       "2  0.577066       NaN  1.207922\n",
       "3  2.326736       NaN -1.323715\n",
       "4 -1.435682  0.553289 -1.373132\n",
       "5 -0.898213 -0.019709 -0.793063\n",
       "6 -0.621505 -0.010287  0.120582"
      ]
     },
     "execution_count": 68,
     "metadata": {},
     "output_type": "execute_result"
    }
   ],
   "source": [
    "df = pd.DataFrame(np.random.randn(7, 3))\n",
    "df.iloc[:4, 1] = NA\n",
    "df.iloc[:2, 2] = NA\n",
    "df"
   ]
  },
  {
   "cell_type": "code",
   "execution_count": 70,
   "metadata": {
    "slideshow": {
     "slide_type": "fragment"
    }
   },
   "outputs": [],
   "source": [
    "#df.dropna()"
   ]
  },
  {
   "cell_type": "code",
   "execution_count": 71,
   "metadata": {
    "slideshow": {
     "slide_type": "fragment"
    }
   },
   "outputs": [
    {
     "data": {
      "text/html": [
       "<div>\n",
       "<style scoped>\n",
       "    .dataframe tbody tr th:only-of-type {\n",
       "        vertical-align: middle;\n",
       "    }\n",
       "\n",
       "    .dataframe tbody tr th {\n",
       "        vertical-align: top;\n",
       "    }\n",
       "\n",
       "    .dataframe thead th {\n",
       "        text-align: right;\n",
       "    }\n",
       "</style>\n",
       "<table border=\"1\" class=\"dataframe\">\n",
       "  <thead>\n",
       "    <tr style=\"text-align: right;\">\n",
       "      <th></th>\n",
       "      <th>0</th>\n",
       "      <th>1</th>\n",
       "      <th>2</th>\n",
       "    </tr>\n",
       "  </thead>\n",
       "  <tbody>\n",
       "    <tr>\n",
       "      <th>2</th>\n",
       "      <td>0.577066</td>\n",
       "      <td>NaN</td>\n",
       "      <td>1.207922</td>\n",
       "    </tr>\n",
       "    <tr>\n",
       "      <th>3</th>\n",
       "      <td>2.326736</td>\n",
       "      <td>NaN</td>\n",
       "      <td>-1.323715</td>\n",
       "    </tr>\n",
       "    <tr>\n",
       "      <th>4</th>\n",
       "      <td>-1.435682</td>\n",
       "      <td>0.553289</td>\n",
       "      <td>-1.373132</td>\n",
       "    </tr>\n",
       "    <tr>\n",
       "      <th>5</th>\n",
       "      <td>-0.898213</td>\n",
       "      <td>-0.019709</td>\n",
       "      <td>-0.793063</td>\n",
       "    </tr>\n",
       "    <tr>\n",
       "      <th>6</th>\n",
       "      <td>-0.621505</td>\n",
       "      <td>-0.010287</td>\n",
       "      <td>0.120582</td>\n",
       "    </tr>\n",
       "  </tbody>\n",
       "</table>\n",
       "</div>"
      ],
      "text/plain": [
       "          0         1         2\n",
       "2  0.577066       NaN  1.207922\n",
       "3  2.326736       NaN -1.323715\n",
       "4 -1.435682  0.553289 -1.373132\n",
       "5 -0.898213 -0.019709 -0.793063\n",
       "6 -0.621505 -0.010287  0.120582"
      ]
     },
     "execution_count": 71,
     "metadata": {},
     "output_type": "execute_result"
    }
   ],
   "source": [
    "df.dropna(thresh=2)"
   ]
  },
  {
   "cell_type": "markdown",
   "metadata": {
    "slideshow": {
     "slide_type": "slide"
    }
   },
   "source": [
    "#### 5.2.1.2 Filling In Missing Data\n",
    "* Rather than filtering out missing data (and potentially discarding other data along with it), you may want to fill in the “holes” in any number of ways"
   ]
  },
  {
   "cell_type": "code",
   "execution_count": 72,
   "metadata": {
    "slideshow": {
     "slide_type": "slide"
    }
   },
   "outputs": [
    {
     "data": {
      "text/html": [
       "<div>\n",
       "<style scoped>\n",
       "    .dataframe tbody tr th:only-of-type {\n",
       "        vertical-align: middle;\n",
       "    }\n",
       "\n",
       "    .dataframe tbody tr th {\n",
       "        vertical-align: top;\n",
       "    }\n",
       "\n",
       "    .dataframe thead th {\n",
       "        text-align: right;\n",
       "    }\n",
       "</style>\n",
       "<table border=\"1\" class=\"dataframe\">\n",
       "  <thead>\n",
       "    <tr style=\"text-align: right;\">\n",
       "      <th></th>\n",
       "      <th>0</th>\n",
       "      <th>1</th>\n",
       "      <th>2</th>\n",
       "    </tr>\n",
       "  </thead>\n",
       "  <tbody>\n",
       "    <tr>\n",
       "      <th>0</th>\n",
       "      <td>-0.180732</td>\n",
       "      <td>NaN</td>\n",
       "      <td>NaN</td>\n",
       "    </tr>\n",
       "    <tr>\n",
       "      <th>1</th>\n",
       "      <td>0.734855</td>\n",
       "      <td>NaN</td>\n",
       "      <td>NaN</td>\n",
       "    </tr>\n",
       "    <tr>\n",
       "      <th>2</th>\n",
       "      <td>0.577066</td>\n",
       "      <td>NaN</td>\n",
       "      <td>1.207922</td>\n",
       "    </tr>\n",
       "    <tr>\n",
       "      <th>3</th>\n",
       "      <td>2.326736</td>\n",
       "      <td>NaN</td>\n",
       "      <td>-1.323715</td>\n",
       "    </tr>\n",
       "    <tr>\n",
       "      <th>4</th>\n",
       "      <td>-1.435682</td>\n",
       "      <td>0.553289</td>\n",
       "      <td>-1.373132</td>\n",
       "    </tr>\n",
       "    <tr>\n",
       "      <th>5</th>\n",
       "      <td>-0.898213</td>\n",
       "      <td>-0.019709</td>\n",
       "      <td>-0.793063</td>\n",
       "    </tr>\n",
       "    <tr>\n",
       "      <th>6</th>\n",
       "      <td>-0.621505</td>\n",
       "      <td>-0.010287</td>\n",
       "      <td>0.120582</td>\n",
       "    </tr>\n",
       "  </tbody>\n",
       "</table>\n",
       "</div>"
      ],
      "text/plain": [
       "          0         1         2\n",
       "0 -0.180732       NaN       NaN\n",
       "1  0.734855       NaN       NaN\n",
       "2  0.577066       NaN  1.207922\n",
       "3  2.326736       NaN -1.323715\n",
       "4 -1.435682  0.553289 -1.373132\n",
       "5 -0.898213 -0.019709 -0.793063\n",
       "6 -0.621505 -0.010287  0.120582"
      ]
     },
     "execution_count": 72,
     "metadata": {},
     "output_type": "execute_result"
    }
   ],
   "source": [
    "df"
   ]
  },
  {
   "cell_type": "code",
   "execution_count": 74,
   "metadata": {
    "slideshow": {
     "slide_type": "fragment"
    }
   },
   "outputs": [
    {
     "data": {
      "text/html": [
       "<div>\n",
       "<style scoped>\n",
       "    .dataframe tbody tr th:only-of-type {\n",
       "        vertical-align: middle;\n",
       "    }\n",
       "\n",
       "    .dataframe tbody tr th {\n",
       "        vertical-align: top;\n",
       "    }\n",
       "\n",
       "    .dataframe thead th {\n",
       "        text-align: right;\n",
       "    }\n",
       "</style>\n",
       "<table border=\"1\" class=\"dataframe\">\n",
       "  <thead>\n",
       "    <tr style=\"text-align: right;\">\n",
       "      <th></th>\n",
       "      <th>0</th>\n",
       "      <th>1</th>\n",
       "      <th>2</th>\n",
       "    </tr>\n",
       "  </thead>\n",
       "  <tbody>\n",
       "    <tr>\n",
       "      <th>0</th>\n",
       "      <td>-0.180732</td>\n",
       "      <td>0.000000</td>\n",
       "      <td>0.000000</td>\n",
       "    </tr>\n",
       "    <tr>\n",
       "      <th>1</th>\n",
       "      <td>0.734855</td>\n",
       "      <td>0.000000</td>\n",
       "      <td>0.000000</td>\n",
       "    </tr>\n",
       "    <tr>\n",
       "      <th>2</th>\n",
       "      <td>0.577066</td>\n",
       "      <td>0.000000</td>\n",
       "      <td>1.207922</td>\n",
       "    </tr>\n",
       "    <tr>\n",
       "      <th>3</th>\n",
       "      <td>2.326736</td>\n",
       "      <td>0.000000</td>\n",
       "      <td>-1.323715</td>\n",
       "    </tr>\n",
       "    <tr>\n",
       "      <th>4</th>\n",
       "      <td>-1.435682</td>\n",
       "      <td>0.553289</td>\n",
       "      <td>-1.373132</td>\n",
       "    </tr>\n",
       "    <tr>\n",
       "      <th>5</th>\n",
       "      <td>-0.898213</td>\n",
       "      <td>-0.019709</td>\n",
       "      <td>-0.793063</td>\n",
       "    </tr>\n",
       "    <tr>\n",
       "      <th>6</th>\n",
       "      <td>-0.621505</td>\n",
       "      <td>-0.010287</td>\n",
       "      <td>0.120582</td>\n",
       "    </tr>\n",
       "  </tbody>\n",
       "</table>\n",
       "</div>"
      ],
      "text/plain": [
       "          0         1         2\n",
       "0 -0.180732  0.000000  0.000000\n",
       "1  0.734855  0.000000  0.000000\n",
       "2  0.577066  0.000000  1.207922\n",
       "3  2.326736  0.000000 -1.323715\n",
       "4 -1.435682  0.553289 -1.373132\n",
       "5 -0.898213 -0.019709 -0.793063\n",
       "6 -0.621505 -0.010287  0.120582"
      ]
     },
     "execution_count": 74,
     "metadata": {},
     "output_type": "execute_result"
    }
   ],
   "source": [
    "df.fillna(0)"
   ]
  },
  {
   "cell_type": "markdown",
   "metadata": {
    "slideshow": {
     "slide_type": "slide"
    }
   },
   "source": [
    "* Calling **fillna** with a dict, you can use a different fill value for each column"
   ]
  },
  {
   "cell_type": "code",
   "execution_count": 75,
   "metadata": {
    "slideshow": {
     "slide_type": "fragment"
    }
   },
   "outputs": [
    {
     "data": {
      "text/html": [
       "<div>\n",
       "<style scoped>\n",
       "    .dataframe tbody tr th:only-of-type {\n",
       "        vertical-align: middle;\n",
       "    }\n",
       "\n",
       "    .dataframe tbody tr th {\n",
       "        vertical-align: top;\n",
       "    }\n",
       "\n",
       "    .dataframe thead th {\n",
       "        text-align: right;\n",
       "    }\n",
       "</style>\n",
       "<table border=\"1\" class=\"dataframe\">\n",
       "  <thead>\n",
       "    <tr style=\"text-align: right;\">\n",
       "      <th></th>\n",
       "      <th>0</th>\n",
       "      <th>1</th>\n",
       "      <th>2</th>\n",
       "    </tr>\n",
       "  </thead>\n",
       "  <tbody>\n",
       "    <tr>\n",
       "      <th>0</th>\n",
       "      <td>-0.180732</td>\n",
       "      <td>NaN</td>\n",
       "      <td>NaN</td>\n",
       "    </tr>\n",
       "    <tr>\n",
       "      <th>1</th>\n",
       "      <td>0.734855</td>\n",
       "      <td>NaN</td>\n",
       "      <td>NaN</td>\n",
       "    </tr>\n",
       "    <tr>\n",
       "      <th>2</th>\n",
       "      <td>0.577066</td>\n",
       "      <td>NaN</td>\n",
       "      <td>1.207922</td>\n",
       "    </tr>\n",
       "    <tr>\n",
       "      <th>3</th>\n",
       "      <td>2.326736</td>\n",
       "      <td>NaN</td>\n",
       "      <td>-1.323715</td>\n",
       "    </tr>\n",
       "    <tr>\n",
       "      <th>4</th>\n",
       "      <td>-1.435682</td>\n",
       "      <td>0.553289</td>\n",
       "      <td>-1.373132</td>\n",
       "    </tr>\n",
       "    <tr>\n",
       "      <th>5</th>\n",
       "      <td>-0.898213</td>\n",
       "      <td>-0.019709</td>\n",
       "      <td>-0.793063</td>\n",
       "    </tr>\n",
       "    <tr>\n",
       "      <th>6</th>\n",
       "      <td>-0.621505</td>\n",
       "      <td>-0.010287</td>\n",
       "      <td>0.120582</td>\n",
       "    </tr>\n",
       "  </tbody>\n",
       "</table>\n",
       "</div>"
      ],
      "text/plain": [
       "          0         1         2\n",
       "0 -0.180732       NaN       NaN\n",
       "1  0.734855       NaN       NaN\n",
       "2  0.577066       NaN  1.207922\n",
       "3  2.326736       NaN -1.323715\n",
       "4 -1.435682  0.553289 -1.373132\n",
       "5 -0.898213 -0.019709 -0.793063\n",
       "6 -0.621505 -0.010287  0.120582"
      ]
     },
     "execution_count": 75,
     "metadata": {},
     "output_type": "execute_result"
    }
   ],
   "source": [
    "df"
   ]
  },
  {
   "cell_type": "code",
   "execution_count": 77,
   "metadata": {
    "slideshow": {
     "slide_type": "fragment"
    }
   },
   "outputs": [
    {
     "data": {
      "text/html": [
       "<div>\n",
       "<style scoped>\n",
       "    .dataframe tbody tr th:only-of-type {\n",
       "        vertical-align: middle;\n",
       "    }\n",
       "\n",
       "    .dataframe tbody tr th {\n",
       "        vertical-align: top;\n",
       "    }\n",
       "\n",
       "    .dataframe thead th {\n",
       "        text-align: right;\n",
       "    }\n",
       "</style>\n",
       "<table border=\"1\" class=\"dataframe\">\n",
       "  <thead>\n",
       "    <tr style=\"text-align: right;\">\n",
       "      <th></th>\n",
       "      <th>0</th>\n",
       "      <th>1</th>\n",
       "      <th>2</th>\n",
       "    </tr>\n",
       "  </thead>\n",
       "  <tbody>\n",
       "    <tr>\n",
       "      <th>0</th>\n",
       "      <td>-0.180732</td>\n",
       "      <td>0.500000</td>\n",
       "      <td>0.000000</td>\n",
       "    </tr>\n",
       "    <tr>\n",
       "      <th>1</th>\n",
       "      <td>0.734855</td>\n",
       "      <td>0.500000</td>\n",
       "      <td>0.000000</td>\n",
       "    </tr>\n",
       "    <tr>\n",
       "      <th>2</th>\n",
       "      <td>0.577066</td>\n",
       "      <td>0.500000</td>\n",
       "      <td>1.207922</td>\n",
       "    </tr>\n",
       "    <tr>\n",
       "      <th>3</th>\n",
       "      <td>2.326736</td>\n",
       "      <td>0.500000</td>\n",
       "      <td>-1.323715</td>\n",
       "    </tr>\n",
       "    <tr>\n",
       "      <th>4</th>\n",
       "      <td>-1.435682</td>\n",
       "      <td>0.553289</td>\n",
       "      <td>-1.373132</td>\n",
       "    </tr>\n",
       "    <tr>\n",
       "      <th>5</th>\n",
       "      <td>-0.898213</td>\n",
       "      <td>-0.019709</td>\n",
       "      <td>-0.793063</td>\n",
       "    </tr>\n",
       "    <tr>\n",
       "      <th>6</th>\n",
       "      <td>-0.621505</td>\n",
       "      <td>-0.010287</td>\n",
       "      <td>0.120582</td>\n",
       "    </tr>\n",
       "  </tbody>\n",
       "</table>\n",
       "</div>"
      ],
      "text/plain": [
       "          0         1         2\n",
       "0 -0.180732  0.500000  0.000000\n",
       "1  0.734855  0.500000  0.000000\n",
       "2  0.577066  0.500000  1.207922\n",
       "3  2.326736  0.500000 -1.323715\n",
       "4 -1.435682  0.553289 -1.373132\n",
       "5 -0.898213 -0.019709 -0.793063\n",
       "6 -0.621505 -0.010287  0.120582"
      ]
     },
     "execution_count": 77,
     "metadata": {},
     "output_type": "execute_result"
    }
   ],
   "source": [
    " df.fillna({1: 0.5, 2: 0})"
   ]
  },
  {
   "cell_type": "markdown",
   "metadata": {
    "slideshow": {
     "slide_type": "slide"
    }
   },
   "source": [
    "The same interpolation **method** available for reindexing can be used with **fillna**\n",
    "* ffill: propagate last valid observation forward to next valid \n",
    "* bfill: use next valid observation to fill gap"
   ]
  },
  {
   "cell_type": "code",
   "execution_count": 80,
   "metadata": {},
   "outputs": [],
   "source": [
    "df.fillna?"
   ]
  },
  {
   "cell_type": "code",
   "execution_count": 81,
   "metadata": {
    "slideshow": {
     "slide_type": "slide"
    }
   },
   "outputs": [
    {
     "data": {
      "text/html": [
       "<div>\n",
       "<style scoped>\n",
       "    .dataframe tbody tr th:only-of-type {\n",
       "        vertical-align: middle;\n",
       "    }\n",
       "\n",
       "    .dataframe tbody tr th {\n",
       "        vertical-align: top;\n",
       "    }\n",
       "\n",
       "    .dataframe thead th {\n",
       "        text-align: right;\n",
       "    }\n",
       "</style>\n",
       "<table border=\"1\" class=\"dataframe\">\n",
       "  <thead>\n",
       "    <tr style=\"text-align: right;\">\n",
       "      <th></th>\n",
       "      <th>0</th>\n",
       "      <th>1</th>\n",
       "      <th>2</th>\n",
       "    </tr>\n",
       "  </thead>\n",
       "  <tbody>\n",
       "    <tr>\n",
       "      <th>0</th>\n",
       "      <td>-0.180732</td>\n",
       "      <td>NaN</td>\n",
       "      <td>NaN</td>\n",
       "    </tr>\n",
       "    <tr>\n",
       "      <th>1</th>\n",
       "      <td>0.734855</td>\n",
       "      <td>NaN</td>\n",
       "      <td>NaN</td>\n",
       "    </tr>\n",
       "    <tr>\n",
       "      <th>2</th>\n",
       "      <td>0.577066</td>\n",
       "      <td>NaN</td>\n",
       "      <td>1.207922</td>\n",
       "    </tr>\n",
       "    <tr>\n",
       "      <th>3</th>\n",
       "      <td>2.326736</td>\n",
       "      <td>NaN</td>\n",
       "      <td>-1.323715</td>\n",
       "    </tr>\n",
       "    <tr>\n",
       "      <th>4</th>\n",
       "      <td>-1.435682</td>\n",
       "      <td>0.553289</td>\n",
       "      <td>-1.373132</td>\n",
       "    </tr>\n",
       "    <tr>\n",
       "      <th>5</th>\n",
       "      <td>-0.898213</td>\n",
       "      <td>-0.019709</td>\n",
       "      <td>-0.793063</td>\n",
       "    </tr>\n",
       "    <tr>\n",
       "      <th>6</th>\n",
       "      <td>-0.621505</td>\n",
       "      <td>-0.010287</td>\n",
       "      <td>0.120582</td>\n",
       "    </tr>\n",
       "  </tbody>\n",
       "</table>\n",
       "</div>"
      ],
      "text/plain": [
       "          0         1         2\n",
       "0 -0.180732       NaN       NaN\n",
       "1  0.734855       NaN       NaN\n",
       "2  0.577066       NaN  1.207922\n",
       "3  2.326736       NaN -1.323715\n",
       "4 -1.435682  0.553289 -1.373132\n",
       "5 -0.898213 -0.019709 -0.793063\n",
       "6 -0.621505 -0.010287  0.120582"
      ]
     },
     "execution_count": 81,
     "metadata": {},
     "output_type": "execute_result"
    }
   ],
   "source": [
    "df"
   ]
  },
  {
   "cell_type": "code",
   "execution_count": 82,
   "metadata": {
    "slideshow": {
     "slide_type": "fragment"
    }
   },
   "outputs": [
    {
     "data": {
      "text/html": [
       "<div>\n",
       "<style scoped>\n",
       "    .dataframe tbody tr th:only-of-type {\n",
       "        vertical-align: middle;\n",
       "    }\n",
       "\n",
       "    .dataframe tbody tr th {\n",
       "        vertical-align: top;\n",
       "    }\n",
       "\n",
       "    .dataframe thead th {\n",
       "        text-align: right;\n",
       "    }\n",
       "</style>\n",
       "<table border=\"1\" class=\"dataframe\">\n",
       "  <thead>\n",
       "    <tr style=\"text-align: right;\">\n",
       "      <th></th>\n",
       "      <th>0</th>\n",
       "      <th>1</th>\n",
       "      <th>2</th>\n",
       "    </tr>\n",
       "  </thead>\n",
       "  <tbody>\n",
       "    <tr>\n",
       "      <th>0</th>\n",
       "      <td>-0.180732</td>\n",
       "      <td>0.553289</td>\n",
       "      <td>1.207922</td>\n",
       "    </tr>\n",
       "    <tr>\n",
       "      <th>1</th>\n",
       "      <td>0.734855</td>\n",
       "      <td>0.553289</td>\n",
       "      <td>1.207922</td>\n",
       "    </tr>\n",
       "    <tr>\n",
       "      <th>2</th>\n",
       "      <td>0.577066</td>\n",
       "      <td>0.553289</td>\n",
       "      <td>1.207922</td>\n",
       "    </tr>\n",
       "    <tr>\n",
       "      <th>3</th>\n",
       "      <td>2.326736</td>\n",
       "      <td>0.553289</td>\n",
       "      <td>-1.323715</td>\n",
       "    </tr>\n",
       "    <tr>\n",
       "      <th>4</th>\n",
       "      <td>-1.435682</td>\n",
       "      <td>0.553289</td>\n",
       "      <td>-1.373132</td>\n",
       "    </tr>\n",
       "    <tr>\n",
       "      <th>5</th>\n",
       "      <td>-0.898213</td>\n",
       "      <td>-0.019709</td>\n",
       "      <td>-0.793063</td>\n",
       "    </tr>\n",
       "    <tr>\n",
       "      <th>6</th>\n",
       "      <td>-0.621505</td>\n",
       "      <td>-0.010287</td>\n",
       "      <td>0.120582</td>\n",
       "    </tr>\n",
       "  </tbody>\n",
       "</table>\n",
       "</div>"
      ],
      "text/plain": [
       "          0         1         2\n",
       "0 -0.180732  0.553289  1.207922\n",
       "1  0.734855  0.553289  1.207922\n",
       "2  0.577066  0.553289  1.207922\n",
       "3  2.326736  0.553289 -1.323715\n",
       "4 -1.435682  0.553289 -1.373132\n",
       "5 -0.898213 -0.019709 -0.793063\n",
       "6 -0.621505 -0.010287  0.120582"
      ]
     },
     "execution_count": 82,
     "metadata": {},
     "output_type": "execute_result"
    }
   ],
   "source": [
    "df.fillna(method='bfill')"
   ]
  },
  {
   "cell_type": "code",
   "execution_count": 83,
   "metadata": {
    "slideshow": {
     "slide_type": "slide"
    }
   },
   "outputs": [
    {
     "data": {
      "text/html": [
       "<div>\n",
       "<style scoped>\n",
       "    .dataframe tbody tr th:only-of-type {\n",
       "        vertical-align: middle;\n",
       "    }\n",
       "\n",
       "    .dataframe tbody tr th {\n",
       "        vertical-align: top;\n",
       "    }\n",
       "\n",
       "    .dataframe thead th {\n",
       "        text-align: right;\n",
       "    }\n",
       "</style>\n",
       "<table border=\"1\" class=\"dataframe\">\n",
       "  <thead>\n",
       "    <tr style=\"text-align: right;\">\n",
       "      <th></th>\n",
       "      <th>0</th>\n",
       "      <th>1</th>\n",
       "      <th>2</th>\n",
       "    </tr>\n",
       "  </thead>\n",
       "  <tbody>\n",
       "    <tr>\n",
       "      <th>0</th>\n",
       "      <td>-0.634700</td>\n",
       "      <td>-1.150243</td>\n",
       "      <td>-1.025436</td>\n",
       "    </tr>\n",
       "    <tr>\n",
       "      <th>1</th>\n",
       "      <td>0.276562</td>\n",
       "      <td>-0.270128</td>\n",
       "      <td>-0.091037</td>\n",
       "    </tr>\n",
       "    <tr>\n",
       "      <th>2</th>\n",
       "      <td>-0.424855</td>\n",
       "      <td>NaN</td>\n",
       "      <td>-2.190160</td>\n",
       "    </tr>\n",
       "    <tr>\n",
       "      <th>3</th>\n",
       "      <td>0.330843</td>\n",
       "      <td>NaN</td>\n",
       "      <td>1.450611</td>\n",
       "    </tr>\n",
       "    <tr>\n",
       "      <th>4</th>\n",
       "      <td>0.260557</td>\n",
       "      <td>NaN</td>\n",
       "      <td>NaN</td>\n",
       "    </tr>\n",
       "    <tr>\n",
       "      <th>5</th>\n",
       "      <td>-0.441358</td>\n",
       "      <td>NaN</td>\n",
       "      <td>NaN</td>\n",
       "    </tr>\n",
       "  </tbody>\n",
       "</table>\n",
       "</div>"
      ],
      "text/plain": [
       "          0         1         2\n",
       "0 -0.634700 -1.150243 -1.025436\n",
       "1  0.276562 -0.270128 -0.091037\n",
       "2 -0.424855       NaN -2.190160\n",
       "3  0.330843       NaN  1.450611\n",
       "4  0.260557       NaN       NaN\n",
       "5 -0.441358       NaN       NaN"
      ]
     },
     "execution_count": 83,
     "metadata": {},
     "output_type": "execute_result"
    }
   ],
   "source": [
    "df1 = pd.DataFrame(np.random.randn(6, 3))\n",
    "df1.iloc[2:, 1] = NA\n",
    "df1.iloc[4:, 2] = NA\n",
    "df1"
   ]
  },
  {
   "cell_type": "code",
   "execution_count": 84,
   "metadata": {
    "slideshow": {
     "slide_type": "fragment"
    }
   },
   "outputs": [
    {
     "data": {
      "text/html": [
       "<div>\n",
       "<style scoped>\n",
       "    .dataframe tbody tr th:only-of-type {\n",
       "        vertical-align: middle;\n",
       "    }\n",
       "\n",
       "    .dataframe tbody tr th {\n",
       "        vertical-align: top;\n",
       "    }\n",
       "\n",
       "    .dataframe thead th {\n",
       "        text-align: right;\n",
       "    }\n",
       "</style>\n",
       "<table border=\"1\" class=\"dataframe\">\n",
       "  <thead>\n",
       "    <tr style=\"text-align: right;\">\n",
       "      <th></th>\n",
       "      <th>0</th>\n",
       "      <th>1</th>\n",
       "      <th>2</th>\n",
       "    </tr>\n",
       "  </thead>\n",
       "  <tbody>\n",
       "    <tr>\n",
       "      <th>0</th>\n",
       "      <td>-0.634700</td>\n",
       "      <td>-1.150243</td>\n",
       "      <td>-1.025436</td>\n",
       "    </tr>\n",
       "    <tr>\n",
       "      <th>1</th>\n",
       "      <td>0.276562</td>\n",
       "      <td>-0.270128</td>\n",
       "      <td>-0.091037</td>\n",
       "    </tr>\n",
       "    <tr>\n",
       "      <th>2</th>\n",
       "      <td>-0.424855</td>\n",
       "      <td>-0.270128</td>\n",
       "      <td>-2.190160</td>\n",
       "    </tr>\n",
       "    <tr>\n",
       "      <th>3</th>\n",
       "      <td>0.330843</td>\n",
       "      <td>-0.270128</td>\n",
       "      <td>1.450611</td>\n",
       "    </tr>\n",
       "    <tr>\n",
       "      <th>4</th>\n",
       "      <td>0.260557</td>\n",
       "      <td>-0.270128</td>\n",
       "      <td>1.450611</td>\n",
       "    </tr>\n",
       "    <tr>\n",
       "      <th>5</th>\n",
       "      <td>-0.441358</td>\n",
       "      <td>-0.270128</td>\n",
       "      <td>1.450611</td>\n",
       "    </tr>\n",
       "  </tbody>\n",
       "</table>\n",
       "</div>"
      ],
      "text/plain": [
       "          0         1         2\n",
       "0 -0.634700 -1.150243 -1.025436\n",
       "1  0.276562 -0.270128 -0.091037\n",
       "2 -0.424855 -0.270128 -2.190160\n",
       "3  0.330843 -0.270128  1.450611\n",
       "4  0.260557 -0.270128  1.450611\n",
       "5 -0.441358 -0.270128  1.450611"
      ]
     },
     "execution_count": 84,
     "metadata": {},
     "output_type": "execute_result"
    }
   ],
   "source": [
    "df1.fillna(method='ffill')"
   ]
  },
  {
   "cell_type": "markdown",
   "metadata": {
    "slideshow": {
     "slide_type": "slide"
    }
   },
   "source": [
    "* If method is specified, **limit** is the maximum number of consecutive NaN values to forward/backward fill."
   ]
  },
  {
   "cell_type": "code",
   "execution_count": 85,
   "metadata": {
    "slideshow": {
     "slide_type": "fragment"
    }
   },
   "outputs": [
    {
     "data": {
      "text/html": [
       "<div>\n",
       "<style scoped>\n",
       "    .dataframe tbody tr th:only-of-type {\n",
       "        vertical-align: middle;\n",
       "    }\n",
       "\n",
       "    .dataframe tbody tr th {\n",
       "        vertical-align: top;\n",
       "    }\n",
       "\n",
       "    .dataframe thead th {\n",
       "        text-align: right;\n",
       "    }\n",
       "</style>\n",
       "<table border=\"1\" class=\"dataframe\">\n",
       "  <thead>\n",
       "    <tr style=\"text-align: right;\">\n",
       "      <th></th>\n",
       "      <th>0</th>\n",
       "      <th>1</th>\n",
       "      <th>2</th>\n",
       "    </tr>\n",
       "  </thead>\n",
       "  <tbody>\n",
       "    <tr>\n",
       "      <th>0</th>\n",
       "      <td>-0.634700</td>\n",
       "      <td>-1.150243</td>\n",
       "      <td>-1.025436</td>\n",
       "    </tr>\n",
       "    <tr>\n",
       "      <th>1</th>\n",
       "      <td>0.276562</td>\n",
       "      <td>-0.270128</td>\n",
       "      <td>-0.091037</td>\n",
       "    </tr>\n",
       "    <tr>\n",
       "      <th>2</th>\n",
       "      <td>-0.424855</td>\n",
       "      <td>-0.270128</td>\n",
       "      <td>-2.190160</td>\n",
       "    </tr>\n",
       "    <tr>\n",
       "      <th>3</th>\n",
       "      <td>0.330843</td>\n",
       "      <td>-0.270128</td>\n",
       "      <td>1.450611</td>\n",
       "    </tr>\n",
       "    <tr>\n",
       "      <th>4</th>\n",
       "      <td>0.260557</td>\n",
       "      <td>NaN</td>\n",
       "      <td>1.450611</td>\n",
       "    </tr>\n",
       "    <tr>\n",
       "      <th>5</th>\n",
       "      <td>-0.441358</td>\n",
       "      <td>NaN</td>\n",
       "      <td>1.450611</td>\n",
       "    </tr>\n",
       "  </tbody>\n",
       "</table>\n",
       "</div>"
      ],
      "text/plain": [
       "          0         1         2\n",
       "0 -0.634700 -1.150243 -1.025436\n",
       "1  0.276562 -0.270128 -0.091037\n",
       "2 -0.424855 -0.270128 -2.190160\n",
       "3  0.330843 -0.270128  1.450611\n",
       "4  0.260557       NaN  1.450611\n",
       "5 -0.441358       NaN  1.450611"
      ]
     },
     "execution_count": 85,
     "metadata": {},
     "output_type": "execute_result"
    }
   ],
   "source": [
    "df1.fillna(method='ffill', limit=2)"
   ]
  },
  {
   "cell_type": "markdown",
   "metadata": {
    "slideshow": {
     "slide_type": "slide"
    }
   },
   "source": [
    "* With fillna you can do lots of other things with a little creativity. For example, you might pass the mean or median value of a Series:"
   ]
  },
  {
   "cell_type": "code",
   "execution_count": 86,
   "metadata": {
    "slideshow": {
     "slide_type": "fragment"
    }
   },
   "outputs": [
    {
     "data": {
      "text/plain": [
       "0    1.0\n",
       "1    NaN\n",
       "2    3.5\n",
       "3    NaN\n",
       "4    7.0\n",
       "dtype: float64"
      ]
     },
     "execution_count": 86,
     "metadata": {},
     "output_type": "execute_result"
    }
   ],
   "source": [
    "data = pd.Series([1., NA, 3.5, NA, 7])\n",
    "data"
   ]
  },
  {
   "cell_type": "code",
   "execution_count": 87,
   "metadata": {
    "slideshow": {
     "slide_type": "fragment"
    }
   },
   "outputs": [
    {
     "data": {
      "text/plain": [
       "0    1.000000\n",
       "1    3.833333\n",
       "2    3.500000\n",
       "3    3.833333\n",
       "4    7.000000\n",
       "dtype: float64"
      ]
     },
     "execution_count": 87,
     "metadata": {},
     "output_type": "execute_result"
    }
   ],
   "source": [
    "data.fillna(data.mean())"
   ]
  },
  {
   "cell_type": "markdown",
   "metadata": {
    "slideshow": {
     "slide_type": "slide"
    }
   },
   "source": [
    "### 3.3.2 Data Transformation\n",
    "* Data transformation is the process of converting data from one format or structure into another format or structure\n"
   ]
  },
  {
   "cell_type": "markdown",
   "metadata": {
    "slideshow": {
     "slide_type": "slide"
    }
   },
   "source": [
    "#### 5.2.2.1 Removing Duplicates\n",
    "* Duplicate rows may be found in a DataFrame for any number of reasons"
   ]
  },
  {
   "cell_type": "code",
   "execution_count": 88,
   "metadata": {
    "slideshow": {
     "slide_type": "fragment"
    }
   },
   "outputs": [
    {
     "data": {
      "text/html": [
       "<div>\n",
       "<style scoped>\n",
       "    .dataframe tbody tr th:only-of-type {\n",
       "        vertical-align: middle;\n",
       "    }\n",
       "\n",
       "    .dataframe tbody tr th {\n",
       "        vertical-align: top;\n",
       "    }\n",
       "\n",
       "    .dataframe thead th {\n",
       "        text-align: right;\n",
       "    }\n",
       "</style>\n",
       "<table border=\"1\" class=\"dataframe\">\n",
       "  <thead>\n",
       "    <tr style=\"text-align: right;\">\n",
       "      <th></th>\n",
       "      <th>k1</th>\n",
       "      <th>k2</th>\n",
       "    </tr>\n",
       "  </thead>\n",
       "  <tbody>\n",
       "    <tr>\n",
       "      <th>0</th>\n",
       "      <td>one</td>\n",
       "      <td>1</td>\n",
       "    </tr>\n",
       "    <tr>\n",
       "      <th>1</th>\n",
       "      <td>two</td>\n",
       "      <td>1</td>\n",
       "    </tr>\n",
       "    <tr>\n",
       "      <th>2</th>\n",
       "      <td>one</td>\n",
       "      <td>2</td>\n",
       "    </tr>\n",
       "    <tr>\n",
       "      <th>3</th>\n",
       "      <td>two</td>\n",
       "      <td>3</td>\n",
       "    </tr>\n",
       "    <tr>\n",
       "      <th>4</th>\n",
       "      <td>one</td>\n",
       "      <td>3</td>\n",
       "    </tr>\n",
       "    <tr>\n",
       "      <th>5</th>\n",
       "      <td>two</td>\n",
       "      <td>4</td>\n",
       "    </tr>\n",
       "    <tr>\n",
       "      <th>6</th>\n",
       "      <td>two</td>\n",
       "      <td>4</td>\n",
       "    </tr>\n",
       "  </tbody>\n",
       "</table>\n",
       "</div>"
      ],
      "text/plain": [
       "    k1  k2\n",
       "0  one   1\n",
       "1  two   1\n",
       "2  one   2\n",
       "3  two   3\n",
       "4  one   3\n",
       "5  two   4\n",
       "6  two   4"
      ]
     },
     "execution_count": 88,
     "metadata": {},
     "output_type": "execute_result"
    }
   ],
   "source": [
    "data = pd.DataFrame({'k1': ['one', 'two'] * 3 + ['two'],\n",
    "                     'k2': [1, 1, 2, 3, 3, 4, 4]})\n",
    "data"
   ]
  },
  {
   "cell_type": "markdown",
   "metadata": {
    "slideshow": {
     "slide_type": "slide"
    }
   },
   "source": [
    "* The DataFrame method **duplicated** returns a boolean Series indicating whether each row is a duplicate (has been observed in a previous row) or not"
   ]
  },
  {
   "cell_type": "code",
   "execution_count": 89,
   "metadata": {
    "scrolled": true,
    "slideshow": {
     "slide_type": "fragment"
    }
   },
   "outputs": [
    {
     "data": {
      "text/plain": [
       "0    False\n",
       "1    False\n",
       "2    False\n",
       "3    False\n",
       "4    False\n",
       "5    False\n",
       "6     True\n",
       "dtype: bool"
      ]
     },
     "execution_count": 89,
     "metadata": {},
     "output_type": "execute_result"
    }
   ],
   "source": [
    "data.duplicated()"
   ]
  },
  {
   "cell_type": "markdown",
   "metadata": {
    "slideshow": {
     "slide_type": "slide"
    }
   },
   "source": [
    "* Relatedly, **drop_duplicates** returns a DataFrame where the duplicated array is False"
   ]
  },
  {
   "cell_type": "code",
   "execution_count": 90,
   "metadata": {
    "slideshow": {
     "slide_type": "fragment"
    }
   },
   "outputs": [
    {
     "data": {
      "text/html": [
       "<div>\n",
       "<style scoped>\n",
       "    .dataframe tbody tr th:only-of-type {\n",
       "        vertical-align: middle;\n",
       "    }\n",
       "\n",
       "    .dataframe tbody tr th {\n",
       "        vertical-align: top;\n",
       "    }\n",
       "\n",
       "    .dataframe thead th {\n",
       "        text-align: right;\n",
       "    }\n",
       "</style>\n",
       "<table border=\"1\" class=\"dataframe\">\n",
       "  <thead>\n",
       "    <tr style=\"text-align: right;\">\n",
       "      <th></th>\n",
       "      <th>k1</th>\n",
       "      <th>k2</th>\n",
       "    </tr>\n",
       "  </thead>\n",
       "  <tbody>\n",
       "    <tr>\n",
       "      <th>0</th>\n",
       "      <td>one</td>\n",
       "      <td>1</td>\n",
       "    </tr>\n",
       "    <tr>\n",
       "      <th>1</th>\n",
       "      <td>two</td>\n",
       "      <td>1</td>\n",
       "    </tr>\n",
       "    <tr>\n",
       "      <th>2</th>\n",
       "      <td>one</td>\n",
       "      <td>2</td>\n",
       "    </tr>\n",
       "    <tr>\n",
       "      <th>3</th>\n",
       "      <td>two</td>\n",
       "      <td>3</td>\n",
       "    </tr>\n",
       "    <tr>\n",
       "      <th>4</th>\n",
       "      <td>one</td>\n",
       "      <td>3</td>\n",
       "    </tr>\n",
       "    <tr>\n",
       "      <th>5</th>\n",
       "      <td>two</td>\n",
       "      <td>4</td>\n",
       "    </tr>\n",
       "  </tbody>\n",
       "</table>\n",
       "</div>"
      ],
      "text/plain": [
       "    k1  k2\n",
       "0  one   1\n",
       "1  two   1\n",
       "2  one   2\n",
       "3  two   3\n",
       "4  one   3\n",
       "5  two   4"
      ]
     },
     "execution_count": 90,
     "metadata": {},
     "output_type": "execute_result"
    }
   ],
   "source": [
    "data.drop_duplicates()"
   ]
  },
  {
   "cell_type": "markdown",
   "metadata": {
    "slideshow": {
     "slide_type": "slide"
    }
   },
   "source": [
    "* Both of these methods by default consider all of the columns; alternatively, you can specify any subset of them to detect duplicates. Suppose we had an additional column of values and wanted to filter duplicates only based on the 'k1' column"
   ]
  },
  {
   "cell_type": "code",
   "execution_count": 94,
   "metadata": {
    "slideshow": {
     "slide_type": "fragment"
    }
   },
   "outputs": [
    {
     "data": {
      "text/html": [
       "<div>\n",
       "<style scoped>\n",
       "    .dataframe tbody tr th:only-of-type {\n",
       "        vertical-align: middle;\n",
       "    }\n",
       "\n",
       "    .dataframe tbody tr th {\n",
       "        vertical-align: top;\n",
       "    }\n",
       "\n",
       "    .dataframe thead th {\n",
       "        text-align: right;\n",
       "    }\n",
       "</style>\n",
       "<table border=\"1\" class=\"dataframe\">\n",
       "  <thead>\n",
       "    <tr style=\"text-align: right;\">\n",
       "      <th></th>\n",
       "      <th>k1</th>\n",
       "      <th>k2</th>\n",
       "      <th>v1</th>\n",
       "    </tr>\n",
       "  </thead>\n",
       "  <tbody>\n",
       "    <tr>\n",
       "      <th>0</th>\n",
       "      <td>one</td>\n",
       "      <td>1</td>\n",
       "      <td>0</td>\n",
       "    </tr>\n",
       "    <tr>\n",
       "      <th>1</th>\n",
       "      <td>two</td>\n",
       "      <td>1</td>\n",
       "      <td>1</td>\n",
       "    </tr>\n",
       "    <tr>\n",
       "      <th>2</th>\n",
       "      <td>one</td>\n",
       "      <td>2</td>\n",
       "      <td>2</td>\n",
       "    </tr>\n",
       "    <tr>\n",
       "      <th>3</th>\n",
       "      <td>two</td>\n",
       "      <td>3</td>\n",
       "      <td>3</td>\n",
       "    </tr>\n",
       "    <tr>\n",
       "      <th>4</th>\n",
       "      <td>one</td>\n",
       "      <td>3</td>\n",
       "      <td>4</td>\n",
       "    </tr>\n",
       "    <tr>\n",
       "      <th>5</th>\n",
       "      <td>two</td>\n",
       "      <td>4</td>\n",
       "      <td>5</td>\n",
       "    </tr>\n",
       "    <tr>\n",
       "      <th>6</th>\n",
       "      <td>two</td>\n",
       "      <td>4</td>\n",
       "      <td>6</td>\n",
       "    </tr>\n",
       "  </tbody>\n",
       "</table>\n",
       "</div>"
      ],
      "text/plain": [
       "    k1  k2  v1\n",
       "0  one   1   0\n",
       "1  two   1   1\n",
       "2  one   2   2\n",
       "3  two   3   3\n",
       "4  one   3   4\n",
       "5  two   4   5\n",
       "6  two   4   6"
      ]
     },
     "execution_count": 94,
     "metadata": {},
     "output_type": "execute_result"
    }
   ],
   "source": [
    "data['v1'] = range(7)\n",
    "data"
   ]
  },
  {
   "cell_type": "code",
   "execution_count": 92,
   "metadata": {
    "slideshow": {
     "slide_type": "fragment"
    }
   },
   "outputs": [
    {
     "data": {
      "text/html": [
       "<div>\n",
       "<style scoped>\n",
       "    .dataframe tbody tr th:only-of-type {\n",
       "        vertical-align: middle;\n",
       "    }\n",
       "\n",
       "    .dataframe tbody tr th {\n",
       "        vertical-align: top;\n",
       "    }\n",
       "\n",
       "    .dataframe thead th {\n",
       "        text-align: right;\n",
       "    }\n",
       "</style>\n",
       "<table border=\"1\" class=\"dataframe\">\n",
       "  <thead>\n",
       "    <tr style=\"text-align: right;\">\n",
       "      <th></th>\n",
       "      <th>k1</th>\n",
       "      <th>k2</th>\n",
       "      <th>v1</th>\n",
       "    </tr>\n",
       "  </thead>\n",
       "  <tbody>\n",
       "    <tr>\n",
       "      <th>0</th>\n",
       "      <td>one</td>\n",
       "      <td>1</td>\n",
       "      <td>0</td>\n",
       "    </tr>\n",
       "    <tr>\n",
       "      <th>1</th>\n",
       "      <td>two</td>\n",
       "      <td>1</td>\n",
       "      <td>1</td>\n",
       "    </tr>\n",
       "  </tbody>\n",
       "</table>\n",
       "</div>"
      ],
      "text/plain": [
       "    k1  k2  v1\n",
       "0  one   1   0\n",
       "1  two   1   1"
      ]
     },
     "execution_count": 92,
     "metadata": {},
     "output_type": "execute_result"
    }
   ],
   "source": [
    "data.drop_duplicates(['k1'])"
   ]
  },
  {
   "cell_type": "markdown",
   "metadata": {
    "slideshow": {
     "slide_type": "slide"
    }
   },
   "source": [
    "* **duplicated** and **drop_duplicates** by default keep the first observed value combination. Passing **keep='last'** will return the last one"
   ]
  },
  {
   "cell_type": "code",
   "execution_count": 97,
   "metadata": {
    "slideshow": {
     "slide_type": "fragment"
    }
   },
   "outputs": [
    {
     "data": {
      "text/html": [
       "<div>\n",
       "<style scoped>\n",
       "    .dataframe tbody tr th:only-of-type {\n",
       "        vertical-align: middle;\n",
       "    }\n",
       "\n",
       "    .dataframe tbody tr th {\n",
       "        vertical-align: top;\n",
       "    }\n",
       "\n",
       "    .dataframe thead th {\n",
       "        text-align: right;\n",
       "    }\n",
       "</style>\n",
       "<table border=\"1\" class=\"dataframe\">\n",
       "  <thead>\n",
       "    <tr style=\"text-align: right;\">\n",
       "      <th></th>\n",
       "      <th>k1</th>\n",
       "      <th>k2</th>\n",
       "      <th>v1</th>\n",
       "    </tr>\n",
       "  </thead>\n",
       "  <tbody>\n",
       "    <tr>\n",
       "      <th>0</th>\n",
       "      <td>one</td>\n",
       "      <td>1</td>\n",
       "      <td>0</td>\n",
       "    </tr>\n",
       "    <tr>\n",
       "      <th>1</th>\n",
       "      <td>two</td>\n",
       "      <td>1</td>\n",
       "      <td>1</td>\n",
       "    </tr>\n",
       "    <tr>\n",
       "      <th>2</th>\n",
       "      <td>one</td>\n",
       "      <td>2</td>\n",
       "      <td>2</td>\n",
       "    </tr>\n",
       "    <tr>\n",
       "      <th>3</th>\n",
       "      <td>two</td>\n",
       "      <td>3</td>\n",
       "      <td>3</td>\n",
       "    </tr>\n",
       "    <tr>\n",
       "      <th>4</th>\n",
       "      <td>one</td>\n",
       "      <td>3</td>\n",
       "      <td>4</td>\n",
       "    </tr>\n",
       "    <tr>\n",
       "      <th>5</th>\n",
       "      <td>two</td>\n",
       "      <td>4</td>\n",
       "      <td>5</td>\n",
       "    </tr>\n",
       "  </tbody>\n",
       "</table>\n",
       "</div>"
      ],
      "text/plain": [
       "    k1  k2  v1\n",
       "0  one   1   0\n",
       "1  two   1   1\n",
       "2  one   2   2\n",
       "3  two   3   3\n",
       "4  one   3   4\n",
       "5  two   4   5"
      ]
     },
     "execution_count": 97,
     "metadata": {},
     "output_type": "execute_result"
    }
   ],
   "source": [
    "data.drop_duplicates(['k1', 'k2'])"
   ]
  },
  {
   "cell_type": "code",
   "execution_count": 98,
   "metadata": {
    "slideshow": {
     "slide_type": "fragment"
    }
   },
   "outputs": [
    {
     "data": {
      "text/html": [
       "<div>\n",
       "<style scoped>\n",
       "    .dataframe tbody tr th:only-of-type {\n",
       "        vertical-align: middle;\n",
       "    }\n",
       "\n",
       "    .dataframe tbody tr th {\n",
       "        vertical-align: top;\n",
       "    }\n",
       "\n",
       "    .dataframe thead th {\n",
       "        text-align: right;\n",
       "    }\n",
       "</style>\n",
       "<table border=\"1\" class=\"dataframe\">\n",
       "  <thead>\n",
       "    <tr style=\"text-align: right;\">\n",
       "      <th></th>\n",
       "      <th>k1</th>\n",
       "      <th>k2</th>\n",
       "      <th>v1</th>\n",
       "    </tr>\n",
       "  </thead>\n",
       "  <tbody>\n",
       "    <tr>\n",
       "      <th>0</th>\n",
       "      <td>one</td>\n",
       "      <td>1</td>\n",
       "      <td>0</td>\n",
       "    </tr>\n",
       "    <tr>\n",
       "      <th>1</th>\n",
       "      <td>two</td>\n",
       "      <td>1</td>\n",
       "      <td>1</td>\n",
       "    </tr>\n",
       "    <tr>\n",
       "      <th>2</th>\n",
       "      <td>one</td>\n",
       "      <td>2</td>\n",
       "      <td>2</td>\n",
       "    </tr>\n",
       "    <tr>\n",
       "      <th>3</th>\n",
       "      <td>two</td>\n",
       "      <td>3</td>\n",
       "      <td>3</td>\n",
       "    </tr>\n",
       "    <tr>\n",
       "      <th>4</th>\n",
       "      <td>one</td>\n",
       "      <td>3</td>\n",
       "      <td>4</td>\n",
       "    </tr>\n",
       "    <tr>\n",
       "      <th>6</th>\n",
       "      <td>two</td>\n",
       "      <td>4</td>\n",
       "      <td>6</td>\n",
       "    </tr>\n",
       "  </tbody>\n",
       "</table>\n",
       "</div>"
      ],
      "text/plain": [
       "    k1  k2  v1\n",
       "0  one   1   0\n",
       "1  two   1   1\n",
       "2  one   2   2\n",
       "3  two   3   3\n",
       "4  one   3   4\n",
       "6  two   4   6"
      ]
     },
     "execution_count": 98,
     "metadata": {},
     "output_type": "execute_result"
    }
   ],
   "source": [
    "data.drop_duplicates(['k1', 'k2'], keep='last')"
   ]
  },
  {
   "cell_type": "markdown",
   "metadata": {
    "slideshow": {
     "slide_type": "slide"
    }
   },
   "source": [
    "#### 3.3.2.2 Replacing Values\n",
    "* Filling in missing data with the **fillna** method is a special case of more general value replacement. \n",
    "* **replace** provides a simpler and more flexible way to modify a subset of values in an object."
   ]
  },
  {
   "cell_type": "code",
   "execution_count": 99,
   "metadata": {
    "slideshow": {
     "slide_type": "slide"
    }
   },
   "outputs": [
    {
     "data": {
      "text/plain": [
       "0       1.0\n",
       "1    -999.0\n",
       "2       2.0\n",
       "3    -999.0\n",
       "4   -1000.0\n",
       "5       3.0\n",
       "dtype: float64"
      ]
     },
     "execution_count": 99,
     "metadata": {},
     "output_type": "execute_result"
    }
   ],
   "source": [
    "data = pd.Series([1., -999., 2., -999., -1000., 3.])\n",
    "data"
   ]
  },
  {
   "cell_type": "markdown",
   "metadata": {
    "slideshow": {
     "slide_type": "fragment"
    }
   },
   "source": [
    "* The -999 values might be sentinel values for missing data. To replace these with NA values that pandas understands, we can use replace, producing a new Series."
   ]
  },
  {
   "cell_type": "code",
   "execution_count": 100,
   "metadata": {
    "slideshow": {
     "slide_type": "fragment"
    }
   },
   "outputs": [
    {
     "data": {
      "text/plain": [
       "0       1.0\n",
       "1       NaN\n",
       "2       2.0\n",
       "3       NaN\n",
       "4   -1000.0\n",
       "5       3.0\n",
       "dtype: float64"
      ]
     },
     "execution_count": 100,
     "metadata": {},
     "output_type": "execute_result"
    }
   ],
   "source": [
    "data.replace(-999, np.nan)"
   ]
  },
  {
   "cell_type": "code",
   "execution_count": 101,
   "metadata": {
    "slideshow": {
     "slide_type": "slide"
    }
   },
   "outputs": [
    {
     "data": {
      "text/plain": [
       "0    1.0\n",
       "1    NaN\n",
       "2    2.0\n",
       "3    NaN\n",
       "4    NaN\n",
       "5    3.0\n",
       "dtype: float64"
      ]
     },
     "execution_count": 101,
     "metadata": {},
     "output_type": "execute_result"
    }
   ],
   "source": [
    "# If you want to replace multiple values at once, you instead pass a list and then the substitute value:\n",
    "data.replace([-999, -1000], np.nan)"
   ]
  },
  {
   "cell_type": "code",
   "execution_count": 102,
   "metadata": {
    "slideshow": {
     "slide_type": "fragment"
    }
   },
   "outputs": [
    {
     "data": {
      "text/plain": [
       "0    1.0\n",
       "1    NaN\n",
       "2    2.0\n",
       "3    NaN\n",
       "4    0.0\n",
       "5    3.0\n",
       "dtype: float64"
      ]
     },
     "execution_count": 102,
     "metadata": {},
     "output_type": "execute_result"
    }
   ],
   "source": [
    "# The argument passed can also be a dict:\n",
    "data.replace({-999: np.nan, -1000: 0})"
   ]
  },
  {
   "cell_type": "markdown",
   "metadata": {
    "slideshow": {
     "slide_type": "slide"
    }
   },
   "source": [
    "#### 3.3.2.3 Renaming Axis Indexes\n",
    "* **rename** is used to transform version of a dataset without modifying the original"
   ]
  },
  {
   "cell_type": "code",
   "execution_count": 103,
   "metadata": {
    "slideshow": {
     "slide_type": "fragment"
    }
   },
   "outputs": [
    {
     "data": {
      "text/html": [
       "<div>\n",
       "<style scoped>\n",
       "    .dataframe tbody tr th:only-of-type {\n",
       "        vertical-align: middle;\n",
       "    }\n",
       "\n",
       "    .dataframe tbody tr th {\n",
       "        vertical-align: top;\n",
       "    }\n",
       "\n",
       "    .dataframe thead th {\n",
       "        text-align: right;\n",
       "    }\n",
       "</style>\n",
       "<table border=\"1\" class=\"dataframe\">\n",
       "  <thead>\n",
       "    <tr style=\"text-align: right;\">\n",
       "      <th></th>\n",
       "      <th>one</th>\n",
       "      <th>two</th>\n",
       "      <th>three</th>\n",
       "      <th>four</th>\n",
       "    </tr>\n",
       "  </thead>\n",
       "  <tbody>\n",
       "    <tr>\n",
       "      <th>ohio</th>\n",
       "      <td>0</td>\n",
       "      <td>1</td>\n",
       "      <td>2</td>\n",
       "      <td>3</td>\n",
       "    </tr>\n",
       "    <tr>\n",
       "      <th>colorado</th>\n",
       "      <td>4</td>\n",
       "      <td>5</td>\n",
       "      <td>6</td>\n",
       "      <td>7</td>\n",
       "    </tr>\n",
       "    <tr>\n",
       "      <th>new york</th>\n",
       "      <td>8</td>\n",
       "      <td>9</td>\n",
       "      <td>10</td>\n",
       "      <td>11</td>\n",
       "    </tr>\n",
       "  </tbody>\n",
       "</table>\n",
       "</div>"
      ],
      "text/plain": [
       "          one  two  three  four\n",
       "ohio        0    1      2     3\n",
       "colorado    4    5      6     7\n",
       "new york    8    9     10    11"
      ]
     },
     "execution_count": 103,
     "metadata": {},
     "output_type": "execute_result"
    }
   ],
   "source": [
    "data = pd.DataFrame(np.arange(12).reshape((3, 4)),\n",
    "                    index=['ohio', 'colorado', 'new york'],\n",
    "                    columns=['one', 'two', 'three', 'four'])\n",
    "data"
   ]
  },
  {
   "cell_type": "code",
   "execution_count": 104,
   "metadata": {
    "slideshow": {
     "slide_type": "fragment"
    }
   },
   "outputs": [
    {
     "data": {
      "text/html": [
       "<div>\n",
       "<style scoped>\n",
       "    .dataframe tbody tr th:only-of-type {\n",
       "        vertical-align: middle;\n",
       "    }\n",
       "\n",
       "    .dataframe tbody tr th {\n",
       "        vertical-align: top;\n",
       "    }\n",
       "\n",
       "    .dataframe thead th {\n",
       "        text-align: right;\n",
       "    }\n",
       "</style>\n",
       "<table border=\"1\" class=\"dataframe\">\n",
       "  <thead>\n",
       "    <tr style=\"text-align: right;\">\n",
       "      <th></th>\n",
       "      <th>ONE</th>\n",
       "      <th>TWO</th>\n",
       "      <th>THREE</th>\n",
       "      <th>FOUR</th>\n",
       "    </tr>\n",
       "  </thead>\n",
       "  <tbody>\n",
       "    <tr>\n",
       "      <th>Ohio</th>\n",
       "      <td>0</td>\n",
       "      <td>1</td>\n",
       "      <td>2</td>\n",
       "      <td>3</td>\n",
       "    </tr>\n",
       "    <tr>\n",
       "      <th>Colorado</th>\n",
       "      <td>4</td>\n",
       "      <td>5</td>\n",
       "      <td>6</td>\n",
       "      <td>7</td>\n",
       "    </tr>\n",
       "    <tr>\n",
       "      <th>New York</th>\n",
       "      <td>8</td>\n",
       "      <td>9</td>\n",
       "      <td>10</td>\n",
       "      <td>11</td>\n",
       "    </tr>\n",
       "  </tbody>\n",
       "</table>\n",
       "</div>"
      ],
      "text/plain": [
       "          ONE  TWO  THREE  FOUR\n",
       "Ohio        0    1      2     3\n",
       "Colorado    4    5      6     7\n",
       "New York    8    9     10    11"
      ]
     },
     "execution_count": 104,
     "metadata": {},
     "output_type": "execute_result"
    }
   ],
   "source": [
    "data.rename(index=str.title, columns=str.upper)"
   ]
  },
  {
   "cell_type": "markdown",
   "metadata": {
    "slideshow": {
     "slide_type": "slide"
    }
   },
   "source": [
    "* Notably, rename can be used in conjunction with a dict-like object providing new values for a subset of the axis labels"
   ]
  },
  {
   "cell_type": "code",
   "execution_count": null,
   "metadata": {
    "slideshow": {
     "slide_type": "fragment"
    }
   },
   "outputs": [],
   "source": [
    "data"
   ]
  },
  {
   "cell_type": "code",
   "execution_count": 105,
   "metadata": {
    "slideshow": {
     "slide_type": "fragment"
    }
   },
   "outputs": [
    {
     "data": {
      "text/html": [
       "<div>\n",
       "<style scoped>\n",
       "    .dataframe tbody tr th:only-of-type {\n",
       "        vertical-align: middle;\n",
       "    }\n",
       "\n",
       "    .dataframe tbody tr th {\n",
       "        vertical-align: top;\n",
       "    }\n",
       "\n",
       "    .dataframe thead th {\n",
       "        text-align: right;\n",
       "    }\n",
       "</style>\n",
       "<table border=\"1\" class=\"dataframe\">\n",
       "  <thead>\n",
       "    <tr style=\"text-align: right;\">\n",
       "      <th></th>\n",
       "      <th>one</th>\n",
       "      <th>two</th>\n",
       "      <th>peekaboo</th>\n",
       "      <th>four</th>\n",
       "    </tr>\n",
       "  </thead>\n",
       "  <tbody>\n",
       "    <tr>\n",
       "      <th>INDIANA</th>\n",
       "      <td>0</td>\n",
       "      <td>1</td>\n",
       "      <td>2</td>\n",
       "      <td>3</td>\n",
       "    </tr>\n",
       "    <tr>\n",
       "      <th>colorado</th>\n",
       "      <td>4</td>\n",
       "      <td>5</td>\n",
       "      <td>6</td>\n",
       "      <td>7</td>\n",
       "    </tr>\n",
       "    <tr>\n",
       "      <th>new york</th>\n",
       "      <td>8</td>\n",
       "      <td>9</td>\n",
       "      <td>10</td>\n",
       "      <td>11</td>\n",
       "    </tr>\n",
       "  </tbody>\n",
       "</table>\n",
       "</div>"
      ],
      "text/plain": [
       "          one  two  peekaboo  four\n",
       "INDIANA     0    1         2     3\n",
       "colorado    4    5         6     7\n",
       "new york    8    9        10    11"
      ]
     },
     "execution_count": 105,
     "metadata": {},
     "output_type": "execute_result"
    }
   ],
   "source": [
    "data.rename(index={'ohio': 'INDIANA'},\n",
    "            columns={'three': 'peekaboo'})"
   ]
  },
  {
   "cell_type": "markdown",
   "metadata": {
    "slideshow": {
     "slide_type": "slide"
    }
   },
   "source": [
    "* **rename** saves you from the chore of copying the DataFrame manually and assigning to its index and columns attributes.\n",
    "* Should you wish to modify a dataset in-place, pass **inplace=True**"
   ]
  },
  {
   "cell_type": "code",
   "execution_count": 107,
   "metadata": {
    "slideshow": {
     "slide_type": "fragment"
    }
   },
   "outputs": [
    {
     "data": {
      "text/html": [
       "<div>\n",
       "<style scoped>\n",
       "    .dataframe tbody tr th:only-of-type {\n",
       "        vertical-align: middle;\n",
       "    }\n",
       "\n",
       "    .dataframe tbody tr th {\n",
       "        vertical-align: top;\n",
       "    }\n",
       "\n",
       "    .dataframe thead th {\n",
       "        text-align: right;\n",
       "    }\n",
       "</style>\n",
       "<table border=\"1\" class=\"dataframe\">\n",
       "  <thead>\n",
       "    <tr style=\"text-align: right;\">\n",
       "      <th></th>\n",
       "      <th>one</th>\n",
       "      <th>two</th>\n",
       "      <th>three</th>\n",
       "      <th>four</th>\n",
       "    </tr>\n",
       "  </thead>\n",
       "  <tbody>\n",
       "    <tr>\n",
       "      <th>INDIANA</th>\n",
       "      <td>0</td>\n",
       "      <td>1</td>\n",
       "      <td>2</td>\n",
       "      <td>3</td>\n",
       "    </tr>\n",
       "    <tr>\n",
       "      <th>colorado</th>\n",
       "      <td>4</td>\n",
       "      <td>5</td>\n",
       "      <td>6</td>\n",
       "      <td>7</td>\n",
       "    </tr>\n",
       "    <tr>\n",
       "      <th>new york</th>\n",
       "      <td>8</td>\n",
       "      <td>9</td>\n",
       "      <td>10</td>\n",
       "      <td>11</td>\n",
       "    </tr>\n",
       "  </tbody>\n",
       "</table>\n",
       "</div>"
      ],
      "text/plain": [
       "          one  two  three  four\n",
       "INDIANA     0    1      2     3\n",
       "colorado    4    5      6     7\n",
       "new york    8    9     10    11"
      ]
     },
     "execution_count": 107,
     "metadata": {},
     "output_type": "execute_result"
    }
   ],
   "source": [
    "data.rename(index={'ohio': 'INDIANA'}, inplace = True)\n",
    "data"
   ]
  },
  {
   "cell_type": "markdown",
   "metadata": {
    "slideshow": {
     "slide_type": "slide"
    }
   },
   "source": [
    "#### 3.3.2.4 Detecting and Filtering Outliers\n",
    "* Filtering or transforming outliers is largely a matter of applying array operations"
   ]
  },
  {
   "cell_type": "code",
   "execution_count": 108,
   "metadata": {
    "slideshow": {
     "slide_type": "fragment"
    }
   },
   "outputs": [
    {
     "data": {
      "text/html": [
       "<div>\n",
       "<style scoped>\n",
       "    .dataframe tbody tr th:only-of-type {\n",
       "        vertical-align: middle;\n",
       "    }\n",
       "\n",
       "    .dataframe tbody tr th {\n",
       "        vertical-align: top;\n",
       "    }\n",
       "\n",
       "    .dataframe thead th {\n",
       "        text-align: right;\n",
       "    }\n",
       "</style>\n",
       "<table border=\"1\" class=\"dataframe\">\n",
       "  <thead>\n",
       "    <tr style=\"text-align: right;\">\n",
       "      <th></th>\n",
       "      <th>0</th>\n",
       "      <th>1</th>\n",
       "      <th>2</th>\n",
       "      <th>3</th>\n",
       "    </tr>\n",
       "  </thead>\n",
       "  <tbody>\n",
       "    <tr>\n",
       "      <th>count</th>\n",
       "      <td>1000.000000</td>\n",
       "      <td>1000.000000</td>\n",
       "      <td>1000.000000</td>\n",
       "      <td>1000.000000</td>\n",
       "    </tr>\n",
       "    <tr>\n",
       "      <th>mean</th>\n",
       "      <td>-0.026450</td>\n",
       "      <td>0.052150</td>\n",
       "      <td>0.000596</td>\n",
       "      <td>0.022966</td>\n",
       "    </tr>\n",
       "    <tr>\n",
       "      <th>std</th>\n",
       "      <td>1.019502</td>\n",
       "      <td>1.010450</td>\n",
       "      <td>1.022874</td>\n",
       "      <td>0.999669</td>\n",
       "    </tr>\n",
       "    <tr>\n",
       "      <th>min</th>\n",
       "      <td>-3.192192</td>\n",
       "      <td>-4.450770</td>\n",
       "      <td>-3.044621</td>\n",
       "      <td>-3.221797</td>\n",
       "    </tr>\n",
       "    <tr>\n",
       "      <th>25%</th>\n",
       "      <td>-0.724873</td>\n",
       "      <td>-0.582383</td>\n",
       "      <td>-0.726929</td>\n",
       "      <td>-0.593285</td>\n",
       "    </tr>\n",
       "    <tr>\n",
       "      <th>50%</th>\n",
       "      <td>-0.029692</td>\n",
       "      <td>0.083885</td>\n",
       "      <td>-0.028235</td>\n",
       "      <td>0.045375</td>\n",
       "    </tr>\n",
       "    <tr>\n",
       "      <th>75%</th>\n",
       "      <td>0.628445</td>\n",
       "      <td>0.742350</td>\n",
       "      <td>0.679740</td>\n",
       "      <td>0.669338</td>\n",
       "    </tr>\n",
       "    <tr>\n",
       "      <th>max</th>\n",
       "      <td>3.608734</td>\n",
       "      <td>3.784093</td>\n",
       "      <td>3.234864</td>\n",
       "      <td>2.995781</td>\n",
       "    </tr>\n",
       "  </tbody>\n",
       "</table>\n",
       "</div>"
      ],
      "text/plain": [
       "                 0            1            2            3\n",
       "count  1000.000000  1000.000000  1000.000000  1000.000000\n",
       "mean     -0.026450     0.052150     0.000596     0.022966\n",
       "std       1.019502     1.010450     1.022874     0.999669\n",
       "min      -3.192192    -4.450770    -3.044621    -3.221797\n",
       "25%      -0.724873    -0.582383    -0.726929    -0.593285\n",
       "50%      -0.029692     0.083885    -0.028235     0.045375\n",
       "75%       0.628445     0.742350     0.679740     0.669338\n",
       "max       3.608734     3.784093     3.234864     2.995781"
      ]
     },
     "execution_count": 108,
     "metadata": {},
     "output_type": "execute_result"
    }
   ],
   "source": [
    "data = pd.DataFrame(np.random.randn(1000, 4))\n",
    "data.describe()"
   ]
  },
  {
   "cell_type": "markdown",
   "metadata": {
    "slideshow": {
     "slide_type": "slide"
    }
   },
   "source": [
    "* To select all rows having a value exceeding 3 or –3, you can use the **any** method on a boolean DataFrame"
   ]
  },
  {
   "cell_type": "code",
   "execution_count": 109,
   "metadata": {
    "slideshow": {
     "slide_type": "fragment"
    }
   },
   "outputs": [
    {
     "data": {
      "text/html": [
       "<div>\n",
       "<style scoped>\n",
       "    .dataframe tbody tr th:only-of-type {\n",
       "        vertical-align: middle;\n",
       "    }\n",
       "\n",
       "    .dataframe tbody tr th {\n",
       "        vertical-align: top;\n",
       "    }\n",
       "\n",
       "    .dataframe thead th {\n",
       "        text-align: right;\n",
       "    }\n",
       "</style>\n",
       "<table border=\"1\" class=\"dataframe\">\n",
       "  <thead>\n",
       "    <tr style=\"text-align: right;\">\n",
       "      <th></th>\n",
       "      <th>0</th>\n",
       "      <th>1</th>\n",
       "      <th>2</th>\n",
       "      <th>3</th>\n",
       "    </tr>\n",
       "  </thead>\n",
       "  <tbody>\n",
       "    <tr>\n",
       "      <th>93</th>\n",
       "      <td>0.519786</td>\n",
       "      <td>-1.505931</td>\n",
       "      <td>3.103502</td>\n",
       "      <td>-0.362725</td>\n",
       "    </tr>\n",
       "    <tr>\n",
       "      <th>101</th>\n",
       "      <td>0.418473</td>\n",
       "      <td>3.039404</td>\n",
       "      <td>1.248552</td>\n",
       "      <td>0.951352</td>\n",
       "    </tr>\n",
       "    <tr>\n",
       "      <th>152</th>\n",
       "      <td>3.018431</td>\n",
       "      <td>-0.315091</td>\n",
       "      <td>1.319114</td>\n",
       "      <td>-0.203977</td>\n",
       "    </tr>\n",
       "    <tr>\n",
       "      <th>259</th>\n",
       "      <td>1.118767</td>\n",
       "      <td>-0.272241</td>\n",
       "      <td>0.714296</td>\n",
       "      <td>-3.221797</td>\n",
       "    </tr>\n",
       "    <tr>\n",
       "      <th>286</th>\n",
       "      <td>3.164643</td>\n",
       "      <td>0.741178</td>\n",
       "      <td>0.265747</td>\n",
       "      <td>0.459884</td>\n",
       "    </tr>\n",
       "    <tr>\n",
       "      <th>...</th>\n",
       "      <td>...</td>\n",
       "      <td>...</td>\n",
       "      <td>...</td>\n",
       "      <td>...</td>\n",
       "    </tr>\n",
       "    <tr>\n",
       "      <th>774</th>\n",
       "      <td>3.608734</td>\n",
       "      <td>0.486423</td>\n",
       "      <td>1.811490</td>\n",
       "      <td>-0.460052</td>\n",
       "    </tr>\n",
       "    <tr>\n",
       "      <th>865</th>\n",
       "      <td>1.016888</td>\n",
       "      <td>0.895883</td>\n",
       "      <td>1.244125</td>\n",
       "      <td>-3.063847</td>\n",
       "    </tr>\n",
       "    <tr>\n",
       "      <th>878</th>\n",
       "      <td>-0.520579</td>\n",
       "      <td>0.487072</td>\n",
       "      <td>1.086747</td>\n",
       "      <td>-3.134023</td>\n",
       "    </tr>\n",
       "    <tr>\n",
       "      <th>908</th>\n",
       "      <td>-1.048740</td>\n",
       "      <td>-1.216640</td>\n",
       "      <td>3.075043</td>\n",
       "      <td>-0.562078</td>\n",
       "    </tr>\n",
       "    <tr>\n",
       "      <th>973</th>\n",
       "      <td>-0.552854</td>\n",
       "      <td>-3.619563</td>\n",
       "      <td>1.191868</td>\n",
       "      <td>1.010588</td>\n",
       "    </tr>\n",
       "  </tbody>\n",
       "</table>\n",
       "<p>18 rows × 4 columns</p>\n",
       "</div>"
      ],
      "text/plain": [
       "            0         1         2         3\n",
       "93   0.519786 -1.505931  3.103502 -0.362725\n",
       "101  0.418473  3.039404  1.248552  0.951352\n",
       "152  3.018431 -0.315091  1.319114 -0.203977\n",
       "259  1.118767 -0.272241  0.714296 -3.221797\n",
       "286  3.164643  0.741178  0.265747  0.459884\n",
       "..        ...       ...       ...       ...\n",
       "774  3.608734  0.486423  1.811490 -0.460052\n",
       "865  1.016888  0.895883  1.244125 -3.063847\n",
       "878 -0.520579  0.487072  1.086747 -3.134023\n",
       "908 -1.048740 -1.216640  3.075043 -0.562078\n",
       "973 -0.552854 -3.619563  1.191868  1.010588\n",
       "\n",
       "[18 rows x 4 columns]"
      ]
     },
     "execution_count": 109,
     "metadata": {},
     "output_type": "execute_result"
    }
   ],
   "source": [
    "data[(np.abs(data) > 3).any(1)]"
   ]
  },
  {
   "cell_type": "code",
   "execution_count": 110,
   "metadata": {
    "slideshow": {
     "slide_type": "slide"
    }
   },
   "outputs": [
    {
     "data": {
      "text/plain": [
       "0    0.519786\n",
       "1   -1.505931\n",
       "2    3.000000\n",
       "3   -0.362725\n",
       "Name: 93, dtype: float64"
      ]
     },
     "execution_count": 110,
     "metadata": {},
     "output_type": "execute_result"
    }
   ],
   "source": [
    "# Here is code to cap values outside the interval –3 to 3：\n",
    "data[np.abs(data) > 3] = np.sign(data) * 3 \n",
    "# The statement np.sign(data) produces 1 and –1 values based on whether the values in data are positive or negative\n",
    "data.iloc[93]"
   ]
  },
  {
   "cell_type": "code",
   "execution_count": 111,
   "metadata": {
    "slideshow": {
     "slide_type": "fragment"
    }
   },
   "outputs": [
    {
     "data": {
      "text/html": [
       "<div>\n",
       "<style scoped>\n",
       "    .dataframe tbody tr th:only-of-type {\n",
       "        vertical-align: middle;\n",
       "    }\n",
       "\n",
       "    .dataframe tbody tr th {\n",
       "        vertical-align: top;\n",
       "    }\n",
       "\n",
       "    .dataframe thead th {\n",
       "        text-align: right;\n",
       "    }\n",
       "</style>\n",
       "<table border=\"1\" class=\"dataframe\">\n",
       "  <thead>\n",
       "    <tr style=\"text-align: right;\">\n",
       "      <th></th>\n",
       "      <th>0</th>\n",
       "      <th>1</th>\n",
       "      <th>2</th>\n",
       "      <th>3</th>\n",
       "    </tr>\n",
       "  </thead>\n",
       "  <tbody>\n",
       "    <tr>\n",
       "      <th>count</th>\n",
       "      <td>1000.000000</td>\n",
       "      <td>1000.000000</td>\n",
       "      <td>1000.000000</td>\n",
       "      <td>1000.000000</td>\n",
       "    </tr>\n",
       "    <tr>\n",
       "      <th>mean</th>\n",
       "      <td>-0.026994</td>\n",
       "      <td>0.053455</td>\n",
       "      <td>0.000227</td>\n",
       "      <td>0.023509</td>\n",
       "    </tr>\n",
       "    <tr>\n",
       "      <th>std</th>\n",
       "      <td>1.016206</td>\n",
       "      <td>1.000014</td>\n",
       "      <td>1.021493</td>\n",
       "      <td>0.997978</td>\n",
       "    </tr>\n",
       "    <tr>\n",
       "      <th>min</th>\n",
       "      <td>-3.000000</td>\n",
       "      <td>-3.000000</td>\n",
       "      <td>-3.000000</td>\n",
       "      <td>-3.000000</td>\n",
       "    </tr>\n",
       "    <tr>\n",
       "      <th>25%</th>\n",
       "      <td>-0.724873</td>\n",
       "      <td>-0.582383</td>\n",
       "      <td>-0.726929</td>\n",
       "      <td>-0.593285</td>\n",
       "    </tr>\n",
       "    <tr>\n",
       "      <th>50%</th>\n",
       "      <td>-0.029692</td>\n",
       "      <td>0.083885</td>\n",
       "      <td>-0.028235</td>\n",
       "      <td>0.045375</td>\n",
       "    </tr>\n",
       "    <tr>\n",
       "      <th>75%</th>\n",
       "      <td>0.628445</td>\n",
       "      <td>0.742350</td>\n",
       "      <td>0.679740</td>\n",
       "      <td>0.669338</td>\n",
       "    </tr>\n",
       "    <tr>\n",
       "      <th>max</th>\n",
       "      <td>3.000000</td>\n",
       "      <td>3.000000</td>\n",
       "      <td>3.000000</td>\n",
       "      <td>2.995781</td>\n",
       "    </tr>\n",
       "  </tbody>\n",
       "</table>\n",
       "</div>"
      ],
      "text/plain": [
       "                 0            1            2            3\n",
       "count  1000.000000  1000.000000  1000.000000  1000.000000\n",
       "mean     -0.026994     0.053455     0.000227     0.023509\n",
       "std       1.016206     1.000014     1.021493     0.997978\n",
       "min      -3.000000    -3.000000    -3.000000    -3.000000\n",
       "25%      -0.724873    -0.582383    -0.726929    -0.593285\n",
       "50%      -0.029692     0.083885    -0.028235     0.045375\n",
       "75%       0.628445     0.742350     0.679740     0.669338\n",
       "max       3.000000     3.000000     3.000000     2.995781"
      ]
     },
     "execution_count": 111,
     "metadata": {},
     "output_type": "execute_result"
    }
   ],
   "source": [
    "data.describe()"
   ]
  },
  {
   "cell_type": "markdown",
   "metadata": {
    "slideshow": {
     "slide_type": "slide"
    }
   },
   "source": [
    "#### 3.3.2.5 Datetime Transformation\n",
    "* **pandas.to_datetime** convert argument to datetime."
   ]
  },
  {
   "cell_type": "code",
   "execution_count": 112,
   "metadata": {
    "slideshow": {
     "slide_type": "fragment"
    }
   },
   "outputs": [
    {
     "data": {
      "text/html": [
       "<div>\n",
       "<style scoped>\n",
       "    .dataframe tbody tr th:only-of-type {\n",
       "        vertical-align: middle;\n",
       "    }\n",
       "\n",
       "    .dataframe tbody tr th {\n",
       "        vertical-align: top;\n",
       "    }\n",
       "\n",
       "    .dataframe thead th {\n",
       "        text-align: right;\n",
       "    }\n",
       "</style>\n",
       "<table border=\"1\" class=\"dataframe\">\n",
       "  <thead>\n",
       "    <tr style=\"text-align: right;\">\n",
       "      <th></th>\n",
       "      <th>year</th>\n",
       "      <th>month</th>\n",
       "      <th>day</th>\n",
       "    </tr>\n",
       "  </thead>\n",
       "  <tbody>\n",
       "    <tr>\n",
       "      <th>0</th>\n",
       "      <td>2015</td>\n",
       "      <td>2</td>\n",
       "      <td>4</td>\n",
       "    </tr>\n",
       "    <tr>\n",
       "      <th>1</th>\n",
       "      <td>2016</td>\n",
       "      <td>3</td>\n",
       "      <td>5</td>\n",
       "    </tr>\n",
       "  </tbody>\n",
       "</table>\n",
       "</div>"
      ],
      "text/plain": [
       "   year  month  day\n",
       "0  2015      2    4\n",
       "1  2016      3    5"
      ]
     },
     "execution_count": 112,
     "metadata": {},
     "output_type": "execute_result"
    }
   ],
   "source": [
    "df = pd.DataFrame({'year': [2015, 2016],\n",
    "                   'month': [2, 3],\n",
    "                   'day': [4, 5]})\n",
    "df"
   ]
  },
  {
   "cell_type": "code",
   "execution_count": 113,
   "metadata": {
    "slideshow": {
     "slide_type": "fragment"
    }
   },
   "outputs": [
    {
     "data": {
      "text/plain": [
       "0   2015-02-04\n",
       "1   2016-03-05\n",
       "dtype: datetime64[ns]"
      ]
     },
     "execution_count": 113,
     "metadata": {},
     "output_type": "execute_result"
    }
   ],
   "source": [
    "date1 = pd.to_datetime(df)\n",
    "date1 "
   ]
  },
  {
   "cell_type": "code",
   "execution_count": 114,
   "metadata": {
    "slideshow": {
     "slide_type": "fragment"
    }
   },
   "outputs": [
    {
     "data": {
      "text/plain": [
       "Timedelta('395 days 00:00:00')"
      ]
     },
     "execution_count": 114,
     "metadata": {},
     "output_type": "execute_result"
    }
   ],
   "source": [
    "date1[1]-date1[0]"
   ]
  },
  {
   "cell_type": "markdown",
   "metadata": {
    "slideshow": {
     "slide_type": "slide"
    }
   },
   "source": [
    "* option **format** give the strftime to parse time, eg “%Y/%m/%d\"."
   ]
  },
  {
   "cell_type": "code",
   "execution_count": 115,
   "metadata": {
    "slideshow": {
     "slide_type": "fragment"
    }
   },
   "outputs": [
    {
     "data": {
      "text/plain": [
       "Timestamp('2021-06-01 00:00:00')"
      ]
     },
     "execution_count": 115,
     "metadata": {},
     "output_type": "execute_result"
    }
   ],
   "source": [
    "pd.to_datetime('20210601', format='%Y%m%d', errors='ignore')\n",
    "# errors='ignore' means invalid parsing will return the input."
   ]
  },
  {
   "cell_type": "markdown",
   "metadata": {
    "slideshow": {
     "slide_type": "slide"
    }
   },
   "source": [
    "#### 3.3.2.6Permutation and Random Sampling\n",
    "* Permuting (randomly reordering) a Series or the rows in a DataFrame is easy to do using the **numpy.random.permutation** function. \n",
    "* Calling permutation with the length of the axis you want to permute produces an array of integers indicating the new ordering.\n"
   ]
  },
  {
   "cell_type": "code",
   "execution_count": 116,
   "metadata": {
    "slideshow": {
     "slide_type": "fragment"
    }
   },
   "outputs": [
    {
     "data": {
      "text/html": [
       "<div>\n",
       "<style scoped>\n",
       "    .dataframe tbody tr th:only-of-type {\n",
       "        vertical-align: middle;\n",
       "    }\n",
       "\n",
       "    .dataframe tbody tr th {\n",
       "        vertical-align: top;\n",
       "    }\n",
       "\n",
       "    .dataframe thead th {\n",
       "        text-align: right;\n",
       "    }\n",
       "</style>\n",
       "<table border=\"1\" class=\"dataframe\">\n",
       "  <thead>\n",
       "    <tr style=\"text-align: right;\">\n",
       "      <th></th>\n",
       "      <th>0</th>\n",
       "      <th>1</th>\n",
       "      <th>2</th>\n",
       "      <th>3</th>\n",
       "    </tr>\n",
       "  </thead>\n",
       "  <tbody>\n",
       "    <tr>\n",
       "      <th>0</th>\n",
       "      <td>0</td>\n",
       "      <td>1</td>\n",
       "      <td>2</td>\n",
       "      <td>3</td>\n",
       "    </tr>\n",
       "    <tr>\n",
       "      <th>1</th>\n",
       "      <td>4</td>\n",
       "      <td>5</td>\n",
       "      <td>6</td>\n",
       "      <td>7</td>\n",
       "    </tr>\n",
       "    <tr>\n",
       "      <th>2</th>\n",
       "      <td>8</td>\n",
       "      <td>9</td>\n",
       "      <td>10</td>\n",
       "      <td>11</td>\n",
       "    </tr>\n",
       "    <tr>\n",
       "      <th>3</th>\n",
       "      <td>12</td>\n",
       "      <td>13</td>\n",
       "      <td>14</td>\n",
       "      <td>15</td>\n",
       "    </tr>\n",
       "    <tr>\n",
       "      <th>4</th>\n",
       "      <td>16</td>\n",
       "      <td>17</td>\n",
       "      <td>18</td>\n",
       "      <td>19</td>\n",
       "    </tr>\n",
       "  </tbody>\n",
       "</table>\n",
       "</div>"
      ],
      "text/plain": [
       "    0   1   2   3\n",
       "0   0   1   2   3\n",
       "1   4   5   6   7\n",
       "2   8   9  10  11\n",
       "3  12  13  14  15\n",
       "4  16  17  18  19"
      ]
     },
     "execution_count": 116,
     "metadata": {},
     "output_type": "execute_result"
    }
   ],
   "source": [
    "df = pd.DataFrame(np.arange(5 * 4).reshape((5, 4)))\n",
    "df"
   ]
  },
  {
   "cell_type": "code",
   "execution_count": 117,
   "metadata": {
    "slideshow": {
     "slide_type": "fragment"
    }
   },
   "outputs": [
    {
     "data": {
      "text/plain": [
       "array([3, 2, 4, 0, 1])"
      ]
     },
     "execution_count": 117,
     "metadata": {},
     "output_type": "execute_result"
    }
   ],
   "source": [
    "sampler = np.random.permutation(5)\n",
    "sampler"
   ]
  },
  {
   "cell_type": "markdown",
   "metadata": {
    "slideshow": {
     "slide_type": "slide"
    }
   },
   "source": [
    "* That array can then be used in iloc-based indexing or the equivalent **take** function"
   ]
  },
  {
   "cell_type": "code",
   "execution_count": 118,
   "metadata": {
    "slideshow": {
     "slide_type": "fragment"
    }
   },
   "outputs": [
    {
     "data": {
      "text/html": [
       "<div>\n",
       "<style scoped>\n",
       "    .dataframe tbody tr th:only-of-type {\n",
       "        vertical-align: middle;\n",
       "    }\n",
       "\n",
       "    .dataframe tbody tr th {\n",
       "        vertical-align: top;\n",
       "    }\n",
       "\n",
       "    .dataframe thead th {\n",
       "        text-align: right;\n",
       "    }\n",
       "</style>\n",
       "<table border=\"1\" class=\"dataframe\">\n",
       "  <thead>\n",
       "    <tr style=\"text-align: right;\">\n",
       "      <th></th>\n",
       "      <th>0</th>\n",
       "      <th>1</th>\n",
       "      <th>2</th>\n",
       "      <th>3</th>\n",
       "    </tr>\n",
       "  </thead>\n",
       "  <tbody>\n",
       "    <tr>\n",
       "      <th>3</th>\n",
       "      <td>12</td>\n",
       "      <td>13</td>\n",
       "      <td>14</td>\n",
       "      <td>15</td>\n",
       "    </tr>\n",
       "    <tr>\n",
       "      <th>2</th>\n",
       "      <td>8</td>\n",
       "      <td>9</td>\n",
       "      <td>10</td>\n",
       "      <td>11</td>\n",
       "    </tr>\n",
       "    <tr>\n",
       "      <th>4</th>\n",
       "      <td>16</td>\n",
       "      <td>17</td>\n",
       "      <td>18</td>\n",
       "      <td>19</td>\n",
       "    </tr>\n",
       "    <tr>\n",
       "      <th>0</th>\n",
       "      <td>0</td>\n",
       "      <td>1</td>\n",
       "      <td>2</td>\n",
       "      <td>3</td>\n",
       "    </tr>\n",
       "    <tr>\n",
       "      <th>1</th>\n",
       "      <td>4</td>\n",
       "      <td>5</td>\n",
       "      <td>6</td>\n",
       "      <td>7</td>\n",
       "    </tr>\n",
       "  </tbody>\n",
       "</table>\n",
       "</div>"
      ],
      "text/plain": [
       "    0   1   2   3\n",
       "3  12  13  14  15\n",
       "2   8   9  10  11\n",
       "4  16  17  18  19\n",
       "0   0   1   2   3\n",
       "1   4   5   6   7"
      ]
     },
     "execution_count": 118,
     "metadata": {},
     "output_type": "execute_result"
    }
   ],
   "source": [
    "df.take(sampler)"
   ]
  },
  {
   "cell_type": "markdown",
   "metadata": {
    "slideshow": {
     "slide_type": "slide"
    }
   },
   "source": [
    "* To select a random subset without replacement, you can use the **sample** method on Series and DataFrame"
   ]
  },
  {
   "cell_type": "code",
   "execution_count": 119,
   "metadata": {
    "slideshow": {
     "slide_type": "fragment"
    }
   },
   "outputs": [
    {
     "data": {
      "text/html": [
       "<div>\n",
       "<style scoped>\n",
       "    .dataframe tbody tr th:only-of-type {\n",
       "        vertical-align: middle;\n",
       "    }\n",
       "\n",
       "    .dataframe tbody tr th {\n",
       "        vertical-align: top;\n",
       "    }\n",
       "\n",
       "    .dataframe thead th {\n",
       "        text-align: right;\n",
       "    }\n",
       "</style>\n",
       "<table border=\"1\" class=\"dataframe\">\n",
       "  <thead>\n",
       "    <tr style=\"text-align: right;\">\n",
       "      <th></th>\n",
       "      <th>0</th>\n",
       "      <th>1</th>\n",
       "      <th>2</th>\n",
       "      <th>3</th>\n",
       "    </tr>\n",
       "  </thead>\n",
       "  <tbody>\n",
       "    <tr>\n",
       "      <th>4</th>\n",
       "      <td>16</td>\n",
       "      <td>17</td>\n",
       "      <td>18</td>\n",
       "      <td>19</td>\n",
       "    </tr>\n",
       "    <tr>\n",
       "      <th>0</th>\n",
       "      <td>0</td>\n",
       "      <td>1</td>\n",
       "      <td>2</td>\n",
       "      <td>3</td>\n",
       "    </tr>\n",
       "    <tr>\n",
       "      <th>3</th>\n",
       "      <td>12</td>\n",
       "      <td>13</td>\n",
       "      <td>14</td>\n",
       "      <td>15</td>\n",
       "    </tr>\n",
       "  </tbody>\n",
       "</table>\n",
       "</div>"
      ],
      "text/plain": [
       "    0   1   2   3\n",
       "4  16  17  18  19\n",
       "0   0   1   2   3\n",
       "3  12  13  14  15"
      ]
     },
     "execution_count": 119,
     "metadata": {},
     "output_type": "execute_result"
    }
   ],
   "source": [
    "df.sample(n=3)"
   ]
  },
  {
   "cell_type": "markdown",
   "metadata": {
    "slideshow": {
     "slide_type": "slide"
    }
   },
   "source": [
    "* To generate a sample with replacement (to allow repeat choices), pass **replace=True** to sample"
   ]
  },
  {
   "cell_type": "code",
   "execution_count": 120,
   "metadata": {
    "slideshow": {
     "slide_type": "fragment"
    }
   },
   "outputs": [
    {
     "data": {
      "text/html": [
       "<div>\n",
       "<style scoped>\n",
       "    .dataframe tbody tr th:only-of-type {\n",
       "        vertical-align: middle;\n",
       "    }\n",
       "\n",
       "    .dataframe tbody tr th {\n",
       "        vertical-align: top;\n",
       "    }\n",
       "\n",
       "    .dataframe thead th {\n",
       "        text-align: right;\n",
       "    }\n",
       "</style>\n",
       "<table border=\"1\" class=\"dataframe\">\n",
       "  <thead>\n",
       "    <tr style=\"text-align: right;\">\n",
       "      <th></th>\n",
       "      <th>0</th>\n",
       "      <th>1</th>\n",
       "      <th>2</th>\n",
       "      <th>3</th>\n",
       "    </tr>\n",
       "  </thead>\n",
       "  <tbody>\n",
       "    <tr>\n",
       "      <th>3</th>\n",
       "      <td>12</td>\n",
       "      <td>13</td>\n",
       "      <td>14</td>\n",
       "      <td>15</td>\n",
       "    </tr>\n",
       "    <tr>\n",
       "      <th>1</th>\n",
       "      <td>4</td>\n",
       "      <td>5</td>\n",
       "      <td>6</td>\n",
       "      <td>7</td>\n",
       "    </tr>\n",
       "    <tr>\n",
       "      <th>2</th>\n",
       "      <td>8</td>\n",
       "      <td>9</td>\n",
       "      <td>10</td>\n",
       "      <td>11</td>\n",
       "    </tr>\n",
       "    <tr>\n",
       "      <th>1</th>\n",
       "      <td>4</td>\n",
       "      <td>5</td>\n",
       "      <td>6</td>\n",
       "      <td>7</td>\n",
       "    </tr>\n",
       "    <tr>\n",
       "      <th>1</th>\n",
       "      <td>4</td>\n",
       "      <td>5</td>\n",
       "      <td>6</td>\n",
       "      <td>7</td>\n",
       "    </tr>\n",
       "    <tr>\n",
       "      <th>0</th>\n",
       "      <td>0</td>\n",
       "      <td>1</td>\n",
       "      <td>2</td>\n",
       "      <td>3</td>\n",
       "    </tr>\n",
       "    <tr>\n",
       "      <th>3</th>\n",
       "      <td>12</td>\n",
       "      <td>13</td>\n",
       "      <td>14</td>\n",
       "      <td>15</td>\n",
       "    </tr>\n",
       "    <tr>\n",
       "      <th>1</th>\n",
       "      <td>4</td>\n",
       "      <td>5</td>\n",
       "      <td>6</td>\n",
       "      <td>7</td>\n",
       "    </tr>\n",
       "    <tr>\n",
       "      <th>2</th>\n",
       "      <td>8</td>\n",
       "      <td>9</td>\n",
       "      <td>10</td>\n",
       "      <td>11</td>\n",
       "    </tr>\n",
       "    <tr>\n",
       "      <th>0</th>\n",
       "      <td>0</td>\n",
       "      <td>1</td>\n",
       "      <td>2</td>\n",
       "      <td>3</td>\n",
       "    </tr>\n",
       "  </tbody>\n",
       "</table>\n",
       "</div>"
      ],
      "text/plain": [
       "    0   1   2   3\n",
       "3  12  13  14  15\n",
       "1   4   5   6   7\n",
       "2   8   9  10  11\n",
       "1   4   5   6   7\n",
       "1   4   5   6   7\n",
       "0   0   1   2   3\n",
       "3  12  13  14  15\n",
       "1   4   5   6   7\n",
       "2   8   9  10  11\n",
       "0   0   1   2   3"
      ]
     },
     "execution_count": 120,
     "metadata": {},
     "output_type": "execute_result"
    }
   ],
   "source": [
    "draws = df.sample(n=10, replace=True)\n",
    "draws"
   ]
  },
  {
   "cell_type": "markdown",
   "metadata": {
    "slideshow": {
     "slide_type": "slide"
    }
   },
   "source": [
    "## 3.4 Example-Airbnb\n",
    "Donwload the data https://www.kaggle.com/c/airbnb-recruiting-new-user-bookings/data"
   ]
  },
  {
   "cell_type": "markdown",
   "metadata": {
    "slideshow": {
     "slide_type": "slide"
    }
   },
   "source": [
    "### 3.4.1 Reading the data"
   ]
  },
  {
   "cell_type": "code",
   "execution_count": 121,
   "metadata": {
    "slideshow": {
     "slide_type": "fragment"
    }
   },
   "outputs": [],
   "source": [
    "import pandas as pd\n",
    "users=pd.read_csv(\"examples/train_users_2.csv\")"
   ]
  },
  {
   "cell_type": "markdown",
   "metadata": {
    "slideshow": {
     "slide_type": "slide"
    }
   },
   "source": [
    "### 3.4.2 Viewing the data"
   ]
  },
  {
   "cell_type": "code",
   "execution_count": 122,
   "metadata": {
    "slideshow": {
     "slide_type": "subslide"
    }
   },
   "outputs": [
    {
     "data": {
      "text/html": [
       "<div>\n",
       "<style scoped>\n",
       "    .dataframe tbody tr th:only-of-type {\n",
       "        vertical-align: middle;\n",
       "    }\n",
       "\n",
       "    .dataframe tbody tr th {\n",
       "        vertical-align: top;\n",
       "    }\n",
       "\n",
       "    .dataframe thead th {\n",
       "        text-align: right;\n",
       "    }\n",
       "</style>\n",
       "<table border=\"1\" class=\"dataframe\">\n",
       "  <thead>\n",
       "    <tr style=\"text-align: right;\">\n",
       "      <th></th>\n",
       "      <th>id</th>\n",
       "      <th>date_account_created</th>\n",
       "      <th>timestamp_first_active</th>\n",
       "      <th>date_first_booking</th>\n",
       "      <th>gender</th>\n",
       "      <th>age</th>\n",
       "      <th>signup_method</th>\n",
       "      <th>signup_flow</th>\n",
       "      <th>language</th>\n",
       "      <th>affiliate_channel</th>\n",
       "      <th>affiliate_provider</th>\n",
       "      <th>first_affiliate_tracked</th>\n",
       "      <th>signup_app</th>\n",
       "      <th>first_device_type</th>\n",
       "      <th>first_browser</th>\n",
       "      <th>country_destination</th>\n",
       "    </tr>\n",
       "  </thead>\n",
       "  <tbody>\n",
       "    <tr>\n",
       "      <th>0</th>\n",
       "      <td>gxn3p5htnn</td>\n",
       "      <td>2010-06-28</td>\n",
       "      <td>20090319043255</td>\n",
       "      <td>NaN</td>\n",
       "      <td>-unknown-</td>\n",
       "      <td>NaN</td>\n",
       "      <td>facebook</td>\n",
       "      <td>0</td>\n",
       "      <td>en</td>\n",
       "      <td>direct</td>\n",
       "      <td>direct</td>\n",
       "      <td>untracked</td>\n",
       "      <td>Web</td>\n",
       "      <td>Mac Desktop</td>\n",
       "      <td>Chrome</td>\n",
       "      <td>NDF</td>\n",
       "    </tr>\n",
       "    <tr>\n",
       "      <th>1</th>\n",
       "      <td>820tgsjxq7</td>\n",
       "      <td>2011-05-25</td>\n",
       "      <td>20090523174809</td>\n",
       "      <td>NaN</td>\n",
       "      <td>MALE</td>\n",
       "      <td>38.0</td>\n",
       "      <td>facebook</td>\n",
       "      <td>0</td>\n",
       "      <td>en</td>\n",
       "      <td>seo</td>\n",
       "      <td>google</td>\n",
       "      <td>untracked</td>\n",
       "      <td>Web</td>\n",
       "      <td>Mac Desktop</td>\n",
       "      <td>Chrome</td>\n",
       "      <td>NDF</td>\n",
       "    </tr>\n",
       "    <tr>\n",
       "      <th>2</th>\n",
       "      <td>4ft3gnwmtx</td>\n",
       "      <td>2010-09-28</td>\n",
       "      <td>20090609231247</td>\n",
       "      <td>2010-08-02</td>\n",
       "      <td>FEMALE</td>\n",
       "      <td>56.0</td>\n",
       "      <td>basic</td>\n",
       "      <td>3</td>\n",
       "      <td>en</td>\n",
       "      <td>direct</td>\n",
       "      <td>direct</td>\n",
       "      <td>untracked</td>\n",
       "      <td>Web</td>\n",
       "      <td>Windows Desktop</td>\n",
       "      <td>IE</td>\n",
       "      <td>US</td>\n",
       "    </tr>\n",
       "    <tr>\n",
       "      <th>3</th>\n",
       "      <td>bjjt8pjhuk</td>\n",
       "      <td>2011-12-05</td>\n",
       "      <td>20091031060129</td>\n",
       "      <td>2012-09-08</td>\n",
       "      <td>FEMALE</td>\n",
       "      <td>42.0</td>\n",
       "      <td>facebook</td>\n",
       "      <td>0</td>\n",
       "      <td>en</td>\n",
       "      <td>direct</td>\n",
       "      <td>direct</td>\n",
       "      <td>untracked</td>\n",
       "      <td>Web</td>\n",
       "      <td>Mac Desktop</td>\n",
       "      <td>Firefox</td>\n",
       "      <td>other</td>\n",
       "    </tr>\n",
       "    <tr>\n",
       "      <th>4</th>\n",
       "      <td>87mebub9p4</td>\n",
       "      <td>2010-09-14</td>\n",
       "      <td>20091208061105</td>\n",
       "      <td>2010-02-18</td>\n",
       "      <td>-unknown-</td>\n",
       "      <td>41.0</td>\n",
       "      <td>basic</td>\n",
       "      <td>0</td>\n",
       "      <td>en</td>\n",
       "      <td>direct</td>\n",
       "      <td>direct</td>\n",
       "      <td>untracked</td>\n",
       "      <td>Web</td>\n",
       "      <td>Mac Desktop</td>\n",
       "      <td>Chrome</td>\n",
       "      <td>US</td>\n",
       "    </tr>\n",
       "    <tr>\n",
       "      <th>...</th>\n",
       "      <td>...</td>\n",
       "      <td>...</td>\n",
       "      <td>...</td>\n",
       "      <td>...</td>\n",
       "      <td>...</td>\n",
       "      <td>...</td>\n",
       "      <td>...</td>\n",
       "      <td>...</td>\n",
       "      <td>...</td>\n",
       "      <td>...</td>\n",
       "      <td>...</td>\n",
       "      <td>...</td>\n",
       "      <td>...</td>\n",
       "      <td>...</td>\n",
       "      <td>...</td>\n",
       "      <td>...</td>\n",
       "    </tr>\n",
       "    <tr>\n",
       "      <th>213446</th>\n",
       "      <td>zxodksqpep</td>\n",
       "      <td>2014-06-30</td>\n",
       "      <td>20140630235636</td>\n",
       "      <td>NaN</td>\n",
       "      <td>MALE</td>\n",
       "      <td>32.0</td>\n",
       "      <td>basic</td>\n",
       "      <td>0</td>\n",
       "      <td>en</td>\n",
       "      <td>sem-brand</td>\n",
       "      <td>google</td>\n",
       "      <td>omg</td>\n",
       "      <td>Web</td>\n",
       "      <td>Mac Desktop</td>\n",
       "      <td>Safari</td>\n",
       "      <td>NDF</td>\n",
       "    </tr>\n",
       "    <tr>\n",
       "      <th>213447</th>\n",
       "      <td>mhewnxesx9</td>\n",
       "      <td>2014-06-30</td>\n",
       "      <td>20140630235719</td>\n",
       "      <td>NaN</td>\n",
       "      <td>-unknown-</td>\n",
       "      <td>NaN</td>\n",
       "      <td>basic</td>\n",
       "      <td>0</td>\n",
       "      <td>en</td>\n",
       "      <td>direct</td>\n",
       "      <td>direct</td>\n",
       "      <td>linked</td>\n",
       "      <td>Web</td>\n",
       "      <td>Windows Desktop</td>\n",
       "      <td>Chrome</td>\n",
       "      <td>NDF</td>\n",
       "    </tr>\n",
       "    <tr>\n",
       "      <th>213448</th>\n",
       "      <td>6o3arsjbb4</td>\n",
       "      <td>2014-06-30</td>\n",
       "      <td>20140630235754</td>\n",
       "      <td>NaN</td>\n",
       "      <td>-unknown-</td>\n",
       "      <td>32.0</td>\n",
       "      <td>basic</td>\n",
       "      <td>0</td>\n",
       "      <td>en</td>\n",
       "      <td>direct</td>\n",
       "      <td>direct</td>\n",
       "      <td>untracked</td>\n",
       "      <td>Web</td>\n",
       "      <td>Mac Desktop</td>\n",
       "      <td>Firefox</td>\n",
       "      <td>NDF</td>\n",
       "    </tr>\n",
       "    <tr>\n",
       "      <th>213449</th>\n",
       "      <td>jh95kwisub</td>\n",
       "      <td>2014-06-30</td>\n",
       "      <td>20140630235822</td>\n",
       "      <td>NaN</td>\n",
       "      <td>-unknown-</td>\n",
       "      <td>NaN</td>\n",
       "      <td>basic</td>\n",
       "      <td>25</td>\n",
       "      <td>en</td>\n",
       "      <td>other</td>\n",
       "      <td>other</td>\n",
       "      <td>tracked-other</td>\n",
       "      <td>iOS</td>\n",
       "      <td>iPhone</td>\n",
       "      <td>Mobile Safari</td>\n",
       "      <td>NDF</td>\n",
       "    </tr>\n",
       "    <tr>\n",
       "      <th>213450</th>\n",
       "      <td>nw9fwlyb5f</td>\n",
       "      <td>2014-06-30</td>\n",
       "      <td>20140630235824</td>\n",
       "      <td>NaN</td>\n",
       "      <td>-unknown-</td>\n",
       "      <td>NaN</td>\n",
       "      <td>basic</td>\n",
       "      <td>25</td>\n",
       "      <td>en</td>\n",
       "      <td>direct</td>\n",
       "      <td>direct</td>\n",
       "      <td>untracked</td>\n",
       "      <td>iOS</td>\n",
       "      <td>iPhone</td>\n",
       "      <td>-unknown-</td>\n",
       "      <td>NDF</td>\n",
       "    </tr>\n",
       "  </tbody>\n",
       "</table>\n",
       "<p>213451 rows × 16 columns</p>\n",
       "</div>"
      ],
      "text/plain": [
       "                id date_account_created  timestamp_first_active  \\\n",
       "0       gxn3p5htnn           2010-06-28          20090319043255   \n",
       "1       820tgsjxq7           2011-05-25          20090523174809   \n",
       "2       4ft3gnwmtx           2010-09-28          20090609231247   \n",
       "3       bjjt8pjhuk           2011-12-05          20091031060129   \n",
       "4       87mebub9p4           2010-09-14          20091208061105   \n",
       "...            ...                  ...                     ...   \n",
       "213446  zxodksqpep           2014-06-30          20140630235636   \n",
       "213447  mhewnxesx9           2014-06-30          20140630235719   \n",
       "213448  6o3arsjbb4           2014-06-30          20140630235754   \n",
       "213449  jh95kwisub           2014-06-30          20140630235822   \n",
       "213450  nw9fwlyb5f           2014-06-30          20140630235824   \n",
       "\n",
       "       date_first_booking     gender   age signup_method  signup_flow  \\\n",
       "0                     NaN  -unknown-   NaN      facebook            0   \n",
       "1                     NaN       MALE  38.0      facebook            0   \n",
       "2              2010-08-02     FEMALE  56.0         basic            3   \n",
       "3              2012-09-08     FEMALE  42.0      facebook            0   \n",
       "4              2010-02-18  -unknown-  41.0         basic            0   \n",
       "...                   ...        ...   ...           ...          ...   \n",
       "213446                NaN       MALE  32.0         basic            0   \n",
       "213447                NaN  -unknown-   NaN         basic            0   \n",
       "213448                NaN  -unknown-  32.0         basic            0   \n",
       "213449                NaN  -unknown-   NaN         basic           25   \n",
       "213450                NaN  -unknown-   NaN         basic           25   \n",
       "\n",
       "       language affiliate_channel affiliate_provider first_affiliate_tracked  \\\n",
       "0            en            direct             direct               untracked   \n",
       "1            en               seo             google               untracked   \n",
       "2            en            direct             direct               untracked   \n",
       "3            en            direct             direct               untracked   \n",
       "4            en            direct             direct               untracked   \n",
       "...         ...               ...                ...                     ...   \n",
       "213446       en         sem-brand             google                     omg   \n",
       "213447       en            direct             direct                  linked   \n",
       "213448       en            direct             direct               untracked   \n",
       "213449       en             other              other           tracked-other   \n",
       "213450       en            direct             direct               untracked   \n",
       "\n",
       "       signup_app first_device_type  first_browser country_destination  \n",
       "0             Web       Mac Desktop         Chrome                 NDF  \n",
       "1             Web       Mac Desktop         Chrome                 NDF  \n",
       "2             Web   Windows Desktop             IE                  US  \n",
       "3             Web       Mac Desktop        Firefox               other  \n",
       "4             Web       Mac Desktop         Chrome                  US  \n",
       "...           ...               ...            ...                 ...  \n",
       "213446        Web       Mac Desktop         Safari                 NDF  \n",
       "213447        Web   Windows Desktop         Chrome                 NDF  \n",
       "213448        Web       Mac Desktop        Firefox                 NDF  \n",
       "213449        iOS            iPhone  Mobile Safari                 NDF  \n",
       "213450        iOS            iPhone      -unknown-                 NDF  \n",
       "\n",
       "[213451 rows x 16 columns]"
      ]
     },
     "execution_count": 122,
     "metadata": {},
     "output_type": "execute_result"
    }
   ],
   "source": [
    "users"
   ]
  },
  {
   "cell_type": "code",
   "execution_count": 124,
   "metadata": {
    "slideshow": {
     "slide_type": "subslide"
    }
   },
   "outputs": [
    {
     "data": {
      "text/html": [
       "<div>\n",
       "<style scoped>\n",
       "    .dataframe tbody tr th:only-of-type {\n",
       "        vertical-align: middle;\n",
       "    }\n",
       "\n",
       "    .dataframe tbody tr th {\n",
       "        vertical-align: top;\n",
       "    }\n",
       "\n",
       "    .dataframe thead th {\n",
       "        text-align: right;\n",
       "    }\n",
       "</style>\n",
       "<table border=\"1\" class=\"dataframe\">\n",
       "  <thead>\n",
       "    <tr style=\"text-align: right;\">\n",
       "      <th></th>\n",
       "      <th>id</th>\n",
       "      <th>date_account_created</th>\n",
       "      <th>timestamp_first_active</th>\n",
       "      <th>date_first_booking</th>\n",
       "      <th>gender</th>\n",
       "      <th>age</th>\n",
       "      <th>signup_method</th>\n",
       "      <th>signup_flow</th>\n",
       "      <th>language</th>\n",
       "      <th>affiliate_channel</th>\n",
       "      <th>affiliate_provider</th>\n",
       "      <th>first_affiliate_tracked</th>\n",
       "      <th>signup_app</th>\n",
       "      <th>first_device_type</th>\n",
       "      <th>first_browser</th>\n",
       "      <th>country_destination</th>\n",
       "    </tr>\n",
       "  </thead>\n",
       "  <tbody>\n",
       "    <tr>\n",
       "      <th>0</th>\n",
       "      <td>gxn3p5htnn</td>\n",
       "      <td>2010-06-28</td>\n",
       "      <td>20090319043255</td>\n",
       "      <td>NaN</td>\n",
       "      <td>-unknown-</td>\n",
       "      <td>NaN</td>\n",
       "      <td>facebook</td>\n",
       "      <td>0</td>\n",
       "      <td>en</td>\n",
       "      <td>direct</td>\n",
       "      <td>direct</td>\n",
       "      <td>untracked</td>\n",
       "      <td>Web</td>\n",
       "      <td>Mac Desktop</td>\n",
       "      <td>Chrome</td>\n",
       "      <td>NDF</td>\n",
       "    </tr>\n",
       "    <tr>\n",
       "      <th>1</th>\n",
       "      <td>820tgsjxq7</td>\n",
       "      <td>2011-05-25</td>\n",
       "      <td>20090523174809</td>\n",
       "      <td>NaN</td>\n",
       "      <td>MALE</td>\n",
       "      <td>38.0</td>\n",
       "      <td>facebook</td>\n",
       "      <td>0</td>\n",
       "      <td>en</td>\n",
       "      <td>seo</td>\n",
       "      <td>google</td>\n",
       "      <td>untracked</td>\n",
       "      <td>Web</td>\n",
       "      <td>Mac Desktop</td>\n",
       "      <td>Chrome</td>\n",
       "      <td>NDF</td>\n",
       "    </tr>\n",
       "    <tr>\n",
       "      <th>2</th>\n",
       "      <td>4ft3gnwmtx</td>\n",
       "      <td>2010-09-28</td>\n",
       "      <td>20090609231247</td>\n",
       "      <td>2010-08-02</td>\n",
       "      <td>FEMALE</td>\n",
       "      <td>56.0</td>\n",
       "      <td>basic</td>\n",
       "      <td>3</td>\n",
       "      <td>en</td>\n",
       "      <td>direct</td>\n",
       "      <td>direct</td>\n",
       "      <td>untracked</td>\n",
       "      <td>Web</td>\n",
       "      <td>Windows Desktop</td>\n",
       "      <td>IE</td>\n",
       "      <td>US</td>\n",
       "    </tr>\n",
       "    <tr>\n",
       "      <th>3</th>\n",
       "      <td>bjjt8pjhuk</td>\n",
       "      <td>2011-12-05</td>\n",
       "      <td>20091031060129</td>\n",
       "      <td>2012-09-08</td>\n",
       "      <td>FEMALE</td>\n",
       "      <td>42.0</td>\n",
       "      <td>facebook</td>\n",
       "      <td>0</td>\n",
       "      <td>en</td>\n",
       "      <td>direct</td>\n",
       "      <td>direct</td>\n",
       "      <td>untracked</td>\n",
       "      <td>Web</td>\n",
       "      <td>Mac Desktop</td>\n",
       "      <td>Firefox</td>\n",
       "      <td>other</td>\n",
       "    </tr>\n",
       "    <tr>\n",
       "      <th>4</th>\n",
       "      <td>87mebub9p4</td>\n",
       "      <td>2010-09-14</td>\n",
       "      <td>20091208061105</td>\n",
       "      <td>2010-02-18</td>\n",
       "      <td>-unknown-</td>\n",
       "      <td>41.0</td>\n",
       "      <td>basic</td>\n",
       "      <td>0</td>\n",
       "      <td>en</td>\n",
       "      <td>direct</td>\n",
       "      <td>direct</td>\n",
       "      <td>untracked</td>\n",
       "      <td>Web</td>\n",
       "      <td>Mac Desktop</td>\n",
       "      <td>Chrome</td>\n",
       "      <td>US</td>\n",
       "    </tr>\n",
       "    <tr>\n",
       "      <th>5</th>\n",
       "      <td>osr2jwljor</td>\n",
       "      <td>2010-01-01</td>\n",
       "      <td>20100101215619</td>\n",
       "      <td>2010-01-02</td>\n",
       "      <td>-unknown-</td>\n",
       "      <td>NaN</td>\n",
       "      <td>basic</td>\n",
       "      <td>0</td>\n",
       "      <td>en</td>\n",
       "      <td>other</td>\n",
       "      <td>other</td>\n",
       "      <td>omg</td>\n",
       "      <td>Web</td>\n",
       "      <td>Mac Desktop</td>\n",
       "      <td>Chrome</td>\n",
       "      <td>US</td>\n",
       "    </tr>\n",
       "    <tr>\n",
       "      <th>6</th>\n",
       "      <td>lsw9q7uk0j</td>\n",
       "      <td>2010-01-02</td>\n",
       "      <td>20100102012558</td>\n",
       "      <td>2010-01-05</td>\n",
       "      <td>FEMALE</td>\n",
       "      <td>46.0</td>\n",
       "      <td>basic</td>\n",
       "      <td>0</td>\n",
       "      <td>en</td>\n",
       "      <td>other</td>\n",
       "      <td>craigslist</td>\n",
       "      <td>untracked</td>\n",
       "      <td>Web</td>\n",
       "      <td>Mac Desktop</td>\n",
       "      <td>Safari</td>\n",
       "      <td>US</td>\n",
       "    </tr>\n",
       "    <tr>\n",
       "      <th>7</th>\n",
       "      <td>0d01nltbrs</td>\n",
       "      <td>2010-01-03</td>\n",
       "      <td>20100103191905</td>\n",
       "      <td>2010-01-13</td>\n",
       "      <td>FEMALE</td>\n",
       "      <td>47.0</td>\n",
       "      <td>basic</td>\n",
       "      <td>0</td>\n",
       "      <td>en</td>\n",
       "      <td>direct</td>\n",
       "      <td>direct</td>\n",
       "      <td>omg</td>\n",
       "      <td>Web</td>\n",
       "      <td>Mac Desktop</td>\n",
       "      <td>Safari</td>\n",
       "      <td>US</td>\n",
       "    </tr>\n",
       "    <tr>\n",
       "      <th>8</th>\n",
       "      <td>a1vcnhxeij</td>\n",
       "      <td>2010-01-04</td>\n",
       "      <td>20100104004211</td>\n",
       "      <td>2010-07-29</td>\n",
       "      <td>FEMALE</td>\n",
       "      <td>50.0</td>\n",
       "      <td>basic</td>\n",
       "      <td>0</td>\n",
       "      <td>en</td>\n",
       "      <td>other</td>\n",
       "      <td>craigslist</td>\n",
       "      <td>untracked</td>\n",
       "      <td>Web</td>\n",
       "      <td>Mac Desktop</td>\n",
       "      <td>Safari</td>\n",
       "      <td>US</td>\n",
       "    </tr>\n",
       "    <tr>\n",
       "      <th>9</th>\n",
       "      <td>6uh8zyj2gn</td>\n",
       "      <td>2010-01-04</td>\n",
       "      <td>20100104023758</td>\n",
       "      <td>2010-01-04</td>\n",
       "      <td>-unknown-</td>\n",
       "      <td>46.0</td>\n",
       "      <td>basic</td>\n",
       "      <td>0</td>\n",
       "      <td>en</td>\n",
       "      <td>other</td>\n",
       "      <td>craigslist</td>\n",
       "      <td>omg</td>\n",
       "      <td>Web</td>\n",
       "      <td>Mac Desktop</td>\n",
       "      <td>Firefox</td>\n",
       "      <td>US</td>\n",
       "    </tr>\n",
       "  </tbody>\n",
       "</table>\n",
       "</div>"
      ],
      "text/plain": [
       "           id date_account_created  timestamp_first_active date_first_booking  \\\n",
       "0  gxn3p5htnn           2010-06-28          20090319043255                NaN   \n",
       "1  820tgsjxq7           2011-05-25          20090523174809                NaN   \n",
       "2  4ft3gnwmtx           2010-09-28          20090609231247         2010-08-02   \n",
       "3  bjjt8pjhuk           2011-12-05          20091031060129         2012-09-08   \n",
       "4  87mebub9p4           2010-09-14          20091208061105         2010-02-18   \n",
       "5  osr2jwljor           2010-01-01          20100101215619         2010-01-02   \n",
       "6  lsw9q7uk0j           2010-01-02          20100102012558         2010-01-05   \n",
       "7  0d01nltbrs           2010-01-03          20100103191905         2010-01-13   \n",
       "8  a1vcnhxeij           2010-01-04          20100104004211         2010-07-29   \n",
       "9  6uh8zyj2gn           2010-01-04          20100104023758         2010-01-04   \n",
       "\n",
       "      gender   age signup_method  signup_flow language affiliate_channel  \\\n",
       "0  -unknown-   NaN      facebook            0       en            direct   \n",
       "1       MALE  38.0      facebook            0       en               seo   \n",
       "2     FEMALE  56.0         basic            3       en            direct   \n",
       "3     FEMALE  42.0      facebook            0       en            direct   \n",
       "4  -unknown-  41.0         basic            0       en            direct   \n",
       "5  -unknown-   NaN         basic            0       en             other   \n",
       "6     FEMALE  46.0         basic            0       en             other   \n",
       "7     FEMALE  47.0         basic            0       en            direct   \n",
       "8     FEMALE  50.0         basic            0       en             other   \n",
       "9  -unknown-  46.0         basic            0       en             other   \n",
       "\n",
       "  affiliate_provider first_affiliate_tracked signup_app first_device_type  \\\n",
       "0             direct               untracked        Web       Mac Desktop   \n",
       "1             google               untracked        Web       Mac Desktop   \n",
       "2             direct               untracked        Web   Windows Desktop   \n",
       "3             direct               untracked        Web       Mac Desktop   \n",
       "4             direct               untracked        Web       Mac Desktop   \n",
       "5              other                     omg        Web       Mac Desktop   \n",
       "6         craigslist               untracked        Web       Mac Desktop   \n",
       "7             direct                     omg        Web       Mac Desktop   \n",
       "8         craigslist               untracked        Web       Mac Desktop   \n",
       "9         craigslist                     omg        Web       Mac Desktop   \n",
       "\n",
       "  first_browser country_destination  \n",
       "0        Chrome                 NDF  \n",
       "1        Chrome                 NDF  \n",
       "2            IE                  US  \n",
       "3       Firefox               other  \n",
       "4        Chrome                  US  \n",
       "5        Chrome                  US  \n",
       "6        Safari                  US  \n",
       "7        Safari                  US  \n",
       "8        Safari                  US  \n",
       "9       Firefox                  US  "
      ]
     },
     "execution_count": 124,
     "metadata": {},
     "output_type": "execute_result"
    }
   ],
   "source": [
    "users.head(10)"
   ]
  },
  {
   "cell_type": "code",
   "execution_count": 125,
   "metadata": {
    "slideshow": {
     "slide_type": "subslide"
    }
   },
   "outputs": [
    {
     "data": {
      "text/html": [
       "<div>\n",
       "<style scoped>\n",
       "    .dataframe tbody tr th:only-of-type {\n",
       "        vertical-align: middle;\n",
       "    }\n",
       "\n",
       "    .dataframe tbody tr th {\n",
       "        vertical-align: top;\n",
       "    }\n",
       "\n",
       "    .dataframe thead th {\n",
       "        text-align: right;\n",
       "    }\n",
       "</style>\n",
       "<table border=\"1\" class=\"dataframe\">\n",
       "  <thead>\n",
       "    <tr style=\"text-align: right;\">\n",
       "      <th></th>\n",
       "      <th>id</th>\n",
       "      <th>date_account_created</th>\n",
       "      <th>timestamp_first_active</th>\n",
       "      <th>date_first_booking</th>\n",
       "      <th>gender</th>\n",
       "      <th>age</th>\n",
       "      <th>signup_method</th>\n",
       "      <th>signup_flow</th>\n",
       "      <th>language</th>\n",
       "      <th>affiliate_channel</th>\n",
       "      <th>affiliate_provider</th>\n",
       "      <th>first_affiliate_tracked</th>\n",
       "      <th>signup_app</th>\n",
       "      <th>first_device_type</th>\n",
       "      <th>first_browser</th>\n",
       "      <th>country_destination</th>\n",
       "    </tr>\n",
       "  </thead>\n",
       "  <tbody>\n",
       "    <tr>\n",
       "      <th>213446</th>\n",
       "      <td>zxodksqpep</td>\n",
       "      <td>2014-06-30</td>\n",
       "      <td>20140630235636</td>\n",
       "      <td>NaN</td>\n",
       "      <td>MALE</td>\n",
       "      <td>32.0</td>\n",
       "      <td>basic</td>\n",
       "      <td>0</td>\n",
       "      <td>en</td>\n",
       "      <td>sem-brand</td>\n",
       "      <td>google</td>\n",
       "      <td>omg</td>\n",
       "      <td>Web</td>\n",
       "      <td>Mac Desktop</td>\n",
       "      <td>Safari</td>\n",
       "      <td>NDF</td>\n",
       "    </tr>\n",
       "    <tr>\n",
       "      <th>213447</th>\n",
       "      <td>mhewnxesx9</td>\n",
       "      <td>2014-06-30</td>\n",
       "      <td>20140630235719</td>\n",
       "      <td>NaN</td>\n",
       "      <td>-unknown-</td>\n",
       "      <td>NaN</td>\n",
       "      <td>basic</td>\n",
       "      <td>0</td>\n",
       "      <td>en</td>\n",
       "      <td>direct</td>\n",
       "      <td>direct</td>\n",
       "      <td>linked</td>\n",
       "      <td>Web</td>\n",
       "      <td>Windows Desktop</td>\n",
       "      <td>Chrome</td>\n",
       "      <td>NDF</td>\n",
       "    </tr>\n",
       "    <tr>\n",
       "      <th>213448</th>\n",
       "      <td>6o3arsjbb4</td>\n",
       "      <td>2014-06-30</td>\n",
       "      <td>20140630235754</td>\n",
       "      <td>NaN</td>\n",
       "      <td>-unknown-</td>\n",
       "      <td>32.0</td>\n",
       "      <td>basic</td>\n",
       "      <td>0</td>\n",
       "      <td>en</td>\n",
       "      <td>direct</td>\n",
       "      <td>direct</td>\n",
       "      <td>untracked</td>\n",
       "      <td>Web</td>\n",
       "      <td>Mac Desktop</td>\n",
       "      <td>Firefox</td>\n",
       "      <td>NDF</td>\n",
       "    </tr>\n",
       "    <tr>\n",
       "      <th>213449</th>\n",
       "      <td>jh95kwisub</td>\n",
       "      <td>2014-06-30</td>\n",
       "      <td>20140630235822</td>\n",
       "      <td>NaN</td>\n",
       "      <td>-unknown-</td>\n",
       "      <td>NaN</td>\n",
       "      <td>basic</td>\n",
       "      <td>25</td>\n",
       "      <td>en</td>\n",
       "      <td>other</td>\n",
       "      <td>other</td>\n",
       "      <td>tracked-other</td>\n",
       "      <td>iOS</td>\n",
       "      <td>iPhone</td>\n",
       "      <td>Mobile Safari</td>\n",
       "      <td>NDF</td>\n",
       "    </tr>\n",
       "    <tr>\n",
       "      <th>213450</th>\n",
       "      <td>nw9fwlyb5f</td>\n",
       "      <td>2014-06-30</td>\n",
       "      <td>20140630235824</td>\n",
       "      <td>NaN</td>\n",
       "      <td>-unknown-</td>\n",
       "      <td>NaN</td>\n",
       "      <td>basic</td>\n",
       "      <td>25</td>\n",
       "      <td>en</td>\n",
       "      <td>direct</td>\n",
       "      <td>direct</td>\n",
       "      <td>untracked</td>\n",
       "      <td>iOS</td>\n",
       "      <td>iPhone</td>\n",
       "      <td>-unknown-</td>\n",
       "      <td>NDF</td>\n",
       "    </tr>\n",
       "  </tbody>\n",
       "</table>\n",
       "</div>"
      ],
      "text/plain": [
       "                id date_account_created  timestamp_first_active  \\\n",
       "213446  zxodksqpep           2014-06-30          20140630235636   \n",
       "213447  mhewnxesx9           2014-06-30          20140630235719   \n",
       "213448  6o3arsjbb4           2014-06-30          20140630235754   \n",
       "213449  jh95kwisub           2014-06-30          20140630235822   \n",
       "213450  nw9fwlyb5f           2014-06-30          20140630235824   \n",
       "\n",
       "       date_first_booking     gender   age signup_method  signup_flow  \\\n",
       "213446                NaN       MALE  32.0         basic            0   \n",
       "213447                NaN  -unknown-   NaN         basic            0   \n",
       "213448                NaN  -unknown-  32.0         basic            0   \n",
       "213449                NaN  -unknown-   NaN         basic           25   \n",
       "213450                NaN  -unknown-   NaN         basic           25   \n",
       "\n",
       "       language affiliate_channel affiliate_provider first_affiliate_tracked  \\\n",
       "213446       en         sem-brand             google                     omg   \n",
       "213447       en            direct             direct                  linked   \n",
       "213448       en            direct             direct               untracked   \n",
       "213449       en             other              other           tracked-other   \n",
       "213450       en            direct             direct               untracked   \n",
       "\n",
       "       signup_app first_device_type  first_browser country_destination  \n",
       "213446        Web       Mac Desktop         Safari                 NDF  \n",
       "213447        Web   Windows Desktop         Chrome                 NDF  \n",
       "213448        Web       Mac Desktop        Firefox                 NDF  \n",
       "213449        iOS            iPhone  Mobile Safari                 NDF  \n",
       "213450        iOS            iPhone      -unknown-                 NDF  "
      ]
     },
     "execution_count": 125,
     "metadata": {},
     "output_type": "execute_result"
    }
   ],
   "source": [
    "users.tail()"
   ]
  },
  {
   "cell_type": "code",
   "execution_count": 127,
   "metadata": {
    "slideshow": {
     "slide_type": "subslide"
    }
   },
   "outputs": [
    {
     "data": {
      "text/html": [
       "<div>\n",
       "<style scoped>\n",
       "    .dataframe tbody tr th:only-of-type {\n",
       "        vertical-align: middle;\n",
       "    }\n",
       "\n",
       "    .dataframe tbody tr th {\n",
       "        vertical-align: top;\n",
       "    }\n",
       "\n",
       "    .dataframe thead th {\n",
       "        text-align: right;\n",
       "    }\n",
       "</style>\n",
       "<table border=\"1\" class=\"dataframe\">\n",
       "  <thead>\n",
       "    <tr style=\"text-align: right;\">\n",
       "      <th></th>\n",
       "      <th>id</th>\n",
       "      <th>date_account_created</th>\n",
       "      <th>timestamp_first_active</th>\n",
       "      <th>date_first_booking</th>\n",
       "      <th>gender</th>\n",
       "      <th>age</th>\n",
       "      <th>signup_method</th>\n",
       "      <th>signup_flow</th>\n",
       "      <th>language</th>\n",
       "      <th>affiliate_channel</th>\n",
       "      <th>affiliate_provider</th>\n",
       "      <th>first_affiliate_tracked</th>\n",
       "      <th>signup_app</th>\n",
       "      <th>first_device_type</th>\n",
       "      <th>first_browser</th>\n",
       "      <th>country_destination</th>\n",
       "    </tr>\n",
       "  </thead>\n",
       "  <tbody>\n",
       "    <tr>\n",
       "      <th>195264</th>\n",
       "      <td>38gftsfy5r</td>\n",
       "      <td>2014-05-26</td>\n",
       "      <td>20140526231258</td>\n",
       "      <td>NaN</td>\n",
       "      <td>-unknown-</td>\n",
       "      <td>NaN</td>\n",
       "      <td>basic</td>\n",
       "      <td>0</td>\n",
       "      <td>en</td>\n",
       "      <td>direct</td>\n",
       "      <td>direct</td>\n",
       "      <td>untracked</td>\n",
       "      <td>Web</td>\n",
       "      <td>Mac Desktop</td>\n",
       "      <td>Safari</td>\n",
       "      <td>NDF</td>\n",
       "    </tr>\n",
       "    <tr>\n",
       "      <th>46891</th>\n",
       "      <td>bz9m5iyn3n</td>\n",
       "      <td>2012-11-01</td>\n",
       "      <td>20121101010341</td>\n",
       "      <td>NaN</td>\n",
       "      <td>-unknown-</td>\n",
       "      <td>NaN</td>\n",
       "      <td>basic</td>\n",
       "      <td>12</td>\n",
       "      <td>en</td>\n",
       "      <td>api</td>\n",
       "      <td>other</td>\n",
       "      <td>untracked</td>\n",
       "      <td>iOS</td>\n",
       "      <td>iPhone</td>\n",
       "      <td>-unknown-</td>\n",
       "      <td>NDF</td>\n",
       "    </tr>\n",
       "    <tr>\n",
       "      <th>177192</th>\n",
       "      <td>bwvogy9dps</td>\n",
       "      <td>2014-04-18</td>\n",
       "      <td>20140418043405</td>\n",
       "      <td>NaN</td>\n",
       "      <td>-unknown-</td>\n",
       "      <td>NaN</td>\n",
       "      <td>basic</td>\n",
       "      <td>0</td>\n",
       "      <td>en</td>\n",
       "      <td>direct</td>\n",
       "      <td>direct</td>\n",
       "      <td>untracked</td>\n",
       "      <td>Web</td>\n",
       "      <td>Mac Desktop</td>\n",
       "      <td>Chrome</td>\n",
       "      <td>NDF</td>\n",
       "    </tr>\n",
       "    <tr>\n",
       "      <th>42436</th>\n",
       "      <td>8us2o6n3uy</td>\n",
       "      <td>2012-09-26</td>\n",
       "      <td>20120926014930</td>\n",
       "      <td>NaN</td>\n",
       "      <td>-unknown-</td>\n",
       "      <td>NaN</td>\n",
       "      <td>basic</td>\n",
       "      <td>0</td>\n",
       "      <td>en</td>\n",
       "      <td>direct</td>\n",
       "      <td>direct</td>\n",
       "      <td>untracked</td>\n",
       "      <td>Web</td>\n",
       "      <td>Mac Desktop</td>\n",
       "      <td>Chrome</td>\n",
       "      <td>NDF</td>\n",
       "    </tr>\n",
       "    <tr>\n",
       "      <th>113721</th>\n",
       "      <td>s05tp53h3l</td>\n",
       "      <td>2013-10-02</td>\n",
       "      <td>20131002221553</td>\n",
       "      <td>2013-10-02</td>\n",
       "      <td>-unknown-</td>\n",
       "      <td>46.0</td>\n",
       "      <td>basic</td>\n",
       "      <td>0</td>\n",
       "      <td>en</td>\n",
       "      <td>sem-non-brand</td>\n",
       "      <td>google</td>\n",
       "      <td>untracked</td>\n",
       "      <td>Web</td>\n",
       "      <td>Windows Desktop</td>\n",
       "      <td>Chrome</td>\n",
       "      <td>US</td>\n",
       "    </tr>\n",
       "    <tr>\n",
       "      <th>33391</th>\n",
       "      <td>g1kj9a4eiv</td>\n",
       "      <td>2012-07-24</td>\n",
       "      <td>20120724012930</td>\n",
       "      <td>2012-07-24</td>\n",
       "      <td>MALE</td>\n",
       "      <td>52.0</td>\n",
       "      <td>basic</td>\n",
       "      <td>3</td>\n",
       "      <td>en</td>\n",
       "      <td>sem-non-brand</td>\n",
       "      <td>google</td>\n",
       "      <td>omg</td>\n",
       "      <td>Web</td>\n",
       "      <td>Mac Desktop</td>\n",
       "      <td>Safari</td>\n",
       "      <td>other</td>\n",
       "    </tr>\n",
       "    <tr>\n",
       "      <th>4004</th>\n",
       "      <td>uwsihu0iu7</td>\n",
       "      <td>2011-04-03</td>\n",
       "      <td>20110403034456</td>\n",
       "      <td>2011-04-03</td>\n",
       "      <td>FEMALE</td>\n",
       "      <td>33.0</td>\n",
       "      <td>basic</td>\n",
       "      <td>3</td>\n",
       "      <td>en</td>\n",
       "      <td>direct</td>\n",
       "      <td>direct</td>\n",
       "      <td>untracked</td>\n",
       "      <td>Web</td>\n",
       "      <td>Windows Desktop</td>\n",
       "      <td>Chrome</td>\n",
       "      <td>US</td>\n",
       "    </tr>\n",
       "    <tr>\n",
       "      <th>190328</th>\n",
       "      <td>hqavekt5ez</td>\n",
       "      <td>2014-05-16</td>\n",
       "      <td>20140516190622</td>\n",
       "      <td>2014-05-16</td>\n",
       "      <td>-unknown-</td>\n",
       "      <td>NaN</td>\n",
       "      <td>basic</td>\n",
       "      <td>0</td>\n",
       "      <td>en</td>\n",
       "      <td>remarketing</td>\n",
       "      <td>google</td>\n",
       "      <td>omg</td>\n",
       "      <td>Web</td>\n",
       "      <td>Mac Desktop</td>\n",
       "      <td>Safari</td>\n",
       "      <td>CA</td>\n",
       "    </tr>\n",
       "  </tbody>\n",
       "</table>\n",
       "</div>"
      ],
      "text/plain": [
       "                id date_account_created  timestamp_first_active  \\\n",
       "195264  38gftsfy5r           2014-05-26          20140526231258   \n",
       "46891   bz9m5iyn3n           2012-11-01          20121101010341   \n",
       "177192  bwvogy9dps           2014-04-18          20140418043405   \n",
       "42436   8us2o6n3uy           2012-09-26          20120926014930   \n",
       "113721  s05tp53h3l           2013-10-02          20131002221553   \n",
       "33391   g1kj9a4eiv           2012-07-24          20120724012930   \n",
       "4004    uwsihu0iu7           2011-04-03          20110403034456   \n",
       "190328  hqavekt5ez           2014-05-16          20140516190622   \n",
       "\n",
       "       date_first_booking     gender   age signup_method  signup_flow  \\\n",
       "195264                NaN  -unknown-   NaN         basic            0   \n",
       "46891                 NaN  -unknown-   NaN         basic           12   \n",
       "177192                NaN  -unknown-   NaN         basic            0   \n",
       "42436                 NaN  -unknown-   NaN         basic            0   \n",
       "113721         2013-10-02  -unknown-  46.0         basic            0   \n",
       "33391          2012-07-24       MALE  52.0         basic            3   \n",
       "4004           2011-04-03     FEMALE  33.0         basic            3   \n",
       "190328         2014-05-16  -unknown-   NaN         basic            0   \n",
       "\n",
       "       language affiliate_channel affiliate_provider first_affiliate_tracked  \\\n",
       "195264       en            direct             direct               untracked   \n",
       "46891        en               api              other               untracked   \n",
       "177192       en            direct             direct               untracked   \n",
       "42436        en            direct             direct               untracked   \n",
       "113721       en     sem-non-brand             google               untracked   \n",
       "33391        en     sem-non-brand             google                     omg   \n",
       "4004         en            direct             direct               untracked   \n",
       "190328       en       remarketing             google                     omg   \n",
       "\n",
       "       signup_app first_device_type first_browser country_destination  \n",
       "195264        Web       Mac Desktop        Safari                 NDF  \n",
       "46891         iOS            iPhone     -unknown-                 NDF  \n",
       "177192        Web       Mac Desktop        Chrome                 NDF  \n",
       "42436         Web       Mac Desktop        Chrome                 NDF  \n",
       "113721        Web   Windows Desktop        Chrome                  US  \n",
       "33391         Web       Mac Desktop        Safari               other  \n",
       "4004          Web   Windows Desktop        Chrome                  US  \n",
       "190328        Web       Mac Desktop        Safari                  CA  "
      ]
     },
     "execution_count": 127,
     "metadata": {},
     "output_type": "execute_result"
    }
   ],
   "source": [
    "users.sample(8)"
   ]
  },
  {
   "cell_type": "code",
   "execution_count": 128,
   "metadata": {
    "slideshow": {
     "slide_type": "subslide"
    }
   },
   "outputs": [
    {
     "data": {
      "text/html": [
       "<div>\n",
       "<style scoped>\n",
       "    .dataframe tbody tr th:only-of-type {\n",
       "        vertical-align: middle;\n",
       "    }\n",
       "\n",
       "    .dataframe tbody tr th {\n",
       "        vertical-align: top;\n",
       "    }\n",
       "\n",
       "    .dataframe thead th {\n",
       "        text-align: right;\n",
       "    }\n",
       "</style>\n",
       "<table border=\"1\" class=\"dataframe\">\n",
       "  <thead>\n",
       "    <tr style=\"text-align: right;\">\n",
       "      <th></th>\n",
       "      <th>timestamp_first_active</th>\n",
       "      <th>age</th>\n",
       "      <th>signup_flow</th>\n",
       "    </tr>\n",
       "  </thead>\n",
       "  <tbody>\n",
       "    <tr>\n",
       "      <th>count</th>\n",
       "      <td>2.134510e+05</td>\n",
       "      <td>125461.000000</td>\n",
       "      <td>213451.000000</td>\n",
       "    </tr>\n",
       "    <tr>\n",
       "      <th>mean</th>\n",
       "      <td>2.013085e+13</td>\n",
       "      <td>49.668335</td>\n",
       "      <td>3.267387</td>\n",
       "    </tr>\n",
       "    <tr>\n",
       "      <th>std</th>\n",
       "      <td>9.253717e+09</td>\n",
       "      <td>155.666612</td>\n",
       "      <td>7.637707</td>\n",
       "    </tr>\n",
       "    <tr>\n",
       "      <th>min</th>\n",
       "      <td>2.009032e+13</td>\n",
       "      <td>1.000000</td>\n",
       "      <td>0.000000</td>\n",
       "    </tr>\n",
       "    <tr>\n",
       "      <th>25%</th>\n",
       "      <td>2.012123e+13</td>\n",
       "      <td>28.000000</td>\n",
       "      <td>0.000000</td>\n",
       "    </tr>\n",
       "    <tr>\n",
       "      <th>50%</th>\n",
       "      <td>2.013091e+13</td>\n",
       "      <td>34.000000</td>\n",
       "      <td>0.000000</td>\n",
       "    </tr>\n",
       "    <tr>\n",
       "      <th>75%</th>\n",
       "      <td>2.014031e+13</td>\n",
       "      <td>43.000000</td>\n",
       "      <td>0.000000</td>\n",
       "    </tr>\n",
       "    <tr>\n",
       "      <th>max</th>\n",
       "      <td>2.014063e+13</td>\n",
       "      <td>2014.000000</td>\n",
       "      <td>25.000000</td>\n",
       "    </tr>\n",
       "  </tbody>\n",
       "</table>\n",
       "</div>"
      ],
      "text/plain": [
       "       timestamp_first_active            age    signup_flow\n",
       "count            2.134510e+05  125461.000000  213451.000000\n",
       "mean             2.013085e+13      49.668335       3.267387\n",
       "std              9.253717e+09     155.666612       7.637707\n",
       "min              2.009032e+13       1.000000       0.000000\n",
       "25%              2.012123e+13      28.000000       0.000000\n",
       "50%              2.013091e+13      34.000000       0.000000\n",
       "75%              2.014031e+13      43.000000       0.000000\n",
       "max              2.014063e+13    2014.000000      25.000000"
      ]
     },
     "execution_count": 128,
     "metadata": {},
     "output_type": "execute_result"
    }
   ],
   "source": [
    "users.describe()"
   ]
  },
  {
   "cell_type": "code",
   "execution_count": 129,
   "metadata": {
    "slideshow": {
     "slide_type": "subslide"
    }
   },
   "outputs": [
    {
     "data": {
      "text/plain": [
       "(213451, 16)"
      ]
     },
     "execution_count": 129,
     "metadata": {},
     "output_type": "execute_result"
    }
   ],
   "source": [
    "users.shape"
   ]
  },
  {
   "cell_type": "code",
   "execution_count": 130,
   "metadata": {
    "slideshow": {
     "slide_type": "subslide"
    }
   },
   "outputs": [
    {
     "name": "stdout",
     "output_type": "stream",
     "text": [
      "<class 'pandas.core.frame.DataFrame'>\n",
      "RangeIndex: 213451 entries, 0 to 213450\n",
      "Data columns (total 16 columns):\n",
      " #   Column                   Non-Null Count   Dtype  \n",
      "---  ------                   --------------   -----  \n",
      " 0   id                       213451 non-null  object \n",
      " 1   date_account_created     213451 non-null  object \n",
      " 2   timestamp_first_active   213451 non-null  int64  \n",
      " 3   date_first_booking       88908 non-null   object \n",
      " 4   gender                   213451 non-null  object \n",
      " 5   age                      125461 non-null  float64\n",
      " 6   signup_method            213451 non-null  object \n",
      " 7   signup_flow              213451 non-null  int64  \n",
      " 8   language                 213451 non-null  object \n",
      " 9   affiliate_channel        213451 non-null  object \n",
      " 10  affiliate_provider       213451 non-null  object \n",
      " 11  first_affiliate_tracked  207386 non-null  object \n",
      " 12  signup_app               213451 non-null  object \n",
      " 13  first_device_type        213451 non-null  object \n",
      " 14  first_browser            213451 non-null  object \n",
      " 15  country_destination      213451 non-null  object \n",
      "dtypes: float64(1), int64(2), object(13)\n",
      "memory usage: 26.1+ MB\n"
     ]
    }
   ],
   "source": [
    "users.info()"
   ]
  },
  {
   "cell_type": "code",
   "execution_count": 131,
   "metadata": {
    "slideshow": {
     "slide_type": "subslide"
    }
   },
   "outputs": [
    {
     "data": {
      "text/plain": [
       "0     NaN\n",
       "1    38.0\n",
       "2    56.0\n",
       "3    42.0\n",
       "4    41.0\n",
       "5     NaN\n",
       "Name: age, dtype: float64"
      ]
     },
     "execution_count": 131,
     "metadata": {},
     "output_type": "execute_result"
    }
   ],
   "source": [
    "users.loc[0:5,\"age\"]"
   ]
  },
  {
   "cell_type": "code",
   "execution_count": 132,
   "metadata": {
    "slideshow": {
     "slide_type": "subslide"
    }
   },
   "outputs": [
    {
     "data": {
      "text/plain": [
       "id                             cheova4spt\n",
       "date_account_created           2010-01-14\n",
       "timestamp_first_active     20100114025257\n",
       "date_first_booking             2010-01-24\n",
       "gender                          -unknown-\n",
       "                                ...      \n",
       "first_affiliate_tracked         untracked\n",
       "signup_app                            Web\n",
       "first_device_type             Mac Desktop\n",
       "first_browser                     Firefox\n",
       "country_destination                    FR\n",
       "Name: 30, Length: 16, dtype: object"
      ]
     },
     "execution_count": 132,
     "metadata": {},
     "output_type": "execute_result"
    }
   ],
   "source": [
    "users.iloc[30]"
   ]
  },
  {
   "cell_type": "markdown",
   "metadata": {
    "slideshow": {
     "slide_type": "slide"
    }
   },
   "source": [
    "### 3.4.3 Data Cleaning"
   ]
  },
  {
   "cell_type": "markdown",
   "metadata": {
    "slideshow": {
     "slide_type": "slide"
    }
   },
   "source": [
    "### 3.4.3.1 Datetime Transformation"
   ]
  },
  {
   "cell_type": "code",
   "execution_count": 134,
   "metadata": {
    "slideshow": {
     "slide_type": "subslide"
    }
   },
   "outputs": [],
   "source": [
    "users[\"date_account_created\"] = pd.to_datetime(users[\"date_account_created\"])"
   ]
  },
  {
   "cell_type": "code",
   "execution_count": 137,
   "metadata": {
    "slideshow": {
     "slide_type": "fragment"
    }
   },
   "outputs": [
    {
     "data": {
      "text/plain": [
       "Timedelta('-331 days +00:00:00')"
      ]
     },
     "execution_count": 137,
     "metadata": {},
     "output_type": "execute_result"
    }
   ],
   "source": [
    "users.loc[0,\"date_account_created\"]-users.loc[1,\"date_account_created\"]"
   ]
  },
  {
   "cell_type": "code",
   "execution_count": 139,
   "metadata": {
    "slideshow": {
     "slide_type": "subslide"
    }
   },
   "outputs": [],
   "source": [
    "users[\"timestamp_first_active\"] = pd.to_datetime(users[\"timestamp_first_active\"],format=\"%Y%m%d%H%M%S\")"
   ]
  },
  {
   "cell_type": "code",
   "execution_count": 140,
   "metadata": {
    "slideshow": {
     "slide_type": "fragment"
    }
   },
   "outputs": [
    {
     "data": {
      "text/plain": [
       "Timestamp('2009-03-19 04:32:55')"
      ]
     },
     "execution_count": 140,
     "metadata": {},
     "output_type": "execute_result"
    }
   ],
   "source": [
    "users.loc[0,\"timestamp_first_active\"]"
   ]
  },
  {
   "cell_type": "code",
   "execution_count": null,
   "metadata": {
    "slideshow": {
     "slide_type": "fragment"
    }
   },
   "outputs": [],
   "source": [
    "users.loc[0,\"date_account_created\"]"
   ]
  },
  {
   "cell_type": "code",
   "execution_count": 141,
   "metadata": {
    "slideshow": {
     "slide_type": "fragment"
    }
   },
   "outputs": [
    {
     "data": {
      "text/plain": [
       "Timedelta('465 days 19:27:05')"
      ]
     },
     "execution_count": 141,
     "metadata": {},
     "output_type": "execute_result"
    }
   ],
   "source": [
    "users.loc[0,\"date_account_created\"]-users.loc[0,\"timestamp_first_active\"]"
   ]
  },
  {
   "cell_type": "markdown",
   "metadata": {
    "slideshow": {
     "slide_type": "slide"
    }
   },
   "source": [
    "#### 3.4.3.2 Handling the missing data"
   ]
  },
  {
   "cell_type": "code",
   "execution_count": 142,
   "metadata": {
    "slideshow": {
     "slide_type": "subslide"
    }
   },
   "outputs": [
    {
     "data": {
      "text/plain": [
       "1         38.0\n",
       "2         56.0\n",
       "3         42.0\n",
       "4         41.0\n",
       "6         46.0\n",
       "          ... \n",
       "213441    34.0\n",
       "213443    36.0\n",
       "213445    23.0\n",
       "213446    32.0\n",
       "213448    32.0\n",
       "Name: age, Length: 125461, dtype: float64"
      ]
     },
     "execution_count": 142,
     "metadata": {},
     "output_type": "execute_result"
    }
   ],
   "source": [
    "users[\"age\"].dropna()"
   ]
  },
  {
   "cell_type": "code",
   "execution_count": 143,
   "metadata": {
    "slideshow": {
     "slide_type": "subslide"
    }
   },
   "outputs": [
    {
     "data": {
      "text/plain": [
       "49.66833517985669"
      ]
     },
     "execution_count": 143,
     "metadata": {},
     "output_type": "execute_result"
    }
   ],
   "source": [
    "users[\"age\"].mean()"
   ]
  },
  {
   "cell_type": "code",
   "execution_count": 144,
   "metadata": {
    "slideshow": {
     "slide_type": "fragment"
    }
   },
   "outputs": [
    {
     "data": {
      "text/plain": [
       "0         49.668335\n",
       "1         38.000000\n",
       "2         56.000000\n",
       "3         42.000000\n",
       "4         41.000000\n",
       "            ...    \n",
       "213446    32.000000\n",
       "213447    49.668335\n",
       "213448    32.000000\n",
       "213449    49.668335\n",
       "213450    49.668335\n",
       "Name: age, Length: 213451, dtype: float64"
      ]
     },
     "execution_count": 144,
     "metadata": {},
     "output_type": "execute_result"
    }
   ],
   "source": [
    "users[\"age\"].fillna(users[\"age\"].mean())"
   ]
  },
  {
   "cell_type": "code",
   "execution_count": 145,
   "metadata": {
    "slideshow": {
     "slide_type": "slide"
    }
   },
   "outputs": [
    {
     "data": {
      "text/plain": [
       "34.0"
      ]
     },
     "execution_count": 145,
     "metadata": {},
     "output_type": "execute_result"
    }
   ],
   "source": [
    "users[\"age\"].median()"
   ]
  },
  {
   "cell_type": "code",
   "execution_count": 146,
   "metadata": {
    "slideshow": {
     "slide_type": "subslide"
    }
   },
   "outputs": [
    {
     "data": {
      "text/plain": [
       "0         34.0\n",
       "1         38.0\n",
       "2         56.0\n",
       "3         42.0\n",
       "4         41.0\n",
       "          ... \n",
       "213446    32.0\n",
       "213447    34.0\n",
       "213448    32.0\n",
       "213449    34.0\n",
       "213450    34.0\n",
       "Name: age, Length: 213451, dtype: float64"
      ]
     },
     "execution_count": 146,
     "metadata": {},
     "output_type": "execute_result"
    }
   ],
   "source": [
    "users[\"age\"].fillna(users[\"age\"].median())"
   ]
  },
  {
   "cell_type": "markdown",
   "metadata": {
    "slideshow": {
     "slide_type": "slide"
    }
   },
   "source": [
    "#### 3.4.3.3 Detecting and Filtering Outliers"
   ]
  },
  {
   "cell_type": "code",
   "execution_count": 147,
   "metadata": {
    "slideshow": {
     "slide_type": "subslide"
    }
   },
   "outputs": [
    {
     "name": "stderr",
     "output_type": "stream",
     "text": [
      "d:\\Users\\fan\\anaconda3\\lib\\site-packages\\seaborn\\distributions.py:2619: FutureWarning: `distplot` is a deprecated function and will be removed in a future version. Please adapt your code to use either `displot` (a figure-level function with similar flexibility) or `histplot` (an axes-level function for histograms).\n",
      "  warnings.warn(msg, FutureWarning)\n"
     ]
    },
    {
     "data": {
      "application/javascript": [
       "/* Put everything inside the global mpl namespace */\n",
       "/* global mpl */\n",
       "window.mpl = {};\n",
       "\n",
       "mpl.get_websocket_type = function () {\n",
       "    if (typeof WebSocket !== 'undefined') {\n",
       "        return WebSocket;\n",
       "    } else if (typeof MozWebSocket !== 'undefined') {\n",
       "        return MozWebSocket;\n",
       "    } else {\n",
       "        alert(\n",
       "            'Your browser does not have WebSocket support. ' +\n",
       "                'Please try Chrome, Safari or Firefox ≥ 6. ' +\n",
       "                'Firefox 4 and 5 are also supported but you ' +\n",
       "                'have to enable WebSockets in about:config.'\n",
       "        );\n",
       "    }\n",
       "};\n",
       "\n",
       "mpl.figure = function (figure_id, websocket, ondownload, parent_element) {\n",
       "    this.id = figure_id;\n",
       "\n",
       "    this.ws = websocket;\n",
       "\n",
       "    this.supports_binary = this.ws.binaryType !== undefined;\n",
       "\n",
       "    if (!this.supports_binary) {\n",
       "        var warnings = document.getElementById('mpl-warnings');\n",
       "        if (warnings) {\n",
       "            warnings.style.display = 'block';\n",
       "            warnings.textContent =\n",
       "                'This browser does not support binary websocket messages. ' +\n",
       "                'Performance may be slow.';\n",
       "        }\n",
       "    }\n",
       "\n",
       "    this.imageObj = new Image();\n",
       "\n",
       "    this.context = undefined;\n",
       "    this.message = undefined;\n",
       "    this.canvas = undefined;\n",
       "    this.rubberband_canvas = undefined;\n",
       "    this.rubberband_context = undefined;\n",
       "    this.format_dropdown = undefined;\n",
       "\n",
       "    this.image_mode = 'full';\n",
       "\n",
       "    this.root = document.createElement('div');\n",
       "    this.root.setAttribute('style', 'display: inline-block');\n",
       "    this._root_extra_style(this.root);\n",
       "\n",
       "    parent_element.appendChild(this.root);\n",
       "\n",
       "    this._init_header(this);\n",
       "    this._init_canvas(this);\n",
       "    this._init_toolbar(this);\n",
       "\n",
       "    var fig = this;\n",
       "\n",
       "    this.waiting = false;\n",
       "\n",
       "    this.ws.onopen = function () {\n",
       "        fig.send_message('supports_binary', { value: fig.supports_binary });\n",
       "        fig.send_message('send_image_mode', {});\n",
       "        if (fig.ratio !== 1) {\n",
       "            fig.send_message('set_dpi_ratio', { dpi_ratio: fig.ratio });\n",
       "        }\n",
       "        fig.send_message('refresh', {});\n",
       "    };\n",
       "\n",
       "    this.imageObj.onload = function () {\n",
       "        if (fig.image_mode === 'full') {\n",
       "            // Full images could contain transparency (where diff images\n",
       "            // almost always do), so we need to clear the canvas so that\n",
       "            // there is no ghosting.\n",
       "            fig.context.clearRect(0, 0, fig.canvas.width, fig.canvas.height);\n",
       "        }\n",
       "        fig.context.drawImage(fig.imageObj, 0, 0);\n",
       "    };\n",
       "\n",
       "    this.imageObj.onunload = function () {\n",
       "        fig.ws.close();\n",
       "    };\n",
       "\n",
       "    this.ws.onmessage = this._make_on_message_function(this);\n",
       "\n",
       "    this.ondownload = ondownload;\n",
       "};\n",
       "\n",
       "mpl.figure.prototype._init_header = function () {\n",
       "    var titlebar = document.createElement('div');\n",
       "    titlebar.classList =\n",
       "        'ui-dialog-titlebar ui-widget-header ui-corner-all ui-helper-clearfix';\n",
       "    var titletext = document.createElement('div');\n",
       "    titletext.classList = 'ui-dialog-title';\n",
       "    titletext.setAttribute(\n",
       "        'style',\n",
       "        'width: 100%; text-align: center; padding: 3px;'\n",
       "    );\n",
       "    titlebar.appendChild(titletext);\n",
       "    this.root.appendChild(titlebar);\n",
       "    this.header = titletext;\n",
       "};\n",
       "\n",
       "mpl.figure.prototype._canvas_extra_style = function (_canvas_div) {};\n",
       "\n",
       "mpl.figure.prototype._root_extra_style = function (_canvas_div) {};\n",
       "\n",
       "mpl.figure.prototype._init_canvas = function () {\n",
       "    var fig = this;\n",
       "\n",
       "    var canvas_div = (this.canvas_div = document.createElement('div'));\n",
       "    canvas_div.setAttribute(\n",
       "        'style',\n",
       "        'border: 1px solid #ddd;' +\n",
       "            'box-sizing: content-box;' +\n",
       "            'clear: both;' +\n",
       "            'min-height: 1px;' +\n",
       "            'min-width: 1px;' +\n",
       "            'outline: 0;' +\n",
       "            'overflow: hidden;' +\n",
       "            'position: relative;' +\n",
       "            'resize: both;'\n",
       "    );\n",
       "\n",
       "    function on_keyboard_event_closure(name) {\n",
       "        return function (event) {\n",
       "            return fig.key_event(event, name);\n",
       "        };\n",
       "    }\n",
       "\n",
       "    canvas_div.addEventListener(\n",
       "        'keydown',\n",
       "        on_keyboard_event_closure('key_press')\n",
       "    );\n",
       "    canvas_div.addEventListener(\n",
       "        'keyup',\n",
       "        on_keyboard_event_closure('key_release')\n",
       "    );\n",
       "\n",
       "    this._canvas_extra_style(canvas_div);\n",
       "    this.root.appendChild(canvas_div);\n",
       "\n",
       "    var canvas = (this.canvas = document.createElement('canvas'));\n",
       "    canvas.classList.add('mpl-canvas');\n",
       "    canvas.setAttribute('style', 'box-sizing: content-box;');\n",
       "\n",
       "    this.context = canvas.getContext('2d');\n",
       "\n",
       "    var backingStore =\n",
       "        this.context.backingStorePixelRatio ||\n",
       "        this.context.webkitBackingStorePixelRatio ||\n",
       "        this.context.mozBackingStorePixelRatio ||\n",
       "        this.context.msBackingStorePixelRatio ||\n",
       "        this.context.oBackingStorePixelRatio ||\n",
       "        this.context.backingStorePixelRatio ||\n",
       "        1;\n",
       "\n",
       "    this.ratio = (window.devicePixelRatio || 1) / backingStore;\n",
       "\n",
       "    var rubberband_canvas = (this.rubberband_canvas = document.createElement(\n",
       "        'canvas'\n",
       "    ));\n",
       "    rubberband_canvas.setAttribute(\n",
       "        'style',\n",
       "        'box-sizing: content-box; position: absolute; left: 0; top: 0; z-index: 1;'\n",
       "    );\n",
       "\n",
       "    // Apply a ponyfill if ResizeObserver is not implemented by browser.\n",
       "    if (this.ResizeObserver === undefined) {\n",
       "        if (window.ResizeObserver !== undefined) {\n",
       "            this.ResizeObserver = window.ResizeObserver;\n",
       "        } else {\n",
       "            var obs = _JSXTOOLS_RESIZE_OBSERVER({});\n",
       "            this.ResizeObserver = obs.ResizeObserver;\n",
       "        }\n",
       "    }\n",
       "\n",
       "    this.resizeObserverInstance = new this.ResizeObserver(function (entries) {\n",
       "        var nentries = entries.length;\n",
       "        for (var i = 0; i < nentries; i++) {\n",
       "            var entry = entries[i];\n",
       "            var width, height;\n",
       "            if (entry.contentBoxSize) {\n",
       "                if (entry.contentBoxSize instanceof Array) {\n",
       "                    // Chrome 84 implements new version of spec.\n",
       "                    width = entry.contentBoxSize[0].inlineSize;\n",
       "                    height = entry.contentBoxSize[0].blockSize;\n",
       "                } else {\n",
       "                    // Firefox implements old version of spec.\n",
       "                    width = entry.contentBoxSize.inlineSize;\n",
       "                    height = entry.contentBoxSize.blockSize;\n",
       "                }\n",
       "            } else {\n",
       "                // Chrome <84 implements even older version of spec.\n",
       "                width = entry.contentRect.width;\n",
       "                height = entry.contentRect.height;\n",
       "            }\n",
       "\n",
       "            // Keep the size of the canvas and rubber band canvas in sync with\n",
       "            // the canvas container.\n",
       "            if (entry.devicePixelContentBoxSize) {\n",
       "                // Chrome 84 implements new version of spec.\n",
       "                canvas.setAttribute(\n",
       "                    'width',\n",
       "                    entry.devicePixelContentBoxSize[0].inlineSize\n",
       "                );\n",
       "                canvas.setAttribute(\n",
       "                    'height',\n",
       "                    entry.devicePixelContentBoxSize[0].blockSize\n",
       "                );\n",
       "            } else {\n",
       "                canvas.setAttribute('width', width * fig.ratio);\n",
       "                canvas.setAttribute('height', height * fig.ratio);\n",
       "            }\n",
       "            canvas.setAttribute(\n",
       "                'style',\n",
       "                'width: ' + width + 'px; height: ' + height + 'px;'\n",
       "            );\n",
       "\n",
       "            rubberband_canvas.setAttribute('width', width);\n",
       "            rubberband_canvas.setAttribute('height', height);\n",
       "\n",
       "            // And update the size in Python. We ignore the initial 0/0 size\n",
       "            // that occurs as the element is placed into the DOM, which should\n",
       "            // otherwise not happen due to the minimum size styling.\n",
       "            if (fig.ws.readyState == 1 && width != 0 && height != 0) {\n",
       "                fig.request_resize(width, height);\n",
       "            }\n",
       "        }\n",
       "    });\n",
       "    this.resizeObserverInstance.observe(canvas_div);\n",
       "\n",
       "    function on_mouse_event_closure(name) {\n",
       "        return function (event) {\n",
       "            return fig.mouse_event(event, name);\n",
       "        };\n",
       "    }\n",
       "\n",
       "    rubberband_canvas.addEventListener(\n",
       "        'mousedown',\n",
       "        on_mouse_event_closure('button_press')\n",
       "    );\n",
       "    rubberband_canvas.addEventListener(\n",
       "        'mouseup',\n",
       "        on_mouse_event_closure('button_release')\n",
       "    );\n",
       "    rubberband_canvas.addEventListener(\n",
       "        'dblclick',\n",
       "        on_mouse_event_closure('dblclick')\n",
       "    );\n",
       "    // Throttle sequential mouse events to 1 every 20ms.\n",
       "    rubberband_canvas.addEventListener(\n",
       "        'mousemove',\n",
       "        on_mouse_event_closure('motion_notify')\n",
       "    );\n",
       "\n",
       "    rubberband_canvas.addEventListener(\n",
       "        'mouseenter',\n",
       "        on_mouse_event_closure('figure_enter')\n",
       "    );\n",
       "    rubberband_canvas.addEventListener(\n",
       "        'mouseleave',\n",
       "        on_mouse_event_closure('figure_leave')\n",
       "    );\n",
       "\n",
       "    canvas_div.addEventListener('wheel', function (event) {\n",
       "        if (event.deltaY < 0) {\n",
       "            event.step = 1;\n",
       "        } else {\n",
       "            event.step = -1;\n",
       "        }\n",
       "        on_mouse_event_closure('scroll')(event);\n",
       "    });\n",
       "\n",
       "    canvas_div.appendChild(canvas);\n",
       "    canvas_div.appendChild(rubberband_canvas);\n",
       "\n",
       "    this.rubberband_context = rubberband_canvas.getContext('2d');\n",
       "    this.rubberband_context.strokeStyle = '#000000';\n",
       "\n",
       "    this._resize_canvas = function (width, height, forward) {\n",
       "        if (forward) {\n",
       "            canvas_div.style.width = width + 'px';\n",
       "            canvas_div.style.height = height + 'px';\n",
       "        }\n",
       "    };\n",
       "\n",
       "    // Disable right mouse context menu.\n",
       "    this.rubberband_canvas.addEventListener('contextmenu', function (_e) {\n",
       "        event.preventDefault();\n",
       "        return false;\n",
       "    });\n",
       "\n",
       "    function set_focus() {\n",
       "        canvas.focus();\n",
       "        canvas_div.focus();\n",
       "    }\n",
       "\n",
       "    window.setTimeout(set_focus, 100);\n",
       "};\n",
       "\n",
       "mpl.figure.prototype._init_toolbar = function () {\n",
       "    var fig = this;\n",
       "\n",
       "    var toolbar = document.createElement('div');\n",
       "    toolbar.classList = 'mpl-toolbar';\n",
       "    this.root.appendChild(toolbar);\n",
       "\n",
       "    function on_click_closure(name) {\n",
       "        return function (_event) {\n",
       "            return fig.toolbar_button_onclick(name);\n",
       "        };\n",
       "    }\n",
       "\n",
       "    function on_mouseover_closure(tooltip) {\n",
       "        return function (event) {\n",
       "            if (!event.currentTarget.disabled) {\n",
       "                return fig.toolbar_button_onmouseover(tooltip);\n",
       "            }\n",
       "        };\n",
       "    }\n",
       "\n",
       "    fig.buttons = {};\n",
       "    var buttonGroup = document.createElement('div');\n",
       "    buttonGroup.classList = 'mpl-button-group';\n",
       "    for (var toolbar_ind in mpl.toolbar_items) {\n",
       "        var name = mpl.toolbar_items[toolbar_ind][0];\n",
       "        var tooltip = mpl.toolbar_items[toolbar_ind][1];\n",
       "        var image = mpl.toolbar_items[toolbar_ind][2];\n",
       "        var method_name = mpl.toolbar_items[toolbar_ind][3];\n",
       "\n",
       "        if (!name) {\n",
       "            /* Instead of a spacer, we start a new button group. */\n",
       "            if (buttonGroup.hasChildNodes()) {\n",
       "                toolbar.appendChild(buttonGroup);\n",
       "            }\n",
       "            buttonGroup = document.createElement('div');\n",
       "            buttonGroup.classList = 'mpl-button-group';\n",
       "            continue;\n",
       "        }\n",
       "\n",
       "        var button = (fig.buttons[name] = document.createElement('button'));\n",
       "        button.classList = 'mpl-widget';\n",
       "        button.setAttribute('role', 'button');\n",
       "        button.setAttribute('aria-disabled', 'false');\n",
       "        button.addEventListener('click', on_click_closure(method_name));\n",
       "        button.addEventListener('mouseover', on_mouseover_closure(tooltip));\n",
       "\n",
       "        var icon_img = document.createElement('img');\n",
       "        icon_img.src = '_images/' + image + '.png';\n",
       "        icon_img.srcset = '_images/' + image + '_large.png 2x';\n",
       "        icon_img.alt = tooltip;\n",
       "        button.appendChild(icon_img);\n",
       "\n",
       "        buttonGroup.appendChild(button);\n",
       "    }\n",
       "\n",
       "    if (buttonGroup.hasChildNodes()) {\n",
       "        toolbar.appendChild(buttonGroup);\n",
       "    }\n",
       "\n",
       "    var fmt_picker = document.createElement('select');\n",
       "    fmt_picker.classList = 'mpl-widget';\n",
       "    toolbar.appendChild(fmt_picker);\n",
       "    this.format_dropdown = fmt_picker;\n",
       "\n",
       "    for (var ind in mpl.extensions) {\n",
       "        var fmt = mpl.extensions[ind];\n",
       "        var option = document.createElement('option');\n",
       "        option.selected = fmt === mpl.default_extension;\n",
       "        option.innerHTML = fmt;\n",
       "        fmt_picker.appendChild(option);\n",
       "    }\n",
       "\n",
       "    var status_bar = document.createElement('span');\n",
       "    status_bar.classList = 'mpl-message';\n",
       "    toolbar.appendChild(status_bar);\n",
       "    this.message = status_bar;\n",
       "};\n",
       "\n",
       "mpl.figure.prototype.request_resize = function (x_pixels, y_pixels) {\n",
       "    // Request matplotlib to resize the figure. Matplotlib will then trigger a resize in the client,\n",
       "    // which will in turn request a refresh of the image.\n",
       "    this.send_message('resize', { width: x_pixels, height: y_pixels });\n",
       "};\n",
       "\n",
       "mpl.figure.prototype.send_message = function (type, properties) {\n",
       "    properties['type'] = type;\n",
       "    properties['figure_id'] = this.id;\n",
       "    this.ws.send(JSON.stringify(properties));\n",
       "};\n",
       "\n",
       "mpl.figure.prototype.send_draw_message = function () {\n",
       "    if (!this.waiting) {\n",
       "        this.waiting = true;\n",
       "        this.ws.send(JSON.stringify({ type: 'draw', figure_id: this.id }));\n",
       "    }\n",
       "};\n",
       "\n",
       "mpl.figure.prototype.handle_save = function (fig, _msg) {\n",
       "    var format_dropdown = fig.format_dropdown;\n",
       "    var format = format_dropdown.options[format_dropdown.selectedIndex].value;\n",
       "    fig.ondownload(fig, format);\n",
       "};\n",
       "\n",
       "mpl.figure.prototype.handle_resize = function (fig, msg) {\n",
       "    var size = msg['size'];\n",
       "    if (size[0] !== fig.canvas.width || size[1] !== fig.canvas.height) {\n",
       "        fig._resize_canvas(size[0], size[1], msg['forward']);\n",
       "        fig.send_message('refresh', {});\n",
       "    }\n",
       "};\n",
       "\n",
       "mpl.figure.prototype.handle_rubberband = function (fig, msg) {\n",
       "    var x0 = msg['x0'] / fig.ratio;\n",
       "    var y0 = (fig.canvas.height - msg['y0']) / fig.ratio;\n",
       "    var x1 = msg['x1'] / fig.ratio;\n",
       "    var y1 = (fig.canvas.height - msg['y1']) / fig.ratio;\n",
       "    x0 = Math.floor(x0) + 0.5;\n",
       "    y0 = Math.floor(y0) + 0.5;\n",
       "    x1 = Math.floor(x1) + 0.5;\n",
       "    y1 = Math.floor(y1) + 0.5;\n",
       "    var min_x = Math.min(x0, x1);\n",
       "    var min_y = Math.min(y0, y1);\n",
       "    var width = Math.abs(x1 - x0);\n",
       "    var height = Math.abs(y1 - y0);\n",
       "\n",
       "    fig.rubberband_context.clearRect(\n",
       "        0,\n",
       "        0,\n",
       "        fig.canvas.width / fig.ratio,\n",
       "        fig.canvas.height / fig.ratio\n",
       "    );\n",
       "\n",
       "    fig.rubberband_context.strokeRect(min_x, min_y, width, height);\n",
       "};\n",
       "\n",
       "mpl.figure.prototype.handle_figure_label = function (fig, msg) {\n",
       "    // Updates the figure title.\n",
       "    fig.header.textContent = msg['label'];\n",
       "};\n",
       "\n",
       "mpl.figure.prototype.handle_cursor = function (fig, msg) {\n",
       "    var cursor = msg['cursor'];\n",
       "    switch (cursor) {\n",
       "        case 0:\n",
       "            cursor = 'pointer';\n",
       "            break;\n",
       "        case 1:\n",
       "            cursor = 'default';\n",
       "            break;\n",
       "        case 2:\n",
       "            cursor = 'crosshair';\n",
       "            break;\n",
       "        case 3:\n",
       "            cursor = 'move';\n",
       "            break;\n",
       "    }\n",
       "    fig.rubberband_canvas.style.cursor = cursor;\n",
       "};\n",
       "\n",
       "mpl.figure.prototype.handle_message = function (fig, msg) {\n",
       "    fig.message.textContent = msg['message'];\n",
       "};\n",
       "\n",
       "mpl.figure.prototype.handle_draw = function (fig, _msg) {\n",
       "    // Request the server to send over a new figure.\n",
       "    fig.send_draw_message();\n",
       "};\n",
       "\n",
       "mpl.figure.prototype.handle_image_mode = function (fig, msg) {\n",
       "    fig.image_mode = msg['mode'];\n",
       "};\n",
       "\n",
       "mpl.figure.prototype.handle_history_buttons = function (fig, msg) {\n",
       "    for (var key in msg) {\n",
       "        if (!(key in fig.buttons)) {\n",
       "            continue;\n",
       "        }\n",
       "        fig.buttons[key].disabled = !msg[key];\n",
       "        fig.buttons[key].setAttribute('aria-disabled', !msg[key]);\n",
       "    }\n",
       "};\n",
       "\n",
       "mpl.figure.prototype.handle_navigate_mode = function (fig, msg) {\n",
       "    if (msg['mode'] === 'PAN') {\n",
       "        fig.buttons['Pan'].classList.add('active');\n",
       "        fig.buttons['Zoom'].classList.remove('active');\n",
       "    } else if (msg['mode'] === 'ZOOM') {\n",
       "        fig.buttons['Pan'].classList.remove('active');\n",
       "        fig.buttons['Zoom'].classList.add('active');\n",
       "    } else {\n",
       "        fig.buttons['Pan'].classList.remove('active');\n",
       "        fig.buttons['Zoom'].classList.remove('active');\n",
       "    }\n",
       "};\n",
       "\n",
       "mpl.figure.prototype.updated_canvas_event = function () {\n",
       "    // Called whenever the canvas gets updated.\n",
       "    this.send_message('ack', {});\n",
       "};\n",
       "\n",
       "// A function to construct a web socket function for onmessage handling.\n",
       "// Called in the figure constructor.\n",
       "mpl.figure.prototype._make_on_message_function = function (fig) {\n",
       "    return function socket_on_message(evt) {\n",
       "        if (evt.data instanceof Blob) {\n",
       "            var img = evt.data;\n",
       "            if (img.type !== 'image/png') {\n",
       "                /* FIXME: We get \"Resource interpreted as Image but\n",
       "                 * transferred with MIME type text/plain:\" errors on\n",
       "                 * Chrome.  But how to set the MIME type?  It doesn't seem\n",
       "                 * to be part of the websocket stream */\n",
       "                img.type = 'image/png';\n",
       "            }\n",
       "\n",
       "            /* Free the memory for the previous frames */\n",
       "            if (fig.imageObj.src) {\n",
       "                (window.URL || window.webkitURL).revokeObjectURL(\n",
       "                    fig.imageObj.src\n",
       "                );\n",
       "            }\n",
       "\n",
       "            fig.imageObj.src = (window.URL || window.webkitURL).createObjectURL(\n",
       "                img\n",
       "            );\n",
       "            fig.updated_canvas_event();\n",
       "            fig.waiting = false;\n",
       "            return;\n",
       "        } else if (\n",
       "            typeof evt.data === 'string' &&\n",
       "            evt.data.slice(0, 21) === 'data:image/png;base64'\n",
       "        ) {\n",
       "            fig.imageObj.src = evt.data;\n",
       "            fig.updated_canvas_event();\n",
       "            fig.waiting = false;\n",
       "            return;\n",
       "        }\n",
       "\n",
       "        var msg = JSON.parse(evt.data);\n",
       "        var msg_type = msg['type'];\n",
       "\n",
       "        // Call the  \"handle_{type}\" callback, which takes\n",
       "        // the figure and JSON message as its only arguments.\n",
       "        try {\n",
       "            var callback = fig['handle_' + msg_type];\n",
       "        } catch (e) {\n",
       "            console.log(\n",
       "                \"No handler for the '\" + msg_type + \"' message type: \",\n",
       "                msg\n",
       "            );\n",
       "            return;\n",
       "        }\n",
       "\n",
       "        if (callback) {\n",
       "            try {\n",
       "                // console.log(\"Handling '\" + msg_type + \"' message: \", msg);\n",
       "                callback(fig, msg);\n",
       "            } catch (e) {\n",
       "                console.log(\n",
       "                    \"Exception inside the 'handler_\" + msg_type + \"' callback:\",\n",
       "                    e,\n",
       "                    e.stack,\n",
       "                    msg\n",
       "                );\n",
       "            }\n",
       "        }\n",
       "    };\n",
       "};\n",
       "\n",
       "// from http://stackoverflow.com/questions/1114465/getting-mouse-location-in-canvas\n",
       "mpl.findpos = function (e) {\n",
       "    //this section is from http://www.quirksmode.org/js/events_properties.html\n",
       "    var targ;\n",
       "    if (!e) {\n",
       "        e = window.event;\n",
       "    }\n",
       "    if (e.target) {\n",
       "        targ = e.target;\n",
       "    } else if (e.srcElement) {\n",
       "        targ = e.srcElement;\n",
       "    }\n",
       "    if (targ.nodeType === 3) {\n",
       "        // defeat Safari bug\n",
       "        targ = targ.parentNode;\n",
       "    }\n",
       "\n",
       "    // pageX,Y are the mouse positions relative to the document\n",
       "    var boundingRect = targ.getBoundingClientRect();\n",
       "    var x = e.pageX - (boundingRect.left + document.body.scrollLeft);\n",
       "    var y = e.pageY - (boundingRect.top + document.body.scrollTop);\n",
       "\n",
       "    return { x: x, y: y };\n",
       "};\n",
       "\n",
       "/*\n",
       " * return a copy of an object with only non-object keys\n",
       " * we need this to avoid circular references\n",
       " * http://stackoverflow.com/a/24161582/3208463\n",
       " */\n",
       "function simpleKeys(original) {\n",
       "    return Object.keys(original).reduce(function (obj, key) {\n",
       "        if (typeof original[key] !== 'object') {\n",
       "            obj[key] = original[key];\n",
       "        }\n",
       "        return obj;\n",
       "    }, {});\n",
       "}\n",
       "\n",
       "mpl.figure.prototype.mouse_event = function (event, name) {\n",
       "    var canvas_pos = mpl.findpos(event);\n",
       "\n",
       "    if (name === 'button_press') {\n",
       "        this.canvas.focus();\n",
       "        this.canvas_div.focus();\n",
       "    }\n",
       "\n",
       "    var x = canvas_pos.x * this.ratio;\n",
       "    var y = canvas_pos.y * this.ratio;\n",
       "\n",
       "    this.send_message(name, {\n",
       "        x: x,\n",
       "        y: y,\n",
       "        button: event.button,\n",
       "        step: event.step,\n",
       "        guiEvent: simpleKeys(event),\n",
       "    });\n",
       "\n",
       "    /* This prevents the web browser from automatically changing to\n",
       "     * the text insertion cursor when the button is pressed.  We want\n",
       "     * to control all of the cursor setting manually through the\n",
       "     * 'cursor' event from matplotlib */\n",
       "    event.preventDefault();\n",
       "    return false;\n",
       "};\n",
       "\n",
       "mpl.figure.prototype._key_event_extra = function (_event, _name) {\n",
       "    // Handle any extra behaviour associated with a key event\n",
       "};\n",
       "\n",
       "mpl.figure.prototype.key_event = function (event, name) {\n",
       "    // Prevent repeat events\n",
       "    if (name === 'key_press') {\n",
       "        if (event.key === this._key) {\n",
       "            return;\n",
       "        } else {\n",
       "            this._key = event.key;\n",
       "        }\n",
       "    }\n",
       "    if (name === 'key_release') {\n",
       "        this._key = null;\n",
       "    }\n",
       "\n",
       "    var value = '';\n",
       "    if (event.ctrlKey && event.key !== 'Control') {\n",
       "        value += 'ctrl+';\n",
       "    }\n",
       "    else if (event.altKey && event.key !== 'Alt') {\n",
       "        value += 'alt+';\n",
       "    }\n",
       "    else if (event.shiftKey && event.key !== 'Shift') {\n",
       "        value += 'shift+';\n",
       "    }\n",
       "\n",
       "    value += 'k' + event.key;\n",
       "\n",
       "    this._key_event_extra(event, name);\n",
       "\n",
       "    this.send_message(name, { key: value, guiEvent: simpleKeys(event) });\n",
       "    return false;\n",
       "};\n",
       "\n",
       "mpl.figure.prototype.toolbar_button_onclick = function (name) {\n",
       "    if (name === 'download') {\n",
       "        this.handle_save(this, null);\n",
       "    } else {\n",
       "        this.send_message('toolbar_button', { name: name });\n",
       "    }\n",
       "};\n",
       "\n",
       "mpl.figure.prototype.toolbar_button_onmouseover = function (tooltip) {\n",
       "    this.message.textContent = tooltip;\n",
       "};\n",
       "\n",
       "///////////////// REMAINING CONTENT GENERATED BY embed_js.py /////////////////\n",
       "// prettier-ignore\n",
       "var _JSXTOOLS_RESIZE_OBSERVER=function(A){var t,i=new WeakMap,n=new WeakMap,a=new WeakMap,r=new WeakMap,o=new Set;function s(e){if(!(this instanceof s))throw new TypeError(\"Constructor requires 'new' operator\");i.set(this,e)}function h(){throw new TypeError(\"Function is not a constructor\")}function c(e,t,i,n){e=0 in arguments?Number(arguments[0]):0,t=1 in arguments?Number(arguments[1]):0,i=2 in arguments?Number(arguments[2]):0,n=3 in arguments?Number(arguments[3]):0,this.right=(this.x=this.left=e)+(this.width=i),this.bottom=(this.y=this.top=t)+(this.height=n),Object.freeze(this)}function d(){t=requestAnimationFrame(d);var s=new WeakMap,p=new Set;o.forEach((function(t){r.get(t).forEach((function(i){var r=t instanceof window.SVGElement,o=a.get(t),d=r?0:parseFloat(o.paddingTop),f=r?0:parseFloat(o.paddingRight),l=r?0:parseFloat(o.paddingBottom),u=r?0:parseFloat(o.paddingLeft),g=r?0:parseFloat(o.borderTopWidth),m=r?0:parseFloat(o.borderRightWidth),w=r?0:parseFloat(o.borderBottomWidth),b=u+f,F=d+l,v=(r?0:parseFloat(o.borderLeftWidth))+m,W=g+w,y=r?0:t.offsetHeight-W-t.clientHeight,E=r?0:t.offsetWidth-v-t.clientWidth,R=b+v,z=F+W,M=r?t.width:parseFloat(o.width)-R-E,O=r?t.height:parseFloat(o.height)-z-y;if(n.has(t)){var k=n.get(t);if(k[0]===M&&k[1]===O)return}n.set(t,[M,O]);var S=Object.create(h.prototype);S.target=t,S.contentRect=new c(u,d,M,O),s.has(i)||(s.set(i,[]),p.add(i)),s.get(i).push(S)}))})),p.forEach((function(e){i.get(e).call(e,s.get(e),e)}))}return s.prototype.observe=function(i){if(i instanceof window.Element){r.has(i)||(r.set(i,new Set),o.add(i),a.set(i,window.getComputedStyle(i)));var n=r.get(i);n.has(this)||n.add(this),cancelAnimationFrame(t),t=requestAnimationFrame(d)}},s.prototype.unobserve=function(i){if(i instanceof window.Element&&r.has(i)){var n=r.get(i);n.has(this)&&(n.delete(this),n.size||(r.delete(i),o.delete(i))),n.size||r.delete(i),o.size||cancelAnimationFrame(t)}},A.DOMRectReadOnly=c,A.ResizeObserver=s,A.ResizeObserverEntry=h,A}; // eslint-disable-line\n",
       "mpl.toolbar_items = [[\"Home\", \"Reset original view\", \"fa fa-home icon-home\", \"home\"], [\"Back\", \"Back to previous view\", \"fa fa-arrow-left icon-arrow-left\", \"back\"], [\"Forward\", \"Forward to next view\", \"fa fa-arrow-right icon-arrow-right\", \"forward\"], [\"\", \"\", \"\", \"\"], [\"Pan\", \"Left button pans, Right button zooms\\nx/y fixes axis, CTRL fixes aspect\", \"fa fa-arrows icon-move\", \"pan\"], [\"Zoom\", \"Zoom to rectangle\\nx/y fixes axis, CTRL fixes aspect\", \"fa fa-square-o icon-check-empty\", \"zoom\"], [\"\", \"\", \"\", \"\"], [\"Download\", \"Download plot\", \"fa fa-floppy-o icon-save\", \"download\"]];\n",
       "\n",
       "mpl.extensions = [\"eps\", \"jpeg\", \"pgf\", \"pdf\", \"png\", \"ps\", \"raw\", \"svg\", \"tif\"];\n",
       "\n",
       "mpl.default_extension = \"png\";/* global mpl */\n",
       "\n",
       "var comm_websocket_adapter = function (comm) {\n",
       "    // Create a \"websocket\"-like object which calls the given IPython comm\n",
       "    // object with the appropriate methods. Currently this is a non binary\n",
       "    // socket, so there is still some room for performance tuning.\n",
       "    var ws = {};\n",
       "\n",
       "    ws.binaryType = comm.kernel.ws.binaryType;\n",
       "    ws.readyState = comm.kernel.ws.readyState;\n",
       "    function updateReadyState(_event) {\n",
       "        if (comm.kernel.ws) {\n",
       "            ws.readyState = comm.kernel.ws.readyState;\n",
       "        } else {\n",
       "            ws.readyState = 3; // Closed state.\n",
       "        }\n",
       "    }\n",
       "    comm.kernel.ws.addEventListener('open', updateReadyState);\n",
       "    comm.kernel.ws.addEventListener('close', updateReadyState);\n",
       "    comm.kernel.ws.addEventListener('error', updateReadyState);\n",
       "\n",
       "    ws.close = function () {\n",
       "        comm.close();\n",
       "    };\n",
       "    ws.send = function (m) {\n",
       "        //console.log('sending', m);\n",
       "        comm.send(m);\n",
       "    };\n",
       "    // Register the callback with on_msg.\n",
       "    comm.on_msg(function (msg) {\n",
       "        //console.log('receiving', msg['content']['data'], msg);\n",
       "        var data = msg['content']['data'];\n",
       "        if (data['blob'] !== undefined) {\n",
       "            data = {\n",
       "                data: new Blob(msg['buffers'], { type: data['blob'] }),\n",
       "            };\n",
       "        }\n",
       "        // Pass the mpl event to the overridden (by mpl) onmessage function.\n",
       "        ws.onmessage(data);\n",
       "    });\n",
       "    return ws;\n",
       "};\n",
       "\n",
       "mpl.mpl_figure_comm = function (comm, msg) {\n",
       "    // This is the function which gets called when the mpl process\n",
       "    // starts-up an IPython Comm through the \"matplotlib\" channel.\n",
       "\n",
       "    var id = msg.content.data.id;\n",
       "    // Get hold of the div created by the display call when the Comm\n",
       "    // socket was opened in Python.\n",
       "    var element = document.getElementById(id);\n",
       "    var ws_proxy = comm_websocket_adapter(comm);\n",
       "\n",
       "    function ondownload(figure, _format) {\n",
       "        window.open(figure.canvas.toDataURL());\n",
       "    }\n",
       "\n",
       "    var fig = new mpl.figure(id, ws_proxy, ondownload, element);\n",
       "\n",
       "    // Call onopen now - mpl needs it, as it is assuming we've passed it a real\n",
       "    // web socket which is closed, not our websocket->open comm proxy.\n",
       "    ws_proxy.onopen();\n",
       "\n",
       "    fig.parent_element = element;\n",
       "    fig.cell_info = mpl.find_output_cell(\"<div id='\" + id + \"'></div>\");\n",
       "    if (!fig.cell_info) {\n",
       "        console.error('Failed to find cell for figure', id, fig);\n",
       "        return;\n",
       "    }\n",
       "    fig.cell_info[0].output_area.element.on(\n",
       "        'cleared',\n",
       "        { fig: fig },\n",
       "        fig._remove_fig_handler\n",
       "    );\n",
       "};\n",
       "\n",
       "mpl.figure.prototype.handle_close = function (fig, msg) {\n",
       "    var width = fig.canvas.width / fig.ratio;\n",
       "    fig.cell_info[0].output_area.element.off(\n",
       "        'cleared',\n",
       "        fig._remove_fig_handler\n",
       "    );\n",
       "    fig.resizeObserverInstance.unobserve(fig.canvas_div);\n",
       "\n",
       "    // Update the output cell to use the data from the current canvas.\n",
       "    fig.push_to_output();\n",
       "    var dataURL = fig.canvas.toDataURL();\n",
       "    // Re-enable the keyboard manager in IPython - without this line, in FF,\n",
       "    // the notebook keyboard shortcuts fail.\n",
       "    IPython.keyboard_manager.enable();\n",
       "    fig.parent_element.innerHTML =\n",
       "        '<img src=\"' + dataURL + '\" width=\"' + width + '\">';\n",
       "    fig.close_ws(fig, msg);\n",
       "};\n",
       "\n",
       "mpl.figure.prototype.close_ws = function (fig, msg) {\n",
       "    fig.send_message('closing', msg);\n",
       "    // fig.ws.close()\n",
       "};\n",
       "\n",
       "mpl.figure.prototype.push_to_output = function (_remove_interactive) {\n",
       "    // Turn the data on the canvas into data in the output cell.\n",
       "    var width = this.canvas.width / this.ratio;\n",
       "    var dataURL = this.canvas.toDataURL();\n",
       "    this.cell_info[1]['text/html'] =\n",
       "        '<img src=\"' + dataURL + '\" width=\"' + width + '\">';\n",
       "};\n",
       "\n",
       "mpl.figure.prototype.updated_canvas_event = function () {\n",
       "    // Tell IPython that the notebook contents must change.\n",
       "    IPython.notebook.set_dirty(true);\n",
       "    this.send_message('ack', {});\n",
       "    var fig = this;\n",
       "    // Wait a second, then push the new image to the DOM so\n",
       "    // that it is saved nicely (might be nice to debounce this).\n",
       "    setTimeout(function () {\n",
       "        fig.push_to_output();\n",
       "    }, 1000);\n",
       "};\n",
       "\n",
       "mpl.figure.prototype._init_toolbar = function () {\n",
       "    var fig = this;\n",
       "\n",
       "    var toolbar = document.createElement('div');\n",
       "    toolbar.classList = 'btn-toolbar';\n",
       "    this.root.appendChild(toolbar);\n",
       "\n",
       "    function on_click_closure(name) {\n",
       "        return function (_event) {\n",
       "            return fig.toolbar_button_onclick(name);\n",
       "        };\n",
       "    }\n",
       "\n",
       "    function on_mouseover_closure(tooltip) {\n",
       "        return function (event) {\n",
       "            if (!event.currentTarget.disabled) {\n",
       "                return fig.toolbar_button_onmouseover(tooltip);\n",
       "            }\n",
       "        };\n",
       "    }\n",
       "\n",
       "    fig.buttons = {};\n",
       "    var buttonGroup = document.createElement('div');\n",
       "    buttonGroup.classList = 'btn-group';\n",
       "    var button;\n",
       "    for (var toolbar_ind in mpl.toolbar_items) {\n",
       "        var name = mpl.toolbar_items[toolbar_ind][0];\n",
       "        var tooltip = mpl.toolbar_items[toolbar_ind][1];\n",
       "        var image = mpl.toolbar_items[toolbar_ind][2];\n",
       "        var method_name = mpl.toolbar_items[toolbar_ind][3];\n",
       "\n",
       "        if (!name) {\n",
       "            /* Instead of a spacer, we start a new button group. */\n",
       "            if (buttonGroup.hasChildNodes()) {\n",
       "                toolbar.appendChild(buttonGroup);\n",
       "            }\n",
       "            buttonGroup = document.createElement('div');\n",
       "            buttonGroup.classList = 'btn-group';\n",
       "            continue;\n",
       "        }\n",
       "\n",
       "        button = fig.buttons[name] = document.createElement('button');\n",
       "        button.classList = 'btn btn-default';\n",
       "        button.href = '#';\n",
       "        button.title = name;\n",
       "        button.innerHTML = '<i class=\"fa ' + image + ' fa-lg\"></i>';\n",
       "        button.addEventListener('click', on_click_closure(method_name));\n",
       "        button.addEventListener('mouseover', on_mouseover_closure(tooltip));\n",
       "        buttonGroup.appendChild(button);\n",
       "    }\n",
       "\n",
       "    if (buttonGroup.hasChildNodes()) {\n",
       "        toolbar.appendChild(buttonGroup);\n",
       "    }\n",
       "\n",
       "    // Add the status bar.\n",
       "    var status_bar = document.createElement('span');\n",
       "    status_bar.classList = 'mpl-message pull-right';\n",
       "    toolbar.appendChild(status_bar);\n",
       "    this.message = status_bar;\n",
       "\n",
       "    // Add the close button to the window.\n",
       "    var buttongrp = document.createElement('div');\n",
       "    buttongrp.classList = 'btn-group inline pull-right';\n",
       "    button = document.createElement('button');\n",
       "    button.classList = 'btn btn-mini btn-primary';\n",
       "    button.href = '#';\n",
       "    button.title = 'Stop Interaction';\n",
       "    button.innerHTML = '<i class=\"fa fa-power-off icon-remove icon-large\"></i>';\n",
       "    button.addEventListener('click', function (_evt) {\n",
       "        fig.handle_close(fig, {});\n",
       "    });\n",
       "    button.addEventListener(\n",
       "        'mouseover',\n",
       "        on_mouseover_closure('Stop Interaction')\n",
       "    );\n",
       "    buttongrp.appendChild(button);\n",
       "    var titlebar = this.root.querySelector('.ui-dialog-titlebar');\n",
       "    titlebar.insertBefore(buttongrp, titlebar.firstChild);\n",
       "};\n",
       "\n",
       "mpl.figure.prototype._remove_fig_handler = function (event) {\n",
       "    var fig = event.data.fig;\n",
       "    if (event.target !== this) {\n",
       "        // Ignore bubbled events from children.\n",
       "        return;\n",
       "    }\n",
       "    fig.close_ws(fig, {});\n",
       "};\n",
       "\n",
       "mpl.figure.prototype._root_extra_style = function (el) {\n",
       "    el.style.boxSizing = 'content-box'; // override notebook setting of border-box.\n",
       "};\n",
       "\n",
       "mpl.figure.prototype._canvas_extra_style = function (el) {\n",
       "    // this is important to make the div 'focusable\n",
       "    el.setAttribute('tabindex', 0);\n",
       "    // reach out to IPython and tell the keyboard manager to turn it's self\n",
       "    // off when our div gets focus\n",
       "\n",
       "    // location in version 3\n",
       "    if (IPython.notebook.keyboard_manager) {\n",
       "        IPython.notebook.keyboard_manager.register_events(el);\n",
       "    } else {\n",
       "        // location in version 2\n",
       "        IPython.keyboard_manager.register_events(el);\n",
       "    }\n",
       "};\n",
       "\n",
       "mpl.figure.prototype._key_event_extra = function (event, _name) {\n",
       "    var manager = IPython.notebook.keyboard_manager;\n",
       "    if (!manager) {\n",
       "        manager = IPython.keyboard_manager;\n",
       "    }\n",
       "\n",
       "    // Check for shift+enter\n",
       "    if (event.shiftKey && event.which === 13) {\n",
       "        this.canvas_div.blur();\n",
       "        // select the cell after this one\n",
       "        var index = IPython.notebook.find_cell_index(this.cell_info[0]);\n",
       "        IPython.notebook.select(index + 1);\n",
       "    }\n",
       "};\n",
       "\n",
       "mpl.figure.prototype.handle_save = function (fig, _msg) {\n",
       "    fig.ondownload(fig, null);\n",
       "};\n",
       "\n",
       "mpl.find_output_cell = function (html_output) {\n",
       "    // Return the cell and output element which can be found *uniquely* in the notebook.\n",
       "    // Note - this is a bit hacky, but it is done because the \"notebook_saving.Notebook\"\n",
       "    // IPython event is triggered only after the cells have been serialised, which for\n",
       "    // our purposes (turning an active figure into a static one), is too late.\n",
       "    var cells = IPython.notebook.get_cells();\n",
       "    var ncells = cells.length;\n",
       "    for (var i = 0; i < ncells; i++) {\n",
       "        var cell = cells[i];\n",
       "        if (cell.cell_type === 'code') {\n",
       "            for (var j = 0; j < cell.output_area.outputs.length; j++) {\n",
       "                var data = cell.output_area.outputs[j];\n",
       "                if (data.data) {\n",
       "                    // IPython >= 3 moved mimebundle to data attribute of output\n",
       "                    data = data.data;\n",
       "                }\n",
       "                if (data['text/html'] === html_output) {\n",
       "                    return [cell, data, j];\n",
       "                }\n",
       "            }\n",
       "        }\n",
       "    }\n",
       "};\n",
       "\n",
       "// Register the function which deals with the matplotlib target/channel.\n",
       "// The kernel may be null if the page has been refreshed.\n",
       "if (IPython.notebook.kernel !== null) {\n",
       "    IPython.notebook.kernel.comm_manager.register_target(\n",
       "        'matplotlib',\n",
       "        mpl.mpl_figure_comm\n",
       "    );\n",
       "}\n"
      ],
      "text/plain": [
       "<IPython.core.display.Javascript object>"
      ]
     },
     "metadata": {},
     "output_type": "display_data"
    },
    {
     "data": {
      "text/html": [
       "<img src=\"data:image/png;base64,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\" width=\"862.9630239248646\">"
      ],
      "text/plain": [
       "<IPython.core.display.HTML object>"
      ]
     },
     "metadata": {},
     "output_type": "display_data"
    },
    {
     "data": {
      "text/plain": [
       "<AxesSubplot:xlabel='age', ylabel='Density'>"
      ]
     },
     "execution_count": 147,
     "metadata": {},
     "output_type": "execute_result"
    }
   ],
   "source": [
    "import seaborn as sns\n",
    "%matplotlib notebook\n",
    "sns.distplot(users[\"age\"].dropna())"
   ]
  },
  {
   "cell_type": "code",
   "execution_count": 149,
   "metadata": {
    "slideshow": {
     "slide_type": "subslide"
    }
   },
   "outputs": [
    {
     "name": "stderr",
     "output_type": "stream",
     "text": [
      "d:\\Users\\fan\\anaconda3\\lib\\site-packages\\seaborn\\_decorators.py:36: FutureWarning: Pass the following variable as a keyword arg: x. From version 0.12, the only valid positional argument will be `data`, and passing other arguments without an explicit keyword will result in an error or misinterpretation.\n",
      "  warnings.warn(\n"
     ]
    },
    {
     "data": {
      "application/javascript": [
       "/* Put everything inside the global mpl namespace */\n",
       "/* global mpl */\n",
       "window.mpl = {};\n",
       "\n",
       "mpl.get_websocket_type = function () {\n",
       "    if (typeof WebSocket !== 'undefined') {\n",
       "        return WebSocket;\n",
       "    } else if (typeof MozWebSocket !== 'undefined') {\n",
       "        return MozWebSocket;\n",
       "    } else {\n",
       "        alert(\n",
       "            'Your browser does not have WebSocket support. ' +\n",
       "                'Please try Chrome, Safari or Firefox ≥ 6. ' +\n",
       "                'Firefox 4 and 5 are also supported but you ' +\n",
       "                'have to enable WebSockets in about:config.'\n",
       "        );\n",
       "    }\n",
       "};\n",
       "\n",
       "mpl.figure = function (figure_id, websocket, ondownload, parent_element) {\n",
       "    this.id = figure_id;\n",
       "\n",
       "    this.ws = websocket;\n",
       "\n",
       "    this.supports_binary = this.ws.binaryType !== undefined;\n",
       "\n",
       "    if (!this.supports_binary) {\n",
       "        var warnings = document.getElementById('mpl-warnings');\n",
       "        if (warnings) {\n",
       "            warnings.style.display = 'block';\n",
       "            warnings.textContent =\n",
       "                'This browser does not support binary websocket messages. ' +\n",
       "                'Performance may be slow.';\n",
       "        }\n",
       "    }\n",
       "\n",
       "    this.imageObj = new Image();\n",
       "\n",
       "    this.context = undefined;\n",
       "    this.message = undefined;\n",
       "    this.canvas = undefined;\n",
       "    this.rubberband_canvas = undefined;\n",
       "    this.rubberband_context = undefined;\n",
       "    this.format_dropdown = undefined;\n",
       "\n",
       "    this.image_mode = 'full';\n",
       "\n",
       "    this.root = document.createElement('div');\n",
       "    this.root.setAttribute('style', 'display: inline-block');\n",
       "    this._root_extra_style(this.root);\n",
       "\n",
       "    parent_element.appendChild(this.root);\n",
       "\n",
       "    this._init_header(this);\n",
       "    this._init_canvas(this);\n",
       "    this._init_toolbar(this);\n",
       "\n",
       "    var fig = this;\n",
       "\n",
       "    this.waiting = false;\n",
       "\n",
       "    this.ws.onopen = function () {\n",
       "        fig.send_message('supports_binary', { value: fig.supports_binary });\n",
       "        fig.send_message('send_image_mode', {});\n",
       "        if (fig.ratio !== 1) {\n",
       "            fig.send_message('set_dpi_ratio', { dpi_ratio: fig.ratio });\n",
       "        }\n",
       "        fig.send_message('refresh', {});\n",
       "    };\n",
       "\n",
       "    this.imageObj.onload = function () {\n",
       "        if (fig.image_mode === 'full') {\n",
       "            // Full images could contain transparency (where diff images\n",
       "            // almost always do), so we need to clear the canvas so that\n",
       "            // there is no ghosting.\n",
       "            fig.context.clearRect(0, 0, fig.canvas.width, fig.canvas.height);\n",
       "        }\n",
       "        fig.context.drawImage(fig.imageObj, 0, 0);\n",
       "    };\n",
       "\n",
       "    this.imageObj.onunload = function () {\n",
       "        fig.ws.close();\n",
       "    };\n",
       "\n",
       "    this.ws.onmessage = this._make_on_message_function(this);\n",
       "\n",
       "    this.ondownload = ondownload;\n",
       "};\n",
       "\n",
       "mpl.figure.prototype._init_header = function () {\n",
       "    var titlebar = document.createElement('div');\n",
       "    titlebar.classList =\n",
       "        'ui-dialog-titlebar ui-widget-header ui-corner-all ui-helper-clearfix';\n",
       "    var titletext = document.createElement('div');\n",
       "    titletext.classList = 'ui-dialog-title';\n",
       "    titletext.setAttribute(\n",
       "        'style',\n",
       "        'width: 100%; text-align: center; padding: 3px;'\n",
       "    );\n",
       "    titlebar.appendChild(titletext);\n",
       "    this.root.appendChild(titlebar);\n",
       "    this.header = titletext;\n",
       "};\n",
       "\n",
       "mpl.figure.prototype._canvas_extra_style = function (_canvas_div) {};\n",
       "\n",
       "mpl.figure.prototype._root_extra_style = function (_canvas_div) {};\n",
       "\n",
       "mpl.figure.prototype._init_canvas = function () {\n",
       "    var fig = this;\n",
       "\n",
       "    var canvas_div = (this.canvas_div = document.createElement('div'));\n",
       "    canvas_div.setAttribute(\n",
       "        'style',\n",
       "        'border: 1px solid #ddd;' +\n",
       "            'box-sizing: content-box;' +\n",
       "            'clear: both;' +\n",
       "            'min-height: 1px;' +\n",
       "            'min-width: 1px;' +\n",
       "            'outline: 0;' +\n",
       "            'overflow: hidden;' +\n",
       "            'position: relative;' +\n",
       "            'resize: both;'\n",
       "    );\n",
       "\n",
       "    function on_keyboard_event_closure(name) {\n",
       "        return function (event) {\n",
       "            return fig.key_event(event, name);\n",
       "        };\n",
       "    }\n",
       "\n",
       "    canvas_div.addEventListener(\n",
       "        'keydown',\n",
       "        on_keyboard_event_closure('key_press')\n",
       "    );\n",
       "    canvas_div.addEventListener(\n",
       "        'keyup',\n",
       "        on_keyboard_event_closure('key_release')\n",
       "    );\n",
       "\n",
       "    this._canvas_extra_style(canvas_div);\n",
       "    this.root.appendChild(canvas_div);\n",
       "\n",
       "    var canvas = (this.canvas = document.createElement('canvas'));\n",
       "    canvas.classList.add('mpl-canvas');\n",
       "    canvas.setAttribute('style', 'box-sizing: content-box;');\n",
       "\n",
       "    this.context = canvas.getContext('2d');\n",
       "\n",
       "    var backingStore =\n",
       "        this.context.backingStorePixelRatio ||\n",
       "        this.context.webkitBackingStorePixelRatio ||\n",
       "        this.context.mozBackingStorePixelRatio ||\n",
       "        this.context.msBackingStorePixelRatio ||\n",
       "        this.context.oBackingStorePixelRatio ||\n",
       "        this.context.backingStorePixelRatio ||\n",
       "        1;\n",
       "\n",
       "    this.ratio = (window.devicePixelRatio || 1) / backingStore;\n",
       "\n",
       "    var rubberband_canvas = (this.rubberband_canvas = document.createElement(\n",
       "        'canvas'\n",
       "    ));\n",
       "    rubberband_canvas.setAttribute(\n",
       "        'style',\n",
       "        'box-sizing: content-box; position: absolute; left: 0; top: 0; z-index: 1;'\n",
       "    );\n",
       "\n",
       "    // Apply a ponyfill if ResizeObserver is not implemented by browser.\n",
       "    if (this.ResizeObserver === undefined) {\n",
       "        if (window.ResizeObserver !== undefined) {\n",
       "            this.ResizeObserver = window.ResizeObserver;\n",
       "        } else {\n",
       "            var obs = _JSXTOOLS_RESIZE_OBSERVER({});\n",
       "            this.ResizeObserver = obs.ResizeObserver;\n",
       "        }\n",
       "    }\n",
       "\n",
       "    this.resizeObserverInstance = new this.ResizeObserver(function (entries) {\n",
       "        var nentries = entries.length;\n",
       "        for (var i = 0; i < nentries; i++) {\n",
       "            var entry = entries[i];\n",
       "            var width, height;\n",
       "            if (entry.contentBoxSize) {\n",
       "                if (entry.contentBoxSize instanceof Array) {\n",
       "                    // Chrome 84 implements new version of spec.\n",
       "                    width = entry.contentBoxSize[0].inlineSize;\n",
       "                    height = entry.contentBoxSize[0].blockSize;\n",
       "                } else {\n",
       "                    // Firefox implements old version of spec.\n",
       "                    width = entry.contentBoxSize.inlineSize;\n",
       "                    height = entry.contentBoxSize.blockSize;\n",
       "                }\n",
       "            } else {\n",
       "                // Chrome <84 implements even older version of spec.\n",
       "                width = entry.contentRect.width;\n",
       "                height = entry.contentRect.height;\n",
       "            }\n",
       "\n",
       "            // Keep the size of the canvas and rubber band canvas in sync with\n",
       "            // the canvas container.\n",
       "            if (entry.devicePixelContentBoxSize) {\n",
       "                // Chrome 84 implements new version of spec.\n",
       "                canvas.setAttribute(\n",
       "                    'width',\n",
       "                    entry.devicePixelContentBoxSize[0].inlineSize\n",
       "                );\n",
       "                canvas.setAttribute(\n",
       "                    'height',\n",
       "                    entry.devicePixelContentBoxSize[0].blockSize\n",
       "                );\n",
       "            } else {\n",
       "                canvas.setAttribute('width', width * fig.ratio);\n",
       "                canvas.setAttribute('height', height * fig.ratio);\n",
       "            }\n",
       "            canvas.setAttribute(\n",
       "                'style',\n",
       "                'width: ' + width + 'px; height: ' + height + 'px;'\n",
       "            );\n",
       "\n",
       "            rubberband_canvas.setAttribute('width', width);\n",
       "            rubberband_canvas.setAttribute('height', height);\n",
       "\n",
       "            // And update the size in Python. We ignore the initial 0/0 size\n",
       "            // that occurs as the element is placed into the DOM, which should\n",
       "            // otherwise not happen due to the minimum size styling.\n",
       "            if (fig.ws.readyState == 1 && width != 0 && height != 0) {\n",
       "                fig.request_resize(width, height);\n",
       "            }\n",
       "        }\n",
       "    });\n",
       "    this.resizeObserverInstance.observe(canvas_div);\n",
       "\n",
       "    function on_mouse_event_closure(name) {\n",
       "        return function (event) {\n",
       "            return fig.mouse_event(event, name);\n",
       "        };\n",
       "    }\n",
       "\n",
       "    rubberband_canvas.addEventListener(\n",
       "        'mousedown',\n",
       "        on_mouse_event_closure('button_press')\n",
       "    );\n",
       "    rubberband_canvas.addEventListener(\n",
       "        'mouseup',\n",
       "        on_mouse_event_closure('button_release')\n",
       "    );\n",
       "    rubberband_canvas.addEventListener(\n",
       "        'dblclick',\n",
       "        on_mouse_event_closure('dblclick')\n",
       "    );\n",
       "    // Throttle sequential mouse events to 1 every 20ms.\n",
       "    rubberband_canvas.addEventListener(\n",
       "        'mousemove',\n",
       "        on_mouse_event_closure('motion_notify')\n",
       "    );\n",
       "\n",
       "    rubberband_canvas.addEventListener(\n",
       "        'mouseenter',\n",
       "        on_mouse_event_closure('figure_enter')\n",
       "    );\n",
       "    rubberband_canvas.addEventListener(\n",
       "        'mouseleave',\n",
       "        on_mouse_event_closure('figure_leave')\n",
       "    );\n",
       "\n",
       "    canvas_div.addEventListener('wheel', function (event) {\n",
       "        if (event.deltaY < 0) {\n",
       "            event.step = 1;\n",
       "        } else {\n",
       "            event.step = -1;\n",
       "        }\n",
       "        on_mouse_event_closure('scroll')(event);\n",
       "    });\n",
       "\n",
       "    canvas_div.appendChild(canvas);\n",
       "    canvas_div.appendChild(rubberband_canvas);\n",
       "\n",
       "    this.rubberband_context = rubberband_canvas.getContext('2d');\n",
       "    this.rubberband_context.strokeStyle = '#000000';\n",
       "\n",
       "    this._resize_canvas = function (width, height, forward) {\n",
       "        if (forward) {\n",
       "            canvas_div.style.width = width + 'px';\n",
       "            canvas_div.style.height = height + 'px';\n",
       "        }\n",
       "    };\n",
       "\n",
       "    // Disable right mouse context menu.\n",
       "    this.rubberband_canvas.addEventListener('contextmenu', function (_e) {\n",
       "        event.preventDefault();\n",
       "        return false;\n",
       "    });\n",
       "\n",
       "    function set_focus() {\n",
       "        canvas.focus();\n",
       "        canvas_div.focus();\n",
       "    }\n",
       "\n",
       "    window.setTimeout(set_focus, 100);\n",
       "};\n",
       "\n",
       "mpl.figure.prototype._init_toolbar = function () {\n",
       "    var fig = this;\n",
       "\n",
       "    var toolbar = document.createElement('div');\n",
       "    toolbar.classList = 'mpl-toolbar';\n",
       "    this.root.appendChild(toolbar);\n",
       "\n",
       "    function on_click_closure(name) {\n",
       "        return function (_event) {\n",
       "            return fig.toolbar_button_onclick(name);\n",
       "        };\n",
       "    }\n",
       "\n",
       "    function on_mouseover_closure(tooltip) {\n",
       "        return function (event) {\n",
       "            if (!event.currentTarget.disabled) {\n",
       "                return fig.toolbar_button_onmouseover(tooltip);\n",
       "            }\n",
       "        };\n",
       "    }\n",
       "\n",
       "    fig.buttons = {};\n",
       "    var buttonGroup = document.createElement('div');\n",
       "    buttonGroup.classList = 'mpl-button-group';\n",
       "    for (var toolbar_ind in mpl.toolbar_items) {\n",
       "        var name = mpl.toolbar_items[toolbar_ind][0];\n",
       "        var tooltip = mpl.toolbar_items[toolbar_ind][1];\n",
       "        var image = mpl.toolbar_items[toolbar_ind][2];\n",
       "        var method_name = mpl.toolbar_items[toolbar_ind][3];\n",
       "\n",
       "        if (!name) {\n",
       "            /* Instead of a spacer, we start a new button group. */\n",
       "            if (buttonGroup.hasChildNodes()) {\n",
       "                toolbar.appendChild(buttonGroup);\n",
       "            }\n",
       "            buttonGroup = document.createElement('div');\n",
       "            buttonGroup.classList = 'mpl-button-group';\n",
       "            continue;\n",
       "        }\n",
       "\n",
       "        var button = (fig.buttons[name] = document.createElement('button'));\n",
       "        button.classList = 'mpl-widget';\n",
       "        button.setAttribute('role', 'button');\n",
       "        button.setAttribute('aria-disabled', 'false');\n",
       "        button.addEventListener('click', on_click_closure(method_name));\n",
       "        button.addEventListener('mouseover', on_mouseover_closure(tooltip));\n",
       "\n",
       "        var icon_img = document.createElement('img');\n",
       "        icon_img.src = '_images/' + image + '.png';\n",
       "        icon_img.srcset = '_images/' + image + '_large.png 2x';\n",
       "        icon_img.alt = tooltip;\n",
       "        button.appendChild(icon_img);\n",
       "\n",
       "        buttonGroup.appendChild(button);\n",
       "    }\n",
       "\n",
       "    if (buttonGroup.hasChildNodes()) {\n",
       "        toolbar.appendChild(buttonGroup);\n",
       "    }\n",
       "\n",
       "    var fmt_picker = document.createElement('select');\n",
       "    fmt_picker.classList = 'mpl-widget';\n",
       "    toolbar.appendChild(fmt_picker);\n",
       "    this.format_dropdown = fmt_picker;\n",
       "\n",
       "    for (var ind in mpl.extensions) {\n",
       "        var fmt = mpl.extensions[ind];\n",
       "        var option = document.createElement('option');\n",
       "        option.selected = fmt === mpl.default_extension;\n",
       "        option.innerHTML = fmt;\n",
       "        fmt_picker.appendChild(option);\n",
       "    }\n",
       "\n",
       "    var status_bar = document.createElement('span');\n",
       "    status_bar.classList = 'mpl-message';\n",
       "    toolbar.appendChild(status_bar);\n",
       "    this.message = status_bar;\n",
       "};\n",
       "\n",
       "mpl.figure.prototype.request_resize = function (x_pixels, y_pixels) {\n",
       "    // Request matplotlib to resize the figure. Matplotlib will then trigger a resize in the client,\n",
       "    // which will in turn request a refresh of the image.\n",
       "    this.send_message('resize', { width: x_pixels, height: y_pixels });\n",
       "};\n",
       "\n",
       "mpl.figure.prototype.send_message = function (type, properties) {\n",
       "    properties['type'] = type;\n",
       "    properties['figure_id'] = this.id;\n",
       "    this.ws.send(JSON.stringify(properties));\n",
       "};\n",
       "\n",
       "mpl.figure.prototype.send_draw_message = function () {\n",
       "    if (!this.waiting) {\n",
       "        this.waiting = true;\n",
       "        this.ws.send(JSON.stringify({ type: 'draw', figure_id: this.id }));\n",
       "    }\n",
       "};\n",
       "\n",
       "mpl.figure.prototype.handle_save = function (fig, _msg) {\n",
       "    var format_dropdown = fig.format_dropdown;\n",
       "    var format = format_dropdown.options[format_dropdown.selectedIndex].value;\n",
       "    fig.ondownload(fig, format);\n",
       "};\n",
       "\n",
       "mpl.figure.prototype.handle_resize = function (fig, msg) {\n",
       "    var size = msg['size'];\n",
       "    if (size[0] !== fig.canvas.width || size[1] !== fig.canvas.height) {\n",
       "        fig._resize_canvas(size[0], size[1], msg['forward']);\n",
       "        fig.send_message('refresh', {});\n",
       "    }\n",
       "};\n",
       "\n",
       "mpl.figure.prototype.handle_rubberband = function (fig, msg) {\n",
       "    var x0 = msg['x0'] / fig.ratio;\n",
       "    var y0 = (fig.canvas.height - msg['y0']) / fig.ratio;\n",
       "    var x1 = msg['x1'] / fig.ratio;\n",
       "    var y1 = (fig.canvas.height - msg['y1']) / fig.ratio;\n",
       "    x0 = Math.floor(x0) + 0.5;\n",
       "    y0 = Math.floor(y0) + 0.5;\n",
       "    x1 = Math.floor(x1) + 0.5;\n",
       "    y1 = Math.floor(y1) + 0.5;\n",
       "    var min_x = Math.min(x0, x1);\n",
       "    var min_y = Math.min(y0, y1);\n",
       "    var width = Math.abs(x1 - x0);\n",
       "    var height = Math.abs(y1 - y0);\n",
       "\n",
       "    fig.rubberband_context.clearRect(\n",
       "        0,\n",
       "        0,\n",
       "        fig.canvas.width / fig.ratio,\n",
       "        fig.canvas.height / fig.ratio\n",
       "    );\n",
       "\n",
       "    fig.rubberband_context.strokeRect(min_x, min_y, width, height);\n",
       "};\n",
       "\n",
       "mpl.figure.prototype.handle_figure_label = function (fig, msg) {\n",
       "    // Updates the figure title.\n",
       "    fig.header.textContent = msg['label'];\n",
       "};\n",
       "\n",
       "mpl.figure.prototype.handle_cursor = function (fig, msg) {\n",
       "    var cursor = msg['cursor'];\n",
       "    switch (cursor) {\n",
       "        case 0:\n",
       "            cursor = 'pointer';\n",
       "            break;\n",
       "        case 1:\n",
       "            cursor = 'default';\n",
       "            break;\n",
       "        case 2:\n",
       "            cursor = 'crosshair';\n",
       "            break;\n",
       "        case 3:\n",
       "            cursor = 'move';\n",
       "            break;\n",
       "    }\n",
       "    fig.rubberband_canvas.style.cursor = cursor;\n",
       "};\n",
       "\n",
       "mpl.figure.prototype.handle_message = function (fig, msg) {\n",
       "    fig.message.textContent = msg['message'];\n",
       "};\n",
       "\n",
       "mpl.figure.prototype.handle_draw = function (fig, _msg) {\n",
       "    // Request the server to send over a new figure.\n",
       "    fig.send_draw_message();\n",
       "};\n",
       "\n",
       "mpl.figure.prototype.handle_image_mode = function (fig, msg) {\n",
       "    fig.image_mode = msg['mode'];\n",
       "};\n",
       "\n",
       "mpl.figure.prototype.handle_history_buttons = function (fig, msg) {\n",
       "    for (var key in msg) {\n",
       "        if (!(key in fig.buttons)) {\n",
       "            continue;\n",
       "        }\n",
       "        fig.buttons[key].disabled = !msg[key];\n",
       "        fig.buttons[key].setAttribute('aria-disabled', !msg[key]);\n",
       "    }\n",
       "};\n",
       "\n",
       "mpl.figure.prototype.handle_navigate_mode = function (fig, msg) {\n",
       "    if (msg['mode'] === 'PAN') {\n",
       "        fig.buttons['Pan'].classList.add('active');\n",
       "        fig.buttons['Zoom'].classList.remove('active');\n",
       "    } else if (msg['mode'] === 'ZOOM') {\n",
       "        fig.buttons['Pan'].classList.remove('active');\n",
       "        fig.buttons['Zoom'].classList.add('active');\n",
       "    } else {\n",
       "        fig.buttons['Pan'].classList.remove('active');\n",
       "        fig.buttons['Zoom'].classList.remove('active');\n",
       "    }\n",
       "};\n",
       "\n",
       "mpl.figure.prototype.updated_canvas_event = function () {\n",
       "    // Called whenever the canvas gets updated.\n",
       "    this.send_message('ack', {});\n",
       "};\n",
       "\n",
       "// A function to construct a web socket function for onmessage handling.\n",
       "// Called in the figure constructor.\n",
       "mpl.figure.prototype._make_on_message_function = function (fig) {\n",
       "    return function socket_on_message(evt) {\n",
       "        if (evt.data instanceof Blob) {\n",
       "            var img = evt.data;\n",
       "            if (img.type !== 'image/png') {\n",
       "                /* FIXME: We get \"Resource interpreted as Image but\n",
       "                 * transferred with MIME type text/plain:\" errors on\n",
       "                 * Chrome.  But how to set the MIME type?  It doesn't seem\n",
       "                 * to be part of the websocket stream */\n",
       "                img.type = 'image/png';\n",
       "            }\n",
       "\n",
       "            /* Free the memory for the previous frames */\n",
       "            if (fig.imageObj.src) {\n",
       "                (window.URL || window.webkitURL).revokeObjectURL(\n",
       "                    fig.imageObj.src\n",
       "                );\n",
       "            }\n",
       "\n",
       "            fig.imageObj.src = (window.URL || window.webkitURL).createObjectURL(\n",
       "                img\n",
       "            );\n",
       "            fig.updated_canvas_event();\n",
       "            fig.waiting = false;\n",
       "            return;\n",
       "        } else if (\n",
       "            typeof evt.data === 'string' &&\n",
       "            evt.data.slice(0, 21) === 'data:image/png;base64'\n",
       "        ) {\n",
       "            fig.imageObj.src = evt.data;\n",
       "            fig.updated_canvas_event();\n",
       "            fig.waiting = false;\n",
       "            return;\n",
       "        }\n",
       "\n",
       "        var msg = JSON.parse(evt.data);\n",
       "        var msg_type = msg['type'];\n",
       "\n",
       "        // Call the  \"handle_{type}\" callback, which takes\n",
       "        // the figure and JSON message as its only arguments.\n",
       "        try {\n",
       "            var callback = fig['handle_' + msg_type];\n",
       "        } catch (e) {\n",
       "            console.log(\n",
       "                \"No handler for the '\" + msg_type + \"' message type: \",\n",
       "                msg\n",
       "            );\n",
       "            return;\n",
       "        }\n",
       "\n",
       "        if (callback) {\n",
       "            try {\n",
       "                // console.log(\"Handling '\" + msg_type + \"' message: \", msg);\n",
       "                callback(fig, msg);\n",
       "            } catch (e) {\n",
       "                console.log(\n",
       "                    \"Exception inside the 'handler_\" + msg_type + \"' callback:\",\n",
       "                    e,\n",
       "                    e.stack,\n",
       "                    msg\n",
       "                );\n",
       "            }\n",
       "        }\n",
       "    };\n",
       "};\n",
       "\n",
       "// from http://stackoverflow.com/questions/1114465/getting-mouse-location-in-canvas\n",
       "mpl.findpos = function (e) {\n",
       "    //this section is from http://www.quirksmode.org/js/events_properties.html\n",
       "    var targ;\n",
       "    if (!e) {\n",
       "        e = window.event;\n",
       "    }\n",
       "    if (e.target) {\n",
       "        targ = e.target;\n",
       "    } else if (e.srcElement) {\n",
       "        targ = e.srcElement;\n",
       "    }\n",
       "    if (targ.nodeType === 3) {\n",
       "        // defeat Safari bug\n",
       "        targ = targ.parentNode;\n",
       "    }\n",
       "\n",
       "    // pageX,Y are the mouse positions relative to the document\n",
       "    var boundingRect = targ.getBoundingClientRect();\n",
       "    var x = e.pageX - (boundingRect.left + document.body.scrollLeft);\n",
       "    var y = e.pageY - (boundingRect.top + document.body.scrollTop);\n",
       "\n",
       "    return { x: x, y: y };\n",
       "};\n",
       "\n",
       "/*\n",
       " * return a copy of an object with only non-object keys\n",
       " * we need this to avoid circular references\n",
       " * http://stackoverflow.com/a/24161582/3208463\n",
       " */\n",
       "function simpleKeys(original) {\n",
       "    return Object.keys(original).reduce(function (obj, key) {\n",
       "        if (typeof original[key] !== 'object') {\n",
       "            obj[key] = original[key];\n",
       "        }\n",
       "        return obj;\n",
       "    }, {});\n",
       "}\n",
       "\n",
       "mpl.figure.prototype.mouse_event = function (event, name) {\n",
       "    var canvas_pos = mpl.findpos(event);\n",
       "\n",
       "    if (name === 'button_press') {\n",
       "        this.canvas.focus();\n",
       "        this.canvas_div.focus();\n",
       "    }\n",
       "\n",
       "    var x = canvas_pos.x * this.ratio;\n",
       "    var y = canvas_pos.y * this.ratio;\n",
       "\n",
       "    this.send_message(name, {\n",
       "        x: x,\n",
       "        y: y,\n",
       "        button: event.button,\n",
       "        step: event.step,\n",
       "        guiEvent: simpleKeys(event),\n",
       "    });\n",
       "\n",
       "    /* This prevents the web browser from automatically changing to\n",
       "     * the text insertion cursor when the button is pressed.  We want\n",
       "     * to control all of the cursor setting manually through the\n",
       "     * 'cursor' event from matplotlib */\n",
       "    event.preventDefault();\n",
       "    return false;\n",
       "};\n",
       "\n",
       "mpl.figure.prototype._key_event_extra = function (_event, _name) {\n",
       "    // Handle any extra behaviour associated with a key event\n",
       "};\n",
       "\n",
       "mpl.figure.prototype.key_event = function (event, name) {\n",
       "    // Prevent repeat events\n",
       "    if (name === 'key_press') {\n",
       "        if (event.key === this._key) {\n",
       "            return;\n",
       "        } else {\n",
       "            this._key = event.key;\n",
       "        }\n",
       "    }\n",
       "    if (name === 'key_release') {\n",
       "        this._key = null;\n",
       "    }\n",
       "\n",
       "    var value = '';\n",
       "    if (event.ctrlKey && event.key !== 'Control') {\n",
       "        value += 'ctrl+';\n",
       "    }\n",
       "    else if (event.altKey && event.key !== 'Alt') {\n",
       "        value += 'alt+';\n",
       "    }\n",
       "    else if (event.shiftKey && event.key !== 'Shift') {\n",
       "        value += 'shift+';\n",
       "    }\n",
       "\n",
       "    value += 'k' + event.key;\n",
       "\n",
       "    this._key_event_extra(event, name);\n",
       "\n",
       "    this.send_message(name, { key: value, guiEvent: simpleKeys(event) });\n",
       "    return false;\n",
       "};\n",
       "\n",
       "mpl.figure.prototype.toolbar_button_onclick = function (name) {\n",
       "    if (name === 'download') {\n",
       "        this.handle_save(this, null);\n",
       "    } else {\n",
       "        this.send_message('toolbar_button', { name: name });\n",
       "    }\n",
       "};\n",
       "\n",
       "mpl.figure.prototype.toolbar_button_onmouseover = function (tooltip) {\n",
       "    this.message.textContent = tooltip;\n",
       "};\n",
       "\n",
       "///////////////// REMAINING CONTENT GENERATED BY embed_js.py /////////////////\n",
       "// prettier-ignore\n",
       "var _JSXTOOLS_RESIZE_OBSERVER=function(A){var t,i=new WeakMap,n=new WeakMap,a=new WeakMap,r=new WeakMap,o=new Set;function s(e){if(!(this instanceof s))throw new TypeError(\"Constructor requires 'new' operator\");i.set(this,e)}function h(){throw new TypeError(\"Function is not a constructor\")}function c(e,t,i,n){e=0 in arguments?Number(arguments[0]):0,t=1 in arguments?Number(arguments[1]):0,i=2 in arguments?Number(arguments[2]):0,n=3 in arguments?Number(arguments[3]):0,this.right=(this.x=this.left=e)+(this.width=i),this.bottom=(this.y=this.top=t)+(this.height=n),Object.freeze(this)}function d(){t=requestAnimationFrame(d);var s=new WeakMap,p=new Set;o.forEach((function(t){r.get(t).forEach((function(i){var r=t instanceof window.SVGElement,o=a.get(t),d=r?0:parseFloat(o.paddingTop),f=r?0:parseFloat(o.paddingRight),l=r?0:parseFloat(o.paddingBottom),u=r?0:parseFloat(o.paddingLeft),g=r?0:parseFloat(o.borderTopWidth),m=r?0:parseFloat(o.borderRightWidth),w=r?0:parseFloat(o.borderBottomWidth),b=u+f,F=d+l,v=(r?0:parseFloat(o.borderLeftWidth))+m,W=g+w,y=r?0:t.offsetHeight-W-t.clientHeight,E=r?0:t.offsetWidth-v-t.clientWidth,R=b+v,z=F+W,M=r?t.width:parseFloat(o.width)-R-E,O=r?t.height:parseFloat(o.height)-z-y;if(n.has(t)){var k=n.get(t);if(k[0]===M&&k[1]===O)return}n.set(t,[M,O]);var S=Object.create(h.prototype);S.target=t,S.contentRect=new c(u,d,M,O),s.has(i)||(s.set(i,[]),p.add(i)),s.get(i).push(S)}))})),p.forEach((function(e){i.get(e).call(e,s.get(e),e)}))}return s.prototype.observe=function(i){if(i instanceof window.Element){r.has(i)||(r.set(i,new Set),o.add(i),a.set(i,window.getComputedStyle(i)));var n=r.get(i);n.has(this)||n.add(this),cancelAnimationFrame(t),t=requestAnimationFrame(d)}},s.prototype.unobserve=function(i){if(i instanceof window.Element&&r.has(i)){var n=r.get(i);n.has(this)&&(n.delete(this),n.size||(r.delete(i),o.delete(i))),n.size||r.delete(i),o.size||cancelAnimationFrame(t)}},A.DOMRectReadOnly=c,A.ResizeObserver=s,A.ResizeObserverEntry=h,A}; // eslint-disable-line\n",
       "mpl.toolbar_items = [[\"Home\", \"Reset original view\", \"fa fa-home icon-home\", \"home\"], [\"Back\", \"Back to previous view\", \"fa fa-arrow-left icon-arrow-left\", \"back\"], [\"Forward\", \"Forward to next view\", \"fa fa-arrow-right icon-arrow-right\", \"forward\"], [\"\", \"\", \"\", \"\"], [\"Pan\", \"Left button pans, Right button zooms\\nx/y fixes axis, CTRL fixes aspect\", \"fa fa-arrows icon-move\", \"pan\"], [\"Zoom\", \"Zoom to rectangle\\nx/y fixes axis, CTRL fixes aspect\", \"fa fa-square-o icon-check-empty\", \"zoom\"], [\"\", \"\", \"\", \"\"], [\"Download\", \"Download plot\", \"fa fa-floppy-o icon-save\", \"download\"]];\n",
       "\n",
       "mpl.extensions = [\"eps\", \"jpeg\", \"pgf\", \"pdf\", \"png\", \"ps\", \"raw\", \"svg\", \"tif\"];\n",
       "\n",
       "mpl.default_extension = \"png\";/* global mpl */\n",
       "\n",
       "var comm_websocket_adapter = function (comm) {\n",
       "    // Create a \"websocket\"-like object which calls the given IPython comm\n",
       "    // object with the appropriate methods. Currently this is a non binary\n",
       "    // socket, so there is still some room for performance tuning.\n",
       "    var ws = {};\n",
       "\n",
       "    ws.binaryType = comm.kernel.ws.binaryType;\n",
       "    ws.readyState = comm.kernel.ws.readyState;\n",
       "    function updateReadyState(_event) {\n",
       "        if (comm.kernel.ws) {\n",
       "            ws.readyState = comm.kernel.ws.readyState;\n",
       "        } else {\n",
       "            ws.readyState = 3; // Closed state.\n",
       "        }\n",
       "    }\n",
       "    comm.kernel.ws.addEventListener('open', updateReadyState);\n",
       "    comm.kernel.ws.addEventListener('close', updateReadyState);\n",
       "    comm.kernel.ws.addEventListener('error', updateReadyState);\n",
       "\n",
       "    ws.close = function () {\n",
       "        comm.close();\n",
       "    };\n",
       "    ws.send = function (m) {\n",
       "        //console.log('sending', m);\n",
       "        comm.send(m);\n",
       "    };\n",
       "    // Register the callback with on_msg.\n",
       "    comm.on_msg(function (msg) {\n",
       "        //console.log('receiving', msg['content']['data'], msg);\n",
       "        var data = msg['content']['data'];\n",
       "        if (data['blob'] !== undefined) {\n",
       "            data = {\n",
       "                data: new Blob(msg['buffers'], { type: data['blob'] }),\n",
       "            };\n",
       "        }\n",
       "        // Pass the mpl event to the overridden (by mpl) onmessage function.\n",
       "        ws.onmessage(data);\n",
       "    });\n",
       "    return ws;\n",
       "};\n",
       "\n",
       "mpl.mpl_figure_comm = function (comm, msg) {\n",
       "    // This is the function which gets called when the mpl process\n",
       "    // starts-up an IPython Comm through the \"matplotlib\" channel.\n",
       "\n",
       "    var id = msg.content.data.id;\n",
       "    // Get hold of the div created by the display call when the Comm\n",
       "    // socket was opened in Python.\n",
       "    var element = document.getElementById(id);\n",
       "    var ws_proxy = comm_websocket_adapter(comm);\n",
       "\n",
       "    function ondownload(figure, _format) {\n",
       "        window.open(figure.canvas.toDataURL());\n",
       "    }\n",
       "\n",
       "    var fig = new mpl.figure(id, ws_proxy, ondownload, element);\n",
       "\n",
       "    // Call onopen now - mpl needs it, as it is assuming we've passed it a real\n",
       "    // web socket which is closed, not our websocket->open comm proxy.\n",
       "    ws_proxy.onopen();\n",
       "\n",
       "    fig.parent_element = element;\n",
       "    fig.cell_info = mpl.find_output_cell(\"<div id='\" + id + \"'></div>\");\n",
       "    if (!fig.cell_info) {\n",
       "        console.error('Failed to find cell for figure', id, fig);\n",
       "        return;\n",
       "    }\n",
       "    fig.cell_info[0].output_area.element.on(\n",
       "        'cleared',\n",
       "        { fig: fig },\n",
       "        fig._remove_fig_handler\n",
       "    );\n",
       "};\n",
       "\n",
       "mpl.figure.prototype.handle_close = function (fig, msg) {\n",
       "    var width = fig.canvas.width / fig.ratio;\n",
       "    fig.cell_info[0].output_area.element.off(\n",
       "        'cleared',\n",
       "        fig._remove_fig_handler\n",
       "    );\n",
       "    fig.resizeObserverInstance.unobserve(fig.canvas_div);\n",
       "\n",
       "    // Update the output cell to use the data from the current canvas.\n",
       "    fig.push_to_output();\n",
       "    var dataURL = fig.canvas.toDataURL();\n",
       "    // Re-enable the keyboard manager in IPython - without this line, in FF,\n",
       "    // the notebook keyboard shortcuts fail.\n",
       "    IPython.keyboard_manager.enable();\n",
       "    fig.parent_element.innerHTML =\n",
       "        '<img src=\"' + dataURL + '\" width=\"' + width + '\">';\n",
       "    fig.close_ws(fig, msg);\n",
       "};\n",
       "\n",
       "mpl.figure.prototype.close_ws = function (fig, msg) {\n",
       "    fig.send_message('closing', msg);\n",
       "    // fig.ws.close()\n",
       "};\n",
       "\n",
       "mpl.figure.prototype.push_to_output = function (_remove_interactive) {\n",
       "    // Turn the data on the canvas into data in the output cell.\n",
       "    var width = this.canvas.width / this.ratio;\n",
       "    var dataURL = this.canvas.toDataURL();\n",
       "    this.cell_info[1]['text/html'] =\n",
       "        '<img src=\"' + dataURL + '\" width=\"' + width + '\">';\n",
       "};\n",
       "\n",
       "mpl.figure.prototype.updated_canvas_event = function () {\n",
       "    // Tell IPython that the notebook contents must change.\n",
       "    IPython.notebook.set_dirty(true);\n",
       "    this.send_message('ack', {});\n",
       "    var fig = this;\n",
       "    // Wait a second, then push the new image to the DOM so\n",
       "    // that it is saved nicely (might be nice to debounce this).\n",
       "    setTimeout(function () {\n",
       "        fig.push_to_output();\n",
       "    }, 1000);\n",
       "};\n",
       "\n",
       "mpl.figure.prototype._init_toolbar = function () {\n",
       "    var fig = this;\n",
       "\n",
       "    var toolbar = document.createElement('div');\n",
       "    toolbar.classList = 'btn-toolbar';\n",
       "    this.root.appendChild(toolbar);\n",
       "\n",
       "    function on_click_closure(name) {\n",
       "        return function (_event) {\n",
       "            return fig.toolbar_button_onclick(name);\n",
       "        };\n",
       "    }\n",
       "\n",
       "    function on_mouseover_closure(tooltip) {\n",
       "        return function (event) {\n",
       "            if (!event.currentTarget.disabled) {\n",
       "                return fig.toolbar_button_onmouseover(tooltip);\n",
       "            }\n",
       "        };\n",
       "    }\n",
       "\n",
       "    fig.buttons = {};\n",
       "    var buttonGroup = document.createElement('div');\n",
       "    buttonGroup.classList = 'btn-group';\n",
       "    var button;\n",
       "    for (var toolbar_ind in mpl.toolbar_items) {\n",
       "        var name = mpl.toolbar_items[toolbar_ind][0];\n",
       "        var tooltip = mpl.toolbar_items[toolbar_ind][1];\n",
       "        var image = mpl.toolbar_items[toolbar_ind][2];\n",
       "        var method_name = mpl.toolbar_items[toolbar_ind][3];\n",
       "\n",
       "        if (!name) {\n",
       "            /* Instead of a spacer, we start a new button group. */\n",
       "            if (buttonGroup.hasChildNodes()) {\n",
       "                toolbar.appendChild(buttonGroup);\n",
       "            }\n",
       "            buttonGroup = document.createElement('div');\n",
       "            buttonGroup.classList = 'btn-group';\n",
       "            continue;\n",
       "        }\n",
       "\n",
       "        button = fig.buttons[name] = document.createElement('button');\n",
       "        button.classList = 'btn btn-default';\n",
       "        button.href = '#';\n",
       "        button.title = name;\n",
       "        button.innerHTML = '<i class=\"fa ' + image + ' fa-lg\"></i>';\n",
       "        button.addEventListener('click', on_click_closure(method_name));\n",
       "        button.addEventListener('mouseover', on_mouseover_closure(tooltip));\n",
       "        buttonGroup.appendChild(button);\n",
       "    }\n",
       "\n",
       "    if (buttonGroup.hasChildNodes()) {\n",
       "        toolbar.appendChild(buttonGroup);\n",
       "    }\n",
       "\n",
       "    // Add the status bar.\n",
       "    var status_bar = document.createElement('span');\n",
       "    status_bar.classList = 'mpl-message pull-right';\n",
       "    toolbar.appendChild(status_bar);\n",
       "    this.message = status_bar;\n",
       "\n",
       "    // Add the close button to the window.\n",
       "    var buttongrp = document.createElement('div');\n",
       "    buttongrp.classList = 'btn-group inline pull-right';\n",
       "    button = document.createElement('button');\n",
       "    button.classList = 'btn btn-mini btn-primary';\n",
       "    button.href = '#';\n",
       "    button.title = 'Stop Interaction';\n",
       "    button.innerHTML = '<i class=\"fa fa-power-off icon-remove icon-large\"></i>';\n",
       "    button.addEventListener('click', function (_evt) {\n",
       "        fig.handle_close(fig, {});\n",
       "    });\n",
       "    button.addEventListener(\n",
       "        'mouseover',\n",
       "        on_mouseover_closure('Stop Interaction')\n",
       "    );\n",
       "    buttongrp.appendChild(button);\n",
       "    var titlebar = this.root.querySelector('.ui-dialog-titlebar');\n",
       "    titlebar.insertBefore(buttongrp, titlebar.firstChild);\n",
       "};\n",
       "\n",
       "mpl.figure.prototype._remove_fig_handler = function (event) {\n",
       "    var fig = event.data.fig;\n",
       "    if (event.target !== this) {\n",
       "        // Ignore bubbled events from children.\n",
       "        return;\n",
       "    }\n",
       "    fig.close_ws(fig, {});\n",
       "};\n",
       "\n",
       "mpl.figure.prototype._root_extra_style = function (el) {\n",
       "    el.style.boxSizing = 'content-box'; // override notebook setting of border-box.\n",
       "};\n",
       "\n",
       "mpl.figure.prototype._canvas_extra_style = function (el) {\n",
       "    // this is important to make the div 'focusable\n",
       "    el.setAttribute('tabindex', 0);\n",
       "    // reach out to IPython and tell the keyboard manager to turn it's self\n",
       "    // off when our div gets focus\n",
       "\n",
       "    // location in version 3\n",
       "    if (IPython.notebook.keyboard_manager) {\n",
       "        IPython.notebook.keyboard_manager.register_events(el);\n",
       "    } else {\n",
       "        // location in version 2\n",
       "        IPython.keyboard_manager.register_events(el);\n",
       "    }\n",
       "};\n",
       "\n",
       "mpl.figure.prototype._key_event_extra = function (event, _name) {\n",
       "    var manager = IPython.notebook.keyboard_manager;\n",
       "    if (!manager) {\n",
       "        manager = IPython.keyboard_manager;\n",
       "    }\n",
       "\n",
       "    // Check for shift+enter\n",
       "    if (event.shiftKey && event.which === 13) {\n",
       "        this.canvas_div.blur();\n",
       "        // select the cell after this one\n",
       "        var index = IPython.notebook.find_cell_index(this.cell_info[0]);\n",
       "        IPython.notebook.select(index + 1);\n",
       "    }\n",
       "};\n",
       "\n",
       "mpl.figure.prototype.handle_save = function (fig, _msg) {\n",
       "    fig.ondownload(fig, null);\n",
       "};\n",
       "\n",
       "mpl.find_output_cell = function (html_output) {\n",
       "    // Return the cell and output element which can be found *uniquely* in the notebook.\n",
       "    // Note - this is a bit hacky, but it is done because the \"notebook_saving.Notebook\"\n",
       "    // IPython event is triggered only after the cells have been serialised, which for\n",
       "    // our purposes (turning an active figure into a static one), is too late.\n",
       "    var cells = IPython.notebook.get_cells();\n",
       "    var ncells = cells.length;\n",
       "    for (var i = 0; i < ncells; i++) {\n",
       "        var cell = cells[i];\n",
       "        if (cell.cell_type === 'code') {\n",
       "            for (var j = 0; j < cell.output_area.outputs.length; j++) {\n",
       "                var data = cell.output_area.outputs[j];\n",
       "                if (data.data) {\n",
       "                    // IPython >= 3 moved mimebundle to data attribute of output\n",
       "                    data = data.data;\n",
       "                }\n",
       "                if (data['text/html'] === html_output) {\n",
       "                    return [cell, data, j];\n",
       "                }\n",
       "            }\n",
       "        }\n",
       "    }\n",
       "};\n",
       "\n",
       "// Register the function which deals with the matplotlib target/channel.\n",
       "// The kernel may be null if the page has been refreshed.\n",
       "if (IPython.notebook.kernel !== null) {\n",
       "    IPython.notebook.kernel.comm_manager.register_target(\n",
       "        'matplotlib',\n",
       "        mpl.mpl_figure_comm\n",
       "    );\n",
       "}\n"
      ],
      "text/plain": [
       "<IPython.core.display.Javascript object>"
      ]
     },
     "metadata": {},
     "output_type": "display_data"
    },
    {
     "data": {
      "text/html": [
       "<img src=\"data:image/png;base64,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\" width=\"639.999974568686\">"
      ],
      "text/plain": [
       "<IPython.core.display.HTML object>"
      ]
     },
     "metadata": {},
     "output_type": "display_data"
    },
    {
     "data": {
      "text/plain": [
       "<AxesSubplot:xlabel='age'>"
      ]
     },
     "execution_count": 149,
     "metadata": {},
     "output_type": "execute_result"
    }
   ],
   "source": [
    "sns.boxplot(users[\"age\"].dropna())"
   ]
  },
  {
   "cell_type": "code",
   "execution_count": 150,
   "metadata": {
    "slideshow": {
     "slide_type": "subslide"
    }
   },
   "outputs": [],
   "source": [
    "users_with_true_age=users[users[\"age\"]<90]"
   ]
  },
  {
   "cell_type": "code",
   "execution_count": 151,
   "metadata": {
    "slideshow": {
     "slide_type": "subslide"
    }
   },
   "outputs": [
    {
     "name": "stderr",
     "output_type": "stream",
     "text": [
      "d:\\Users\\fan\\anaconda3\\lib\\site-packages\\seaborn\\_decorators.py:36: FutureWarning: Pass the following variable as a keyword arg: x. From version 0.12, the only valid positional argument will be `data`, and passing other arguments without an explicit keyword will result in an error or misinterpretation.\n",
      "  warnings.warn(\n"
     ]
    },
    {
     "data": {
      "application/javascript": [
       "/* Put everything inside the global mpl namespace */\n",
       "/* global mpl */\n",
       "window.mpl = {};\n",
       "\n",
       "mpl.get_websocket_type = function () {\n",
       "    if (typeof WebSocket !== 'undefined') {\n",
       "        return WebSocket;\n",
       "    } else if (typeof MozWebSocket !== 'undefined') {\n",
       "        return MozWebSocket;\n",
       "    } else {\n",
       "        alert(\n",
       "            'Your browser does not have WebSocket support. ' +\n",
       "                'Please try Chrome, Safari or Firefox ≥ 6. ' +\n",
       "                'Firefox 4 and 5 are also supported but you ' +\n",
       "                'have to enable WebSockets in about:config.'\n",
       "        );\n",
       "    }\n",
       "};\n",
       "\n",
       "mpl.figure = function (figure_id, websocket, ondownload, parent_element) {\n",
       "    this.id = figure_id;\n",
       "\n",
       "    this.ws = websocket;\n",
       "\n",
       "    this.supports_binary = this.ws.binaryType !== undefined;\n",
       "\n",
       "    if (!this.supports_binary) {\n",
       "        var warnings = document.getElementById('mpl-warnings');\n",
       "        if (warnings) {\n",
       "            warnings.style.display = 'block';\n",
       "            warnings.textContent =\n",
       "                'This browser does not support binary websocket messages. ' +\n",
       "                'Performance may be slow.';\n",
       "        }\n",
       "    }\n",
       "\n",
       "    this.imageObj = new Image();\n",
       "\n",
       "    this.context = undefined;\n",
       "    this.message = undefined;\n",
       "    this.canvas = undefined;\n",
       "    this.rubberband_canvas = undefined;\n",
       "    this.rubberband_context = undefined;\n",
       "    this.format_dropdown = undefined;\n",
       "\n",
       "    this.image_mode = 'full';\n",
       "\n",
       "    this.root = document.createElement('div');\n",
       "    this.root.setAttribute('style', 'display: inline-block');\n",
       "    this._root_extra_style(this.root);\n",
       "\n",
       "    parent_element.appendChild(this.root);\n",
       "\n",
       "    this._init_header(this);\n",
       "    this._init_canvas(this);\n",
       "    this._init_toolbar(this);\n",
       "\n",
       "    var fig = this;\n",
       "\n",
       "    this.waiting = false;\n",
       "\n",
       "    this.ws.onopen = function () {\n",
       "        fig.send_message('supports_binary', { value: fig.supports_binary });\n",
       "        fig.send_message('send_image_mode', {});\n",
       "        if (fig.ratio !== 1) {\n",
       "            fig.send_message('set_dpi_ratio', { dpi_ratio: fig.ratio });\n",
       "        }\n",
       "        fig.send_message('refresh', {});\n",
       "    };\n",
       "\n",
       "    this.imageObj.onload = function () {\n",
       "        if (fig.image_mode === 'full') {\n",
       "            // Full images could contain transparency (where diff images\n",
       "            // almost always do), so we need to clear the canvas so that\n",
       "            // there is no ghosting.\n",
       "            fig.context.clearRect(0, 0, fig.canvas.width, fig.canvas.height);\n",
       "        }\n",
       "        fig.context.drawImage(fig.imageObj, 0, 0);\n",
       "    };\n",
       "\n",
       "    this.imageObj.onunload = function () {\n",
       "        fig.ws.close();\n",
       "    };\n",
       "\n",
       "    this.ws.onmessage = this._make_on_message_function(this);\n",
       "\n",
       "    this.ondownload = ondownload;\n",
       "};\n",
       "\n",
       "mpl.figure.prototype._init_header = function () {\n",
       "    var titlebar = document.createElement('div');\n",
       "    titlebar.classList =\n",
       "        'ui-dialog-titlebar ui-widget-header ui-corner-all ui-helper-clearfix';\n",
       "    var titletext = document.createElement('div');\n",
       "    titletext.classList = 'ui-dialog-title';\n",
       "    titletext.setAttribute(\n",
       "        'style',\n",
       "        'width: 100%; text-align: center; padding: 3px;'\n",
       "    );\n",
       "    titlebar.appendChild(titletext);\n",
       "    this.root.appendChild(titlebar);\n",
       "    this.header = titletext;\n",
       "};\n",
       "\n",
       "mpl.figure.prototype._canvas_extra_style = function (_canvas_div) {};\n",
       "\n",
       "mpl.figure.prototype._root_extra_style = function (_canvas_div) {};\n",
       "\n",
       "mpl.figure.prototype._init_canvas = function () {\n",
       "    var fig = this;\n",
       "\n",
       "    var canvas_div = (this.canvas_div = document.createElement('div'));\n",
       "    canvas_div.setAttribute(\n",
       "        'style',\n",
       "        'border: 1px solid #ddd;' +\n",
       "            'box-sizing: content-box;' +\n",
       "            'clear: both;' +\n",
       "            'min-height: 1px;' +\n",
       "            'min-width: 1px;' +\n",
       "            'outline: 0;' +\n",
       "            'overflow: hidden;' +\n",
       "            'position: relative;' +\n",
       "            'resize: both;'\n",
       "    );\n",
       "\n",
       "    function on_keyboard_event_closure(name) {\n",
       "        return function (event) {\n",
       "            return fig.key_event(event, name);\n",
       "        };\n",
       "    }\n",
       "\n",
       "    canvas_div.addEventListener(\n",
       "        'keydown',\n",
       "        on_keyboard_event_closure('key_press')\n",
       "    );\n",
       "    canvas_div.addEventListener(\n",
       "        'keyup',\n",
       "        on_keyboard_event_closure('key_release')\n",
       "    );\n",
       "\n",
       "    this._canvas_extra_style(canvas_div);\n",
       "    this.root.appendChild(canvas_div);\n",
       "\n",
       "    var canvas = (this.canvas = document.createElement('canvas'));\n",
       "    canvas.classList.add('mpl-canvas');\n",
       "    canvas.setAttribute('style', 'box-sizing: content-box;');\n",
       "\n",
       "    this.context = canvas.getContext('2d');\n",
       "\n",
       "    var backingStore =\n",
       "        this.context.backingStorePixelRatio ||\n",
       "        this.context.webkitBackingStorePixelRatio ||\n",
       "        this.context.mozBackingStorePixelRatio ||\n",
       "        this.context.msBackingStorePixelRatio ||\n",
       "        this.context.oBackingStorePixelRatio ||\n",
       "        this.context.backingStorePixelRatio ||\n",
       "        1;\n",
       "\n",
       "    this.ratio = (window.devicePixelRatio || 1) / backingStore;\n",
       "\n",
       "    var rubberband_canvas = (this.rubberband_canvas = document.createElement(\n",
       "        'canvas'\n",
       "    ));\n",
       "    rubberband_canvas.setAttribute(\n",
       "        'style',\n",
       "        'box-sizing: content-box; position: absolute; left: 0; top: 0; z-index: 1;'\n",
       "    );\n",
       "\n",
       "    // Apply a ponyfill if ResizeObserver is not implemented by browser.\n",
       "    if (this.ResizeObserver === undefined) {\n",
       "        if (window.ResizeObserver !== undefined) {\n",
       "            this.ResizeObserver = window.ResizeObserver;\n",
       "        } else {\n",
       "            var obs = _JSXTOOLS_RESIZE_OBSERVER({});\n",
       "            this.ResizeObserver = obs.ResizeObserver;\n",
       "        }\n",
       "    }\n",
       "\n",
       "    this.resizeObserverInstance = new this.ResizeObserver(function (entries) {\n",
       "        var nentries = entries.length;\n",
       "        for (var i = 0; i < nentries; i++) {\n",
       "            var entry = entries[i];\n",
       "            var width, height;\n",
       "            if (entry.contentBoxSize) {\n",
       "                if (entry.contentBoxSize instanceof Array) {\n",
       "                    // Chrome 84 implements new version of spec.\n",
       "                    width = entry.contentBoxSize[0].inlineSize;\n",
       "                    height = entry.contentBoxSize[0].blockSize;\n",
       "                } else {\n",
       "                    // Firefox implements old version of spec.\n",
       "                    width = entry.contentBoxSize.inlineSize;\n",
       "                    height = entry.contentBoxSize.blockSize;\n",
       "                }\n",
       "            } else {\n",
       "                // Chrome <84 implements even older version of spec.\n",
       "                width = entry.contentRect.width;\n",
       "                height = entry.contentRect.height;\n",
       "            }\n",
       "\n",
       "            // Keep the size of the canvas and rubber band canvas in sync with\n",
       "            // the canvas container.\n",
       "            if (entry.devicePixelContentBoxSize) {\n",
       "                // Chrome 84 implements new version of spec.\n",
       "                canvas.setAttribute(\n",
       "                    'width',\n",
       "                    entry.devicePixelContentBoxSize[0].inlineSize\n",
       "                );\n",
       "                canvas.setAttribute(\n",
       "                    'height',\n",
       "                    entry.devicePixelContentBoxSize[0].blockSize\n",
       "                );\n",
       "            } else {\n",
       "                canvas.setAttribute('width', width * fig.ratio);\n",
       "                canvas.setAttribute('height', height * fig.ratio);\n",
       "            }\n",
       "            canvas.setAttribute(\n",
       "                'style',\n",
       "                'width: ' + width + 'px; height: ' + height + 'px;'\n",
       "            );\n",
       "\n",
       "            rubberband_canvas.setAttribute('width', width);\n",
       "            rubberband_canvas.setAttribute('height', height);\n",
       "\n",
       "            // And update the size in Python. We ignore the initial 0/0 size\n",
       "            // that occurs as the element is placed into the DOM, which should\n",
       "            // otherwise not happen due to the minimum size styling.\n",
       "            if (fig.ws.readyState == 1 && width != 0 && height != 0) {\n",
       "                fig.request_resize(width, height);\n",
       "            }\n",
       "        }\n",
       "    });\n",
       "    this.resizeObserverInstance.observe(canvas_div);\n",
       "\n",
       "    function on_mouse_event_closure(name) {\n",
       "        return function (event) {\n",
       "            return fig.mouse_event(event, name);\n",
       "        };\n",
       "    }\n",
       "\n",
       "    rubberband_canvas.addEventListener(\n",
       "        'mousedown',\n",
       "        on_mouse_event_closure('button_press')\n",
       "    );\n",
       "    rubberband_canvas.addEventListener(\n",
       "        'mouseup',\n",
       "        on_mouse_event_closure('button_release')\n",
       "    );\n",
       "    rubberband_canvas.addEventListener(\n",
       "        'dblclick',\n",
       "        on_mouse_event_closure('dblclick')\n",
       "    );\n",
       "    // Throttle sequential mouse events to 1 every 20ms.\n",
       "    rubberband_canvas.addEventListener(\n",
       "        'mousemove',\n",
       "        on_mouse_event_closure('motion_notify')\n",
       "    );\n",
       "\n",
       "    rubberband_canvas.addEventListener(\n",
       "        'mouseenter',\n",
       "        on_mouse_event_closure('figure_enter')\n",
       "    );\n",
       "    rubberband_canvas.addEventListener(\n",
       "        'mouseleave',\n",
       "        on_mouse_event_closure('figure_leave')\n",
       "    );\n",
       "\n",
       "    canvas_div.addEventListener('wheel', function (event) {\n",
       "        if (event.deltaY < 0) {\n",
       "            event.step = 1;\n",
       "        } else {\n",
       "            event.step = -1;\n",
       "        }\n",
       "        on_mouse_event_closure('scroll')(event);\n",
       "    });\n",
       "\n",
       "    canvas_div.appendChild(canvas);\n",
       "    canvas_div.appendChild(rubberband_canvas);\n",
       "\n",
       "    this.rubberband_context = rubberband_canvas.getContext('2d');\n",
       "    this.rubberband_context.strokeStyle = '#000000';\n",
       "\n",
       "    this._resize_canvas = function (width, height, forward) {\n",
       "        if (forward) {\n",
       "            canvas_div.style.width = width + 'px';\n",
       "            canvas_div.style.height = height + 'px';\n",
       "        }\n",
       "    };\n",
       "\n",
       "    // Disable right mouse context menu.\n",
       "    this.rubberband_canvas.addEventListener('contextmenu', function (_e) {\n",
       "        event.preventDefault();\n",
       "        return false;\n",
       "    });\n",
       "\n",
       "    function set_focus() {\n",
       "        canvas.focus();\n",
       "        canvas_div.focus();\n",
       "    }\n",
       "\n",
       "    window.setTimeout(set_focus, 100);\n",
       "};\n",
       "\n",
       "mpl.figure.prototype._init_toolbar = function () {\n",
       "    var fig = this;\n",
       "\n",
       "    var toolbar = document.createElement('div');\n",
       "    toolbar.classList = 'mpl-toolbar';\n",
       "    this.root.appendChild(toolbar);\n",
       "\n",
       "    function on_click_closure(name) {\n",
       "        return function (_event) {\n",
       "            return fig.toolbar_button_onclick(name);\n",
       "        };\n",
       "    }\n",
       "\n",
       "    function on_mouseover_closure(tooltip) {\n",
       "        return function (event) {\n",
       "            if (!event.currentTarget.disabled) {\n",
       "                return fig.toolbar_button_onmouseover(tooltip);\n",
       "            }\n",
       "        };\n",
       "    }\n",
       "\n",
       "    fig.buttons = {};\n",
       "    var buttonGroup = document.createElement('div');\n",
       "    buttonGroup.classList = 'mpl-button-group';\n",
       "    for (var toolbar_ind in mpl.toolbar_items) {\n",
       "        var name = mpl.toolbar_items[toolbar_ind][0];\n",
       "        var tooltip = mpl.toolbar_items[toolbar_ind][1];\n",
       "        var image = mpl.toolbar_items[toolbar_ind][2];\n",
       "        var method_name = mpl.toolbar_items[toolbar_ind][3];\n",
       "\n",
       "        if (!name) {\n",
       "            /* Instead of a spacer, we start a new button group. */\n",
       "            if (buttonGroup.hasChildNodes()) {\n",
       "                toolbar.appendChild(buttonGroup);\n",
       "            }\n",
       "            buttonGroup = document.createElement('div');\n",
       "            buttonGroup.classList = 'mpl-button-group';\n",
       "            continue;\n",
       "        }\n",
       "\n",
       "        var button = (fig.buttons[name] = document.createElement('button'));\n",
       "        button.classList = 'mpl-widget';\n",
       "        button.setAttribute('role', 'button');\n",
       "        button.setAttribute('aria-disabled', 'false');\n",
       "        button.addEventListener('click', on_click_closure(method_name));\n",
       "        button.addEventListener('mouseover', on_mouseover_closure(tooltip));\n",
       "\n",
       "        var icon_img = document.createElement('img');\n",
       "        icon_img.src = '_images/' + image + '.png';\n",
       "        icon_img.srcset = '_images/' + image + '_large.png 2x';\n",
       "        icon_img.alt = tooltip;\n",
       "        button.appendChild(icon_img);\n",
       "\n",
       "        buttonGroup.appendChild(button);\n",
       "    }\n",
       "\n",
       "    if (buttonGroup.hasChildNodes()) {\n",
       "        toolbar.appendChild(buttonGroup);\n",
       "    }\n",
       "\n",
       "    var fmt_picker = document.createElement('select');\n",
       "    fmt_picker.classList = 'mpl-widget';\n",
       "    toolbar.appendChild(fmt_picker);\n",
       "    this.format_dropdown = fmt_picker;\n",
       "\n",
       "    for (var ind in mpl.extensions) {\n",
       "        var fmt = mpl.extensions[ind];\n",
       "        var option = document.createElement('option');\n",
       "        option.selected = fmt === mpl.default_extension;\n",
       "        option.innerHTML = fmt;\n",
       "        fmt_picker.appendChild(option);\n",
       "    }\n",
       "\n",
       "    var status_bar = document.createElement('span');\n",
       "    status_bar.classList = 'mpl-message';\n",
       "    toolbar.appendChild(status_bar);\n",
       "    this.message = status_bar;\n",
       "};\n",
       "\n",
       "mpl.figure.prototype.request_resize = function (x_pixels, y_pixels) {\n",
       "    // Request matplotlib to resize the figure. Matplotlib will then trigger a resize in the client,\n",
       "    // which will in turn request a refresh of the image.\n",
       "    this.send_message('resize', { width: x_pixels, height: y_pixels });\n",
       "};\n",
       "\n",
       "mpl.figure.prototype.send_message = function (type, properties) {\n",
       "    properties['type'] = type;\n",
       "    properties['figure_id'] = this.id;\n",
       "    this.ws.send(JSON.stringify(properties));\n",
       "};\n",
       "\n",
       "mpl.figure.prototype.send_draw_message = function () {\n",
       "    if (!this.waiting) {\n",
       "        this.waiting = true;\n",
       "        this.ws.send(JSON.stringify({ type: 'draw', figure_id: this.id }));\n",
       "    }\n",
       "};\n",
       "\n",
       "mpl.figure.prototype.handle_save = function (fig, _msg) {\n",
       "    var format_dropdown = fig.format_dropdown;\n",
       "    var format = format_dropdown.options[format_dropdown.selectedIndex].value;\n",
       "    fig.ondownload(fig, format);\n",
       "};\n",
       "\n",
       "mpl.figure.prototype.handle_resize = function (fig, msg) {\n",
       "    var size = msg['size'];\n",
       "    if (size[0] !== fig.canvas.width || size[1] !== fig.canvas.height) {\n",
       "        fig._resize_canvas(size[0], size[1], msg['forward']);\n",
       "        fig.send_message('refresh', {});\n",
       "    }\n",
       "};\n",
       "\n",
       "mpl.figure.prototype.handle_rubberband = function (fig, msg) {\n",
       "    var x0 = msg['x0'] / fig.ratio;\n",
       "    var y0 = (fig.canvas.height - msg['y0']) / fig.ratio;\n",
       "    var x1 = msg['x1'] / fig.ratio;\n",
       "    var y1 = (fig.canvas.height - msg['y1']) / fig.ratio;\n",
       "    x0 = Math.floor(x0) + 0.5;\n",
       "    y0 = Math.floor(y0) + 0.5;\n",
       "    x1 = Math.floor(x1) + 0.5;\n",
       "    y1 = Math.floor(y1) + 0.5;\n",
       "    var min_x = Math.min(x0, x1);\n",
       "    var min_y = Math.min(y0, y1);\n",
       "    var width = Math.abs(x1 - x0);\n",
       "    var height = Math.abs(y1 - y0);\n",
       "\n",
       "    fig.rubberband_context.clearRect(\n",
       "        0,\n",
       "        0,\n",
       "        fig.canvas.width / fig.ratio,\n",
       "        fig.canvas.height / fig.ratio\n",
       "    );\n",
       "\n",
       "    fig.rubberband_context.strokeRect(min_x, min_y, width, height);\n",
       "};\n",
       "\n",
       "mpl.figure.prototype.handle_figure_label = function (fig, msg) {\n",
       "    // Updates the figure title.\n",
       "    fig.header.textContent = msg['label'];\n",
       "};\n",
       "\n",
       "mpl.figure.prototype.handle_cursor = function (fig, msg) {\n",
       "    var cursor = msg['cursor'];\n",
       "    switch (cursor) {\n",
       "        case 0:\n",
       "            cursor = 'pointer';\n",
       "            break;\n",
       "        case 1:\n",
       "            cursor = 'default';\n",
       "            break;\n",
       "        case 2:\n",
       "            cursor = 'crosshair';\n",
       "            break;\n",
       "        case 3:\n",
       "            cursor = 'move';\n",
       "            break;\n",
       "    }\n",
       "    fig.rubberband_canvas.style.cursor = cursor;\n",
       "};\n",
       "\n",
       "mpl.figure.prototype.handle_message = function (fig, msg) {\n",
       "    fig.message.textContent = msg['message'];\n",
       "};\n",
       "\n",
       "mpl.figure.prototype.handle_draw = function (fig, _msg) {\n",
       "    // Request the server to send over a new figure.\n",
       "    fig.send_draw_message();\n",
       "};\n",
       "\n",
       "mpl.figure.prototype.handle_image_mode = function (fig, msg) {\n",
       "    fig.image_mode = msg['mode'];\n",
       "};\n",
       "\n",
       "mpl.figure.prototype.handle_history_buttons = function (fig, msg) {\n",
       "    for (var key in msg) {\n",
       "        if (!(key in fig.buttons)) {\n",
       "            continue;\n",
       "        }\n",
       "        fig.buttons[key].disabled = !msg[key];\n",
       "        fig.buttons[key].setAttribute('aria-disabled', !msg[key]);\n",
       "    }\n",
       "};\n",
       "\n",
       "mpl.figure.prototype.handle_navigate_mode = function (fig, msg) {\n",
       "    if (msg['mode'] === 'PAN') {\n",
       "        fig.buttons['Pan'].classList.add('active');\n",
       "        fig.buttons['Zoom'].classList.remove('active');\n",
       "    } else if (msg['mode'] === 'ZOOM') {\n",
       "        fig.buttons['Pan'].classList.remove('active');\n",
       "        fig.buttons['Zoom'].classList.add('active');\n",
       "    } else {\n",
       "        fig.buttons['Pan'].classList.remove('active');\n",
       "        fig.buttons['Zoom'].classList.remove('active');\n",
       "    }\n",
       "};\n",
       "\n",
       "mpl.figure.prototype.updated_canvas_event = function () {\n",
       "    // Called whenever the canvas gets updated.\n",
       "    this.send_message('ack', {});\n",
       "};\n",
       "\n",
       "// A function to construct a web socket function for onmessage handling.\n",
       "// Called in the figure constructor.\n",
       "mpl.figure.prototype._make_on_message_function = function (fig) {\n",
       "    return function socket_on_message(evt) {\n",
       "        if (evt.data instanceof Blob) {\n",
       "            var img = evt.data;\n",
       "            if (img.type !== 'image/png') {\n",
       "                /* FIXME: We get \"Resource interpreted as Image but\n",
       "                 * transferred with MIME type text/plain:\" errors on\n",
       "                 * Chrome.  But how to set the MIME type?  It doesn't seem\n",
       "                 * to be part of the websocket stream */\n",
       "                img.type = 'image/png';\n",
       "            }\n",
       "\n",
       "            /* Free the memory for the previous frames */\n",
       "            if (fig.imageObj.src) {\n",
       "                (window.URL || window.webkitURL).revokeObjectURL(\n",
       "                    fig.imageObj.src\n",
       "                );\n",
       "            }\n",
       "\n",
       "            fig.imageObj.src = (window.URL || window.webkitURL).createObjectURL(\n",
       "                img\n",
       "            );\n",
       "            fig.updated_canvas_event();\n",
       "            fig.waiting = false;\n",
       "            return;\n",
       "        } else if (\n",
       "            typeof evt.data === 'string' &&\n",
       "            evt.data.slice(0, 21) === 'data:image/png;base64'\n",
       "        ) {\n",
       "            fig.imageObj.src = evt.data;\n",
       "            fig.updated_canvas_event();\n",
       "            fig.waiting = false;\n",
       "            return;\n",
       "        }\n",
       "\n",
       "        var msg = JSON.parse(evt.data);\n",
       "        var msg_type = msg['type'];\n",
       "\n",
       "        // Call the  \"handle_{type}\" callback, which takes\n",
       "        // the figure and JSON message as its only arguments.\n",
       "        try {\n",
       "            var callback = fig['handle_' + msg_type];\n",
       "        } catch (e) {\n",
       "            console.log(\n",
       "                \"No handler for the '\" + msg_type + \"' message type: \",\n",
       "                msg\n",
       "            );\n",
       "            return;\n",
       "        }\n",
       "\n",
       "        if (callback) {\n",
       "            try {\n",
       "                // console.log(\"Handling '\" + msg_type + \"' message: \", msg);\n",
       "                callback(fig, msg);\n",
       "            } catch (e) {\n",
       "                console.log(\n",
       "                    \"Exception inside the 'handler_\" + msg_type + \"' callback:\",\n",
       "                    e,\n",
       "                    e.stack,\n",
       "                    msg\n",
       "                );\n",
       "            }\n",
       "        }\n",
       "    };\n",
       "};\n",
       "\n",
       "// from http://stackoverflow.com/questions/1114465/getting-mouse-location-in-canvas\n",
       "mpl.findpos = function (e) {\n",
       "    //this section is from http://www.quirksmode.org/js/events_properties.html\n",
       "    var targ;\n",
       "    if (!e) {\n",
       "        e = window.event;\n",
       "    }\n",
       "    if (e.target) {\n",
       "        targ = e.target;\n",
       "    } else if (e.srcElement) {\n",
       "        targ = e.srcElement;\n",
       "    }\n",
       "    if (targ.nodeType === 3) {\n",
       "        // defeat Safari bug\n",
       "        targ = targ.parentNode;\n",
       "    }\n",
       "\n",
       "    // pageX,Y are the mouse positions relative to the document\n",
       "    var boundingRect = targ.getBoundingClientRect();\n",
       "    var x = e.pageX - (boundingRect.left + document.body.scrollLeft);\n",
       "    var y = e.pageY - (boundingRect.top + document.body.scrollTop);\n",
       "\n",
       "    return { x: x, y: y };\n",
       "};\n",
       "\n",
       "/*\n",
       " * return a copy of an object with only non-object keys\n",
       " * we need this to avoid circular references\n",
       " * http://stackoverflow.com/a/24161582/3208463\n",
       " */\n",
       "function simpleKeys(original) {\n",
       "    return Object.keys(original).reduce(function (obj, key) {\n",
       "        if (typeof original[key] !== 'object') {\n",
       "            obj[key] = original[key];\n",
       "        }\n",
       "        return obj;\n",
       "    }, {});\n",
       "}\n",
       "\n",
       "mpl.figure.prototype.mouse_event = function (event, name) {\n",
       "    var canvas_pos = mpl.findpos(event);\n",
       "\n",
       "    if (name === 'button_press') {\n",
       "        this.canvas.focus();\n",
       "        this.canvas_div.focus();\n",
       "    }\n",
       "\n",
       "    var x = canvas_pos.x * this.ratio;\n",
       "    var y = canvas_pos.y * this.ratio;\n",
       "\n",
       "    this.send_message(name, {\n",
       "        x: x,\n",
       "        y: y,\n",
       "        button: event.button,\n",
       "        step: event.step,\n",
       "        guiEvent: simpleKeys(event),\n",
       "    });\n",
       "\n",
       "    /* This prevents the web browser from automatically changing to\n",
       "     * the text insertion cursor when the button is pressed.  We want\n",
       "     * to control all of the cursor setting manually through the\n",
       "     * 'cursor' event from matplotlib */\n",
       "    event.preventDefault();\n",
       "    return false;\n",
       "};\n",
       "\n",
       "mpl.figure.prototype._key_event_extra = function (_event, _name) {\n",
       "    // Handle any extra behaviour associated with a key event\n",
       "};\n",
       "\n",
       "mpl.figure.prototype.key_event = function (event, name) {\n",
       "    // Prevent repeat events\n",
       "    if (name === 'key_press') {\n",
       "        if (event.key === this._key) {\n",
       "            return;\n",
       "        } else {\n",
       "            this._key = event.key;\n",
       "        }\n",
       "    }\n",
       "    if (name === 'key_release') {\n",
       "        this._key = null;\n",
       "    }\n",
       "\n",
       "    var value = '';\n",
       "    if (event.ctrlKey && event.key !== 'Control') {\n",
       "        value += 'ctrl+';\n",
       "    }\n",
       "    else if (event.altKey && event.key !== 'Alt') {\n",
       "        value += 'alt+';\n",
       "    }\n",
       "    else if (event.shiftKey && event.key !== 'Shift') {\n",
       "        value += 'shift+';\n",
       "    }\n",
       "\n",
       "    value += 'k' + event.key;\n",
       "\n",
       "    this._key_event_extra(event, name);\n",
       "\n",
       "    this.send_message(name, { key: value, guiEvent: simpleKeys(event) });\n",
       "    return false;\n",
       "};\n",
       "\n",
       "mpl.figure.prototype.toolbar_button_onclick = function (name) {\n",
       "    if (name === 'download') {\n",
       "        this.handle_save(this, null);\n",
       "    } else {\n",
       "        this.send_message('toolbar_button', { name: name });\n",
       "    }\n",
       "};\n",
       "\n",
       "mpl.figure.prototype.toolbar_button_onmouseover = function (tooltip) {\n",
       "    this.message.textContent = tooltip;\n",
       "};\n",
       "\n",
       "///////////////// REMAINING CONTENT GENERATED BY embed_js.py /////////////////\n",
       "// prettier-ignore\n",
       "var _JSXTOOLS_RESIZE_OBSERVER=function(A){var t,i=new WeakMap,n=new WeakMap,a=new WeakMap,r=new WeakMap,o=new Set;function s(e){if(!(this instanceof s))throw new TypeError(\"Constructor requires 'new' operator\");i.set(this,e)}function h(){throw new TypeError(\"Function is not a constructor\")}function c(e,t,i,n){e=0 in arguments?Number(arguments[0]):0,t=1 in arguments?Number(arguments[1]):0,i=2 in arguments?Number(arguments[2]):0,n=3 in arguments?Number(arguments[3]):0,this.right=(this.x=this.left=e)+(this.width=i),this.bottom=(this.y=this.top=t)+(this.height=n),Object.freeze(this)}function d(){t=requestAnimationFrame(d);var s=new WeakMap,p=new Set;o.forEach((function(t){r.get(t).forEach((function(i){var r=t instanceof window.SVGElement,o=a.get(t),d=r?0:parseFloat(o.paddingTop),f=r?0:parseFloat(o.paddingRight),l=r?0:parseFloat(o.paddingBottom),u=r?0:parseFloat(o.paddingLeft),g=r?0:parseFloat(o.borderTopWidth),m=r?0:parseFloat(o.borderRightWidth),w=r?0:parseFloat(o.borderBottomWidth),b=u+f,F=d+l,v=(r?0:parseFloat(o.borderLeftWidth))+m,W=g+w,y=r?0:t.offsetHeight-W-t.clientHeight,E=r?0:t.offsetWidth-v-t.clientWidth,R=b+v,z=F+W,M=r?t.width:parseFloat(o.width)-R-E,O=r?t.height:parseFloat(o.height)-z-y;if(n.has(t)){var k=n.get(t);if(k[0]===M&&k[1]===O)return}n.set(t,[M,O]);var S=Object.create(h.prototype);S.target=t,S.contentRect=new c(u,d,M,O),s.has(i)||(s.set(i,[]),p.add(i)),s.get(i).push(S)}))})),p.forEach((function(e){i.get(e).call(e,s.get(e),e)}))}return s.prototype.observe=function(i){if(i instanceof window.Element){r.has(i)||(r.set(i,new Set),o.add(i),a.set(i,window.getComputedStyle(i)));var n=r.get(i);n.has(this)||n.add(this),cancelAnimationFrame(t),t=requestAnimationFrame(d)}},s.prototype.unobserve=function(i){if(i instanceof window.Element&&r.has(i)){var n=r.get(i);n.has(this)&&(n.delete(this),n.size||(r.delete(i),o.delete(i))),n.size||r.delete(i),o.size||cancelAnimationFrame(t)}},A.DOMRectReadOnly=c,A.ResizeObserver=s,A.ResizeObserverEntry=h,A}; // eslint-disable-line\n",
       "mpl.toolbar_items = [[\"Home\", \"Reset original view\", \"fa fa-home icon-home\", \"home\"], [\"Back\", \"Back to previous view\", \"fa fa-arrow-left icon-arrow-left\", \"back\"], [\"Forward\", \"Forward to next view\", \"fa fa-arrow-right icon-arrow-right\", \"forward\"], [\"\", \"\", \"\", \"\"], [\"Pan\", \"Left button pans, Right button zooms\\nx/y fixes axis, CTRL fixes aspect\", \"fa fa-arrows icon-move\", \"pan\"], [\"Zoom\", \"Zoom to rectangle\\nx/y fixes axis, CTRL fixes aspect\", \"fa fa-square-o icon-check-empty\", \"zoom\"], [\"\", \"\", \"\", \"\"], [\"Download\", \"Download plot\", \"fa fa-floppy-o icon-save\", \"download\"]];\n",
       "\n",
       "mpl.extensions = [\"eps\", \"jpeg\", \"pgf\", \"pdf\", \"png\", \"ps\", \"raw\", \"svg\", \"tif\"];\n",
       "\n",
       "mpl.default_extension = \"png\";/* global mpl */\n",
       "\n",
       "var comm_websocket_adapter = function (comm) {\n",
       "    // Create a \"websocket\"-like object which calls the given IPython comm\n",
       "    // object with the appropriate methods. Currently this is a non binary\n",
       "    // socket, so there is still some room for performance tuning.\n",
       "    var ws = {};\n",
       "\n",
       "    ws.binaryType = comm.kernel.ws.binaryType;\n",
       "    ws.readyState = comm.kernel.ws.readyState;\n",
       "    function updateReadyState(_event) {\n",
       "        if (comm.kernel.ws) {\n",
       "            ws.readyState = comm.kernel.ws.readyState;\n",
       "        } else {\n",
       "            ws.readyState = 3; // Closed state.\n",
       "        }\n",
       "    }\n",
       "    comm.kernel.ws.addEventListener('open', updateReadyState);\n",
       "    comm.kernel.ws.addEventListener('close', updateReadyState);\n",
       "    comm.kernel.ws.addEventListener('error', updateReadyState);\n",
       "\n",
       "    ws.close = function () {\n",
       "        comm.close();\n",
       "    };\n",
       "    ws.send = function (m) {\n",
       "        //console.log('sending', m);\n",
       "        comm.send(m);\n",
       "    };\n",
       "    // Register the callback with on_msg.\n",
       "    comm.on_msg(function (msg) {\n",
       "        //console.log('receiving', msg['content']['data'], msg);\n",
       "        var data = msg['content']['data'];\n",
       "        if (data['blob'] !== undefined) {\n",
       "            data = {\n",
       "                data: new Blob(msg['buffers'], { type: data['blob'] }),\n",
       "            };\n",
       "        }\n",
       "        // Pass the mpl event to the overridden (by mpl) onmessage function.\n",
       "        ws.onmessage(data);\n",
       "    });\n",
       "    return ws;\n",
       "};\n",
       "\n",
       "mpl.mpl_figure_comm = function (comm, msg) {\n",
       "    // This is the function which gets called when the mpl process\n",
       "    // starts-up an IPython Comm through the \"matplotlib\" channel.\n",
       "\n",
       "    var id = msg.content.data.id;\n",
       "    // Get hold of the div created by the display call when the Comm\n",
       "    // socket was opened in Python.\n",
       "    var element = document.getElementById(id);\n",
       "    var ws_proxy = comm_websocket_adapter(comm);\n",
       "\n",
       "    function ondownload(figure, _format) {\n",
       "        window.open(figure.canvas.toDataURL());\n",
       "    }\n",
       "\n",
       "    var fig = new mpl.figure(id, ws_proxy, ondownload, element);\n",
       "\n",
       "    // Call onopen now - mpl needs it, as it is assuming we've passed it a real\n",
       "    // web socket which is closed, not our websocket->open comm proxy.\n",
       "    ws_proxy.onopen();\n",
       "\n",
       "    fig.parent_element = element;\n",
       "    fig.cell_info = mpl.find_output_cell(\"<div id='\" + id + \"'></div>\");\n",
       "    if (!fig.cell_info) {\n",
       "        console.error('Failed to find cell for figure', id, fig);\n",
       "        return;\n",
       "    }\n",
       "    fig.cell_info[0].output_area.element.on(\n",
       "        'cleared',\n",
       "        { fig: fig },\n",
       "        fig._remove_fig_handler\n",
       "    );\n",
       "};\n",
       "\n",
       "mpl.figure.prototype.handle_close = function (fig, msg) {\n",
       "    var width = fig.canvas.width / fig.ratio;\n",
       "    fig.cell_info[0].output_area.element.off(\n",
       "        'cleared',\n",
       "        fig._remove_fig_handler\n",
       "    );\n",
       "    fig.resizeObserverInstance.unobserve(fig.canvas_div);\n",
       "\n",
       "    // Update the output cell to use the data from the current canvas.\n",
       "    fig.push_to_output();\n",
       "    var dataURL = fig.canvas.toDataURL();\n",
       "    // Re-enable the keyboard manager in IPython - without this line, in FF,\n",
       "    // the notebook keyboard shortcuts fail.\n",
       "    IPython.keyboard_manager.enable();\n",
       "    fig.parent_element.innerHTML =\n",
       "        '<img src=\"' + dataURL + '\" width=\"' + width + '\">';\n",
       "    fig.close_ws(fig, msg);\n",
       "};\n",
       "\n",
       "mpl.figure.prototype.close_ws = function (fig, msg) {\n",
       "    fig.send_message('closing', msg);\n",
       "    // fig.ws.close()\n",
       "};\n",
       "\n",
       "mpl.figure.prototype.push_to_output = function (_remove_interactive) {\n",
       "    // Turn the data on the canvas into data in the output cell.\n",
       "    var width = this.canvas.width / this.ratio;\n",
       "    var dataURL = this.canvas.toDataURL();\n",
       "    this.cell_info[1]['text/html'] =\n",
       "        '<img src=\"' + dataURL + '\" width=\"' + width + '\">';\n",
       "};\n",
       "\n",
       "mpl.figure.prototype.updated_canvas_event = function () {\n",
       "    // Tell IPython that the notebook contents must change.\n",
       "    IPython.notebook.set_dirty(true);\n",
       "    this.send_message('ack', {});\n",
       "    var fig = this;\n",
       "    // Wait a second, then push the new image to the DOM so\n",
       "    // that it is saved nicely (might be nice to debounce this).\n",
       "    setTimeout(function () {\n",
       "        fig.push_to_output();\n",
       "    }, 1000);\n",
       "};\n",
       "\n",
       "mpl.figure.prototype._init_toolbar = function () {\n",
       "    var fig = this;\n",
       "\n",
       "    var toolbar = document.createElement('div');\n",
       "    toolbar.classList = 'btn-toolbar';\n",
       "    this.root.appendChild(toolbar);\n",
       "\n",
       "    function on_click_closure(name) {\n",
       "        return function (_event) {\n",
       "            return fig.toolbar_button_onclick(name);\n",
       "        };\n",
       "    }\n",
       "\n",
       "    function on_mouseover_closure(tooltip) {\n",
       "        return function (event) {\n",
       "            if (!event.currentTarget.disabled) {\n",
       "                return fig.toolbar_button_onmouseover(tooltip);\n",
       "            }\n",
       "        };\n",
       "    }\n",
       "\n",
       "    fig.buttons = {};\n",
       "    var buttonGroup = document.createElement('div');\n",
       "    buttonGroup.classList = 'btn-group';\n",
       "    var button;\n",
       "    for (var toolbar_ind in mpl.toolbar_items) {\n",
       "        var name = mpl.toolbar_items[toolbar_ind][0];\n",
       "        var tooltip = mpl.toolbar_items[toolbar_ind][1];\n",
       "        var image = mpl.toolbar_items[toolbar_ind][2];\n",
       "        var method_name = mpl.toolbar_items[toolbar_ind][3];\n",
       "\n",
       "        if (!name) {\n",
       "            /* Instead of a spacer, we start a new button group. */\n",
       "            if (buttonGroup.hasChildNodes()) {\n",
       "                toolbar.appendChild(buttonGroup);\n",
       "            }\n",
       "            buttonGroup = document.createElement('div');\n",
       "            buttonGroup.classList = 'btn-group';\n",
       "            continue;\n",
       "        }\n",
       "\n",
       "        button = fig.buttons[name] = document.createElement('button');\n",
       "        button.classList = 'btn btn-default';\n",
       "        button.href = '#';\n",
       "        button.title = name;\n",
       "        button.innerHTML = '<i class=\"fa ' + image + ' fa-lg\"></i>';\n",
       "        button.addEventListener('click', on_click_closure(method_name));\n",
       "        button.addEventListener('mouseover', on_mouseover_closure(tooltip));\n",
       "        buttonGroup.appendChild(button);\n",
       "    }\n",
       "\n",
       "    if (buttonGroup.hasChildNodes()) {\n",
       "        toolbar.appendChild(buttonGroup);\n",
       "    }\n",
       "\n",
       "    // Add the status bar.\n",
       "    var status_bar = document.createElement('span');\n",
       "    status_bar.classList = 'mpl-message pull-right';\n",
       "    toolbar.appendChild(status_bar);\n",
       "    this.message = status_bar;\n",
       "\n",
       "    // Add the close button to the window.\n",
       "    var buttongrp = document.createElement('div');\n",
       "    buttongrp.classList = 'btn-group inline pull-right';\n",
       "    button = document.createElement('button');\n",
       "    button.classList = 'btn btn-mini btn-primary';\n",
       "    button.href = '#';\n",
       "    button.title = 'Stop Interaction';\n",
       "    button.innerHTML = '<i class=\"fa fa-power-off icon-remove icon-large\"></i>';\n",
       "    button.addEventListener('click', function (_evt) {\n",
       "        fig.handle_close(fig, {});\n",
       "    });\n",
       "    button.addEventListener(\n",
       "        'mouseover',\n",
       "        on_mouseover_closure('Stop Interaction')\n",
       "    );\n",
       "    buttongrp.appendChild(button);\n",
       "    var titlebar = this.root.querySelector('.ui-dialog-titlebar');\n",
       "    titlebar.insertBefore(buttongrp, titlebar.firstChild);\n",
       "};\n",
       "\n",
       "mpl.figure.prototype._remove_fig_handler = function (event) {\n",
       "    var fig = event.data.fig;\n",
       "    if (event.target !== this) {\n",
       "        // Ignore bubbled events from children.\n",
       "        return;\n",
       "    }\n",
       "    fig.close_ws(fig, {});\n",
       "};\n",
       "\n",
       "mpl.figure.prototype._root_extra_style = function (el) {\n",
       "    el.style.boxSizing = 'content-box'; // override notebook setting of border-box.\n",
       "};\n",
       "\n",
       "mpl.figure.prototype._canvas_extra_style = function (el) {\n",
       "    // this is important to make the div 'focusable\n",
       "    el.setAttribute('tabindex', 0);\n",
       "    // reach out to IPython and tell the keyboard manager to turn it's self\n",
       "    // off when our div gets focus\n",
       "\n",
       "    // location in version 3\n",
       "    if (IPython.notebook.keyboard_manager) {\n",
       "        IPython.notebook.keyboard_manager.register_events(el);\n",
       "    } else {\n",
       "        // location in version 2\n",
       "        IPython.keyboard_manager.register_events(el);\n",
       "    }\n",
       "};\n",
       "\n",
       "mpl.figure.prototype._key_event_extra = function (event, _name) {\n",
       "    var manager = IPython.notebook.keyboard_manager;\n",
       "    if (!manager) {\n",
       "        manager = IPython.keyboard_manager;\n",
       "    }\n",
       "\n",
       "    // Check for shift+enter\n",
       "    if (event.shiftKey && event.which === 13) {\n",
       "        this.canvas_div.blur();\n",
       "        // select the cell after this one\n",
       "        var index = IPython.notebook.find_cell_index(this.cell_info[0]);\n",
       "        IPython.notebook.select(index + 1);\n",
       "    }\n",
       "};\n",
       "\n",
       "mpl.figure.prototype.handle_save = function (fig, _msg) {\n",
       "    fig.ondownload(fig, null);\n",
       "};\n",
       "\n",
       "mpl.find_output_cell = function (html_output) {\n",
       "    // Return the cell and output element which can be found *uniquely* in the notebook.\n",
       "    // Note - this is a bit hacky, but it is done because the \"notebook_saving.Notebook\"\n",
       "    // IPython event is triggered only after the cells have been serialised, which for\n",
       "    // our purposes (turning an active figure into a static one), is too late.\n",
       "    var cells = IPython.notebook.get_cells();\n",
       "    var ncells = cells.length;\n",
       "    for (var i = 0; i < ncells; i++) {\n",
       "        var cell = cells[i];\n",
       "        if (cell.cell_type === 'code') {\n",
       "            for (var j = 0; j < cell.output_area.outputs.length; j++) {\n",
       "                var data = cell.output_area.outputs[j];\n",
       "                if (data.data) {\n",
       "                    // IPython >= 3 moved mimebundle to data attribute of output\n",
       "                    data = data.data;\n",
       "                }\n",
       "                if (data['text/html'] === html_output) {\n",
       "                    return [cell, data, j];\n",
       "                }\n",
       "            }\n",
       "        }\n",
       "    }\n",
       "};\n",
       "\n",
       "// Register the function which deals with the matplotlib target/channel.\n",
       "// The kernel may be null if the page has been refreshed.\n",
       "if (IPython.notebook.kernel !== null) {\n",
       "    IPython.notebook.kernel.comm_manager.register_target(\n",
       "        'matplotlib',\n",
       "        mpl.mpl_figure_comm\n",
       "    );\n",
       "}\n"
      ],
      "text/plain": [
       "<IPython.core.display.Javascript object>"
      ]
     },
     "metadata": {},
     "output_type": "display_data"
    },
    {
     "data": {
      "text/html": [
       "<img src=\"data:image/png;base64,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\" width=\"639.999974568686\">"
      ],
      "text/plain": [
       "<IPython.core.display.HTML object>"
      ]
     },
     "metadata": {},
     "output_type": "display_data"
    },
    {
     "data": {
      "text/plain": [
       "<AxesSubplot:xlabel='age'>"
      ]
     },
     "execution_count": 151,
     "metadata": {},
     "output_type": "execute_result"
    }
   ],
   "source": [
    "sns.boxplot(users_with_true_age[\"age\"].dropna())"
   ]
  },
  {
   "cell_type": "code",
   "execution_count": 152,
   "metadata": {
    "slideshow": {
     "slide_type": "subslide"
    }
   },
   "outputs": [],
   "source": [
    "users_with_true_age=users_with_true_age[users_with_true_age[\"age\"]>10]"
   ]
  },
  {
   "cell_type": "code",
   "execution_count": 154,
   "metadata": {
    "slideshow": {
     "slide_type": "subslide"
    }
   },
   "outputs": [
    {
     "name": "stderr",
     "output_type": "stream",
     "text": [
      "d:\\Users\\fan\\anaconda3\\lib\\site-packages\\seaborn\\_decorators.py:36: FutureWarning: Pass the following variable as a keyword arg: x. From version 0.12, the only valid positional argument will be `data`, and passing other arguments without an explicit keyword will result in an error or misinterpretation.\n",
      "  warnings.warn(\n"
     ]
    },
    {
     "data": {
      "application/javascript": [
       "/* Put everything inside the global mpl namespace */\n",
       "/* global mpl */\n",
       "window.mpl = {};\n",
       "\n",
       "mpl.get_websocket_type = function () {\n",
       "    if (typeof WebSocket !== 'undefined') {\n",
       "        return WebSocket;\n",
       "    } else if (typeof MozWebSocket !== 'undefined') {\n",
       "        return MozWebSocket;\n",
       "    } else {\n",
       "        alert(\n",
       "            'Your browser does not have WebSocket support. ' +\n",
       "                'Please try Chrome, Safari or Firefox ≥ 6. ' +\n",
       "                'Firefox 4 and 5 are also supported but you ' +\n",
       "                'have to enable WebSockets in about:config.'\n",
       "        );\n",
       "    }\n",
       "};\n",
       "\n",
       "mpl.figure = function (figure_id, websocket, ondownload, parent_element) {\n",
       "    this.id = figure_id;\n",
       "\n",
       "    this.ws = websocket;\n",
       "\n",
       "    this.supports_binary = this.ws.binaryType !== undefined;\n",
       "\n",
       "    if (!this.supports_binary) {\n",
       "        var warnings = document.getElementById('mpl-warnings');\n",
       "        if (warnings) {\n",
       "            warnings.style.display = 'block';\n",
       "            warnings.textContent =\n",
       "                'This browser does not support binary websocket messages. ' +\n",
       "                'Performance may be slow.';\n",
       "        }\n",
       "    }\n",
       "\n",
       "    this.imageObj = new Image();\n",
       "\n",
       "    this.context = undefined;\n",
       "    this.message = undefined;\n",
       "    this.canvas = undefined;\n",
       "    this.rubberband_canvas = undefined;\n",
       "    this.rubberband_context = undefined;\n",
       "    this.format_dropdown = undefined;\n",
       "\n",
       "    this.image_mode = 'full';\n",
       "\n",
       "    this.root = document.createElement('div');\n",
       "    this.root.setAttribute('style', 'display: inline-block');\n",
       "    this._root_extra_style(this.root);\n",
       "\n",
       "    parent_element.appendChild(this.root);\n",
       "\n",
       "    this._init_header(this);\n",
       "    this._init_canvas(this);\n",
       "    this._init_toolbar(this);\n",
       "\n",
       "    var fig = this;\n",
       "\n",
       "    this.waiting = false;\n",
       "\n",
       "    this.ws.onopen = function () {\n",
       "        fig.send_message('supports_binary', { value: fig.supports_binary });\n",
       "        fig.send_message('send_image_mode', {});\n",
       "        if (fig.ratio !== 1) {\n",
       "            fig.send_message('set_dpi_ratio', { dpi_ratio: fig.ratio });\n",
       "        }\n",
       "        fig.send_message('refresh', {});\n",
       "    };\n",
       "\n",
       "    this.imageObj.onload = function () {\n",
       "        if (fig.image_mode === 'full') {\n",
       "            // Full images could contain transparency (where diff images\n",
       "            // almost always do), so we need to clear the canvas so that\n",
       "            // there is no ghosting.\n",
       "            fig.context.clearRect(0, 0, fig.canvas.width, fig.canvas.height);\n",
       "        }\n",
       "        fig.context.drawImage(fig.imageObj, 0, 0);\n",
       "    };\n",
       "\n",
       "    this.imageObj.onunload = function () {\n",
       "        fig.ws.close();\n",
       "    };\n",
       "\n",
       "    this.ws.onmessage = this._make_on_message_function(this);\n",
       "\n",
       "    this.ondownload = ondownload;\n",
       "};\n",
       "\n",
       "mpl.figure.prototype._init_header = function () {\n",
       "    var titlebar = document.createElement('div');\n",
       "    titlebar.classList =\n",
       "        'ui-dialog-titlebar ui-widget-header ui-corner-all ui-helper-clearfix';\n",
       "    var titletext = document.createElement('div');\n",
       "    titletext.classList = 'ui-dialog-title';\n",
       "    titletext.setAttribute(\n",
       "        'style',\n",
       "        'width: 100%; text-align: center; padding: 3px;'\n",
       "    );\n",
       "    titlebar.appendChild(titletext);\n",
       "    this.root.appendChild(titlebar);\n",
       "    this.header = titletext;\n",
       "};\n",
       "\n",
       "mpl.figure.prototype._canvas_extra_style = function (_canvas_div) {};\n",
       "\n",
       "mpl.figure.prototype._root_extra_style = function (_canvas_div) {};\n",
       "\n",
       "mpl.figure.prototype._init_canvas = function () {\n",
       "    var fig = this;\n",
       "\n",
       "    var canvas_div = (this.canvas_div = document.createElement('div'));\n",
       "    canvas_div.setAttribute(\n",
       "        'style',\n",
       "        'border: 1px solid #ddd;' +\n",
       "            'box-sizing: content-box;' +\n",
       "            'clear: both;' +\n",
       "            'min-height: 1px;' +\n",
       "            'min-width: 1px;' +\n",
       "            'outline: 0;' +\n",
       "            'overflow: hidden;' +\n",
       "            'position: relative;' +\n",
       "            'resize: both;'\n",
       "    );\n",
       "\n",
       "    function on_keyboard_event_closure(name) {\n",
       "        return function (event) {\n",
       "            return fig.key_event(event, name);\n",
       "        };\n",
       "    }\n",
       "\n",
       "    canvas_div.addEventListener(\n",
       "        'keydown',\n",
       "        on_keyboard_event_closure('key_press')\n",
       "    );\n",
       "    canvas_div.addEventListener(\n",
       "        'keyup',\n",
       "        on_keyboard_event_closure('key_release')\n",
       "    );\n",
       "\n",
       "    this._canvas_extra_style(canvas_div);\n",
       "    this.root.appendChild(canvas_div);\n",
       "\n",
       "    var canvas = (this.canvas = document.createElement('canvas'));\n",
       "    canvas.classList.add('mpl-canvas');\n",
       "    canvas.setAttribute('style', 'box-sizing: content-box;');\n",
       "\n",
       "    this.context = canvas.getContext('2d');\n",
       "\n",
       "    var backingStore =\n",
       "        this.context.backingStorePixelRatio ||\n",
       "        this.context.webkitBackingStorePixelRatio ||\n",
       "        this.context.mozBackingStorePixelRatio ||\n",
       "        this.context.msBackingStorePixelRatio ||\n",
       "        this.context.oBackingStorePixelRatio ||\n",
       "        this.context.backingStorePixelRatio ||\n",
       "        1;\n",
       "\n",
       "    this.ratio = (window.devicePixelRatio || 1) / backingStore;\n",
       "\n",
       "    var rubberband_canvas = (this.rubberband_canvas = document.createElement(\n",
       "        'canvas'\n",
       "    ));\n",
       "    rubberband_canvas.setAttribute(\n",
       "        'style',\n",
       "        'box-sizing: content-box; position: absolute; left: 0; top: 0; z-index: 1;'\n",
       "    );\n",
       "\n",
       "    // Apply a ponyfill if ResizeObserver is not implemented by browser.\n",
       "    if (this.ResizeObserver === undefined) {\n",
       "        if (window.ResizeObserver !== undefined) {\n",
       "            this.ResizeObserver = window.ResizeObserver;\n",
       "        } else {\n",
       "            var obs = _JSXTOOLS_RESIZE_OBSERVER({});\n",
       "            this.ResizeObserver = obs.ResizeObserver;\n",
       "        }\n",
       "    }\n",
       "\n",
       "    this.resizeObserverInstance = new this.ResizeObserver(function (entries) {\n",
       "        var nentries = entries.length;\n",
       "        for (var i = 0; i < nentries; i++) {\n",
       "            var entry = entries[i];\n",
       "            var width, height;\n",
       "            if (entry.contentBoxSize) {\n",
       "                if (entry.contentBoxSize instanceof Array) {\n",
       "                    // Chrome 84 implements new version of spec.\n",
       "                    width = entry.contentBoxSize[0].inlineSize;\n",
       "                    height = entry.contentBoxSize[0].blockSize;\n",
       "                } else {\n",
       "                    // Firefox implements old version of spec.\n",
       "                    width = entry.contentBoxSize.inlineSize;\n",
       "                    height = entry.contentBoxSize.blockSize;\n",
       "                }\n",
       "            } else {\n",
       "                // Chrome <84 implements even older version of spec.\n",
       "                width = entry.contentRect.width;\n",
       "                height = entry.contentRect.height;\n",
       "            }\n",
       "\n",
       "            // Keep the size of the canvas and rubber band canvas in sync with\n",
       "            // the canvas container.\n",
       "            if (entry.devicePixelContentBoxSize) {\n",
       "                // Chrome 84 implements new version of spec.\n",
       "                canvas.setAttribute(\n",
       "                    'width',\n",
       "                    entry.devicePixelContentBoxSize[0].inlineSize\n",
       "                );\n",
       "                canvas.setAttribute(\n",
       "                    'height',\n",
       "                    entry.devicePixelContentBoxSize[0].blockSize\n",
       "                );\n",
       "            } else {\n",
       "                canvas.setAttribute('width', width * fig.ratio);\n",
       "                canvas.setAttribute('height', height * fig.ratio);\n",
       "            }\n",
       "            canvas.setAttribute(\n",
       "                'style',\n",
       "                'width: ' + width + 'px; height: ' + height + 'px;'\n",
       "            );\n",
       "\n",
       "            rubberband_canvas.setAttribute('width', width);\n",
       "            rubberband_canvas.setAttribute('height', height);\n",
       "\n",
       "            // And update the size in Python. We ignore the initial 0/0 size\n",
       "            // that occurs as the element is placed into the DOM, which should\n",
       "            // otherwise not happen due to the minimum size styling.\n",
       "            if (fig.ws.readyState == 1 && width != 0 && height != 0) {\n",
       "                fig.request_resize(width, height);\n",
       "            }\n",
       "        }\n",
       "    });\n",
       "    this.resizeObserverInstance.observe(canvas_div);\n",
       "\n",
       "    function on_mouse_event_closure(name) {\n",
       "        return function (event) {\n",
       "            return fig.mouse_event(event, name);\n",
       "        };\n",
       "    }\n",
       "\n",
       "    rubberband_canvas.addEventListener(\n",
       "        'mousedown',\n",
       "        on_mouse_event_closure('button_press')\n",
       "    );\n",
       "    rubberband_canvas.addEventListener(\n",
       "        'mouseup',\n",
       "        on_mouse_event_closure('button_release')\n",
       "    );\n",
       "    rubberband_canvas.addEventListener(\n",
       "        'dblclick',\n",
       "        on_mouse_event_closure('dblclick')\n",
       "    );\n",
       "    // Throttle sequential mouse events to 1 every 20ms.\n",
       "    rubberband_canvas.addEventListener(\n",
       "        'mousemove',\n",
       "        on_mouse_event_closure('motion_notify')\n",
       "    );\n",
       "\n",
       "    rubberband_canvas.addEventListener(\n",
       "        'mouseenter',\n",
       "        on_mouse_event_closure('figure_enter')\n",
       "    );\n",
       "    rubberband_canvas.addEventListener(\n",
       "        'mouseleave',\n",
       "        on_mouse_event_closure('figure_leave')\n",
       "    );\n",
       "\n",
       "    canvas_div.addEventListener('wheel', function (event) {\n",
       "        if (event.deltaY < 0) {\n",
       "            event.step = 1;\n",
       "        } else {\n",
       "            event.step = -1;\n",
       "        }\n",
       "        on_mouse_event_closure('scroll')(event);\n",
       "    });\n",
       "\n",
       "    canvas_div.appendChild(canvas);\n",
       "    canvas_div.appendChild(rubberband_canvas);\n",
       "\n",
       "    this.rubberband_context = rubberband_canvas.getContext('2d');\n",
       "    this.rubberband_context.strokeStyle = '#000000';\n",
       "\n",
       "    this._resize_canvas = function (width, height, forward) {\n",
       "        if (forward) {\n",
       "            canvas_div.style.width = width + 'px';\n",
       "            canvas_div.style.height = height + 'px';\n",
       "        }\n",
       "    };\n",
       "\n",
       "    // Disable right mouse context menu.\n",
       "    this.rubberband_canvas.addEventListener('contextmenu', function (_e) {\n",
       "        event.preventDefault();\n",
       "        return false;\n",
       "    });\n",
       "\n",
       "    function set_focus() {\n",
       "        canvas.focus();\n",
       "        canvas_div.focus();\n",
       "    }\n",
       "\n",
       "    window.setTimeout(set_focus, 100);\n",
       "};\n",
       "\n",
       "mpl.figure.prototype._init_toolbar = function () {\n",
       "    var fig = this;\n",
       "\n",
       "    var toolbar = document.createElement('div');\n",
       "    toolbar.classList = 'mpl-toolbar';\n",
       "    this.root.appendChild(toolbar);\n",
       "\n",
       "    function on_click_closure(name) {\n",
       "        return function (_event) {\n",
       "            return fig.toolbar_button_onclick(name);\n",
       "        };\n",
       "    }\n",
       "\n",
       "    function on_mouseover_closure(tooltip) {\n",
       "        return function (event) {\n",
       "            if (!event.currentTarget.disabled) {\n",
       "                return fig.toolbar_button_onmouseover(tooltip);\n",
       "            }\n",
       "        };\n",
       "    }\n",
       "\n",
       "    fig.buttons = {};\n",
       "    var buttonGroup = document.createElement('div');\n",
       "    buttonGroup.classList = 'mpl-button-group';\n",
       "    for (var toolbar_ind in mpl.toolbar_items) {\n",
       "        var name = mpl.toolbar_items[toolbar_ind][0];\n",
       "        var tooltip = mpl.toolbar_items[toolbar_ind][1];\n",
       "        var image = mpl.toolbar_items[toolbar_ind][2];\n",
       "        var method_name = mpl.toolbar_items[toolbar_ind][3];\n",
       "\n",
       "        if (!name) {\n",
       "            /* Instead of a spacer, we start a new button group. */\n",
       "            if (buttonGroup.hasChildNodes()) {\n",
       "                toolbar.appendChild(buttonGroup);\n",
       "            }\n",
       "            buttonGroup = document.createElement('div');\n",
       "            buttonGroup.classList = 'mpl-button-group';\n",
       "            continue;\n",
       "        }\n",
       "\n",
       "        var button = (fig.buttons[name] = document.createElement('button'));\n",
       "        button.classList = 'mpl-widget';\n",
       "        button.setAttribute('role', 'button');\n",
       "        button.setAttribute('aria-disabled', 'false');\n",
       "        button.addEventListener('click', on_click_closure(method_name));\n",
       "        button.addEventListener('mouseover', on_mouseover_closure(tooltip));\n",
       "\n",
       "        var icon_img = document.createElement('img');\n",
       "        icon_img.src = '_images/' + image + '.png';\n",
       "        icon_img.srcset = '_images/' + image + '_large.png 2x';\n",
       "        icon_img.alt = tooltip;\n",
       "        button.appendChild(icon_img);\n",
       "\n",
       "        buttonGroup.appendChild(button);\n",
       "    }\n",
       "\n",
       "    if (buttonGroup.hasChildNodes()) {\n",
       "        toolbar.appendChild(buttonGroup);\n",
       "    }\n",
       "\n",
       "    var fmt_picker = document.createElement('select');\n",
       "    fmt_picker.classList = 'mpl-widget';\n",
       "    toolbar.appendChild(fmt_picker);\n",
       "    this.format_dropdown = fmt_picker;\n",
       "\n",
       "    for (var ind in mpl.extensions) {\n",
       "        var fmt = mpl.extensions[ind];\n",
       "        var option = document.createElement('option');\n",
       "        option.selected = fmt === mpl.default_extension;\n",
       "        option.innerHTML = fmt;\n",
       "        fmt_picker.appendChild(option);\n",
       "    }\n",
       "\n",
       "    var status_bar = document.createElement('span');\n",
       "    status_bar.classList = 'mpl-message';\n",
       "    toolbar.appendChild(status_bar);\n",
       "    this.message = status_bar;\n",
       "};\n",
       "\n",
       "mpl.figure.prototype.request_resize = function (x_pixels, y_pixels) {\n",
       "    // Request matplotlib to resize the figure. Matplotlib will then trigger a resize in the client,\n",
       "    // which will in turn request a refresh of the image.\n",
       "    this.send_message('resize', { width: x_pixels, height: y_pixels });\n",
       "};\n",
       "\n",
       "mpl.figure.prototype.send_message = function (type, properties) {\n",
       "    properties['type'] = type;\n",
       "    properties['figure_id'] = this.id;\n",
       "    this.ws.send(JSON.stringify(properties));\n",
       "};\n",
       "\n",
       "mpl.figure.prototype.send_draw_message = function () {\n",
       "    if (!this.waiting) {\n",
       "        this.waiting = true;\n",
       "        this.ws.send(JSON.stringify({ type: 'draw', figure_id: this.id }));\n",
       "    }\n",
       "};\n",
       "\n",
       "mpl.figure.prototype.handle_save = function (fig, _msg) {\n",
       "    var format_dropdown = fig.format_dropdown;\n",
       "    var format = format_dropdown.options[format_dropdown.selectedIndex].value;\n",
       "    fig.ondownload(fig, format);\n",
       "};\n",
       "\n",
       "mpl.figure.prototype.handle_resize = function (fig, msg) {\n",
       "    var size = msg['size'];\n",
       "    if (size[0] !== fig.canvas.width || size[1] !== fig.canvas.height) {\n",
       "        fig._resize_canvas(size[0], size[1], msg['forward']);\n",
       "        fig.send_message('refresh', {});\n",
       "    }\n",
       "};\n",
       "\n",
       "mpl.figure.prototype.handle_rubberband = function (fig, msg) {\n",
       "    var x0 = msg['x0'] / fig.ratio;\n",
       "    var y0 = (fig.canvas.height - msg['y0']) / fig.ratio;\n",
       "    var x1 = msg['x1'] / fig.ratio;\n",
       "    var y1 = (fig.canvas.height - msg['y1']) / fig.ratio;\n",
       "    x0 = Math.floor(x0) + 0.5;\n",
       "    y0 = Math.floor(y0) + 0.5;\n",
       "    x1 = Math.floor(x1) + 0.5;\n",
       "    y1 = Math.floor(y1) + 0.5;\n",
       "    var min_x = Math.min(x0, x1);\n",
       "    var min_y = Math.min(y0, y1);\n",
       "    var width = Math.abs(x1 - x0);\n",
       "    var height = Math.abs(y1 - y0);\n",
       "\n",
       "    fig.rubberband_context.clearRect(\n",
       "        0,\n",
       "        0,\n",
       "        fig.canvas.width / fig.ratio,\n",
       "        fig.canvas.height / fig.ratio\n",
       "    );\n",
       "\n",
       "    fig.rubberband_context.strokeRect(min_x, min_y, width, height);\n",
       "};\n",
       "\n",
       "mpl.figure.prototype.handle_figure_label = function (fig, msg) {\n",
       "    // Updates the figure title.\n",
       "    fig.header.textContent = msg['label'];\n",
       "};\n",
       "\n",
       "mpl.figure.prototype.handle_cursor = function (fig, msg) {\n",
       "    var cursor = msg['cursor'];\n",
       "    switch (cursor) {\n",
       "        case 0:\n",
       "            cursor = 'pointer';\n",
       "            break;\n",
       "        case 1:\n",
       "            cursor = 'default';\n",
       "            break;\n",
       "        case 2:\n",
       "            cursor = 'crosshair';\n",
       "            break;\n",
       "        case 3:\n",
       "            cursor = 'move';\n",
       "            break;\n",
       "    }\n",
       "    fig.rubberband_canvas.style.cursor = cursor;\n",
       "};\n",
       "\n",
       "mpl.figure.prototype.handle_message = function (fig, msg) {\n",
       "    fig.message.textContent = msg['message'];\n",
       "};\n",
       "\n",
       "mpl.figure.prototype.handle_draw = function (fig, _msg) {\n",
       "    // Request the server to send over a new figure.\n",
       "    fig.send_draw_message();\n",
       "};\n",
       "\n",
       "mpl.figure.prototype.handle_image_mode = function (fig, msg) {\n",
       "    fig.image_mode = msg['mode'];\n",
       "};\n",
       "\n",
       "mpl.figure.prototype.handle_history_buttons = function (fig, msg) {\n",
       "    for (var key in msg) {\n",
       "        if (!(key in fig.buttons)) {\n",
       "            continue;\n",
       "        }\n",
       "        fig.buttons[key].disabled = !msg[key];\n",
       "        fig.buttons[key].setAttribute('aria-disabled', !msg[key]);\n",
       "    }\n",
       "};\n",
       "\n",
       "mpl.figure.prototype.handle_navigate_mode = function (fig, msg) {\n",
       "    if (msg['mode'] === 'PAN') {\n",
       "        fig.buttons['Pan'].classList.add('active');\n",
       "        fig.buttons['Zoom'].classList.remove('active');\n",
       "    } else if (msg['mode'] === 'ZOOM') {\n",
       "        fig.buttons['Pan'].classList.remove('active');\n",
       "        fig.buttons['Zoom'].classList.add('active');\n",
       "    } else {\n",
       "        fig.buttons['Pan'].classList.remove('active');\n",
       "        fig.buttons['Zoom'].classList.remove('active');\n",
       "    }\n",
       "};\n",
       "\n",
       "mpl.figure.prototype.updated_canvas_event = function () {\n",
       "    // Called whenever the canvas gets updated.\n",
       "    this.send_message('ack', {});\n",
       "};\n",
       "\n",
       "// A function to construct a web socket function for onmessage handling.\n",
       "// Called in the figure constructor.\n",
       "mpl.figure.prototype._make_on_message_function = function (fig) {\n",
       "    return function socket_on_message(evt) {\n",
       "        if (evt.data instanceof Blob) {\n",
       "            var img = evt.data;\n",
       "            if (img.type !== 'image/png') {\n",
       "                /* FIXME: We get \"Resource interpreted as Image but\n",
       "                 * transferred with MIME type text/plain:\" errors on\n",
       "                 * Chrome.  But how to set the MIME type?  It doesn't seem\n",
       "                 * to be part of the websocket stream */\n",
       "                img.type = 'image/png';\n",
       "            }\n",
       "\n",
       "            /* Free the memory for the previous frames */\n",
       "            if (fig.imageObj.src) {\n",
       "                (window.URL || window.webkitURL).revokeObjectURL(\n",
       "                    fig.imageObj.src\n",
       "                );\n",
       "            }\n",
       "\n",
       "            fig.imageObj.src = (window.URL || window.webkitURL).createObjectURL(\n",
       "                img\n",
       "            );\n",
       "            fig.updated_canvas_event();\n",
       "            fig.waiting = false;\n",
       "            return;\n",
       "        } else if (\n",
       "            typeof evt.data === 'string' &&\n",
       "            evt.data.slice(0, 21) === 'data:image/png;base64'\n",
       "        ) {\n",
       "            fig.imageObj.src = evt.data;\n",
       "            fig.updated_canvas_event();\n",
       "            fig.waiting = false;\n",
       "            return;\n",
       "        }\n",
       "\n",
       "        var msg = JSON.parse(evt.data);\n",
       "        var msg_type = msg['type'];\n",
       "\n",
       "        // Call the  \"handle_{type}\" callback, which takes\n",
       "        // the figure and JSON message as its only arguments.\n",
       "        try {\n",
       "            var callback = fig['handle_' + msg_type];\n",
       "        } catch (e) {\n",
       "            console.log(\n",
       "                \"No handler for the '\" + msg_type + \"' message type: \",\n",
       "                msg\n",
       "            );\n",
       "            return;\n",
       "        }\n",
       "\n",
       "        if (callback) {\n",
       "            try {\n",
       "                // console.log(\"Handling '\" + msg_type + \"' message: \", msg);\n",
       "                callback(fig, msg);\n",
       "            } catch (e) {\n",
       "                console.log(\n",
       "                    \"Exception inside the 'handler_\" + msg_type + \"' callback:\",\n",
       "                    e,\n",
       "                    e.stack,\n",
       "                    msg\n",
       "                );\n",
       "            }\n",
       "        }\n",
       "    };\n",
       "};\n",
       "\n",
       "// from http://stackoverflow.com/questions/1114465/getting-mouse-location-in-canvas\n",
       "mpl.findpos = function (e) {\n",
       "    //this section is from http://www.quirksmode.org/js/events_properties.html\n",
       "    var targ;\n",
       "    if (!e) {\n",
       "        e = window.event;\n",
       "    }\n",
       "    if (e.target) {\n",
       "        targ = e.target;\n",
       "    } else if (e.srcElement) {\n",
       "        targ = e.srcElement;\n",
       "    }\n",
       "    if (targ.nodeType === 3) {\n",
       "        // defeat Safari bug\n",
       "        targ = targ.parentNode;\n",
       "    }\n",
       "\n",
       "    // pageX,Y are the mouse positions relative to the document\n",
       "    var boundingRect = targ.getBoundingClientRect();\n",
       "    var x = e.pageX - (boundingRect.left + document.body.scrollLeft);\n",
       "    var y = e.pageY - (boundingRect.top + document.body.scrollTop);\n",
       "\n",
       "    return { x: x, y: y };\n",
       "};\n",
       "\n",
       "/*\n",
       " * return a copy of an object with only non-object keys\n",
       " * we need this to avoid circular references\n",
       " * http://stackoverflow.com/a/24161582/3208463\n",
       " */\n",
       "function simpleKeys(original) {\n",
       "    return Object.keys(original).reduce(function (obj, key) {\n",
       "        if (typeof original[key] !== 'object') {\n",
       "            obj[key] = original[key];\n",
       "        }\n",
       "        return obj;\n",
       "    }, {});\n",
       "}\n",
       "\n",
       "mpl.figure.prototype.mouse_event = function (event, name) {\n",
       "    var canvas_pos = mpl.findpos(event);\n",
       "\n",
       "    if (name === 'button_press') {\n",
       "        this.canvas.focus();\n",
       "        this.canvas_div.focus();\n",
       "    }\n",
       "\n",
       "    var x = canvas_pos.x * this.ratio;\n",
       "    var y = canvas_pos.y * this.ratio;\n",
       "\n",
       "    this.send_message(name, {\n",
       "        x: x,\n",
       "        y: y,\n",
       "        button: event.button,\n",
       "        step: event.step,\n",
       "        guiEvent: simpleKeys(event),\n",
       "    });\n",
       "\n",
       "    /* This prevents the web browser from automatically changing to\n",
       "     * the text insertion cursor when the button is pressed.  We want\n",
       "     * to control all of the cursor setting manually through the\n",
       "     * 'cursor' event from matplotlib */\n",
       "    event.preventDefault();\n",
       "    return false;\n",
       "};\n",
       "\n",
       "mpl.figure.prototype._key_event_extra = function (_event, _name) {\n",
       "    // Handle any extra behaviour associated with a key event\n",
       "};\n",
       "\n",
       "mpl.figure.prototype.key_event = function (event, name) {\n",
       "    // Prevent repeat events\n",
       "    if (name === 'key_press') {\n",
       "        if (event.key === this._key) {\n",
       "            return;\n",
       "        } else {\n",
       "            this._key = event.key;\n",
       "        }\n",
       "    }\n",
       "    if (name === 'key_release') {\n",
       "        this._key = null;\n",
       "    }\n",
       "\n",
       "    var value = '';\n",
       "    if (event.ctrlKey && event.key !== 'Control') {\n",
       "        value += 'ctrl+';\n",
       "    }\n",
       "    else if (event.altKey && event.key !== 'Alt') {\n",
       "        value += 'alt+';\n",
       "    }\n",
       "    else if (event.shiftKey && event.key !== 'Shift') {\n",
       "        value += 'shift+';\n",
       "    }\n",
       "\n",
       "    value += 'k' + event.key;\n",
       "\n",
       "    this._key_event_extra(event, name);\n",
       "\n",
       "    this.send_message(name, { key: value, guiEvent: simpleKeys(event) });\n",
       "    return false;\n",
       "};\n",
       "\n",
       "mpl.figure.prototype.toolbar_button_onclick = function (name) {\n",
       "    if (name === 'download') {\n",
       "        this.handle_save(this, null);\n",
       "    } else {\n",
       "        this.send_message('toolbar_button', { name: name });\n",
       "    }\n",
       "};\n",
       "\n",
       "mpl.figure.prototype.toolbar_button_onmouseover = function (tooltip) {\n",
       "    this.message.textContent = tooltip;\n",
       "};\n",
       "\n",
       "///////////////// REMAINING CONTENT GENERATED BY embed_js.py /////////////////\n",
       "// prettier-ignore\n",
       "var _JSXTOOLS_RESIZE_OBSERVER=function(A){var t,i=new WeakMap,n=new WeakMap,a=new WeakMap,r=new WeakMap,o=new Set;function s(e){if(!(this instanceof s))throw new TypeError(\"Constructor requires 'new' operator\");i.set(this,e)}function h(){throw new TypeError(\"Function is not a constructor\")}function c(e,t,i,n){e=0 in arguments?Number(arguments[0]):0,t=1 in arguments?Number(arguments[1]):0,i=2 in arguments?Number(arguments[2]):0,n=3 in arguments?Number(arguments[3]):0,this.right=(this.x=this.left=e)+(this.width=i),this.bottom=(this.y=this.top=t)+(this.height=n),Object.freeze(this)}function d(){t=requestAnimationFrame(d);var s=new WeakMap,p=new Set;o.forEach((function(t){r.get(t).forEach((function(i){var r=t instanceof window.SVGElement,o=a.get(t),d=r?0:parseFloat(o.paddingTop),f=r?0:parseFloat(o.paddingRight),l=r?0:parseFloat(o.paddingBottom),u=r?0:parseFloat(o.paddingLeft),g=r?0:parseFloat(o.borderTopWidth),m=r?0:parseFloat(o.borderRightWidth),w=r?0:parseFloat(o.borderBottomWidth),b=u+f,F=d+l,v=(r?0:parseFloat(o.borderLeftWidth))+m,W=g+w,y=r?0:t.offsetHeight-W-t.clientHeight,E=r?0:t.offsetWidth-v-t.clientWidth,R=b+v,z=F+W,M=r?t.width:parseFloat(o.width)-R-E,O=r?t.height:parseFloat(o.height)-z-y;if(n.has(t)){var k=n.get(t);if(k[0]===M&&k[1]===O)return}n.set(t,[M,O]);var S=Object.create(h.prototype);S.target=t,S.contentRect=new c(u,d,M,O),s.has(i)||(s.set(i,[]),p.add(i)),s.get(i).push(S)}))})),p.forEach((function(e){i.get(e).call(e,s.get(e),e)}))}return s.prototype.observe=function(i){if(i instanceof window.Element){r.has(i)||(r.set(i,new Set),o.add(i),a.set(i,window.getComputedStyle(i)));var n=r.get(i);n.has(this)||n.add(this),cancelAnimationFrame(t),t=requestAnimationFrame(d)}},s.prototype.unobserve=function(i){if(i instanceof window.Element&&r.has(i)){var n=r.get(i);n.has(this)&&(n.delete(this),n.size||(r.delete(i),o.delete(i))),n.size||r.delete(i),o.size||cancelAnimationFrame(t)}},A.DOMRectReadOnly=c,A.ResizeObserver=s,A.ResizeObserverEntry=h,A}; // eslint-disable-line\n",
       "mpl.toolbar_items = [[\"Home\", \"Reset original view\", \"fa fa-home icon-home\", \"home\"], [\"Back\", \"Back to previous view\", \"fa fa-arrow-left icon-arrow-left\", \"back\"], [\"Forward\", \"Forward to next view\", \"fa fa-arrow-right icon-arrow-right\", \"forward\"], [\"\", \"\", \"\", \"\"], [\"Pan\", \"Left button pans, Right button zooms\\nx/y fixes axis, CTRL fixes aspect\", \"fa fa-arrows icon-move\", \"pan\"], [\"Zoom\", \"Zoom to rectangle\\nx/y fixes axis, CTRL fixes aspect\", \"fa fa-square-o icon-check-empty\", \"zoom\"], [\"\", \"\", \"\", \"\"], [\"Download\", \"Download plot\", \"fa fa-floppy-o icon-save\", \"download\"]];\n",
       "\n",
       "mpl.extensions = [\"eps\", \"jpeg\", \"pgf\", \"pdf\", \"png\", \"ps\", \"raw\", \"svg\", \"tif\"];\n",
       "\n",
       "mpl.default_extension = \"png\";/* global mpl */\n",
       "\n",
       "var comm_websocket_adapter = function (comm) {\n",
       "    // Create a \"websocket\"-like object which calls the given IPython comm\n",
       "    // object with the appropriate methods. Currently this is a non binary\n",
       "    // socket, so there is still some room for performance tuning.\n",
       "    var ws = {};\n",
       "\n",
       "    ws.binaryType = comm.kernel.ws.binaryType;\n",
       "    ws.readyState = comm.kernel.ws.readyState;\n",
       "    function updateReadyState(_event) {\n",
       "        if (comm.kernel.ws) {\n",
       "            ws.readyState = comm.kernel.ws.readyState;\n",
       "        } else {\n",
       "            ws.readyState = 3; // Closed state.\n",
       "        }\n",
       "    }\n",
       "    comm.kernel.ws.addEventListener('open', updateReadyState);\n",
       "    comm.kernel.ws.addEventListener('close', updateReadyState);\n",
       "    comm.kernel.ws.addEventListener('error', updateReadyState);\n",
       "\n",
       "    ws.close = function () {\n",
       "        comm.close();\n",
       "    };\n",
       "    ws.send = function (m) {\n",
       "        //console.log('sending', m);\n",
       "        comm.send(m);\n",
       "    };\n",
       "    // Register the callback with on_msg.\n",
       "    comm.on_msg(function (msg) {\n",
       "        //console.log('receiving', msg['content']['data'], msg);\n",
       "        var data = msg['content']['data'];\n",
       "        if (data['blob'] !== undefined) {\n",
       "            data = {\n",
       "                data: new Blob(msg['buffers'], { type: data['blob'] }),\n",
       "            };\n",
       "        }\n",
       "        // Pass the mpl event to the overridden (by mpl) onmessage function.\n",
       "        ws.onmessage(data);\n",
       "    });\n",
       "    return ws;\n",
       "};\n",
       "\n",
       "mpl.mpl_figure_comm = function (comm, msg) {\n",
       "    // This is the function which gets called when the mpl process\n",
       "    // starts-up an IPython Comm through the \"matplotlib\" channel.\n",
       "\n",
       "    var id = msg.content.data.id;\n",
       "    // Get hold of the div created by the display call when the Comm\n",
       "    // socket was opened in Python.\n",
       "    var element = document.getElementById(id);\n",
       "    var ws_proxy = comm_websocket_adapter(comm);\n",
       "\n",
       "    function ondownload(figure, _format) {\n",
       "        window.open(figure.canvas.toDataURL());\n",
       "    }\n",
       "\n",
       "    var fig = new mpl.figure(id, ws_proxy, ondownload, element);\n",
       "\n",
       "    // Call onopen now - mpl needs it, as it is assuming we've passed it a real\n",
       "    // web socket which is closed, not our websocket->open comm proxy.\n",
       "    ws_proxy.onopen();\n",
       "\n",
       "    fig.parent_element = element;\n",
       "    fig.cell_info = mpl.find_output_cell(\"<div id='\" + id + \"'></div>\");\n",
       "    if (!fig.cell_info) {\n",
       "        console.error('Failed to find cell for figure', id, fig);\n",
       "        return;\n",
       "    }\n",
       "    fig.cell_info[0].output_area.element.on(\n",
       "        'cleared',\n",
       "        { fig: fig },\n",
       "        fig._remove_fig_handler\n",
       "    );\n",
       "};\n",
       "\n",
       "mpl.figure.prototype.handle_close = function (fig, msg) {\n",
       "    var width = fig.canvas.width / fig.ratio;\n",
       "    fig.cell_info[0].output_area.element.off(\n",
       "        'cleared',\n",
       "        fig._remove_fig_handler\n",
       "    );\n",
       "    fig.resizeObserverInstance.unobserve(fig.canvas_div);\n",
       "\n",
       "    // Update the output cell to use the data from the current canvas.\n",
       "    fig.push_to_output();\n",
       "    var dataURL = fig.canvas.toDataURL();\n",
       "    // Re-enable the keyboard manager in IPython - without this line, in FF,\n",
       "    // the notebook keyboard shortcuts fail.\n",
       "    IPython.keyboard_manager.enable();\n",
       "    fig.parent_element.innerHTML =\n",
       "        '<img src=\"' + dataURL + '\" width=\"' + width + '\">';\n",
       "    fig.close_ws(fig, msg);\n",
       "};\n",
       "\n",
       "mpl.figure.prototype.close_ws = function (fig, msg) {\n",
       "    fig.send_message('closing', msg);\n",
       "    // fig.ws.close()\n",
       "};\n",
       "\n",
       "mpl.figure.prototype.push_to_output = function (_remove_interactive) {\n",
       "    // Turn the data on the canvas into data in the output cell.\n",
       "    var width = this.canvas.width / this.ratio;\n",
       "    var dataURL = this.canvas.toDataURL();\n",
       "    this.cell_info[1]['text/html'] =\n",
       "        '<img src=\"' + dataURL + '\" width=\"' + width + '\">';\n",
       "};\n",
       "\n",
       "mpl.figure.prototype.updated_canvas_event = function () {\n",
       "    // Tell IPython that the notebook contents must change.\n",
       "    IPython.notebook.set_dirty(true);\n",
       "    this.send_message('ack', {});\n",
       "    var fig = this;\n",
       "    // Wait a second, then push the new image to the DOM so\n",
       "    // that it is saved nicely (might be nice to debounce this).\n",
       "    setTimeout(function () {\n",
       "        fig.push_to_output();\n",
       "    }, 1000);\n",
       "};\n",
       "\n",
       "mpl.figure.prototype._init_toolbar = function () {\n",
       "    var fig = this;\n",
       "\n",
       "    var toolbar = document.createElement('div');\n",
       "    toolbar.classList = 'btn-toolbar';\n",
       "    this.root.appendChild(toolbar);\n",
       "\n",
       "    function on_click_closure(name) {\n",
       "        return function (_event) {\n",
       "            return fig.toolbar_button_onclick(name);\n",
       "        };\n",
       "    }\n",
       "\n",
       "    function on_mouseover_closure(tooltip) {\n",
       "        return function (event) {\n",
       "            if (!event.currentTarget.disabled) {\n",
       "                return fig.toolbar_button_onmouseover(tooltip);\n",
       "            }\n",
       "        };\n",
       "    }\n",
       "\n",
       "    fig.buttons = {};\n",
       "    var buttonGroup = document.createElement('div');\n",
       "    buttonGroup.classList = 'btn-group';\n",
       "    var button;\n",
       "    for (var toolbar_ind in mpl.toolbar_items) {\n",
       "        var name = mpl.toolbar_items[toolbar_ind][0];\n",
       "        var tooltip = mpl.toolbar_items[toolbar_ind][1];\n",
       "        var image = mpl.toolbar_items[toolbar_ind][2];\n",
       "        var method_name = mpl.toolbar_items[toolbar_ind][3];\n",
       "\n",
       "        if (!name) {\n",
       "            /* Instead of a spacer, we start a new button group. */\n",
       "            if (buttonGroup.hasChildNodes()) {\n",
       "                toolbar.appendChild(buttonGroup);\n",
       "            }\n",
       "            buttonGroup = document.createElement('div');\n",
       "            buttonGroup.classList = 'btn-group';\n",
       "            continue;\n",
       "        }\n",
       "\n",
       "        button = fig.buttons[name] = document.createElement('button');\n",
       "        button.classList = 'btn btn-default';\n",
       "        button.href = '#';\n",
       "        button.title = name;\n",
       "        button.innerHTML = '<i class=\"fa ' + image + ' fa-lg\"></i>';\n",
       "        button.addEventListener('click', on_click_closure(method_name));\n",
       "        button.addEventListener('mouseover', on_mouseover_closure(tooltip));\n",
       "        buttonGroup.appendChild(button);\n",
       "    }\n",
       "\n",
       "    if (buttonGroup.hasChildNodes()) {\n",
       "        toolbar.appendChild(buttonGroup);\n",
       "    }\n",
       "\n",
       "    // Add the status bar.\n",
       "    var status_bar = document.createElement('span');\n",
       "    status_bar.classList = 'mpl-message pull-right';\n",
       "    toolbar.appendChild(status_bar);\n",
       "    this.message = status_bar;\n",
       "\n",
       "    // Add the close button to the window.\n",
       "    var buttongrp = document.createElement('div');\n",
       "    buttongrp.classList = 'btn-group inline pull-right';\n",
       "    button = document.createElement('button');\n",
       "    button.classList = 'btn btn-mini btn-primary';\n",
       "    button.href = '#';\n",
       "    button.title = 'Stop Interaction';\n",
       "    button.innerHTML = '<i class=\"fa fa-power-off icon-remove icon-large\"></i>';\n",
       "    button.addEventListener('click', function (_evt) {\n",
       "        fig.handle_close(fig, {});\n",
       "    });\n",
       "    button.addEventListener(\n",
       "        'mouseover',\n",
       "        on_mouseover_closure('Stop Interaction')\n",
       "    );\n",
       "    buttongrp.appendChild(button);\n",
       "    var titlebar = this.root.querySelector('.ui-dialog-titlebar');\n",
       "    titlebar.insertBefore(buttongrp, titlebar.firstChild);\n",
       "};\n",
       "\n",
       "mpl.figure.prototype._remove_fig_handler = function (event) {\n",
       "    var fig = event.data.fig;\n",
       "    if (event.target !== this) {\n",
       "        // Ignore bubbled events from children.\n",
       "        return;\n",
       "    }\n",
       "    fig.close_ws(fig, {});\n",
       "};\n",
       "\n",
       "mpl.figure.prototype._root_extra_style = function (el) {\n",
       "    el.style.boxSizing = 'content-box'; // override notebook setting of border-box.\n",
       "};\n",
       "\n",
       "mpl.figure.prototype._canvas_extra_style = function (el) {\n",
       "    // this is important to make the div 'focusable\n",
       "    el.setAttribute('tabindex', 0);\n",
       "    // reach out to IPython and tell the keyboard manager to turn it's self\n",
       "    // off when our div gets focus\n",
       "\n",
       "    // location in version 3\n",
       "    if (IPython.notebook.keyboard_manager) {\n",
       "        IPython.notebook.keyboard_manager.register_events(el);\n",
       "    } else {\n",
       "        // location in version 2\n",
       "        IPython.keyboard_manager.register_events(el);\n",
       "    }\n",
       "};\n",
       "\n",
       "mpl.figure.prototype._key_event_extra = function (event, _name) {\n",
       "    var manager = IPython.notebook.keyboard_manager;\n",
       "    if (!manager) {\n",
       "        manager = IPython.keyboard_manager;\n",
       "    }\n",
       "\n",
       "    // Check for shift+enter\n",
       "    if (event.shiftKey && event.which === 13) {\n",
       "        this.canvas_div.blur();\n",
       "        // select the cell after this one\n",
       "        var index = IPython.notebook.find_cell_index(this.cell_info[0]);\n",
       "        IPython.notebook.select(index + 1);\n",
       "    }\n",
       "};\n",
       "\n",
       "mpl.figure.prototype.handle_save = function (fig, _msg) {\n",
       "    fig.ondownload(fig, null);\n",
       "};\n",
       "\n",
       "mpl.find_output_cell = function (html_output) {\n",
       "    // Return the cell and output element which can be found *uniquely* in the notebook.\n",
       "    // Note - this is a bit hacky, but it is done because the \"notebook_saving.Notebook\"\n",
       "    // IPython event is triggered only after the cells have been serialised, which for\n",
       "    // our purposes (turning an active figure into a static one), is too late.\n",
       "    var cells = IPython.notebook.get_cells();\n",
       "    var ncells = cells.length;\n",
       "    for (var i = 0; i < ncells; i++) {\n",
       "        var cell = cells[i];\n",
       "        if (cell.cell_type === 'code') {\n",
       "            for (var j = 0; j < cell.output_area.outputs.length; j++) {\n",
       "                var data = cell.output_area.outputs[j];\n",
       "                if (data.data) {\n",
       "                    // IPython >= 3 moved mimebundle to data attribute of output\n",
       "                    data = data.data;\n",
       "                }\n",
       "                if (data['text/html'] === html_output) {\n",
       "                    return [cell, data, j];\n",
       "                }\n",
       "            }\n",
       "        }\n",
       "    }\n",
       "};\n",
       "\n",
       "// Register the function which deals with the matplotlib target/channel.\n",
       "// The kernel may be null if the page has been refreshed.\n",
       "if (IPython.notebook.kernel !== null) {\n",
       "    IPython.notebook.kernel.comm_manager.register_target(\n",
       "        'matplotlib',\n",
       "        mpl.mpl_figure_comm\n",
       "    );\n",
       "}\n"
      ],
      "text/plain": [
       "<IPython.core.display.Javascript object>"
      ]
     },
     "metadata": {},
     "output_type": "display_data"
    },
    {
     "data": {
      "text/html": [
       "<img src=\"data:image/png;base64,iVBORw0KGgoAAAANSUhEUgAAAwAAAAJACAYAAAA6rgFWAAAAAXNSR0IArs4c6QAAIABJREFUeF7t3QmwL0dZN/4JEQJBlB0lRAUuYhEgEFSgkEUjggImKKAssijigmErBFRQtrCLhsimyOLLIiVahOUFJCUEUERMMDG4XpUticVmMCEhL4S81T/qXO893uRM9/R0P/f251a95f/Pme7p+TxPZvp75nfOOeSyyy67bPKPAAECBAgQIECAAIEhBA4RAIaos4skQIAAAQIECBAgsBEQADQCAQIECBAgQIAAgYEEBICBiu1SCRAgQIAAAQIECAgAeoAAAQIECBAgQIDAQAICwEDFdqkECBAgQIAAAQIEBAA9QIAAAQIECBAgQGAgAQFgoGK7VAIECBAgQIAAAQICgB4gQIAAAQIECBAgMJCAADBQsV0qAQIECBAgQIAAAQFADxAgQIAAAQIECBAYSEAAGKjYLpUAAQIECBAgQICAAKAHCBAgQIAAAQIECAwkIAAMVGyXSoAAAQIECBAgQEAA0AMECBAgQIAAAQIEBhIQAAYqtkslQIAAAQIECBAgIADoAQIECBAgQIAAAQIDCQgAAxXbpRIgQIAAAQIECBAQAPQAAQIECBAgQIAAgYEEBICBiu1SCRAgQIAAAQIECAgAeoAAAQIECBAgQIDAQAICwEDFdqkECBAgQIAAAQIEBAA9QIAAAQIECBAgQGAgAQFgoGK7VAIECBAgQIAAAQICgB4gQIAAAQIECBAgMJCAADBQsV0qAQIECBAgQIAAAQFADxAgQIAAAQIECBAYSEAAGKjYLpUAAQIECBAgQICAAKAHCBAgQIAAAQIECAwkIAAMVGyXSoAAAQIECBAgQEAA0AMECBAgQIAAAQIEBhIQAAYqtkslQIAAAQIECBAgIADoAQIECBAgQIAAAQIDCQgAAxXbpRIgQIAAAQIECBAQAPQAAQIECBAgQIAAgYEEBICBiu1SCRAgQIAAAQIECAgAeoAAAQIECBAgQIDAQAICwEDFdqkECBAgQIAAAQIEBAA9QIAAAQIECBAgQGAgAQFgoGK7VAIECBAgQIAAAQICgB4gQIAAAQIECBAgMJCAADBQsV0qAQIECBAgQIAAAQFADxAgQIAAAQIECBAYSEAAGKjYLpUAAQIECBAgQICAAKAHCBAgQIAAAQIECAwkIAAMVGyXSoAAAQIECBAgQEAA0AMECBAgQIAAAQIEBhIQAAYqtkslQIAAAQIECBAgIADoAQIECBAgQIAAAQIDCQgAAxXbpRIgQIAAAQIECBAQAPQAAQIECBAgQIAAgYEEBICBiu1SCRAgQIAAAQIECAgAeoAAAQIECBAgQIDAQAICwEDFdqkECBAgQIAAAQIEBAA9QIAAAQIECBAgQGAgAQFgoGK7VAIECBAgQIAAAQICgB4gQIAAAQIECBAgMJCAADBQsV0qAQIECBAgQIAAAQFADxAgQIAAAQIECBAYSEAAGKjYLpUAAQIECBAgQICAAKAHCBAgQIAAAQIECAwkIAAMVGyXSoAAAQIECBAgQEAA0AMECBAgQIAAAQIEBhIQAAYqtkslQIAAAQIECBAgIADoAQIECBAgQIAAAQIDCQgAAxXbpRIgQIAAAQIECBAQAPQAAQIECBAgQIAAgYEEBICOxT7//POn0047bTryyCOnww47rONKnJoAAQIECBAgcOAJXHLJJdOnP/3p6a53vet0zWte88C7gE4rFgA6wafTnnLKKdPxxx/fcQVOTYAAAQIECBA48AXe+ta3Tscdd9yBfyGNrkAAaAS9v9OcccYZ0+1ud7spNe2uXbs6rsSpCRAgQIAAAQIHnsDu3bs330w9/fTTp2OOOebAu4BOKxYAOsGn03784x+fbnnLW05nn332dNRRR3VciVMTIECAAAECBA48AXupspoJAGVuVUZp2iqMJiFAgAABAgQGFbCXKiu8AFDmVmWUpq3CaBICBAgQIEBgUAF7qbLCCwBlblVGadoqjCYhQIAAAQIEBhWwlyorvABQ5lZllKatwmgSAgQIECBAYFABe6mywgsAZW5VRmnaKowmIUCAAAECBAYVsJcqK7wAUOZWZZSmrcJoEgIECBAgQGBQAXupssILAGVuVUZp2iqMJiFAgAABAgQGFbCXKiu8AFDmVmWUpq3CaBICBAgQIEBgUAF7qbLCCwBlblVGadoqjCYhQIAAAQIEBhWwlyorvABQ5lZllKatwmgSAgQIECBAYFABe6mywgsAZW5VRmnaKowmIUCAAAECBAYVsJcqK7wAUOZWZZSmrcJoEgIECBAgQGBQAXupssILAGVuVUZp2iqMJiFAgAABAgQGFbCXKiu8AFDmVmWUpq3CaBICBAgQIEBgUAF7qbLCCwBlblVGadoqjCYhQIAAAQIEBhWwlyorvABQ5lZllKatwmgSAgQIECBAYFABe6mywgsAZW5VRmnaKowmIUCAAAECBAYVsJcqK7wAUOZWZZSmrcJoEgIECBAgQGBQAXupssILAGVuVUZp2iqMJiFAgAABAgQGFbCXKiu8AFDmVmWUpq3CaBICBAgQIEBgUAF7qbLCCwBlblVGadoqjCYhQIAAAQIEBhWwlyorvABQ5lZllKatwmgSAgQIECBAYFABe6mywgsAZW5VRmnaKowmIUCAAAECBAYVsJcqK7wAUOZWZZSmrcJoEgIECBAgQGBQAXupssILAGVuVUZp2iqMJiFAgAABAgQGFbCXKiu8AFDmVmWUpq3CaBICBAgQIEBgUAF7qbLCCwBlblVGadoqjCYhQIAAAQIEBhWwlyorvABQ5lZllKatwmgSAgQIECBAYFABe6mywgsAZW5VRmnaKowmIUCAAAECBAYVsJcqK7wAUOZWZZSmrcJoEgIECBAgQGBQAXupssILAGVuVUZp2iqMJiFAgAABAgQGFbCXKiu8AFDmVmWUpq3CaBICBAgQIEBgUAF7qbLCCwBlblVGadoqjCYhQIAAAQIEBhWwlyorvABQ5lZllKatwmgSAgQIECBAYFABe6mywgsAZW5VRmnaKowmIUCAAAECBAYVsJcqK7wAUOZWZZSmrcJoEgIECBAgQGBQAXupssILAGVuVUZp2iqMJiFAgAABAgQGFbCXKiu8AFDmVmWUpq3CaBICBAgQIEBgUAF7qbLCCwBlblVGadoqjCYhQIAAAQIEBhWwlyorvABQ5lZllKatwmgSAgQIECBAYFABe6mywgsAZW5VRmnaKozhJzn55JOn3bt3h1rnOeecM1188cXT1a52temII44ItbbWi9m1a9d0wgkntD6t8xEgQIBABQF7qTJEAaDMrcooTVuFMfwkj33sY6czzzwz/DpHXeDRRx89nXTSSaNevusmQIDAAS1gL1VWPgGgzK3KKE1bhTH8JFsB4LJDrzJdevi1Q6z30Iu+MB1y6Venyw698nTp4dcJsabWizj0oi9Oh1z6/yYBoLW88xEgQKCegL1UmaUAUOZWZZSmrcIYfpKtAPC1a3zbdPH3/FiI9V7tn/7v9E0X/OcUaU2tYbYMBIDW8s5HgACBegL2UmWWAkCZW5VRmrYKY/hJBICYJRIAYtbFqggQIJAjYC+Vo/U/xwoAZW5VRmnaKozhJxEAYpZIAIhZF6siQIBAjoC9VI6WAFCmVXmUpq0MGnQ6ASBmYQSAmHWxKgIECOQI2EvlaAkAZVqVR2nayqBBpxMAYhZGAIhZF6siQIBAjoC9VI6WAFCmVXmUpq0MGnQ6ASBmYQSAmHWxKgIECOQI2EvlaAkAZVqVR2nayqBBpxMAYhZGAIhZF6siQIBAjoC9VI6WAFCmVXmUpq0MGnQ6ASBmYQSAmHWxKgIECOQI2EvlaAkAZVqVR2nayqBBpxMAYhZGAIhZF6siQIBAjoC9VI6WAFCmVXmUpq0MGnQ6ASBmYQSAmHWxKgIECOQI2EvlaAkAZVqVR2nayqBBpxMAYhZGAIhZF6siQIBAjoC9VI6WAFCmVXmUpq0MGnQ6ASBmYQSAmHWxKgIECOQI2EvlaAkAZVqVR2nayqBBpxMAYhZGAIhZF6siQIBAjoC9VI6WAFCmVXmUpq0MGnQ6ASBmYQSAmHWxKgIECOQI2EvlaAkAZVqVR2nayqBBpxMAYhZGAIhZF6siQIBAjoC9VI6WAFCmVXmUpq0MGnQ6ASBmYQSAmHWxKgIECOQI2EvlaAkAZVqVR2nayqBBpxMAYhZGAIhZF6siQIBAjoC9VI6WAFCmVXmUpq0MGnQ6ASBmYQSAmHWxKgIECOQI2EvlaAkAZVqVR2nayqBBpxMAYhZGAIhZF6siQIBAjoC9VI6WAFCmVXmUpq0MGnQ6ASBmYQSAmHWxKgIECOQI2EvlaAkAZVqVR2nayqBBpxMAYhZGAIhZF6siQIBAjoC9VI6WAFCmVXmUpq0MGnQ6ASBmYQSAmHWxKgIECOQI2EvlaAkAZVqVR2nayqBBpxMAYhZGAIhZF6siQIBAjoC9VI6WAFCmVXmUpq0MGnQ6ASBmYQSAmHWxKgIECOQI2EvlaAkAZVqVR2nayqBBpxMAYhZGAIhZF6siQIBAjoC9VI6WAFCmVXmUpq0MGnQ6ASBmYQSAmHWxKgIECOQI2EvlaAkAZVqVR2nayqBBpxMAYhZGAIhZF6siQIBAjoC9VI6WAFCmVXmUpq0MGnQ6ASBmYQSAmHWxKgIECOQI2EvlaAkAZVqVR2nayqBBpxMAYhZGAIhZF6siQIBAjoC9VI6WAFCmVXmUpq0MGnQ6ASBmYQSAmHWxKgIECOQI2EvlaAkAZVqVR2nayqBBpxMAYhZGAIhZF6siQIBAjoC9VI6WAFCmVXmUpq0MGnQ6ASBmYQSAmHWxKgIECOQI2EvlaAkAZVqVR2nayqBBpxMAYhZGAIhZF6siQIBAjoC9VI6WAFCmVXmUpq0MGnQ6ASBmYQSAmHWxKgIECOQI2EvlaAkAZVqVR2nayqBBpxMAYhZGAIhZF6siQIBAjoC9VI6WAFCmVXmUpq0MGnQ6ASBmYQSAmHWxKgIECOQI2EvlaAkAZVqVR2nayqBBpxMAYhZGAIhZF6siQIBAjoC9VI6WAFCmVXmUpq0MGnQ6ASBmYQSAmHWxKgIECOQI2EvlaAkAZVqVR2nayqBBpxMAYhZGAIhZF6siQIBAjoC9VI6WAFCmVXmUpq0MGnQ6ASBmYQSAmHWxKgIECOQI2EvlaAkAZVqVR2nayqBBpxMAYhZGAIhZF6siQIBAjoC9VI6WAFCmVXmUpq0MGnQ6ASBmYQSAmHWxKgIECOQI2EvlaAkAZVqVR2nayqBBpxMAYhZGAIhZF6siQIBAjoC9VI6WAFCmVXmUpq0MGnQ6ASBmYQSAmHWxKgIECOQI2EvlaAkAZVqVR2nayqBBpxMAYhZGAIhZF6siQIBAjoC9VI6WAFCmVXmUpq0MGnQ6ASBmYQSAmHWxKgIECOQI2EvlaAkAZVqVR2nayqBBpxMAYhZGAIhZF6siQIBAjoC9VI6WAFCmVXmUpq0MGnQ6ASBmYQSAmHWxKgIECOQI2EvlaAkAZVqVR2nayqBBpxMAYhZGAIhZF6siQIBAjoC9VI6WAFCmVXmUpq0MGnQ6ASBmYQSAmHWxKgIECOQI2EvlaAkAZVqVR2nayqBBpxMAYhZGAIhZF6siQIBAjoC9VI6WAFCmVXmUpq0MGnQ6ASBmYQSAmHWxKgIECOQI2EvlaAkAZVqVR2nayqBBpxMAYhZGAIhZF6siQIBAjoC9VI6WAFCmVXmUpq0MGnQ6ASBmYQSAmHWxKgIECOQI2EvlaAkAZVqVR2nayqBBpxMAYhZGAIhZF6siQIBAjoC9VI6WAFCmVXmUpq0MGnQ6ASBmYQSAmHWxKgIECOQI2EvlaAkAZVqVR2nayqBBpxMAYhZGAIhZF6siQIBAjoC9VI6WAFCmVXmUpq0MGnQ6ASBmYQSAmHWxKgIECOQI2EvlaAkAZVqVR2nayqBBpxMAYhZGAIhZF6siQIBAjoC9VI6WAFCmVXmUpq0MGnQ6ASBmYQSAmHWxKgIECOQI2EvlaAkAZVqVR2nayqBBpxMAYhZGAIhZF6siQIBAjoC9VI6WAFCmVXmUpq0MGnQ6ASBmYQSAmHWxKgIECOQI2EvlaAkAZVqVR2nayqBBpxMAYhZGAIhZF6siQIBAjoC9VI6WAFCmVXmUpq0MGnQ6ASBmYQSAmHWxKgIECOQI2EvlaAkAZVqVR2nayqBBpxMAYhZGAIhZF6siQIBAjoC9VI6WAFCmVXmUpq0MGnQ6ASBmYQSAmHWxKgIECOQI2EvlaAkAZVqVR2nayqBBpxMAYhZGAIhZF6siQIBAjoC9VI6WAFCmVXmUpq0MGnQ6ASBmYQSAmHWxKgIECOQI2EvlaAkAZVqVR2nayqBBpxMAYhZGAIhZF6siQIBAjoC9VI6WAFCmVXmUpq0MGnQ6ASBmYQSAmHWxKgIECOQI2EvlaAkAZVqVR2nayqBBpxMAYhZGAIhZF6siQIBAjoC9VI6WAFCmVXmUpq0MGnQ6ASBmYQSAmHWxKgIECOQI2EvlaAkAZVqVR2nayqBBpxMAYhZGAIhZF6siQIBAjoC9VI6WAFCmVXmUpq0MGnQ6ASBmYQSAmHWxKgIECOQI2EvlaAkAZVqVR2nayqBBpxMAYhZGAIhZF6siQIBAjoC9VI6WAFCmVXmUpq0MGnQ6ASBmYQSAmHWxKgIECOQI2EvlaAkAZVqVR2nayqBBpxMAYhZGAIhZF6siQIBAjoC9VI6WAFCmVXmUpq0MGnQ6ASBmYQSAmHWxKgIECOQI2EvlaAkAZVqVR2nayqBBpxMAYhZGAIhZF6siQIBAjoC9VI6WAFCmVXmUpq0MGnQ6ASBmYQSAmHWxKgIECOQI2EvlaAkAZVqVR2nayqBBpxMAYhZGAIhZF6siQIBAjoC9VI6WAFCmVXmUpq0MGnQ6ASBmYQSAmHWxKgIECOQI2EvlaAkAZVqVR2nayqBBpxMAYhZGAIhZF6siQIBAjoC9VI6WAFCmVXmUpq0MGnQ6ASBmYQSAmHWxKgIECOQI2EvlaAkAZVqVR2nayqBBpxMAYhZGAIhZF6siQIBAjoC9VI6WAFCmVXmUpq0MGnQ6ASBmYQSAmHWxKgIECOQI2EvlaAkAZVqVR7Vs2pNPPnnavXv3tGvXrumEE06ofCWmuyIBASBmfwgAMetysK3Kvfdgq6jriSbQci8V7dqXrOeQyy677LIlExhbLtCyabc2oUcfffR00kknlS/ayGwBASCbrMkAAaAJ8/Ance8dvgUArCzQci+18qU0nV4AaMq978laNq2HUL9CCwD97K/ozAJAzLocbKty7z3YKup6ogm03EtFu/Yl6xEAlugtHNuyaT2EFhZrwXABYAHeikMFgBVxTb1HwL1XMxBYV6DlXmrdK2k7uwDQ1nufs7VsWg+hfoUWAPrZewMQ036kVbn3jlRt19pDoOVeqsf1rXVOAWAt2RnztmxaD6EZBVnpEAFgJdiF03oDsBDQ8FkC7r2zmBxEoFig5V6qeJEBBwoAHYvSsmk9hPoVWgDoZ+8NQEz7kVbl3jtStV1rD4GWe6ke17fWOQWAtWRnzNuyaT2EZhRkpUMEgJVgF07rDcBCQMNnCbj3zmJyEIFigZZ7qeJFBhwoAHQsSsum9RDqV2gBoJ+9NwAx7UdalXvvSNV2rT0EWu6lelzfWucUANaSnTFvy6b1EJpRkJUOEQBWgl04rTcACwENnyXg3juLyUEEigVa7qWKFxlwoADQsSgtm9ZDqF+hBYB+9t4AxLQfaVXuvSNV27X2EGi5l+pxfWudUwBYS3bGvC2b1kNoRkFWOkQAWAl24bTeACwENHyWgHvvLCYHESgWaLmXKl5kwIECQMeitGxaD6F+hRYA+tl7AxDTfqRVufeOVG3X2kOg5V6qx/WtdU4BYC3ZGfO2bFoPoRkFWekQAWAl2IXTegOwENDwWQLuvbOYHESgWKDlXqp4kQEHCgAdi9KyaT2E+hVaAOhn7w1ATPuRVuXeO1K1XWsPgZZ7qR7Xt9Y5BYC1ZGfM27JpPYRmFGSlQwSAlWAXTusNwEJAw2cJuPfOYnIQgWKBlnup4kUGHCgAdCxKy6b1EOpXaAGgn703ADHtR1qVe+9I1XatPQRa7qV6XN9a5xQA1pKdMW/LpvUQmlGQlQ4RAFaCXTitNwALAQ2fJeDeO4vJQQSKBVrupYoXGXCgANCxKC2b1kOoX6EFgH723gDEtB9pVe69I1XbtfYQaLmX6nF9a51TAFhLdsa8LZvWQ2hGQVY6RABYCXbhtN4ALAQ0fJaAe+8sJgcRKBZouZcqXmTAgQJAx6K0bFoPoX6FFgD62XsDENN+pFW5945UbdfaQ6DlXqrH9a11TgFgLdkZ87ZsWg+hGQVZ6RABYCXYhdN6A7AQ0PBZAu69s5gcRKBYoOVeqniRAQcKAB2L0rJpPYT6FVoA6GfvDUBM+5FW5d47UrVdaw+BlnupHte31jkFgLVkZ8zbsmk9hGYUZKVDBICVYBdO6w3AQkDDZwm4985ichCBYoGWe6niRQYcKAB0LErLpvUQ6ldoAaCfvTcAMe1HWpV770jVdq09BFrupXpc31rnFADWkp0xb8um9RCaUZCVDhEAVoJdOK03AAsBDZ8l4N47i8lBBIoFWu6lihcZcKAA0LEoLZvWQ6hfoQWAfvbeAMS0H2lV7r0jVdu19hBouZfqcX1rnVMAWEt2xrwtm9ZDaEZBVjpEAFgJduG03gAsBDR8loB77ywmBxEoFmi5lypeZMCBAkDHorRsWg+hfoUWAPrZewMQ036kVbn3jlRt19pDoOVeqsf1rXVOAWAt2RnztmxaD6EZBVnpEAFgJdiF03oDsBDQ8FkC7r2zmBxEoFig5V6qeJEBBwoAHYvSsmk9hPoVWgDoZ+8NQEz7kVbl3jtStV1rD4GWe6ke17fWOQWAtWRnzNuyaT2EZhRkpUMEgJVgF07rDcBCQMNnCbj3zmJyEIFigZZ7qeJFBhwoAHQsSsum9RDqV2gBoJ+9NwAx7UdalXvvSNV2rT0EWu6lelzfWucUANaSnTFvy6b1EJpRkJUOEQBWgl04rTcACwENnyXg3juLyUEEigVa7qWKFxlwoADQsSgtm9ZDqF+hBYB+9t4AxLQfaVXuvSNV27X2EGi5l+pxfWudUwBYS3bGvC2b1kNoRkFWOkQAWAl24bTeACwENHyWgHvvLCYHESgWaLmXKl5kwIECQMeitGxaD6F+hRYA+tl7AxDTfqRVufeOVG3X2kOg5V6qx/WtdU4BYC3ZGfO2bFoPoRkFWekQAWAl2IXTegOwENDwWQLuvbOYHESgWKDlXqp4kQEHCgAdi9KyaT2E+hVaAOhn7w1ATPuRVuXeO1K1XWsPgZZ7qR7Xt9Y5BYC1ZGfM27JpPYRmFGSlQwSAlWAXTusNwEJAw2cJuPfOYnIQgWKBlnup4kUGHCgAdCxKy6b1EOpXaAGgn703ADHtR1qVe+9I1XatPQRa7qV6XN9a5xQA1pKdMW/LpvUQmlGQlQ4RAFaCXTitNwALAQ2fJeDeO4vJQQSKBVrupYoXGXCgANCxKC2b1kOoX6EFgH723gDEtB9pVe69I1XbtfYQaLmX6nF9a51TAFhLdsa8LZvWQ2hGQVY6RABYCXbhtN4ALAQ0fJaAe+8sJgcRKBZouZcqXmTAgQJAx6K0bFoPoX6FFgD62XsDENN+pFW5945UbdfaQ6DlXqrH9a11TgFgLdkZ87ZsWg+hGQVZ6RABYCXYhdN6A7AQ0PBZAu69s5gcRKBYoOVeqniRAQcKAB2L0rJpPYT6FVoA6GfvDUBM+5FW5d47UrVdaw+BlnupHte31jkFgLVkZ8zbsmk9hGYUZKVDBICVYBdO6w3AQkDDZwm4985ichCBYoGWe6niRQYcKAB0LErLpvUQ6ldoAaCfvTcAMe1HWpV770jVdq09BFrupXpc31rnFADWkp0xb8um9RCaUZCVDhEAVoJdOK03AAsBDZ8l4N47i8lBBIoFWu6lihcZcKAA0LEoLZvWQ6hfoQWAfvbeAMS0H2lV7r0jVdu19hBouZfqcX1rnVMAWEt2xrwtm9ZDaEZBVjpEAFgJduG03gAsBDR8loB77ywmBxEoFmi5lypeZMCBAkDHorRsWg+hfoUWAPrZewMQ036kVbn3jlRt19pDoOVeqsf1rXVOAWAt2RnztmxaD6EZBVnpEAFgJdiF03oDsBDQ8FkC7r2zmBxEoFig5V6qeJEBBwoAHYvSsmk9hPoVWgDoZ+8NQEz7kVbl3jtStV1rD4GWe6ke17fWOQWAtWRnzNuyaT2EZhRkpUMEgJVgF07rDcBCQMNnCbj3zmJyEIFigZZ7qeJFBhwoAHQsSsum9RDqV2gBoJ+9NwAx7UdalXvvSNV2rT0EWu6lelzfWucUANaSnTFvy6b1EJpRkJUOEQBWgl04rTcACwENnyXg3juLyUEEigVa7qWKFxlwoADQsSgtm9ZDqF+hBYB+9t4AxLQfaVXuvSNV27X2EGi5l+pxfWudUwBYS3bGvC2b1kNoRkFWOkQAWAl24bTeACwENHyWgHvvLCYHESgWaLmXKl5kwIECQMeitGxaD6F+hRYA+tl7AxDTfqRVufeOVG3X2kOg5V6qx/WtdU4BYC3ZGfO2bFoPoRkFWekQAWAl2IXTegOwENDwWQLuvbOYHESgWKDlXqp4kQEHCgAdi9KyaT2E+hVaAOhn7w1ATPuRVuXeO1K1XWsPgZZ7qR7Xt9Y5BYC1ZGfM27JpPYRmFGSlQwSAlWAXTusNwEJAw2cJuPfOYnIQgWKBlnup4kUGHCgAdCxKy6b1EOpXaAGgn703ADHtR1qVe+9I1XatPQRa7qV6XN9a5xQA1pKdMW/LpvUQmlGQlQ4RAFaCXTitNwALAQ2fJeDeO4vJQQSKBVrupYoXGXCgANCxKC2b1kOoX6EFgH723gDEtB9pVe69I1XbtfYQaLmX6nEF3AzLAAAgAElEQVR9a51TAFhLdsa8LZvWQ2hGQVY6RABYCXbhtN4ALAQ0fJaAe+8sJgcRKBZouZcqXmTAgQJAx6K0bFoPoX6FFgD62XsDENN+pFW5945UbdfaQ6DlXqrH9a11TgFgLdkZ87ZsWg+hGQVZ6RABYCXYhdN6A7AQ0PBZAu69s5gcRKBYoOVeqniRAQcKAB2L0rJpPYT6FVoA6GfvDUBM+5FW5d47UrVdaw+BlnupHte31jkFgLVkZ8zbsmk9hGYUZKVDBICVYBdO6w3AQkDDZwm4985ichCBYoGWe6niRQYcKAB0LErLpvUQ6ldoAaCfvTcAMe1HWpV770jVdq09BFrupXpc31rnFADWkp0xb8um9RCaUZCVDhEAVoJdOK03AAsBDZ8l4N47i8lBBIoFWu6lihcZcKAA0LEoLZvWQ6hfoQWAfvbeAMS0H2lV7r0jVdu19hBouZfqcX1rnVMAWEt2xrwtm9ZDaEZBVjpEAFgJduG03gAsBDR8loB77ywmBxEoFmi5lypeZMCBAkDHorRsWg+hfoUWAPrZewMQ036kVbn3jlRt19pDoOVeqsf1rXVOAWAt2RnztmxaD6EZBVnpEAFgJdiF03oDsBDQ8FkC7r2zmBxEoFig5V6qeJEBBwoAHYvSsmk9hPoVWgDoZ+8NQEz7kVbl3jtStV1rD4GWe6ke17fWOQWAtWRnzNuyaT2EZhRkpUMEgJVgF07rDcBCQMNnCbj3zmJyEIFigZZ7qeJFBhwoAHQsSsum9RDqV2gBoJ+9NwAx7UdalXvvSNV2rT0EWu6lelzfWucUANaSnTFvy6b1EJpRkJUOEQBWgl04rTcACwENnyXg3juLyUEEigVa7qWKFxlwoADQsSgtm9ZDqF+hBYB+9t4AxLQfaVWXd++9293utofh/e9///8iuaKvl34tnaR07E7rvfe97z1deOGFm+vYfj3HHnvsdOmll+73a49+9KOn9Czc37gTTzxxeu9737vfr6X/8Y/+6I+mV7/61fv9+qmnnjo9+9nP3u/X3v3ud0/Pe97zLnfeM844Y3rCE56w369f0dfOOuus6TGPeczlzvupT31qeuhDH7rfr5977rnTgx70oP1+7bzzzpse+MAHXu68n//856f73e9+2fOec84504Mf/ODLnfeTn/zk9LCHPWy/X0+1TjXfX90uuOCC6T73uc/lzlv7v/+We6naa+85nwDQUb9l0woA/QotAPSzv6IzewMQsy4H26rmBID9baL23nBv/3rp19I8pWOvaNxa8/Y451rXYt71/stuuZda7yrazywAtDffc8aWTSsA9Cu0ANDPXgCIaT/SqvZ3792+sd3y2PrO+RV9vfRr+9uA7n3eaPMebEb3vOc9p6985Sv7tP5Vr3rVKb2NSN8tT9813/vfNa5xjentb3/7dNxxx01f+tKX9vnat37rt06nnHLK5n9L38FP38nf+98RRxwxveENb7jCee91r3tNX/7yl/cZd/WrX3165zvfufnf7nGPe0yXXHLJPl8/7LDDpve85z3T0572tOmDH/zgPl+7853vPD3rWc+anvzkJ08f+chH9vna7W9/++n5z3/+av/Zt9xLrXYRHSYWADqgb52yZdMKAP0KLQD0sxcAYtqPtKrt997L29gmkxQArujrpW5rzrv3R3+2r+/QQw/d89Gf7V876qij9nz0Z/vX7n73u+/56M/2r6Vr2fujP9u//tSnPnXPR3+2f+0pT3nKno/+7G/evT/es/3rL37xi/d8LGj7117ykpfs+ejP/ubd+6M/27/+xje+cc9Hf7Z/7U1vetOej/7sb969P/qTM28KB1sf/dnfvHt/9Gf719/xjnfs+ejP9q+lwLL10Z/9zVvavzuNa7mX2mktB9LXBYCO1WrZtAJAv0ILAP3sBYCY9iOtKicAjOTiWscT2N/PutRQaLmXqrHeKHMIAB0r0bJpBYB+hRYA+tkLADHtR1rV3vfeM888c6RLd60E9hFY66NALfdSB1NJBYBG1fzsZz87fe5zn9vnbLt3756OP/746eyzz57S69A1/6XfEJBeF6bP+O3atWvNU5l7m0Cqc/qs5devfPj05dv8dAifrR+A/do1vm26+Ht+LMSaWi/i6n/3x9OVvnqR/yZaww92vq3//q973etu7sH+ERhZYI23AAJAWUcJAGVu2aOe/vSnT894xjP2O65FANjfD/xkX4QBiwQuO/TK04XH/MyiOWoNFgCm6ZvP+D/TIZd+tRapeQhcoUD65sv2H7pERmA0AQEgTsUFgEa18AagEXTA03gDELAo0zR5AxCzLgfbqrwBONgq6npKBXwEqFRunXECwDqus2Zt+drKzwDMKskqB/kZgFVYF0/q7wAsJjTBDAE/BDwDySFDCKzx3f8E13IvdTAVSgDoWM2WTSsA9Cu0ANDP/orOLADErMvBtqqcALDmr+tc69eL+jWg0+TXgH7jv1q/BvTAunsJAB3rJQB0xG94agGgIXbGqQSADCyHFgv4Q2B326/dFYWdnb6WJiz9w2W9/sCYPwTmD4EV30RWGigArAQ7Z1oBYI7SgX+MABCzhgJAzLocbKu6vLev2zei2z8ecUVfL/3a/jbOe5832ryMvvFfw8HmUPu/8ZZ7qdpr7zmfANBRv2XT+ghQv0ILAP3sr+jMAkDMuhxsq5oTAPb32ei9N31XFA5yvrZ9M5kz9orWk+bd+6NA2+c99thj9/xF4O1fe/SjH73nLwJv/9qJJ5645y8C789o778IvP3rp5566p6/CLz9a+9+97v3/EXg/c27918E3v71K/raWWedtecvAu9v3r3/IvD2r5977rl7/iLw9q+dd955e/4i8P7m3fsvAufMe8455+z5i8D7m3fvvwi8/esXXnjhnr8IvP1rF1xwwZ6/CLzW5/73vk+03EsdTPcnAaBjNVs2rQDQr9ACQD97ASCm/Uircu8dqdqutYdAy71Uj+tb65wCwFqyM+Zt2bQeQjMKstIhAsBKsAun9QZgIaDhswTce2cxOYhAsUDLvVTxIgMOFAA6FqVl03oI9Su0ANDP3huAmPYjrcq9d6Rqu9YeAi33Uj2ub61zCgBryc6Yt2XTegjNKMhKhwgAK8EunNYbgIWAhs8ScO+dxeQgAsUCLfdSxYsMOFAA6FiUlk3rIdSv0AJAP3tvAGLaj7Qq996Rqu1aewi03Ev1uL61zikArCU7Y96WTeshNKMgKx0iAKwEu3BabwAWAho+S8C9dxaTgwgUC7TcSxUvMuBAAaBjUVo2rYdQv0ILAP3svQGIaT/Sqtx7R6q2a+0h0HIv1eP61jqnALCW7Ix5Wzath9CMgqx0iACwEuzCab0BWAho+CwB995ZTA4iUCzQci9VvMiAAwWAjkVp2bQeQv0KLQD0s/cGIKb9SKty7x2p2q61h0DLvVSP61vrnALAWrIz5m3ZtB5CMwqy0iECwEqwC6f1BmAhoOGzBNx7ZzE5iECxQMu9VPEiAw4UADoWpWXTegj1K7QA0M/eG4CY9iOtyr13pGq71h4CLfdSPa5vrXMKAGvJzpi3ZdN6CM0oyEqHCAArwS6c1huAhYCGzxJw753F5CACxQIt91LFiww4UADoWJSWTesh1K/QAkA/e28AYtqPtCr33pGq7Vp7CLTcS/W4vrXOKQCsJTtj3pZN6yE0oyArHSIArAS7cFpvABYCGj5LwL13FpODCBQLtNxLFS8y4EABoGNRWjath1C/QgsA/ey9AYhpP9Kq3HtHqrZr7SHQci/V4/rWOqcAsJbsjHlbNq2H0IyCrHSIALAS7MJpvQFYCGj4LAH33llMDiJQLNByL1W8yIADBYCORWnZtB5C/QotAPSz9wYgpv1Iq3LvHanarrWHQMu9VI/rW+ucAsBasjPmbdm0HkIzCrLSIQLASrALp/UGYCGg4bME3HtnMTmIQLFAy71U8SIDDhQAOhalZdN6CPUrtADQz94bgJj2I63KvXekarvWHgIt91I9rm+tcwoAa8nOmLdl03oIzSjISocIACvBLpzWG4CFgIbPEnDvncXkIALFAi33UsWLDDhQAOhYlJZN6yHUr9ACQD97bwBi2o+0KvfekartWnsItNxL9bi+tc4pAKwlO2Pelk3rITSjICsdIgCsBLtwWm8AFgIaPkvAvXcWk4MIFAu03EsVLzLgQAGgY1FaNq2HUL9CCwD97L0BiGk/0qrce0eqtmvtIdByL9Xj+tY6pwCwluyMeVs2rYfQjIKsdIgAsBLswmm9AVgIaPgsAffeWUwOIlAs0HIvVbzIgAMFgI5Fadm0HkL9Ci0A9LP3BiCm/Uircu8dqdqutYdAy71Uj+tb65wCwFqyM+Zt2bQeQjMKstIhAsBKsAun9QZgIaDhswTce2cxOYhAsUDLvVTxIgMOFAA6FqVl03oI9Su0ANDP3huAmPYjrcq9d6Rqu9YeAi33Uj2ub61zCgBryc6Yt2XTegjNKMhKhwgAK8EunNYbgIWAhs8ScO+dxeQgAsUCLfdSxYsMOFAA6FiUlk3rIdSv0AJAP3tvAGLaj7Qq996Rqu1aewi03Ev1uL61zikArCU7Y96WTeshNKMgKx0iAKwEu3BabwAWAho+S8C9dxaTgwgUC7TcSxUvMuBAAaBjUVo2rYdQv0ILAP3svQGIaT/Sqtx7R6q2a+0h0HIv1eP61jqnALCW7Ix5Wzath9CMgqx0iACwEuzCab0BWAho+CwB995ZTA4iUCzQci9VvMiAAwWAjkVp2bQeQv0KLQD0s/cGIKb9SKty7x2p2q61h0DLvVSP61vrnALAWrIz5m3ZtB5CMwqy0iECwEqwC6f1BmAhoOGzBNx7ZzE5iECxQMu9VPEiAw4UADoWpWXTegj1K7QA0M/eG4CY9iOtyr13pGq71h4CLfdSPa5vrXMKAGvJzpi3ZdN6CM0oyEqHCAArwS6c1huAhYCGzxJw753F5CACxQIt91LFiww4UADoWJSWTesh1K/QAkA/e28AYtqPtCr33pGq7Vp7CLTcS/W4vrXOKQCsJTtj3pZN6yE0oyArHSIArAS7cFpvABYCGj5LwL13FpODCBQLtNxLFS8y4EABoGNRWjath1C/QgsA/ey9AYhpP9Kq3HtHqrZr7SHQci/V4/rWOqcAsJbsjHlbNq2H0IyCrHSIALAS7MJpvQFYCGj4LAH33llMDiJQLNByL1W8yIADBYCORWnZtB5C/QotAPSz9wYgpv1Iq3LvHanarrWHQMu9VI/rW+ucAsBasjPmbdm0HkIzCrLSIQLASrALp/UGYCGg4bME3HtnMTmIQLFAy71U8SIDDhQAOhalZdN6CPUrtADQz94bgJj2I63KvXekarvWHgIt91I9rm+tcwoAa8nOmLdl03oIzSjISocIACvBLpzWG4CFgIbPEnDvncXkIALFAi33UsWLDDhQAOhYlJZN6yHUr9ACQD97bwBi2o+0KvfekartWnsItNxL9bi+tc4pAKwlO2Pelk3rITSjICsdIgCsBLtwWm8AFgIaPkvAvXcWk4MIFAu03EsVLzLgQAGgY1FaNq2HUL9CCwD97L0BiGk/0qrce0eqtmvtIdByL9Xj+tY6pwCwluyMeVs2rYfQjIKsdIgAsBLswmm9AVgIaPgsAffeWUwOIlAs0HIvVbzIgAMFgI5Fadm0HkL9Ci0A9LP3BiCm/Uircu8dqdqutYdAy71Uj+tb65wCwFqyM+Zt2bQeQjMKstIhAsBKsAun9QZgIaDhswTce2cxOYhAsUDLvVTxIgMOFAA6FqVl03oI9Su0ANDP3huAmPYjrcq9d6Rqu9YeAi33Uj2ub61zCgBryc6Yt2XTegjNKMhKhwgAK8EunNYbgIWAhs8ScO+dxeQgAsUCLfdSxYsMOFAA6FiUlk3rIdSv0AJAP3tvAGLaj7Qq996Rqu1aewi03Ev1uL61zikArCU7Y96WTeshNKMgKx0iAKwEu3BabwAWAho+S8C9dxaTgwgUC7TcSxUvMuBAAaBjUVo2rYdQv0ILAP3svQGIaT/Sqtx7R6q2a+0h0HIv1eP61jqnALCW7Ix5Wzath9CMgqx0iACwEuzCab0BWAho+CwB995ZTA4iUCzQci9VvMiAAwWAjkVp2bQeQv0KLQD0s/cGIKb9SKty7x2p2q61h0DLvVSP61vrnALAWrIz5m3ZtB5CMwqy0iECwEqwC6f1BmAhoOGzBNx7ZzE5iECxQMu9VPEiAw4UADoWpWXTegj1K7QA0M/eG4CY9iOtyr13pGq71h4CLfdSPa5vrXMKAGvJzpi3ZdN6CM0oyEqHCAArwS6c1huAhYCGzxJw753F5CACxQIt91LFiww4UADoWJSWTesh1K/QAkA/e28AYtqPtCr33pGq7Vp7CLTcS/W4vrXOKQCsJTtj3pZN6yE0oyArHSIArAS7cFpvABYCGj5LwL13FpODCBQLtNxLFS8y4EABoGNRWjath1C/QgsA/ey9AYhpP9Kq3HtHqrZr7SHQci/V4/rWOqcAsJbsjHlbNq2H0IyCrHSIALAS7MJpvQFYCGj4LAH33llMDiJQLNByL1W8yIADBYCORWnZtB5C/QotAPSz9wYgpv1Iq3LvHanarrWHQMu9VI/rW+ucAsBasjPmbdm0HkIzCrLSIQLASrALp/UGYCGg4bME3HtnMTmIQLFAy71U8SIDDhQAOhalZdN6CPUrtADQz94bgJj2I63KvXekarvWHgIt91I9rm+tcwoAa8nOmLdl03oIzSjISocIACvBLpzWG4CFgIbPEnDvncXkIALFAi33UsWLDDhQAOhYlJZN6yHUr9ACQD97bwBi2o+0KvfekartWnsItNxL9bi+tc4pAKwlO2Pelk3rITSjICsdIgCsBLtwWm8AFgIaPkvAvXcWk4MIFAu03EsVLzLgQAGgY1FaNq2HUL9CCwD97L0BiGk/0qrce0eqtmvtIdByL9Xj+tY6pwCwluyMeVs2rYfQjIKsdIgAsBLswmm9AVgIaPgsAffeWUwOIlAs0HIvVbzIgAMFgI5Fadm0HkL9Ci0A9LP3BiCm/Uircu8dqdqutYdAy71Uj+tb65wCwFqyM+Zt2bQeQjMKstIhAsBKsAun9QZgIaDhswTce2cxOYhAsUDLvVTxIgMOFAA6FqVl03oI9Su0ANDP3huAmPYjrcq9d6Rqu9YeAi33Uj2ub61zCgBryc6Yt2XTegjNKMhKhwgAK8EunNYbgIWAhs8ScO+dxeQgAsUCLfdSxYsMOFAA6FiUlk3rIdSv0AJAP3tvAGLaj7Qq996Rqu1aewi03Ev1uL61zikArCU7Y96WTeshNKMgKx0iAKwEu3BabwAWAho+S8C9dxaTgwgUC7TcSxUvMuBAAaBjUVo2rYdQv0ILAP3svQGIaT/Sqtx7R6q2a+0h0HIv1eP61jqnALCW7Ix5Wzath9CMgqx0iACwEuzCab0BWAho+CwB995ZTA4iUCzQci9VvMiAAwWAjkVp2bQeQv0KLQD0s/cGIKb9SKty7x2p2q61h0DLvVSP61vrnALAWrIz5m3ZtB5CMwqy0iECwEqwC6f1BmAhoOGzBNx7ZzE5iECxQMu9VPEiAw4UADoWpWXTegj1K7QA0M/eG4CY9iOtyr13pGq71h4CLfdSPa5vrXMKAGvJzpi3ZdOefPLJ0+7du6ddu3ZNJ5xwwozVOaSWgABQS7LuPN4A1PU02/4F3Ht1BoF1BVrupda9krazCwBtvfc5m6btiN/w1AJAQ+yMUwkAGVgOJUCAQFABe6mywggAZW5VRmnaKozhJxEAYpZIAIhZF6siQIBAjoC9VI7W/xwrAJS5VRmlaaswhp9EAIhZIgEgZl2sigABAjkC9lI5WgJAmVblUZq2MmjQ6QSAmIURAGLWxaoIECCQI2AvlaMlAJRpVR6laSuDBp1OAIhZGAEgZl2sigABAjkC9lI5WgJAmVblUZq2MmjQ6QSAmIURAGLWxaoIECCQI2AvlaMlAJRpVR6laSuDBp1OAIhZGAEgZl2sigABAjkC9lI5WgJAmVblUZq2MmjQ6QSAmIURAGLWxaoIECCQI2AvlaMlAJRpVR6laSuDBp1OAIhZGAEgZl2sigABAjkC9lI5WgJAmVblUZq2MmjQ6QSAmIURAGLWxaoIECCQI2AvlaMlAJRpVR6laSuDBp1OAIhZGAEgZl2sigABAjkC9lI5WgJAmVblUZq2MmjQ6QSAmIURAGLWxaoIECCQI2AvlaMlAJRpVR6laSuDBp1OAIhZGAEgZl2sigABAjkC9lI5WgJAmVblUZq2MmjQ6QSAmIURAGLWxaoIECCQI2AvlaMlAJRpVR6laSuDBp1OAIhZGAEgZl2sigABAjkC9lI5WgJAmVblUZq2MmjQ6QSAmIURAGLWxaoIECCQI2AvlaMlAJRpVR6laSuDBp1OAIhZGAEgZl2sigABAjkC9lI5WgJAmVblUZq2MmjQ6QSAmIURAGLWxaoIECCQI2AvlaMlAJRpVR6laSuDBp1OAIhZGAEgZl2sigABAjkC9lI5WgJAmVblUZq2MmjQ6QSAmIURAGLWxaoIECCQI2AvlaMlAJRpVR6laSuDBp1OAIhZGAEgZl2sigABAjkC9lI5WgJAmVblUZq2MmjQ6QSAmIURAGLWxaoIECCQI2AvlaMlAJRpVR6laSuDBp1OAIhZGAEgZl2sigABAjkC9lI5WgJAmVblUZq2MmjQ6QSAmIURAGLWxaoIECCQI2AvlaMlAJRpVR6laSuDBp1OAIhZGAEgZl2sigABAjkC9lI5WgJAmVblUZq2MmjQ6QSAmIURAGLWxaoIECCQI2AvlaMlAJRpVR6laSuDBp1OAIhZGAEgZl2sigABAjkC9lI5WgJAmVblUZq2MmjQ6QSAmIURAGLWxaoIECCQI2AvlaMlAJRpVR6laSuDBp1OAIhZGAEgZl2sigABAjkC9lI5WgJAmVblUZq2MmjQ6QSAmIURAGLWxaoIECCQI2AvlaMlAJRpVR6laSuDBp1OAIhZGAEgZl2sigABAjkC9lI5WgJAmVblUZq2MmjQ6QSAmIURAGLWxaoIECCQI2AvlaMlAJRpVR6laSuDBp1OAIhZGAEgZl2sigABAjkC9lI5WgJAmVblUZq2MmjQ6QSAmIURAGLWxaoIECCQI2AvlaMlAJRpVR6laSuDBp1OAIhZGAEgZl2sigABAjkC9lI5WgJAmVblUZq2MmjQ6QSAmIURAGLWxaoIECCQI2AvlaMlAJRpVR6laSuDBp1OAIhZGAEgZl2sigABAjkC9lI5WgJAmVblUZq2MmjQ6QSAmIURAGLWxaoIECCQI2AvlaMlAJRpVR6laSuDBp1OAIhZGAEgZl2sigABAjkC9lI5WgJAmVblUZq2MmjQ6QSAmIURAGLWxaoIECCQI2AvlaMlAJRpVR6laSuDBp1OAIhZGAEgZl2sigABAjkC9lI5WgJAmVblUZq2MmjQ6QSAmIURAGLWxaoIECCQI2AvlaMlAJRpVR6laSuDBp1OAIhZGAEgZl2sigABAjkC9lI5WgJAmVblUZq2MmjQ6QSAmIURAGLWxaoIECCQI2AvlaMlAJRpVR6laSuDBp1OAIhZGAEgZl2sigABAjkC9lI5WgJAmVblUZq2MmjQ6QSAmIURAGLWxaoIECCQI2AvlaMlAJRpVR6laSuDBp1OAIhZGAEgZl2sigABAjkC9lI5WgJAmVblUZq2MmjQ6QSAmIURAGLWxaoIECCQI2AvlaMlAJRpVR6laSuDBp1OAIhZGAEgZl2sigABAjkC9lI5WgJAmVblUZq2MmjQ6QSAmIURAGLWxaoIECCQI2AvlaMlAJRpVR6laSuDBp1OAIhZGAEgZl2sigABAjkC9lI5WgJAmVblUZq2MmjQ6QSAmIURAGLWxaoIECCQI2AvlaMlAJRpVR6laSuDBp1OAIhZGAEgZl2sigABAjkC9lI5WgJAmVblUZq2MmjQ6QSAmIURAGLWxaoIECCQI2AvlaMlAJRpVR6laSuDBp1OAIhZGAEgZl2sigABAjkC9lI5WgJAmVblUZq2MmjQ6QSAmIURAGLWxaoIECCQI2AvlaMlAJRpVR6laSuDBp1OAIhZGAEgZl2sigABAjkC9lI5WgJAmVblUZq2MmjQ6QSAmIURAGLWxaoIECCQI2AvlaMlAJRpVR6laSuDBp1OAIhZGAEgZl2sigABAjkC9lI5WgJAmVblUZq2MmjQ6QSAmIURAGLWxaoIECCQI2AvlaMlAJRpVR6laSuDBp1OAIhZGAEgZl2sigABAjkC9lI5WgJAmVblUZq2MmjQ6QSAmIURAGLWxaoIECCQI2AvlaMlAJRpVR6laSuDBp1OAIhZGAEgZl2sigABAjkC9lI5WgJAmVblUZq2MmjQ6QSAmIURAGLWxaoIECCQI2AvlaMlAJRpVR6laSuDBp1OAIhZGAEgZl2sigABAjkC9lI5WgJAmVblUZq2MmjQ6QSAmIURAGLWxaoIECCQI2AvlaMlAJRpVR6laSuDBp1OAIhZGAEgZl2sigABAjkC9lI5WgJAmVblUZq2MmjQ6QSAmIURAGLWxaoIECCQI2AvlaMlAJRpVR6laSuDBp1OAIhZGAEgZl2sigABAjkC9lI5WgJAmVblUZq2MmjQ6QSAmIURAGLWxaoIECCQI2AvlaMlAJRpVR6laSuDBp1OAIhZGAEgZl2sigABAjkC9lI5WgJAmVblUZq2MmjQ6QSAmIURAGLWxaoIECCQI2AvlaMlAJRpVR6laSuDBp1OAIhZGAEgZl2sigABAjkC9lI5WgJAmVblUZq2MmjQ6QSAmIURAGLWxaoIECCQI2AvlaMlAJRpVR6laSuDBp1OAIhZGAEgZl2sigABAjkC9lI5WgJAmVblUZq2MmjQ6QSAmIURAGLWxaoIECCQI2AvlaMlAJRpVR6laSuDBq4Si14AABkQSURBVJ1OAIhZGAEgZl2sigABAjkC9lI5WgJAmVblUZq2MmjQ6QSAmIURAGLWxaoIECCQI2AvlaMlAJRpVR6laSuDBp1OAIhZGAEgZl2sigABAjkC9lI5WgJAmVblUZq2MmjQ6QSAmIURAGLWxaoIECCQI2AvlaMlAJRpVR6laSuDBp1OAIhZGAEgZl2sigABAjkC9lI5WgJAmVblUZq2MmjQ6QSAmIURAGLWxaoIECCQI2AvlaMlAJRpVR6laSuDBp1OAIhZGAEgZl2sigABAjkC9lI5WgJAmVblUZq2MmjQ6QSAmIURAGLWxaoIECCQI2AvlaMlAJRpVR6laSuDBp1OAIhZGAEgZl2sigABAjkC9lI5WgJAmVblUZq2MmjQ6QSAmIURAGLWxaoIECCQI2AvlaMlAJRpVR6laSuDBp1uKwBcduhVpksPv3aIVR560RemQy796nTZoVeeLj38OiHW1HoRh170xemQS//fdPTRR08nnXRS69M7HwECBAhUELCXKkM85LLLLrusbKhRSwU07VLBA2P8VgA4MFY73ioFgPFq7ooJEDh4BOylymopAJS5VRmlaaswhp/k5JNPnnbv3h1qneecc8508cUXT1e72tWmI444ItTaWi9m165d0wknnND6tM5HgAABAhUE7KXKEAWAMrcqozRtFUaTECBAgAABAoMK2EuVFV4AKHOrMkrTVmE0CQECBAgQIDCogL1UWeEFgDK3KqM0bRVGkxAgQIAAAQKDCthLlRVeAChzqzJK01ZhNAkBAgQIECAwqIC9VFnhBYAytyqjNG0VRpMQIECAAAECgwrYS5UVXgAoc6syStNWYTQJAQIECBAgMKiAvVRZ4QWAMrcqozRtFUaTECBAgAABAoMK2EuVFV4AKHOrMkrTVmE0CQECBAgQIDCogL1UWeEFgDK3KqM0bRVGkxAgQIAAAQKDCthLlRVeAChzqzJK01ZhNAkBAgQIECAwqIC9VFnhBYAytyqjNG0VRpMQIECAAAECgwrYS5UVXgAoc6syStNWYTQJAQIECBAgMKiAvVRZ4QWAMrcqozRtFUaTECBAgAABAoMK2EuVFV4AKHOrMkrTVmE0CQECBAgQIDCogL1UWeEFgDK3KqM0bRVGkxAgQIAAAQKDCthLlRVeAChzqzJK01ZhNAkBAgQIECAwqIC9VFnhBYAytyqjNG0VRpMQIECAAAECgwrYS5UVXgAoc6syStNWYTQJAQIECBAgMKiAvVRZ4QWAMrcqozRtFUaTECBAgAABAoMK2EuVFV4AKHOrMkrTVmE0CQECBAgQIDCogL1UWeEFgDK3KqM0bRVGkxAgQIAAAQKDCthLlRVeAChzqzJK01ZhNAkBAgQIECAwqIC9VFnhBYAytyqjNG0VRpMQIECAAAECgwrYS5UVXgAoc6syStNWYTQJAQIECBAgMKiAvVRZ4QWAMrcqozRtFUaTECBAgAABAoMK2EuVFV4AKHOrMkrTVmE0CQECBAgQIDCogL1UWeEFgDK3KqM0bRVGkxAgQIAAAQKDCthLlRVeAChzqzJK01ZhNAkBAgQIECAwqIC9VFnhBYAytyqjNG0VRpMQIECAAAECgwrYS5UVXgAoc6syStNWYTQJAQIECBAgMKiAvVRZ4QWAMrcqozRtFUaTECBAgAABAoMK2EuVFV4AKHOrMkrTVmE0CQECBAgQIDCogL1UWeEFgDK3KqM0bRVGkxAgQIAAAQKDCthLlRVeAChzqzJK01ZhNAkBAgQIECAwqIC9VFnhBYAytyqjNG0VRpMQIECAAAECgwrYS5UVXgAoc6syStNWYTQJAQIECBAgMKiAvVRZ4QWAMrcqozRtFUaTECBAgAABAoMK2EuVFV4AKHOrMkrTVmE0CQECBAgQIDCogL1UWeEFgDK3KqM0bRVGkxAgQIAAAQKDCthLlRVeAChzqzJK01ZhNAkBAgQIECAwqIC9VFnhBYAytyqjNG0VRpMQIECAAAECgwrYS5UVXgAoc6sy6owzzphud7vbTW9961unXbt2VZnTJAQIECBAgACBUQR27949HX/88dPpp58+HXPMMaNc9uLrFAAWE5ZPcMopp2ya1j8CBAgQIECAAIFygfTN1OOOO658gsFGCgAdC37++edPp5122nTkkUdOhx12WMeV9Dn1Vmr3BuTy/Rnt3JuMGO0ssPMR+ojRzgI7H6GP2htdcskl06c//enprne963TNa15z5wU4YiMgAGiEbgI+t7czPSNGOwvsfIQ+YrSzwM5H6CNGOwvsfIQ+2tmoxRECQAtl59ivgJvAzo3BiNHOAjsfoY8Y7Syw8xH6iNHOAjsfoY92NmpxhADQQtk5BIDCHnCj3BmOEaOdBXY+Qh8x2llg5yP0EaOdBWIcIQDEqMOQq3Cj3LnsjBjtLLDzEfqI0c4COx+hjxjtLLDzEfpoZ6MWRwgALZSdY78Cn/3sZ6eXvexl0y//8i9P17/+9SntR4DRzm3BiNHOAjsfoY8Y7Syw8xH6iNHOAjGOEABi1MEqCBAgQIAAAQIECDQREACaMDsJAQIECBAgQIAAgRgCAkCMOlgFAQIECBAgQIAAgSYCAkATZichQIAAAQIECBAgEENAAIhRh4NuFX/xF38xvf71r5/+6q/+avMX+tJf5/ve7/3e6Td/8zen293udvtc7xlnnDE96UlPmv76r/96+qZv+qbph37oh6YXvehF001ucpODzmXvC/q7v/u76Td+4zemv//7v58+97nPTVe72tWmm9/85tOjH/3o6SEPeQijy6n+q171qunnf/7np6tf/erThRdeyGmapve///3TD/7gD+5X7MMf/vB0hzvcYc/XRv3vbQvgQx/60PSc5zxnSi5f+cpXphvd6EbTQx/60OlpT3va8EYPf/jDp9e97nWXe9/du5dG7qOPfexj0zOe8Yzpb/7mb6bzzz9/+o7v+I7pQQ960PTEJz5xOvzww4fvowSQbNJ/U2kPcNlll03f933fNz372c+e7nSnO/2v/hq5l3pucgSAnvoH8bnvf//7T1/4whem9H9vcYtbbDa4v/3bvz397d/+7fSe97xns8lP//7pn/5p+v7v//7pNre5zfSUpzxl80BOIeG//uu/prRBvt71rnfQKqVN2x//8R9PP/ADPzAdccQR05e//OXpDW94w+Z/e9aznjU99alPHd5oe/HPOeec6aijjtps/r/0pS/tEwBG76UUANLGdnsQuOUtbzl98zd/s16apumNb3zj9DM/8zPTAx7wgM2GLbn827/923Tuuedu7juj35OSRbpXb/93n/vcZzrssMOmT37yk9Ohhx469H37H/7hHzbfxErfrPn1X//16brXve70gQ98YLO5vde97jWdcsopw/fRRz/60enOd77z5tn+hCc8YRMAXvCCF0wpOL3vfe+b7njHO+5psZHv2703NwJA7wocpOdPvwpt+6/2TN+t3bVr15Q2JKeeeurmytODON0Q0oPnW77lWzb/W3rI3OxmN5se//jHT89//vMPUqHLv6z03dq0IfnUpz7FaBtT2ogccsgh07Wvfe3pLW95yz4BYORe2noD8Cd/8ifT/e53v8ttrpGNUnhMm7b03f7064cv79/IRvszOe2006a73e1um29IpG9MjH7fTg4nnnjitHv37ummN73pHrJf+IVfmH7/939/+uIXvzhd61rXGvrZds973nPzDbx///d/3/NG5IILLti81f/u7/7u6S//8i/3uPnvrd8WRwDoZz/kmdN3/tOD+J//+Z+nr33ta5tNf3ogv+IVr9jH4x73uMf0H//xH9O//Mu/DOd073vfe0rfZUo3T0b/U/70kbL0NyOSTXoI7x0ARneaEwBGN0of2Xj6058+feITn5i+8zu/c7/3ldGN9oeS7s/pv730TZob3/jGw9+TtvoovSlJ3/3f+vfkJz9589HV//7v/968LRn52XaNa1xj8zYkvc3e+99P/uRPTn/2Z3+2+QbXt3/7tw/fS703NwJA7woMdP70kY304E0hIN0EUgj4nu/5numlL33pZmO3979f/dVf3Xxk6KKLLpquetWrHtRKX//616f0/9LHntJ3cB/72MdOv/d7vzel7ygx+kbp0xul9FGyZz7zmZteSZ9V3jsAjO60FQDSW7f00bv0OeT0mj19Bjd9xCz9G93o2GOP3XxXMn0MKG3Wzj777M2bpJ/4iZ/YfDwhbdhGN9p+o0337LRRS5/bfu9736uPpmkTIG9729tOP/zDP7x5Q50+pprekqSf20ph6SUvecnwfZQC0E//9E//r58nSR+7e9Ob3rT5GPCP/MiPDO/Ue2MjAPSuwEDnTzfIN7/5zZsf9k2foUw/HJQeLOmGkG4We/977nOfu/l85dZ3Cg5mpl/8xV+cXvnKV24u8SpXucr0u7/7u9Mv/dIvbf7/GX2j8uljLeedd96UfoAzfQRoewAY3Sl9tjb98Gb6qMZ1rnOdzccTXvjCF27eoL3zne+c0hu10Y3SNxvSxwuvfOUrT7/2a7+2CUjps8q/9Vu/NR1zzDHTBz/4wc0PBrsn/c/dNr2ZTfeive/Ro/dR0kmfW7/vfe+7+b9b/x7zmMds7t3p/jS6UQpI6Zt3//iP/zhd6UpX2hClt2vpI3jpzXYK4Q984AOHd+q9rxEAeldgkPOn70SmH5I6+eSTp1/5lV/ZZ3ObXhP+1E/91H4DQNr0fdu3fdtBrZQ+65++w53+39vf/vbN50jTd5bSb5TYepCMbPSnf/qnmx/YTJvc9BYg/bu8ADCy0/b/SNJvJ7nVrW61+S73mWeeOXwvpc8e/+u//uuUvrmQfuHA1r+TTjppetzjHrf5Dnd6c5ICgD76hk76zS3po5jpY5vpu7p7f1NiVKP0BuDud7/7dIMb3GDzc2rpDcBHPvKRzfMtfaPiD//wD4f/b+3Vr3719HM/93Ob8Jh+0116w50+OvXa1752uvTSS/f89+X51ndrIwD09R/i7FufmUw/OJW+q7/1z+v2/Zc/3TTTr7pMbz/SD5SN/DGprR8cT2+Ptn4rUlJLHwN629veNn3mM5/ZfEc3/d+RnS7vRpJ6KX0XN303LgXNkY3Sd/zT28f0KwfTdyi3/qW3JOk7kyl0H3fccUMb7d1HZ5111nT00UdvPpKYvrPtvv0NgfS2Ov3iivSd7PTbyLb+veY1r5l+9md/dvMredM3rUb+by2ZpP+eUija+lXN6b+/u9zlLpv/Pb1tSx9NtAfouwUUAPr6H/Rn39r8px++S6/a9/639QN3D3vYw6aXv/zl+3wt/RaBdIMd8YeAtx4kWx+VSp9NHtUofbct/eDhFf1Lm7b08wAjO12ez9bHyy6++OLN39gY2Wjrt7RsDwBbm5D0kan0JmBko737KG380+fZ098pSb+5bevf6PfttLFPPxeRQsDe/9LPlKQ3bls/v6WPpumSSy7ZvHVLPxScfv4v/TeYftX11t+9Gb2Xem8ABYDeFTiIz59+ZVz63dp7//q47ZebPvqTvmOSPrOcbhLpX/pO5davAX3e8553EAvt/9LSD5Klm+R//ud/bl4vj2yU/i5ECkLb/6W+SD949653vWvzmzjSBmVkp/11Uvqh8rQhST2UPj6V/o1s9Od//uebn4XY/ibyd37ndza/q3zru5IjG231Udq43fCGN9z82ub08Rb37f8RSL/EIm320zeotv6+RvrqH/zBH0yPetSjpre+9a2bN0n6aN+uSc/1W9/61tMjHvGIKf03t/WPU78tjgDQz/6gPnP6DT7pM+zpO/nbv/OfLnzrL5OmH6JKnzNNP4S39x8CSx99Odj/EFh6WKTvEqU/lpI+T/r5z39+81uA0g9Kp9+ClH4zSfo3stHl/Uey/WcARndKPyOR/hpp+mvbKRCl77ql/wbTr25MISn9xpLRjdL1//iP//iUgkD6pkS6B6U/TJjeUiaf9PM3jL7xX1y6B6WPuqSfR0p/dXv7v5HvSemjh8cff/x0+9vffvMzAOm/t/RNivSzJem/wRS20y9zGNkoBaT0s1vpfpR+diT9DFL6ps13fdd3bd6c7B2cRnbqvQkUAHpX4CA9f/ptJOk7tJf3L/1lwK1/p59++ubX8qXfwJE+ppC+w5J+n/Lef2TlYGRKH/VJ/y/9poT0A5vpppg+c/vIRz5y8yvl9v43qlFOAEjHjuqUHq5p05Z+YDN95jb94G/6jG36bTcpYOulbwikj0KlDX/6LSTpFwyk73I/+MEP3nyTYuuHXEfuo60+Sb+iMf2AZjLaejO7/b/FUf9bSw5pE5v+m0s/J5F+VeqRRx45pT9SmP57S7+Fa/RnW/robgqOKQik+1EKRilQpm/y7f1zE6M79d7XCAC9K+D8BAgQIECAAAECBBoKCAANsZ2KAAECBAgQIECAQG8BAaB3BZyfAAECBAgQIECAQEMBAaAhtlMRIECAAAECBAgQ6C0gAPSugPMTIECAAAECBAgQaCggADTEdioCBAgQIECAAAECvQUEgN4VcH4CBAgQIECAAAECDQUEgIbYTkWAAAECBAgQIECgt4AA0LsCzk+AAAECBAgQIECgoYAA0BDbqQgQIECAAAECBAj0FhAAelfA+QkQIECAAAECBAg0FBAAGmI7FQECBAgQIECAAIHeAgJA7wo4PwECBAgQIECAAIGGAgJAQ2ynIkCAQC+B3bt3TyeeeOL0oQ99aDrnnHOma13rWtMxxxwzPec5z5ludatb7bOsj3/849PjH//4zbFXv/rVpwc84AHTj/3Yj033vve9p/e9733T3e52tz3Hn3rqqdNzn/vc6aMf/ej0ta99bbrtbW87PfOZz5yOPfbYXpfqvAQIECCwg4AAoEUIECAwgMAHPvCB6W1ve9t0xzvecbre9a43ffGLX5xe97rXTe95z3umj33sY9PNb37zjcJ55523CQRp45828te//vWnN73pTdMHP/jB6ROf+MQ+AeD1r3/99NCHPnQ67rjjNv/3yle+8vTKV75yete73rWZVwgYoLFcIgECB6SAAHBAls2iCRAgsEzg0ksvnb7+9a9PRx111OY7+y9+8Ys3Ez7pSU+aXvSiF01nn332dItb3GLPSe55z3tuNvVbbwAuuuii6cgjj5zudKc7bYLF1r80Z3qzcNhhh00f+chHli3SaAIECBBYRUAAWIXVpAQIEIglkD6e84IXvGBK37VPHwf66le/us/mPn3XPv27/e1vP1188cXTWWedtc8FpLcFD3/4w/cEgPTRn7vf/e7TW97yls0bgL3/PfWpT92c64ILLti8SfCPAAECBGIJCACx6mE1BAgQWEXgMY95zPTSl750evKTnzzd9a533fwMwJWudKXpkY985HTNa15zev/73785765du6Yb3/jG03vf+9591vHud797+tEf/dE9AeANb3jD9JCHPOQK1/qpT31q85bAPwIECBCIJSAAxKqH1RAgQGAVgWtf+9qb79S/5jWv2Wf+G93oRptN/1YAuLw3AK997WunRzziEXsCQPo4UPpY0Mknnzzd4Q532O+ab33rW09XucpVVrkekxIgQIBAuYAAUG5nJAECBA4Ygetc5zrT/e9//+kVr3jFnjW/853v3Hz+P70R2AoAc38G4MILL9x8d/+BD3zg9LKXveyAcbBQAgQIEJgmAUAXECBAYACBhz3sYdOb3/zm6XnPe96UvjN/+umnTy984Qs3P6x705vedE8AOPfcczdf3/otQDe4wQ2mN77xjVP6LUKf/OQnp9NOO226y13ushFLP0+Q5k3B4n73u9/mNwZ97nOfm84888zN/335y18+gKxLJECAwIEnIAAceDWzYgIECGQLnH/++dMTn/jE6e1vf/uUvnufflNP+v396Qd207+tNwDp/zv9HYDHPe5xm78DcPjhh0/3ve99N5v+tNlPm/sUELb+pWCQfuD3wx/+8OaHflMIuM1tbrP5geEUCvwjQIAAgXgCAkC8mlgRAQIEwgk86lGP2vw9gC984Qs+1x+uOhZEgACBPAEBIM/L0QQIEDjoBdIfALvhDW843eQmN9m8LXjHO94xvepVr9q8LUhf848AAQIEDmwBAeDArp/VEyBAoLpA+mhQ+q0/n/nMZ6b09wNudrObbX5d6GMf+9jpkEMOqX4+ExIgQIBAWwEBoK23sxEgQIAAAQIECBDoKiAAdOV3cgIECBAgQIAAAQJtBQSAtt7ORoAAAQIECBAgQKCrgADQld/JCRAgQIAAAQIECLQVEADaejsbAQIECBAgQIAAga4CAkBXficnQIAAAQIECBAg0FZAAGjr7WwECBAgQIAAAQIEugoIAF35nZwAAQIECBAgQIBAWwEBoK23sxEgQIAAAQIECBDoKiAAdOV3cgIECBAgQIAAAQJtBQSAtt7ORoAAAQIECBAgQKCrgADQld/JCRAgQIAAAQIECLQVEADaejsbAQIECBAgQIAAga4CAkBXficnQIAAAQIECBAg0FZAAGjr7WwECBAgQIAAAQIEugoc0vXsTk6AAAECBAgQIECAQFMBAaApt5MRIECAAAECBAgQ6Cvw/wGHrNu95aHLhAAAAABJRU5ErkJggg==\" width=\"639.999974568686\">"
      ],
      "text/plain": [
       "<IPython.core.display.HTML object>"
      ]
     },
     "metadata": {},
     "output_type": "display_data"
    },
    {
     "data": {
      "text/plain": [
       "<AxesSubplot:xlabel='age'>"
      ]
     },
     "execution_count": 154,
     "metadata": {},
     "output_type": "execute_result"
    }
   ],
   "source": [
    "sns.boxplot(users_with_true_age[\"age\"].dropna())"
   ]
  }
 ],
 "metadata": {
  "celltoolbar": "幻灯片",
  "kernelspec": {
   "display_name": "Python 3",
   "language": "python",
   "name": "python3"
  },
  "language_info": {
   "codemirror_mode": {
    "name": "ipython",
    "version": 3
   },
   "file_extension": ".py",
   "mimetype": "text/x-python",
   "name": "python",
   "nbconvert_exporter": "python",
   "pygments_lexer": "ipython3",
   "version": "3.10.9"
  }
 },
 "nbformat": 4,
 "nbformat_minor": 4
}
